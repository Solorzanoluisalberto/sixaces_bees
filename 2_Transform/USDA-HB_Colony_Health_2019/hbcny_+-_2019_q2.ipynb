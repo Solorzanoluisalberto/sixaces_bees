{
 "metadata": {
  "language_info": {
   "codemirror_mode": {
    "name": "ipython",
    "version": 3
   },
   "file_extension": ".py",
   "mimetype": "text/x-python",
   "name": "python",
   "nbconvert_exporter": "python",
   "pygments_lexer": "ipython3",
   "version": "3.8.5"
  },
  "orig_nbformat": 2,
  "kernelspec": {
   "name": "python385jvsc74a57bd06e67b620515b60b5e0a41f61aaaaaa0b5713da87d04dedede882ceace4acc361",
   "display_name": "Python 3.8.5 64-bit ('Daniel Ramirez': virtualenv)"
  }
 },
 "nbformat": 4,
 "nbformat_minor": 2,
 "cells": [
  {
   "cell_type": "code",
   "execution_count": 1,
   "metadata": {},
   "outputs": [],
   "source": [
    "## Dependencies and setup\n",
    "import pandas as pd"
   ]
  },
  {
   "cell_type": "code",
   "execution_count": 2,
   "metadata": {},
   "outputs": [],
   "source": [
    "## Load data files\n",
    "hbcny_h_19q2 = \"../../1_Extract/USDA-HB_Colony_Health_2019_and_2020/hbcny_+-_2019_q2_t001.csv\""
   ]
  },
  {
   "cell_type": "code",
   "execution_count": 3,
   "metadata": {},
   "outputs": [],
   "source": [
    "## Read data and store into df\n",
    "## Drop the first 5 rows which hold info text\n",
    "hbcny_h_19q2 = pd.read_csv(hbcny_h_19q2, skiprows=4)"
   ]
  },
  {
   "cell_type": "code",
   "execution_count": 4,
   "metadata": {},
   "outputs": [
    {
     "output_type": "execute_result",
     "data": {
      "text/plain": [
       "    1  h                                              State   April 1  \\\n",
       "0   1  h                                                NaN  colonies   \n",
       "1   1  h                                                NaN       NaN   \n",
       "2   1  h                                                NaN       NaN   \n",
       "3   1  u                                                NaN  (number)   \n",
       "4   1  d                                            Alabama      (NA)   \n",
       ".. .. ..                                                ...       ...   \n",
       "60  1  f  2/ Percent lost is the number of lost colonies...       NaN   \n",
       "61  1  f  3/ Defined as any surviving colony that was re...       NaN   \n",
       "62  1  f  4/ Percent renovated is the number of renovate...       NaN   \n",
       "63  1  f  5/ Includes data for States not published in t...       NaN   \n",
       "64  1  f  6/ Data collection for July 2019 quarterly hon...       NaN   \n",
       "\n",
       "     Unnamed: 4 Unnamed: 5 Unnamed: 6 Unnamed: 7   Unnamed: 8    Unnamed: 9  \n",
       "0       Maximum       Lost    Percent      Added    Renovated       Percent  \n",
       "1   colonies 1/   colonies    lost 2/   colonies  colonies 3/  renovated 4/  \n",
       "2           NaN        NaN        NaN        NaN          NaN           NaN  \n",
       "3      (number)   (number)  (percent)   (number)     (number)     (percent)  \n",
       "4          (NA)       (NA)       (NA)       (NA)         (NA)          (NA)  \n",
       "..          ...        ...        ...        ...          ...           ...  \n",
       "60          NaN        NaN        NaN        NaN          NaN           NaN  \n",
       "61          NaN        NaN        NaN        NaN          NaN           NaN  \n",
       "62          NaN        NaN        NaN        NaN          NaN           NaN  \n",
       "63          NaN        NaN        NaN        NaN          NaN           NaN  \n",
       "64          NaN        NaN        NaN        NaN          NaN           NaN  \n",
       "\n",
       "[65 rows x 10 columns]"
      ],
      "text/html": "<div>\n<style scoped>\n    .dataframe tbody tr th:only-of-type {\n        vertical-align: middle;\n    }\n\n    .dataframe tbody tr th {\n        vertical-align: top;\n    }\n\n    .dataframe thead th {\n        text-align: right;\n    }\n</style>\n<table border=\"1\" class=\"dataframe\">\n  <thead>\n    <tr style=\"text-align: right;\">\n      <th></th>\n      <th>1</th>\n      <th>h</th>\n      <th>State</th>\n      <th>April 1</th>\n      <th>Unnamed: 4</th>\n      <th>Unnamed: 5</th>\n      <th>Unnamed: 6</th>\n      <th>Unnamed: 7</th>\n      <th>Unnamed: 8</th>\n      <th>Unnamed: 9</th>\n    </tr>\n  </thead>\n  <tbody>\n    <tr>\n      <th>0</th>\n      <td>1</td>\n      <td>h</td>\n      <td>NaN</td>\n      <td>colonies</td>\n      <td>Maximum</td>\n      <td>Lost</td>\n      <td>Percent</td>\n      <td>Added</td>\n      <td>Renovated</td>\n      <td>Percent</td>\n    </tr>\n    <tr>\n      <th>1</th>\n      <td>1</td>\n      <td>h</td>\n      <td>NaN</td>\n      <td>NaN</td>\n      <td>colonies 1/</td>\n      <td>colonies</td>\n      <td>lost 2/</td>\n      <td>colonies</td>\n      <td>colonies 3/</td>\n      <td>renovated 4/</td>\n    </tr>\n    <tr>\n      <th>2</th>\n      <td>1</td>\n      <td>h</td>\n      <td>NaN</td>\n      <td>NaN</td>\n      <td>NaN</td>\n      <td>NaN</td>\n      <td>NaN</td>\n      <td>NaN</td>\n      <td>NaN</td>\n      <td>NaN</td>\n    </tr>\n    <tr>\n      <th>3</th>\n      <td>1</td>\n      <td>u</td>\n      <td>NaN</td>\n      <td>(number)</td>\n      <td>(number)</td>\n      <td>(number)</td>\n      <td>(percent)</td>\n      <td>(number)</td>\n      <td>(number)</td>\n      <td>(percent)</td>\n    </tr>\n    <tr>\n      <th>4</th>\n      <td>1</td>\n      <td>d</td>\n      <td>Alabama</td>\n      <td>(NA)</td>\n      <td>(NA)</td>\n      <td>(NA)</td>\n      <td>(NA)</td>\n      <td>(NA)</td>\n      <td>(NA)</td>\n      <td>(NA)</td>\n    </tr>\n    <tr>\n      <th>...</th>\n      <td>...</td>\n      <td>...</td>\n      <td>...</td>\n      <td>...</td>\n      <td>...</td>\n      <td>...</td>\n      <td>...</td>\n      <td>...</td>\n      <td>...</td>\n      <td>...</td>\n    </tr>\n    <tr>\n      <th>60</th>\n      <td>1</td>\n      <td>f</td>\n      <td>2/ Percent lost is the number of lost colonies...</td>\n      <td>NaN</td>\n      <td>NaN</td>\n      <td>NaN</td>\n      <td>NaN</td>\n      <td>NaN</td>\n      <td>NaN</td>\n      <td>NaN</td>\n    </tr>\n    <tr>\n      <th>61</th>\n      <td>1</td>\n      <td>f</td>\n      <td>3/ Defined as any surviving colony that was re...</td>\n      <td>NaN</td>\n      <td>NaN</td>\n      <td>NaN</td>\n      <td>NaN</td>\n      <td>NaN</td>\n      <td>NaN</td>\n      <td>NaN</td>\n    </tr>\n    <tr>\n      <th>62</th>\n      <td>1</td>\n      <td>f</td>\n      <td>4/ Percent renovated is the number of renovate...</td>\n      <td>NaN</td>\n      <td>NaN</td>\n      <td>NaN</td>\n      <td>NaN</td>\n      <td>NaN</td>\n      <td>NaN</td>\n      <td>NaN</td>\n    </tr>\n    <tr>\n      <th>63</th>\n      <td>1</td>\n      <td>f</td>\n      <td>5/ Includes data for States not published in t...</td>\n      <td>NaN</td>\n      <td>NaN</td>\n      <td>NaN</td>\n      <td>NaN</td>\n      <td>NaN</td>\n      <td>NaN</td>\n      <td>NaN</td>\n    </tr>\n    <tr>\n      <th>64</th>\n      <td>1</td>\n      <td>f</td>\n      <td>6/ Data collection for July 2019 quarterly hon...</td>\n      <td>NaN</td>\n      <td>NaN</td>\n      <td>NaN</td>\n      <td>NaN</td>\n      <td>NaN</td>\n      <td>NaN</td>\n      <td>NaN</td>\n    </tr>\n  </tbody>\n</table>\n<p>65 rows × 10 columns</p>\n</div>"
     },
     "metadata": {},
     "execution_count": 4
    }
   ],
   "source": [
    "hbcny_h_19q2"
   ]
  },
  {
   "cell_type": "code",
   "execution_count": 5,
   "metadata": {},
   "outputs": [
    {
     "output_type": "execute_result",
     "data": {
      "text/plain": [
       "     State   April 1   Unnamed: 4 Unnamed: 5 Unnamed: 6 Unnamed: 7  \\\n",
       "0      NaN  colonies      Maximum       Lost    Percent      Added   \n",
       "1      NaN       NaN  colonies 1/   colonies    lost 2/   colonies   \n",
       "2      NaN       NaN          NaN        NaN        NaN        NaN   \n",
       "3      NaN  (number)     (number)   (number)  (percent)   (number)   \n",
       "4  Alabama      (NA)         (NA)       (NA)       (NA)       (NA)   \n",
       "\n",
       "    Unnamed: 8    Unnamed: 9  \n",
       "0    Renovated       Percent  \n",
       "1  colonies 3/  renovated 4/  \n",
       "2          NaN           NaN  \n",
       "3     (number)     (percent)  \n",
       "4         (NA)          (NA)  "
      ],
      "text/html": "<div>\n<style scoped>\n    .dataframe tbody tr th:only-of-type {\n        vertical-align: middle;\n    }\n\n    .dataframe tbody tr th {\n        vertical-align: top;\n    }\n\n    .dataframe thead th {\n        text-align: right;\n    }\n</style>\n<table border=\"1\" class=\"dataframe\">\n  <thead>\n    <tr style=\"text-align: right;\">\n      <th></th>\n      <th>State</th>\n      <th>April 1</th>\n      <th>Unnamed: 4</th>\n      <th>Unnamed: 5</th>\n      <th>Unnamed: 6</th>\n      <th>Unnamed: 7</th>\n      <th>Unnamed: 8</th>\n      <th>Unnamed: 9</th>\n    </tr>\n  </thead>\n  <tbody>\n    <tr>\n      <th>0</th>\n      <td>NaN</td>\n      <td>colonies</td>\n      <td>Maximum</td>\n      <td>Lost</td>\n      <td>Percent</td>\n      <td>Added</td>\n      <td>Renovated</td>\n      <td>Percent</td>\n    </tr>\n    <tr>\n      <th>1</th>\n      <td>NaN</td>\n      <td>NaN</td>\n      <td>colonies 1/</td>\n      <td>colonies</td>\n      <td>lost 2/</td>\n      <td>colonies</td>\n      <td>colonies 3/</td>\n      <td>renovated 4/</td>\n    </tr>\n    <tr>\n      <th>2</th>\n      <td>NaN</td>\n      <td>NaN</td>\n      <td>NaN</td>\n      <td>NaN</td>\n      <td>NaN</td>\n      <td>NaN</td>\n      <td>NaN</td>\n      <td>NaN</td>\n    </tr>\n    <tr>\n      <th>3</th>\n      <td>NaN</td>\n      <td>(number)</td>\n      <td>(number)</td>\n      <td>(number)</td>\n      <td>(percent)</td>\n      <td>(number)</td>\n      <td>(number)</td>\n      <td>(percent)</td>\n    </tr>\n    <tr>\n      <th>4</th>\n      <td>Alabama</td>\n      <td>(NA)</td>\n      <td>(NA)</td>\n      <td>(NA)</td>\n      <td>(NA)</td>\n      <td>(NA)</td>\n      <td>(NA)</td>\n      <td>(NA)</td>\n    </tr>\n  </tbody>\n</table>\n</div>"
     },
     "metadata": {},
     "execution_count": 5
    }
   ],
   "source": [
    "## Drop erroneous first 2 columns\n",
    "hbcny_h_19q2.drop(hbcny_h_19q2.iloc[:, [0, 1]], axis = 1, inplace = True)\n",
    "\n",
    "## Drop erroneous last few rows\n",
    "#hbcny_h_19q2.drop(hbcny_h_19q2.index[56:66])\n",
    "\n",
    "hbcny_h_19q2.head()"
   ]
  },
  {
   "cell_type": "code",
   "execution_count": 6,
   "metadata": {},
   "outputs": [
    {
     "output_type": "execute_result",
     "data": {
      "text/plain": [
       "                                                state num_cny_on_day1_qtr  \\\n",
       "4                                             Alabama                (NA)   \n",
       "5                                             Arizona                (NA)   \n",
       "6                                            Arkansas                (NA)   \n",
       "7                                          California                (NA)   \n",
       "8                                            Colorado                (NA)   \n",
       "..                                                ...                 ...   \n",
       "60  2/ Percent lost is the number of lost colonies...                 NaN   \n",
       "61  3/ Defined as any surviving colony that was re...                 NaN   \n",
       "62  4/ Percent renovated is the number of renovate...                 NaN   \n",
       "63  5/ Includes data for States not published in t...                 NaN   \n",
       "64  6/ Data collection for July 2019 quarterly hon...                 NaN   \n",
       "\n",
       "   max_cny lost_cny pct_lost added_cny renovated_cny pct_renovated  \n",
       "4     (NA)     (NA)     (NA)      (NA)          (NA)          (NA)  \n",
       "5     (NA)     (NA)     (NA)      (NA)          (NA)          (NA)  \n",
       "6     (NA)     (NA)     (NA)      (NA)          (NA)          (NA)  \n",
       "7     (NA)     (NA)     (NA)      (NA)          (NA)          (NA)  \n",
       "8     (NA)     (NA)     (NA)      (NA)          (NA)          (NA)  \n",
       "..     ...      ...      ...       ...           ...           ...  \n",
       "60     NaN      NaN      NaN       NaN           NaN           NaN  \n",
       "61     NaN      NaN      NaN       NaN           NaN           NaN  \n",
       "62     NaN      NaN      NaN       NaN           NaN           NaN  \n",
       "63     NaN      NaN      NaN       NaN           NaN           NaN  \n",
       "64     NaN      NaN      NaN       NaN           NaN           NaN  \n",
       "\n",
       "[61 rows x 8 columns]"
      ],
      "text/html": "<div>\n<style scoped>\n    .dataframe tbody tr th:only-of-type {\n        vertical-align: middle;\n    }\n\n    .dataframe tbody tr th {\n        vertical-align: top;\n    }\n\n    .dataframe thead th {\n        text-align: right;\n    }\n</style>\n<table border=\"1\" class=\"dataframe\">\n  <thead>\n    <tr style=\"text-align: right;\">\n      <th></th>\n      <th>state</th>\n      <th>num_cny_on_day1_qtr</th>\n      <th>max_cny</th>\n      <th>lost_cny</th>\n      <th>pct_lost</th>\n      <th>added_cny</th>\n      <th>renovated_cny</th>\n      <th>pct_renovated</th>\n    </tr>\n  </thead>\n  <tbody>\n    <tr>\n      <th>4</th>\n      <td>Alabama</td>\n      <td>(NA)</td>\n      <td>(NA)</td>\n      <td>(NA)</td>\n      <td>(NA)</td>\n      <td>(NA)</td>\n      <td>(NA)</td>\n      <td>(NA)</td>\n    </tr>\n    <tr>\n      <th>5</th>\n      <td>Arizona</td>\n      <td>(NA)</td>\n      <td>(NA)</td>\n      <td>(NA)</td>\n      <td>(NA)</td>\n      <td>(NA)</td>\n      <td>(NA)</td>\n      <td>(NA)</td>\n    </tr>\n    <tr>\n      <th>6</th>\n      <td>Arkansas</td>\n      <td>(NA)</td>\n      <td>(NA)</td>\n      <td>(NA)</td>\n      <td>(NA)</td>\n      <td>(NA)</td>\n      <td>(NA)</td>\n      <td>(NA)</td>\n    </tr>\n    <tr>\n      <th>7</th>\n      <td>California</td>\n      <td>(NA)</td>\n      <td>(NA)</td>\n      <td>(NA)</td>\n      <td>(NA)</td>\n      <td>(NA)</td>\n      <td>(NA)</td>\n      <td>(NA)</td>\n    </tr>\n    <tr>\n      <th>8</th>\n      <td>Colorado</td>\n      <td>(NA)</td>\n      <td>(NA)</td>\n      <td>(NA)</td>\n      <td>(NA)</td>\n      <td>(NA)</td>\n      <td>(NA)</td>\n      <td>(NA)</td>\n    </tr>\n    <tr>\n      <th>...</th>\n      <td>...</td>\n      <td>...</td>\n      <td>...</td>\n      <td>...</td>\n      <td>...</td>\n      <td>...</td>\n      <td>...</td>\n      <td>...</td>\n    </tr>\n    <tr>\n      <th>60</th>\n      <td>2/ Percent lost is the number of lost colonies...</td>\n      <td>NaN</td>\n      <td>NaN</td>\n      <td>NaN</td>\n      <td>NaN</td>\n      <td>NaN</td>\n      <td>NaN</td>\n      <td>NaN</td>\n    </tr>\n    <tr>\n      <th>61</th>\n      <td>3/ Defined as any surviving colony that was re...</td>\n      <td>NaN</td>\n      <td>NaN</td>\n      <td>NaN</td>\n      <td>NaN</td>\n      <td>NaN</td>\n      <td>NaN</td>\n      <td>NaN</td>\n    </tr>\n    <tr>\n      <th>62</th>\n      <td>4/ Percent renovated is the number of renovate...</td>\n      <td>NaN</td>\n      <td>NaN</td>\n      <td>NaN</td>\n      <td>NaN</td>\n      <td>NaN</td>\n      <td>NaN</td>\n      <td>NaN</td>\n    </tr>\n    <tr>\n      <th>63</th>\n      <td>5/ Includes data for States not published in t...</td>\n      <td>NaN</td>\n      <td>NaN</td>\n      <td>NaN</td>\n      <td>NaN</td>\n      <td>NaN</td>\n      <td>NaN</td>\n      <td>NaN</td>\n    </tr>\n    <tr>\n      <th>64</th>\n      <td>6/ Data collection for July 2019 quarterly hon...</td>\n      <td>NaN</td>\n      <td>NaN</td>\n      <td>NaN</td>\n      <td>NaN</td>\n      <td>NaN</td>\n      <td>NaN</td>\n      <td>NaN</td>\n    </tr>\n  </tbody>\n</table>\n<p>61 rows × 8 columns</p>\n</div>"
     },
     "metadata": {},
     "execution_count": 6
    }
   ],
   "source": [
    "## Rename column with Row [0] text and then drop Rows [0-3]\n",
    "\n",
    "hbcny_h_19q2 = hbcny_h_19q2.rename(columns={\n",
    "    \"State\": \"state\",\n",
    "    \"April 1\": \"num_cny_on_day1_qtr\",\n",
    "    \"Unnamed: 4\": \"max_cny\",\n",
    "    \"Unnamed: 5\": \"lost_cny\",\n",
    "    \"Unnamed: 6\": \"pct_lost\",\n",
    "    \"Unnamed: 7\": \"added_cny\",\n",
    "    \"Unnamed: 8\": \"renovated_cny\",\n",
    "    \"Unnamed: 9\": \"pct_renovated\"})\n",
    "\n",
    "hbcny_h_19q2 = hbcny_h_19q2.drop(range(4))\n",
    "\n",
    "hbcny_h_19q2"
   ]
  },
  {
   "cell_type": "code",
   "execution_count": 7,
   "metadata": {},
   "outputs": [
    {
     "output_type": "execute_result",
     "data": {
      "text/plain": [
       "              state num_cny_on_day1_qtr max_cny lost_cny pct_lost added_cny  \\\n",
       "50    West Virginia                (NA)    (NA)     (NA)     (NA)      (NA)   \n",
       "51        Wisconsin                (NA)    (NA)     (NA)     (NA)      (NA)   \n",
       "52          Wyoming                (NA)    (NA)     (NA)     (NA)      (NA)   \n",
       "54  Other States 5/                (NA)    (NA)     (NA)     (NA)      (NA)   \n",
       "56    United States                (NA)    (NA)     (NA)     (NA)      (NA)   \n",
       "\n",
       "   renovated_cny pct_renovated  \n",
       "50          (NA)          (NA)  \n",
       "51          (NA)          (NA)  \n",
       "52          (NA)          (NA)  \n",
       "54          (NA)          (NA)  \n",
       "56          (NA)          (NA)  "
      ],
      "text/html": "<div>\n<style scoped>\n    .dataframe tbody tr th:only-of-type {\n        vertical-align: middle;\n    }\n\n    .dataframe tbody tr th {\n        vertical-align: top;\n    }\n\n    .dataframe thead th {\n        text-align: right;\n    }\n</style>\n<table border=\"1\" class=\"dataframe\">\n  <thead>\n    <tr style=\"text-align: right;\">\n      <th></th>\n      <th>state</th>\n      <th>num_cny_on_day1_qtr</th>\n      <th>max_cny</th>\n      <th>lost_cny</th>\n      <th>pct_lost</th>\n      <th>added_cny</th>\n      <th>renovated_cny</th>\n      <th>pct_renovated</th>\n    </tr>\n  </thead>\n  <tbody>\n    <tr>\n      <th>50</th>\n      <td>West Virginia</td>\n      <td>(NA)</td>\n      <td>(NA)</td>\n      <td>(NA)</td>\n      <td>(NA)</td>\n      <td>(NA)</td>\n      <td>(NA)</td>\n      <td>(NA)</td>\n    </tr>\n    <tr>\n      <th>51</th>\n      <td>Wisconsin</td>\n      <td>(NA)</td>\n      <td>(NA)</td>\n      <td>(NA)</td>\n      <td>(NA)</td>\n      <td>(NA)</td>\n      <td>(NA)</td>\n      <td>(NA)</td>\n    </tr>\n    <tr>\n      <th>52</th>\n      <td>Wyoming</td>\n      <td>(NA)</td>\n      <td>(NA)</td>\n      <td>(NA)</td>\n      <td>(NA)</td>\n      <td>(NA)</td>\n      <td>(NA)</td>\n      <td>(NA)</td>\n    </tr>\n    <tr>\n      <th>54</th>\n      <td>Other States 5/</td>\n      <td>(NA)</td>\n      <td>(NA)</td>\n      <td>(NA)</td>\n      <td>(NA)</td>\n      <td>(NA)</td>\n      <td>(NA)</td>\n      <td>(NA)</td>\n    </tr>\n    <tr>\n      <th>56</th>\n      <td>United States</td>\n      <td>(NA)</td>\n      <td>(NA)</td>\n      <td>(NA)</td>\n      <td>(NA)</td>\n      <td>(NA)</td>\n      <td>(NA)</td>\n      <td>(NA)</td>\n    </tr>\n  </tbody>\n</table>\n</div>"
     },
     "metadata": {},
     "execution_count": 7
    }
   ],
   "source": [
    "## Drop blank rows\n",
    "hbcny_h_19q2 = hbcny_h_19q2.dropna()\n",
    "hbcny_h_19q2.tail()"
   ]
  },
  {
   "cell_type": "code",
   "execution_count": 8,
   "metadata": {},
   "outputs": [
    {
     "output_type": "stream",
     "name": "stderr",
     "text": [
      "C:\\Users\\Daniel Ramirez\\anaconda3\\lib\\site-packages\\pandas\\core\\indexing.py:670: SettingWithCopyWarning: \nA value is trying to be set on a copy of a slice from a DataFrame\n\nSee the caveats in the documentation: https://pandas.pydata.org/pandas-docs/stable/user_guide/indexing.html#returning-a-view-versus-a-copy\n  iloc._setitem_with_indexer(indexer, value)\n<ipython-input-8-390df0e5ac47>:2: SettingWithCopyWarning: \nA value is trying to be set on a copy of a slice from a DataFrame\n\nSee the caveats in the documentation: https://pandas.pydata.org/pandas-docs/stable/user_guide/indexing.html#returning-a-view-versus-a-copy\n  hbcny_h_19q2.loc[54, \"state\"] = \"Other States\"\n"
     ]
    },
    {
     "output_type": "execute_result",
     "data": {
      "text/plain": [
       "            state num_cny_on_day1_qtr max_cny lost_cny pct_lost added_cny  \\\n",
       "50  West Virginia                (NA)    (NA)     (NA)     (NA)      (NA)   \n",
       "51      Wisconsin                (NA)    (NA)     (NA)     (NA)      (NA)   \n",
       "52        Wyoming                (NA)    (NA)     (NA)     (NA)      (NA)   \n",
       "54   Other States                (NA)    (NA)     (NA)     (NA)      (NA)   \n",
       "56  United States                (NA)    (NA)     (NA)     (NA)      (NA)   \n",
       "\n",
       "   renovated_cny pct_renovated  \n",
       "50          (NA)          (NA)  \n",
       "51          (NA)          (NA)  \n",
       "52          (NA)          (NA)  \n",
       "54          (NA)          (NA)  \n",
       "56          (NA)          (NA)  "
      ],
      "text/html": "<div>\n<style scoped>\n    .dataframe tbody tr th:only-of-type {\n        vertical-align: middle;\n    }\n\n    .dataframe tbody tr th {\n        vertical-align: top;\n    }\n\n    .dataframe thead th {\n        text-align: right;\n    }\n</style>\n<table border=\"1\" class=\"dataframe\">\n  <thead>\n    <tr style=\"text-align: right;\">\n      <th></th>\n      <th>state</th>\n      <th>num_cny_on_day1_qtr</th>\n      <th>max_cny</th>\n      <th>lost_cny</th>\n      <th>pct_lost</th>\n      <th>added_cny</th>\n      <th>renovated_cny</th>\n      <th>pct_renovated</th>\n    </tr>\n  </thead>\n  <tbody>\n    <tr>\n      <th>50</th>\n      <td>West Virginia</td>\n      <td>(NA)</td>\n      <td>(NA)</td>\n      <td>(NA)</td>\n      <td>(NA)</td>\n      <td>(NA)</td>\n      <td>(NA)</td>\n      <td>(NA)</td>\n    </tr>\n    <tr>\n      <th>51</th>\n      <td>Wisconsin</td>\n      <td>(NA)</td>\n      <td>(NA)</td>\n      <td>(NA)</td>\n      <td>(NA)</td>\n      <td>(NA)</td>\n      <td>(NA)</td>\n      <td>(NA)</td>\n    </tr>\n    <tr>\n      <th>52</th>\n      <td>Wyoming</td>\n      <td>(NA)</td>\n      <td>(NA)</td>\n      <td>(NA)</td>\n      <td>(NA)</td>\n      <td>(NA)</td>\n      <td>(NA)</td>\n      <td>(NA)</td>\n    </tr>\n    <tr>\n      <th>54</th>\n      <td>Other States</td>\n      <td>(NA)</td>\n      <td>(NA)</td>\n      <td>(NA)</td>\n      <td>(NA)</td>\n      <td>(NA)</td>\n      <td>(NA)</td>\n      <td>(NA)</td>\n    </tr>\n    <tr>\n      <th>56</th>\n      <td>United States</td>\n      <td>(NA)</td>\n      <td>(NA)</td>\n      <td>(NA)</td>\n      <td>(NA)</td>\n      <td>(NA)</td>\n      <td>(NA)</td>\n      <td>(NA)</td>\n    </tr>\n  </tbody>\n</table>\n</div>"
     },
     "metadata": {},
     "execution_count": 8
    }
   ],
   "source": [
    "## Rename cell \n",
    "hbcny_h_19q2.loc[54, \"state\"] = \"Other States\"\n",
    "hbcny_h_19q2.tail()"
   ]
  },
  {
   "cell_type": "code",
   "execution_count": 9,
   "metadata": {},
   "outputs": [
    {
     "output_type": "execute_result",
     "data": {
      "text/plain": [
       "            state num_cny_on_day1_qtr max_cny lost_cny pct_lost added_cny  \\\n",
       "50  West Virginia                (NA)    (NA)     (NA)     (NA)      (NA)   \n",
       "51      Wisconsin                (NA)    (NA)     (NA)     (NA)      (NA)   \n",
       "52        Wyoming                (NA)    (NA)     (NA)     (NA)      (NA)   \n",
       "54   Other States                (NA)    (NA)     (NA)     (NA)      (NA)   \n",
       "56  United States                (NA)    (NA)     (NA)     (NA)      (NA)   \n",
       "\n",
       "   renovated_cny pct_renovated  \n",
       "50          (NA)          (NA)  \n",
       "51          (NA)          (NA)  \n",
       "52          (NA)          (NA)  \n",
       "54          (NA)          (NA)  \n",
       "56          (NA)          (NA)  "
      ],
      "text/html": "<div>\n<style scoped>\n    .dataframe tbody tr th:only-of-type {\n        vertical-align: middle;\n    }\n\n    .dataframe tbody tr th {\n        vertical-align: top;\n    }\n\n    .dataframe thead th {\n        text-align: right;\n    }\n</style>\n<table border=\"1\" class=\"dataframe\">\n  <thead>\n    <tr style=\"text-align: right;\">\n      <th></th>\n      <th>state</th>\n      <th>num_cny_on_day1_qtr</th>\n      <th>max_cny</th>\n      <th>lost_cny</th>\n      <th>pct_lost</th>\n      <th>added_cny</th>\n      <th>renovated_cny</th>\n      <th>pct_renovated</th>\n    </tr>\n  </thead>\n  <tbody>\n    <tr>\n      <th>50</th>\n      <td>West Virginia</td>\n      <td>(NA)</td>\n      <td>(NA)</td>\n      <td>(NA)</td>\n      <td>(NA)</td>\n      <td>(NA)</td>\n      <td>(NA)</td>\n      <td>(NA)</td>\n    </tr>\n    <tr>\n      <th>51</th>\n      <td>Wisconsin</td>\n      <td>(NA)</td>\n      <td>(NA)</td>\n      <td>(NA)</td>\n      <td>(NA)</td>\n      <td>(NA)</td>\n      <td>(NA)</td>\n      <td>(NA)</td>\n    </tr>\n    <tr>\n      <th>52</th>\n      <td>Wyoming</td>\n      <td>(NA)</td>\n      <td>(NA)</td>\n      <td>(NA)</td>\n      <td>(NA)</td>\n      <td>(NA)</td>\n      <td>(NA)</td>\n      <td>(NA)</td>\n    </tr>\n    <tr>\n      <th>54</th>\n      <td>Other States</td>\n      <td>(NA)</td>\n      <td>(NA)</td>\n      <td>(NA)</td>\n      <td>(NA)</td>\n      <td>(NA)</td>\n      <td>(NA)</td>\n      <td>(NA)</td>\n    </tr>\n    <tr>\n      <th>56</th>\n      <td>United States</td>\n      <td>(NA)</td>\n      <td>(NA)</td>\n      <td>(NA)</td>\n      <td>(NA)</td>\n      <td>(NA)</td>\n      <td>(NA)</td>\n      <td>(NA)</td>\n    </tr>\n  </tbody>\n</table>\n</div>"
     },
     "metadata": {},
     "execution_count": 9
    }
   ],
   "source": [
    "## (Z) defined as:\n",
    "## Less than half of the unit shown (or negligible)\n",
    "## Replace (Z) values with zero\n",
    "hbcny_h_19q2 = hbcny_h_19q2.replace(\"(Z)\", 0)\n",
    "hbcny_h_19q2.tail()"
   ]
  },
  {
   "cell_type": "code",
   "execution_count": 10,
   "metadata": {},
   "outputs": [
    {
     "output_type": "execute_result",
     "data": {
      "text/plain": [
       "             state num_cny_on_day1_qtr max_cny lost_cny pct_lost added_cny  \\\n",
       "4          Alabama                None    None     None     None      None   \n",
       "5          Arizona                None    None     None     None      None   \n",
       "6         Arkansas                None    None     None     None      None   \n",
       "7       California                None    None     None     None      None   \n",
       "8         Colorado                None    None     None     None      None   \n",
       "9      Connecticut                None    None     None     None      None   \n",
       "10         Florida                None    None     None     None      None   \n",
       "11         Georgia                None    None     None     None      None   \n",
       "12          Hawaii                None    None     None     None      None   \n",
       "13           Idaho                None    None     None     None      None   \n",
       "15        Illinois                None    None     None     None      None   \n",
       "16         Indiana                None    None     None     None      None   \n",
       "17            Iowa                None    None     None     None      None   \n",
       "18          Kansas                None    None     None     None      None   \n",
       "19        Kentucky                None    None     None     None      None   \n",
       "20       Louisiana                None    None     None     None      None   \n",
       "21           Maine                None    None     None     None      None   \n",
       "22        Maryland                None    None     None     None      None   \n",
       "23   Massachusetts                None    None     None     None      None   \n",
       "24        Michigan                None    None     None     None      None   \n",
       "26       Minnesota                None    None     None     None      None   \n",
       "27     Mississippi                None    None     None     None      None   \n",
       "28        Missouri                None    None     None     None      None   \n",
       "29         Montana                None    None     None     None      None   \n",
       "30        Nebraska                None    None     None     None      None   \n",
       "31      New Jersey                None    None     None     None      None   \n",
       "32      New Mexico                None    None     None     None      None   \n",
       "33        New York                None    None     None     None      None   \n",
       "34  North Carolina                None    None     None     None      None   \n",
       "35    North Dakota                None    None     None     None      None   \n",
       "37            Ohio                None    None     None     None      None   \n",
       "38        Oklahoma                None    None     None     None      None   \n",
       "39          Oregon                None    None     None     None      None   \n",
       "40    Pennsylvania                None    None     None     None      None   \n",
       "41  South Carolina                None    None     None     None      None   \n",
       "42    South Dakota                None    None     None     None      None   \n",
       "43       Tennessee                None    None     None     None      None   \n",
       "44           Texas                None    None     None     None      None   \n",
       "45            Utah                None    None     None     None      None   \n",
       "46         Vermont                None    None     None     None      None   \n",
       "48        Virginia                None    None     None     None      None   \n",
       "49      Washington                None    None     None     None      None   \n",
       "50   West Virginia                None    None     None     None      None   \n",
       "51       Wisconsin                None    None     None     None      None   \n",
       "52         Wyoming                None    None     None     None      None   \n",
       "54    Other States                None    None     None     None      None   \n",
       "56   United States                None    None     None     None      None   \n",
       "\n",
       "   renovated_cny pct_renovated  \n",
       "4           None          None  \n",
       "5           None          None  \n",
       "6           None          None  \n",
       "7           None          None  \n",
       "8           None          None  \n",
       "9           None          None  \n",
       "10          None          None  \n",
       "11          None          None  \n",
       "12          None          None  \n",
       "13          None          None  \n",
       "15          None          None  \n",
       "16          None          None  \n",
       "17          None          None  \n",
       "18          None          None  \n",
       "19          None          None  \n",
       "20          None          None  \n",
       "21          None          None  \n",
       "22          None          None  \n",
       "23          None          None  \n",
       "24          None          None  \n",
       "26          None          None  \n",
       "27          None          None  \n",
       "28          None          None  \n",
       "29          None          None  \n",
       "30          None          None  \n",
       "31          None          None  \n",
       "32          None          None  \n",
       "33          None          None  \n",
       "34          None          None  \n",
       "35          None          None  \n",
       "37          None          None  \n",
       "38          None          None  \n",
       "39          None          None  \n",
       "40          None          None  \n",
       "41          None          None  \n",
       "42          None          None  \n",
       "43          None          None  \n",
       "44          None          None  \n",
       "45          None          None  \n",
       "46          None          None  \n",
       "48          None          None  \n",
       "49          None          None  \n",
       "50          None          None  \n",
       "51          None          None  \n",
       "52          None          None  \n",
       "54          None          None  \n",
       "56          None          None  "
      ],
      "text/html": "<div>\n<style scoped>\n    .dataframe tbody tr th:only-of-type {\n        vertical-align: middle;\n    }\n\n    .dataframe tbody tr th {\n        vertical-align: top;\n    }\n\n    .dataframe thead th {\n        text-align: right;\n    }\n</style>\n<table border=\"1\" class=\"dataframe\">\n  <thead>\n    <tr style=\"text-align: right;\">\n      <th></th>\n      <th>state</th>\n      <th>num_cny_on_day1_qtr</th>\n      <th>max_cny</th>\n      <th>lost_cny</th>\n      <th>pct_lost</th>\n      <th>added_cny</th>\n      <th>renovated_cny</th>\n      <th>pct_renovated</th>\n    </tr>\n  </thead>\n  <tbody>\n    <tr>\n      <th>4</th>\n      <td>Alabama</td>\n      <td>None</td>\n      <td>None</td>\n      <td>None</td>\n      <td>None</td>\n      <td>None</td>\n      <td>None</td>\n      <td>None</td>\n    </tr>\n    <tr>\n      <th>5</th>\n      <td>Arizona</td>\n      <td>None</td>\n      <td>None</td>\n      <td>None</td>\n      <td>None</td>\n      <td>None</td>\n      <td>None</td>\n      <td>None</td>\n    </tr>\n    <tr>\n      <th>6</th>\n      <td>Arkansas</td>\n      <td>None</td>\n      <td>None</td>\n      <td>None</td>\n      <td>None</td>\n      <td>None</td>\n      <td>None</td>\n      <td>None</td>\n    </tr>\n    <tr>\n      <th>7</th>\n      <td>California</td>\n      <td>None</td>\n      <td>None</td>\n      <td>None</td>\n      <td>None</td>\n      <td>None</td>\n      <td>None</td>\n      <td>None</td>\n    </tr>\n    <tr>\n      <th>8</th>\n      <td>Colorado</td>\n      <td>None</td>\n      <td>None</td>\n      <td>None</td>\n      <td>None</td>\n      <td>None</td>\n      <td>None</td>\n      <td>None</td>\n    </tr>\n    <tr>\n      <th>9</th>\n      <td>Connecticut</td>\n      <td>None</td>\n      <td>None</td>\n      <td>None</td>\n      <td>None</td>\n      <td>None</td>\n      <td>None</td>\n      <td>None</td>\n    </tr>\n    <tr>\n      <th>10</th>\n      <td>Florida</td>\n      <td>None</td>\n      <td>None</td>\n      <td>None</td>\n      <td>None</td>\n      <td>None</td>\n      <td>None</td>\n      <td>None</td>\n    </tr>\n    <tr>\n      <th>11</th>\n      <td>Georgia</td>\n      <td>None</td>\n      <td>None</td>\n      <td>None</td>\n      <td>None</td>\n      <td>None</td>\n      <td>None</td>\n      <td>None</td>\n    </tr>\n    <tr>\n      <th>12</th>\n      <td>Hawaii</td>\n      <td>None</td>\n      <td>None</td>\n      <td>None</td>\n      <td>None</td>\n      <td>None</td>\n      <td>None</td>\n      <td>None</td>\n    </tr>\n    <tr>\n      <th>13</th>\n      <td>Idaho</td>\n      <td>None</td>\n      <td>None</td>\n      <td>None</td>\n      <td>None</td>\n      <td>None</td>\n      <td>None</td>\n      <td>None</td>\n    </tr>\n    <tr>\n      <th>15</th>\n      <td>Illinois</td>\n      <td>None</td>\n      <td>None</td>\n      <td>None</td>\n      <td>None</td>\n      <td>None</td>\n      <td>None</td>\n      <td>None</td>\n    </tr>\n    <tr>\n      <th>16</th>\n      <td>Indiana</td>\n      <td>None</td>\n      <td>None</td>\n      <td>None</td>\n      <td>None</td>\n      <td>None</td>\n      <td>None</td>\n      <td>None</td>\n    </tr>\n    <tr>\n      <th>17</th>\n      <td>Iowa</td>\n      <td>None</td>\n      <td>None</td>\n      <td>None</td>\n      <td>None</td>\n      <td>None</td>\n      <td>None</td>\n      <td>None</td>\n    </tr>\n    <tr>\n      <th>18</th>\n      <td>Kansas</td>\n      <td>None</td>\n      <td>None</td>\n      <td>None</td>\n      <td>None</td>\n      <td>None</td>\n      <td>None</td>\n      <td>None</td>\n    </tr>\n    <tr>\n      <th>19</th>\n      <td>Kentucky</td>\n      <td>None</td>\n      <td>None</td>\n      <td>None</td>\n      <td>None</td>\n      <td>None</td>\n      <td>None</td>\n      <td>None</td>\n    </tr>\n    <tr>\n      <th>20</th>\n      <td>Louisiana</td>\n      <td>None</td>\n      <td>None</td>\n      <td>None</td>\n      <td>None</td>\n      <td>None</td>\n      <td>None</td>\n      <td>None</td>\n    </tr>\n    <tr>\n      <th>21</th>\n      <td>Maine</td>\n      <td>None</td>\n      <td>None</td>\n      <td>None</td>\n      <td>None</td>\n      <td>None</td>\n      <td>None</td>\n      <td>None</td>\n    </tr>\n    <tr>\n      <th>22</th>\n      <td>Maryland</td>\n      <td>None</td>\n      <td>None</td>\n      <td>None</td>\n      <td>None</td>\n      <td>None</td>\n      <td>None</td>\n      <td>None</td>\n    </tr>\n    <tr>\n      <th>23</th>\n      <td>Massachusetts</td>\n      <td>None</td>\n      <td>None</td>\n      <td>None</td>\n      <td>None</td>\n      <td>None</td>\n      <td>None</td>\n      <td>None</td>\n    </tr>\n    <tr>\n      <th>24</th>\n      <td>Michigan</td>\n      <td>None</td>\n      <td>None</td>\n      <td>None</td>\n      <td>None</td>\n      <td>None</td>\n      <td>None</td>\n      <td>None</td>\n    </tr>\n    <tr>\n      <th>26</th>\n      <td>Minnesota</td>\n      <td>None</td>\n      <td>None</td>\n      <td>None</td>\n      <td>None</td>\n      <td>None</td>\n      <td>None</td>\n      <td>None</td>\n    </tr>\n    <tr>\n      <th>27</th>\n      <td>Mississippi</td>\n      <td>None</td>\n      <td>None</td>\n      <td>None</td>\n      <td>None</td>\n      <td>None</td>\n      <td>None</td>\n      <td>None</td>\n    </tr>\n    <tr>\n      <th>28</th>\n      <td>Missouri</td>\n      <td>None</td>\n      <td>None</td>\n      <td>None</td>\n      <td>None</td>\n      <td>None</td>\n      <td>None</td>\n      <td>None</td>\n    </tr>\n    <tr>\n      <th>29</th>\n      <td>Montana</td>\n      <td>None</td>\n      <td>None</td>\n      <td>None</td>\n      <td>None</td>\n      <td>None</td>\n      <td>None</td>\n      <td>None</td>\n    </tr>\n    <tr>\n      <th>30</th>\n      <td>Nebraska</td>\n      <td>None</td>\n      <td>None</td>\n      <td>None</td>\n      <td>None</td>\n      <td>None</td>\n      <td>None</td>\n      <td>None</td>\n    </tr>\n    <tr>\n      <th>31</th>\n      <td>New Jersey</td>\n      <td>None</td>\n      <td>None</td>\n      <td>None</td>\n      <td>None</td>\n      <td>None</td>\n      <td>None</td>\n      <td>None</td>\n    </tr>\n    <tr>\n      <th>32</th>\n      <td>New Mexico</td>\n      <td>None</td>\n      <td>None</td>\n      <td>None</td>\n      <td>None</td>\n      <td>None</td>\n      <td>None</td>\n      <td>None</td>\n    </tr>\n    <tr>\n      <th>33</th>\n      <td>New York</td>\n      <td>None</td>\n      <td>None</td>\n      <td>None</td>\n      <td>None</td>\n      <td>None</td>\n      <td>None</td>\n      <td>None</td>\n    </tr>\n    <tr>\n      <th>34</th>\n      <td>North Carolina</td>\n      <td>None</td>\n      <td>None</td>\n      <td>None</td>\n      <td>None</td>\n      <td>None</td>\n      <td>None</td>\n      <td>None</td>\n    </tr>\n    <tr>\n      <th>35</th>\n      <td>North Dakota</td>\n      <td>None</td>\n      <td>None</td>\n      <td>None</td>\n      <td>None</td>\n      <td>None</td>\n      <td>None</td>\n      <td>None</td>\n    </tr>\n    <tr>\n      <th>37</th>\n      <td>Ohio</td>\n      <td>None</td>\n      <td>None</td>\n      <td>None</td>\n      <td>None</td>\n      <td>None</td>\n      <td>None</td>\n      <td>None</td>\n    </tr>\n    <tr>\n      <th>38</th>\n      <td>Oklahoma</td>\n      <td>None</td>\n      <td>None</td>\n      <td>None</td>\n      <td>None</td>\n      <td>None</td>\n      <td>None</td>\n      <td>None</td>\n    </tr>\n    <tr>\n      <th>39</th>\n      <td>Oregon</td>\n      <td>None</td>\n      <td>None</td>\n      <td>None</td>\n      <td>None</td>\n      <td>None</td>\n      <td>None</td>\n      <td>None</td>\n    </tr>\n    <tr>\n      <th>40</th>\n      <td>Pennsylvania</td>\n      <td>None</td>\n      <td>None</td>\n      <td>None</td>\n      <td>None</td>\n      <td>None</td>\n      <td>None</td>\n      <td>None</td>\n    </tr>\n    <tr>\n      <th>41</th>\n      <td>South Carolina</td>\n      <td>None</td>\n      <td>None</td>\n      <td>None</td>\n      <td>None</td>\n      <td>None</td>\n      <td>None</td>\n      <td>None</td>\n    </tr>\n    <tr>\n      <th>42</th>\n      <td>South Dakota</td>\n      <td>None</td>\n      <td>None</td>\n      <td>None</td>\n      <td>None</td>\n      <td>None</td>\n      <td>None</td>\n      <td>None</td>\n    </tr>\n    <tr>\n      <th>43</th>\n      <td>Tennessee</td>\n      <td>None</td>\n      <td>None</td>\n      <td>None</td>\n      <td>None</td>\n      <td>None</td>\n      <td>None</td>\n      <td>None</td>\n    </tr>\n    <tr>\n      <th>44</th>\n      <td>Texas</td>\n      <td>None</td>\n      <td>None</td>\n      <td>None</td>\n      <td>None</td>\n      <td>None</td>\n      <td>None</td>\n      <td>None</td>\n    </tr>\n    <tr>\n      <th>45</th>\n      <td>Utah</td>\n      <td>None</td>\n      <td>None</td>\n      <td>None</td>\n      <td>None</td>\n      <td>None</td>\n      <td>None</td>\n      <td>None</td>\n    </tr>\n    <tr>\n      <th>46</th>\n      <td>Vermont</td>\n      <td>None</td>\n      <td>None</td>\n      <td>None</td>\n      <td>None</td>\n      <td>None</td>\n      <td>None</td>\n      <td>None</td>\n    </tr>\n    <tr>\n      <th>48</th>\n      <td>Virginia</td>\n      <td>None</td>\n      <td>None</td>\n      <td>None</td>\n      <td>None</td>\n      <td>None</td>\n      <td>None</td>\n      <td>None</td>\n    </tr>\n    <tr>\n      <th>49</th>\n      <td>Washington</td>\n      <td>None</td>\n      <td>None</td>\n      <td>None</td>\n      <td>None</td>\n      <td>None</td>\n      <td>None</td>\n      <td>None</td>\n    </tr>\n    <tr>\n      <th>50</th>\n      <td>West Virginia</td>\n      <td>None</td>\n      <td>None</td>\n      <td>None</td>\n      <td>None</td>\n      <td>None</td>\n      <td>None</td>\n      <td>None</td>\n    </tr>\n    <tr>\n      <th>51</th>\n      <td>Wisconsin</td>\n      <td>None</td>\n      <td>None</td>\n      <td>None</td>\n      <td>None</td>\n      <td>None</td>\n      <td>None</td>\n      <td>None</td>\n    </tr>\n    <tr>\n      <th>52</th>\n      <td>Wyoming</td>\n      <td>None</td>\n      <td>None</td>\n      <td>None</td>\n      <td>None</td>\n      <td>None</td>\n      <td>None</td>\n      <td>None</td>\n    </tr>\n    <tr>\n      <th>54</th>\n      <td>Other States</td>\n      <td>None</td>\n      <td>None</td>\n      <td>None</td>\n      <td>None</td>\n      <td>None</td>\n      <td>None</td>\n      <td>None</td>\n    </tr>\n    <tr>\n      <th>56</th>\n      <td>United States</td>\n      <td>None</td>\n      <td>None</td>\n      <td>None</td>\n      <td>None</td>\n      <td>None</td>\n      <td>None</td>\n      <td>None</td>\n    </tr>\n  </tbody>\n</table>\n</div>"
     },
     "metadata": {},
     "execution_count": 10
    }
   ],
   "source": [
    "## Assume \"-\" equals None\n",
    "## Replace \"-\" values with None\n",
    "hbcny_h_19q2 = hbcny_h_19q2.replace({\"(NA)\": None})\n",
    "hbcny_h_19q2"
   ]
  },
  {
   "cell_type": "code",
   "execution_count": 11,
   "metadata": {},
   "outputs": [
    {
     "output_type": "execute_result",
     "data": {
      "text/plain": [
       "             state num_cny_on_day1_qtr max_cny lost_cny pct_lost added_cny  \\\n",
       "0          Alabama                None    None     None     None      None   \n",
       "1          Arizona                None    None     None     None      None   \n",
       "2         Arkansas                None    None     None     None      None   \n",
       "3       California                None    None     None     None      None   \n",
       "4         Colorado                None    None     None     None      None   \n",
       "5      Connecticut                None    None     None     None      None   \n",
       "6          Florida                None    None     None     None      None   \n",
       "7          Georgia                None    None     None     None      None   \n",
       "8           Hawaii                None    None     None     None      None   \n",
       "9            Idaho                None    None     None     None      None   \n",
       "10        Illinois                None    None     None     None      None   \n",
       "11         Indiana                None    None     None     None      None   \n",
       "12            Iowa                None    None     None     None      None   \n",
       "13          Kansas                None    None     None     None      None   \n",
       "14        Kentucky                None    None     None     None      None   \n",
       "15       Louisiana                None    None     None     None      None   \n",
       "16           Maine                None    None     None     None      None   \n",
       "17        Maryland                None    None     None     None      None   \n",
       "18   Massachusetts                None    None     None     None      None   \n",
       "19        Michigan                None    None     None     None      None   \n",
       "20       Minnesota                None    None     None     None      None   \n",
       "21     Mississippi                None    None     None     None      None   \n",
       "22        Missouri                None    None     None     None      None   \n",
       "23         Montana                None    None     None     None      None   \n",
       "24        Nebraska                None    None     None     None      None   \n",
       "25      New Jersey                None    None     None     None      None   \n",
       "26      New Mexico                None    None     None     None      None   \n",
       "27        New York                None    None     None     None      None   \n",
       "28  North Carolina                None    None     None     None      None   \n",
       "29    North Dakota                None    None     None     None      None   \n",
       "30            Ohio                None    None     None     None      None   \n",
       "31        Oklahoma                None    None     None     None      None   \n",
       "32          Oregon                None    None     None     None      None   \n",
       "33    Pennsylvania                None    None     None     None      None   \n",
       "34  South Carolina                None    None     None     None      None   \n",
       "35    South Dakota                None    None     None     None      None   \n",
       "36       Tennessee                None    None     None     None      None   \n",
       "37           Texas                None    None     None     None      None   \n",
       "38            Utah                None    None     None     None      None   \n",
       "39         Vermont                None    None     None     None      None   \n",
       "40        Virginia                None    None     None     None      None   \n",
       "41      Washington                None    None     None     None      None   \n",
       "42   West Virginia                None    None     None     None      None   \n",
       "43       Wisconsin                None    None     None     None      None   \n",
       "44         Wyoming                None    None     None     None      None   \n",
       "45    Other States                None    None     None     None      None   \n",
       "46   United States                None    None     None     None      None   \n",
       "\n",
       "   renovated_cny pct_renovated  \n",
       "0           None          None  \n",
       "1           None          None  \n",
       "2           None          None  \n",
       "3           None          None  \n",
       "4           None          None  \n",
       "5           None          None  \n",
       "6           None          None  \n",
       "7           None          None  \n",
       "8           None          None  \n",
       "9           None          None  \n",
       "10          None          None  \n",
       "11          None          None  \n",
       "12          None          None  \n",
       "13          None          None  \n",
       "14          None          None  \n",
       "15          None          None  \n",
       "16          None          None  \n",
       "17          None          None  \n",
       "18          None          None  \n",
       "19          None          None  \n",
       "20          None          None  \n",
       "21          None          None  \n",
       "22          None          None  \n",
       "23          None          None  \n",
       "24          None          None  \n",
       "25          None          None  \n",
       "26          None          None  \n",
       "27          None          None  \n",
       "28          None          None  \n",
       "29          None          None  \n",
       "30          None          None  \n",
       "31          None          None  \n",
       "32          None          None  \n",
       "33          None          None  \n",
       "34          None          None  \n",
       "35          None          None  \n",
       "36          None          None  \n",
       "37          None          None  \n",
       "38          None          None  \n",
       "39          None          None  \n",
       "40          None          None  \n",
       "41          None          None  \n",
       "42          None          None  \n",
       "43          None          None  \n",
       "44          None          None  \n",
       "45          None          None  \n",
       "46          None          None  "
      ],
      "text/html": "<div>\n<style scoped>\n    .dataframe tbody tr th:only-of-type {\n        vertical-align: middle;\n    }\n\n    .dataframe tbody tr th {\n        vertical-align: top;\n    }\n\n    .dataframe thead th {\n        text-align: right;\n    }\n</style>\n<table border=\"1\" class=\"dataframe\">\n  <thead>\n    <tr style=\"text-align: right;\">\n      <th></th>\n      <th>state</th>\n      <th>num_cny_on_day1_qtr</th>\n      <th>max_cny</th>\n      <th>lost_cny</th>\n      <th>pct_lost</th>\n      <th>added_cny</th>\n      <th>renovated_cny</th>\n      <th>pct_renovated</th>\n    </tr>\n  </thead>\n  <tbody>\n    <tr>\n      <th>0</th>\n      <td>Alabama</td>\n      <td>None</td>\n      <td>None</td>\n      <td>None</td>\n      <td>None</td>\n      <td>None</td>\n      <td>None</td>\n      <td>None</td>\n    </tr>\n    <tr>\n      <th>1</th>\n      <td>Arizona</td>\n      <td>None</td>\n      <td>None</td>\n      <td>None</td>\n      <td>None</td>\n      <td>None</td>\n      <td>None</td>\n      <td>None</td>\n    </tr>\n    <tr>\n      <th>2</th>\n      <td>Arkansas</td>\n      <td>None</td>\n      <td>None</td>\n      <td>None</td>\n      <td>None</td>\n      <td>None</td>\n      <td>None</td>\n      <td>None</td>\n    </tr>\n    <tr>\n      <th>3</th>\n      <td>California</td>\n      <td>None</td>\n      <td>None</td>\n      <td>None</td>\n      <td>None</td>\n      <td>None</td>\n      <td>None</td>\n      <td>None</td>\n    </tr>\n    <tr>\n      <th>4</th>\n      <td>Colorado</td>\n      <td>None</td>\n      <td>None</td>\n      <td>None</td>\n      <td>None</td>\n      <td>None</td>\n      <td>None</td>\n      <td>None</td>\n    </tr>\n    <tr>\n      <th>5</th>\n      <td>Connecticut</td>\n      <td>None</td>\n      <td>None</td>\n      <td>None</td>\n      <td>None</td>\n      <td>None</td>\n      <td>None</td>\n      <td>None</td>\n    </tr>\n    <tr>\n      <th>6</th>\n      <td>Florida</td>\n      <td>None</td>\n      <td>None</td>\n      <td>None</td>\n      <td>None</td>\n      <td>None</td>\n      <td>None</td>\n      <td>None</td>\n    </tr>\n    <tr>\n      <th>7</th>\n      <td>Georgia</td>\n      <td>None</td>\n      <td>None</td>\n      <td>None</td>\n      <td>None</td>\n      <td>None</td>\n      <td>None</td>\n      <td>None</td>\n    </tr>\n    <tr>\n      <th>8</th>\n      <td>Hawaii</td>\n      <td>None</td>\n      <td>None</td>\n      <td>None</td>\n      <td>None</td>\n      <td>None</td>\n      <td>None</td>\n      <td>None</td>\n    </tr>\n    <tr>\n      <th>9</th>\n      <td>Idaho</td>\n      <td>None</td>\n      <td>None</td>\n      <td>None</td>\n      <td>None</td>\n      <td>None</td>\n      <td>None</td>\n      <td>None</td>\n    </tr>\n    <tr>\n      <th>10</th>\n      <td>Illinois</td>\n      <td>None</td>\n      <td>None</td>\n      <td>None</td>\n      <td>None</td>\n      <td>None</td>\n      <td>None</td>\n      <td>None</td>\n    </tr>\n    <tr>\n      <th>11</th>\n      <td>Indiana</td>\n      <td>None</td>\n      <td>None</td>\n      <td>None</td>\n      <td>None</td>\n      <td>None</td>\n      <td>None</td>\n      <td>None</td>\n    </tr>\n    <tr>\n      <th>12</th>\n      <td>Iowa</td>\n      <td>None</td>\n      <td>None</td>\n      <td>None</td>\n      <td>None</td>\n      <td>None</td>\n      <td>None</td>\n      <td>None</td>\n    </tr>\n    <tr>\n      <th>13</th>\n      <td>Kansas</td>\n      <td>None</td>\n      <td>None</td>\n      <td>None</td>\n      <td>None</td>\n      <td>None</td>\n      <td>None</td>\n      <td>None</td>\n    </tr>\n    <tr>\n      <th>14</th>\n      <td>Kentucky</td>\n      <td>None</td>\n      <td>None</td>\n      <td>None</td>\n      <td>None</td>\n      <td>None</td>\n      <td>None</td>\n      <td>None</td>\n    </tr>\n    <tr>\n      <th>15</th>\n      <td>Louisiana</td>\n      <td>None</td>\n      <td>None</td>\n      <td>None</td>\n      <td>None</td>\n      <td>None</td>\n      <td>None</td>\n      <td>None</td>\n    </tr>\n    <tr>\n      <th>16</th>\n      <td>Maine</td>\n      <td>None</td>\n      <td>None</td>\n      <td>None</td>\n      <td>None</td>\n      <td>None</td>\n      <td>None</td>\n      <td>None</td>\n    </tr>\n    <tr>\n      <th>17</th>\n      <td>Maryland</td>\n      <td>None</td>\n      <td>None</td>\n      <td>None</td>\n      <td>None</td>\n      <td>None</td>\n      <td>None</td>\n      <td>None</td>\n    </tr>\n    <tr>\n      <th>18</th>\n      <td>Massachusetts</td>\n      <td>None</td>\n      <td>None</td>\n      <td>None</td>\n      <td>None</td>\n      <td>None</td>\n      <td>None</td>\n      <td>None</td>\n    </tr>\n    <tr>\n      <th>19</th>\n      <td>Michigan</td>\n      <td>None</td>\n      <td>None</td>\n      <td>None</td>\n      <td>None</td>\n      <td>None</td>\n      <td>None</td>\n      <td>None</td>\n    </tr>\n    <tr>\n      <th>20</th>\n      <td>Minnesota</td>\n      <td>None</td>\n      <td>None</td>\n      <td>None</td>\n      <td>None</td>\n      <td>None</td>\n      <td>None</td>\n      <td>None</td>\n    </tr>\n    <tr>\n      <th>21</th>\n      <td>Mississippi</td>\n      <td>None</td>\n      <td>None</td>\n      <td>None</td>\n      <td>None</td>\n      <td>None</td>\n      <td>None</td>\n      <td>None</td>\n    </tr>\n    <tr>\n      <th>22</th>\n      <td>Missouri</td>\n      <td>None</td>\n      <td>None</td>\n      <td>None</td>\n      <td>None</td>\n      <td>None</td>\n      <td>None</td>\n      <td>None</td>\n    </tr>\n    <tr>\n      <th>23</th>\n      <td>Montana</td>\n      <td>None</td>\n      <td>None</td>\n      <td>None</td>\n      <td>None</td>\n      <td>None</td>\n      <td>None</td>\n      <td>None</td>\n    </tr>\n    <tr>\n      <th>24</th>\n      <td>Nebraska</td>\n      <td>None</td>\n      <td>None</td>\n      <td>None</td>\n      <td>None</td>\n      <td>None</td>\n      <td>None</td>\n      <td>None</td>\n    </tr>\n    <tr>\n      <th>25</th>\n      <td>New Jersey</td>\n      <td>None</td>\n      <td>None</td>\n      <td>None</td>\n      <td>None</td>\n      <td>None</td>\n      <td>None</td>\n      <td>None</td>\n    </tr>\n    <tr>\n      <th>26</th>\n      <td>New Mexico</td>\n      <td>None</td>\n      <td>None</td>\n      <td>None</td>\n      <td>None</td>\n      <td>None</td>\n      <td>None</td>\n      <td>None</td>\n    </tr>\n    <tr>\n      <th>27</th>\n      <td>New York</td>\n      <td>None</td>\n      <td>None</td>\n      <td>None</td>\n      <td>None</td>\n      <td>None</td>\n      <td>None</td>\n      <td>None</td>\n    </tr>\n    <tr>\n      <th>28</th>\n      <td>North Carolina</td>\n      <td>None</td>\n      <td>None</td>\n      <td>None</td>\n      <td>None</td>\n      <td>None</td>\n      <td>None</td>\n      <td>None</td>\n    </tr>\n    <tr>\n      <th>29</th>\n      <td>North Dakota</td>\n      <td>None</td>\n      <td>None</td>\n      <td>None</td>\n      <td>None</td>\n      <td>None</td>\n      <td>None</td>\n      <td>None</td>\n    </tr>\n    <tr>\n      <th>30</th>\n      <td>Ohio</td>\n      <td>None</td>\n      <td>None</td>\n      <td>None</td>\n      <td>None</td>\n      <td>None</td>\n      <td>None</td>\n      <td>None</td>\n    </tr>\n    <tr>\n      <th>31</th>\n      <td>Oklahoma</td>\n      <td>None</td>\n      <td>None</td>\n      <td>None</td>\n      <td>None</td>\n      <td>None</td>\n      <td>None</td>\n      <td>None</td>\n    </tr>\n    <tr>\n      <th>32</th>\n      <td>Oregon</td>\n      <td>None</td>\n      <td>None</td>\n      <td>None</td>\n      <td>None</td>\n      <td>None</td>\n      <td>None</td>\n      <td>None</td>\n    </tr>\n    <tr>\n      <th>33</th>\n      <td>Pennsylvania</td>\n      <td>None</td>\n      <td>None</td>\n      <td>None</td>\n      <td>None</td>\n      <td>None</td>\n      <td>None</td>\n      <td>None</td>\n    </tr>\n    <tr>\n      <th>34</th>\n      <td>South Carolina</td>\n      <td>None</td>\n      <td>None</td>\n      <td>None</td>\n      <td>None</td>\n      <td>None</td>\n      <td>None</td>\n      <td>None</td>\n    </tr>\n    <tr>\n      <th>35</th>\n      <td>South Dakota</td>\n      <td>None</td>\n      <td>None</td>\n      <td>None</td>\n      <td>None</td>\n      <td>None</td>\n      <td>None</td>\n      <td>None</td>\n    </tr>\n    <tr>\n      <th>36</th>\n      <td>Tennessee</td>\n      <td>None</td>\n      <td>None</td>\n      <td>None</td>\n      <td>None</td>\n      <td>None</td>\n      <td>None</td>\n      <td>None</td>\n    </tr>\n    <tr>\n      <th>37</th>\n      <td>Texas</td>\n      <td>None</td>\n      <td>None</td>\n      <td>None</td>\n      <td>None</td>\n      <td>None</td>\n      <td>None</td>\n      <td>None</td>\n    </tr>\n    <tr>\n      <th>38</th>\n      <td>Utah</td>\n      <td>None</td>\n      <td>None</td>\n      <td>None</td>\n      <td>None</td>\n      <td>None</td>\n      <td>None</td>\n      <td>None</td>\n    </tr>\n    <tr>\n      <th>39</th>\n      <td>Vermont</td>\n      <td>None</td>\n      <td>None</td>\n      <td>None</td>\n      <td>None</td>\n      <td>None</td>\n      <td>None</td>\n      <td>None</td>\n    </tr>\n    <tr>\n      <th>40</th>\n      <td>Virginia</td>\n      <td>None</td>\n      <td>None</td>\n      <td>None</td>\n      <td>None</td>\n      <td>None</td>\n      <td>None</td>\n      <td>None</td>\n    </tr>\n    <tr>\n      <th>41</th>\n      <td>Washington</td>\n      <td>None</td>\n      <td>None</td>\n      <td>None</td>\n      <td>None</td>\n      <td>None</td>\n      <td>None</td>\n      <td>None</td>\n    </tr>\n    <tr>\n      <th>42</th>\n      <td>West Virginia</td>\n      <td>None</td>\n      <td>None</td>\n      <td>None</td>\n      <td>None</td>\n      <td>None</td>\n      <td>None</td>\n      <td>None</td>\n    </tr>\n    <tr>\n      <th>43</th>\n      <td>Wisconsin</td>\n      <td>None</td>\n      <td>None</td>\n      <td>None</td>\n      <td>None</td>\n      <td>None</td>\n      <td>None</td>\n      <td>None</td>\n    </tr>\n    <tr>\n      <th>44</th>\n      <td>Wyoming</td>\n      <td>None</td>\n      <td>None</td>\n      <td>None</td>\n      <td>None</td>\n      <td>None</td>\n      <td>None</td>\n      <td>None</td>\n    </tr>\n    <tr>\n      <th>45</th>\n      <td>Other States</td>\n      <td>None</td>\n      <td>None</td>\n      <td>None</td>\n      <td>None</td>\n      <td>None</td>\n      <td>None</td>\n      <td>None</td>\n    </tr>\n    <tr>\n      <th>46</th>\n      <td>United States</td>\n      <td>None</td>\n      <td>None</td>\n      <td>None</td>\n      <td>None</td>\n      <td>None</td>\n      <td>None</td>\n      <td>None</td>\n    </tr>\n  </tbody>\n</table>\n</div>"
     },
     "metadata": {},
     "execution_count": 11
    }
   ],
   "source": [
    "## Reset the index\n",
    "hbcny_h_19q2 = hbcny_h_19q2.reset_index(drop = True)\n",
    "hbcny_h_19q2"
   ]
  },
  {
   "cell_type": "code",
   "execution_count": 12,
   "metadata": {},
   "outputs": [],
   "source": [
    "hbcny_h_19q2.to_csv(\"hbcny_+-_2019_q2.csv\",index=False)"
   ]
  }
 ]
}