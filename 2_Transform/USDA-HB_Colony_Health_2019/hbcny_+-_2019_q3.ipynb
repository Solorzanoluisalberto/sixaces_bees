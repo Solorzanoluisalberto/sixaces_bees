{
 "metadata": {
  "language_info": {
   "codemirror_mode": {
    "name": "ipython",
    "version": 3
   },
   "file_extension": ".py",
   "mimetype": "text/x-python",
   "name": "python",
   "nbconvert_exporter": "python",
   "pygments_lexer": "ipython3",
   "version": "3.8.5"
  },
  "orig_nbformat": 2,
  "kernelspec": {
   "name": "python385jvsc74a57bd06e67b620515b60b5e0a41f61aaaaaa0b5713da87d04dedede882ceace4acc361",
   "display_name": "Python 3.8.5 64-bit ('Daniel Ramirez': virtualenv)"
  }
 },
 "nbformat": 4,
 "nbformat_minor": 2,
 "cells": [
  {
   "cell_type": "code",
   "execution_count": 1,
   "metadata": {},
   "outputs": [],
   "source": [
    "## Dependencies and setup\n",
    "import pandas as pd"
   ]
  },
  {
   "cell_type": "code",
   "execution_count": 2,
   "metadata": {},
   "outputs": [],
   "source": [
    "## Load data files\n",
    "hbcny_h_19q3 = \"../../1_Extract/USDA-HB_Colony_Health_2019_and_2020/hbcny_+-_2019_q3_t007.csv\""
   ]
  },
  {
   "cell_type": "code",
   "execution_count": 3,
   "metadata": {},
   "outputs": [],
   "source": [
    "## Read data and store into df\n",
    "## Drop the first 5 rows which hold info text\n",
    "hbcny_h_19q3 = pd.read_csv(hbcny_h_19q3, skiprows=4)"
   ]
  },
  {
   "cell_type": "code",
   "execution_count": 4,
   "metadata": {},
   "outputs": [
    {
     "output_type": "execute_result",
     "data": {
      "text/plain": [
       "    7  h                                              State    July 1  \\\n",
       "0   7  h                                                NaN  colonies   \n",
       "1   7  h                                                NaN       NaN   \n",
       "2   7  h                                                NaN       NaN   \n",
       "3   7  u                                                NaN  (number)   \n",
       "4   7  d                                            Alabama      7000   \n",
       ".. .. ..                                                ...       ...   \n",
       "59  7  f  1/ July 1 colonies plus all colonies moved int...       NaN   \n",
       "60  7  f  2/ Percent lost is the number of lost colonies...       NaN   \n",
       "61  7  f  3/ Defined as any surviving colony that was re...       NaN   \n",
       "62  7  f  4/ Percent renovated is the number of renovate...       NaN   \n",
       "63  7  f  5/ Includes data for States not published in t...       NaN   \n",
       "\n",
       "     Unnamed: 4 Unnamed: 5 Unnamed: 6 Unnamed: 7   Unnamed: 8    Unnamed: 9  \n",
       "0       Maximum       Lost    Percent      Added    Renovated       Percent  \n",
       "1   colonies 1/   colonies    lost 2/   colonies  colonies 3/  Renovated 4/  \n",
       "2           NaN        NaN        NaN        NaN          NaN           NaN  \n",
       "3      (number)   (number)  (percent)   (number)     (number)     (percent)  \n",
       "4          7000        990         14        160          330             5  \n",
       "..          ...        ...        ...        ...          ...           ...  \n",
       "59          NaN        NaN        NaN        NaN          NaN           NaN  \n",
       "60          NaN        NaN        NaN        NaN          NaN           NaN  \n",
       "61          NaN        NaN        NaN        NaN          NaN           NaN  \n",
       "62          NaN        NaN        NaN        NaN          NaN           NaN  \n",
       "63          NaN        NaN        NaN        NaN          NaN           NaN  \n",
       "\n",
       "[64 rows x 10 columns]"
      ],
      "text/html": "<div>\n<style scoped>\n    .dataframe tbody tr th:only-of-type {\n        vertical-align: middle;\n    }\n\n    .dataframe tbody tr th {\n        vertical-align: top;\n    }\n\n    .dataframe thead th {\n        text-align: right;\n    }\n</style>\n<table border=\"1\" class=\"dataframe\">\n  <thead>\n    <tr style=\"text-align: right;\">\n      <th></th>\n      <th>7</th>\n      <th>h</th>\n      <th>State</th>\n      <th>July 1</th>\n      <th>Unnamed: 4</th>\n      <th>Unnamed: 5</th>\n      <th>Unnamed: 6</th>\n      <th>Unnamed: 7</th>\n      <th>Unnamed: 8</th>\n      <th>Unnamed: 9</th>\n    </tr>\n  </thead>\n  <tbody>\n    <tr>\n      <th>0</th>\n      <td>7</td>\n      <td>h</td>\n      <td>NaN</td>\n      <td>colonies</td>\n      <td>Maximum</td>\n      <td>Lost</td>\n      <td>Percent</td>\n      <td>Added</td>\n      <td>Renovated</td>\n      <td>Percent</td>\n    </tr>\n    <tr>\n      <th>1</th>\n      <td>7</td>\n      <td>h</td>\n      <td>NaN</td>\n      <td>NaN</td>\n      <td>colonies 1/</td>\n      <td>colonies</td>\n      <td>lost 2/</td>\n      <td>colonies</td>\n      <td>colonies 3/</td>\n      <td>Renovated 4/</td>\n    </tr>\n    <tr>\n      <th>2</th>\n      <td>7</td>\n      <td>h</td>\n      <td>NaN</td>\n      <td>NaN</td>\n      <td>NaN</td>\n      <td>NaN</td>\n      <td>NaN</td>\n      <td>NaN</td>\n      <td>NaN</td>\n      <td>NaN</td>\n    </tr>\n    <tr>\n      <th>3</th>\n      <td>7</td>\n      <td>u</td>\n      <td>NaN</td>\n      <td>(number)</td>\n      <td>(number)</td>\n      <td>(number)</td>\n      <td>(percent)</td>\n      <td>(number)</td>\n      <td>(number)</td>\n      <td>(percent)</td>\n    </tr>\n    <tr>\n      <th>4</th>\n      <td>7</td>\n      <td>d</td>\n      <td>Alabama</td>\n      <td>7000</td>\n      <td>7000</td>\n      <td>990</td>\n      <td>14</td>\n      <td>160</td>\n      <td>330</td>\n      <td>5</td>\n    </tr>\n    <tr>\n      <th>...</th>\n      <td>...</td>\n      <td>...</td>\n      <td>...</td>\n      <td>...</td>\n      <td>...</td>\n      <td>...</td>\n      <td>...</td>\n      <td>...</td>\n      <td>...</td>\n      <td>...</td>\n    </tr>\n    <tr>\n      <th>59</th>\n      <td>7</td>\n      <td>f</td>\n      <td>1/ July 1 colonies plus all colonies moved int...</td>\n      <td>NaN</td>\n      <td>NaN</td>\n      <td>NaN</td>\n      <td>NaN</td>\n      <td>NaN</td>\n      <td>NaN</td>\n      <td>NaN</td>\n    </tr>\n    <tr>\n      <th>60</th>\n      <td>7</td>\n      <td>f</td>\n      <td>2/ Percent lost is the number of lost colonies...</td>\n      <td>NaN</td>\n      <td>NaN</td>\n      <td>NaN</td>\n      <td>NaN</td>\n      <td>NaN</td>\n      <td>NaN</td>\n      <td>NaN</td>\n    </tr>\n    <tr>\n      <th>61</th>\n      <td>7</td>\n      <td>f</td>\n      <td>3/ Defined as any surviving colony that was re...</td>\n      <td>NaN</td>\n      <td>NaN</td>\n      <td>NaN</td>\n      <td>NaN</td>\n      <td>NaN</td>\n      <td>NaN</td>\n      <td>NaN</td>\n    </tr>\n    <tr>\n      <th>62</th>\n      <td>7</td>\n      <td>f</td>\n      <td>4/ Percent renovated is the number of renovate...</td>\n      <td>NaN</td>\n      <td>NaN</td>\n      <td>NaN</td>\n      <td>NaN</td>\n      <td>NaN</td>\n      <td>NaN</td>\n      <td>NaN</td>\n    </tr>\n    <tr>\n      <th>63</th>\n      <td>7</td>\n      <td>f</td>\n      <td>5/ Includes data for States not published in t...</td>\n      <td>NaN</td>\n      <td>NaN</td>\n      <td>NaN</td>\n      <td>NaN</td>\n      <td>NaN</td>\n      <td>NaN</td>\n      <td>NaN</td>\n    </tr>\n  </tbody>\n</table>\n<p>64 rows × 10 columns</p>\n</div>"
     },
     "metadata": {},
     "execution_count": 4
    }
   ],
   "source": [
    "#hbcny_h_19q3 = pd.DataFrame(hbcny_h_19q3)\n",
    "hbcny_h_19q3"
   ]
  },
  {
   "cell_type": "code",
   "execution_count": 5,
   "metadata": {},
   "outputs": [
    {
     "output_type": "execute_result",
     "data": {
      "text/plain": [
       "                                                State    July 1   Unnamed: 4  \\\n",
       "0                                                 NaN  colonies      Maximum   \n",
       "1                                                 NaN       NaN  colonies 1/   \n",
       "2                                                 NaN       NaN          NaN   \n",
       "3                                                 NaN  (number)     (number)   \n",
       "4                                             Alabama      7000         7000   \n",
       "..                                                ...       ...          ...   \n",
       "59  1/ July 1 colonies plus all colonies moved int...       NaN          NaN   \n",
       "60  2/ Percent lost is the number of lost colonies...       NaN          NaN   \n",
       "61  3/ Defined as any surviving colony that was re...       NaN          NaN   \n",
       "62  4/ Percent renovated is the number of renovate...       NaN          NaN   \n",
       "63  5/ Includes data for States not published in t...       NaN          NaN   \n",
       "\n",
       "   Unnamed: 5 Unnamed: 6 Unnamed: 7   Unnamed: 8    Unnamed: 9  \n",
       "0        Lost    Percent      Added    Renovated       Percent  \n",
       "1    colonies    lost 2/   colonies  colonies 3/  Renovated 4/  \n",
       "2         NaN        NaN        NaN          NaN           NaN  \n",
       "3    (number)  (percent)   (number)     (number)     (percent)  \n",
       "4         990         14        160          330             5  \n",
       "..        ...        ...        ...          ...           ...  \n",
       "59        NaN        NaN        NaN          NaN           NaN  \n",
       "60        NaN        NaN        NaN          NaN           NaN  \n",
       "61        NaN        NaN        NaN          NaN           NaN  \n",
       "62        NaN        NaN        NaN          NaN           NaN  \n",
       "63        NaN        NaN        NaN          NaN           NaN  \n",
       "\n",
       "[64 rows x 8 columns]"
      ],
      "text/html": "<div>\n<style scoped>\n    .dataframe tbody tr th:only-of-type {\n        vertical-align: middle;\n    }\n\n    .dataframe tbody tr th {\n        vertical-align: top;\n    }\n\n    .dataframe thead th {\n        text-align: right;\n    }\n</style>\n<table border=\"1\" class=\"dataframe\">\n  <thead>\n    <tr style=\"text-align: right;\">\n      <th></th>\n      <th>State</th>\n      <th>July 1</th>\n      <th>Unnamed: 4</th>\n      <th>Unnamed: 5</th>\n      <th>Unnamed: 6</th>\n      <th>Unnamed: 7</th>\n      <th>Unnamed: 8</th>\n      <th>Unnamed: 9</th>\n    </tr>\n  </thead>\n  <tbody>\n    <tr>\n      <th>0</th>\n      <td>NaN</td>\n      <td>colonies</td>\n      <td>Maximum</td>\n      <td>Lost</td>\n      <td>Percent</td>\n      <td>Added</td>\n      <td>Renovated</td>\n      <td>Percent</td>\n    </tr>\n    <tr>\n      <th>1</th>\n      <td>NaN</td>\n      <td>NaN</td>\n      <td>colonies 1/</td>\n      <td>colonies</td>\n      <td>lost 2/</td>\n      <td>colonies</td>\n      <td>colonies 3/</td>\n      <td>Renovated 4/</td>\n    </tr>\n    <tr>\n      <th>2</th>\n      <td>NaN</td>\n      <td>NaN</td>\n      <td>NaN</td>\n      <td>NaN</td>\n      <td>NaN</td>\n      <td>NaN</td>\n      <td>NaN</td>\n      <td>NaN</td>\n    </tr>\n    <tr>\n      <th>3</th>\n      <td>NaN</td>\n      <td>(number)</td>\n      <td>(number)</td>\n      <td>(number)</td>\n      <td>(percent)</td>\n      <td>(number)</td>\n      <td>(number)</td>\n      <td>(percent)</td>\n    </tr>\n    <tr>\n      <th>4</th>\n      <td>Alabama</td>\n      <td>7000</td>\n      <td>7000</td>\n      <td>990</td>\n      <td>14</td>\n      <td>160</td>\n      <td>330</td>\n      <td>5</td>\n    </tr>\n    <tr>\n      <th>...</th>\n      <td>...</td>\n      <td>...</td>\n      <td>...</td>\n      <td>...</td>\n      <td>...</td>\n      <td>...</td>\n      <td>...</td>\n      <td>...</td>\n    </tr>\n    <tr>\n      <th>59</th>\n      <td>1/ July 1 colonies plus all colonies moved int...</td>\n      <td>NaN</td>\n      <td>NaN</td>\n      <td>NaN</td>\n      <td>NaN</td>\n      <td>NaN</td>\n      <td>NaN</td>\n      <td>NaN</td>\n    </tr>\n    <tr>\n      <th>60</th>\n      <td>2/ Percent lost is the number of lost colonies...</td>\n      <td>NaN</td>\n      <td>NaN</td>\n      <td>NaN</td>\n      <td>NaN</td>\n      <td>NaN</td>\n      <td>NaN</td>\n      <td>NaN</td>\n    </tr>\n    <tr>\n      <th>61</th>\n      <td>3/ Defined as any surviving colony that was re...</td>\n      <td>NaN</td>\n      <td>NaN</td>\n      <td>NaN</td>\n      <td>NaN</td>\n      <td>NaN</td>\n      <td>NaN</td>\n      <td>NaN</td>\n    </tr>\n    <tr>\n      <th>62</th>\n      <td>4/ Percent renovated is the number of renovate...</td>\n      <td>NaN</td>\n      <td>NaN</td>\n      <td>NaN</td>\n      <td>NaN</td>\n      <td>NaN</td>\n      <td>NaN</td>\n      <td>NaN</td>\n    </tr>\n    <tr>\n      <th>63</th>\n      <td>5/ Includes data for States not published in t...</td>\n      <td>NaN</td>\n      <td>NaN</td>\n      <td>NaN</td>\n      <td>NaN</td>\n      <td>NaN</td>\n      <td>NaN</td>\n      <td>NaN</td>\n    </tr>\n  </tbody>\n</table>\n<p>64 rows × 8 columns</p>\n</div>"
     },
     "metadata": {},
     "execution_count": 5
    }
   ],
   "source": [
    "## Drop erroneous first 2 columns\n",
    "hbcny_h_19q3.drop(hbcny_h_19q3.iloc[:, [0, 1]], axis = 1, inplace = True)\n",
    "\n",
    "## Drop erroneous last few rows\n",
    "#hbcny_h_19q3.drop(hbcny_h_19q3.index[56:66])\n",
    "\n",
    "hbcny_h_19q3"
   ]
  },
  {
   "cell_type": "code",
   "execution_count": 6,
   "metadata": {},
   "outputs": [
    {
     "output_type": "execute_result",
     "data": {
      "text/plain": [
       "                                                state num_cny_on_day1_qtr  \\\n",
       "4                                             Alabama                7000   \n",
       "5                                             Arizona               26000   \n",
       "6                                            Arkansas               20000   \n",
       "7                                          California              650000   \n",
       "8                                            Colorado               33000   \n",
       "9                                         Connecticut                4400   \n",
       "10                                            Florida              210000   \n",
       "11                                            Georgia              116000   \n",
       "12                                             Hawaii               17000   \n",
       "13                                              Idaho               95000   \n",
       "14                                                NaN                 NaN   \n",
       "15                                           Illinois               13500   \n",
       "16                                            Indiana               14000   \n",
       "17                                               Iowa               30000   \n",
       "18                                             Kansas                7500   \n",
       "19                                           Kentucky                8000   \n",
       "20                                          Louisiana               42000   \n",
       "21                                              Maine               11500   \n",
       "22                                           Maryland                7500   \n",
       "23                                      Massachusetts               13500   \n",
       "24                                           Michigan               94000   \n",
       "25                                                NaN                 NaN   \n",
       "26                                          Minnesota              126000   \n",
       "27                                        Mississippi               23000   \n",
       "28                                           Missouri               10500   \n",
       "29                                            Montana              147000   \n",
       "30                                           Nebraska               40000   \n",
       "31                                         New Jersey               16000   \n",
       "32                                         New Mexico                2400   \n",
       "33                                           New York               65000   \n",
       "34                                     North Carolina               22000   \n",
       "35                                       North Dakota              530000   \n",
       "36                                                NaN                 NaN   \n",
       "37                                               Ohio               19500   \n",
       "38                                           Oklahoma                7500   \n",
       "39                                             Oregon               83000   \n",
       "40                                       Pennsylvania               19000   \n",
       "41                                     South Carolina               14500   \n",
       "42                                       South Dakota              255000   \n",
       "43                                          Tennessee               14000   \n",
       "44                                              Texas              126000   \n",
       "45                                               Utah               24000   \n",
       "46                                            Vermont                7000   \n",
       "47                                                NaN                 NaN   \n",
       "48                                           Virginia                9000   \n",
       "49                                         Washington               85000   \n",
       "50                                      West Virginia               10000   \n",
       "51                                          Wisconsin               63000   \n",
       "52                                            Wyoming               24000   \n",
       "53                                                NaN                 NaN   \n",
       "54                                    Other States 5/               13660   \n",
       "55                                                NaN                 NaN   \n",
       "56                                      United States             3175960   \n",
       "57                                                NaN                 NaN   \n",
       "58                               (X)  Not applicable.                 NaN   \n",
       "59  1/ July 1 colonies plus all colonies moved int...                 NaN   \n",
       "60  2/ Percent lost is the number of lost colonies...                 NaN   \n",
       "61  3/ Defined as any surviving colony that was re...                 NaN   \n",
       "62  4/ Percent renovated is the number of renovate...                 NaN   \n",
       "63  5/ Includes data for States not published in t...                 NaN   \n",
       "\n",
       "   max_cny lost_cny pct_lost added_cny renovated_cny pct_renovated  \n",
       "4     7000      990       14       160           330             5  \n",
       "5    30000     2000        7      5500          3800            13  \n",
       "6    21000     2100       10       170           680             3  \n",
       "7   700000    93000       13     87000        108000            15  \n",
       "8    36000     9500       26      2200          3400             9  \n",
       "9     4400      200        5        70           470            11  \n",
       "10  240000    20000        8     46000         33000            14  \n",
       "11  118000    13000       11     12000         36000            31  \n",
       "12   17000      200        1       200          6000            35  \n",
       "13  111000    10500        9      8500         12500            11  \n",
       "14     NaN      NaN      NaN       NaN           NaN           NaN  \n",
       "15   13500      940        7       460          1300            10  \n",
       "16   16000     1000        6      2200          1500             9  \n",
       "17   33000     3400       10      2000          4800            15  \n",
       "18    7500     1900       25       190           400             5  \n",
       "19    8500      850       10       700           430             5  \n",
       "20   44000     4100        9      4400         13000            30  \n",
       "21   12000     1100        9       460          3500            29  \n",
       "22    7500      790       11       720          1200            16  \n",
       "23   13500     1100        8       800           560             4  \n",
       "24   99000    11000       11      3000          3300             3  \n",
       "25     NaN      NaN      NaN       NaN           NaN           NaN  \n",
       "26  129000    21000       16      5000          2100             2  \n",
       "27   23000     2900       13       550           850             4  \n",
       "28   10500      500        5       260           350             3  \n",
       "29  154000    18500       12      3600         12500             8  \n",
       "30   41000     3700        9       680          1400             3  \n",
       "31   16000      680        4       650          3100            19  \n",
       "32    5500      170        3      1000           550            10  \n",
       "33   69000     8500       12      3200          3700             5  \n",
       "34   22000     2700       12      1800          5000            23  \n",
       "35  530000    81000       15     15000         17500             3  \n",
       "36     NaN      NaN      NaN       NaN           NaN           NaN  \n",
       "37   19500     1600        8      2800          3000            15  \n",
       "38    7500      930       12       130          1100            15  \n",
       "39  118000     8000        7      6000         21000            18  \n",
       "40   20000      980        5      1800          1900            10  \n",
       "41   14500     2200       15      2000          1400            10  \n",
       "42  255000    51000       20      1300          8000             3  \n",
       "43   14000     4500       32      2200          2200            16  \n",
       "44  133000    11000        8      6500          7000             5  \n",
       "45   29000     2800       10      3500          1700             6  \n",
       "46    7000      120        2        80           490             7  \n",
       "47     NaN      NaN      NaN       NaN           NaN           NaN  \n",
       "48    9000      570        6       350           820             9  \n",
       "49   97000    21000       22     12000         10000            10  \n",
       "50   10000     1100       11       200          1100            11  \n",
       "51   63000     6500       10      2400         10000            16  \n",
       "52   27000     3000       11      2500          3500            13  \n",
       "53     NaN      NaN      NaN       NaN           NaN           NaN  \n",
       "54   13900     2080       15       320           900             6  \n",
       "55     NaN      NaN      NaN       NaN           NaN           NaN  \n",
       "56     (X)   434700       14    252550        355330            11  \n",
       "57     NaN      NaN      NaN       NaN           NaN           NaN  \n",
       "58     NaN      NaN      NaN       NaN           NaN           NaN  \n",
       "59     NaN      NaN      NaN       NaN           NaN           NaN  \n",
       "60     NaN      NaN      NaN       NaN           NaN           NaN  \n",
       "61     NaN      NaN      NaN       NaN           NaN           NaN  \n",
       "62     NaN      NaN      NaN       NaN           NaN           NaN  \n",
       "63     NaN      NaN      NaN       NaN           NaN           NaN  "
      ],
      "text/html": "<div>\n<style scoped>\n    .dataframe tbody tr th:only-of-type {\n        vertical-align: middle;\n    }\n\n    .dataframe tbody tr th {\n        vertical-align: top;\n    }\n\n    .dataframe thead th {\n        text-align: right;\n    }\n</style>\n<table border=\"1\" class=\"dataframe\">\n  <thead>\n    <tr style=\"text-align: right;\">\n      <th></th>\n      <th>state</th>\n      <th>num_cny_on_day1_qtr</th>\n      <th>max_cny</th>\n      <th>lost_cny</th>\n      <th>pct_lost</th>\n      <th>added_cny</th>\n      <th>renovated_cny</th>\n      <th>pct_renovated</th>\n    </tr>\n  </thead>\n  <tbody>\n    <tr>\n      <th>4</th>\n      <td>Alabama</td>\n      <td>7000</td>\n      <td>7000</td>\n      <td>990</td>\n      <td>14</td>\n      <td>160</td>\n      <td>330</td>\n      <td>5</td>\n    </tr>\n    <tr>\n      <th>5</th>\n      <td>Arizona</td>\n      <td>26000</td>\n      <td>30000</td>\n      <td>2000</td>\n      <td>7</td>\n      <td>5500</td>\n      <td>3800</td>\n      <td>13</td>\n    </tr>\n    <tr>\n      <th>6</th>\n      <td>Arkansas</td>\n      <td>20000</td>\n      <td>21000</td>\n      <td>2100</td>\n      <td>10</td>\n      <td>170</td>\n      <td>680</td>\n      <td>3</td>\n    </tr>\n    <tr>\n      <th>7</th>\n      <td>California</td>\n      <td>650000</td>\n      <td>700000</td>\n      <td>93000</td>\n      <td>13</td>\n      <td>87000</td>\n      <td>108000</td>\n      <td>15</td>\n    </tr>\n    <tr>\n      <th>8</th>\n      <td>Colorado</td>\n      <td>33000</td>\n      <td>36000</td>\n      <td>9500</td>\n      <td>26</td>\n      <td>2200</td>\n      <td>3400</td>\n      <td>9</td>\n    </tr>\n    <tr>\n      <th>9</th>\n      <td>Connecticut</td>\n      <td>4400</td>\n      <td>4400</td>\n      <td>200</td>\n      <td>5</td>\n      <td>70</td>\n      <td>470</td>\n      <td>11</td>\n    </tr>\n    <tr>\n      <th>10</th>\n      <td>Florida</td>\n      <td>210000</td>\n      <td>240000</td>\n      <td>20000</td>\n      <td>8</td>\n      <td>46000</td>\n      <td>33000</td>\n      <td>14</td>\n    </tr>\n    <tr>\n      <th>11</th>\n      <td>Georgia</td>\n      <td>116000</td>\n      <td>118000</td>\n      <td>13000</td>\n      <td>11</td>\n      <td>12000</td>\n      <td>36000</td>\n      <td>31</td>\n    </tr>\n    <tr>\n      <th>12</th>\n      <td>Hawaii</td>\n      <td>17000</td>\n      <td>17000</td>\n      <td>200</td>\n      <td>1</td>\n      <td>200</td>\n      <td>6000</td>\n      <td>35</td>\n    </tr>\n    <tr>\n      <th>13</th>\n      <td>Idaho</td>\n      <td>95000</td>\n      <td>111000</td>\n      <td>10500</td>\n      <td>9</td>\n      <td>8500</td>\n      <td>12500</td>\n      <td>11</td>\n    </tr>\n    <tr>\n      <th>14</th>\n      <td>NaN</td>\n      <td>NaN</td>\n      <td>NaN</td>\n      <td>NaN</td>\n      <td>NaN</td>\n      <td>NaN</td>\n      <td>NaN</td>\n      <td>NaN</td>\n    </tr>\n    <tr>\n      <th>15</th>\n      <td>Illinois</td>\n      <td>13500</td>\n      <td>13500</td>\n      <td>940</td>\n      <td>7</td>\n      <td>460</td>\n      <td>1300</td>\n      <td>10</td>\n    </tr>\n    <tr>\n      <th>16</th>\n      <td>Indiana</td>\n      <td>14000</td>\n      <td>16000</td>\n      <td>1000</td>\n      <td>6</td>\n      <td>2200</td>\n      <td>1500</td>\n      <td>9</td>\n    </tr>\n    <tr>\n      <th>17</th>\n      <td>Iowa</td>\n      <td>30000</td>\n      <td>33000</td>\n      <td>3400</td>\n      <td>10</td>\n      <td>2000</td>\n      <td>4800</td>\n      <td>15</td>\n    </tr>\n    <tr>\n      <th>18</th>\n      <td>Kansas</td>\n      <td>7500</td>\n      <td>7500</td>\n      <td>1900</td>\n      <td>25</td>\n      <td>190</td>\n      <td>400</td>\n      <td>5</td>\n    </tr>\n    <tr>\n      <th>19</th>\n      <td>Kentucky</td>\n      <td>8000</td>\n      <td>8500</td>\n      <td>850</td>\n      <td>10</td>\n      <td>700</td>\n      <td>430</td>\n      <td>5</td>\n    </tr>\n    <tr>\n      <th>20</th>\n      <td>Louisiana</td>\n      <td>42000</td>\n      <td>44000</td>\n      <td>4100</td>\n      <td>9</td>\n      <td>4400</td>\n      <td>13000</td>\n      <td>30</td>\n    </tr>\n    <tr>\n      <th>21</th>\n      <td>Maine</td>\n      <td>11500</td>\n      <td>12000</td>\n      <td>1100</td>\n      <td>9</td>\n      <td>460</td>\n      <td>3500</td>\n      <td>29</td>\n    </tr>\n    <tr>\n      <th>22</th>\n      <td>Maryland</td>\n      <td>7500</td>\n      <td>7500</td>\n      <td>790</td>\n      <td>11</td>\n      <td>720</td>\n      <td>1200</td>\n      <td>16</td>\n    </tr>\n    <tr>\n      <th>23</th>\n      <td>Massachusetts</td>\n      <td>13500</td>\n      <td>13500</td>\n      <td>1100</td>\n      <td>8</td>\n      <td>800</td>\n      <td>560</td>\n      <td>4</td>\n    </tr>\n    <tr>\n      <th>24</th>\n      <td>Michigan</td>\n      <td>94000</td>\n      <td>99000</td>\n      <td>11000</td>\n      <td>11</td>\n      <td>3000</td>\n      <td>3300</td>\n      <td>3</td>\n    </tr>\n    <tr>\n      <th>25</th>\n      <td>NaN</td>\n      <td>NaN</td>\n      <td>NaN</td>\n      <td>NaN</td>\n      <td>NaN</td>\n      <td>NaN</td>\n      <td>NaN</td>\n      <td>NaN</td>\n    </tr>\n    <tr>\n      <th>26</th>\n      <td>Minnesota</td>\n      <td>126000</td>\n      <td>129000</td>\n      <td>21000</td>\n      <td>16</td>\n      <td>5000</td>\n      <td>2100</td>\n      <td>2</td>\n    </tr>\n    <tr>\n      <th>27</th>\n      <td>Mississippi</td>\n      <td>23000</td>\n      <td>23000</td>\n      <td>2900</td>\n      <td>13</td>\n      <td>550</td>\n      <td>850</td>\n      <td>4</td>\n    </tr>\n    <tr>\n      <th>28</th>\n      <td>Missouri</td>\n      <td>10500</td>\n      <td>10500</td>\n      <td>500</td>\n      <td>5</td>\n      <td>260</td>\n      <td>350</td>\n      <td>3</td>\n    </tr>\n    <tr>\n      <th>29</th>\n      <td>Montana</td>\n      <td>147000</td>\n      <td>154000</td>\n      <td>18500</td>\n      <td>12</td>\n      <td>3600</td>\n      <td>12500</td>\n      <td>8</td>\n    </tr>\n    <tr>\n      <th>30</th>\n      <td>Nebraska</td>\n      <td>40000</td>\n      <td>41000</td>\n      <td>3700</td>\n      <td>9</td>\n      <td>680</td>\n      <td>1400</td>\n      <td>3</td>\n    </tr>\n    <tr>\n      <th>31</th>\n      <td>New Jersey</td>\n      <td>16000</td>\n      <td>16000</td>\n      <td>680</td>\n      <td>4</td>\n      <td>650</td>\n      <td>3100</td>\n      <td>19</td>\n    </tr>\n    <tr>\n      <th>32</th>\n      <td>New Mexico</td>\n      <td>2400</td>\n      <td>5500</td>\n      <td>170</td>\n      <td>3</td>\n      <td>1000</td>\n      <td>550</td>\n      <td>10</td>\n    </tr>\n    <tr>\n      <th>33</th>\n      <td>New York</td>\n      <td>65000</td>\n      <td>69000</td>\n      <td>8500</td>\n      <td>12</td>\n      <td>3200</td>\n      <td>3700</td>\n      <td>5</td>\n    </tr>\n    <tr>\n      <th>34</th>\n      <td>North Carolina</td>\n      <td>22000</td>\n      <td>22000</td>\n      <td>2700</td>\n      <td>12</td>\n      <td>1800</td>\n      <td>5000</td>\n      <td>23</td>\n    </tr>\n    <tr>\n      <th>35</th>\n      <td>North Dakota</td>\n      <td>530000</td>\n      <td>530000</td>\n      <td>81000</td>\n      <td>15</td>\n      <td>15000</td>\n      <td>17500</td>\n      <td>3</td>\n    </tr>\n    <tr>\n      <th>36</th>\n      <td>NaN</td>\n      <td>NaN</td>\n      <td>NaN</td>\n      <td>NaN</td>\n      <td>NaN</td>\n      <td>NaN</td>\n      <td>NaN</td>\n      <td>NaN</td>\n    </tr>\n    <tr>\n      <th>37</th>\n      <td>Ohio</td>\n      <td>19500</td>\n      <td>19500</td>\n      <td>1600</td>\n      <td>8</td>\n      <td>2800</td>\n      <td>3000</td>\n      <td>15</td>\n    </tr>\n    <tr>\n      <th>38</th>\n      <td>Oklahoma</td>\n      <td>7500</td>\n      <td>7500</td>\n      <td>930</td>\n      <td>12</td>\n      <td>130</td>\n      <td>1100</td>\n      <td>15</td>\n    </tr>\n    <tr>\n      <th>39</th>\n      <td>Oregon</td>\n      <td>83000</td>\n      <td>118000</td>\n      <td>8000</td>\n      <td>7</td>\n      <td>6000</td>\n      <td>21000</td>\n      <td>18</td>\n    </tr>\n    <tr>\n      <th>40</th>\n      <td>Pennsylvania</td>\n      <td>19000</td>\n      <td>20000</td>\n      <td>980</td>\n      <td>5</td>\n      <td>1800</td>\n      <td>1900</td>\n      <td>10</td>\n    </tr>\n    <tr>\n      <th>41</th>\n      <td>South Carolina</td>\n      <td>14500</td>\n      <td>14500</td>\n      <td>2200</td>\n      <td>15</td>\n      <td>2000</td>\n      <td>1400</td>\n      <td>10</td>\n    </tr>\n    <tr>\n      <th>42</th>\n      <td>South Dakota</td>\n      <td>255000</td>\n      <td>255000</td>\n      <td>51000</td>\n      <td>20</td>\n      <td>1300</td>\n      <td>8000</td>\n      <td>3</td>\n    </tr>\n    <tr>\n      <th>43</th>\n      <td>Tennessee</td>\n      <td>14000</td>\n      <td>14000</td>\n      <td>4500</td>\n      <td>32</td>\n      <td>2200</td>\n      <td>2200</td>\n      <td>16</td>\n    </tr>\n    <tr>\n      <th>44</th>\n      <td>Texas</td>\n      <td>126000</td>\n      <td>133000</td>\n      <td>11000</td>\n      <td>8</td>\n      <td>6500</td>\n      <td>7000</td>\n      <td>5</td>\n    </tr>\n    <tr>\n      <th>45</th>\n      <td>Utah</td>\n      <td>24000</td>\n      <td>29000</td>\n      <td>2800</td>\n      <td>10</td>\n      <td>3500</td>\n      <td>1700</td>\n      <td>6</td>\n    </tr>\n    <tr>\n      <th>46</th>\n      <td>Vermont</td>\n      <td>7000</td>\n      <td>7000</td>\n      <td>120</td>\n      <td>2</td>\n      <td>80</td>\n      <td>490</td>\n      <td>7</td>\n    </tr>\n    <tr>\n      <th>47</th>\n      <td>NaN</td>\n      <td>NaN</td>\n      <td>NaN</td>\n      <td>NaN</td>\n      <td>NaN</td>\n      <td>NaN</td>\n      <td>NaN</td>\n      <td>NaN</td>\n    </tr>\n    <tr>\n      <th>48</th>\n      <td>Virginia</td>\n      <td>9000</td>\n      <td>9000</td>\n      <td>570</td>\n      <td>6</td>\n      <td>350</td>\n      <td>820</td>\n      <td>9</td>\n    </tr>\n    <tr>\n      <th>49</th>\n      <td>Washington</td>\n      <td>85000</td>\n      <td>97000</td>\n      <td>21000</td>\n      <td>22</td>\n      <td>12000</td>\n      <td>10000</td>\n      <td>10</td>\n    </tr>\n    <tr>\n      <th>50</th>\n      <td>West Virginia</td>\n      <td>10000</td>\n      <td>10000</td>\n      <td>1100</td>\n      <td>11</td>\n      <td>200</td>\n      <td>1100</td>\n      <td>11</td>\n    </tr>\n    <tr>\n      <th>51</th>\n      <td>Wisconsin</td>\n      <td>63000</td>\n      <td>63000</td>\n      <td>6500</td>\n      <td>10</td>\n      <td>2400</td>\n      <td>10000</td>\n      <td>16</td>\n    </tr>\n    <tr>\n      <th>52</th>\n      <td>Wyoming</td>\n      <td>24000</td>\n      <td>27000</td>\n      <td>3000</td>\n      <td>11</td>\n      <td>2500</td>\n      <td>3500</td>\n      <td>13</td>\n    </tr>\n    <tr>\n      <th>53</th>\n      <td>NaN</td>\n      <td>NaN</td>\n      <td>NaN</td>\n      <td>NaN</td>\n      <td>NaN</td>\n      <td>NaN</td>\n      <td>NaN</td>\n      <td>NaN</td>\n    </tr>\n    <tr>\n      <th>54</th>\n      <td>Other States 5/</td>\n      <td>13660</td>\n      <td>13900</td>\n      <td>2080</td>\n      <td>15</td>\n      <td>320</td>\n      <td>900</td>\n      <td>6</td>\n    </tr>\n    <tr>\n      <th>55</th>\n      <td>NaN</td>\n      <td>NaN</td>\n      <td>NaN</td>\n      <td>NaN</td>\n      <td>NaN</td>\n      <td>NaN</td>\n      <td>NaN</td>\n      <td>NaN</td>\n    </tr>\n    <tr>\n      <th>56</th>\n      <td>United States</td>\n      <td>3175960</td>\n      <td>(X)</td>\n      <td>434700</td>\n      <td>14</td>\n      <td>252550</td>\n      <td>355330</td>\n      <td>11</td>\n    </tr>\n    <tr>\n      <th>57</th>\n      <td>NaN</td>\n      <td>NaN</td>\n      <td>NaN</td>\n      <td>NaN</td>\n      <td>NaN</td>\n      <td>NaN</td>\n      <td>NaN</td>\n      <td>NaN</td>\n    </tr>\n    <tr>\n      <th>58</th>\n      <td>(X)  Not applicable.</td>\n      <td>NaN</td>\n      <td>NaN</td>\n      <td>NaN</td>\n      <td>NaN</td>\n      <td>NaN</td>\n      <td>NaN</td>\n      <td>NaN</td>\n    </tr>\n    <tr>\n      <th>59</th>\n      <td>1/ July 1 colonies plus all colonies moved int...</td>\n      <td>NaN</td>\n      <td>NaN</td>\n      <td>NaN</td>\n      <td>NaN</td>\n      <td>NaN</td>\n      <td>NaN</td>\n      <td>NaN</td>\n    </tr>\n    <tr>\n      <th>60</th>\n      <td>2/ Percent lost is the number of lost colonies...</td>\n      <td>NaN</td>\n      <td>NaN</td>\n      <td>NaN</td>\n      <td>NaN</td>\n      <td>NaN</td>\n      <td>NaN</td>\n      <td>NaN</td>\n    </tr>\n    <tr>\n      <th>61</th>\n      <td>3/ Defined as any surviving colony that was re...</td>\n      <td>NaN</td>\n      <td>NaN</td>\n      <td>NaN</td>\n      <td>NaN</td>\n      <td>NaN</td>\n      <td>NaN</td>\n      <td>NaN</td>\n    </tr>\n    <tr>\n      <th>62</th>\n      <td>4/ Percent renovated is the number of renovate...</td>\n      <td>NaN</td>\n      <td>NaN</td>\n      <td>NaN</td>\n      <td>NaN</td>\n      <td>NaN</td>\n      <td>NaN</td>\n      <td>NaN</td>\n    </tr>\n    <tr>\n      <th>63</th>\n      <td>5/ Includes data for States not published in t...</td>\n      <td>NaN</td>\n      <td>NaN</td>\n      <td>NaN</td>\n      <td>NaN</td>\n      <td>NaN</td>\n      <td>NaN</td>\n      <td>NaN</td>\n    </tr>\n  </tbody>\n</table>\n</div>"
     },
     "metadata": {},
     "execution_count": 6
    }
   ],
   "source": [
    "## Rename column with Row [0] text and then drop Rows [0-3]\n",
    "\n",
    "hbcny_h_19q3 = hbcny_h_19q3.rename(columns={\n",
    "    \"State\": \"state\",\n",
    "    \"July 1\": \"num_cny_on_day1_qtr\",\n",
    "    \"Unnamed: 4\": \"max_cny\",\n",
    "    \"Unnamed: 5\": \"lost_cny\",\n",
    "    \"Unnamed: 6\": \"pct_lost\",\n",
    "    \"Unnamed: 7\": \"added_cny\",\n",
    "    \"Unnamed: 8\": \"renovated_cny\",\n",
    "    \"Unnamed: 9\": \"pct_renovated\"})\n",
    "\n",
    "hbcny_h_19q3 = hbcny_h_19q3.drop(range(4))\n",
    "\n",
    "hbcny_h_19q3"
   ]
  },
  {
   "cell_type": "code",
   "execution_count": 7,
   "metadata": {},
   "outputs": [
    {
     "output_type": "execute_result",
     "data": {
      "text/plain": [
       "              state num_cny_on_day1_qtr max_cny lost_cny pct_lost added_cny  \\\n",
       "50    West Virginia               10000   10000     1100       11       200   \n",
       "51        Wisconsin               63000   63000     6500       10      2400   \n",
       "52          Wyoming               24000   27000     3000       11      2500   \n",
       "54  Other States 5/               13660   13900     2080       15       320   \n",
       "56    United States             3175960     (X)   434700       14    252550   \n",
       "\n",
       "   renovated_cny pct_renovated  \n",
       "50          1100            11  \n",
       "51         10000            16  \n",
       "52          3500            13  \n",
       "54           900             6  \n",
       "56        355330            11  "
      ],
      "text/html": "<div>\n<style scoped>\n    .dataframe tbody tr th:only-of-type {\n        vertical-align: middle;\n    }\n\n    .dataframe tbody tr th {\n        vertical-align: top;\n    }\n\n    .dataframe thead th {\n        text-align: right;\n    }\n</style>\n<table border=\"1\" class=\"dataframe\">\n  <thead>\n    <tr style=\"text-align: right;\">\n      <th></th>\n      <th>state</th>\n      <th>num_cny_on_day1_qtr</th>\n      <th>max_cny</th>\n      <th>lost_cny</th>\n      <th>pct_lost</th>\n      <th>added_cny</th>\n      <th>renovated_cny</th>\n      <th>pct_renovated</th>\n    </tr>\n  </thead>\n  <tbody>\n    <tr>\n      <th>50</th>\n      <td>West Virginia</td>\n      <td>10000</td>\n      <td>10000</td>\n      <td>1100</td>\n      <td>11</td>\n      <td>200</td>\n      <td>1100</td>\n      <td>11</td>\n    </tr>\n    <tr>\n      <th>51</th>\n      <td>Wisconsin</td>\n      <td>63000</td>\n      <td>63000</td>\n      <td>6500</td>\n      <td>10</td>\n      <td>2400</td>\n      <td>10000</td>\n      <td>16</td>\n    </tr>\n    <tr>\n      <th>52</th>\n      <td>Wyoming</td>\n      <td>24000</td>\n      <td>27000</td>\n      <td>3000</td>\n      <td>11</td>\n      <td>2500</td>\n      <td>3500</td>\n      <td>13</td>\n    </tr>\n    <tr>\n      <th>54</th>\n      <td>Other States 5/</td>\n      <td>13660</td>\n      <td>13900</td>\n      <td>2080</td>\n      <td>15</td>\n      <td>320</td>\n      <td>900</td>\n      <td>6</td>\n    </tr>\n    <tr>\n      <th>56</th>\n      <td>United States</td>\n      <td>3175960</td>\n      <td>(X)</td>\n      <td>434700</td>\n      <td>14</td>\n      <td>252550</td>\n      <td>355330</td>\n      <td>11</td>\n    </tr>\n  </tbody>\n</table>\n</div>"
     },
     "metadata": {},
     "execution_count": 7
    }
   ],
   "source": [
    "## Drop blank rows\n",
    "hbcny_h_19q3 = hbcny_h_19q3.dropna()\n",
    "hbcny_h_19q3.tail()"
   ]
  },
  {
   "cell_type": "code",
   "execution_count": 8,
   "metadata": {},
   "outputs": [
    {
     "output_type": "stream",
     "name": "stderr",
     "text": [
      "C:\\Users\\Daniel Ramirez\\anaconda3\\lib\\site-packages\\pandas\\core\\indexing.py:670: SettingWithCopyWarning: \nA value is trying to be set on a copy of a slice from a DataFrame\n\nSee the caveats in the documentation: https://pandas.pydata.org/pandas-docs/stable/user_guide/indexing.html#returning-a-view-versus-a-copy\n  iloc._setitem_with_indexer(indexer, value)\n<ipython-input-8-039481cd520b>:2: SettingWithCopyWarning: \nA value is trying to be set on a copy of a slice from a DataFrame\n\nSee the caveats in the documentation: https://pandas.pydata.org/pandas-docs/stable/user_guide/indexing.html#returning-a-view-versus-a-copy\n  hbcny_h_19q3.loc[54, \"state\"] = \"Other States\"\n"
     ]
    },
    {
     "output_type": "execute_result",
     "data": {
      "text/plain": [
       "            state num_cny_on_day1_qtr max_cny lost_cny pct_lost added_cny  \\\n",
       "50  West Virginia               10000   10000     1100       11       200   \n",
       "51      Wisconsin               63000   63000     6500       10      2400   \n",
       "52        Wyoming               24000   27000     3000       11      2500   \n",
       "54   Other States               13660   13900     2080       15       320   \n",
       "56  United States             3175960     (X)   434700       14    252550   \n",
       "\n",
       "   renovated_cny pct_renovated  \n",
       "50          1100            11  \n",
       "51         10000            16  \n",
       "52          3500            13  \n",
       "54           900             6  \n",
       "56        355330            11  "
      ],
      "text/html": "<div>\n<style scoped>\n    .dataframe tbody tr th:only-of-type {\n        vertical-align: middle;\n    }\n\n    .dataframe tbody tr th {\n        vertical-align: top;\n    }\n\n    .dataframe thead th {\n        text-align: right;\n    }\n</style>\n<table border=\"1\" class=\"dataframe\">\n  <thead>\n    <tr style=\"text-align: right;\">\n      <th></th>\n      <th>state</th>\n      <th>num_cny_on_day1_qtr</th>\n      <th>max_cny</th>\n      <th>lost_cny</th>\n      <th>pct_lost</th>\n      <th>added_cny</th>\n      <th>renovated_cny</th>\n      <th>pct_renovated</th>\n    </tr>\n  </thead>\n  <tbody>\n    <tr>\n      <th>50</th>\n      <td>West Virginia</td>\n      <td>10000</td>\n      <td>10000</td>\n      <td>1100</td>\n      <td>11</td>\n      <td>200</td>\n      <td>1100</td>\n      <td>11</td>\n    </tr>\n    <tr>\n      <th>51</th>\n      <td>Wisconsin</td>\n      <td>63000</td>\n      <td>63000</td>\n      <td>6500</td>\n      <td>10</td>\n      <td>2400</td>\n      <td>10000</td>\n      <td>16</td>\n    </tr>\n    <tr>\n      <th>52</th>\n      <td>Wyoming</td>\n      <td>24000</td>\n      <td>27000</td>\n      <td>3000</td>\n      <td>11</td>\n      <td>2500</td>\n      <td>3500</td>\n      <td>13</td>\n    </tr>\n    <tr>\n      <th>54</th>\n      <td>Other States</td>\n      <td>13660</td>\n      <td>13900</td>\n      <td>2080</td>\n      <td>15</td>\n      <td>320</td>\n      <td>900</td>\n      <td>6</td>\n    </tr>\n    <tr>\n      <th>56</th>\n      <td>United States</td>\n      <td>3175960</td>\n      <td>(X)</td>\n      <td>434700</td>\n      <td>14</td>\n      <td>252550</td>\n      <td>355330</td>\n      <td>11</td>\n    </tr>\n  </tbody>\n</table>\n</div>"
     },
     "metadata": {},
     "execution_count": 8
    }
   ],
   "source": [
    "## Rename cell \n",
    "hbcny_h_19q3.loc[54, \"state\"] = \"Other States\"\n",
    "hbcny_h_19q3.tail()"
   ]
  },
  {
   "cell_type": "code",
   "execution_count": 9,
   "metadata": {},
   "outputs": [],
   "source": [
    "## (Z) defined as:\n",
    "## Less than half of the unit shown (or negligible)\n",
    "## Replace (Z) values with zero\n",
    "#hbcny_h_19q3 = hbcny_h_19q3.replace(\"(Z)\", 0)\n",
    "#hbcny_h_19q3.tail()"
   ]
  },
  {
   "cell_type": "code",
   "execution_count": 10,
   "metadata": {},
   "outputs": [],
   "source": [
    "## Assume \"-\" equals None\n",
    "## Replace \"-\" values with None\n",
    "#hbcny_h_19q3 = hbcny_h_19q3.replace({'-': None})\n",
    "#hbcny_h_19q3"
   ]
  },
  {
   "cell_type": "code",
   "execution_count": 11,
   "metadata": {},
   "outputs": [
    {
     "output_type": "execute_result",
     "data": {
      "text/plain": [
       "             state num_cny_on_day1_qtr max_cny lost_cny pct_lost added_cny  \\\n",
       "0          Alabama                7000    7000      990       14       160   \n",
       "1          Arizona               26000   30000     2000        7      5500   \n",
       "2         Arkansas               20000   21000     2100       10       170   \n",
       "3       California              650000  700000    93000       13     87000   \n",
       "4         Colorado               33000   36000     9500       26      2200   \n",
       "5      Connecticut                4400    4400      200        5        70   \n",
       "6          Florida              210000  240000    20000        8     46000   \n",
       "7          Georgia              116000  118000    13000       11     12000   \n",
       "8           Hawaii               17000   17000      200        1       200   \n",
       "9            Idaho               95000  111000    10500        9      8500   \n",
       "10        Illinois               13500   13500      940        7       460   \n",
       "11         Indiana               14000   16000     1000        6      2200   \n",
       "12            Iowa               30000   33000     3400       10      2000   \n",
       "13          Kansas                7500    7500     1900       25       190   \n",
       "14        Kentucky                8000    8500      850       10       700   \n",
       "15       Louisiana               42000   44000     4100        9      4400   \n",
       "16           Maine               11500   12000     1100        9       460   \n",
       "17        Maryland                7500    7500      790       11       720   \n",
       "18   Massachusetts               13500   13500     1100        8       800   \n",
       "19        Michigan               94000   99000    11000       11      3000   \n",
       "20       Minnesota              126000  129000    21000       16      5000   \n",
       "21     Mississippi               23000   23000     2900       13       550   \n",
       "22        Missouri               10500   10500      500        5       260   \n",
       "23         Montana              147000  154000    18500       12      3600   \n",
       "24        Nebraska               40000   41000     3700        9       680   \n",
       "25      New Jersey               16000   16000      680        4       650   \n",
       "26      New Mexico                2400    5500      170        3      1000   \n",
       "27        New York               65000   69000     8500       12      3200   \n",
       "28  North Carolina               22000   22000     2700       12      1800   \n",
       "29    North Dakota              530000  530000    81000       15     15000   \n",
       "30            Ohio               19500   19500     1600        8      2800   \n",
       "31        Oklahoma                7500    7500      930       12       130   \n",
       "32          Oregon               83000  118000     8000        7      6000   \n",
       "33    Pennsylvania               19000   20000      980        5      1800   \n",
       "34  South Carolina               14500   14500     2200       15      2000   \n",
       "35    South Dakota              255000  255000    51000       20      1300   \n",
       "36       Tennessee               14000   14000     4500       32      2200   \n",
       "37           Texas              126000  133000    11000        8      6500   \n",
       "38            Utah               24000   29000     2800       10      3500   \n",
       "39         Vermont                7000    7000      120        2        80   \n",
       "40        Virginia                9000    9000      570        6       350   \n",
       "41      Washington               85000   97000    21000       22     12000   \n",
       "42   West Virginia               10000   10000     1100       11       200   \n",
       "43       Wisconsin               63000   63000     6500       10      2400   \n",
       "44         Wyoming               24000   27000     3000       11      2500   \n",
       "45    Other States               13660   13900     2080       15       320   \n",
       "46   United States             3175960     (X)   434700       14    252550   \n",
       "\n",
       "   renovated_cny pct_renovated  \n",
       "0            330             5  \n",
       "1           3800            13  \n",
       "2            680             3  \n",
       "3         108000            15  \n",
       "4           3400             9  \n",
       "5            470            11  \n",
       "6          33000            14  \n",
       "7          36000            31  \n",
       "8           6000            35  \n",
       "9          12500            11  \n",
       "10          1300            10  \n",
       "11          1500             9  \n",
       "12          4800            15  \n",
       "13           400             5  \n",
       "14           430             5  \n",
       "15         13000            30  \n",
       "16          3500            29  \n",
       "17          1200            16  \n",
       "18           560             4  \n",
       "19          3300             3  \n",
       "20          2100             2  \n",
       "21           850             4  \n",
       "22           350             3  \n",
       "23         12500             8  \n",
       "24          1400             3  \n",
       "25          3100            19  \n",
       "26           550            10  \n",
       "27          3700             5  \n",
       "28          5000            23  \n",
       "29         17500             3  \n",
       "30          3000            15  \n",
       "31          1100            15  \n",
       "32         21000            18  \n",
       "33          1900            10  \n",
       "34          1400            10  \n",
       "35          8000             3  \n",
       "36          2200            16  \n",
       "37          7000             5  \n",
       "38          1700             6  \n",
       "39           490             7  \n",
       "40           820             9  \n",
       "41         10000            10  \n",
       "42          1100            11  \n",
       "43         10000            16  \n",
       "44          3500            13  \n",
       "45           900             6  \n",
       "46        355330            11  "
      ],
      "text/html": "<div>\n<style scoped>\n    .dataframe tbody tr th:only-of-type {\n        vertical-align: middle;\n    }\n\n    .dataframe tbody tr th {\n        vertical-align: top;\n    }\n\n    .dataframe thead th {\n        text-align: right;\n    }\n</style>\n<table border=\"1\" class=\"dataframe\">\n  <thead>\n    <tr style=\"text-align: right;\">\n      <th></th>\n      <th>state</th>\n      <th>num_cny_on_day1_qtr</th>\n      <th>max_cny</th>\n      <th>lost_cny</th>\n      <th>pct_lost</th>\n      <th>added_cny</th>\n      <th>renovated_cny</th>\n      <th>pct_renovated</th>\n    </tr>\n  </thead>\n  <tbody>\n    <tr>\n      <th>0</th>\n      <td>Alabama</td>\n      <td>7000</td>\n      <td>7000</td>\n      <td>990</td>\n      <td>14</td>\n      <td>160</td>\n      <td>330</td>\n      <td>5</td>\n    </tr>\n    <tr>\n      <th>1</th>\n      <td>Arizona</td>\n      <td>26000</td>\n      <td>30000</td>\n      <td>2000</td>\n      <td>7</td>\n      <td>5500</td>\n      <td>3800</td>\n      <td>13</td>\n    </tr>\n    <tr>\n      <th>2</th>\n      <td>Arkansas</td>\n      <td>20000</td>\n      <td>21000</td>\n      <td>2100</td>\n      <td>10</td>\n      <td>170</td>\n      <td>680</td>\n      <td>3</td>\n    </tr>\n    <tr>\n      <th>3</th>\n      <td>California</td>\n      <td>650000</td>\n      <td>700000</td>\n      <td>93000</td>\n      <td>13</td>\n      <td>87000</td>\n      <td>108000</td>\n      <td>15</td>\n    </tr>\n    <tr>\n      <th>4</th>\n      <td>Colorado</td>\n      <td>33000</td>\n      <td>36000</td>\n      <td>9500</td>\n      <td>26</td>\n      <td>2200</td>\n      <td>3400</td>\n      <td>9</td>\n    </tr>\n    <tr>\n      <th>5</th>\n      <td>Connecticut</td>\n      <td>4400</td>\n      <td>4400</td>\n      <td>200</td>\n      <td>5</td>\n      <td>70</td>\n      <td>470</td>\n      <td>11</td>\n    </tr>\n    <tr>\n      <th>6</th>\n      <td>Florida</td>\n      <td>210000</td>\n      <td>240000</td>\n      <td>20000</td>\n      <td>8</td>\n      <td>46000</td>\n      <td>33000</td>\n      <td>14</td>\n    </tr>\n    <tr>\n      <th>7</th>\n      <td>Georgia</td>\n      <td>116000</td>\n      <td>118000</td>\n      <td>13000</td>\n      <td>11</td>\n      <td>12000</td>\n      <td>36000</td>\n      <td>31</td>\n    </tr>\n    <tr>\n      <th>8</th>\n      <td>Hawaii</td>\n      <td>17000</td>\n      <td>17000</td>\n      <td>200</td>\n      <td>1</td>\n      <td>200</td>\n      <td>6000</td>\n      <td>35</td>\n    </tr>\n    <tr>\n      <th>9</th>\n      <td>Idaho</td>\n      <td>95000</td>\n      <td>111000</td>\n      <td>10500</td>\n      <td>9</td>\n      <td>8500</td>\n      <td>12500</td>\n      <td>11</td>\n    </tr>\n    <tr>\n      <th>10</th>\n      <td>Illinois</td>\n      <td>13500</td>\n      <td>13500</td>\n      <td>940</td>\n      <td>7</td>\n      <td>460</td>\n      <td>1300</td>\n      <td>10</td>\n    </tr>\n    <tr>\n      <th>11</th>\n      <td>Indiana</td>\n      <td>14000</td>\n      <td>16000</td>\n      <td>1000</td>\n      <td>6</td>\n      <td>2200</td>\n      <td>1500</td>\n      <td>9</td>\n    </tr>\n    <tr>\n      <th>12</th>\n      <td>Iowa</td>\n      <td>30000</td>\n      <td>33000</td>\n      <td>3400</td>\n      <td>10</td>\n      <td>2000</td>\n      <td>4800</td>\n      <td>15</td>\n    </tr>\n    <tr>\n      <th>13</th>\n      <td>Kansas</td>\n      <td>7500</td>\n      <td>7500</td>\n      <td>1900</td>\n      <td>25</td>\n      <td>190</td>\n      <td>400</td>\n      <td>5</td>\n    </tr>\n    <tr>\n      <th>14</th>\n      <td>Kentucky</td>\n      <td>8000</td>\n      <td>8500</td>\n      <td>850</td>\n      <td>10</td>\n      <td>700</td>\n      <td>430</td>\n      <td>5</td>\n    </tr>\n    <tr>\n      <th>15</th>\n      <td>Louisiana</td>\n      <td>42000</td>\n      <td>44000</td>\n      <td>4100</td>\n      <td>9</td>\n      <td>4400</td>\n      <td>13000</td>\n      <td>30</td>\n    </tr>\n    <tr>\n      <th>16</th>\n      <td>Maine</td>\n      <td>11500</td>\n      <td>12000</td>\n      <td>1100</td>\n      <td>9</td>\n      <td>460</td>\n      <td>3500</td>\n      <td>29</td>\n    </tr>\n    <tr>\n      <th>17</th>\n      <td>Maryland</td>\n      <td>7500</td>\n      <td>7500</td>\n      <td>790</td>\n      <td>11</td>\n      <td>720</td>\n      <td>1200</td>\n      <td>16</td>\n    </tr>\n    <tr>\n      <th>18</th>\n      <td>Massachusetts</td>\n      <td>13500</td>\n      <td>13500</td>\n      <td>1100</td>\n      <td>8</td>\n      <td>800</td>\n      <td>560</td>\n      <td>4</td>\n    </tr>\n    <tr>\n      <th>19</th>\n      <td>Michigan</td>\n      <td>94000</td>\n      <td>99000</td>\n      <td>11000</td>\n      <td>11</td>\n      <td>3000</td>\n      <td>3300</td>\n      <td>3</td>\n    </tr>\n    <tr>\n      <th>20</th>\n      <td>Minnesota</td>\n      <td>126000</td>\n      <td>129000</td>\n      <td>21000</td>\n      <td>16</td>\n      <td>5000</td>\n      <td>2100</td>\n      <td>2</td>\n    </tr>\n    <tr>\n      <th>21</th>\n      <td>Mississippi</td>\n      <td>23000</td>\n      <td>23000</td>\n      <td>2900</td>\n      <td>13</td>\n      <td>550</td>\n      <td>850</td>\n      <td>4</td>\n    </tr>\n    <tr>\n      <th>22</th>\n      <td>Missouri</td>\n      <td>10500</td>\n      <td>10500</td>\n      <td>500</td>\n      <td>5</td>\n      <td>260</td>\n      <td>350</td>\n      <td>3</td>\n    </tr>\n    <tr>\n      <th>23</th>\n      <td>Montana</td>\n      <td>147000</td>\n      <td>154000</td>\n      <td>18500</td>\n      <td>12</td>\n      <td>3600</td>\n      <td>12500</td>\n      <td>8</td>\n    </tr>\n    <tr>\n      <th>24</th>\n      <td>Nebraska</td>\n      <td>40000</td>\n      <td>41000</td>\n      <td>3700</td>\n      <td>9</td>\n      <td>680</td>\n      <td>1400</td>\n      <td>3</td>\n    </tr>\n    <tr>\n      <th>25</th>\n      <td>New Jersey</td>\n      <td>16000</td>\n      <td>16000</td>\n      <td>680</td>\n      <td>4</td>\n      <td>650</td>\n      <td>3100</td>\n      <td>19</td>\n    </tr>\n    <tr>\n      <th>26</th>\n      <td>New Mexico</td>\n      <td>2400</td>\n      <td>5500</td>\n      <td>170</td>\n      <td>3</td>\n      <td>1000</td>\n      <td>550</td>\n      <td>10</td>\n    </tr>\n    <tr>\n      <th>27</th>\n      <td>New York</td>\n      <td>65000</td>\n      <td>69000</td>\n      <td>8500</td>\n      <td>12</td>\n      <td>3200</td>\n      <td>3700</td>\n      <td>5</td>\n    </tr>\n    <tr>\n      <th>28</th>\n      <td>North Carolina</td>\n      <td>22000</td>\n      <td>22000</td>\n      <td>2700</td>\n      <td>12</td>\n      <td>1800</td>\n      <td>5000</td>\n      <td>23</td>\n    </tr>\n    <tr>\n      <th>29</th>\n      <td>North Dakota</td>\n      <td>530000</td>\n      <td>530000</td>\n      <td>81000</td>\n      <td>15</td>\n      <td>15000</td>\n      <td>17500</td>\n      <td>3</td>\n    </tr>\n    <tr>\n      <th>30</th>\n      <td>Ohio</td>\n      <td>19500</td>\n      <td>19500</td>\n      <td>1600</td>\n      <td>8</td>\n      <td>2800</td>\n      <td>3000</td>\n      <td>15</td>\n    </tr>\n    <tr>\n      <th>31</th>\n      <td>Oklahoma</td>\n      <td>7500</td>\n      <td>7500</td>\n      <td>930</td>\n      <td>12</td>\n      <td>130</td>\n      <td>1100</td>\n      <td>15</td>\n    </tr>\n    <tr>\n      <th>32</th>\n      <td>Oregon</td>\n      <td>83000</td>\n      <td>118000</td>\n      <td>8000</td>\n      <td>7</td>\n      <td>6000</td>\n      <td>21000</td>\n      <td>18</td>\n    </tr>\n    <tr>\n      <th>33</th>\n      <td>Pennsylvania</td>\n      <td>19000</td>\n      <td>20000</td>\n      <td>980</td>\n      <td>5</td>\n      <td>1800</td>\n      <td>1900</td>\n      <td>10</td>\n    </tr>\n    <tr>\n      <th>34</th>\n      <td>South Carolina</td>\n      <td>14500</td>\n      <td>14500</td>\n      <td>2200</td>\n      <td>15</td>\n      <td>2000</td>\n      <td>1400</td>\n      <td>10</td>\n    </tr>\n    <tr>\n      <th>35</th>\n      <td>South Dakota</td>\n      <td>255000</td>\n      <td>255000</td>\n      <td>51000</td>\n      <td>20</td>\n      <td>1300</td>\n      <td>8000</td>\n      <td>3</td>\n    </tr>\n    <tr>\n      <th>36</th>\n      <td>Tennessee</td>\n      <td>14000</td>\n      <td>14000</td>\n      <td>4500</td>\n      <td>32</td>\n      <td>2200</td>\n      <td>2200</td>\n      <td>16</td>\n    </tr>\n    <tr>\n      <th>37</th>\n      <td>Texas</td>\n      <td>126000</td>\n      <td>133000</td>\n      <td>11000</td>\n      <td>8</td>\n      <td>6500</td>\n      <td>7000</td>\n      <td>5</td>\n    </tr>\n    <tr>\n      <th>38</th>\n      <td>Utah</td>\n      <td>24000</td>\n      <td>29000</td>\n      <td>2800</td>\n      <td>10</td>\n      <td>3500</td>\n      <td>1700</td>\n      <td>6</td>\n    </tr>\n    <tr>\n      <th>39</th>\n      <td>Vermont</td>\n      <td>7000</td>\n      <td>7000</td>\n      <td>120</td>\n      <td>2</td>\n      <td>80</td>\n      <td>490</td>\n      <td>7</td>\n    </tr>\n    <tr>\n      <th>40</th>\n      <td>Virginia</td>\n      <td>9000</td>\n      <td>9000</td>\n      <td>570</td>\n      <td>6</td>\n      <td>350</td>\n      <td>820</td>\n      <td>9</td>\n    </tr>\n    <tr>\n      <th>41</th>\n      <td>Washington</td>\n      <td>85000</td>\n      <td>97000</td>\n      <td>21000</td>\n      <td>22</td>\n      <td>12000</td>\n      <td>10000</td>\n      <td>10</td>\n    </tr>\n    <tr>\n      <th>42</th>\n      <td>West Virginia</td>\n      <td>10000</td>\n      <td>10000</td>\n      <td>1100</td>\n      <td>11</td>\n      <td>200</td>\n      <td>1100</td>\n      <td>11</td>\n    </tr>\n    <tr>\n      <th>43</th>\n      <td>Wisconsin</td>\n      <td>63000</td>\n      <td>63000</td>\n      <td>6500</td>\n      <td>10</td>\n      <td>2400</td>\n      <td>10000</td>\n      <td>16</td>\n    </tr>\n    <tr>\n      <th>44</th>\n      <td>Wyoming</td>\n      <td>24000</td>\n      <td>27000</td>\n      <td>3000</td>\n      <td>11</td>\n      <td>2500</td>\n      <td>3500</td>\n      <td>13</td>\n    </tr>\n    <tr>\n      <th>45</th>\n      <td>Other States</td>\n      <td>13660</td>\n      <td>13900</td>\n      <td>2080</td>\n      <td>15</td>\n      <td>320</td>\n      <td>900</td>\n      <td>6</td>\n    </tr>\n    <tr>\n      <th>46</th>\n      <td>United States</td>\n      <td>3175960</td>\n      <td>(X)</td>\n      <td>434700</td>\n      <td>14</td>\n      <td>252550</td>\n      <td>355330</td>\n      <td>11</td>\n    </tr>\n  </tbody>\n</table>\n</div>"
     },
     "metadata": {},
     "execution_count": 11
    }
   ],
   "source": [
    "## Reset the index\n",
    "hbcny_h_19q3 = hbcny_h_19q3.reset_index(drop = True)\n",
    "hbcny_h_19q3"
   ]
  },
  {
   "cell_type": "code",
   "execution_count": 12,
   "metadata": {},
   "outputs": [],
   "source": [
    "hbcny_h_19q3.to_csv(\"hbcny_+-_2019_q3.csv\", index=False)"
   ]
  }
 ]
}