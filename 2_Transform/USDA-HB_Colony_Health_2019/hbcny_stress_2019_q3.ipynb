{
 "metadata": {
  "language_info": {
   "codemirror_mode": {
    "name": "ipython",
    "version": 3
   },
   "file_extension": ".py",
   "mimetype": "text/x-python",
   "name": "python",
   "nbconvert_exporter": "python",
   "pygments_lexer": "ipython3",
   "version": "3.8.5"
  },
  "orig_nbformat": 2,
  "kernelspec": {
   "name": "python385jvsc74a57bd06e67b620515b60b5e0a41f61aaaaaa0b5713da87d04dedede882ceace4acc361",
   "display_name": "Python 3.8.5 64-bit ('Daniel Ramirez': virtualenv)"
  }
 },
 "nbformat": 4,
 "nbformat_minor": 2,
 "cells": [
  {
   "cell_type": "code",
   "execution_count": 1,
   "metadata": {},
   "outputs": [],
   "source": [
    "## Dependencies and setup\n",
    "import pandas as pd"
   ]
  },
  {
   "cell_type": "code",
   "execution_count": 2,
   "metadata": {},
   "outputs": [],
   "source": [
    "## Load data files\n",
    "hbcny_s_19q3 = \"../../1_Extract/USDA-HB_Colony_Health_2019_and_2020/hbcny_stress_2019_q3_t009.csv\""
   ]
  },
  {
   "cell_type": "code",
   "execution_count": 3,
   "metadata": {},
   "outputs": [
    {
     "output_type": "execute_result",
     "data": {
      "text/plain": [
       "   9  h Unnamed: 2     Varroa       Other pests   Unnamed: 5  Unnamed: 6  \\\n",
       "0  9  h      State      mites  and parasites 1/  Diseases 2/  Pesticides   \n",
       "1  9  h        NaN        NaN               NaN          NaN         NaN   \n",
       "2  9  u        NaN  (percent)         (percent)    (percent)   (percent)   \n",
       "3  9  d    Alabama       30.6              24.6          2.9         0.2   \n",
       "4  9  d    Arizona       29.0               9.9          2.7        11.4   \n",
       "\n",
       "  Unnamed: 7 Unnamed: 8  \n",
       "0   Other 3/    Unknown  \n",
       "1        NaN        NaN  \n",
       "2  (percent)  (percent)  \n",
       "3        9.7        6.4  \n",
       "4       13.2        0.6  "
      ],
      "text/html": "<div>\n<style scoped>\n    .dataframe tbody tr th:only-of-type {\n        vertical-align: middle;\n    }\n\n    .dataframe tbody tr th {\n        vertical-align: top;\n    }\n\n    .dataframe thead th {\n        text-align: right;\n    }\n</style>\n<table border=\"1\" class=\"dataframe\">\n  <thead>\n    <tr style=\"text-align: right;\">\n      <th></th>\n      <th>9</th>\n      <th>h</th>\n      <th>Unnamed: 2</th>\n      <th>Varroa</th>\n      <th>Other pests</th>\n      <th>Unnamed: 5</th>\n      <th>Unnamed: 6</th>\n      <th>Unnamed: 7</th>\n      <th>Unnamed: 8</th>\n    </tr>\n  </thead>\n  <tbody>\n    <tr>\n      <th>0</th>\n      <td>9</td>\n      <td>h</td>\n      <td>State</td>\n      <td>mites</td>\n      <td>and parasites 1/</td>\n      <td>Diseases 2/</td>\n      <td>Pesticides</td>\n      <td>Other 3/</td>\n      <td>Unknown</td>\n    </tr>\n    <tr>\n      <th>1</th>\n      <td>9</td>\n      <td>h</td>\n      <td>NaN</td>\n      <td>NaN</td>\n      <td>NaN</td>\n      <td>NaN</td>\n      <td>NaN</td>\n      <td>NaN</td>\n      <td>NaN</td>\n    </tr>\n    <tr>\n      <th>2</th>\n      <td>9</td>\n      <td>u</td>\n      <td>NaN</td>\n      <td>(percent)</td>\n      <td>(percent)</td>\n      <td>(percent)</td>\n      <td>(percent)</td>\n      <td>(percent)</td>\n      <td>(percent)</td>\n    </tr>\n    <tr>\n      <th>3</th>\n      <td>9</td>\n      <td>d</td>\n      <td>Alabama</td>\n      <td>30.6</td>\n      <td>24.6</td>\n      <td>2.9</td>\n      <td>0.2</td>\n      <td>9.7</td>\n      <td>6.4</td>\n    </tr>\n    <tr>\n      <th>4</th>\n      <td>9</td>\n      <td>d</td>\n      <td>Arizona</td>\n      <td>29.0</td>\n      <td>9.9</td>\n      <td>2.7</td>\n      <td>11.4</td>\n      <td>13.2</td>\n      <td>0.6</td>\n    </tr>\n  </tbody>\n</table>\n</div>"
     },
     "metadata": {},
     "execution_count": 3
    }
   ],
   "source": [
    "## Read data and store into df\n",
    "## Drop the first 4 rows which hold info text\n",
    "hbcny_s_19q3 = pd.read_csv(hbcny_s_19q3, skiprows=4)\n",
    "hbcny_s_19q3.head()"
   ]
  },
  {
   "cell_type": "code",
   "execution_count": 4,
   "metadata": {},
   "outputs": [
    {
     "output_type": "execute_result",
     "data": {
      "text/plain": [
       "    9  h                                         Unnamed: 2     Varroa  \\\n",
       "0   9  h                                              State      mites   \n",
       "1   9  h                                                NaN        NaN   \n",
       "2   9  u                                                NaN  (percent)   \n",
       "3   9  d                                            Alabama       30.6   \n",
       "4   9  d                                            Arizona       29.0   \n",
       ".. .. ..                                                ...        ...   \n",
       "58  9  f             (Z)  Less than half of the unit shown.        NaN   \n",
       "59  9  f  1/ Tracheal mites, nosema, hive beetle, wax mo...        NaN   \n",
       "60  9  f  2/ Includes American and European foulbrood, c...        NaN   \n",
       "61  9  f  3/ Includes weather, starvation, insufficient ...        NaN   \n",
       "62  9  f  4/ Includes data for States not published in t...        NaN   \n",
       "\n",
       "         Other pests   Unnamed: 5  Unnamed: 6 Unnamed: 7 Unnamed: 8  \n",
       "0   and parasites 1/  Diseases 2/  Pesticides   Other 3/    Unknown  \n",
       "1                NaN          NaN         NaN        NaN        NaN  \n",
       "2          (percent)    (percent)   (percent)  (percent)  (percent)  \n",
       "3               24.6          2.9         0.2        9.7        6.4  \n",
       "4                9.9          2.7        11.4       13.2        0.6  \n",
       "..               ...          ...         ...        ...        ...  \n",
       "58               NaN          NaN         NaN        NaN        NaN  \n",
       "59               NaN          NaN         NaN        NaN        NaN  \n",
       "60               NaN          NaN         NaN        NaN        NaN  \n",
       "61               NaN          NaN         NaN        NaN        NaN  \n",
       "62               NaN          NaN         NaN        NaN        NaN  \n",
       "\n",
       "[63 rows x 9 columns]"
      ],
      "text/html": "<div>\n<style scoped>\n    .dataframe tbody tr th:only-of-type {\n        vertical-align: middle;\n    }\n\n    .dataframe tbody tr th {\n        vertical-align: top;\n    }\n\n    .dataframe thead th {\n        text-align: right;\n    }\n</style>\n<table border=\"1\" class=\"dataframe\">\n  <thead>\n    <tr style=\"text-align: right;\">\n      <th></th>\n      <th>9</th>\n      <th>h</th>\n      <th>Unnamed: 2</th>\n      <th>Varroa</th>\n      <th>Other pests</th>\n      <th>Unnamed: 5</th>\n      <th>Unnamed: 6</th>\n      <th>Unnamed: 7</th>\n      <th>Unnamed: 8</th>\n    </tr>\n  </thead>\n  <tbody>\n    <tr>\n      <th>0</th>\n      <td>9</td>\n      <td>h</td>\n      <td>State</td>\n      <td>mites</td>\n      <td>and parasites 1/</td>\n      <td>Diseases 2/</td>\n      <td>Pesticides</td>\n      <td>Other 3/</td>\n      <td>Unknown</td>\n    </tr>\n    <tr>\n      <th>1</th>\n      <td>9</td>\n      <td>h</td>\n      <td>NaN</td>\n      <td>NaN</td>\n      <td>NaN</td>\n      <td>NaN</td>\n      <td>NaN</td>\n      <td>NaN</td>\n      <td>NaN</td>\n    </tr>\n    <tr>\n      <th>2</th>\n      <td>9</td>\n      <td>u</td>\n      <td>NaN</td>\n      <td>(percent)</td>\n      <td>(percent)</td>\n      <td>(percent)</td>\n      <td>(percent)</td>\n      <td>(percent)</td>\n      <td>(percent)</td>\n    </tr>\n    <tr>\n      <th>3</th>\n      <td>9</td>\n      <td>d</td>\n      <td>Alabama</td>\n      <td>30.6</td>\n      <td>24.6</td>\n      <td>2.9</td>\n      <td>0.2</td>\n      <td>9.7</td>\n      <td>6.4</td>\n    </tr>\n    <tr>\n      <th>4</th>\n      <td>9</td>\n      <td>d</td>\n      <td>Arizona</td>\n      <td>29.0</td>\n      <td>9.9</td>\n      <td>2.7</td>\n      <td>11.4</td>\n      <td>13.2</td>\n      <td>0.6</td>\n    </tr>\n    <tr>\n      <th>...</th>\n      <td>...</td>\n      <td>...</td>\n      <td>...</td>\n      <td>...</td>\n      <td>...</td>\n      <td>...</td>\n      <td>...</td>\n      <td>...</td>\n      <td>...</td>\n    </tr>\n    <tr>\n      <th>58</th>\n      <td>9</td>\n      <td>f</td>\n      <td>(Z)  Less than half of the unit shown.</td>\n      <td>NaN</td>\n      <td>NaN</td>\n      <td>NaN</td>\n      <td>NaN</td>\n      <td>NaN</td>\n      <td>NaN</td>\n    </tr>\n    <tr>\n      <th>59</th>\n      <td>9</td>\n      <td>f</td>\n      <td>1/ Tracheal mites, nosema, hive beetle, wax mo...</td>\n      <td>NaN</td>\n      <td>NaN</td>\n      <td>NaN</td>\n      <td>NaN</td>\n      <td>NaN</td>\n      <td>NaN</td>\n    </tr>\n    <tr>\n      <th>60</th>\n      <td>9</td>\n      <td>f</td>\n      <td>2/ Includes American and European foulbrood, c...</td>\n      <td>NaN</td>\n      <td>NaN</td>\n      <td>NaN</td>\n      <td>NaN</td>\n      <td>NaN</td>\n      <td>NaN</td>\n    </tr>\n    <tr>\n      <th>61</th>\n      <td>9</td>\n      <td>f</td>\n      <td>3/ Includes weather, starvation, insufficient ...</td>\n      <td>NaN</td>\n      <td>NaN</td>\n      <td>NaN</td>\n      <td>NaN</td>\n      <td>NaN</td>\n      <td>NaN</td>\n    </tr>\n    <tr>\n      <th>62</th>\n      <td>9</td>\n      <td>f</td>\n      <td>4/ Includes data for States not published in t...</td>\n      <td>NaN</td>\n      <td>NaN</td>\n      <td>NaN</td>\n      <td>NaN</td>\n      <td>NaN</td>\n      <td>NaN</td>\n    </tr>\n  </tbody>\n</table>\n<p>63 rows × 9 columns</p>\n</div>"
     },
     "metadata": {},
     "execution_count": 4
    }
   ],
   "source": [
    "hbcny_s_19q3 = pd.DataFrame(hbcny_s_19q3)\n",
    "hbcny_s_19q3"
   ]
  },
  {
   "cell_type": "code",
   "execution_count": 5,
   "metadata": {},
   "outputs": [
    {
     "output_type": "execute_result",
     "data": {
      "text/plain": [
       "  Unnamed: 2     Varroa       Other pests   Unnamed: 5  Unnamed: 6 Unnamed: 7  \\\n",
       "0      State      mites  and parasites 1/  Diseases 2/  Pesticides   Other 3/   \n",
       "1        NaN        NaN               NaN          NaN         NaN        NaN   \n",
       "2        NaN  (percent)         (percent)    (percent)   (percent)  (percent)   \n",
       "3    Alabama       30.6              24.6          2.9         0.2        9.7   \n",
       "4    Arizona       29.0               9.9          2.7        11.4       13.2   \n",
       "\n",
       "  Unnamed: 8  \n",
       "0    Unknown  \n",
       "1        NaN  \n",
       "2  (percent)  \n",
       "3        6.4  \n",
       "4        0.6  "
      ],
      "text/html": "<div>\n<style scoped>\n    .dataframe tbody tr th:only-of-type {\n        vertical-align: middle;\n    }\n\n    .dataframe tbody tr th {\n        vertical-align: top;\n    }\n\n    .dataframe thead th {\n        text-align: right;\n    }\n</style>\n<table border=\"1\" class=\"dataframe\">\n  <thead>\n    <tr style=\"text-align: right;\">\n      <th></th>\n      <th>Unnamed: 2</th>\n      <th>Varroa</th>\n      <th>Other pests</th>\n      <th>Unnamed: 5</th>\n      <th>Unnamed: 6</th>\n      <th>Unnamed: 7</th>\n      <th>Unnamed: 8</th>\n    </tr>\n  </thead>\n  <tbody>\n    <tr>\n      <th>0</th>\n      <td>State</td>\n      <td>mites</td>\n      <td>and parasites 1/</td>\n      <td>Diseases 2/</td>\n      <td>Pesticides</td>\n      <td>Other 3/</td>\n      <td>Unknown</td>\n    </tr>\n    <tr>\n      <th>1</th>\n      <td>NaN</td>\n      <td>NaN</td>\n      <td>NaN</td>\n      <td>NaN</td>\n      <td>NaN</td>\n      <td>NaN</td>\n      <td>NaN</td>\n    </tr>\n    <tr>\n      <th>2</th>\n      <td>NaN</td>\n      <td>(percent)</td>\n      <td>(percent)</td>\n      <td>(percent)</td>\n      <td>(percent)</td>\n      <td>(percent)</td>\n      <td>(percent)</td>\n    </tr>\n    <tr>\n      <th>3</th>\n      <td>Alabama</td>\n      <td>30.6</td>\n      <td>24.6</td>\n      <td>2.9</td>\n      <td>0.2</td>\n      <td>9.7</td>\n      <td>6.4</td>\n    </tr>\n    <tr>\n      <th>4</th>\n      <td>Arizona</td>\n      <td>29.0</td>\n      <td>9.9</td>\n      <td>2.7</td>\n      <td>11.4</td>\n      <td>13.2</td>\n      <td>0.6</td>\n    </tr>\n  </tbody>\n</table>\n</div>"
     },
     "metadata": {},
     "execution_count": 5
    }
   ],
   "source": [
    "## Drop erroneous first 2 columns\n",
    "hbcny_s_19q3.drop(hbcny_s_19q3.iloc[:, [0, 1]], axis = 1, inplace = True)\n",
    "\n",
    "## Drop erroneous last few rows\n",
    "#hbcny_s_19q3.drop(hbcny_s_19q3.index[57:63])\n",
    "hbcny_s_19q3.head()"
   ]
  },
  {
   "cell_type": "code",
   "execution_count": 6,
   "metadata": {},
   "outputs": [
    {
     "output_type": "execute_result",
     "data": {
      "text/plain": [
       "                                                state v_mites other_pest_para  \\\n",
       "3                                             Alabama    30.6            24.6   \n",
       "4                                             Arizona    29.0             9.9   \n",
       "5                                            Arkansas    53.2            19.7   \n",
       "6                                          California    49.0            11.5   \n",
       "7                                            Colorado    79.8            12.5   \n",
       "8                                         Connecticut    24.3             6.9   \n",
       "9                                             Florida    44.9            20.7   \n",
       "10                                            Georgia    52.5            18.6   \n",
       "11                                             Hawaii    37.2            39.0   \n",
       "12                                              Idaho    59.9            15.4   \n",
       "13                                                NaN     NaN             NaN   \n",
       "14                                           Illinois    35.9             8.3   \n",
       "15                                            Indiana    55.7            15.2   \n",
       "16                                               Iowa    39.4             7.1   \n",
       "17                                             Kansas    67.5            33.8   \n",
       "18                                           Kentucky    29.2            17.6   \n",
       "19                                          Louisiana    67.1            66.8   \n",
       "20                                              Maine    10.1             0.7   \n",
       "21                                           Maryland    26.7             2.7   \n",
       "22                                      Massachusetts    13.0             2.9   \n",
       "23                                           Michigan    42.7            16.4   \n",
       "24                                                NaN     NaN             NaN   \n",
       "25                                          Minnesota    54.9             8.2   \n",
       "26                                        Mississippi    59.1            45.6   \n",
       "27                                           Missouri    18.4             7.1   \n",
       "28                                            Montana    28.0            10.0   \n",
       "29                                           Nebraska    29.2             2.7   \n",
       "30                                         New Jersey    26.1             2.3   \n",
       "31                                         New Mexico    39.5            29.1   \n",
       "32                                           New York    30.7            11.5   \n",
       "33                                     North Carolina    26.9            11.3   \n",
       "34                                       North Dakota    48.4            10.2   \n",
       "35                                                NaN     NaN             NaN   \n",
       "36                                               Ohio    40.6            23.0   \n",
       "37                                           Oklahoma    29.0             1.4   \n",
       "38                                             Oregon    35.4            12.8   \n",
       "39                                       Pennsylvania    23.4             8.8   \n",
       "40                                     South Carolina    44.9            11.6   \n",
       "41                                       South Dakota    10.4             3.5   \n",
       "42                                          Tennessee    51.4            23.3   \n",
       "43                                              Texas    21.9            18.3   \n",
       "44                                               Utah    29.4             4.9   \n",
       "45                                            Vermont    22.2             4.3   \n",
       "46                                                NaN     NaN             NaN   \n",
       "47                                           Virginia    37.9            18.3   \n",
       "48                                         Washington    47.3             0.9   \n",
       "49                                      West Virginia    33.7            10.7   \n",
       "50                                          Wisconsin    46.4            20.5   \n",
       "51                                            Wyoming    45.7             0.4   \n",
       "52                                                NaN     NaN             NaN   \n",
       "53                                    Other States 4/    11.3             4.5   \n",
       "54                                                NaN     NaN             NaN   \n",
       "55                                      United States    44.1            13.4   \n",
       "56                                                NaN     NaN             NaN   \n",
       "57                                -  Represents zero.     NaN             NaN   \n",
       "58             (Z)  Less than half of the unit shown.     NaN             NaN   \n",
       "59  1/ Tracheal mites, nosema, hive beetle, wax mo...     NaN             NaN   \n",
       "60  2/ Includes American and European foulbrood, c...     NaN             NaN   \n",
       "61  3/ Includes weather, starvation, insufficient ...     NaN             NaN   \n",
       "62  4/ Includes data for States not published in t...     NaN             NaN   \n",
       "\n",
       "   diseases pesticides other unknown  \n",
       "3       2.9        0.2   9.7     6.4  \n",
       "4       2.7       11.4  13.2     0.6  \n",
       "5       6.8       50.5   6.9    39.3  \n",
       "6       8.7       16.0  11.1     3.2  \n",
       "7       4.8       10.2   9.4     1.0  \n",
       "8       2.4          -   3.9     0.5  \n",
       "9       6.3       18.2  11.7    10.8  \n",
       "10      1.6       25.8  17.1     4.6  \n",
       "11      0.3          -   1.3     0.2  \n",
       "12     21.7        9.9  18.5     0.8  \n",
       "13      NaN        NaN   NaN     NaN  \n",
       "14      0.7        2.5   5.5    11.5  \n",
       "15      3.0       23.1  19.2     1.4  \n",
       "16      5.8       26.3  27.8     3.6  \n",
       "17     21.8       23.9   1.2     0.5  \n",
       "18      0.4        5.2   7.9     8.6  \n",
       "19      0.4       57.0   2.5     2.7  \n",
       "20      0.1          -   0.2     0.1  \n",
       "21        -        0.3   5.1     1.4  \n",
       "22      0.2        (Z)   0.7     7.3  \n",
       "23      8.7        7.3   2.1     1.5  \n",
       "24      NaN        NaN   NaN     NaN  \n",
       "25      4.0       13.4   6.6     2.1  \n",
       "26      2.4       25.4   4.0     5.1  \n",
       "27      0.4        0.8   2.1     0.6  \n",
       "28     10.6        6.1   4.1     1.0  \n",
       "29      1.8        2.8   7.2     1.9  \n",
       "30      0.3        0.2   0.5     0.1  \n",
       "31      0.9          -   0.8       -  \n",
       "32      1.2        8.2   2.5     3.8  \n",
       "33     19.7        4.0   9.7     5.7  \n",
       "34     14.7        9.0  23.7     9.3  \n",
       "35      NaN        NaN   NaN     NaN  \n",
       "36      4.2        1.8   5.9     3.9  \n",
       "37      0.1        0.1   4.1     4.4  \n",
       "38     19.8       15.1  16.6     0.4  \n",
       "39      1.8        5.0   1.5     5.6  \n",
       "40      0.6       16.2  19.6     3.7  \n",
       "41      0.3       14.0   4.0     1.5  \n",
       "42      0.2        9.1  11.5     1.5  \n",
       "43      4.4       11.5   7.2     2.1  \n",
       "44      5.5        0.2   0.6     4.6  \n",
       "45      0.7          -   0.5     0.1  \n",
       "46      NaN        NaN   NaN     NaN  \n",
       "47      0.9        1.3   2.7     3.1  \n",
       "48      2.5        4.6   9.4     0.3  \n",
       "49      0.7        2.7   6.9     0.3  \n",
       "50     13.9       18.1   6.5     3.9  \n",
       "51      3.3        2.2   6.3     2.5  \n",
       "52      NaN        NaN   NaN     NaN  \n",
       "53      4.2        7.7   1.4     0.1  \n",
       "54      NaN        NaN   NaN     NaN  \n",
       "55      8.5       13.6  11.9     4.5  \n",
       "56      NaN        NaN   NaN     NaN  \n",
       "57      NaN        NaN   NaN     NaN  \n",
       "58      NaN        NaN   NaN     NaN  \n",
       "59      NaN        NaN   NaN     NaN  \n",
       "60      NaN        NaN   NaN     NaN  \n",
       "61      NaN        NaN   NaN     NaN  \n",
       "62      NaN        NaN   NaN     NaN  "
      ],
      "text/html": "<div>\n<style scoped>\n    .dataframe tbody tr th:only-of-type {\n        vertical-align: middle;\n    }\n\n    .dataframe tbody tr th {\n        vertical-align: top;\n    }\n\n    .dataframe thead th {\n        text-align: right;\n    }\n</style>\n<table border=\"1\" class=\"dataframe\">\n  <thead>\n    <tr style=\"text-align: right;\">\n      <th></th>\n      <th>state</th>\n      <th>v_mites</th>\n      <th>other_pest_para</th>\n      <th>diseases</th>\n      <th>pesticides</th>\n      <th>other</th>\n      <th>unknown</th>\n    </tr>\n  </thead>\n  <tbody>\n    <tr>\n      <th>3</th>\n      <td>Alabama</td>\n      <td>30.6</td>\n      <td>24.6</td>\n      <td>2.9</td>\n      <td>0.2</td>\n      <td>9.7</td>\n      <td>6.4</td>\n    </tr>\n    <tr>\n      <th>4</th>\n      <td>Arizona</td>\n      <td>29.0</td>\n      <td>9.9</td>\n      <td>2.7</td>\n      <td>11.4</td>\n      <td>13.2</td>\n      <td>0.6</td>\n    </tr>\n    <tr>\n      <th>5</th>\n      <td>Arkansas</td>\n      <td>53.2</td>\n      <td>19.7</td>\n      <td>6.8</td>\n      <td>50.5</td>\n      <td>6.9</td>\n      <td>39.3</td>\n    </tr>\n    <tr>\n      <th>6</th>\n      <td>California</td>\n      <td>49.0</td>\n      <td>11.5</td>\n      <td>8.7</td>\n      <td>16.0</td>\n      <td>11.1</td>\n      <td>3.2</td>\n    </tr>\n    <tr>\n      <th>7</th>\n      <td>Colorado</td>\n      <td>79.8</td>\n      <td>12.5</td>\n      <td>4.8</td>\n      <td>10.2</td>\n      <td>9.4</td>\n      <td>1.0</td>\n    </tr>\n    <tr>\n      <th>8</th>\n      <td>Connecticut</td>\n      <td>24.3</td>\n      <td>6.9</td>\n      <td>2.4</td>\n      <td>-</td>\n      <td>3.9</td>\n      <td>0.5</td>\n    </tr>\n    <tr>\n      <th>9</th>\n      <td>Florida</td>\n      <td>44.9</td>\n      <td>20.7</td>\n      <td>6.3</td>\n      <td>18.2</td>\n      <td>11.7</td>\n      <td>10.8</td>\n    </tr>\n    <tr>\n      <th>10</th>\n      <td>Georgia</td>\n      <td>52.5</td>\n      <td>18.6</td>\n      <td>1.6</td>\n      <td>25.8</td>\n      <td>17.1</td>\n      <td>4.6</td>\n    </tr>\n    <tr>\n      <th>11</th>\n      <td>Hawaii</td>\n      <td>37.2</td>\n      <td>39.0</td>\n      <td>0.3</td>\n      <td>-</td>\n      <td>1.3</td>\n      <td>0.2</td>\n    </tr>\n    <tr>\n      <th>12</th>\n      <td>Idaho</td>\n      <td>59.9</td>\n      <td>15.4</td>\n      <td>21.7</td>\n      <td>9.9</td>\n      <td>18.5</td>\n      <td>0.8</td>\n    </tr>\n    <tr>\n      <th>13</th>\n      <td>NaN</td>\n      <td>NaN</td>\n      <td>NaN</td>\n      <td>NaN</td>\n      <td>NaN</td>\n      <td>NaN</td>\n      <td>NaN</td>\n    </tr>\n    <tr>\n      <th>14</th>\n      <td>Illinois</td>\n      <td>35.9</td>\n      <td>8.3</td>\n      <td>0.7</td>\n      <td>2.5</td>\n      <td>5.5</td>\n      <td>11.5</td>\n    </tr>\n    <tr>\n      <th>15</th>\n      <td>Indiana</td>\n      <td>55.7</td>\n      <td>15.2</td>\n      <td>3.0</td>\n      <td>23.1</td>\n      <td>19.2</td>\n      <td>1.4</td>\n    </tr>\n    <tr>\n      <th>16</th>\n      <td>Iowa</td>\n      <td>39.4</td>\n      <td>7.1</td>\n      <td>5.8</td>\n      <td>26.3</td>\n      <td>27.8</td>\n      <td>3.6</td>\n    </tr>\n    <tr>\n      <th>17</th>\n      <td>Kansas</td>\n      <td>67.5</td>\n      <td>33.8</td>\n      <td>21.8</td>\n      <td>23.9</td>\n      <td>1.2</td>\n      <td>0.5</td>\n    </tr>\n    <tr>\n      <th>18</th>\n      <td>Kentucky</td>\n      <td>29.2</td>\n      <td>17.6</td>\n      <td>0.4</td>\n      <td>5.2</td>\n      <td>7.9</td>\n      <td>8.6</td>\n    </tr>\n    <tr>\n      <th>19</th>\n      <td>Louisiana</td>\n      <td>67.1</td>\n      <td>66.8</td>\n      <td>0.4</td>\n      <td>57.0</td>\n      <td>2.5</td>\n      <td>2.7</td>\n    </tr>\n    <tr>\n      <th>20</th>\n      <td>Maine</td>\n      <td>10.1</td>\n      <td>0.7</td>\n      <td>0.1</td>\n      <td>-</td>\n      <td>0.2</td>\n      <td>0.1</td>\n    </tr>\n    <tr>\n      <th>21</th>\n      <td>Maryland</td>\n      <td>26.7</td>\n      <td>2.7</td>\n      <td>-</td>\n      <td>0.3</td>\n      <td>5.1</td>\n      <td>1.4</td>\n    </tr>\n    <tr>\n      <th>22</th>\n      <td>Massachusetts</td>\n      <td>13.0</td>\n      <td>2.9</td>\n      <td>0.2</td>\n      <td>(Z)</td>\n      <td>0.7</td>\n      <td>7.3</td>\n    </tr>\n    <tr>\n      <th>23</th>\n      <td>Michigan</td>\n      <td>42.7</td>\n      <td>16.4</td>\n      <td>8.7</td>\n      <td>7.3</td>\n      <td>2.1</td>\n      <td>1.5</td>\n    </tr>\n    <tr>\n      <th>24</th>\n      <td>NaN</td>\n      <td>NaN</td>\n      <td>NaN</td>\n      <td>NaN</td>\n      <td>NaN</td>\n      <td>NaN</td>\n      <td>NaN</td>\n    </tr>\n    <tr>\n      <th>25</th>\n      <td>Minnesota</td>\n      <td>54.9</td>\n      <td>8.2</td>\n      <td>4.0</td>\n      <td>13.4</td>\n      <td>6.6</td>\n      <td>2.1</td>\n    </tr>\n    <tr>\n      <th>26</th>\n      <td>Mississippi</td>\n      <td>59.1</td>\n      <td>45.6</td>\n      <td>2.4</td>\n      <td>25.4</td>\n      <td>4.0</td>\n      <td>5.1</td>\n    </tr>\n    <tr>\n      <th>27</th>\n      <td>Missouri</td>\n      <td>18.4</td>\n      <td>7.1</td>\n      <td>0.4</td>\n      <td>0.8</td>\n      <td>2.1</td>\n      <td>0.6</td>\n    </tr>\n    <tr>\n      <th>28</th>\n      <td>Montana</td>\n      <td>28.0</td>\n      <td>10.0</td>\n      <td>10.6</td>\n      <td>6.1</td>\n      <td>4.1</td>\n      <td>1.0</td>\n    </tr>\n    <tr>\n      <th>29</th>\n      <td>Nebraska</td>\n      <td>29.2</td>\n      <td>2.7</td>\n      <td>1.8</td>\n      <td>2.8</td>\n      <td>7.2</td>\n      <td>1.9</td>\n    </tr>\n    <tr>\n      <th>30</th>\n      <td>New Jersey</td>\n      <td>26.1</td>\n      <td>2.3</td>\n      <td>0.3</td>\n      <td>0.2</td>\n      <td>0.5</td>\n      <td>0.1</td>\n    </tr>\n    <tr>\n      <th>31</th>\n      <td>New Mexico</td>\n      <td>39.5</td>\n      <td>29.1</td>\n      <td>0.9</td>\n      <td>-</td>\n      <td>0.8</td>\n      <td>-</td>\n    </tr>\n    <tr>\n      <th>32</th>\n      <td>New York</td>\n      <td>30.7</td>\n      <td>11.5</td>\n      <td>1.2</td>\n      <td>8.2</td>\n      <td>2.5</td>\n      <td>3.8</td>\n    </tr>\n    <tr>\n      <th>33</th>\n      <td>North Carolina</td>\n      <td>26.9</td>\n      <td>11.3</td>\n      <td>19.7</td>\n      <td>4.0</td>\n      <td>9.7</td>\n      <td>5.7</td>\n    </tr>\n    <tr>\n      <th>34</th>\n      <td>North Dakota</td>\n      <td>48.4</td>\n      <td>10.2</td>\n      <td>14.7</td>\n      <td>9.0</td>\n      <td>23.7</td>\n      <td>9.3</td>\n    </tr>\n    <tr>\n      <th>35</th>\n      <td>NaN</td>\n      <td>NaN</td>\n      <td>NaN</td>\n      <td>NaN</td>\n      <td>NaN</td>\n      <td>NaN</td>\n      <td>NaN</td>\n    </tr>\n    <tr>\n      <th>36</th>\n      <td>Ohio</td>\n      <td>40.6</td>\n      <td>23.0</td>\n      <td>4.2</td>\n      <td>1.8</td>\n      <td>5.9</td>\n      <td>3.9</td>\n    </tr>\n    <tr>\n      <th>37</th>\n      <td>Oklahoma</td>\n      <td>29.0</td>\n      <td>1.4</td>\n      <td>0.1</td>\n      <td>0.1</td>\n      <td>4.1</td>\n      <td>4.4</td>\n    </tr>\n    <tr>\n      <th>38</th>\n      <td>Oregon</td>\n      <td>35.4</td>\n      <td>12.8</td>\n      <td>19.8</td>\n      <td>15.1</td>\n      <td>16.6</td>\n      <td>0.4</td>\n    </tr>\n    <tr>\n      <th>39</th>\n      <td>Pennsylvania</td>\n      <td>23.4</td>\n      <td>8.8</td>\n      <td>1.8</td>\n      <td>5.0</td>\n      <td>1.5</td>\n      <td>5.6</td>\n    </tr>\n    <tr>\n      <th>40</th>\n      <td>South Carolina</td>\n      <td>44.9</td>\n      <td>11.6</td>\n      <td>0.6</td>\n      <td>16.2</td>\n      <td>19.6</td>\n      <td>3.7</td>\n    </tr>\n    <tr>\n      <th>41</th>\n      <td>South Dakota</td>\n      <td>10.4</td>\n      <td>3.5</td>\n      <td>0.3</td>\n      <td>14.0</td>\n      <td>4.0</td>\n      <td>1.5</td>\n    </tr>\n    <tr>\n      <th>42</th>\n      <td>Tennessee</td>\n      <td>51.4</td>\n      <td>23.3</td>\n      <td>0.2</td>\n      <td>9.1</td>\n      <td>11.5</td>\n      <td>1.5</td>\n    </tr>\n    <tr>\n      <th>43</th>\n      <td>Texas</td>\n      <td>21.9</td>\n      <td>18.3</td>\n      <td>4.4</td>\n      <td>11.5</td>\n      <td>7.2</td>\n      <td>2.1</td>\n    </tr>\n    <tr>\n      <th>44</th>\n      <td>Utah</td>\n      <td>29.4</td>\n      <td>4.9</td>\n      <td>5.5</td>\n      <td>0.2</td>\n      <td>0.6</td>\n      <td>4.6</td>\n    </tr>\n    <tr>\n      <th>45</th>\n      <td>Vermont</td>\n      <td>22.2</td>\n      <td>4.3</td>\n      <td>0.7</td>\n      <td>-</td>\n      <td>0.5</td>\n      <td>0.1</td>\n    </tr>\n    <tr>\n      <th>46</th>\n      <td>NaN</td>\n      <td>NaN</td>\n      <td>NaN</td>\n      <td>NaN</td>\n      <td>NaN</td>\n      <td>NaN</td>\n      <td>NaN</td>\n    </tr>\n    <tr>\n      <th>47</th>\n      <td>Virginia</td>\n      <td>37.9</td>\n      <td>18.3</td>\n      <td>0.9</td>\n      <td>1.3</td>\n      <td>2.7</td>\n      <td>3.1</td>\n    </tr>\n    <tr>\n      <th>48</th>\n      <td>Washington</td>\n      <td>47.3</td>\n      <td>0.9</td>\n      <td>2.5</td>\n      <td>4.6</td>\n      <td>9.4</td>\n      <td>0.3</td>\n    </tr>\n    <tr>\n      <th>49</th>\n      <td>West Virginia</td>\n      <td>33.7</td>\n      <td>10.7</td>\n      <td>0.7</td>\n      <td>2.7</td>\n      <td>6.9</td>\n      <td>0.3</td>\n    </tr>\n    <tr>\n      <th>50</th>\n      <td>Wisconsin</td>\n      <td>46.4</td>\n      <td>20.5</td>\n      <td>13.9</td>\n      <td>18.1</td>\n      <td>6.5</td>\n      <td>3.9</td>\n    </tr>\n    <tr>\n      <th>51</th>\n      <td>Wyoming</td>\n      <td>45.7</td>\n      <td>0.4</td>\n      <td>3.3</td>\n      <td>2.2</td>\n      <td>6.3</td>\n      <td>2.5</td>\n    </tr>\n    <tr>\n      <th>52</th>\n      <td>NaN</td>\n      <td>NaN</td>\n      <td>NaN</td>\n      <td>NaN</td>\n      <td>NaN</td>\n      <td>NaN</td>\n      <td>NaN</td>\n    </tr>\n    <tr>\n      <th>53</th>\n      <td>Other States 4/</td>\n      <td>11.3</td>\n      <td>4.5</td>\n      <td>4.2</td>\n      <td>7.7</td>\n      <td>1.4</td>\n      <td>0.1</td>\n    </tr>\n    <tr>\n      <th>54</th>\n      <td>NaN</td>\n      <td>NaN</td>\n      <td>NaN</td>\n      <td>NaN</td>\n      <td>NaN</td>\n      <td>NaN</td>\n      <td>NaN</td>\n    </tr>\n    <tr>\n      <th>55</th>\n      <td>United States</td>\n      <td>44.1</td>\n      <td>13.4</td>\n      <td>8.5</td>\n      <td>13.6</td>\n      <td>11.9</td>\n      <td>4.5</td>\n    </tr>\n    <tr>\n      <th>56</th>\n      <td>NaN</td>\n      <td>NaN</td>\n      <td>NaN</td>\n      <td>NaN</td>\n      <td>NaN</td>\n      <td>NaN</td>\n      <td>NaN</td>\n    </tr>\n    <tr>\n      <th>57</th>\n      <td>-  Represents zero.</td>\n      <td>NaN</td>\n      <td>NaN</td>\n      <td>NaN</td>\n      <td>NaN</td>\n      <td>NaN</td>\n      <td>NaN</td>\n    </tr>\n    <tr>\n      <th>58</th>\n      <td>(Z)  Less than half of the unit shown.</td>\n      <td>NaN</td>\n      <td>NaN</td>\n      <td>NaN</td>\n      <td>NaN</td>\n      <td>NaN</td>\n      <td>NaN</td>\n    </tr>\n    <tr>\n      <th>59</th>\n      <td>1/ Tracheal mites, nosema, hive beetle, wax mo...</td>\n      <td>NaN</td>\n      <td>NaN</td>\n      <td>NaN</td>\n      <td>NaN</td>\n      <td>NaN</td>\n      <td>NaN</td>\n    </tr>\n    <tr>\n      <th>60</th>\n      <td>2/ Includes American and European foulbrood, c...</td>\n      <td>NaN</td>\n      <td>NaN</td>\n      <td>NaN</td>\n      <td>NaN</td>\n      <td>NaN</td>\n      <td>NaN</td>\n    </tr>\n    <tr>\n      <th>61</th>\n      <td>3/ Includes weather, starvation, insufficient ...</td>\n      <td>NaN</td>\n      <td>NaN</td>\n      <td>NaN</td>\n      <td>NaN</td>\n      <td>NaN</td>\n      <td>NaN</td>\n    </tr>\n    <tr>\n      <th>62</th>\n      <td>4/ Includes data for States not published in t...</td>\n      <td>NaN</td>\n      <td>NaN</td>\n      <td>NaN</td>\n      <td>NaN</td>\n      <td>NaN</td>\n      <td>NaN</td>\n    </tr>\n  </tbody>\n</table>\n</div>"
     },
     "metadata": {},
     "execution_count": 6
    }
   ],
   "source": [
    "## Rename column with Row [0] text and then drop Rows [0-3]\n",
    "\n",
    "hbcny_s_19q3 = hbcny_s_19q3.rename(columns={\n",
    "    \"Unnamed: 2\": \"state\",\n",
    "    \"Varroa\": \"v_mites\",\n",
    "    \"Other pests\": \"other_pest_para\",\n",
    "    \"Unnamed: 5\": \"diseases\",\n",
    "    \"Unnamed: 6\": \"pesticides\",\n",
    "    \"Unnamed: 7\": \"other\",\n",
    "    \"Unnamed: 8\": \"unknown\"})\n",
    "\n",
    "hbcny_s_19q3 = hbcny_s_19q3.drop(range(3))\n",
    "\n",
    "hbcny_s_19q3"
   ]
  },
  {
   "cell_type": "code",
   "execution_count": 7,
   "metadata": {},
   "outputs": [
    {
     "output_type": "execute_result",
     "data": {
      "text/plain": [
       "              state v_mites other_pest_para diseases pesticides other unknown\n",
       "49    West Virginia    33.7            10.7      0.7        2.7   6.9     0.3\n",
       "50        Wisconsin    46.4            20.5     13.9       18.1   6.5     3.9\n",
       "51          Wyoming    45.7             0.4      3.3        2.2   6.3     2.5\n",
       "53  Other States 4/    11.3             4.5      4.2        7.7   1.4     0.1\n",
       "55    United States    44.1            13.4      8.5       13.6  11.9     4.5"
      ],
      "text/html": "<div>\n<style scoped>\n    .dataframe tbody tr th:only-of-type {\n        vertical-align: middle;\n    }\n\n    .dataframe tbody tr th {\n        vertical-align: top;\n    }\n\n    .dataframe thead th {\n        text-align: right;\n    }\n</style>\n<table border=\"1\" class=\"dataframe\">\n  <thead>\n    <tr style=\"text-align: right;\">\n      <th></th>\n      <th>state</th>\n      <th>v_mites</th>\n      <th>other_pest_para</th>\n      <th>diseases</th>\n      <th>pesticides</th>\n      <th>other</th>\n      <th>unknown</th>\n    </tr>\n  </thead>\n  <tbody>\n    <tr>\n      <th>49</th>\n      <td>West Virginia</td>\n      <td>33.7</td>\n      <td>10.7</td>\n      <td>0.7</td>\n      <td>2.7</td>\n      <td>6.9</td>\n      <td>0.3</td>\n    </tr>\n    <tr>\n      <th>50</th>\n      <td>Wisconsin</td>\n      <td>46.4</td>\n      <td>20.5</td>\n      <td>13.9</td>\n      <td>18.1</td>\n      <td>6.5</td>\n      <td>3.9</td>\n    </tr>\n    <tr>\n      <th>51</th>\n      <td>Wyoming</td>\n      <td>45.7</td>\n      <td>0.4</td>\n      <td>3.3</td>\n      <td>2.2</td>\n      <td>6.3</td>\n      <td>2.5</td>\n    </tr>\n    <tr>\n      <th>53</th>\n      <td>Other States 4/</td>\n      <td>11.3</td>\n      <td>4.5</td>\n      <td>4.2</td>\n      <td>7.7</td>\n      <td>1.4</td>\n      <td>0.1</td>\n    </tr>\n    <tr>\n      <th>55</th>\n      <td>United States</td>\n      <td>44.1</td>\n      <td>13.4</td>\n      <td>8.5</td>\n      <td>13.6</td>\n      <td>11.9</td>\n      <td>4.5</td>\n    </tr>\n  </tbody>\n</table>\n</div>"
     },
     "metadata": {},
     "execution_count": 7
    }
   ],
   "source": [
    "## Drop blank rows\n",
    "hbcny_s_19q3 = hbcny_s_19q3.dropna()\n",
    "hbcny_s_19q3.tail()"
   ]
  },
  {
   "cell_type": "code",
   "execution_count": 8,
   "metadata": {},
   "outputs": [
    {
     "output_type": "stream",
     "name": "stderr",
     "text": [
      "C:\\Users\\Daniel Ramirez\\anaconda3\\lib\\site-packages\\pandas\\core\\indexing.py:670: SettingWithCopyWarning: \nA value is trying to be set on a copy of a slice from a DataFrame\n\nSee the caveats in the documentation: https://pandas.pydata.org/pandas-docs/stable/user_guide/indexing.html#returning-a-view-versus-a-copy\n  iloc._setitem_with_indexer(indexer, value)\n<ipython-input-8-2e708508ec1e>:2: SettingWithCopyWarning: \nA value is trying to be set on a copy of a slice from a DataFrame\n\nSee the caveats in the documentation: https://pandas.pydata.org/pandas-docs/stable/user_guide/indexing.html#returning-a-view-versus-a-copy\n  hbcny_s_19q3.loc[53, \"state\"] = \"Other States\"\n"
     ]
    },
    {
     "output_type": "execute_result",
     "data": {
      "text/plain": [
       "            state v_mites other_pest_para diseases pesticides other unknown\n",
       "49  West Virginia    33.7            10.7      0.7        2.7   6.9     0.3\n",
       "50      Wisconsin    46.4            20.5     13.9       18.1   6.5     3.9\n",
       "51        Wyoming    45.7             0.4      3.3        2.2   6.3     2.5\n",
       "53   Other States    11.3             4.5      4.2        7.7   1.4     0.1\n",
       "55  United States    44.1            13.4      8.5       13.6  11.9     4.5"
      ],
      "text/html": "<div>\n<style scoped>\n    .dataframe tbody tr th:only-of-type {\n        vertical-align: middle;\n    }\n\n    .dataframe tbody tr th {\n        vertical-align: top;\n    }\n\n    .dataframe thead th {\n        text-align: right;\n    }\n</style>\n<table border=\"1\" class=\"dataframe\">\n  <thead>\n    <tr style=\"text-align: right;\">\n      <th></th>\n      <th>state</th>\n      <th>v_mites</th>\n      <th>other_pest_para</th>\n      <th>diseases</th>\n      <th>pesticides</th>\n      <th>other</th>\n      <th>unknown</th>\n    </tr>\n  </thead>\n  <tbody>\n    <tr>\n      <th>49</th>\n      <td>West Virginia</td>\n      <td>33.7</td>\n      <td>10.7</td>\n      <td>0.7</td>\n      <td>2.7</td>\n      <td>6.9</td>\n      <td>0.3</td>\n    </tr>\n    <tr>\n      <th>50</th>\n      <td>Wisconsin</td>\n      <td>46.4</td>\n      <td>20.5</td>\n      <td>13.9</td>\n      <td>18.1</td>\n      <td>6.5</td>\n      <td>3.9</td>\n    </tr>\n    <tr>\n      <th>51</th>\n      <td>Wyoming</td>\n      <td>45.7</td>\n      <td>0.4</td>\n      <td>3.3</td>\n      <td>2.2</td>\n      <td>6.3</td>\n      <td>2.5</td>\n    </tr>\n    <tr>\n      <th>53</th>\n      <td>Other States</td>\n      <td>11.3</td>\n      <td>4.5</td>\n      <td>4.2</td>\n      <td>7.7</td>\n      <td>1.4</td>\n      <td>0.1</td>\n    </tr>\n    <tr>\n      <th>55</th>\n      <td>United States</td>\n      <td>44.1</td>\n      <td>13.4</td>\n      <td>8.5</td>\n      <td>13.6</td>\n      <td>11.9</td>\n      <td>4.5</td>\n    </tr>\n  </tbody>\n</table>\n</div>"
     },
     "metadata": {},
     "execution_count": 8
    }
   ],
   "source": [
    "## Rename cell \n",
    "hbcny_s_19q3.loc[53, \"state\"] = \"Other States\"\n",
    "hbcny_s_19q3.tail()"
   ]
  },
  {
   "cell_type": "code",
   "execution_count": 9,
   "metadata": {},
   "outputs": [
    {
     "output_type": "execute_result",
     "data": {
      "text/plain": [
       "            state v_mites other_pest_para diseases pesticides other unknown\n",
       "49  West Virginia    33.7            10.7      0.7        2.7   6.9     0.3\n",
       "50      Wisconsin    46.4            20.5     13.9       18.1   6.5     3.9\n",
       "51        Wyoming    45.7             0.4      3.3        2.2   6.3     2.5\n",
       "53   Other States    11.3             4.5      4.2        7.7   1.4     0.1\n",
       "55  United States    44.1            13.4      8.5       13.6  11.9     4.5"
      ],
      "text/html": "<div>\n<style scoped>\n    .dataframe tbody tr th:only-of-type {\n        vertical-align: middle;\n    }\n\n    .dataframe tbody tr th {\n        vertical-align: top;\n    }\n\n    .dataframe thead th {\n        text-align: right;\n    }\n</style>\n<table border=\"1\" class=\"dataframe\">\n  <thead>\n    <tr style=\"text-align: right;\">\n      <th></th>\n      <th>state</th>\n      <th>v_mites</th>\n      <th>other_pest_para</th>\n      <th>diseases</th>\n      <th>pesticides</th>\n      <th>other</th>\n      <th>unknown</th>\n    </tr>\n  </thead>\n  <tbody>\n    <tr>\n      <th>49</th>\n      <td>West Virginia</td>\n      <td>33.7</td>\n      <td>10.7</td>\n      <td>0.7</td>\n      <td>2.7</td>\n      <td>6.9</td>\n      <td>0.3</td>\n    </tr>\n    <tr>\n      <th>50</th>\n      <td>Wisconsin</td>\n      <td>46.4</td>\n      <td>20.5</td>\n      <td>13.9</td>\n      <td>18.1</td>\n      <td>6.5</td>\n      <td>3.9</td>\n    </tr>\n    <tr>\n      <th>51</th>\n      <td>Wyoming</td>\n      <td>45.7</td>\n      <td>0.4</td>\n      <td>3.3</td>\n      <td>2.2</td>\n      <td>6.3</td>\n      <td>2.5</td>\n    </tr>\n    <tr>\n      <th>53</th>\n      <td>Other States</td>\n      <td>11.3</td>\n      <td>4.5</td>\n      <td>4.2</td>\n      <td>7.7</td>\n      <td>1.4</td>\n      <td>0.1</td>\n    </tr>\n    <tr>\n      <th>55</th>\n      <td>United States</td>\n      <td>44.1</td>\n      <td>13.4</td>\n      <td>8.5</td>\n      <td>13.6</td>\n      <td>11.9</td>\n      <td>4.5</td>\n    </tr>\n  </tbody>\n</table>\n</div>"
     },
     "metadata": {},
     "execution_count": 9
    }
   ],
   "source": [
    "## (Z) defined as:\n",
    "## Less than half of the unit shown (or negligible)\n",
    "## Replace (Z) values with zero\n",
    "hbcny_s_19q3 = hbcny_s_19q3.replace(\"(Z)\", 0)\n",
    "hbcny_s_19q3.tail()"
   ]
  },
  {
   "cell_type": "code",
   "execution_count": 10,
   "metadata": {},
   "outputs": [
    {
     "output_type": "execute_result",
     "data": {
      "text/plain": [
       "             state v_mites other_pest_para diseases pesticides other unknown\n",
       "3          Alabama    30.6            24.6      2.9        0.2   9.7     6.4\n",
       "4          Arizona    29.0             9.9      2.7       11.4  13.2     0.6\n",
       "5         Arkansas    53.2            19.7      6.8       50.5   6.9    39.3\n",
       "6       California    49.0            11.5      8.7       16.0  11.1     3.2\n",
       "7         Colorado    79.8            12.5      4.8       10.2   9.4     1.0\n",
       "8      Connecticut    24.3             6.9      2.4       None   3.9     0.5\n",
       "9          Florida    44.9            20.7      6.3       18.2  11.7    10.8\n",
       "10         Georgia    52.5            18.6      1.6       25.8  17.1     4.6\n",
       "11          Hawaii    37.2            39.0      0.3       None   1.3     0.2\n",
       "12           Idaho    59.9            15.4     21.7        9.9  18.5     0.8\n",
       "14        Illinois    35.9             8.3      0.7        2.5   5.5    11.5\n",
       "15         Indiana    55.7            15.2      3.0       23.1  19.2     1.4\n",
       "16            Iowa    39.4             7.1      5.8       26.3  27.8     3.6\n",
       "17          Kansas    67.5            33.8     21.8       23.9   1.2     0.5\n",
       "18        Kentucky    29.2            17.6      0.4        5.2   7.9     8.6\n",
       "19       Louisiana    67.1            66.8      0.4       57.0   2.5     2.7\n",
       "20           Maine    10.1             0.7      0.1       None   0.2     0.1\n",
       "21        Maryland    26.7             2.7     None        0.3   5.1     1.4\n",
       "22   Massachusetts    13.0             2.9      0.2          0   0.7     7.3\n",
       "23        Michigan    42.7            16.4      8.7        7.3   2.1     1.5\n",
       "25       Minnesota    54.9             8.2      4.0       13.4   6.6     2.1\n",
       "26     Mississippi    59.1            45.6      2.4       25.4   4.0     5.1\n",
       "27        Missouri    18.4             7.1      0.4        0.8   2.1     0.6\n",
       "28         Montana    28.0            10.0     10.6        6.1   4.1     1.0\n",
       "29        Nebraska    29.2             2.7      1.8        2.8   7.2     1.9\n",
       "30      New Jersey    26.1             2.3      0.3        0.2   0.5     0.1\n",
       "31      New Mexico    39.5            29.1      0.9       None   0.8    None\n",
       "32        New York    30.7            11.5      1.2        8.2   2.5     3.8\n",
       "33  North Carolina    26.9            11.3     19.7        4.0   9.7     5.7\n",
       "34    North Dakota    48.4            10.2     14.7        9.0  23.7     9.3\n",
       "36            Ohio    40.6            23.0      4.2        1.8   5.9     3.9\n",
       "37        Oklahoma    29.0             1.4      0.1        0.1   4.1     4.4\n",
       "38          Oregon    35.4            12.8     19.8       15.1  16.6     0.4\n",
       "39    Pennsylvania    23.4             8.8      1.8        5.0   1.5     5.6\n",
       "40  South Carolina    44.9            11.6      0.6       16.2  19.6     3.7\n",
       "41    South Dakota    10.4             3.5      0.3       14.0   4.0     1.5\n",
       "42       Tennessee    51.4            23.3      0.2        9.1  11.5     1.5\n",
       "43           Texas    21.9            18.3      4.4       11.5   7.2     2.1\n",
       "44            Utah    29.4             4.9      5.5        0.2   0.6     4.6\n",
       "45         Vermont    22.2             4.3      0.7       None   0.5     0.1\n",
       "47        Virginia    37.9            18.3      0.9        1.3   2.7     3.1\n",
       "48      Washington    47.3             0.9      2.5        4.6   9.4     0.3\n",
       "49   West Virginia    33.7            10.7      0.7        2.7   6.9     0.3\n",
       "50       Wisconsin    46.4            20.5     13.9       18.1   6.5     3.9\n",
       "51         Wyoming    45.7             0.4      3.3        2.2   6.3     2.5\n",
       "53    Other States    11.3             4.5      4.2        7.7   1.4     0.1\n",
       "55   United States    44.1            13.4      8.5       13.6  11.9     4.5"
      ],
      "text/html": "<div>\n<style scoped>\n    .dataframe tbody tr th:only-of-type {\n        vertical-align: middle;\n    }\n\n    .dataframe tbody tr th {\n        vertical-align: top;\n    }\n\n    .dataframe thead th {\n        text-align: right;\n    }\n</style>\n<table border=\"1\" class=\"dataframe\">\n  <thead>\n    <tr style=\"text-align: right;\">\n      <th></th>\n      <th>state</th>\n      <th>v_mites</th>\n      <th>other_pest_para</th>\n      <th>diseases</th>\n      <th>pesticides</th>\n      <th>other</th>\n      <th>unknown</th>\n    </tr>\n  </thead>\n  <tbody>\n    <tr>\n      <th>3</th>\n      <td>Alabama</td>\n      <td>30.6</td>\n      <td>24.6</td>\n      <td>2.9</td>\n      <td>0.2</td>\n      <td>9.7</td>\n      <td>6.4</td>\n    </tr>\n    <tr>\n      <th>4</th>\n      <td>Arizona</td>\n      <td>29.0</td>\n      <td>9.9</td>\n      <td>2.7</td>\n      <td>11.4</td>\n      <td>13.2</td>\n      <td>0.6</td>\n    </tr>\n    <tr>\n      <th>5</th>\n      <td>Arkansas</td>\n      <td>53.2</td>\n      <td>19.7</td>\n      <td>6.8</td>\n      <td>50.5</td>\n      <td>6.9</td>\n      <td>39.3</td>\n    </tr>\n    <tr>\n      <th>6</th>\n      <td>California</td>\n      <td>49.0</td>\n      <td>11.5</td>\n      <td>8.7</td>\n      <td>16.0</td>\n      <td>11.1</td>\n      <td>3.2</td>\n    </tr>\n    <tr>\n      <th>7</th>\n      <td>Colorado</td>\n      <td>79.8</td>\n      <td>12.5</td>\n      <td>4.8</td>\n      <td>10.2</td>\n      <td>9.4</td>\n      <td>1.0</td>\n    </tr>\n    <tr>\n      <th>8</th>\n      <td>Connecticut</td>\n      <td>24.3</td>\n      <td>6.9</td>\n      <td>2.4</td>\n      <td>None</td>\n      <td>3.9</td>\n      <td>0.5</td>\n    </tr>\n    <tr>\n      <th>9</th>\n      <td>Florida</td>\n      <td>44.9</td>\n      <td>20.7</td>\n      <td>6.3</td>\n      <td>18.2</td>\n      <td>11.7</td>\n      <td>10.8</td>\n    </tr>\n    <tr>\n      <th>10</th>\n      <td>Georgia</td>\n      <td>52.5</td>\n      <td>18.6</td>\n      <td>1.6</td>\n      <td>25.8</td>\n      <td>17.1</td>\n      <td>4.6</td>\n    </tr>\n    <tr>\n      <th>11</th>\n      <td>Hawaii</td>\n      <td>37.2</td>\n      <td>39.0</td>\n      <td>0.3</td>\n      <td>None</td>\n      <td>1.3</td>\n      <td>0.2</td>\n    </tr>\n    <tr>\n      <th>12</th>\n      <td>Idaho</td>\n      <td>59.9</td>\n      <td>15.4</td>\n      <td>21.7</td>\n      <td>9.9</td>\n      <td>18.5</td>\n      <td>0.8</td>\n    </tr>\n    <tr>\n      <th>14</th>\n      <td>Illinois</td>\n      <td>35.9</td>\n      <td>8.3</td>\n      <td>0.7</td>\n      <td>2.5</td>\n      <td>5.5</td>\n      <td>11.5</td>\n    </tr>\n    <tr>\n      <th>15</th>\n      <td>Indiana</td>\n      <td>55.7</td>\n      <td>15.2</td>\n      <td>3.0</td>\n      <td>23.1</td>\n      <td>19.2</td>\n      <td>1.4</td>\n    </tr>\n    <tr>\n      <th>16</th>\n      <td>Iowa</td>\n      <td>39.4</td>\n      <td>7.1</td>\n      <td>5.8</td>\n      <td>26.3</td>\n      <td>27.8</td>\n      <td>3.6</td>\n    </tr>\n    <tr>\n      <th>17</th>\n      <td>Kansas</td>\n      <td>67.5</td>\n      <td>33.8</td>\n      <td>21.8</td>\n      <td>23.9</td>\n      <td>1.2</td>\n      <td>0.5</td>\n    </tr>\n    <tr>\n      <th>18</th>\n      <td>Kentucky</td>\n      <td>29.2</td>\n      <td>17.6</td>\n      <td>0.4</td>\n      <td>5.2</td>\n      <td>7.9</td>\n      <td>8.6</td>\n    </tr>\n    <tr>\n      <th>19</th>\n      <td>Louisiana</td>\n      <td>67.1</td>\n      <td>66.8</td>\n      <td>0.4</td>\n      <td>57.0</td>\n      <td>2.5</td>\n      <td>2.7</td>\n    </tr>\n    <tr>\n      <th>20</th>\n      <td>Maine</td>\n      <td>10.1</td>\n      <td>0.7</td>\n      <td>0.1</td>\n      <td>None</td>\n      <td>0.2</td>\n      <td>0.1</td>\n    </tr>\n    <tr>\n      <th>21</th>\n      <td>Maryland</td>\n      <td>26.7</td>\n      <td>2.7</td>\n      <td>None</td>\n      <td>0.3</td>\n      <td>5.1</td>\n      <td>1.4</td>\n    </tr>\n    <tr>\n      <th>22</th>\n      <td>Massachusetts</td>\n      <td>13.0</td>\n      <td>2.9</td>\n      <td>0.2</td>\n      <td>0</td>\n      <td>0.7</td>\n      <td>7.3</td>\n    </tr>\n    <tr>\n      <th>23</th>\n      <td>Michigan</td>\n      <td>42.7</td>\n      <td>16.4</td>\n      <td>8.7</td>\n      <td>7.3</td>\n      <td>2.1</td>\n      <td>1.5</td>\n    </tr>\n    <tr>\n      <th>25</th>\n      <td>Minnesota</td>\n      <td>54.9</td>\n      <td>8.2</td>\n      <td>4.0</td>\n      <td>13.4</td>\n      <td>6.6</td>\n      <td>2.1</td>\n    </tr>\n    <tr>\n      <th>26</th>\n      <td>Mississippi</td>\n      <td>59.1</td>\n      <td>45.6</td>\n      <td>2.4</td>\n      <td>25.4</td>\n      <td>4.0</td>\n      <td>5.1</td>\n    </tr>\n    <tr>\n      <th>27</th>\n      <td>Missouri</td>\n      <td>18.4</td>\n      <td>7.1</td>\n      <td>0.4</td>\n      <td>0.8</td>\n      <td>2.1</td>\n      <td>0.6</td>\n    </tr>\n    <tr>\n      <th>28</th>\n      <td>Montana</td>\n      <td>28.0</td>\n      <td>10.0</td>\n      <td>10.6</td>\n      <td>6.1</td>\n      <td>4.1</td>\n      <td>1.0</td>\n    </tr>\n    <tr>\n      <th>29</th>\n      <td>Nebraska</td>\n      <td>29.2</td>\n      <td>2.7</td>\n      <td>1.8</td>\n      <td>2.8</td>\n      <td>7.2</td>\n      <td>1.9</td>\n    </tr>\n    <tr>\n      <th>30</th>\n      <td>New Jersey</td>\n      <td>26.1</td>\n      <td>2.3</td>\n      <td>0.3</td>\n      <td>0.2</td>\n      <td>0.5</td>\n      <td>0.1</td>\n    </tr>\n    <tr>\n      <th>31</th>\n      <td>New Mexico</td>\n      <td>39.5</td>\n      <td>29.1</td>\n      <td>0.9</td>\n      <td>None</td>\n      <td>0.8</td>\n      <td>None</td>\n    </tr>\n    <tr>\n      <th>32</th>\n      <td>New York</td>\n      <td>30.7</td>\n      <td>11.5</td>\n      <td>1.2</td>\n      <td>8.2</td>\n      <td>2.5</td>\n      <td>3.8</td>\n    </tr>\n    <tr>\n      <th>33</th>\n      <td>North Carolina</td>\n      <td>26.9</td>\n      <td>11.3</td>\n      <td>19.7</td>\n      <td>4.0</td>\n      <td>9.7</td>\n      <td>5.7</td>\n    </tr>\n    <tr>\n      <th>34</th>\n      <td>North Dakota</td>\n      <td>48.4</td>\n      <td>10.2</td>\n      <td>14.7</td>\n      <td>9.0</td>\n      <td>23.7</td>\n      <td>9.3</td>\n    </tr>\n    <tr>\n      <th>36</th>\n      <td>Ohio</td>\n      <td>40.6</td>\n      <td>23.0</td>\n      <td>4.2</td>\n      <td>1.8</td>\n      <td>5.9</td>\n      <td>3.9</td>\n    </tr>\n    <tr>\n      <th>37</th>\n      <td>Oklahoma</td>\n      <td>29.0</td>\n      <td>1.4</td>\n      <td>0.1</td>\n      <td>0.1</td>\n      <td>4.1</td>\n      <td>4.4</td>\n    </tr>\n    <tr>\n      <th>38</th>\n      <td>Oregon</td>\n      <td>35.4</td>\n      <td>12.8</td>\n      <td>19.8</td>\n      <td>15.1</td>\n      <td>16.6</td>\n      <td>0.4</td>\n    </tr>\n    <tr>\n      <th>39</th>\n      <td>Pennsylvania</td>\n      <td>23.4</td>\n      <td>8.8</td>\n      <td>1.8</td>\n      <td>5.0</td>\n      <td>1.5</td>\n      <td>5.6</td>\n    </tr>\n    <tr>\n      <th>40</th>\n      <td>South Carolina</td>\n      <td>44.9</td>\n      <td>11.6</td>\n      <td>0.6</td>\n      <td>16.2</td>\n      <td>19.6</td>\n      <td>3.7</td>\n    </tr>\n    <tr>\n      <th>41</th>\n      <td>South Dakota</td>\n      <td>10.4</td>\n      <td>3.5</td>\n      <td>0.3</td>\n      <td>14.0</td>\n      <td>4.0</td>\n      <td>1.5</td>\n    </tr>\n    <tr>\n      <th>42</th>\n      <td>Tennessee</td>\n      <td>51.4</td>\n      <td>23.3</td>\n      <td>0.2</td>\n      <td>9.1</td>\n      <td>11.5</td>\n      <td>1.5</td>\n    </tr>\n    <tr>\n      <th>43</th>\n      <td>Texas</td>\n      <td>21.9</td>\n      <td>18.3</td>\n      <td>4.4</td>\n      <td>11.5</td>\n      <td>7.2</td>\n      <td>2.1</td>\n    </tr>\n    <tr>\n      <th>44</th>\n      <td>Utah</td>\n      <td>29.4</td>\n      <td>4.9</td>\n      <td>5.5</td>\n      <td>0.2</td>\n      <td>0.6</td>\n      <td>4.6</td>\n    </tr>\n    <tr>\n      <th>45</th>\n      <td>Vermont</td>\n      <td>22.2</td>\n      <td>4.3</td>\n      <td>0.7</td>\n      <td>None</td>\n      <td>0.5</td>\n      <td>0.1</td>\n    </tr>\n    <tr>\n      <th>47</th>\n      <td>Virginia</td>\n      <td>37.9</td>\n      <td>18.3</td>\n      <td>0.9</td>\n      <td>1.3</td>\n      <td>2.7</td>\n      <td>3.1</td>\n    </tr>\n    <tr>\n      <th>48</th>\n      <td>Washington</td>\n      <td>47.3</td>\n      <td>0.9</td>\n      <td>2.5</td>\n      <td>4.6</td>\n      <td>9.4</td>\n      <td>0.3</td>\n    </tr>\n    <tr>\n      <th>49</th>\n      <td>West Virginia</td>\n      <td>33.7</td>\n      <td>10.7</td>\n      <td>0.7</td>\n      <td>2.7</td>\n      <td>6.9</td>\n      <td>0.3</td>\n    </tr>\n    <tr>\n      <th>50</th>\n      <td>Wisconsin</td>\n      <td>46.4</td>\n      <td>20.5</td>\n      <td>13.9</td>\n      <td>18.1</td>\n      <td>6.5</td>\n      <td>3.9</td>\n    </tr>\n    <tr>\n      <th>51</th>\n      <td>Wyoming</td>\n      <td>45.7</td>\n      <td>0.4</td>\n      <td>3.3</td>\n      <td>2.2</td>\n      <td>6.3</td>\n      <td>2.5</td>\n    </tr>\n    <tr>\n      <th>53</th>\n      <td>Other States</td>\n      <td>11.3</td>\n      <td>4.5</td>\n      <td>4.2</td>\n      <td>7.7</td>\n      <td>1.4</td>\n      <td>0.1</td>\n    </tr>\n    <tr>\n      <th>55</th>\n      <td>United States</td>\n      <td>44.1</td>\n      <td>13.4</td>\n      <td>8.5</td>\n      <td>13.6</td>\n      <td>11.9</td>\n      <td>4.5</td>\n    </tr>\n  </tbody>\n</table>\n</div>"
     },
     "metadata": {},
     "execution_count": 10
    }
   ],
   "source": [
    "## (X) defined as: N/A\n",
    "## Assume \"-\" equals None\n",
    "## Replace \"-\" and (X) values with None\n",
    "hbcny_s_19q3 = hbcny_s_19q3.replace({'-': None})\n",
    "hbcny_s_19q3 = hbcny_s_19q3.replace({'(X)': None})\n",
    "hbcny_s_19q3"
   ]
  },
  {
   "cell_type": "code",
   "execution_count": 11,
   "metadata": {},
   "outputs": [
    {
     "output_type": "execute_result",
     "data": {
      "text/plain": [
       "             state v_mites other_pest_para diseases pesticides other unknown\n",
       "0          Alabama    30.6            24.6      2.9        0.2   9.7     6.4\n",
       "1          Arizona    29.0             9.9      2.7       11.4  13.2     0.6\n",
       "2         Arkansas    53.2            19.7      6.8       50.5   6.9    39.3\n",
       "3       California    49.0            11.5      8.7       16.0  11.1     3.2\n",
       "4         Colorado    79.8            12.5      4.8       10.2   9.4     1.0\n",
       "5      Connecticut    24.3             6.9      2.4       None   3.9     0.5\n",
       "6          Florida    44.9            20.7      6.3       18.2  11.7    10.8\n",
       "7          Georgia    52.5            18.6      1.6       25.8  17.1     4.6\n",
       "8           Hawaii    37.2            39.0      0.3       None   1.3     0.2\n",
       "9            Idaho    59.9            15.4     21.7        9.9  18.5     0.8\n",
       "10        Illinois    35.9             8.3      0.7        2.5   5.5    11.5\n",
       "11         Indiana    55.7            15.2      3.0       23.1  19.2     1.4\n",
       "12            Iowa    39.4             7.1      5.8       26.3  27.8     3.6\n",
       "13          Kansas    67.5            33.8     21.8       23.9   1.2     0.5\n",
       "14        Kentucky    29.2            17.6      0.4        5.2   7.9     8.6\n",
       "15       Louisiana    67.1            66.8      0.4       57.0   2.5     2.7\n",
       "16           Maine    10.1             0.7      0.1       None   0.2     0.1\n",
       "17        Maryland    26.7             2.7     None        0.3   5.1     1.4\n",
       "18   Massachusetts    13.0             2.9      0.2          0   0.7     7.3\n",
       "19        Michigan    42.7            16.4      8.7        7.3   2.1     1.5\n",
       "20       Minnesota    54.9             8.2      4.0       13.4   6.6     2.1\n",
       "21     Mississippi    59.1            45.6      2.4       25.4   4.0     5.1\n",
       "22        Missouri    18.4             7.1      0.4        0.8   2.1     0.6\n",
       "23         Montana    28.0            10.0     10.6        6.1   4.1     1.0\n",
       "24        Nebraska    29.2             2.7      1.8        2.8   7.2     1.9\n",
       "25      New Jersey    26.1             2.3      0.3        0.2   0.5     0.1\n",
       "26      New Mexico    39.5            29.1      0.9       None   0.8    None\n",
       "27        New York    30.7            11.5      1.2        8.2   2.5     3.8\n",
       "28  North Carolina    26.9            11.3     19.7        4.0   9.7     5.7\n",
       "29    North Dakota    48.4            10.2     14.7        9.0  23.7     9.3\n",
       "30            Ohio    40.6            23.0      4.2        1.8   5.9     3.9\n",
       "31        Oklahoma    29.0             1.4      0.1        0.1   4.1     4.4\n",
       "32          Oregon    35.4            12.8     19.8       15.1  16.6     0.4\n",
       "33    Pennsylvania    23.4             8.8      1.8        5.0   1.5     5.6\n",
       "34  South Carolina    44.9            11.6      0.6       16.2  19.6     3.7\n",
       "35    South Dakota    10.4             3.5      0.3       14.0   4.0     1.5\n",
       "36       Tennessee    51.4            23.3      0.2        9.1  11.5     1.5\n",
       "37           Texas    21.9            18.3      4.4       11.5   7.2     2.1\n",
       "38            Utah    29.4             4.9      5.5        0.2   0.6     4.6\n",
       "39         Vermont    22.2             4.3      0.7       None   0.5     0.1\n",
       "40        Virginia    37.9            18.3      0.9        1.3   2.7     3.1\n",
       "41      Washington    47.3             0.9      2.5        4.6   9.4     0.3\n",
       "42   West Virginia    33.7            10.7      0.7        2.7   6.9     0.3\n",
       "43       Wisconsin    46.4            20.5     13.9       18.1   6.5     3.9\n",
       "44         Wyoming    45.7             0.4      3.3        2.2   6.3     2.5\n",
       "45    Other States    11.3             4.5      4.2        7.7   1.4     0.1\n",
       "46   United States    44.1            13.4      8.5       13.6  11.9     4.5"
      ],
      "text/html": "<div>\n<style scoped>\n    .dataframe tbody tr th:only-of-type {\n        vertical-align: middle;\n    }\n\n    .dataframe tbody tr th {\n        vertical-align: top;\n    }\n\n    .dataframe thead th {\n        text-align: right;\n    }\n</style>\n<table border=\"1\" class=\"dataframe\">\n  <thead>\n    <tr style=\"text-align: right;\">\n      <th></th>\n      <th>state</th>\n      <th>v_mites</th>\n      <th>other_pest_para</th>\n      <th>diseases</th>\n      <th>pesticides</th>\n      <th>other</th>\n      <th>unknown</th>\n    </tr>\n  </thead>\n  <tbody>\n    <tr>\n      <th>0</th>\n      <td>Alabama</td>\n      <td>30.6</td>\n      <td>24.6</td>\n      <td>2.9</td>\n      <td>0.2</td>\n      <td>9.7</td>\n      <td>6.4</td>\n    </tr>\n    <tr>\n      <th>1</th>\n      <td>Arizona</td>\n      <td>29.0</td>\n      <td>9.9</td>\n      <td>2.7</td>\n      <td>11.4</td>\n      <td>13.2</td>\n      <td>0.6</td>\n    </tr>\n    <tr>\n      <th>2</th>\n      <td>Arkansas</td>\n      <td>53.2</td>\n      <td>19.7</td>\n      <td>6.8</td>\n      <td>50.5</td>\n      <td>6.9</td>\n      <td>39.3</td>\n    </tr>\n    <tr>\n      <th>3</th>\n      <td>California</td>\n      <td>49.0</td>\n      <td>11.5</td>\n      <td>8.7</td>\n      <td>16.0</td>\n      <td>11.1</td>\n      <td>3.2</td>\n    </tr>\n    <tr>\n      <th>4</th>\n      <td>Colorado</td>\n      <td>79.8</td>\n      <td>12.5</td>\n      <td>4.8</td>\n      <td>10.2</td>\n      <td>9.4</td>\n      <td>1.0</td>\n    </tr>\n    <tr>\n      <th>5</th>\n      <td>Connecticut</td>\n      <td>24.3</td>\n      <td>6.9</td>\n      <td>2.4</td>\n      <td>None</td>\n      <td>3.9</td>\n      <td>0.5</td>\n    </tr>\n    <tr>\n      <th>6</th>\n      <td>Florida</td>\n      <td>44.9</td>\n      <td>20.7</td>\n      <td>6.3</td>\n      <td>18.2</td>\n      <td>11.7</td>\n      <td>10.8</td>\n    </tr>\n    <tr>\n      <th>7</th>\n      <td>Georgia</td>\n      <td>52.5</td>\n      <td>18.6</td>\n      <td>1.6</td>\n      <td>25.8</td>\n      <td>17.1</td>\n      <td>4.6</td>\n    </tr>\n    <tr>\n      <th>8</th>\n      <td>Hawaii</td>\n      <td>37.2</td>\n      <td>39.0</td>\n      <td>0.3</td>\n      <td>None</td>\n      <td>1.3</td>\n      <td>0.2</td>\n    </tr>\n    <tr>\n      <th>9</th>\n      <td>Idaho</td>\n      <td>59.9</td>\n      <td>15.4</td>\n      <td>21.7</td>\n      <td>9.9</td>\n      <td>18.5</td>\n      <td>0.8</td>\n    </tr>\n    <tr>\n      <th>10</th>\n      <td>Illinois</td>\n      <td>35.9</td>\n      <td>8.3</td>\n      <td>0.7</td>\n      <td>2.5</td>\n      <td>5.5</td>\n      <td>11.5</td>\n    </tr>\n    <tr>\n      <th>11</th>\n      <td>Indiana</td>\n      <td>55.7</td>\n      <td>15.2</td>\n      <td>3.0</td>\n      <td>23.1</td>\n      <td>19.2</td>\n      <td>1.4</td>\n    </tr>\n    <tr>\n      <th>12</th>\n      <td>Iowa</td>\n      <td>39.4</td>\n      <td>7.1</td>\n      <td>5.8</td>\n      <td>26.3</td>\n      <td>27.8</td>\n      <td>3.6</td>\n    </tr>\n    <tr>\n      <th>13</th>\n      <td>Kansas</td>\n      <td>67.5</td>\n      <td>33.8</td>\n      <td>21.8</td>\n      <td>23.9</td>\n      <td>1.2</td>\n      <td>0.5</td>\n    </tr>\n    <tr>\n      <th>14</th>\n      <td>Kentucky</td>\n      <td>29.2</td>\n      <td>17.6</td>\n      <td>0.4</td>\n      <td>5.2</td>\n      <td>7.9</td>\n      <td>8.6</td>\n    </tr>\n    <tr>\n      <th>15</th>\n      <td>Louisiana</td>\n      <td>67.1</td>\n      <td>66.8</td>\n      <td>0.4</td>\n      <td>57.0</td>\n      <td>2.5</td>\n      <td>2.7</td>\n    </tr>\n    <tr>\n      <th>16</th>\n      <td>Maine</td>\n      <td>10.1</td>\n      <td>0.7</td>\n      <td>0.1</td>\n      <td>None</td>\n      <td>0.2</td>\n      <td>0.1</td>\n    </tr>\n    <tr>\n      <th>17</th>\n      <td>Maryland</td>\n      <td>26.7</td>\n      <td>2.7</td>\n      <td>None</td>\n      <td>0.3</td>\n      <td>5.1</td>\n      <td>1.4</td>\n    </tr>\n    <tr>\n      <th>18</th>\n      <td>Massachusetts</td>\n      <td>13.0</td>\n      <td>2.9</td>\n      <td>0.2</td>\n      <td>0</td>\n      <td>0.7</td>\n      <td>7.3</td>\n    </tr>\n    <tr>\n      <th>19</th>\n      <td>Michigan</td>\n      <td>42.7</td>\n      <td>16.4</td>\n      <td>8.7</td>\n      <td>7.3</td>\n      <td>2.1</td>\n      <td>1.5</td>\n    </tr>\n    <tr>\n      <th>20</th>\n      <td>Minnesota</td>\n      <td>54.9</td>\n      <td>8.2</td>\n      <td>4.0</td>\n      <td>13.4</td>\n      <td>6.6</td>\n      <td>2.1</td>\n    </tr>\n    <tr>\n      <th>21</th>\n      <td>Mississippi</td>\n      <td>59.1</td>\n      <td>45.6</td>\n      <td>2.4</td>\n      <td>25.4</td>\n      <td>4.0</td>\n      <td>5.1</td>\n    </tr>\n    <tr>\n      <th>22</th>\n      <td>Missouri</td>\n      <td>18.4</td>\n      <td>7.1</td>\n      <td>0.4</td>\n      <td>0.8</td>\n      <td>2.1</td>\n      <td>0.6</td>\n    </tr>\n    <tr>\n      <th>23</th>\n      <td>Montana</td>\n      <td>28.0</td>\n      <td>10.0</td>\n      <td>10.6</td>\n      <td>6.1</td>\n      <td>4.1</td>\n      <td>1.0</td>\n    </tr>\n    <tr>\n      <th>24</th>\n      <td>Nebraska</td>\n      <td>29.2</td>\n      <td>2.7</td>\n      <td>1.8</td>\n      <td>2.8</td>\n      <td>7.2</td>\n      <td>1.9</td>\n    </tr>\n    <tr>\n      <th>25</th>\n      <td>New Jersey</td>\n      <td>26.1</td>\n      <td>2.3</td>\n      <td>0.3</td>\n      <td>0.2</td>\n      <td>0.5</td>\n      <td>0.1</td>\n    </tr>\n    <tr>\n      <th>26</th>\n      <td>New Mexico</td>\n      <td>39.5</td>\n      <td>29.1</td>\n      <td>0.9</td>\n      <td>None</td>\n      <td>0.8</td>\n      <td>None</td>\n    </tr>\n    <tr>\n      <th>27</th>\n      <td>New York</td>\n      <td>30.7</td>\n      <td>11.5</td>\n      <td>1.2</td>\n      <td>8.2</td>\n      <td>2.5</td>\n      <td>3.8</td>\n    </tr>\n    <tr>\n      <th>28</th>\n      <td>North Carolina</td>\n      <td>26.9</td>\n      <td>11.3</td>\n      <td>19.7</td>\n      <td>4.0</td>\n      <td>9.7</td>\n      <td>5.7</td>\n    </tr>\n    <tr>\n      <th>29</th>\n      <td>North Dakota</td>\n      <td>48.4</td>\n      <td>10.2</td>\n      <td>14.7</td>\n      <td>9.0</td>\n      <td>23.7</td>\n      <td>9.3</td>\n    </tr>\n    <tr>\n      <th>30</th>\n      <td>Ohio</td>\n      <td>40.6</td>\n      <td>23.0</td>\n      <td>4.2</td>\n      <td>1.8</td>\n      <td>5.9</td>\n      <td>3.9</td>\n    </tr>\n    <tr>\n      <th>31</th>\n      <td>Oklahoma</td>\n      <td>29.0</td>\n      <td>1.4</td>\n      <td>0.1</td>\n      <td>0.1</td>\n      <td>4.1</td>\n      <td>4.4</td>\n    </tr>\n    <tr>\n      <th>32</th>\n      <td>Oregon</td>\n      <td>35.4</td>\n      <td>12.8</td>\n      <td>19.8</td>\n      <td>15.1</td>\n      <td>16.6</td>\n      <td>0.4</td>\n    </tr>\n    <tr>\n      <th>33</th>\n      <td>Pennsylvania</td>\n      <td>23.4</td>\n      <td>8.8</td>\n      <td>1.8</td>\n      <td>5.0</td>\n      <td>1.5</td>\n      <td>5.6</td>\n    </tr>\n    <tr>\n      <th>34</th>\n      <td>South Carolina</td>\n      <td>44.9</td>\n      <td>11.6</td>\n      <td>0.6</td>\n      <td>16.2</td>\n      <td>19.6</td>\n      <td>3.7</td>\n    </tr>\n    <tr>\n      <th>35</th>\n      <td>South Dakota</td>\n      <td>10.4</td>\n      <td>3.5</td>\n      <td>0.3</td>\n      <td>14.0</td>\n      <td>4.0</td>\n      <td>1.5</td>\n    </tr>\n    <tr>\n      <th>36</th>\n      <td>Tennessee</td>\n      <td>51.4</td>\n      <td>23.3</td>\n      <td>0.2</td>\n      <td>9.1</td>\n      <td>11.5</td>\n      <td>1.5</td>\n    </tr>\n    <tr>\n      <th>37</th>\n      <td>Texas</td>\n      <td>21.9</td>\n      <td>18.3</td>\n      <td>4.4</td>\n      <td>11.5</td>\n      <td>7.2</td>\n      <td>2.1</td>\n    </tr>\n    <tr>\n      <th>38</th>\n      <td>Utah</td>\n      <td>29.4</td>\n      <td>4.9</td>\n      <td>5.5</td>\n      <td>0.2</td>\n      <td>0.6</td>\n      <td>4.6</td>\n    </tr>\n    <tr>\n      <th>39</th>\n      <td>Vermont</td>\n      <td>22.2</td>\n      <td>4.3</td>\n      <td>0.7</td>\n      <td>None</td>\n      <td>0.5</td>\n      <td>0.1</td>\n    </tr>\n    <tr>\n      <th>40</th>\n      <td>Virginia</td>\n      <td>37.9</td>\n      <td>18.3</td>\n      <td>0.9</td>\n      <td>1.3</td>\n      <td>2.7</td>\n      <td>3.1</td>\n    </tr>\n    <tr>\n      <th>41</th>\n      <td>Washington</td>\n      <td>47.3</td>\n      <td>0.9</td>\n      <td>2.5</td>\n      <td>4.6</td>\n      <td>9.4</td>\n      <td>0.3</td>\n    </tr>\n    <tr>\n      <th>42</th>\n      <td>West Virginia</td>\n      <td>33.7</td>\n      <td>10.7</td>\n      <td>0.7</td>\n      <td>2.7</td>\n      <td>6.9</td>\n      <td>0.3</td>\n    </tr>\n    <tr>\n      <th>43</th>\n      <td>Wisconsin</td>\n      <td>46.4</td>\n      <td>20.5</td>\n      <td>13.9</td>\n      <td>18.1</td>\n      <td>6.5</td>\n      <td>3.9</td>\n    </tr>\n    <tr>\n      <th>44</th>\n      <td>Wyoming</td>\n      <td>45.7</td>\n      <td>0.4</td>\n      <td>3.3</td>\n      <td>2.2</td>\n      <td>6.3</td>\n      <td>2.5</td>\n    </tr>\n    <tr>\n      <th>45</th>\n      <td>Other States</td>\n      <td>11.3</td>\n      <td>4.5</td>\n      <td>4.2</td>\n      <td>7.7</td>\n      <td>1.4</td>\n      <td>0.1</td>\n    </tr>\n    <tr>\n      <th>46</th>\n      <td>United States</td>\n      <td>44.1</td>\n      <td>13.4</td>\n      <td>8.5</td>\n      <td>13.6</td>\n      <td>11.9</td>\n      <td>4.5</td>\n    </tr>\n  </tbody>\n</table>\n</div>"
     },
     "metadata": {},
     "execution_count": 11
    }
   ],
   "source": [
    "## Reset the index\n",
    "hbcny_s_19q3 = hbcny_s_19q3.reset_index(drop = True)\n",
    "hbcny_s_19q3"
   ]
  },
  {
   "cell_type": "code",
   "execution_count": 12,
   "metadata": {},
   "outputs": [],
   "source": [
    "hbcny_s_19q3.to_csv(\"hbcny_stress_19q3.csv\", index=False)"
   ]
  }
 ]
}