{
 "metadata": {
  "language_info": {
   "codemirror_mode": {
    "name": "ipython",
    "version": 3
   },
   "file_extension": ".py",
   "mimetype": "text/x-python",
   "name": "python",
   "nbconvert_exporter": "python",
   "pygments_lexer": "ipython3",
   "version": "3.8.5"
  },
  "orig_nbformat": 2,
  "kernelspec": {
   "name": "python385jvsc74a57bd06e67b620515b60b5e0a41f61aaaaaa0b5713da87d04dedede882ceace4acc361",
   "display_name": "Python 3.8.5 64-bit ('Daniel Ramirez': virtualenv)"
  }
 },
 "nbformat": 4,
 "nbformat_minor": 2,
 "cells": [
  {
   "cell_type": "code",
   "execution_count": 41,
   "metadata": {},
   "outputs": [],
   "source": [
    "## Dependencies and setup\n",
    "import pandas as pd"
   ]
  },
  {
   "cell_type": "code",
   "execution_count": 42,
   "metadata": {},
   "outputs": [],
   "source": [
    "## Load data files\n",
    "hbcny_c_d_19 = \"../../1_Extract/USDA-HB_Colony_Health_2019_and_2020/hbcny_collapse_disorder_19and20_t003.csv\""
   ]
  },
  {
   "cell_type": "code",
   "execution_count": 43,
   "metadata": {},
   "outputs": [
    {
     "output_type": "execute_result",
     "data": {
      "text/plain": [
       "   3  h                  Year January-March April-June July-September  \\\n",
       "0  3  h                   NaN           NaN        NaN            NaN   \n",
       "1  3  u                   NaN      (number)   (number)       (number)   \n",
       "2  3  d                  2019         59940       (NA)          67240   \n",
       "3  3  d                  2020        105240      55830            NaN   \n",
       "4  3  c                   NaN           NaN        NaN            NaN   \n",
       "5  3  f  (NA)  Not available.           NaN        NaN            NaN   \n",
       "\n",
       "  October-December  \n",
       "0              NaN  \n",
       "1         (number)  \n",
       "2            83710  \n",
       "3              NaN  \n",
       "4              NaN  \n",
       "5              NaN  "
      ],
      "text/html": "<div>\n<style scoped>\n    .dataframe tbody tr th:only-of-type {\n        vertical-align: middle;\n    }\n\n    .dataframe tbody tr th {\n        vertical-align: top;\n    }\n\n    .dataframe thead th {\n        text-align: right;\n    }\n</style>\n<table border=\"1\" class=\"dataframe\">\n  <thead>\n    <tr style=\"text-align: right;\">\n      <th></th>\n      <th>3</th>\n      <th>h</th>\n      <th>Year</th>\n      <th>January-March</th>\n      <th>April-June</th>\n      <th>July-September</th>\n      <th>October-December</th>\n    </tr>\n  </thead>\n  <tbody>\n    <tr>\n      <th>0</th>\n      <td>3</td>\n      <td>h</td>\n      <td>NaN</td>\n      <td>NaN</td>\n      <td>NaN</td>\n      <td>NaN</td>\n      <td>NaN</td>\n    </tr>\n    <tr>\n      <th>1</th>\n      <td>3</td>\n      <td>u</td>\n      <td>NaN</td>\n      <td>(number)</td>\n      <td>(number)</td>\n      <td>(number)</td>\n      <td>(number)</td>\n    </tr>\n    <tr>\n      <th>2</th>\n      <td>3</td>\n      <td>d</td>\n      <td>2019</td>\n      <td>59940</td>\n      <td>(NA)</td>\n      <td>67240</td>\n      <td>83710</td>\n    </tr>\n    <tr>\n      <th>3</th>\n      <td>3</td>\n      <td>d</td>\n      <td>2020</td>\n      <td>105240</td>\n      <td>55830</td>\n      <td>NaN</td>\n      <td>NaN</td>\n    </tr>\n    <tr>\n      <th>4</th>\n      <td>3</td>\n      <td>c</td>\n      <td>NaN</td>\n      <td>NaN</td>\n      <td>NaN</td>\n      <td>NaN</td>\n      <td>NaN</td>\n    </tr>\n    <tr>\n      <th>5</th>\n      <td>3</td>\n      <td>f</td>\n      <td>(NA)  Not available.</td>\n      <td>NaN</td>\n      <td>NaN</td>\n      <td>NaN</td>\n      <td>NaN</td>\n    </tr>\n  </tbody>\n</table>\n</div>"
     },
     "metadata": {},
     "execution_count": 43
    }
   ],
   "source": [
    "## Read data and store into df\n",
    "## Drop the first 4 rows which hold info text\n",
    "hbcny_c_d_19 = pd.read_csv(hbcny_c_d_19, skiprows=4)\n",
    "## Convert to df\n",
    "hbcny_c_d_19 = pd.DataFrame(hbcny_c_d_19)\n",
    "hbcny_c_d_19"
   ]
  },
  {
   "cell_type": "code",
   "execution_count": 44,
   "metadata": {},
   "outputs": [
    {
     "output_type": "execute_result",
     "data": {
      "text/plain": [
       "                   Year January-March April-June July-September  \\\n",
       "0                   NaN           NaN        NaN            NaN   \n",
       "1                   NaN      (number)   (number)       (number)   \n",
       "2                  2019         59940       (NA)          67240   \n",
       "3                  2020        105240      55830            NaN   \n",
       "4                   NaN           NaN        NaN            NaN   \n",
       "5  (NA)  Not available.           NaN        NaN            NaN   \n",
       "\n",
       "  October-December  \n",
       "0              NaN  \n",
       "1         (number)  \n",
       "2            83710  \n",
       "3              NaN  \n",
       "4              NaN  \n",
       "5              NaN  "
      ],
      "text/html": "<div>\n<style scoped>\n    .dataframe tbody tr th:only-of-type {\n        vertical-align: middle;\n    }\n\n    .dataframe tbody tr th {\n        vertical-align: top;\n    }\n\n    .dataframe thead th {\n        text-align: right;\n    }\n</style>\n<table border=\"1\" class=\"dataframe\">\n  <thead>\n    <tr style=\"text-align: right;\">\n      <th></th>\n      <th>Year</th>\n      <th>January-March</th>\n      <th>April-June</th>\n      <th>July-September</th>\n      <th>October-December</th>\n    </tr>\n  </thead>\n  <tbody>\n    <tr>\n      <th>0</th>\n      <td>NaN</td>\n      <td>NaN</td>\n      <td>NaN</td>\n      <td>NaN</td>\n      <td>NaN</td>\n    </tr>\n    <tr>\n      <th>1</th>\n      <td>NaN</td>\n      <td>(number)</td>\n      <td>(number)</td>\n      <td>(number)</td>\n      <td>(number)</td>\n    </tr>\n    <tr>\n      <th>2</th>\n      <td>2019</td>\n      <td>59940</td>\n      <td>(NA)</td>\n      <td>67240</td>\n      <td>83710</td>\n    </tr>\n    <tr>\n      <th>3</th>\n      <td>2020</td>\n      <td>105240</td>\n      <td>55830</td>\n      <td>NaN</td>\n      <td>NaN</td>\n    </tr>\n    <tr>\n      <th>4</th>\n      <td>NaN</td>\n      <td>NaN</td>\n      <td>NaN</td>\n      <td>NaN</td>\n      <td>NaN</td>\n    </tr>\n    <tr>\n      <th>5</th>\n      <td>(NA)  Not available.</td>\n      <td>NaN</td>\n      <td>NaN</td>\n      <td>NaN</td>\n      <td>NaN</td>\n    </tr>\n  </tbody>\n</table>\n</div>"
     },
     "metadata": {},
     "execution_count": 44
    }
   ],
   "source": [
    "## Drop erroneous first 2 columns\n",
    "hbcny_c_d_19.drop(hbcny_c_d_19.iloc[:, [0, 1]], axis = 1, inplace = True)\n",
    "hbcny_c_d_19"
   ]
  },
  {
   "cell_type": "code",
   "execution_count": 45,
   "metadata": {},
   "outputs": [
    {
     "output_type": "execute_result",
     "data": {
      "text/plain": [
       "   Year January-March April-June July-September October-December\n",
       "2  2019         59940       (NA)          67240            83710"
      ],
      "text/html": "<div>\n<style scoped>\n    .dataframe tbody tr th:only-of-type {\n        vertical-align: middle;\n    }\n\n    .dataframe tbody tr th {\n        vertical-align: top;\n    }\n\n    .dataframe thead th {\n        text-align: right;\n    }\n</style>\n<table border=\"1\" class=\"dataframe\">\n  <thead>\n    <tr style=\"text-align: right;\">\n      <th></th>\n      <th>Year</th>\n      <th>January-March</th>\n      <th>April-June</th>\n      <th>July-September</th>\n      <th>October-December</th>\n    </tr>\n  </thead>\n  <tbody>\n    <tr>\n      <th>2</th>\n      <td>2019</td>\n      <td>59940</td>\n      <td>(NA)</td>\n      <td>67240</td>\n      <td>83710</td>\n    </tr>\n  </tbody>\n</table>\n</div>"
     },
     "metadata": {},
     "execution_count": 45
    }
   ],
   "source": [
    "## Drop blank rows\n",
    "hbcny_c_d_19 = hbcny_c_d_19.dropna()\n",
    "hbcny_c_d_19"
   ]
  },
  {
   "cell_type": "code",
   "execution_count": 46,
   "metadata": {},
   "outputs": [
    {
     "output_type": "execute_result",
     "data": {
      "text/plain": [
       "   Year January-March April-June July-September October-December\n",
       "2  2019         59940       None          67240            83710"
      ],
      "text/html": "<div>\n<style scoped>\n    .dataframe tbody tr th:only-of-type {\n        vertical-align: middle;\n    }\n\n    .dataframe tbody tr th {\n        vertical-align: top;\n    }\n\n    .dataframe thead th {\n        text-align: right;\n    }\n</style>\n<table border=\"1\" class=\"dataframe\">\n  <thead>\n    <tr style=\"text-align: right;\">\n      <th></th>\n      <th>Year</th>\n      <th>January-March</th>\n      <th>April-June</th>\n      <th>July-September</th>\n      <th>October-December</th>\n    </tr>\n  </thead>\n  <tbody>\n    <tr>\n      <th>2</th>\n      <td>2019</td>\n      <td>59940</td>\n      <td>None</td>\n      <td>67240</td>\n      <td>83710</td>\n    </tr>\n  </tbody>\n</table>\n</div>"
     },
     "metadata": {},
     "execution_count": 46
    }
   ],
   "source": [
    "## Replace \"NA\" with None so you can sum across\n",
    "hbcny_c_d_19 = hbcny_c_d_19.replace({\"(NA)\": None})\n",
    "hbcny_c_d_19"
   ]
  },
  {
   "cell_type": "code",
   "execution_count": 47,
   "metadata": {},
   "outputs": [
    {
     "output_type": "stream",
     "name": "stdout",
     "text": [
      "Year                object\nJanuary-March       object\nApril-June          object\nJuly-September      object\nOctober-December    object\ndtype: object\n"
     ]
    }
   ],
   "source": [
    "## Check datatype\n",
    "print(hbcny_c_d_19.dtypes)"
   ]
  },
  {
   "cell_type": "code",
   "execution_count": 48,
   "metadata": {},
   "outputs": [
    {
     "output_type": "stream",
     "name": "stdout",
     "text": [
      "Year                object\nJanuary-March        int32\nApril-June          object\nJuly-September       int32\nOctober-December     int32\ndtype: object\n"
     ]
    }
   ],
   "source": [
    "## Convert from Object to String to Integer in order to sum\n",
    "## Do not include Q2 since is NaN value\n",
    "hbcny_c_d_19[\"January-March\"] = hbcny_c_d_19[\"January-March\"].astype(str).astype(int)\n",
    "#hbcny_c_d_19[\"April-June\"] = hbcny_c_d_19[\"April-June\"].astype(str).astype(int)\n",
    "hbcny_c_d_19[\"July-September\"] = hbcny_c_d_19[\"July-September\"].astype(str).astype(int)\n",
    "hbcny_c_d_19[\"October-December\"] = hbcny_c_d_19[\"October-December\"].astype(str).astype(int)\n",
    "\n",
    "print(hbcny_c_d_19.dtypes)"
   ]
  },
  {
   "cell_type": "code",
   "execution_count": 49,
   "metadata": {},
   "outputs": [
    {
     "output_type": "execute_result",
     "data": {
      "text/plain": [
       "   Year  January-March April-June  July-September  October-December  \\\n",
       "2  2019          59940       None           67240             83710   \n",
       "\n",
       "   hbcny_lost_c_d_19  \n",
       "2             210890  "
      ],
      "text/html": "<div>\n<style scoped>\n    .dataframe tbody tr th:only-of-type {\n        vertical-align: middle;\n    }\n\n    .dataframe tbody tr th {\n        vertical-align: top;\n    }\n\n    .dataframe thead th {\n        text-align: right;\n    }\n</style>\n<table border=\"1\" class=\"dataframe\">\n  <thead>\n    <tr style=\"text-align: right;\">\n      <th></th>\n      <th>Year</th>\n      <th>January-March</th>\n      <th>April-June</th>\n      <th>July-September</th>\n      <th>October-December</th>\n      <th>hbcny_lost_c_d_19</th>\n    </tr>\n  </thead>\n  <tbody>\n    <tr>\n      <th>2</th>\n      <td>2019</td>\n      <td>59940</td>\n      <td>None</td>\n      <td>67240</td>\n      <td>83710</td>\n      <td>210890</td>\n    </tr>\n  </tbody>\n</table>\n</div>"
     },
     "metadata": {},
     "execution_count": 49
    }
   ],
   "source": [
    "# tot_budget = school_data[\"budget\"].sum()\n",
    "## Sum colonies lost due to Collapse Disorder in 2019\n",
    "dflist = [\"January-March\", \"July-September\", \"October-December\"]\n",
    "hbcny_c_d_19[\"hbcny_lost_c_d_19\"] = hbcny_c_d_19[dflist].sum(axis=1)\n",
    "hbcny_c_d_19"
   ]
  },
  {
   "cell_type": "code",
   "execution_count": 50,
   "metadata": {},
   "outputs": [
    {
     "output_type": "execute_result",
     "data": {
      "text/plain": [
       "   Year  January-March April-June  July-September  October-December  \\\n",
       "0  2019          59940       None           67240             83710   \n",
       "\n",
       "   hbcny_lost_c_d_19  \n",
       "0             210890  "
      ],
      "text/html": "<div>\n<style scoped>\n    .dataframe tbody tr th:only-of-type {\n        vertical-align: middle;\n    }\n\n    .dataframe tbody tr th {\n        vertical-align: top;\n    }\n\n    .dataframe thead th {\n        text-align: right;\n    }\n</style>\n<table border=\"1\" class=\"dataframe\">\n  <thead>\n    <tr style=\"text-align: right;\">\n      <th></th>\n      <th>Year</th>\n      <th>January-March</th>\n      <th>April-June</th>\n      <th>July-September</th>\n      <th>October-December</th>\n      <th>hbcny_lost_c_d_19</th>\n    </tr>\n  </thead>\n  <tbody>\n    <tr>\n      <th>0</th>\n      <td>2019</td>\n      <td>59940</td>\n      <td>None</td>\n      <td>67240</td>\n      <td>83710</td>\n      <td>210890</td>\n    </tr>\n  </tbody>\n</table>\n</div>"
     },
     "metadata": {},
     "execution_count": 50
    }
   ],
   "source": [
    "## Reset the index\n",
    "hbcny_c_d_19 = hbcny_c_d_19.reset_index(drop = True)\n",
    "hbcny_c_d_19"
   ]
  },
  {
   "cell_type": "code",
   "execution_count": 51,
   "metadata": {},
   "outputs": [
    {
     "output_type": "execute_result",
     "data": {
      "text/plain": [
       "   Year  hbcny_lost_c_d_19\n",
       "0  2019             210890"
      ],
      "text/html": "<div>\n<style scoped>\n    .dataframe tbody tr th:only-of-type {\n        vertical-align: middle;\n    }\n\n    .dataframe tbody tr th {\n        vertical-align: top;\n    }\n\n    .dataframe thead th {\n        text-align: right;\n    }\n</style>\n<table border=\"1\" class=\"dataframe\">\n  <thead>\n    <tr style=\"text-align: right;\">\n      <th></th>\n      <th>Year</th>\n      <th>hbcny_lost_c_d_19</th>\n    </tr>\n  </thead>\n  <tbody>\n    <tr>\n      <th>0</th>\n      <td>2019</td>\n      <td>210890</td>\n    </tr>\n  </tbody>\n</table>\n</div>"
     },
     "metadata": {},
     "execution_count": 51
    }
   ],
   "source": [
    "## Drop quarter columns\n",
    "hbcny_c_d_19.drop(hbcny_c_d_19.iloc[:, [1, 2, 3, 4]], axis = 1, inplace = True)\n",
    "hbcny_c_d_19"
   ]
  },
  {
   "cell_type": "code",
   "execution_count": 52,
   "metadata": {},
   "outputs": [
    {
     "output_type": "execute_result",
     "data": {
      "text/plain": [
       "   year  hbcny_lost_c_d_19\n",
       "0  2019             210890"
      ],
      "text/html": "<div>\n<style scoped>\n    .dataframe tbody tr th:only-of-type {\n        vertical-align: middle;\n    }\n\n    .dataframe tbody tr th {\n        vertical-align: top;\n    }\n\n    .dataframe thead th {\n        text-align: right;\n    }\n</style>\n<table border=\"1\" class=\"dataframe\">\n  <thead>\n    <tr style=\"text-align: right;\">\n      <th></th>\n      <th>year</th>\n      <th>hbcny_lost_c_d_19</th>\n    </tr>\n  </thead>\n  <tbody>\n    <tr>\n      <th>0</th>\n      <td>2019</td>\n      <td>210890</td>\n    </tr>\n  </tbody>\n</table>\n</div>"
     },
     "metadata": {},
     "execution_count": 52
    }
   ],
   "source": [
    "## Rename columns\n",
    "hbcny_c_d_19 = hbcny_c_d_19.rename(columns={\n",
    "    \"Year\": \"year\"\n",
    "})\n",
    "hbcny_c_d_19"
   ]
  },
  {
   "cell_type": "code",
   "execution_count": 53,
   "metadata": {},
   "outputs": [],
   "source": [
    "hbcny_c_d_19.to_csv(\"../hbcny_c_d_19.csv\", index = False)"
   ]
  }
 ]
}