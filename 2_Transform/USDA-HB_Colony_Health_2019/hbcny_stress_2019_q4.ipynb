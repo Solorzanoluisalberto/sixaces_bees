{
 "metadata": {
  "language_info": {
   "codemirror_mode": {
    "name": "ipython",
    "version": 3
   },
   "file_extension": ".py",
   "mimetype": "text/x-python",
   "name": "python",
   "nbconvert_exporter": "python",
   "pygments_lexer": "ipython3",
   "version": "3.8.5"
  },
  "orig_nbformat": 2,
  "kernelspec": {
   "name": "python385jvsc74a57bd06e67b620515b60b5e0a41f61aaaaaa0b5713da87d04dedede882ceace4acc361",
   "display_name": "Python 3.8.5 64-bit ('Daniel Ramirez': virtualenv)"
  }
 },
 "nbformat": 4,
 "nbformat_minor": 2,
 "cells": [
  {
   "cell_type": "code",
   "execution_count": 1,
   "metadata": {},
   "outputs": [],
   "source": [
    "## Dependencies and setup\n",
    "import pandas as pd"
   ]
  },
  {
   "cell_type": "code",
   "execution_count": 2,
   "metadata": {},
   "outputs": [],
   "source": [
    "## Load data files\n",
    "hbcny_s_19q4 = \"../../1_Extract/USDA-HB_Colony_Health_2019_and_2020/hbcny_stress_2019_q4_t010.csv\""
   ]
  },
  {
   "cell_type": "code",
   "execution_count": 3,
   "metadata": {},
   "outputs": [
    {
     "output_type": "execute_result",
     "data": {
      "text/plain": [
       "   10  h Unnamed: 2     Varroa       Other pests   Unnamed: 5  Unnamed: 6  \\\n",
       "0  10  h      State      mites  and parasites 1/  Diseases 2/  Pesticides   \n",
       "1  10  h        NaN        NaN               NaN          NaN         NaN   \n",
       "2  10  u        NaN  (percent)         (percent)    (percent)   (percent)   \n",
       "3  10  d    Alabama       46.7              26.7          0.6         4.9   \n",
       "4  10  d    Arizona       53.9               1.5          0.4        23.3   \n",
       "\n",
       "  Unnamed: 7 Unnamed: 8  \n",
       "0   Other 3/    Unknown  \n",
       "1        NaN        NaN  \n",
       "2  (percent)  (percent)  \n",
       "3        9.0       11.3  \n",
       "4        4.0        2.9  "
      ],
      "text/html": "<div>\n<style scoped>\n    .dataframe tbody tr th:only-of-type {\n        vertical-align: middle;\n    }\n\n    .dataframe tbody tr th {\n        vertical-align: top;\n    }\n\n    .dataframe thead th {\n        text-align: right;\n    }\n</style>\n<table border=\"1\" class=\"dataframe\">\n  <thead>\n    <tr style=\"text-align: right;\">\n      <th></th>\n      <th>10</th>\n      <th>h</th>\n      <th>Unnamed: 2</th>\n      <th>Varroa</th>\n      <th>Other pests</th>\n      <th>Unnamed: 5</th>\n      <th>Unnamed: 6</th>\n      <th>Unnamed: 7</th>\n      <th>Unnamed: 8</th>\n    </tr>\n  </thead>\n  <tbody>\n    <tr>\n      <th>0</th>\n      <td>10</td>\n      <td>h</td>\n      <td>State</td>\n      <td>mites</td>\n      <td>and parasites 1/</td>\n      <td>Diseases 2/</td>\n      <td>Pesticides</td>\n      <td>Other 3/</td>\n      <td>Unknown</td>\n    </tr>\n    <tr>\n      <th>1</th>\n      <td>10</td>\n      <td>h</td>\n      <td>NaN</td>\n      <td>NaN</td>\n      <td>NaN</td>\n      <td>NaN</td>\n      <td>NaN</td>\n      <td>NaN</td>\n      <td>NaN</td>\n    </tr>\n    <tr>\n      <th>2</th>\n      <td>10</td>\n      <td>u</td>\n      <td>NaN</td>\n      <td>(percent)</td>\n      <td>(percent)</td>\n      <td>(percent)</td>\n      <td>(percent)</td>\n      <td>(percent)</td>\n      <td>(percent)</td>\n    </tr>\n    <tr>\n      <th>3</th>\n      <td>10</td>\n      <td>d</td>\n      <td>Alabama</td>\n      <td>46.7</td>\n      <td>26.7</td>\n      <td>0.6</td>\n      <td>4.9</td>\n      <td>9.0</td>\n      <td>11.3</td>\n    </tr>\n    <tr>\n      <th>4</th>\n      <td>10</td>\n      <td>d</td>\n      <td>Arizona</td>\n      <td>53.9</td>\n      <td>1.5</td>\n      <td>0.4</td>\n      <td>23.3</td>\n      <td>4.0</td>\n      <td>2.9</td>\n    </tr>\n  </tbody>\n</table>\n</div>"
     },
     "metadata": {},
     "execution_count": 3
    }
   ],
   "source": [
    "## Read data and store into df\n",
    "## Drop the first 4 rows which hold info text\n",
    "hbcny_s_19q4 = pd.read_csv(hbcny_s_19q4, skiprows=4)\n",
    "hbcny_s_19q4.head()"
   ]
  },
  {
   "cell_type": "code",
   "execution_count": 4,
   "metadata": {},
   "outputs": [
    {
     "output_type": "execute_result",
     "data": {
      "text/plain": [
       "    10  h                                         Unnamed: 2     Varroa  \\\n",
       "0   10  h                                              State      mites   \n",
       "1   10  h                                                NaN        NaN   \n",
       "2   10  u                                                NaN  (percent)   \n",
       "3   10  d                                            Alabama       46.7   \n",
       "4   10  d                                            Arizona       53.9   \n",
       "..  .. ..                                                ...        ...   \n",
       "58  10  f             (Z)  Less than half of the unit shown.        NaN   \n",
       "59  10  f  1/ Tracheal mites, nosema, hive beetle, wax mo...        NaN   \n",
       "60  10  f  2/ Includes American and European foulbrood, c...        NaN   \n",
       "61  10  f  3/ Includes weather, starvation, insufficient ...        NaN   \n",
       "62  10  f  4/ Includes data for States not published in t...        NaN   \n",
       "\n",
       "         Other pests   Unnamed: 5  Unnamed: 6 Unnamed: 7 Unnamed: 8  \n",
       "0   and parasites 1/  Diseases 2/  Pesticides   Other 3/    Unknown  \n",
       "1                NaN          NaN         NaN        NaN        NaN  \n",
       "2          (percent)    (percent)   (percent)  (percent)  (percent)  \n",
       "3               26.7          0.6         4.9        9.0       11.3  \n",
       "4                1.5          0.4        23.3        4.0        2.9  \n",
       "..               ...          ...         ...        ...        ...  \n",
       "58               NaN          NaN         NaN        NaN        NaN  \n",
       "59               NaN          NaN         NaN        NaN        NaN  \n",
       "60               NaN          NaN         NaN        NaN        NaN  \n",
       "61               NaN          NaN         NaN        NaN        NaN  \n",
       "62               NaN          NaN         NaN        NaN        NaN  \n",
       "\n",
       "[63 rows x 9 columns]"
      ],
      "text/html": "<div>\n<style scoped>\n    .dataframe tbody tr th:only-of-type {\n        vertical-align: middle;\n    }\n\n    .dataframe tbody tr th {\n        vertical-align: top;\n    }\n\n    .dataframe thead th {\n        text-align: right;\n    }\n</style>\n<table border=\"1\" class=\"dataframe\">\n  <thead>\n    <tr style=\"text-align: right;\">\n      <th></th>\n      <th>10</th>\n      <th>h</th>\n      <th>Unnamed: 2</th>\n      <th>Varroa</th>\n      <th>Other pests</th>\n      <th>Unnamed: 5</th>\n      <th>Unnamed: 6</th>\n      <th>Unnamed: 7</th>\n      <th>Unnamed: 8</th>\n    </tr>\n  </thead>\n  <tbody>\n    <tr>\n      <th>0</th>\n      <td>10</td>\n      <td>h</td>\n      <td>State</td>\n      <td>mites</td>\n      <td>and parasites 1/</td>\n      <td>Diseases 2/</td>\n      <td>Pesticides</td>\n      <td>Other 3/</td>\n      <td>Unknown</td>\n    </tr>\n    <tr>\n      <th>1</th>\n      <td>10</td>\n      <td>h</td>\n      <td>NaN</td>\n      <td>NaN</td>\n      <td>NaN</td>\n      <td>NaN</td>\n      <td>NaN</td>\n      <td>NaN</td>\n      <td>NaN</td>\n    </tr>\n    <tr>\n      <th>2</th>\n      <td>10</td>\n      <td>u</td>\n      <td>NaN</td>\n      <td>(percent)</td>\n      <td>(percent)</td>\n      <td>(percent)</td>\n      <td>(percent)</td>\n      <td>(percent)</td>\n      <td>(percent)</td>\n    </tr>\n    <tr>\n      <th>3</th>\n      <td>10</td>\n      <td>d</td>\n      <td>Alabama</td>\n      <td>46.7</td>\n      <td>26.7</td>\n      <td>0.6</td>\n      <td>4.9</td>\n      <td>9.0</td>\n      <td>11.3</td>\n    </tr>\n    <tr>\n      <th>4</th>\n      <td>10</td>\n      <td>d</td>\n      <td>Arizona</td>\n      <td>53.9</td>\n      <td>1.5</td>\n      <td>0.4</td>\n      <td>23.3</td>\n      <td>4.0</td>\n      <td>2.9</td>\n    </tr>\n    <tr>\n      <th>...</th>\n      <td>...</td>\n      <td>...</td>\n      <td>...</td>\n      <td>...</td>\n      <td>...</td>\n      <td>...</td>\n      <td>...</td>\n      <td>...</td>\n      <td>...</td>\n    </tr>\n    <tr>\n      <th>58</th>\n      <td>10</td>\n      <td>f</td>\n      <td>(Z)  Less than half of the unit shown.</td>\n      <td>NaN</td>\n      <td>NaN</td>\n      <td>NaN</td>\n      <td>NaN</td>\n      <td>NaN</td>\n      <td>NaN</td>\n    </tr>\n    <tr>\n      <th>59</th>\n      <td>10</td>\n      <td>f</td>\n      <td>1/ Tracheal mites, nosema, hive beetle, wax mo...</td>\n      <td>NaN</td>\n      <td>NaN</td>\n      <td>NaN</td>\n      <td>NaN</td>\n      <td>NaN</td>\n      <td>NaN</td>\n    </tr>\n    <tr>\n      <th>60</th>\n      <td>10</td>\n      <td>f</td>\n      <td>2/ Includes American and European foulbrood, c...</td>\n      <td>NaN</td>\n      <td>NaN</td>\n      <td>NaN</td>\n      <td>NaN</td>\n      <td>NaN</td>\n      <td>NaN</td>\n    </tr>\n    <tr>\n      <th>61</th>\n      <td>10</td>\n      <td>f</td>\n      <td>3/ Includes weather, starvation, insufficient ...</td>\n      <td>NaN</td>\n      <td>NaN</td>\n      <td>NaN</td>\n      <td>NaN</td>\n      <td>NaN</td>\n      <td>NaN</td>\n    </tr>\n    <tr>\n      <th>62</th>\n      <td>10</td>\n      <td>f</td>\n      <td>4/ Includes data for States not published in t...</td>\n      <td>NaN</td>\n      <td>NaN</td>\n      <td>NaN</td>\n      <td>NaN</td>\n      <td>NaN</td>\n      <td>NaN</td>\n    </tr>\n  </tbody>\n</table>\n<p>63 rows × 9 columns</p>\n</div>"
     },
     "metadata": {},
     "execution_count": 4
    }
   ],
   "source": [
    "hbcny_s_19q4 = pd.DataFrame(hbcny_s_19q4)\n",
    "hbcny_s_19q4"
   ]
  },
  {
   "cell_type": "code",
   "execution_count": 5,
   "metadata": {},
   "outputs": [
    {
     "output_type": "execute_result",
     "data": {
      "text/plain": [
       "  Unnamed: 2     Varroa       Other pests   Unnamed: 5  Unnamed: 6 Unnamed: 7  \\\n",
       "0      State      mites  and parasites 1/  Diseases 2/  Pesticides   Other 3/   \n",
       "1        NaN        NaN               NaN          NaN         NaN        NaN   \n",
       "2        NaN  (percent)         (percent)    (percent)   (percent)  (percent)   \n",
       "3    Alabama       46.7              26.7          0.6         4.9        9.0   \n",
       "4    Arizona       53.9               1.5          0.4        23.3        4.0   \n",
       "\n",
       "  Unnamed: 8  \n",
       "0    Unknown  \n",
       "1        NaN  \n",
       "2  (percent)  \n",
       "3       11.3  \n",
       "4        2.9  "
      ],
      "text/html": "<div>\n<style scoped>\n    .dataframe tbody tr th:only-of-type {\n        vertical-align: middle;\n    }\n\n    .dataframe tbody tr th {\n        vertical-align: top;\n    }\n\n    .dataframe thead th {\n        text-align: right;\n    }\n</style>\n<table border=\"1\" class=\"dataframe\">\n  <thead>\n    <tr style=\"text-align: right;\">\n      <th></th>\n      <th>Unnamed: 2</th>\n      <th>Varroa</th>\n      <th>Other pests</th>\n      <th>Unnamed: 5</th>\n      <th>Unnamed: 6</th>\n      <th>Unnamed: 7</th>\n      <th>Unnamed: 8</th>\n    </tr>\n  </thead>\n  <tbody>\n    <tr>\n      <th>0</th>\n      <td>State</td>\n      <td>mites</td>\n      <td>and parasites 1/</td>\n      <td>Diseases 2/</td>\n      <td>Pesticides</td>\n      <td>Other 3/</td>\n      <td>Unknown</td>\n    </tr>\n    <tr>\n      <th>1</th>\n      <td>NaN</td>\n      <td>NaN</td>\n      <td>NaN</td>\n      <td>NaN</td>\n      <td>NaN</td>\n      <td>NaN</td>\n      <td>NaN</td>\n    </tr>\n    <tr>\n      <th>2</th>\n      <td>NaN</td>\n      <td>(percent)</td>\n      <td>(percent)</td>\n      <td>(percent)</td>\n      <td>(percent)</td>\n      <td>(percent)</td>\n      <td>(percent)</td>\n    </tr>\n    <tr>\n      <th>3</th>\n      <td>Alabama</td>\n      <td>46.7</td>\n      <td>26.7</td>\n      <td>0.6</td>\n      <td>4.9</td>\n      <td>9.0</td>\n      <td>11.3</td>\n    </tr>\n    <tr>\n      <th>4</th>\n      <td>Arizona</td>\n      <td>53.9</td>\n      <td>1.5</td>\n      <td>0.4</td>\n      <td>23.3</td>\n      <td>4.0</td>\n      <td>2.9</td>\n    </tr>\n  </tbody>\n</table>\n</div>"
     },
     "metadata": {},
     "execution_count": 5
    }
   ],
   "source": [
    "## Drop erroneous first 2 columns\n",
    "hbcny_s_19q4.drop(hbcny_s_19q4.iloc[:, [0, 1]], axis = 1, inplace = True)\n",
    "\n",
    "## Drop erroneous last few rows\n",
    "#hbcny_s_19q4.drop(hbcny_s_19q4.index[57:63])\n",
    "hbcny_s_19q4.head()"
   ]
  },
  {
   "cell_type": "code",
   "execution_count": 6,
   "metadata": {},
   "outputs": [
    {
     "output_type": "execute_result",
     "data": {
      "text/plain": [
       "                                                state v_mites other_pest_para  \\\n",
       "3                                             Alabama    46.7            26.7   \n",
       "4                                             Arizona    53.9             1.5   \n",
       "5                                            Arkansas    47.7            39.7   \n",
       "6                                          California    40.5            10.9   \n",
       "7                                            Colorado    67.7             1.5   \n",
       "8                                         Connecticut    22.2            11.1   \n",
       "9                                             Florida    43.5            25.6   \n",
       "10                                            Georgia    34.3            18.2   \n",
       "11                                             Hawaii    44.0            61.8   \n",
       "12                                              Idaho    20.3             4.3   \n",
       "13                                                NaN     NaN             NaN   \n",
       "14                                           Illinois    28.9            27.3   \n",
       "15                                            Indiana    20.7            15.0   \n",
       "16                                               Iowa    61.0            17.8   \n",
       "17                                             Kansas    65.8            15.0   \n",
       "18                                           Kentucky    33.0            20.1   \n",
       "19                                          Louisiana    33.0            18.5   \n",
       "20                                              Maine    20.5               -   \n",
       "21                                           Maryland    12.6             4.5   \n",
       "22                                      Massachusetts     7.6             0.2   \n",
       "23                                           Michigan    37.0             9.7   \n",
       "24                                                NaN     NaN             NaN   \n",
       "25                                          Minnesota    37.3             7.8   \n",
       "26                                        Mississippi    41.0            38.0   \n",
       "27                                           Missouri    19.2             5.9   \n",
       "28                                            Montana    15.7             1.8   \n",
       "29                                           Nebraska     5.8             1.0   \n",
       "30                                         New Jersey     2.5             0.9   \n",
       "31                                         New Mexico     5.2             0.3   \n",
       "32                                           New York    33.3            24.8   \n",
       "33                                     North Carolina    44.5            21.0   \n",
       "34                                       North Dakota    43.0             7.1   \n",
       "35                                                NaN     NaN             NaN   \n",
       "36                                               Ohio    33.2             5.6   \n",
       "37                                           Oklahoma     1.0             0.4   \n",
       "38                                             Oregon    35.8             2.1   \n",
       "39                                       Pennsylvania    33.2             4.6   \n",
       "40                                     South Carolina    56.7            18.4   \n",
       "41                                       South Dakota    12.2             6.1   \n",
       "42                                          Tennessee    66.6            53.5   \n",
       "43                                              Texas    23.1            14.0   \n",
       "44                                               Utah    22.1             2.0   \n",
       "45                                            Vermont    21.0             1.3   \n",
       "46                                                NaN     NaN             NaN   \n",
       "47                                           Virginia    37.7            18.6   \n",
       "48                                         Washington    40.3             2.3   \n",
       "49                                      West Virginia    65.8            10.7   \n",
       "50                                          Wisconsin    40.0            22.1   \n",
       "51                                            Wyoming    27.6            12.3   \n",
       "52                                                NaN     NaN             NaN   \n",
       "53                                    Other States 4/    13.6             2.3   \n",
       "54                                                NaN     NaN             NaN   \n",
       "55                                      United States    45.7            15.0   \n",
       "56                                                NaN     NaN             NaN   \n",
       "57                                -  Represents zero.     NaN             NaN   \n",
       "58             (Z)  Less than half of the unit shown.     NaN             NaN   \n",
       "59  1/ Tracheal mites, nosema, hive beetle, wax mo...     NaN             NaN   \n",
       "60  2/ Includes American and European foulbrood, c...     NaN             NaN   \n",
       "61  3/ Includes weather, starvation, insufficient ...     NaN             NaN   \n",
       "62  4/ Includes data for States not published in t...     NaN             NaN   \n",
       "\n",
       "   diseases pesticides other unknown  \n",
       "3       0.6        4.9   9.0    11.3  \n",
       "4       0.4       23.3   4.0     2.9  \n",
       "5       1.4        7.8  12.5    32.8  \n",
       "6       5.2       11.3   8.0     5.0  \n",
       "7         -       15.3   2.6     0.8  \n",
       "8       2.4          -   1.7     1.6  \n",
       "9       7.8       11.7   7.8     4.8  \n",
       "10      5.6        9.1   2.6     4.4  \n",
       "11      0.2        1.0   0.1       -  \n",
       "12      5.4       10.5   9.9     1.1  \n",
       "13      NaN        NaN   NaN     NaN  \n",
       "14      1.1        3.4   8.9     8.9  \n",
       "15      2.6        6.7   1.6     0.6  \n",
       "16      5.6       25.2  19.7     4.2  \n",
       "17     11.9       43.4   0.4    14.4  \n",
       "18      0.2        5.3  12.0     9.9  \n",
       "19      3.5        0.7   6.1     0.9  \n",
       "20      0.1        2.5   0.3     0.2  \n",
       "21      1.8          -   0.3     5.0  \n",
       "22      0.8          -   1.1    10.7  \n",
       "23      9.2        8.3   1.1     3.8  \n",
       "24      NaN        NaN   NaN     NaN  \n",
       "25      1.2        6.1   1.8     4.0  \n",
       "26      4.1       13.9  10.5     5.2  \n",
       "27      0.2        0.1   1.5     0.4  \n",
       "28      (Z)        0.8   2.8     0.3  \n",
       "29        -        3.5   2.8     6.4  \n",
       "30        -          -   1.3     0.5  \n",
       "31      0.4          -   2.6       -  \n",
       "32      3.0        8.7   3.2     4.0  \n",
       "33      4.5        2.4  15.7    11.7  \n",
       "34      1.8        3.7   2.0     1.7  \n",
       "35      NaN        NaN   NaN     NaN  \n",
       "36      0.4        0.6   3.3     7.6  \n",
       "37        -        0.4   0.4     0.1  \n",
       "38      4.7        1.8  16.6    16.0  \n",
       "39      1.0        3.2   2.3     2.9  \n",
       "40      1.7        3.5  13.1     6.3  \n",
       "41      3.2        5.6  11.2     1.5  \n",
       "42        -       33.6   7.6     9.1  \n",
       "43      4.6        4.9   5.8     1.4  \n",
       "44      2.0       10.3   0.2     0.3  \n",
       "45      0.6        0.8   0.6     0.9  \n",
       "46      NaN        NaN   NaN     NaN  \n",
       "47      0.4          -   5.3     6.0  \n",
       "48      0.6       19.6   2.9     3.2  \n",
       "49      1.1        0.4   6.1     2.2  \n",
       "50     14.8       14.1  22.0     7.3  \n",
       "51      3.2          -   4.3    13.2  \n",
       "52      NaN        NaN   NaN     NaN  \n",
       "53      0.3        0.3  32.4     0.9  \n",
       "54      NaN        NaN   NaN     NaN  \n",
       "55      5.4       10.9   8.6     5.3  \n",
       "56      NaN        NaN   NaN     NaN  \n",
       "57      NaN        NaN   NaN     NaN  \n",
       "58      NaN        NaN   NaN     NaN  \n",
       "59      NaN        NaN   NaN     NaN  \n",
       "60      NaN        NaN   NaN     NaN  \n",
       "61      NaN        NaN   NaN     NaN  \n",
       "62      NaN        NaN   NaN     NaN  "
      ],
      "text/html": "<div>\n<style scoped>\n    .dataframe tbody tr th:only-of-type {\n        vertical-align: middle;\n    }\n\n    .dataframe tbody tr th {\n        vertical-align: top;\n    }\n\n    .dataframe thead th {\n        text-align: right;\n    }\n</style>\n<table border=\"1\" class=\"dataframe\">\n  <thead>\n    <tr style=\"text-align: right;\">\n      <th></th>\n      <th>state</th>\n      <th>v_mites</th>\n      <th>other_pest_para</th>\n      <th>diseases</th>\n      <th>pesticides</th>\n      <th>other</th>\n      <th>unknown</th>\n    </tr>\n  </thead>\n  <tbody>\n    <tr>\n      <th>3</th>\n      <td>Alabama</td>\n      <td>46.7</td>\n      <td>26.7</td>\n      <td>0.6</td>\n      <td>4.9</td>\n      <td>9.0</td>\n      <td>11.3</td>\n    </tr>\n    <tr>\n      <th>4</th>\n      <td>Arizona</td>\n      <td>53.9</td>\n      <td>1.5</td>\n      <td>0.4</td>\n      <td>23.3</td>\n      <td>4.0</td>\n      <td>2.9</td>\n    </tr>\n    <tr>\n      <th>5</th>\n      <td>Arkansas</td>\n      <td>47.7</td>\n      <td>39.7</td>\n      <td>1.4</td>\n      <td>7.8</td>\n      <td>12.5</td>\n      <td>32.8</td>\n    </tr>\n    <tr>\n      <th>6</th>\n      <td>California</td>\n      <td>40.5</td>\n      <td>10.9</td>\n      <td>5.2</td>\n      <td>11.3</td>\n      <td>8.0</td>\n      <td>5.0</td>\n    </tr>\n    <tr>\n      <th>7</th>\n      <td>Colorado</td>\n      <td>67.7</td>\n      <td>1.5</td>\n      <td>-</td>\n      <td>15.3</td>\n      <td>2.6</td>\n      <td>0.8</td>\n    </tr>\n    <tr>\n      <th>8</th>\n      <td>Connecticut</td>\n      <td>22.2</td>\n      <td>11.1</td>\n      <td>2.4</td>\n      <td>-</td>\n      <td>1.7</td>\n      <td>1.6</td>\n    </tr>\n    <tr>\n      <th>9</th>\n      <td>Florida</td>\n      <td>43.5</td>\n      <td>25.6</td>\n      <td>7.8</td>\n      <td>11.7</td>\n      <td>7.8</td>\n      <td>4.8</td>\n    </tr>\n    <tr>\n      <th>10</th>\n      <td>Georgia</td>\n      <td>34.3</td>\n      <td>18.2</td>\n      <td>5.6</td>\n      <td>9.1</td>\n      <td>2.6</td>\n      <td>4.4</td>\n    </tr>\n    <tr>\n      <th>11</th>\n      <td>Hawaii</td>\n      <td>44.0</td>\n      <td>61.8</td>\n      <td>0.2</td>\n      <td>1.0</td>\n      <td>0.1</td>\n      <td>-</td>\n    </tr>\n    <tr>\n      <th>12</th>\n      <td>Idaho</td>\n      <td>20.3</td>\n      <td>4.3</td>\n      <td>5.4</td>\n      <td>10.5</td>\n      <td>9.9</td>\n      <td>1.1</td>\n    </tr>\n    <tr>\n      <th>13</th>\n      <td>NaN</td>\n      <td>NaN</td>\n      <td>NaN</td>\n      <td>NaN</td>\n      <td>NaN</td>\n      <td>NaN</td>\n      <td>NaN</td>\n    </tr>\n    <tr>\n      <th>14</th>\n      <td>Illinois</td>\n      <td>28.9</td>\n      <td>27.3</td>\n      <td>1.1</td>\n      <td>3.4</td>\n      <td>8.9</td>\n      <td>8.9</td>\n    </tr>\n    <tr>\n      <th>15</th>\n      <td>Indiana</td>\n      <td>20.7</td>\n      <td>15.0</td>\n      <td>2.6</td>\n      <td>6.7</td>\n      <td>1.6</td>\n      <td>0.6</td>\n    </tr>\n    <tr>\n      <th>16</th>\n      <td>Iowa</td>\n      <td>61.0</td>\n      <td>17.8</td>\n      <td>5.6</td>\n      <td>25.2</td>\n      <td>19.7</td>\n      <td>4.2</td>\n    </tr>\n    <tr>\n      <th>17</th>\n      <td>Kansas</td>\n      <td>65.8</td>\n      <td>15.0</td>\n      <td>11.9</td>\n      <td>43.4</td>\n      <td>0.4</td>\n      <td>14.4</td>\n    </tr>\n    <tr>\n      <th>18</th>\n      <td>Kentucky</td>\n      <td>33.0</td>\n      <td>20.1</td>\n      <td>0.2</td>\n      <td>5.3</td>\n      <td>12.0</td>\n      <td>9.9</td>\n    </tr>\n    <tr>\n      <th>19</th>\n      <td>Louisiana</td>\n      <td>33.0</td>\n      <td>18.5</td>\n      <td>3.5</td>\n      <td>0.7</td>\n      <td>6.1</td>\n      <td>0.9</td>\n    </tr>\n    <tr>\n      <th>20</th>\n      <td>Maine</td>\n      <td>20.5</td>\n      <td>-</td>\n      <td>0.1</td>\n      <td>2.5</td>\n      <td>0.3</td>\n      <td>0.2</td>\n    </tr>\n    <tr>\n      <th>21</th>\n      <td>Maryland</td>\n      <td>12.6</td>\n      <td>4.5</td>\n      <td>1.8</td>\n      <td>-</td>\n      <td>0.3</td>\n      <td>5.0</td>\n    </tr>\n    <tr>\n      <th>22</th>\n      <td>Massachusetts</td>\n      <td>7.6</td>\n      <td>0.2</td>\n      <td>0.8</td>\n      <td>-</td>\n      <td>1.1</td>\n      <td>10.7</td>\n    </tr>\n    <tr>\n      <th>23</th>\n      <td>Michigan</td>\n      <td>37.0</td>\n      <td>9.7</td>\n      <td>9.2</td>\n      <td>8.3</td>\n      <td>1.1</td>\n      <td>3.8</td>\n    </tr>\n    <tr>\n      <th>24</th>\n      <td>NaN</td>\n      <td>NaN</td>\n      <td>NaN</td>\n      <td>NaN</td>\n      <td>NaN</td>\n      <td>NaN</td>\n      <td>NaN</td>\n    </tr>\n    <tr>\n      <th>25</th>\n      <td>Minnesota</td>\n      <td>37.3</td>\n      <td>7.8</td>\n      <td>1.2</td>\n      <td>6.1</td>\n      <td>1.8</td>\n      <td>4.0</td>\n    </tr>\n    <tr>\n      <th>26</th>\n      <td>Mississippi</td>\n      <td>41.0</td>\n      <td>38.0</td>\n      <td>4.1</td>\n      <td>13.9</td>\n      <td>10.5</td>\n      <td>5.2</td>\n    </tr>\n    <tr>\n      <th>27</th>\n      <td>Missouri</td>\n      <td>19.2</td>\n      <td>5.9</td>\n      <td>0.2</td>\n      <td>0.1</td>\n      <td>1.5</td>\n      <td>0.4</td>\n    </tr>\n    <tr>\n      <th>28</th>\n      <td>Montana</td>\n      <td>15.7</td>\n      <td>1.8</td>\n      <td>(Z)</td>\n      <td>0.8</td>\n      <td>2.8</td>\n      <td>0.3</td>\n    </tr>\n    <tr>\n      <th>29</th>\n      <td>Nebraska</td>\n      <td>5.8</td>\n      <td>1.0</td>\n      <td>-</td>\n      <td>3.5</td>\n      <td>2.8</td>\n      <td>6.4</td>\n    </tr>\n    <tr>\n      <th>30</th>\n      <td>New Jersey</td>\n      <td>2.5</td>\n      <td>0.9</td>\n      <td>-</td>\n      <td>-</td>\n      <td>1.3</td>\n      <td>0.5</td>\n    </tr>\n    <tr>\n      <th>31</th>\n      <td>New Mexico</td>\n      <td>5.2</td>\n      <td>0.3</td>\n      <td>0.4</td>\n      <td>-</td>\n      <td>2.6</td>\n      <td>-</td>\n    </tr>\n    <tr>\n      <th>32</th>\n      <td>New York</td>\n      <td>33.3</td>\n      <td>24.8</td>\n      <td>3.0</td>\n      <td>8.7</td>\n      <td>3.2</td>\n      <td>4.0</td>\n    </tr>\n    <tr>\n      <th>33</th>\n      <td>North Carolina</td>\n      <td>44.5</td>\n      <td>21.0</td>\n      <td>4.5</td>\n      <td>2.4</td>\n      <td>15.7</td>\n      <td>11.7</td>\n    </tr>\n    <tr>\n      <th>34</th>\n      <td>North Dakota</td>\n      <td>43.0</td>\n      <td>7.1</td>\n      <td>1.8</td>\n      <td>3.7</td>\n      <td>2.0</td>\n      <td>1.7</td>\n    </tr>\n    <tr>\n      <th>35</th>\n      <td>NaN</td>\n      <td>NaN</td>\n      <td>NaN</td>\n      <td>NaN</td>\n      <td>NaN</td>\n      <td>NaN</td>\n      <td>NaN</td>\n    </tr>\n    <tr>\n      <th>36</th>\n      <td>Ohio</td>\n      <td>33.2</td>\n      <td>5.6</td>\n      <td>0.4</td>\n      <td>0.6</td>\n      <td>3.3</td>\n      <td>7.6</td>\n    </tr>\n    <tr>\n      <th>37</th>\n      <td>Oklahoma</td>\n      <td>1.0</td>\n      <td>0.4</td>\n      <td>-</td>\n      <td>0.4</td>\n      <td>0.4</td>\n      <td>0.1</td>\n    </tr>\n    <tr>\n      <th>38</th>\n      <td>Oregon</td>\n      <td>35.8</td>\n      <td>2.1</td>\n      <td>4.7</td>\n      <td>1.8</td>\n      <td>16.6</td>\n      <td>16.0</td>\n    </tr>\n    <tr>\n      <th>39</th>\n      <td>Pennsylvania</td>\n      <td>33.2</td>\n      <td>4.6</td>\n      <td>1.0</td>\n      <td>3.2</td>\n      <td>2.3</td>\n      <td>2.9</td>\n    </tr>\n    <tr>\n      <th>40</th>\n      <td>South Carolina</td>\n      <td>56.7</td>\n      <td>18.4</td>\n      <td>1.7</td>\n      <td>3.5</td>\n      <td>13.1</td>\n      <td>6.3</td>\n    </tr>\n    <tr>\n      <th>41</th>\n      <td>South Dakota</td>\n      <td>12.2</td>\n      <td>6.1</td>\n      <td>3.2</td>\n      <td>5.6</td>\n      <td>11.2</td>\n      <td>1.5</td>\n    </tr>\n    <tr>\n      <th>42</th>\n      <td>Tennessee</td>\n      <td>66.6</td>\n      <td>53.5</td>\n      <td>-</td>\n      <td>33.6</td>\n      <td>7.6</td>\n      <td>9.1</td>\n    </tr>\n    <tr>\n      <th>43</th>\n      <td>Texas</td>\n      <td>23.1</td>\n      <td>14.0</td>\n      <td>4.6</td>\n      <td>4.9</td>\n      <td>5.8</td>\n      <td>1.4</td>\n    </tr>\n    <tr>\n      <th>44</th>\n      <td>Utah</td>\n      <td>22.1</td>\n      <td>2.0</td>\n      <td>2.0</td>\n      <td>10.3</td>\n      <td>0.2</td>\n      <td>0.3</td>\n    </tr>\n    <tr>\n      <th>45</th>\n      <td>Vermont</td>\n      <td>21.0</td>\n      <td>1.3</td>\n      <td>0.6</td>\n      <td>0.8</td>\n      <td>0.6</td>\n      <td>0.9</td>\n    </tr>\n    <tr>\n      <th>46</th>\n      <td>NaN</td>\n      <td>NaN</td>\n      <td>NaN</td>\n      <td>NaN</td>\n      <td>NaN</td>\n      <td>NaN</td>\n      <td>NaN</td>\n    </tr>\n    <tr>\n      <th>47</th>\n      <td>Virginia</td>\n      <td>37.7</td>\n      <td>18.6</td>\n      <td>0.4</td>\n      <td>-</td>\n      <td>5.3</td>\n      <td>6.0</td>\n    </tr>\n    <tr>\n      <th>48</th>\n      <td>Washington</td>\n      <td>40.3</td>\n      <td>2.3</td>\n      <td>0.6</td>\n      <td>19.6</td>\n      <td>2.9</td>\n      <td>3.2</td>\n    </tr>\n    <tr>\n      <th>49</th>\n      <td>West Virginia</td>\n      <td>65.8</td>\n      <td>10.7</td>\n      <td>1.1</td>\n      <td>0.4</td>\n      <td>6.1</td>\n      <td>2.2</td>\n    </tr>\n    <tr>\n      <th>50</th>\n      <td>Wisconsin</td>\n      <td>40.0</td>\n      <td>22.1</td>\n      <td>14.8</td>\n      <td>14.1</td>\n      <td>22.0</td>\n      <td>7.3</td>\n    </tr>\n    <tr>\n      <th>51</th>\n      <td>Wyoming</td>\n      <td>27.6</td>\n      <td>12.3</td>\n      <td>3.2</td>\n      <td>-</td>\n      <td>4.3</td>\n      <td>13.2</td>\n    </tr>\n    <tr>\n      <th>52</th>\n      <td>NaN</td>\n      <td>NaN</td>\n      <td>NaN</td>\n      <td>NaN</td>\n      <td>NaN</td>\n      <td>NaN</td>\n      <td>NaN</td>\n    </tr>\n    <tr>\n      <th>53</th>\n      <td>Other States 4/</td>\n      <td>13.6</td>\n      <td>2.3</td>\n      <td>0.3</td>\n      <td>0.3</td>\n      <td>32.4</td>\n      <td>0.9</td>\n    </tr>\n    <tr>\n      <th>54</th>\n      <td>NaN</td>\n      <td>NaN</td>\n      <td>NaN</td>\n      <td>NaN</td>\n      <td>NaN</td>\n      <td>NaN</td>\n      <td>NaN</td>\n    </tr>\n    <tr>\n      <th>55</th>\n      <td>United States</td>\n      <td>45.7</td>\n      <td>15.0</td>\n      <td>5.4</td>\n      <td>10.9</td>\n      <td>8.6</td>\n      <td>5.3</td>\n    </tr>\n    <tr>\n      <th>56</th>\n      <td>NaN</td>\n      <td>NaN</td>\n      <td>NaN</td>\n      <td>NaN</td>\n      <td>NaN</td>\n      <td>NaN</td>\n      <td>NaN</td>\n    </tr>\n    <tr>\n      <th>57</th>\n      <td>-  Represents zero.</td>\n      <td>NaN</td>\n      <td>NaN</td>\n      <td>NaN</td>\n      <td>NaN</td>\n      <td>NaN</td>\n      <td>NaN</td>\n    </tr>\n    <tr>\n      <th>58</th>\n      <td>(Z)  Less than half of the unit shown.</td>\n      <td>NaN</td>\n      <td>NaN</td>\n      <td>NaN</td>\n      <td>NaN</td>\n      <td>NaN</td>\n      <td>NaN</td>\n    </tr>\n    <tr>\n      <th>59</th>\n      <td>1/ Tracheal mites, nosema, hive beetle, wax mo...</td>\n      <td>NaN</td>\n      <td>NaN</td>\n      <td>NaN</td>\n      <td>NaN</td>\n      <td>NaN</td>\n      <td>NaN</td>\n    </tr>\n    <tr>\n      <th>60</th>\n      <td>2/ Includes American and European foulbrood, c...</td>\n      <td>NaN</td>\n      <td>NaN</td>\n      <td>NaN</td>\n      <td>NaN</td>\n      <td>NaN</td>\n      <td>NaN</td>\n    </tr>\n    <tr>\n      <th>61</th>\n      <td>3/ Includes weather, starvation, insufficient ...</td>\n      <td>NaN</td>\n      <td>NaN</td>\n      <td>NaN</td>\n      <td>NaN</td>\n      <td>NaN</td>\n      <td>NaN</td>\n    </tr>\n    <tr>\n      <th>62</th>\n      <td>4/ Includes data for States not published in t...</td>\n      <td>NaN</td>\n      <td>NaN</td>\n      <td>NaN</td>\n      <td>NaN</td>\n      <td>NaN</td>\n      <td>NaN</td>\n    </tr>\n  </tbody>\n</table>\n</div>"
     },
     "metadata": {},
     "execution_count": 6
    }
   ],
   "source": [
    "## Rename column with Row [0] text and then drop Rows [0-3]\n",
    "\n",
    "hbcny_s_19q4 = hbcny_s_19q4.rename(columns={\n",
    "    \"Unnamed: 2\": \"state\",\n",
    "    \"Varroa\": \"v_mites\",\n",
    "    \"Other pests\": \"other_pest_para\",\n",
    "    \"Unnamed: 5\": \"diseases\",\n",
    "    \"Unnamed: 6\": \"pesticides\",\n",
    "    \"Unnamed: 7\": \"other\",\n",
    "    \"Unnamed: 8\": \"unknown\"})\n",
    "\n",
    "hbcny_s_19q4 = hbcny_s_19q4.drop(range(3))\n",
    "\n",
    "hbcny_s_19q4"
   ]
  },
  {
   "cell_type": "code",
   "execution_count": 7,
   "metadata": {},
   "outputs": [
    {
     "output_type": "execute_result",
     "data": {
      "text/plain": [
       "              state v_mites other_pest_para diseases pesticides other unknown\n",
       "49    West Virginia    65.8            10.7      1.1        0.4   6.1     2.2\n",
       "50        Wisconsin    40.0            22.1     14.8       14.1  22.0     7.3\n",
       "51          Wyoming    27.6            12.3      3.2          -   4.3    13.2\n",
       "53  Other States 4/    13.6             2.3      0.3        0.3  32.4     0.9\n",
       "55    United States    45.7            15.0      5.4       10.9   8.6     5.3"
      ],
      "text/html": "<div>\n<style scoped>\n    .dataframe tbody tr th:only-of-type {\n        vertical-align: middle;\n    }\n\n    .dataframe tbody tr th {\n        vertical-align: top;\n    }\n\n    .dataframe thead th {\n        text-align: right;\n    }\n</style>\n<table border=\"1\" class=\"dataframe\">\n  <thead>\n    <tr style=\"text-align: right;\">\n      <th></th>\n      <th>state</th>\n      <th>v_mites</th>\n      <th>other_pest_para</th>\n      <th>diseases</th>\n      <th>pesticides</th>\n      <th>other</th>\n      <th>unknown</th>\n    </tr>\n  </thead>\n  <tbody>\n    <tr>\n      <th>49</th>\n      <td>West Virginia</td>\n      <td>65.8</td>\n      <td>10.7</td>\n      <td>1.1</td>\n      <td>0.4</td>\n      <td>6.1</td>\n      <td>2.2</td>\n    </tr>\n    <tr>\n      <th>50</th>\n      <td>Wisconsin</td>\n      <td>40.0</td>\n      <td>22.1</td>\n      <td>14.8</td>\n      <td>14.1</td>\n      <td>22.0</td>\n      <td>7.3</td>\n    </tr>\n    <tr>\n      <th>51</th>\n      <td>Wyoming</td>\n      <td>27.6</td>\n      <td>12.3</td>\n      <td>3.2</td>\n      <td>-</td>\n      <td>4.3</td>\n      <td>13.2</td>\n    </tr>\n    <tr>\n      <th>53</th>\n      <td>Other States 4/</td>\n      <td>13.6</td>\n      <td>2.3</td>\n      <td>0.3</td>\n      <td>0.3</td>\n      <td>32.4</td>\n      <td>0.9</td>\n    </tr>\n    <tr>\n      <th>55</th>\n      <td>United States</td>\n      <td>45.7</td>\n      <td>15.0</td>\n      <td>5.4</td>\n      <td>10.9</td>\n      <td>8.6</td>\n      <td>5.3</td>\n    </tr>\n  </tbody>\n</table>\n</div>"
     },
     "metadata": {},
     "execution_count": 7
    }
   ],
   "source": [
    "## Drop blank rows\n",
    "hbcny_s_19q4 = hbcny_s_19q4.dropna()\n",
    "hbcny_s_19q4.tail()"
   ]
  },
  {
   "cell_type": "code",
   "execution_count": 8,
   "metadata": {},
   "outputs": [
    {
     "output_type": "stream",
     "name": "stderr",
     "text": [
      "C:\\Users\\Daniel Ramirez\\anaconda3\\lib\\site-packages\\pandas\\core\\indexing.py:670: SettingWithCopyWarning: \nA value is trying to be set on a copy of a slice from a DataFrame\n\nSee the caveats in the documentation: https://pandas.pydata.org/pandas-docs/stable/user_guide/indexing.html#returning-a-view-versus-a-copy\n  iloc._setitem_with_indexer(indexer, value)\n<ipython-input-8-cd3609cb6c83>:2: SettingWithCopyWarning: \nA value is trying to be set on a copy of a slice from a DataFrame\n\nSee the caveats in the documentation: https://pandas.pydata.org/pandas-docs/stable/user_guide/indexing.html#returning-a-view-versus-a-copy\n  hbcny_s_19q4.loc[53, \"state\"] = \"Other States\"\n"
     ]
    },
    {
     "output_type": "execute_result",
     "data": {
      "text/plain": [
       "            state v_mites other_pest_para diseases pesticides other unknown\n",
       "49  West Virginia    65.8            10.7      1.1        0.4   6.1     2.2\n",
       "50      Wisconsin    40.0            22.1     14.8       14.1  22.0     7.3\n",
       "51        Wyoming    27.6            12.3      3.2          -   4.3    13.2\n",
       "53   Other States    13.6             2.3      0.3        0.3  32.4     0.9\n",
       "55  United States    45.7            15.0      5.4       10.9   8.6     5.3"
      ],
      "text/html": "<div>\n<style scoped>\n    .dataframe tbody tr th:only-of-type {\n        vertical-align: middle;\n    }\n\n    .dataframe tbody tr th {\n        vertical-align: top;\n    }\n\n    .dataframe thead th {\n        text-align: right;\n    }\n</style>\n<table border=\"1\" class=\"dataframe\">\n  <thead>\n    <tr style=\"text-align: right;\">\n      <th></th>\n      <th>state</th>\n      <th>v_mites</th>\n      <th>other_pest_para</th>\n      <th>diseases</th>\n      <th>pesticides</th>\n      <th>other</th>\n      <th>unknown</th>\n    </tr>\n  </thead>\n  <tbody>\n    <tr>\n      <th>49</th>\n      <td>West Virginia</td>\n      <td>65.8</td>\n      <td>10.7</td>\n      <td>1.1</td>\n      <td>0.4</td>\n      <td>6.1</td>\n      <td>2.2</td>\n    </tr>\n    <tr>\n      <th>50</th>\n      <td>Wisconsin</td>\n      <td>40.0</td>\n      <td>22.1</td>\n      <td>14.8</td>\n      <td>14.1</td>\n      <td>22.0</td>\n      <td>7.3</td>\n    </tr>\n    <tr>\n      <th>51</th>\n      <td>Wyoming</td>\n      <td>27.6</td>\n      <td>12.3</td>\n      <td>3.2</td>\n      <td>-</td>\n      <td>4.3</td>\n      <td>13.2</td>\n    </tr>\n    <tr>\n      <th>53</th>\n      <td>Other States</td>\n      <td>13.6</td>\n      <td>2.3</td>\n      <td>0.3</td>\n      <td>0.3</td>\n      <td>32.4</td>\n      <td>0.9</td>\n    </tr>\n    <tr>\n      <th>55</th>\n      <td>United States</td>\n      <td>45.7</td>\n      <td>15.0</td>\n      <td>5.4</td>\n      <td>10.9</td>\n      <td>8.6</td>\n      <td>5.3</td>\n    </tr>\n  </tbody>\n</table>\n</div>"
     },
     "metadata": {},
     "execution_count": 8
    }
   ],
   "source": [
    "## Rename cell \n",
    "hbcny_s_19q4.loc[53, \"state\"] = \"Other States\"\n",
    "hbcny_s_19q4.tail()"
   ]
  },
  {
   "cell_type": "code",
   "execution_count": 9,
   "metadata": {},
   "outputs": [
    {
     "output_type": "execute_result",
     "data": {
      "text/plain": [
       "            state v_mites other_pest_para diseases pesticides other unknown\n",
       "49  West Virginia    65.8            10.7      1.1        0.4   6.1     2.2\n",
       "50      Wisconsin    40.0            22.1     14.8       14.1  22.0     7.3\n",
       "51        Wyoming    27.6            12.3      3.2          -   4.3    13.2\n",
       "53   Other States    13.6             2.3      0.3        0.3  32.4     0.9\n",
       "55  United States    45.7            15.0      5.4       10.9   8.6     5.3"
      ],
      "text/html": "<div>\n<style scoped>\n    .dataframe tbody tr th:only-of-type {\n        vertical-align: middle;\n    }\n\n    .dataframe tbody tr th {\n        vertical-align: top;\n    }\n\n    .dataframe thead th {\n        text-align: right;\n    }\n</style>\n<table border=\"1\" class=\"dataframe\">\n  <thead>\n    <tr style=\"text-align: right;\">\n      <th></th>\n      <th>state</th>\n      <th>v_mites</th>\n      <th>other_pest_para</th>\n      <th>diseases</th>\n      <th>pesticides</th>\n      <th>other</th>\n      <th>unknown</th>\n    </tr>\n  </thead>\n  <tbody>\n    <tr>\n      <th>49</th>\n      <td>West Virginia</td>\n      <td>65.8</td>\n      <td>10.7</td>\n      <td>1.1</td>\n      <td>0.4</td>\n      <td>6.1</td>\n      <td>2.2</td>\n    </tr>\n    <tr>\n      <th>50</th>\n      <td>Wisconsin</td>\n      <td>40.0</td>\n      <td>22.1</td>\n      <td>14.8</td>\n      <td>14.1</td>\n      <td>22.0</td>\n      <td>7.3</td>\n    </tr>\n    <tr>\n      <th>51</th>\n      <td>Wyoming</td>\n      <td>27.6</td>\n      <td>12.3</td>\n      <td>3.2</td>\n      <td>-</td>\n      <td>4.3</td>\n      <td>13.2</td>\n    </tr>\n    <tr>\n      <th>53</th>\n      <td>Other States</td>\n      <td>13.6</td>\n      <td>2.3</td>\n      <td>0.3</td>\n      <td>0.3</td>\n      <td>32.4</td>\n      <td>0.9</td>\n    </tr>\n    <tr>\n      <th>55</th>\n      <td>United States</td>\n      <td>45.7</td>\n      <td>15.0</td>\n      <td>5.4</td>\n      <td>10.9</td>\n      <td>8.6</td>\n      <td>5.3</td>\n    </tr>\n  </tbody>\n</table>\n</div>"
     },
     "metadata": {},
     "execution_count": 9
    }
   ],
   "source": [
    "## (Z) defined as:\n",
    "## Less than half of the unit shown (or negligible)\n",
    "## Replace (Z) values with zero\n",
    "hbcny_s_19q4 = hbcny_s_19q4.replace(\"(Z)\", 0)\n",
    "hbcny_s_19q4.tail()"
   ]
  },
  {
   "cell_type": "code",
   "execution_count": 10,
   "metadata": {},
   "outputs": [
    {
     "output_type": "execute_result",
     "data": {
      "text/plain": [
       "             state v_mites other_pest_para diseases pesticides other unknown\n",
       "3          Alabama    46.7            26.7      0.6        4.9   9.0    11.3\n",
       "4          Arizona    53.9             1.5      0.4       23.3   4.0     2.9\n",
       "5         Arkansas    47.7            39.7      1.4        7.8  12.5    32.8\n",
       "6       California    40.5            10.9      5.2       11.3   8.0     5.0\n",
       "7         Colorado    67.7             1.5     None       15.3   2.6     0.8\n",
       "8      Connecticut    22.2            11.1      2.4       None   1.7     1.6\n",
       "9          Florida    43.5            25.6      7.8       11.7   7.8     4.8\n",
       "10         Georgia    34.3            18.2      5.6        9.1   2.6     4.4\n",
       "11          Hawaii    44.0            61.8      0.2        1.0   0.1    None\n",
       "12           Idaho    20.3             4.3      5.4       10.5   9.9     1.1\n",
       "14        Illinois    28.9            27.3      1.1        3.4   8.9     8.9\n",
       "15         Indiana    20.7            15.0      2.6        6.7   1.6     0.6\n",
       "16            Iowa    61.0            17.8      5.6       25.2  19.7     4.2\n",
       "17          Kansas    65.8            15.0     11.9       43.4   0.4    14.4\n",
       "18        Kentucky    33.0            20.1      0.2        5.3  12.0     9.9\n",
       "19       Louisiana    33.0            18.5      3.5        0.7   6.1     0.9\n",
       "20           Maine    20.5            None      0.1        2.5   0.3     0.2\n",
       "21        Maryland    12.6             4.5      1.8       None   0.3     5.0\n",
       "22   Massachusetts     7.6             0.2      0.8       None   1.1    10.7\n",
       "23        Michigan    37.0             9.7      9.2        8.3   1.1     3.8\n",
       "25       Minnesota    37.3             7.8      1.2        6.1   1.8     4.0\n",
       "26     Mississippi    41.0            38.0      4.1       13.9  10.5     5.2\n",
       "27        Missouri    19.2             5.9      0.2        0.1   1.5     0.4\n",
       "28         Montana    15.7             1.8        0        0.8   2.8     0.3\n",
       "29        Nebraska     5.8             1.0     None        3.5   2.8     6.4\n",
       "30      New Jersey     2.5             0.9     None       None   1.3     0.5\n",
       "31      New Mexico     5.2             0.3      0.4       None   2.6    None\n",
       "32        New York    33.3            24.8      3.0        8.7   3.2     4.0\n",
       "33  North Carolina    44.5            21.0      4.5        2.4  15.7    11.7\n",
       "34    North Dakota    43.0             7.1      1.8        3.7   2.0     1.7\n",
       "36            Ohio    33.2             5.6      0.4        0.6   3.3     7.6\n",
       "37        Oklahoma     1.0             0.4     None        0.4   0.4     0.1\n",
       "38          Oregon    35.8             2.1      4.7        1.8  16.6    16.0\n",
       "39    Pennsylvania    33.2             4.6      1.0        3.2   2.3     2.9\n",
       "40  South Carolina    56.7            18.4      1.7        3.5  13.1     6.3\n",
       "41    South Dakota    12.2             6.1      3.2        5.6  11.2     1.5\n",
       "42       Tennessee    66.6            53.5     None       33.6   7.6     9.1\n",
       "43           Texas    23.1            14.0      4.6        4.9   5.8     1.4\n",
       "44            Utah    22.1             2.0      2.0       10.3   0.2     0.3\n",
       "45         Vermont    21.0             1.3      0.6        0.8   0.6     0.9\n",
       "47        Virginia    37.7            18.6      0.4       None   5.3     6.0\n",
       "48      Washington    40.3             2.3      0.6       19.6   2.9     3.2\n",
       "49   West Virginia    65.8            10.7      1.1        0.4   6.1     2.2\n",
       "50       Wisconsin    40.0            22.1     14.8       14.1  22.0     7.3\n",
       "51         Wyoming    27.6            12.3      3.2       None   4.3    13.2\n",
       "53    Other States    13.6             2.3      0.3        0.3  32.4     0.9\n",
       "55   United States    45.7            15.0      5.4       10.9   8.6     5.3"
      ],
      "text/html": "<div>\n<style scoped>\n    .dataframe tbody tr th:only-of-type {\n        vertical-align: middle;\n    }\n\n    .dataframe tbody tr th {\n        vertical-align: top;\n    }\n\n    .dataframe thead th {\n        text-align: right;\n    }\n</style>\n<table border=\"1\" class=\"dataframe\">\n  <thead>\n    <tr style=\"text-align: right;\">\n      <th></th>\n      <th>state</th>\n      <th>v_mites</th>\n      <th>other_pest_para</th>\n      <th>diseases</th>\n      <th>pesticides</th>\n      <th>other</th>\n      <th>unknown</th>\n    </tr>\n  </thead>\n  <tbody>\n    <tr>\n      <th>3</th>\n      <td>Alabama</td>\n      <td>46.7</td>\n      <td>26.7</td>\n      <td>0.6</td>\n      <td>4.9</td>\n      <td>9.0</td>\n      <td>11.3</td>\n    </tr>\n    <tr>\n      <th>4</th>\n      <td>Arizona</td>\n      <td>53.9</td>\n      <td>1.5</td>\n      <td>0.4</td>\n      <td>23.3</td>\n      <td>4.0</td>\n      <td>2.9</td>\n    </tr>\n    <tr>\n      <th>5</th>\n      <td>Arkansas</td>\n      <td>47.7</td>\n      <td>39.7</td>\n      <td>1.4</td>\n      <td>7.8</td>\n      <td>12.5</td>\n      <td>32.8</td>\n    </tr>\n    <tr>\n      <th>6</th>\n      <td>California</td>\n      <td>40.5</td>\n      <td>10.9</td>\n      <td>5.2</td>\n      <td>11.3</td>\n      <td>8.0</td>\n      <td>5.0</td>\n    </tr>\n    <tr>\n      <th>7</th>\n      <td>Colorado</td>\n      <td>67.7</td>\n      <td>1.5</td>\n      <td>None</td>\n      <td>15.3</td>\n      <td>2.6</td>\n      <td>0.8</td>\n    </tr>\n    <tr>\n      <th>8</th>\n      <td>Connecticut</td>\n      <td>22.2</td>\n      <td>11.1</td>\n      <td>2.4</td>\n      <td>None</td>\n      <td>1.7</td>\n      <td>1.6</td>\n    </tr>\n    <tr>\n      <th>9</th>\n      <td>Florida</td>\n      <td>43.5</td>\n      <td>25.6</td>\n      <td>7.8</td>\n      <td>11.7</td>\n      <td>7.8</td>\n      <td>4.8</td>\n    </tr>\n    <tr>\n      <th>10</th>\n      <td>Georgia</td>\n      <td>34.3</td>\n      <td>18.2</td>\n      <td>5.6</td>\n      <td>9.1</td>\n      <td>2.6</td>\n      <td>4.4</td>\n    </tr>\n    <tr>\n      <th>11</th>\n      <td>Hawaii</td>\n      <td>44.0</td>\n      <td>61.8</td>\n      <td>0.2</td>\n      <td>1.0</td>\n      <td>0.1</td>\n      <td>None</td>\n    </tr>\n    <tr>\n      <th>12</th>\n      <td>Idaho</td>\n      <td>20.3</td>\n      <td>4.3</td>\n      <td>5.4</td>\n      <td>10.5</td>\n      <td>9.9</td>\n      <td>1.1</td>\n    </tr>\n    <tr>\n      <th>14</th>\n      <td>Illinois</td>\n      <td>28.9</td>\n      <td>27.3</td>\n      <td>1.1</td>\n      <td>3.4</td>\n      <td>8.9</td>\n      <td>8.9</td>\n    </tr>\n    <tr>\n      <th>15</th>\n      <td>Indiana</td>\n      <td>20.7</td>\n      <td>15.0</td>\n      <td>2.6</td>\n      <td>6.7</td>\n      <td>1.6</td>\n      <td>0.6</td>\n    </tr>\n    <tr>\n      <th>16</th>\n      <td>Iowa</td>\n      <td>61.0</td>\n      <td>17.8</td>\n      <td>5.6</td>\n      <td>25.2</td>\n      <td>19.7</td>\n      <td>4.2</td>\n    </tr>\n    <tr>\n      <th>17</th>\n      <td>Kansas</td>\n      <td>65.8</td>\n      <td>15.0</td>\n      <td>11.9</td>\n      <td>43.4</td>\n      <td>0.4</td>\n      <td>14.4</td>\n    </tr>\n    <tr>\n      <th>18</th>\n      <td>Kentucky</td>\n      <td>33.0</td>\n      <td>20.1</td>\n      <td>0.2</td>\n      <td>5.3</td>\n      <td>12.0</td>\n      <td>9.9</td>\n    </tr>\n    <tr>\n      <th>19</th>\n      <td>Louisiana</td>\n      <td>33.0</td>\n      <td>18.5</td>\n      <td>3.5</td>\n      <td>0.7</td>\n      <td>6.1</td>\n      <td>0.9</td>\n    </tr>\n    <tr>\n      <th>20</th>\n      <td>Maine</td>\n      <td>20.5</td>\n      <td>None</td>\n      <td>0.1</td>\n      <td>2.5</td>\n      <td>0.3</td>\n      <td>0.2</td>\n    </tr>\n    <tr>\n      <th>21</th>\n      <td>Maryland</td>\n      <td>12.6</td>\n      <td>4.5</td>\n      <td>1.8</td>\n      <td>None</td>\n      <td>0.3</td>\n      <td>5.0</td>\n    </tr>\n    <tr>\n      <th>22</th>\n      <td>Massachusetts</td>\n      <td>7.6</td>\n      <td>0.2</td>\n      <td>0.8</td>\n      <td>None</td>\n      <td>1.1</td>\n      <td>10.7</td>\n    </tr>\n    <tr>\n      <th>23</th>\n      <td>Michigan</td>\n      <td>37.0</td>\n      <td>9.7</td>\n      <td>9.2</td>\n      <td>8.3</td>\n      <td>1.1</td>\n      <td>3.8</td>\n    </tr>\n    <tr>\n      <th>25</th>\n      <td>Minnesota</td>\n      <td>37.3</td>\n      <td>7.8</td>\n      <td>1.2</td>\n      <td>6.1</td>\n      <td>1.8</td>\n      <td>4.0</td>\n    </tr>\n    <tr>\n      <th>26</th>\n      <td>Mississippi</td>\n      <td>41.0</td>\n      <td>38.0</td>\n      <td>4.1</td>\n      <td>13.9</td>\n      <td>10.5</td>\n      <td>5.2</td>\n    </tr>\n    <tr>\n      <th>27</th>\n      <td>Missouri</td>\n      <td>19.2</td>\n      <td>5.9</td>\n      <td>0.2</td>\n      <td>0.1</td>\n      <td>1.5</td>\n      <td>0.4</td>\n    </tr>\n    <tr>\n      <th>28</th>\n      <td>Montana</td>\n      <td>15.7</td>\n      <td>1.8</td>\n      <td>0</td>\n      <td>0.8</td>\n      <td>2.8</td>\n      <td>0.3</td>\n    </tr>\n    <tr>\n      <th>29</th>\n      <td>Nebraska</td>\n      <td>5.8</td>\n      <td>1.0</td>\n      <td>None</td>\n      <td>3.5</td>\n      <td>2.8</td>\n      <td>6.4</td>\n    </tr>\n    <tr>\n      <th>30</th>\n      <td>New Jersey</td>\n      <td>2.5</td>\n      <td>0.9</td>\n      <td>None</td>\n      <td>None</td>\n      <td>1.3</td>\n      <td>0.5</td>\n    </tr>\n    <tr>\n      <th>31</th>\n      <td>New Mexico</td>\n      <td>5.2</td>\n      <td>0.3</td>\n      <td>0.4</td>\n      <td>None</td>\n      <td>2.6</td>\n      <td>None</td>\n    </tr>\n    <tr>\n      <th>32</th>\n      <td>New York</td>\n      <td>33.3</td>\n      <td>24.8</td>\n      <td>3.0</td>\n      <td>8.7</td>\n      <td>3.2</td>\n      <td>4.0</td>\n    </tr>\n    <tr>\n      <th>33</th>\n      <td>North Carolina</td>\n      <td>44.5</td>\n      <td>21.0</td>\n      <td>4.5</td>\n      <td>2.4</td>\n      <td>15.7</td>\n      <td>11.7</td>\n    </tr>\n    <tr>\n      <th>34</th>\n      <td>North Dakota</td>\n      <td>43.0</td>\n      <td>7.1</td>\n      <td>1.8</td>\n      <td>3.7</td>\n      <td>2.0</td>\n      <td>1.7</td>\n    </tr>\n    <tr>\n      <th>36</th>\n      <td>Ohio</td>\n      <td>33.2</td>\n      <td>5.6</td>\n      <td>0.4</td>\n      <td>0.6</td>\n      <td>3.3</td>\n      <td>7.6</td>\n    </tr>\n    <tr>\n      <th>37</th>\n      <td>Oklahoma</td>\n      <td>1.0</td>\n      <td>0.4</td>\n      <td>None</td>\n      <td>0.4</td>\n      <td>0.4</td>\n      <td>0.1</td>\n    </tr>\n    <tr>\n      <th>38</th>\n      <td>Oregon</td>\n      <td>35.8</td>\n      <td>2.1</td>\n      <td>4.7</td>\n      <td>1.8</td>\n      <td>16.6</td>\n      <td>16.0</td>\n    </tr>\n    <tr>\n      <th>39</th>\n      <td>Pennsylvania</td>\n      <td>33.2</td>\n      <td>4.6</td>\n      <td>1.0</td>\n      <td>3.2</td>\n      <td>2.3</td>\n      <td>2.9</td>\n    </tr>\n    <tr>\n      <th>40</th>\n      <td>South Carolina</td>\n      <td>56.7</td>\n      <td>18.4</td>\n      <td>1.7</td>\n      <td>3.5</td>\n      <td>13.1</td>\n      <td>6.3</td>\n    </tr>\n    <tr>\n      <th>41</th>\n      <td>South Dakota</td>\n      <td>12.2</td>\n      <td>6.1</td>\n      <td>3.2</td>\n      <td>5.6</td>\n      <td>11.2</td>\n      <td>1.5</td>\n    </tr>\n    <tr>\n      <th>42</th>\n      <td>Tennessee</td>\n      <td>66.6</td>\n      <td>53.5</td>\n      <td>None</td>\n      <td>33.6</td>\n      <td>7.6</td>\n      <td>9.1</td>\n    </tr>\n    <tr>\n      <th>43</th>\n      <td>Texas</td>\n      <td>23.1</td>\n      <td>14.0</td>\n      <td>4.6</td>\n      <td>4.9</td>\n      <td>5.8</td>\n      <td>1.4</td>\n    </tr>\n    <tr>\n      <th>44</th>\n      <td>Utah</td>\n      <td>22.1</td>\n      <td>2.0</td>\n      <td>2.0</td>\n      <td>10.3</td>\n      <td>0.2</td>\n      <td>0.3</td>\n    </tr>\n    <tr>\n      <th>45</th>\n      <td>Vermont</td>\n      <td>21.0</td>\n      <td>1.3</td>\n      <td>0.6</td>\n      <td>0.8</td>\n      <td>0.6</td>\n      <td>0.9</td>\n    </tr>\n    <tr>\n      <th>47</th>\n      <td>Virginia</td>\n      <td>37.7</td>\n      <td>18.6</td>\n      <td>0.4</td>\n      <td>None</td>\n      <td>5.3</td>\n      <td>6.0</td>\n    </tr>\n    <tr>\n      <th>48</th>\n      <td>Washington</td>\n      <td>40.3</td>\n      <td>2.3</td>\n      <td>0.6</td>\n      <td>19.6</td>\n      <td>2.9</td>\n      <td>3.2</td>\n    </tr>\n    <tr>\n      <th>49</th>\n      <td>West Virginia</td>\n      <td>65.8</td>\n      <td>10.7</td>\n      <td>1.1</td>\n      <td>0.4</td>\n      <td>6.1</td>\n      <td>2.2</td>\n    </tr>\n    <tr>\n      <th>50</th>\n      <td>Wisconsin</td>\n      <td>40.0</td>\n      <td>22.1</td>\n      <td>14.8</td>\n      <td>14.1</td>\n      <td>22.0</td>\n      <td>7.3</td>\n    </tr>\n    <tr>\n      <th>51</th>\n      <td>Wyoming</td>\n      <td>27.6</td>\n      <td>12.3</td>\n      <td>3.2</td>\n      <td>None</td>\n      <td>4.3</td>\n      <td>13.2</td>\n    </tr>\n    <tr>\n      <th>53</th>\n      <td>Other States</td>\n      <td>13.6</td>\n      <td>2.3</td>\n      <td>0.3</td>\n      <td>0.3</td>\n      <td>32.4</td>\n      <td>0.9</td>\n    </tr>\n    <tr>\n      <th>55</th>\n      <td>United States</td>\n      <td>45.7</td>\n      <td>15.0</td>\n      <td>5.4</td>\n      <td>10.9</td>\n      <td>8.6</td>\n      <td>5.3</td>\n    </tr>\n  </tbody>\n</table>\n</div>"
     },
     "metadata": {},
     "execution_count": 10
    }
   ],
   "source": [
    "## (X) defined as: N/A\n",
    "## Assume \"-\" equals None\n",
    "## Replace \"-\" and (X) values with None\n",
    "hbcny_s_19q4 = hbcny_s_19q4.replace({'-': None})\n",
    "hbcny_s_19q4 = hbcny_s_19q4.replace({'(X)': None})\n",
    "hbcny_s_19q4"
   ]
  },
  {
   "cell_type": "code",
   "execution_count": 11,
   "metadata": {},
   "outputs": [
    {
     "output_type": "execute_result",
     "data": {
      "text/plain": [
       "             state v_mites other_pest_para diseases pesticides other unknown\n",
       "0          Alabama    46.7            26.7      0.6        4.9   9.0    11.3\n",
       "1          Arizona    53.9             1.5      0.4       23.3   4.0     2.9\n",
       "2         Arkansas    47.7            39.7      1.4        7.8  12.5    32.8\n",
       "3       California    40.5            10.9      5.2       11.3   8.0     5.0\n",
       "4         Colorado    67.7             1.5     None       15.3   2.6     0.8\n",
       "5      Connecticut    22.2            11.1      2.4       None   1.7     1.6\n",
       "6          Florida    43.5            25.6      7.8       11.7   7.8     4.8\n",
       "7          Georgia    34.3            18.2      5.6        9.1   2.6     4.4\n",
       "8           Hawaii    44.0            61.8      0.2        1.0   0.1    None\n",
       "9            Idaho    20.3             4.3      5.4       10.5   9.9     1.1\n",
       "10        Illinois    28.9            27.3      1.1        3.4   8.9     8.9\n",
       "11         Indiana    20.7            15.0      2.6        6.7   1.6     0.6\n",
       "12            Iowa    61.0            17.8      5.6       25.2  19.7     4.2\n",
       "13          Kansas    65.8            15.0     11.9       43.4   0.4    14.4\n",
       "14        Kentucky    33.0            20.1      0.2        5.3  12.0     9.9\n",
       "15       Louisiana    33.0            18.5      3.5        0.7   6.1     0.9\n",
       "16           Maine    20.5            None      0.1        2.5   0.3     0.2\n",
       "17        Maryland    12.6             4.5      1.8       None   0.3     5.0\n",
       "18   Massachusetts     7.6             0.2      0.8       None   1.1    10.7\n",
       "19        Michigan    37.0             9.7      9.2        8.3   1.1     3.8\n",
       "20       Minnesota    37.3             7.8      1.2        6.1   1.8     4.0\n",
       "21     Mississippi    41.0            38.0      4.1       13.9  10.5     5.2\n",
       "22        Missouri    19.2             5.9      0.2        0.1   1.5     0.4\n",
       "23         Montana    15.7             1.8        0        0.8   2.8     0.3\n",
       "24        Nebraska     5.8             1.0     None        3.5   2.8     6.4\n",
       "25      New Jersey     2.5             0.9     None       None   1.3     0.5\n",
       "26      New Mexico     5.2             0.3      0.4       None   2.6    None\n",
       "27        New York    33.3            24.8      3.0        8.7   3.2     4.0\n",
       "28  North Carolina    44.5            21.0      4.5        2.4  15.7    11.7\n",
       "29    North Dakota    43.0             7.1      1.8        3.7   2.0     1.7\n",
       "30            Ohio    33.2             5.6      0.4        0.6   3.3     7.6\n",
       "31        Oklahoma     1.0             0.4     None        0.4   0.4     0.1\n",
       "32          Oregon    35.8             2.1      4.7        1.8  16.6    16.0\n",
       "33    Pennsylvania    33.2             4.6      1.0        3.2   2.3     2.9\n",
       "34  South Carolina    56.7            18.4      1.7        3.5  13.1     6.3\n",
       "35    South Dakota    12.2             6.1      3.2        5.6  11.2     1.5\n",
       "36       Tennessee    66.6            53.5     None       33.6   7.6     9.1\n",
       "37           Texas    23.1            14.0      4.6        4.9   5.8     1.4\n",
       "38            Utah    22.1             2.0      2.0       10.3   0.2     0.3\n",
       "39         Vermont    21.0             1.3      0.6        0.8   0.6     0.9\n",
       "40        Virginia    37.7            18.6      0.4       None   5.3     6.0\n",
       "41      Washington    40.3             2.3      0.6       19.6   2.9     3.2\n",
       "42   West Virginia    65.8            10.7      1.1        0.4   6.1     2.2\n",
       "43       Wisconsin    40.0            22.1     14.8       14.1  22.0     7.3\n",
       "44         Wyoming    27.6            12.3      3.2       None   4.3    13.2\n",
       "45    Other States    13.6             2.3      0.3        0.3  32.4     0.9\n",
       "46   United States    45.7            15.0      5.4       10.9   8.6     5.3"
      ],
      "text/html": "<div>\n<style scoped>\n    .dataframe tbody tr th:only-of-type {\n        vertical-align: middle;\n    }\n\n    .dataframe tbody tr th {\n        vertical-align: top;\n    }\n\n    .dataframe thead th {\n        text-align: right;\n    }\n</style>\n<table border=\"1\" class=\"dataframe\">\n  <thead>\n    <tr style=\"text-align: right;\">\n      <th></th>\n      <th>state</th>\n      <th>v_mites</th>\n      <th>other_pest_para</th>\n      <th>diseases</th>\n      <th>pesticides</th>\n      <th>other</th>\n      <th>unknown</th>\n    </tr>\n  </thead>\n  <tbody>\n    <tr>\n      <th>0</th>\n      <td>Alabama</td>\n      <td>46.7</td>\n      <td>26.7</td>\n      <td>0.6</td>\n      <td>4.9</td>\n      <td>9.0</td>\n      <td>11.3</td>\n    </tr>\n    <tr>\n      <th>1</th>\n      <td>Arizona</td>\n      <td>53.9</td>\n      <td>1.5</td>\n      <td>0.4</td>\n      <td>23.3</td>\n      <td>4.0</td>\n      <td>2.9</td>\n    </tr>\n    <tr>\n      <th>2</th>\n      <td>Arkansas</td>\n      <td>47.7</td>\n      <td>39.7</td>\n      <td>1.4</td>\n      <td>7.8</td>\n      <td>12.5</td>\n      <td>32.8</td>\n    </tr>\n    <tr>\n      <th>3</th>\n      <td>California</td>\n      <td>40.5</td>\n      <td>10.9</td>\n      <td>5.2</td>\n      <td>11.3</td>\n      <td>8.0</td>\n      <td>5.0</td>\n    </tr>\n    <tr>\n      <th>4</th>\n      <td>Colorado</td>\n      <td>67.7</td>\n      <td>1.5</td>\n      <td>None</td>\n      <td>15.3</td>\n      <td>2.6</td>\n      <td>0.8</td>\n    </tr>\n    <tr>\n      <th>5</th>\n      <td>Connecticut</td>\n      <td>22.2</td>\n      <td>11.1</td>\n      <td>2.4</td>\n      <td>None</td>\n      <td>1.7</td>\n      <td>1.6</td>\n    </tr>\n    <tr>\n      <th>6</th>\n      <td>Florida</td>\n      <td>43.5</td>\n      <td>25.6</td>\n      <td>7.8</td>\n      <td>11.7</td>\n      <td>7.8</td>\n      <td>4.8</td>\n    </tr>\n    <tr>\n      <th>7</th>\n      <td>Georgia</td>\n      <td>34.3</td>\n      <td>18.2</td>\n      <td>5.6</td>\n      <td>9.1</td>\n      <td>2.6</td>\n      <td>4.4</td>\n    </tr>\n    <tr>\n      <th>8</th>\n      <td>Hawaii</td>\n      <td>44.0</td>\n      <td>61.8</td>\n      <td>0.2</td>\n      <td>1.0</td>\n      <td>0.1</td>\n      <td>None</td>\n    </tr>\n    <tr>\n      <th>9</th>\n      <td>Idaho</td>\n      <td>20.3</td>\n      <td>4.3</td>\n      <td>5.4</td>\n      <td>10.5</td>\n      <td>9.9</td>\n      <td>1.1</td>\n    </tr>\n    <tr>\n      <th>10</th>\n      <td>Illinois</td>\n      <td>28.9</td>\n      <td>27.3</td>\n      <td>1.1</td>\n      <td>3.4</td>\n      <td>8.9</td>\n      <td>8.9</td>\n    </tr>\n    <tr>\n      <th>11</th>\n      <td>Indiana</td>\n      <td>20.7</td>\n      <td>15.0</td>\n      <td>2.6</td>\n      <td>6.7</td>\n      <td>1.6</td>\n      <td>0.6</td>\n    </tr>\n    <tr>\n      <th>12</th>\n      <td>Iowa</td>\n      <td>61.0</td>\n      <td>17.8</td>\n      <td>5.6</td>\n      <td>25.2</td>\n      <td>19.7</td>\n      <td>4.2</td>\n    </tr>\n    <tr>\n      <th>13</th>\n      <td>Kansas</td>\n      <td>65.8</td>\n      <td>15.0</td>\n      <td>11.9</td>\n      <td>43.4</td>\n      <td>0.4</td>\n      <td>14.4</td>\n    </tr>\n    <tr>\n      <th>14</th>\n      <td>Kentucky</td>\n      <td>33.0</td>\n      <td>20.1</td>\n      <td>0.2</td>\n      <td>5.3</td>\n      <td>12.0</td>\n      <td>9.9</td>\n    </tr>\n    <tr>\n      <th>15</th>\n      <td>Louisiana</td>\n      <td>33.0</td>\n      <td>18.5</td>\n      <td>3.5</td>\n      <td>0.7</td>\n      <td>6.1</td>\n      <td>0.9</td>\n    </tr>\n    <tr>\n      <th>16</th>\n      <td>Maine</td>\n      <td>20.5</td>\n      <td>None</td>\n      <td>0.1</td>\n      <td>2.5</td>\n      <td>0.3</td>\n      <td>0.2</td>\n    </tr>\n    <tr>\n      <th>17</th>\n      <td>Maryland</td>\n      <td>12.6</td>\n      <td>4.5</td>\n      <td>1.8</td>\n      <td>None</td>\n      <td>0.3</td>\n      <td>5.0</td>\n    </tr>\n    <tr>\n      <th>18</th>\n      <td>Massachusetts</td>\n      <td>7.6</td>\n      <td>0.2</td>\n      <td>0.8</td>\n      <td>None</td>\n      <td>1.1</td>\n      <td>10.7</td>\n    </tr>\n    <tr>\n      <th>19</th>\n      <td>Michigan</td>\n      <td>37.0</td>\n      <td>9.7</td>\n      <td>9.2</td>\n      <td>8.3</td>\n      <td>1.1</td>\n      <td>3.8</td>\n    </tr>\n    <tr>\n      <th>20</th>\n      <td>Minnesota</td>\n      <td>37.3</td>\n      <td>7.8</td>\n      <td>1.2</td>\n      <td>6.1</td>\n      <td>1.8</td>\n      <td>4.0</td>\n    </tr>\n    <tr>\n      <th>21</th>\n      <td>Mississippi</td>\n      <td>41.0</td>\n      <td>38.0</td>\n      <td>4.1</td>\n      <td>13.9</td>\n      <td>10.5</td>\n      <td>5.2</td>\n    </tr>\n    <tr>\n      <th>22</th>\n      <td>Missouri</td>\n      <td>19.2</td>\n      <td>5.9</td>\n      <td>0.2</td>\n      <td>0.1</td>\n      <td>1.5</td>\n      <td>0.4</td>\n    </tr>\n    <tr>\n      <th>23</th>\n      <td>Montana</td>\n      <td>15.7</td>\n      <td>1.8</td>\n      <td>0</td>\n      <td>0.8</td>\n      <td>2.8</td>\n      <td>0.3</td>\n    </tr>\n    <tr>\n      <th>24</th>\n      <td>Nebraska</td>\n      <td>5.8</td>\n      <td>1.0</td>\n      <td>None</td>\n      <td>3.5</td>\n      <td>2.8</td>\n      <td>6.4</td>\n    </tr>\n    <tr>\n      <th>25</th>\n      <td>New Jersey</td>\n      <td>2.5</td>\n      <td>0.9</td>\n      <td>None</td>\n      <td>None</td>\n      <td>1.3</td>\n      <td>0.5</td>\n    </tr>\n    <tr>\n      <th>26</th>\n      <td>New Mexico</td>\n      <td>5.2</td>\n      <td>0.3</td>\n      <td>0.4</td>\n      <td>None</td>\n      <td>2.6</td>\n      <td>None</td>\n    </tr>\n    <tr>\n      <th>27</th>\n      <td>New York</td>\n      <td>33.3</td>\n      <td>24.8</td>\n      <td>3.0</td>\n      <td>8.7</td>\n      <td>3.2</td>\n      <td>4.0</td>\n    </tr>\n    <tr>\n      <th>28</th>\n      <td>North Carolina</td>\n      <td>44.5</td>\n      <td>21.0</td>\n      <td>4.5</td>\n      <td>2.4</td>\n      <td>15.7</td>\n      <td>11.7</td>\n    </tr>\n    <tr>\n      <th>29</th>\n      <td>North Dakota</td>\n      <td>43.0</td>\n      <td>7.1</td>\n      <td>1.8</td>\n      <td>3.7</td>\n      <td>2.0</td>\n      <td>1.7</td>\n    </tr>\n    <tr>\n      <th>30</th>\n      <td>Ohio</td>\n      <td>33.2</td>\n      <td>5.6</td>\n      <td>0.4</td>\n      <td>0.6</td>\n      <td>3.3</td>\n      <td>7.6</td>\n    </tr>\n    <tr>\n      <th>31</th>\n      <td>Oklahoma</td>\n      <td>1.0</td>\n      <td>0.4</td>\n      <td>None</td>\n      <td>0.4</td>\n      <td>0.4</td>\n      <td>0.1</td>\n    </tr>\n    <tr>\n      <th>32</th>\n      <td>Oregon</td>\n      <td>35.8</td>\n      <td>2.1</td>\n      <td>4.7</td>\n      <td>1.8</td>\n      <td>16.6</td>\n      <td>16.0</td>\n    </tr>\n    <tr>\n      <th>33</th>\n      <td>Pennsylvania</td>\n      <td>33.2</td>\n      <td>4.6</td>\n      <td>1.0</td>\n      <td>3.2</td>\n      <td>2.3</td>\n      <td>2.9</td>\n    </tr>\n    <tr>\n      <th>34</th>\n      <td>South Carolina</td>\n      <td>56.7</td>\n      <td>18.4</td>\n      <td>1.7</td>\n      <td>3.5</td>\n      <td>13.1</td>\n      <td>6.3</td>\n    </tr>\n    <tr>\n      <th>35</th>\n      <td>South Dakota</td>\n      <td>12.2</td>\n      <td>6.1</td>\n      <td>3.2</td>\n      <td>5.6</td>\n      <td>11.2</td>\n      <td>1.5</td>\n    </tr>\n    <tr>\n      <th>36</th>\n      <td>Tennessee</td>\n      <td>66.6</td>\n      <td>53.5</td>\n      <td>None</td>\n      <td>33.6</td>\n      <td>7.6</td>\n      <td>9.1</td>\n    </tr>\n    <tr>\n      <th>37</th>\n      <td>Texas</td>\n      <td>23.1</td>\n      <td>14.0</td>\n      <td>4.6</td>\n      <td>4.9</td>\n      <td>5.8</td>\n      <td>1.4</td>\n    </tr>\n    <tr>\n      <th>38</th>\n      <td>Utah</td>\n      <td>22.1</td>\n      <td>2.0</td>\n      <td>2.0</td>\n      <td>10.3</td>\n      <td>0.2</td>\n      <td>0.3</td>\n    </tr>\n    <tr>\n      <th>39</th>\n      <td>Vermont</td>\n      <td>21.0</td>\n      <td>1.3</td>\n      <td>0.6</td>\n      <td>0.8</td>\n      <td>0.6</td>\n      <td>0.9</td>\n    </tr>\n    <tr>\n      <th>40</th>\n      <td>Virginia</td>\n      <td>37.7</td>\n      <td>18.6</td>\n      <td>0.4</td>\n      <td>None</td>\n      <td>5.3</td>\n      <td>6.0</td>\n    </tr>\n    <tr>\n      <th>41</th>\n      <td>Washington</td>\n      <td>40.3</td>\n      <td>2.3</td>\n      <td>0.6</td>\n      <td>19.6</td>\n      <td>2.9</td>\n      <td>3.2</td>\n    </tr>\n    <tr>\n      <th>42</th>\n      <td>West Virginia</td>\n      <td>65.8</td>\n      <td>10.7</td>\n      <td>1.1</td>\n      <td>0.4</td>\n      <td>6.1</td>\n      <td>2.2</td>\n    </tr>\n    <tr>\n      <th>43</th>\n      <td>Wisconsin</td>\n      <td>40.0</td>\n      <td>22.1</td>\n      <td>14.8</td>\n      <td>14.1</td>\n      <td>22.0</td>\n      <td>7.3</td>\n    </tr>\n    <tr>\n      <th>44</th>\n      <td>Wyoming</td>\n      <td>27.6</td>\n      <td>12.3</td>\n      <td>3.2</td>\n      <td>None</td>\n      <td>4.3</td>\n      <td>13.2</td>\n    </tr>\n    <tr>\n      <th>45</th>\n      <td>Other States</td>\n      <td>13.6</td>\n      <td>2.3</td>\n      <td>0.3</td>\n      <td>0.3</td>\n      <td>32.4</td>\n      <td>0.9</td>\n    </tr>\n    <tr>\n      <th>46</th>\n      <td>United States</td>\n      <td>45.7</td>\n      <td>15.0</td>\n      <td>5.4</td>\n      <td>10.9</td>\n      <td>8.6</td>\n      <td>5.3</td>\n    </tr>\n  </tbody>\n</table>\n</div>"
     },
     "metadata": {},
     "execution_count": 11
    }
   ],
   "source": [
    "## Reset the index\n",
    "hbcny_s_19q4 = hbcny_s_19q4.reset_index(drop = True)\n",
    "hbcny_s_19q4"
   ]
  },
  {
   "cell_type": "code",
   "execution_count": 12,
   "metadata": {},
   "outputs": [],
   "source": [
    "hbcny_s_19q4.to_csv(\"hbcny_stress_19q4.csv\", index=False)"
   ]
  }
 ]
}