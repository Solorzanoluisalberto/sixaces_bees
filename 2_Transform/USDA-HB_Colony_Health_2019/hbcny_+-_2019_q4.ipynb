{
 "metadata": {
  "language_info": {
   "codemirror_mode": {
    "name": "ipython",
    "version": 3
   },
   "file_extension": ".py",
   "mimetype": "text/x-python",
   "name": "python",
   "nbconvert_exporter": "python",
   "pygments_lexer": "ipython3",
   "version": "3.8.5"
  },
  "orig_nbformat": 2,
  "kernelspec": {
   "name": "python385jvsc74a57bd06e67b620515b60b5e0a41f61aaaaaa0b5713da87d04dedede882ceace4acc361",
   "display_name": "Python 3.8.5 64-bit ('Daniel Ramirez': virtualenv)"
  }
 },
 "nbformat": 4,
 "nbformat_minor": 2,
 "cells": [
  {
   "cell_type": "code",
   "execution_count": 1,
   "metadata": {},
   "outputs": [],
   "source": [
    "## Dependencies and setup\n",
    "import pandas as pd"
   ]
  },
  {
   "cell_type": "code",
   "execution_count": 2,
   "metadata": {},
   "outputs": [],
   "source": [
    "## Load data files\n",
    "hbcny_h_19q4 = \"../../1_Extract/USDA-HB_Colony_Health_2019_and_2020/hbcny_+-_2019_q4_t008.csv\""
   ]
  },
  {
   "cell_type": "code",
   "execution_count": 3,
   "metadata": {},
   "outputs": [],
   "source": [
    "## Read data and store into df\n",
    "## Drop the first 5 rows which hold info text\n",
    "hbcny_h_19q4 = pd.read_csv(hbcny_h_19q4, skiprows=4)"
   ]
  },
  {
   "cell_type": "code",
   "execution_count": 4,
   "metadata": {},
   "outputs": [
    {
     "output_type": "execute_result",
     "data": {
      "text/plain": [
       "    8  h                                              State October 1  \\\n",
       "0   8  h                                                NaN  colonies   \n",
       "1   8  h                                                NaN       NaN   \n",
       "2   8  h                                                NaN       NaN   \n",
       "3   8  u                                                NaN  (number)   \n",
       "4   8  d                                            Alabama      6000   \n",
       ".. .. ..                                                ...       ...   \n",
       "61  8  f  1/ October 1 colonies plus all colonies moved ...       NaN   \n",
       "62  8  f  2/ Percent lost is the number of lost colonies...       NaN   \n",
       "63  8  f  3/ Defined as any surviving colony that was re...       NaN   \n",
       "64  8  f  4/ Percent renovated is the number of renovate...       NaN   \n",
       "65  8  f  5/ Includes data for States not published in t...       NaN   \n",
       "\n",
       "     Unnamed: 4 Unnamed: 5 Unnamed: 6 Unnamed: 7   Unnamed: 8    Unnamed: 9  \n",
       "0       Maximum       Lost    Percent      Added    Renovated       Percent  \n",
       "1   colonies 1/   colonies    lost 2/   colonies  colonies 3/  renovated 4/  \n",
       "2           NaN        NaN        NaN        NaN          NaN           NaN  \n",
       "3      (number)   (number)  (percent)   (number)     (number)     (percent)  \n",
       "4          6000        660         11        240           70             1  \n",
       "..          ...        ...        ...        ...          ...           ...  \n",
       "61          NaN        NaN        NaN        NaN          NaN           NaN  \n",
       "62          NaN        NaN        NaN        NaN          NaN           NaN  \n",
       "63          NaN        NaN        NaN        NaN          NaN           NaN  \n",
       "64          NaN        NaN        NaN        NaN          NaN           NaN  \n",
       "65          NaN        NaN        NaN        NaN          NaN           NaN  \n",
       "\n",
       "[66 rows x 10 columns]"
      ],
      "text/html": "<div>\n<style scoped>\n    .dataframe tbody tr th:only-of-type {\n        vertical-align: middle;\n    }\n\n    .dataframe tbody tr th {\n        vertical-align: top;\n    }\n\n    .dataframe thead th {\n        text-align: right;\n    }\n</style>\n<table border=\"1\" class=\"dataframe\">\n  <thead>\n    <tr style=\"text-align: right;\">\n      <th></th>\n      <th>8</th>\n      <th>h</th>\n      <th>State</th>\n      <th>October 1</th>\n      <th>Unnamed: 4</th>\n      <th>Unnamed: 5</th>\n      <th>Unnamed: 6</th>\n      <th>Unnamed: 7</th>\n      <th>Unnamed: 8</th>\n      <th>Unnamed: 9</th>\n    </tr>\n  </thead>\n  <tbody>\n    <tr>\n      <th>0</th>\n      <td>8</td>\n      <td>h</td>\n      <td>NaN</td>\n      <td>colonies</td>\n      <td>Maximum</td>\n      <td>Lost</td>\n      <td>Percent</td>\n      <td>Added</td>\n      <td>Renovated</td>\n      <td>Percent</td>\n    </tr>\n    <tr>\n      <th>1</th>\n      <td>8</td>\n      <td>h</td>\n      <td>NaN</td>\n      <td>NaN</td>\n      <td>colonies 1/</td>\n      <td>colonies</td>\n      <td>lost 2/</td>\n      <td>colonies</td>\n      <td>colonies 3/</td>\n      <td>renovated 4/</td>\n    </tr>\n    <tr>\n      <th>2</th>\n      <td>8</td>\n      <td>h</td>\n      <td>NaN</td>\n      <td>NaN</td>\n      <td>NaN</td>\n      <td>NaN</td>\n      <td>NaN</td>\n      <td>NaN</td>\n      <td>NaN</td>\n      <td>NaN</td>\n    </tr>\n    <tr>\n      <th>3</th>\n      <td>8</td>\n      <td>u</td>\n      <td>NaN</td>\n      <td>(number)</td>\n      <td>(number)</td>\n      <td>(number)</td>\n      <td>(percent)</td>\n      <td>(number)</td>\n      <td>(number)</td>\n      <td>(percent)</td>\n    </tr>\n    <tr>\n      <th>4</th>\n      <td>8</td>\n      <td>d</td>\n      <td>Alabama</td>\n      <td>6000</td>\n      <td>6000</td>\n      <td>660</td>\n      <td>11</td>\n      <td>240</td>\n      <td>70</td>\n      <td>1</td>\n    </tr>\n    <tr>\n      <th>...</th>\n      <td>...</td>\n      <td>...</td>\n      <td>...</td>\n      <td>...</td>\n      <td>...</td>\n      <td>...</td>\n      <td>...</td>\n      <td>...</td>\n      <td>...</td>\n      <td>...</td>\n    </tr>\n    <tr>\n      <th>61</th>\n      <td>8</td>\n      <td>f</td>\n      <td>1/ October 1 colonies plus all colonies moved ...</td>\n      <td>NaN</td>\n      <td>NaN</td>\n      <td>NaN</td>\n      <td>NaN</td>\n      <td>NaN</td>\n      <td>NaN</td>\n      <td>NaN</td>\n    </tr>\n    <tr>\n      <th>62</th>\n      <td>8</td>\n      <td>f</td>\n      <td>2/ Percent lost is the number of lost colonies...</td>\n      <td>NaN</td>\n      <td>NaN</td>\n      <td>NaN</td>\n      <td>NaN</td>\n      <td>NaN</td>\n      <td>NaN</td>\n      <td>NaN</td>\n    </tr>\n    <tr>\n      <th>63</th>\n      <td>8</td>\n      <td>f</td>\n      <td>3/ Defined as any surviving colony that was re...</td>\n      <td>NaN</td>\n      <td>NaN</td>\n      <td>NaN</td>\n      <td>NaN</td>\n      <td>NaN</td>\n      <td>NaN</td>\n      <td>NaN</td>\n    </tr>\n    <tr>\n      <th>64</th>\n      <td>8</td>\n      <td>f</td>\n      <td>4/ Percent renovated is the number of renovate...</td>\n      <td>NaN</td>\n      <td>NaN</td>\n      <td>NaN</td>\n      <td>NaN</td>\n      <td>NaN</td>\n      <td>NaN</td>\n      <td>NaN</td>\n    </tr>\n    <tr>\n      <th>65</th>\n      <td>8</td>\n      <td>f</td>\n      <td>5/ Includes data for States not published in t...</td>\n      <td>NaN</td>\n      <td>NaN</td>\n      <td>NaN</td>\n      <td>NaN</td>\n      <td>NaN</td>\n      <td>NaN</td>\n      <td>NaN</td>\n    </tr>\n  </tbody>\n</table>\n<p>66 rows × 10 columns</p>\n</div>"
     },
     "metadata": {},
     "execution_count": 4
    }
   ],
   "source": [
    "#hbcny_h_19q4 = pd.DataFrame(hbcny_h_19q4)\n",
    "hbcny_h_19q4"
   ]
  },
  {
   "cell_type": "code",
   "execution_count": 5,
   "metadata": {},
   "outputs": [
    {
     "output_type": "execute_result",
     "data": {
      "text/plain": [
       "                                                State October 1   Unnamed: 4  \\\n",
       "0                                                 NaN  colonies      Maximum   \n",
       "1                                                 NaN       NaN  colonies 1/   \n",
       "2                                                 NaN       NaN          NaN   \n",
       "3                                                 NaN  (number)     (number)   \n",
       "4                                             Alabama      6000         6000   \n",
       "..                                                ...       ...          ...   \n",
       "61  1/ October 1 colonies plus all colonies moved ...       NaN          NaN   \n",
       "62  2/ Percent lost is the number of lost colonies...       NaN          NaN   \n",
       "63  3/ Defined as any surviving colony that was re...       NaN          NaN   \n",
       "64  4/ Percent renovated is the number of renovate...       NaN          NaN   \n",
       "65  5/ Includes data for States not published in t...       NaN          NaN   \n",
       "\n",
       "   Unnamed: 5 Unnamed: 6 Unnamed: 7   Unnamed: 8    Unnamed: 9  \n",
       "0        Lost    Percent      Added    Renovated       Percent  \n",
       "1    colonies    lost 2/   colonies  colonies 3/  renovated 4/  \n",
       "2         NaN        NaN        NaN          NaN           NaN  \n",
       "3    (number)  (percent)   (number)     (number)     (percent)  \n",
       "4         660         11        240           70             1  \n",
       "..        ...        ...        ...          ...           ...  \n",
       "61        NaN        NaN        NaN          NaN           NaN  \n",
       "62        NaN        NaN        NaN          NaN           NaN  \n",
       "63        NaN        NaN        NaN          NaN           NaN  \n",
       "64        NaN        NaN        NaN          NaN           NaN  \n",
       "65        NaN        NaN        NaN          NaN           NaN  \n",
       "\n",
       "[66 rows x 8 columns]"
      ],
      "text/html": "<div>\n<style scoped>\n    .dataframe tbody tr th:only-of-type {\n        vertical-align: middle;\n    }\n\n    .dataframe tbody tr th {\n        vertical-align: top;\n    }\n\n    .dataframe thead th {\n        text-align: right;\n    }\n</style>\n<table border=\"1\" class=\"dataframe\">\n  <thead>\n    <tr style=\"text-align: right;\">\n      <th></th>\n      <th>State</th>\n      <th>October 1</th>\n      <th>Unnamed: 4</th>\n      <th>Unnamed: 5</th>\n      <th>Unnamed: 6</th>\n      <th>Unnamed: 7</th>\n      <th>Unnamed: 8</th>\n      <th>Unnamed: 9</th>\n    </tr>\n  </thead>\n  <tbody>\n    <tr>\n      <th>0</th>\n      <td>NaN</td>\n      <td>colonies</td>\n      <td>Maximum</td>\n      <td>Lost</td>\n      <td>Percent</td>\n      <td>Added</td>\n      <td>Renovated</td>\n      <td>Percent</td>\n    </tr>\n    <tr>\n      <th>1</th>\n      <td>NaN</td>\n      <td>NaN</td>\n      <td>colonies 1/</td>\n      <td>colonies</td>\n      <td>lost 2/</td>\n      <td>colonies</td>\n      <td>colonies 3/</td>\n      <td>renovated 4/</td>\n    </tr>\n    <tr>\n      <th>2</th>\n      <td>NaN</td>\n      <td>NaN</td>\n      <td>NaN</td>\n      <td>NaN</td>\n      <td>NaN</td>\n      <td>NaN</td>\n      <td>NaN</td>\n      <td>NaN</td>\n    </tr>\n    <tr>\n      <th>3</th>\n      <td>NaN</td>\n      <td>(number)</td>\n      <td>(number)</td>\n      <td>(number)</td>\n      <td>(percent)</td>\n      <td>(number)</td>\n      <td>(number)</td>\n      <td>(percent)</td>\n    </tr>\n    <tr>\n      <th>4</th>\n      <td>Alabama</td>\n      <td>6000</td>\n      <td>6000</td>\n      <td>660</td>\n      <td>11</td>\n      <td>240</td>\n      <td>70</td>\n      <td>1</td>\n    </tr>\n    <tr>\n      <th>...</th>\n      <td>...</td>\n      <td>...</td>\n      <td>...</td>\n      <td>...</td>\n      <td>...</td>\n      <td>...</td>\n      <td>...</td>\n      <td>...</td>\n    </tr>\n    <tr>\n      <th>61</th>\n      <td>1/ October 1 colonies plus all colonies moved ...</td>\n      <td>NaN</td>\n      <td>NaN</td>\n      <td>NaN</td>\n      <td>NaN</td>\n      <td>NaN</td>\n      <td>NaN</td>\n      <td>NaN</td>\n    </tr>\n    <tr>\n      <th>62</th>\n      <td>2/ Percent lost is the number of lost colonies...</td>\n      <td>NaN</td>\n      <td>NaN</td>\n      <td>NaN</td>\n      <td>NaN</td>\n      <td>NaN</td>\n      <td>NaN</td>\n      <td>NaN</td>\n    </tr>\n    <tr>\n      <th>63</th>\n      <td>3/ Defined as any surviving colony that was re...</td>\n      <td>NaN</td>\n      <td>NaN</td>\n      <td>NaN</td>\n      <td>NaN</td>\n      <td>NaN</td>\n      <td>NaN</td>\n      <td>NaN</td>\n    </tr>\n    <tr>\n      <th>64</th>\n      <td>4/ Percent renovated is the number of renovate...</td>\n      <td>NaN</td>\n      <td>NaN</td>\n      <td>NaN</td>\n      <td>NaN</td>\n      <td>NaN</td>\n      <td>NaN</td>\n      <td>NaN</td>\n    </tr>\n    <tr>\n      <th>65</th>\n      <td>5/ Includes data for States not published in t...</td>\n      <td>NaN</td>\n      <td>NaN</td>\n      <td>NaN</td>\n      <td>NaN</td>\n      <td>NaN</td>\n      <td>NaN</td>\n      <td>NaN</td>\n    </tr>\n  </tbody>\n</table>\n<p>66 rows × 8 columns</p>\n</div>"
     },
     "metadata": {},
     "execution_count": 5
    }
   ],
   "source": [
    "## Drop erroneous first 2 columns\n",
    "hbcny_h_19q4.drop(hbcny_h_19q4.iloc[:, [0, 1]], axis = 1, inplace = True)\n",
    "\n",
    "## Drop erroneous last few rows\n",
    "hbcny_h_19q4.drop(hbcny_h_19q4.index[56:66])\n",
    "\n",
    "hbcny_h_19q4"
   ]
  },
  {
   "cell_type": "code",
   "execution_count": 6,
   "metadata": {},
   "outputs": [
    {
     "output_type": "execute_result",
     "data": {
      "text/plain": [
       "                                                state num_cny_on_day1_qtr  \\\n",
       "4                                             Alabama                6000   \n",
       "5                                             Arizona               34000   \n",
       "6                                            Arkansas               19000   \n",
       "7                                          California              700000   \n",
       "8                                            Colorado               27000   \n",
       "..                                                ...                 ...   \n",
       "61  1/ October 1 colonies plus all colonies moved ...                 NaN   \n",
       "62  2/ Percent lost is the number of lost colonies...                 NaN   \n",
       "63  3/ Defined as any surviving colony that was re...                 NaN   \n",
       "64  4/ Percent renovated is the number of renovate...                 NaN   \n",
       "65  5/ Includes data for States not published in t...                 NaN   \n",
       "\n",
       "    max_cny lost_cny pct_lost added_cny renovated_cny pct_renovated  \n",
       "4      6000      660       11       240            70             1  \n",
       "5     36000     7000       19       300           300             1  \n",
       "6     19500     1600        8       430           310             2  \n",
       "7   1300000   136000       10    160000         37000             3  \n",
       "8     27000     8000       30      1100           440             2  \n",
       "..      ...      ...      ...       ...           ...           ...  \n",
       "61      NaN      NaN      NaN       NaN           NaN           NaN  \n",
       "62      NaN      NaN      NaN       NaN           NaN           NaN  \n",
       "63      NaN      NaN      NaN       NaN           NaN           NaN  \n",
       "64      NaN      NaN      NaN       NaN           NaN           NaN  \n",
       "65      NaN      NaN      NaN       NaN           NaN           NaN  \n",
       "\n",
       "[62 rows x 8 columns]"
      ],
      "text/html": "<div>\n<style scoped>\n    .dataframe tbody tr th:only-of-type {\n        vertical-align: middle;\n    }\n\n    .dataframe tbody tr th {\n        vertical-align: top;\n    }\n\n    .dataframe thead th {\n        text-align: right;\n    }\n</style>\n<table border=\"1\" class=\"dataframe\">\n  <thead>\n    <tr style=\"text-align: right;\">\n      <th></th>\n      <th>state</th>\n      <th>num_cny_on_day1_qtr</th>\n      <th>max_cny</th>\n      <th>lost_cny</th>\n      <th>pct_lost</th>\n      <th>added_cny</th>\n      <th>renovated_cny</th>\n      <th>pct_renovated</th>\n    </tr>\n  </thead>\n  <tbody>\n    <tr>\n      <th>4</th>\n      <td>Alabama</td>\n      <td>6000</td>\n      <td>6000</td>\n      <td>660</td>\n      <td>11</td>\n      <td>240</td>\n      <td>70</td>\n      <td>1</td>\n    </tr>\n    <tr>\n      <th>5</th>\n      <td>Arizona</td>\n      <td>34000</td>\n      <td>36000</td>\n      <td>7000</td>\n      <td>19</td>\n      <td>300</td>\n      <td>300</td>\n      <td>1</td>\n    </tr>\n    <tr>\n      <th>6</th>\n      <td>Arkansas</td>\n      <td>19000</td>\n      <td>19500</td>\n      <td>1600</td>\n      <td>8</td>\n      <td>430</td>\n      <td>310</td>\n      <td>2</td>\n    </tr>\n    <tr>\n      <th>7</th>\n      <td>California</td>\n      <td>700000</td>\n      <td>1300000</td>\n      <td>136000</td>\n      <td>10</td>\n      <td>160000</td>\n      <td>37000</td>\n      <td>3</td>\n    </tr>\n    <tr>\n      <th>8</th>\n      <td>Colorado</td>\n      <td>27000</td>\n      <td>27000</td>\n      <td>8000</td>\n      <td>30</td>\n      <td>1100</td>\n      <td>440</td>\n      <td>2</td>\n    </tr>\n    <tr>\n      <th>...</th>\n      <td>...</td>\n      <td>...</td>\n      <td>...</td>\n      <td>...</td>\n      <td>...</td>\n      <td>...</td>\n      <td>...</td>\n      <td>...</td>\n    </tr>\n    <tr>\n      <th>61</th>\n      <td>1/ October 1 colonies plus all colonies moved ...</td>\n      <td>NaN</td>\n      <td>NaN</td>\n      <td>NaN</td>\n      <td>NaN</td>\n      <td>NaN</td>\n      <td>NaN</td>\n      <td>NaN</td>\n    </tr>\n    <tr>\n      <th>62</th>\n      <td>2/ Percent lost is the number of lost colonies...</td>\n      <td>NaN</td>\n      <td>NaN</td>\n      <td>NaN</td>\n      <td>NaN</td>\n      <td>NaN</td>\n      <td>NaN</td>\n      <td>NaN</td>\n    </tr>\n    <tr>\n      <th>63</th>\n      <td>3/ Defined as any surviving colony that was re...</td>\n      <td>NaN</td>\n      <td>NaN</td>\n      <td>NaN</td>\n      <td>NaN</td>\n      <td>NaN</td>\n      <td>NaN</td>\n      <td>NaN</td>\n    </tr>\n    <tr>\n      <th>64</th>\n      <td>4/ Percent renovated is the number of renovate...</td>\n      <td>NaN</td>\n      <td>NaN</td>\n      <td>NaN</td>\n      <td>NaN</td>\n      <td>NaN</td>\n      <td>NaN</td>\n      <td>NaN</td>\n    </tr>\n    <tr>\n      <th>65</th>\n      <td>5/ Includes data for States not published in t...</td>\n      <td>NaN</td>\n      <td>NaN</td>\n      <td>NaN</td>\n      <td>NaN</td>\n      <td>NaN</td>\n      <td>NaN</td>\n      <td>NaN</td>\n    </tr>\n  </tbody>\n</table>\n<p>62 rows × 8 columns</p>\n</div>"
     },
     "metadata": {},
     "execution_count": 6
    }
   ],
   "source": [
    "## Rename column with Row [0] text and then drop Rows [0-3]\n",
    "\n",
    "hbcny_h_19q4 = hbcny_h_19q4.rename(columns={\n",
    "    \"State\": \"state\",\n",
    "    \"October 1\": \"num_cny_on_day1_qtr\",\n",
    "    \"Unnamed: 4\": \"max_cny\",\n",
    "    \"Unnamed: 5\": \"lost_cny\",\n",
    "    \"Unnamed: 6\": \"pct_lost\",\n",
    "    \"Unnamed: 7\": \"added_cny\",\n",
    "    \"Unnamed: 8\": \"renovated_cny\",\n",
    "    \"Unnamed: 9\": \"pct_renovated\"})\n",
    "\n",
    "hbcny_h_19q4 = hbcny_h_19q4.drop(range(4))\n",
    "\n",
    "hbcny_h_19q4"
   ]
  },
  {
   "cell_type": "code",
   "execution_count": 7,
   "metadata": {},
   "outputs": [
    {
     "output_type": "execute_result",
     "data": {
      "text/plain": [
       "              state num_cny_on_day1_qtr max_cny lost_cny pct_lost added_cny  \\\n",
       "50    West Virginia                7500    8000     1500       19        30   \n",
       "51        Wisconsin               46000   46000     8500       18      1800   \n",
       "52          Wyoming               27000   28000     3300       12       100   \n",
       "54  Other States 5/               11010   11510     1340       12       280   \n",
       "56    United States             3018110     (X)   399510       13    233260   \n",
       "\n",
       "   renovated_cny pct_renovated  \n",
       "50          1600            20  \n",
       "51          3000             7  \n",
       "52           490             2  \n",
       "54             -             -  \n",
       "56         91000             3  "
      ],
      "text/html": "<div>\n<style scoped>\n    .dataframe tbody tr th:only-of-type {\n        vertical-align: middle;\n    }\n\n    .dataframe tbody tr th {\n        vertical-align: top;\n    }\n\n    .dataframe thead th {\n        text-align: right;\n    }\n</style>\n<table border=\"1\" class=\"dataframe\">\n  <thead>\n    <tr style=\"text-align: right;\">\n      <th></th>\n      <th>state</th>\n      <th>num_cny_on_day1_qtr</th>\n      <th>max_cny</th>\n      <th>lost_cny</th>\n      <th>pct_lost</th>\n      <th>added_cny</th>\n      <th>renovated_cny</th>\n      <th>pct_renovated</th>\n    </tr>\n  </thead>\n  <tbody>\n    <tr>\n      <th>50</th>\n      <td>West Virginia</td>\n      <td>7500</td>\n      <td>8000</td>\n      <td>1500</td>\n      <td>19</td>\n      <td>30</td>\n      <td>1600</td>\n      <td>20</td>\n    </tr>\n    <tr>\n      <th>51</th>\n      <td>Wisconsin</td>\n      <td>46000</td>\n      <td>46000</td>\n      <td>8500</td>\n      <td>18</td>\n      <td>1800</td>\n      <td>3000</td>\n      <td>7</td>\n    </tr>\n    <tr>\n      <th>52</th>\n      <td>Wyoming</td>\n      <td>27000</td>\n      <td>28000</td>\n      <td>3300</td>\n      <td>12</td>\n      <td>100</td>\n      <td>490</td>\n      <td>2</td>\n    </tr>\n    <tr>\n      <th>54</th>\n      <td>Other States 5/</td>\n      <td>11010</td>\n      <td>11510</td>\n      <td>1340</td>\n      <td>12</td>\n      <td>280</td>\n      <td>-</td>\n      <td>-</td>\n    </tr>\n    <tr>\n      <th>56</th>\n      <td>United States</td>\n      <td>3018110</td>\n      <td>(X)</td>\n      <td>399510</td>\n      <td>13</td>\n      <td>233260</td>\n      <td>91000</td>\n      <td>3</td>\n    </tr>\n  </tbody>\n</table>\n</div>"
     },
     "metadata": {},
     "execution_count": 7
    }
   ],
   "source": [
    "## Drop blank rows\n",
    "hbcny_h_19q4 = hbcny_h_19q4.dropna()\n",
    "hbcny_h_19q4.tail()"
   ]
  },
  {
   "cell_type": "code",
   "execution_count": 8,
   "metadata": {},
   "outputs": [
    {
     "output_type": "stream",
     "name": "stderr",
     "text": [
      "C:\\Users\\Daniel Ramirez\\anaconda3\\lib\\site-packages\\pandas\\core\\indexing.py:670: SettingWithCopyWarning: \nA value is trying to be set on a copy of a slice from a DataFrame\n\nSee the caveats in the documentation: https://pandas.pydata.org/pandas-docs/stable/user_guide/indexing.html#returning-a-view-versus-a-copy\n  iloc._setitem_with_indexer(indexer, value)\n<ipython-input-8-2d1fbb9f4c95>:2: SettingWithCopyWarning: \nA value is trying to be set on a copy of a slice from a DataFrame\n\nSee the caveats in the documentation: https://pandas.pydata.org/pandas-docs/stable/user_guide/indexing.html#returning-a-view-versus-a-copy\n  hbcny_h_19q4.loc[54, \"state\"] = \"Other States\"\n"
     ]
    },
    {
     "output_type": "execute_result",
     "data": {
      "text/plain": [
       "            state num_cny_on_day1_qtr max_cny lost_cny pct_lost added_cny  \\\n",
       "50  West Virginia                7500    8000     1500       19        30   \n",
       "51      Wisconsin               46000   46000     8500       18      1800   \n",
       "52        Wyoming               27000   28000     3300       12       100   \n",
       "54   Other States               11010   11510     1340       12       280   \n",
       "56  United States             3018110     (X)   399510       13    233260   \n",
       "\n",
       "   renovated_cny pct_renovated  \n",
       "50          1600            20  \n",
       "51          3000             7  \n",
       "52           490             2  \n",
       "54             -             -  \n",
       "56         91000             3  "
      ],
      "text/html": "<div>\n<style scoped>\n    .dataframe tbody tr th:only-of-type {\n        vertical-align: middle;\n    }\n\n    .dataframe tbody tr th {\n        vertical-align: top;\n    }\n\n    .dataframe thead th {\n        text-align: right;\n    }\n</style>\n<table border=\"1\" class=\"dataframe\">\n  <thead>\n    <tr style=\"text-align: right;\">\n      <th></th>\n      <th>state</th>\n      <th>num_cny_on_day1_qtr</th>\n      <th>max_cny</th>\n      <th>lost_cny</th>\n      <th>pct_lost</th>\n      <th>added_cny</th>\n      <th>renovated_cny</th>\n      <th>pct_renovated</th>\n    </tr>\n  </thead>\n  <tbody>\n    <tr>\n      <th>50</th>\n      <td>West Virginia</td>\n      <td>7500</td>\n      <td>8000</td>\n      <td>1500</td>\n      <td>19</td>\n      <td>30</td>\n      <td>1600</td>\n      <td>20</td>\n    </tr>\n    <tr>\n      <th>51</th>\n      <td>Wisconsin</td>\n      <td>46000</td>\n      <td>46000</td>\n      <td>8500</td>\n      <td>18</td>\n      <td>1800</td>\n      <td>3000</td>\n      <td>7</td>\n    </tr>\n    <tr>\n      <th>52</th>\n      <td>Wyoming</td>\n      <td>27000</td>\n      <td>28000</td>\n      <td>3300</td>\n      <td>12</td>\n      <td>100</td>\n      <td>490</td>\n      <td>2</td>\n    </tr>\n    <tr>\n      <th>54</th>\n      <td>Other States</td>\n      <td>11010</td>\n      <td>11510</td>\n      <td>1340</td>\n      <td>12</td>\n      <td>280</td>\n      <td>-</td>\n      <td>-</td>\n    </tr>\n    <tr>\n      <th>56</th>\n      <td>United States</td>\n      <td>3018110</td>\n      <td>(X)</td>\n      <td>399510</td>\n      <td>13</td>\n      <td>233260</td>\n      <td>91000</td>\n      <td>3</td>\n    </tr>\n  </tbody>\n</table>\n</div>"
     },
     "metadata": {},
     "execution_count": 8
    }
   ],
   "source": [
    "## Rename cell \n",
    "hbcny_h_19q4.loc[54, \"state\"] = \"Other States\"\n",
    "hbcny_h_19q4.tail()"
   ]
  },
  {
   "cell_type": "code",
   "execution_count": 9,
   "metadata": {},
   "outputs": [
    {
     "output_type": "execute_result",
     "data": {
      "text/plain": [
       "            state num_cny_on_day1_qtr max_cny lost_cny pct_lost added_cny  \\\n",
       "50  West Virginia                7500    8000     1500       19        30   \n",
       "51      Wisconsin               46000   46000     8500       18      1800   \n",
       "52        Wyoming               27000   28000     3300       12       100   \n",
       "54   Other States               11010   11510     1340       12       280   \n",
       "56  United States             3018110     (X)   399510       13    233260   \n",
       "\n",
       "   renovated_cny pct_renovated  \n",
       "50          1600            20  \n",
       "51          3000             7  \n",
       "52           490             2  \n",
       "54             -             -  \n",
       "56         91000             3  "
      ],
      "text/html": "<div>\n<style scoped>\n    .dataframe tbody tr th:only-of-type {\n        vertical-align: middle;\n    }\n\n    .dataframe tbody tr th {\n        vertical-align: top;\n    }\n\n    .dataframe thead th {\n        text-align: right;\n    }\n</style>\n<table border=\"1\" class=\"dataframe\">\n  <thead>\n    <tr style=\"text-align: right;\">\n      <th></th>\n      <th>state</th>\n      <th>num_cny_on_day1_qtr</th>\n      <th>max_cny</th>\n      <th>lost_cny</th>\n      <th>pct_lost</th>\n      <th>added_cny</th>\n      <th>renovated_cny</th>\n      <th>pct_renovated</th>\n    </tr>\n  </thead>\n  <tbody>\n    <tr>\n      <th>50</th>\n      <td>West Virginia</td>\n      <td>7500</td>\n      <td>8000</td>\n      <td>1500</td>\n      <td>19</td>\n      <td>30</td>\n      <td>1600</td>\n      <td>20</td>\n    </tr>\n    <tr>\n      <th>51</th>\n      <td>Wisconsin</td>\n      <td>46000</td>\n      <td>46000</td>\n      <td>8500</td>\n      <td>18</td>\n      <td>1800</td>\n      <td>3000</td>\n      <td>7</td>\n    </tr>\n    <tr>\n      <th>52</th>\n      <td>Wyoming</td>\n      <td>27000</td>\n      <td>28000</td>\n      <td>3300</td>\n      <td>12</td>\n      <td>100</td>\n      <td>490</td>\n      <td>2</td>\n    </tr>\n    <tr>\n      <th>54</th>\n      <td>Other States</td>\n      <td>11010</td>\n      <td>11510</td>\n      <td>1340</td>\n      <td>12</td>\n      <td>280</td>\n      <td>-</td>\n      <td>-</td>\n    </tr>\n    <tr>\n      <th>56</th>\n      <td>United States</td>\n      <td>3018110</td>\n      <td>(X)</td>\n      <td>399510</td>\n      <td>13</td>\n      <td>233260</td>\n      <td>91000</td>\n      <td>3</td>\n    </tr>\n  </tbody>\n</table>\n</div>"
     },
     "metadata": {},
     "execution_count": 9
    }
   ],
   "source": [
    "## (Z) defined as:\n",
    "## Less than half of the unit shown (or negligible)\n",
    "## Replace (Z) values with zero\n",
    "hbcny_h_19q4 = hbcny_h_19q4.replace(\"(Z)\", 0)\n",
    "hbcny_h_19q4.tail()"
   ]
  },
  {
   "cell_type": "code",
   "execution_count": 10,
   "metadata": {},
   "outputs": [
    {
     "output_type": "execute_result",
     "data": {
      "text/plain": [
       "             state num_cny_on_day1_qtr  max_cny lost_cny pct_lost added_cny  \\\n",
       "4          Alabama                6000     6000      660       11       240   \n",
       "5          Arizona               34000    36000     7000       19       300   \n",
       "6         Arkansas               19000    19500     1600        8       430   \n",
       "7       California              700000  1300000   136000       10    160000   \n",
       "8         Colorado               27000    27000     8000       30      1100   \n",
       "9      Connecticut                3800     4000      300        8        10   \n",
       "10         Florida              270000   300000    30000       10     28000   \n",
       "11         Georgia              119000   131000    20000       15     10500   \n",
       "12          Hawaii               17000    17000     1300        8       300   \n",
       "13           Idaho              111000   196000    15500        8      1800   \n",
       "15        Illinois               13000    13000     1700       13      1000   \n",
       "16         Indiana               17500    17500     1300        7       160   \n",
       "17            Iowa               32000    32000     7500       23      1500   \n",
       "18          Kansas                4800     4900      650       13       190   \n",
       "19        Kentucky                8500     8500      410        5       190   \n",
       "20       Louisiana               41000    46000     2300        5        70   \n",
       "21           Maine               11500    11500      770        7       110   \n",
       "22        Maryland                6500     8000     1100       14       390   \n",
       "23   Massachusetts                5000     5000     1200       24        60   \n",
       "24        Michigan               84000    84000     6500        8       820   \n",
       "26       Minnesota               97000    97000    15500       16      3400   \n",
       "27     Mississippi               21000    29000     3400       12       350   \n",
       "28        Missouri                9000    10000     1500       15       260   \n",
       "29         Montana               71000    79000     7000        9       770   \n",
       "30        Nebraska               37000    38000     2700        7       320   \n",
       "31      New Jersey               15500    15500      220        1        60   \n",
       "32      New Mexico                6000     6000       70        1        30   \n",
       "33        New York               65000    65000    10000       15       630   \n",
       "34  North Carolina               17500    18000     3200       18       240   \n",
       "35    North Dakota              420000   420000    27000        6      3000   \n",
       "37            Ohio               19000    19000     2700       14       800   \n",
       "38        Oklahoma                6500    37000     2500        7       460   \n",
       "39          Oregon              115000   130000    15000       12       650   \n",
       "40    Pennsylvania               21000    21000     3800       18      1600   \n",
       "41  South Carolina               12500    13500     1900       14      1400   \n",
       "42    South Dakota              189000   189000     7500        4      None   \n",
       "43       Tennessee               11000    11000     1300       12        20   \n",
       "44           Texas              129000   240000    17500        7      8000   \n",
       "45            Utah               30000    32000     4400       14       970   \n",
       "46         Vermont                7000     7000      190        3       100   \n",
       "48        Virginia                8000     8000     1200       15        10   \n",
       "49      Washington               89000    93000    12500       13       810   \n",
       "50   West Virginia                7500     8000     1500       19        30   \n",
       "51       Wisconsin               46000    46000     8500       18      1800   \n",
       "52         Wyoming               27000    28000     3300       12       100   \n",
       "54    Other States               11010    11510     1340       12       280   \n",
       "56   United States             3018110     None   399510       13    233260   \n",
       "\n",
       "   renovated_cny pct_renovated  \n",
       "4             70             1  \n",
       "5            300             1  \n",
       "6            310             2  \n",
       "7          37000             3  \n",
       "8            440             2  \n",
       "9             50             1  \n",
       "10         15000             5  \n",
       "11         10500             8  \n",
       "12            50             0  \n",
       "13          1000             1  \n",
       "15          1500            12  \n",
       "16           180             1  \n",
       "17           530             2  \n",
       "18           460             9  \n",
       "19           170             2  \n",
       "20            80             0  \n",
       "21            40             0  \n",
       "22           420             5  \n",
       "23           130             3  \n",
       "24          1500             2  \n",
       "26            60             0  \n",
       "27            50             0  \n",
       "28            10             0  \n",
       "29          4000             5  \n",
       "30            10             0  \n",
       "31            80             1  \n",
       "32            10             0  \n",
       "33           510             1  \n",
       "34           770             4  \n",
       "35          4300             1  \n",
       "37           390             2  \n",
       "38          None          None  \n",
       "39          2000             2  \n",
       "40          1100             5  \n",
       "41           430             3  \n",
       "42            40             0  \n",
       "43            70             1  \n",
       "44          1700             1  \n",
       "45            90             0  \n",
       "46           270             4  \n",
       "48           190             2  \n",
       "49           100             0  \n",
       "50          1600            20  \n",
       "51          3000             7  \n",
       "52           490             2  \n",
       "54          None          None  \n",
       "56         91000             3  "
      ],
      "text/html": "<div>\n<style scoped>\n    .dataframe tbody tr th:only-of-type {\n        vertical-align: middle;\n    }\n\n    .dataframe tbody tr th {\n        vertical-align: top;\n    }\n\n    .dataframe thead th {\n        text-align: right;\n    }\n</style>\n<table border=\"1\" class=\"dataframe\">\n  <thead>\n    <tr style=\"text-align: right;\">\n      <th></th>\n      <th>state</th>\n      <th>num_cny_on_day1_qtr</th>\n      <th>max_cny</th>\n      <th>lost_cny</th>\n      <th>pct_lost</th>\n      <th>added_cny</th>\n      <th>renovated_cny</th>\n      <th>pct_renovated</th>\n    </tr>\n  </thead>\n  <tbody>\n    <tr>\n      <th>4</th>\n      <td>Alabama</td>\n      <td>6000</td>\n      <td>6000</td>\n      <td>660</td>\n      <td>11</td>\n      <td>240</td>\n      <td>70</td>\n      <td>1</td>\n    </tr>\n    <tr>\n      <th>5</th>\n      <td>Arizona</td>\n      <td>34000</td>\n      <td>36000</td>\n      <td>7000</td>\n      <td>19</td>\n      <td>300</td>\n      <td>300</td>\n      <td>1</td>\n    </tr>\n    <tr>\n      <th>6</th>\n      <td>Arkansas</td>\n      <td>19000</td>\n      <td>19500</td>\n      <td>1600</td>\n      <td>8</td>\n      <td>430</td>\n      <td>310</td>\n      <td>2</td>\n    </tr>\n    <tr>\n      <th>7</th>\n      <td>California</td>\n      <td>700000</td>\n      <td>1300000</td>\n      <td>136000</td>\n      <td>10</td>\n      <td>160000</td>\n      <td>37000</td>\n      <td>3</td>\n    </tr>\n    <tr>\n      <th>8</th>\n      <td>Colorado</td>\n      <td>27000</td>\n      <td>27000</td>\n      <td>8000</td>\n      <td>30</td>\n      <td>1100</td>\n      <td>440</td>\n      <td>2</td>\n    </tr>\n    <tr>\n      <th>9</th>\n      <td>Connecticut</td>\n      <td>3800</td>\n      <td>4000</td>\n      <td>300</td>\n      <td>8</td>\n      <td>10</td>\n      <td>50</td>\n      <td>1</td>\n    </tr>\n    <tr>\n      <th>10</th>\n      <td>Florida</td>\n      <td>270000</td>\n      <td>300000</td>\n      <td>30000</td>\n      <td>10</td>\n      <td>28000</td>\n      <td>15000</td>\n      <td>5</td>\n    </tr>\n    <tr>\n      <th>11</th>\n      <td>Georgia</td>\n      <td>119000</td>\n      <td>131000</td>\n      <td>20000</td>\n      <td>15</td>\n      <td>10500</td>\n      <td>10500</td>\n      <td>8</td>\n    </tr>\n    <tr>\n      <th>12</th>\n      <td>Hawaii</td>\n      <td>17000</td>\n      <td>17000</td>\n      <td>1300</td>\n      <td>8</td>\n      <td>300</td>\n      <td>50</td>\n      <td>0</td>\n    </tr>\n    <tr>\n      <th>13</th>\n      <td>Idaho</td>\n      <td>111000</td>\n      <td>196000</td>\n      <td>15500</td>\n      <td>8</td>\n      <td>1800</td>\n      <td>1000</td>\n      <td>1</td>\n    </tr>\n    <tr>\n      <th>15</th>\n      <td>Illinois</td>\n      <td>13000</td>\n      <td>13000</td>\n      <td>1700</td>\n      <td>13</td>\n      <td>1000</td>\n      <td>1500</td>\n      <td>12</td>\n    </tr>\n    <tr>\n      <th>16</th>\n      <td>Indiana</td>\n      <td>17500</td>\n      <td>17500</td>\n      <td>1300</td>\n      <td>7</td>\n      <td>160</td>\n      <td>180</td>\n      <td>1</td>\n    </tr>\n    <tr>\n      <th>17</th>\n      <td>Iowa</td>\n      <td>32000</td>\n      <td>32000</td>\n      <td>7500</td>\n      <td>23</td>\n      <td>1500</td>\n      <td>530</td>\n      <td>2</td>\n    </tr>\n    <tr>\n      <th>18</th>\n      <td>Kansas</td>\n      <td>4800</td>\n      <td>4900</td>\n      <td>650</td>\n      <td>13</td>\n      <td>190</td>\n      <td>460</td>\n      <td>9</td>\n    </tr>\n    <tr>\n      <th>19</th>\n      <td>Kentucky</td>\n      <td>8500</td>\n      <td>8500</td>\n      <td>410</td>\n      <td>5</td>\n      <td>190</td>\n      <td>170</td>\n      <td>2</td>\n    </tr>\n    <tr>\n      <th>20</th>\n      <td>Louisiana</td>\n      <td>41000</td>\n      <td>46000</td>\n      <td>2300</td>\n      <td>5</td>\n      <td>70</td>\n      <td>80</td>\n      <td>0</td>\n    </tr>\n    <tr>\n      <th>21</th>\n      <td>Maine</td>\n      <td>11500</td>\n      <td>11500</td>\n      <td>770</td>\n      <td>7</td>\n      <td>110</td>\n      <td>40</td>\n      <td>0</td>\n    </tr>\n    <tr>\n      <th>22</th>\n      <td>Maryland</td>\n      <td>6500</td>\n      <td>8000</td>\n      <td>1100</td>\n      <td>14</td>\n      <td>390</td>\n      <td>420</td>\n      <td>5</td>\n    </tr>\n    <tr>\n      <th>23</th>\n      <td>Massachusetts</td>\n      <td>5000</td>\n      <td>5000</td>\n      <td>1200</td>\n      <td>24</td>\n      <td>60</td>\n      <td>130</td>\n      <td>3</td>\n    </tr>\n    <tr>\n      <th>24</th>\n      <td>Michigan</td>\n      <td>84000</td>\n      <td>84000</td>\n      <td>6500</td>\n      <td>8</td>\n      <td>820</td>\n      <td>1500</td>\n      <td>2</td>\n    </tr>\n    <tr>\n      <th>26</th>\n      <td>Minnesota</td>\n      <td>97000</td>\n      <td>97000</td>\n      <td>15500</td>\n      <td>16</td>\n      <td>3400</td>\n      <td>60</td>\n      <td>0</td>\n    </tr>\n    <tr>\n      <th>27</th>\n      <td>Mississippi</td>\n      <td>21000</td>\n      <td>29000</td>\n      <td>3400</td>\n      <td>12</td>\n      <td>350</td>\n      <td>50</td>\n      <td>0</td>\n    </tr>\n    <tr>\n      <th>28</th>\n      <td>Missouri</td>\n      <td>9000</td>\n      <td>10000</td>\n      <td>1500</td>\n      <td>15</td>\n      <td>260</td>\n      <td>10</td>\n      <td>0</td>\n    </tr>\n    <tr>\n      <th>29</th>\n      <td>Montana</td>\n      <td>71000</td>\n      <td>79000</td>\n      <td>7000</td>\n      <td>9</td>\n      <td>770</td>\n      <td>4000</td>\n      <td>5</td>\n    </tr>\n    <tr>\n      <th>30</th>\n      <td>Nebraska</td>\n      <td>37000</td>\n      <td>38000</td>\n      <td>2700</td>\n      <td>7</td>\n      <td>320</td>\n      <td>10</td>\n      <td>0</td>\n    </tr>\n    <tr>\n      <th>31</th>\n      <td>New Jersey</td>\n      <td>15500</td>\n      <td>15500</td>\n      <td>220</td>\n      <td>1</td>\n      <td>60</td>\n      <td>80</td>\n      <td>1</td>\n    </tr>\n    <tr>\n      <th>32</th>\n      <td>New Mexico</td>\n      <td>6000</td>\n      <td>6000</td>\n      <td>70</td>\n      <td>1</td>\n      <td>30</td>\n      <td>10</td>\n      <td>0</td>\n    </tr>\n    <tr>\n      <th>33</th>\n      <td>New York</td>\n      <td>65000</td>\n      <td>65000</td>\n      <td>10000</td>\n      <td>15</td>\n      <td>630</td>\n      <td>510</td>\n      <td>1</td>\n    </tr>\n    <tr>\n      <th>34</th>\n      <td>North Carolina</td>\n      <td>17500</td>\n      <td>18000</td>\n      <td>3200</td>\n      <td>18</td>\n      <td>240</td>\n      <td>770</td>\n      <td>4</td>\n    </tr>\n    <tr>\n      <th>35</th>\n      <td>North Dakota</td>\n      <td>420000</td>\n      <td>420000</td>\n      <td>27000</td>\n      <td>6</td>\n      <td>3000</td>\n      <td>4300</td>\n      <td>1</td>\n    </tr>\n    <tr>\n      <th>37</th>\n      <td>Ohio</td>\n      <td>19000</td>\n      <td>19000</td>\n      <td>2700</td>\n      <td>14</td>\n      <td>800</td>\n      <td>390</td>\n      <td>2</td>\n    </tr>\n    <tr>\n      <th>38</th>\n      <td>Oklahoma</td>\n      <td>6500</td>\n      <td>37000</td>\n      <td>2500</td>\n      <td>7</td>\n      <td>460</td>\n      <td>None</td>\n      <td>None</td>\n    </tr>\n    <tr>\n      <th>39</th>\n      <td>Oregon</td>\n      <td>115000</td>\n      <td>130000</td>\n      <td>15000</td>\n      <td>12</td>\n      <td>650</td>\n      <td>2000</td>\n      <td>2</td>\n    </tr>\n    <tr>\n      <th>40</th>\n      <td>Pennsylvania</td>\n      <td>21000</td>\n      <td>21000</td>\n      <td>3800</td>\n      <td>18</td>\n      <td>1600</td>\n      <td>1100</td>\n      <td>5</td>\n    </tr>\n    <tr>\n      <th>41</th>\n      <td>South Carolina</td>\n      <td>12500</td>\n      <td>13500</td>\n      <td>1900</td>\n      <td>14</td>\n      <td>1400</td>\n      <td>430</td>\n      <td>3</td>\n    </tr>\n    <tr>\n      <th>42</th>\n      <td>South Dakota</td>\n      <td>189000</td>\n      <td>189000</td>\n      <td>7500</td>\n      <td>4</td>\n      <td>None</td>\n      <td>40</td>\n      <td>0</td>\n    </tr>\n    <tr>\n      <th>43</th>\n      <td>Tennessee</td>\n      <td>11000</td>\n      <td>11000</td>\n      <td>1300</td>\n      <td>12</td>\n      <td>20</td>\n      <td>70</td>\n      <td>1</td>\n    </tr>\n    <tr>\n      <th>44</th>\n      <td>Texas</td>\n      <td>129000</td>\n      <td>240000</td>\n      <td>17500</td>\n      <td>7</td>\n      <td>8000</td>\n      <td>1700</td>\n      <td>1</td>\n    </tr>\n    <tr>\n      <th>45</th>\n      <td>Utah</td>\n      <td>30000</td>\n      <td>32000</td>\n      <td>4400</td>\n      <td>14</td>\n      <td>970</td>\n      <td>90</td>\n      <td>0</td>\n    </tr>\n    <tr>\n      <th>46</th>\n      <td>Vermont</td>\n      <td>7000</td>\n      <td>7000</td>\n      <td>190</td>\n      <td>3</td>\n      <td>100</td>\n      <td>270</td>\n      <td>4</td>\n    </tr>\n    <tr>\n      <th>48</th>\n      <td>Virginia</td>\n      <td>8000</td>\n      <td>8000</td>\n      <td>1200</td>\n      <td>15</td>\n      <td>10</td>\n      <td>190</td>\n      <td>2</td>\n    </tr>\n    <tr>\n      <th>49</th>\n      <td>Washington</td>\n      <td>89000</td>\n      <td>93000</td>\n      <td>12500</td>\n      <td>13</td>\n      <td>810</td>\n      <td>100</td>\n      <td>0</td>\n    </tr>\n    <tr>\n      <th>50</th>\n      <td>West Virginia</td>\n      <td>7500</td>\n      <td>8000</td>\n      <td>1500</td>\n      <td>19</td>\n      <td>30</td>\n      <td>1600</td>\n      <td>20</td>\n    </tr>\n    <tr>\n      <th>51</th>\n      <td>Wisconsin</td>\n      <td>46000</td>\n      <td>46000</td>\n      <td>8500</td>\n      <td>18</td>\n      <td>1800</td>\n      <td>3000</td>\n      <td>7</td>\n    </tr>\n    <tr>\n      <th>52</th>\n      <td>Wyoming</td>\n      <td>27000</td>\n      <td>28000</td>\n      <td>3300</td>\n      <td>12</td>\n      <td>100</td>\n      <td>490</td>\n      <td>2</td>\n    </tr>\n    <tr>\n      <th>54</th>\n      <td>Other States</td>\n      <td>11010</td>\n      <td>11510</td>\n      <td>1340</td>\n      <td>12</td>\n      <td>280</td>\n      <td>None</td>\n      <td>None</td>\n    </tr>\n    <tr>\n      <th>56</th>\n      <td>United States</td>\n      <td>3018110</td>\n      <td>None</td>\n      <td>399510</td>\n      <td>13</td>\n      <td>233260</td>\n      <td>91000</td>\n      <td>3</td>\n    </tr>\n  </tbody>\n</table>\n</div>"
     },
     "metadata": {},
     "execution_count": 10
    }
   ],
   "source": [
    "## (X) defined as: N/A\n",
    "## Assume \"-\" equals None\n",
    "## Replace \"-\" and (X) values with None\n",
    "hbcny_h_19q4 = hbcny_h_19q4.replace({'-': None})\n",
    "hbcny_h_19q4 = hbcny_h_19q4.replace({'(X)': None})\n",
    "hbcny_h_19q4"
   ]
  },
  {
   "cell_type": "code",
   "execution_count": 11,
   "metadata": {},
   "outputs": [
    {
     "output_type": "execute_result",
     "data": {
      "text/plain": [
       "             state num_cny_on_day1_qtr  max_cny lost_cny pct_lost added_cny  \\\n",
       "0          Alabama                6000     6000      660       11       240   \n",
       "1          Arizona               34000    36000     7000       19       300   \n",
       "2         Arkansas               19000    19500     1600        8       430   \n",
       "3       California              700000  1300000   136000       10    160000   \n",
       "4         Colorado               27000    27000     8000       30      1100   \n",
       "5      Connecticut                3800     4000      300        8        10   \n",
       "6          Florida              270000   300000    30000       10     28000   \n",
       "7          Georgia              119000   131000    20000       15     10500   \n",
       "8           Hawaii               17000    17000     1300        8       300   \n",
       "9            Idaho              111000   196000    15500        8      1800   \n",
       "10        Illinois               13000    13000     1700       13      1000   \n",
       "11         Indiana               17500    17500     1300        7       160   \n",
       "12            Iowa               32000    32000     7500       23      1500   \n",
       "13          Kansas                4800     4900      650       13       190   \n",
       "14        Kentucky                8500     8500      410        5       190   \n",
       "15       Louisiana               41000    46000     2300        5        70   \n",
       "16           Maine               11500    11500      770        7       110   \n",
       "17        Maryland                6500     8000     1100       14       390   \n",
       "18   Massachusetts                5000     5000     1200       24        60   \n",
       "19        Michigan               84000    84000     6500        8       820   \n",
       "20       Minnesota               97000    97000    15500       16      3400   \n",
       "21     Mississippi               21000    29000     3400       12       350   \n",
       "22        Missouri                9000    10000     1500       15       260   \n",
       "23         Montana               71000    79000     7000        9       770   \n",
       "24        Nebraska               37000    38000     2700        7       320   \n",
       "25      New Jersey               15500    15500      220        1        60   \n",
       "26      New Mexico                6000     6000       70        1        30   \n",
       "27        New York               65000    65000    10000       15       630   \n",
       "28  North Carolina               17500    18000     3200       18       240   \n",
       "29    North Dakota              420000   420000    27000        6      3000   \n",
       "30            Ohio               19000    19000     2700       14       800   \n",
       "31        Oklahoma                6500    37000     2500        7       460   \n",
       "32          Oregon              115000   130000    15000       12       650   \n",
       "33    Pennsylvania               21000    21000     3800       18      1600   \n",
       "34  South Carolina               12500    13500     1900       14      1400   \n",
       "35    South Dakota              189000   189000     7500        4      None   \n",
       "36       Tennessee               11000    11000     1300       12        20   \n",
       "37           Texas              129000   240000    17500        7      8000   \n",
       "38            Utah               30000    32000     4400       14       970   \n",
       "39         Vermont                7000     7000      190        3       100   \n",
       "40        Virginia                8000     8000     1200       15        10   \n",
       "41      Washington               89000    93000    12500       13       810   \n",
       "42   West Virginia                7500     8000     1500       19        30   \n",
       "43       Wisconsin               46000    46000     8500       18      1800   \n",
       "44         Wyoming               27000    28000     3300       12       100   \n",
       "45    Other States               11010    11510     1340       12       280   \n",
       "46   United States             3018110     None   399510       13    233260   \n",
       "\n",
       "   renovated_cny pct_renovated  \n",
       "0             70             1  \n",
       "1            300             1  \n",
       "2            310             2  \n",
       "3          37000             3  \n",
       "4            440             2  \n",
       "5             50             1  \n",
       "6          15000             5  \n",
       "7          10500             8  \n",
       "8             50             0  \n",
       "9           1000             1  \n",
       "10          1500            12  \n",
       "11           180             1  \n",
       "12           530             2  \n",
       "13           460             9  \n",
       "14           170             2  \n",
       "15            80             0  \n",
       "16            40             0  \n",
       "17           420             5  \n",
       "18           130             3  \n",
       "19          1500             2  \n",
       "20            60             0  \n",
       "21            50             0  \n",
       "22            10             0  \n",
       "23          4000             5  \n",
       "24            10             0  \n",
       "25            80             1  \n",
       "26            10             0  \n",
       "27           510             1  \n",
       "28           770             4  \n",
       "29          4300             1  \n",
       "30           390             2  \n",
       "31          None          None  \n",
       "32          2000             2  \n",
       "33          1100             5  \n",
       "34           430             3  \n",
       "35            40             0  \n",
       "36            70             1  \n",
       "37          1700             1  \n",
       "38            90             0  \n",
       "39           270             4  \n",
       "40           190             2  \n",
       "41           100             0  \n",
       "42          1600            20  \n",
       "43          3000             7  \n",
       "44           490             2  \n",
       "45          None          None  \n",
       "46         91000             3  "
      ],
      "text/html": "<div>\n<style scoped>\n    .dataframe tbody tr th:only-of-type {\n        vertical-align: middle;\n    }\n\n    .dataframe tbody tr th {\n        vertical-align: top;\n    }\n\n    .dataframe thead th {\n        text-align: right;\n    }\n</style>\n<table border=\"1\" class=\"dataframe\">\n  <thead>\n    <tr style=\"text-align: right;\">\n      <th></th>\n      <th>state</th>\n      <th>num_cny_on_day1_qtr</th>\n      <th>max_cny</th>\n      <th>lost_cny</th>\n      <th>pct_lost</th>\n      <th>added_cny</th>\n      <th>renovated_cny</th>\n      <th>pct_renovated</th>\n    </tr>\n  </thead>\n  <tbody>\n    <tr>\n      <th>0</th>\n      <td>Alabama</td>\n      <td>6000</td>\n      <td>6000</td>\n      <td>660</td>\n      <td>11</td>\n      <td>240</td>\n      <td>70</td>\n      <td>1</td>\n    </tr>\n    <tr>\n      <th>1</th>\n      <td>Arizona</td>\n      <td>34000</td>\n      <td>36000</td>\n      <td>7000</td>\n      <td>19</td>\n      <td>300</td>\n      <td>300</td>\n      <td>1</td>\n    </tr>\n    <tr>\n      <th>2</th>\n      <td>Arkansas</td>\n      <td>19000</td>\n      <td>19500</td>\n      <td>1600</td>\n      <td>8</td>\n      <td>430</td>\n      <td>310</td>\n      <td>2</td>\n    </tr>\n    <tr>\n      <th>3</th>\n      <td>California</td>\n      <td>700000</td>\n      <td>1300000</td>\n      <td>136000</td>\n      <td>10</td>\n      <td>160000</td>\n      <td>37000</td>\n      <td>3</td>\n    </tr>\n    <tr>\n      <th>4</th>\n      <td>Colorado</td>\n      <td>27000</td>\n      <td>27000</td>\n      <td>8000</td>\n      <td>30</td>\n      <td>1100</td>\n      <td>440</td>\n      <td>2</td>\n    </tr>\n    <tr>\n      <th>5</th>\n      <td>Connecticut</td>\n      <td>3800</td>\n      <td>4000</td>\n      <td>300</td>\n      <td>8</td>\n      <td>10</td>\n      <td>50</td>\n      <td>1</td>\n    </tr>\n    <tr>\n      <th>6</th>\n      <td>Florida</td>\n      <td>270000</td>\n      <td>300000</td>\n      <td>30000</td>\n      <td>10</td>\n      <td>28000</td>\n      <td>15000</td>\n      <td>5</td>\n    </tr>\n    <tr>\n      <th>7</th>\n      <td>Georgia</td>\n      <td>119000</td>\n      <td>131000</td>\n      <td>20000</td>\n      <td>15</td>\n      <td>10500</td>\n      <td>10500</td>\n      <td>8</td>\n    </tr>\n    <tr>\n      <th>8</th>\n      <td>Hawaii</td>\n      <td>17000</td>\n      <td>17000</td>\n      <td>1300</td>\n      <td>8</td>\n      <td>300</td>\n      <td>50</td>\n      <td>0</td>\n    </tr>\n    <tr>\n      <th>9</th>\n      <td>Idaho</td>\n      <td>111000</td>\n      <td>196000</td>\n      <td>15500</td>\n      <td>8</td>\n      <td>1800</td>\n      <td>1000</td>\n      <td>1</td>\n    </tr>\n    <tr>\n      <th>10</th>\n      <td>Illinois</td>\n      <td>13000</td>\n      <td>13000</td>\n      <td>1700</td>\n      <td>13</td>\n      <td>1000</td>\n      <td>1500</td>\n      <td>12</td>\n    </tr>\n    <tr>\n      <th>11</th>\n      <td>Indiana</td>\n      <td>17500</td>\n      <td>17500</td>\n      <td>1300</td>\n      <td>7</td>\n      <td>160</td>\n      <td>180</td>\n      <td>1</td>\n    </tr>\n    <tr>\n      <th>12</th>\n      <td>Iowa</td>\n      <td>32000</td>\n      <td>32000</td>\n      <td>7500</td>\n      <td>23</td>\n      <td>1500</td>\n      <td>530</td>\n      <td>2</td>\n    </tr>\n    <tr>\n      <th>13</th>\n      <td>Kansas</td>\n      <td>4800</td>\n      <td>4900</td>\n      <td>650</td>\n      <td>13</td>\n      <td>190</td>\n      <td>460</td>\n      <td>9</td>\n    </tr>\n    <tr>\n      <th>14</th>\n      <td>Kentucky</td>\n      <td>8500</td>\n      <td>8500</td>\n      <td>410</td>\n      <td>5</td>\n      <td>190</td>\n      <td>170</td>\n      <td>2</td>\n    </tr>\n    <tr>\n      <th>15</th>\n      <td>Louisiana</td>\n      <td>41000</td>\n      <td>46000</td>\n      <td>2300</td>\n      <td>5</td>\n      <td>70</td>\n      <td>80</td>\n      <td>0</td>\n    </tr>\n    <tr>\n      <th>16</th>\n      <td>Maine</td>\n      <td>11500</td>\n      <td>11500</td>\n      <td>770</td>\n      <td>7</td>\n      <td>110</td>\n      <td>40</td>\n      <td>0</td>\n    </tr>\n    <tr>\n      <th>17</th>\n      <td>Maryland</td>\n      <td>6500</td>\n      <td>8000</td>\n      <td>1100</td>\n      <td>14</td>\n      <td>390</td>\n      <td>420</td>\n      <td>5</td>\n    </tr>\n    <tr>\n      <th>18</th>\n      <td>Massachusetts</td>\n      <td>5000</td>\n      <td>5000</td>\n      <td>1200</td>\n      <td>24</td>\n      <td>60</td>\n      <td>130</td>\n      <td>3</td>\n    </tr>\n    <tr>\n      <th>19</th>\n      <td>Michigan</td>\n      <td>84000</td>\n      <td>84000</td>\n      <td>6500</td>\n      <td>8</td>\n      <td>820</td>\n      <td>1500</td>\n      <td>2</td>\n    </tr>\n    <tr>\n      <th>20</th>\n      <td>Minnesota</td>\n      <td>97000</td>\n      <td>97000</td>\n      <td>15500</td>\n      <td>16</td>\n      <td>3400</td>\n      <td>60</td>\n      <td>0</td>\n    </tr>\n    <tr>\n      <th>21</th>\n      <td>Mississippi</td>\n      <td>21000</td>\n      <td>29000</td>\n      <td>3400</td>\n      <td>12</td>\n      <td>350</td>\n      <td>50</td>\n      <td>0</td>\n    </tr>\n    <tr>\n      <th>22</th>\n      <td>Missouri</td>\n      <td>9000</td>\n      <td>10000</td>\n      <td>1500</td>\n      <td>15</td>\n      <td>260</td>\n      <td>10</td>\n      <td>0</td>\n    </tr>\n    <tr>\n      <th>23</th>\n      <td>Montana</td>\n      <td>71000</td>\n      <td>79000</td>\n      <td>7000</td>\n      <td>9</td>\n      <td>770</td>\n      <td>4000</td>\n      <td>5</td>\n    </tr>\n    <tr>\n      <th>24</th>\n      <td>Nebraska</td>\n      <td>37000</td>\n      <td>38000</td>\n      <td>2700</td>\n      <td>7</td>\n      <td>320</td>\n      <td>10</td>\n      <td>0</td>\n    </tr>\n    <tr>\n      <th>25</th>\n      <td>New Jersey</td>\n      <td>15500</td>\n      <td>15500</td>\n      <td>220</td>\n      <td>1</td>\n      <td>60</td>\n      <td>80</td>\n      <td>1</td>\n    </tr>\n    <tr>\n      <th>26</th>\n      <td>New Mexico</td>\n      <td>6000</td>\n      <td>6000</td>\n      <td>70</td>\n      <td>1</td>\n      <td>30</td>\n      <td>10</td>\n      <td>0</td>\n    </tr>\n    <tr>\n      <th>27</th>\n      <td>New York</td>\n      <td>65000</td>\n      <td>65000</td>\n      <td>10000</td>\n      <td>15</td>\n      <td>630</td>\n      <td>510</td>\n      <td>1</td>\n    </tr>\n    <tr>\n      <th>28</th>\n      <td>North Carolina</td>\n      <td>17500</td>\n      <td>18000</td>\n      <td>3200</td>\n      <td>18</td>\n      <td>240</td>\n      <td>770</td>\n      <td>4</td>\n    </tr>\n    <tr>\n      <th>29</th>\n      <td>North Dakota</td>\n      <td>420000</td>\n      <td>420000</td>\n      <td>27000</td>\n      <td>6</td>\n      <td>3000</td>\n      <td>4300</td>\n      <td>1</td>\n    </tr>\n    <tr>\n      <th>30</th>\n      <td>Ohio</td>\n      <td>19000</td>\n      <td>19000</td>\n      <td>2700</td>\n      <td>14</td>\n      <td>800</td>\n      <td>390</td>\n      <td>2</td>\n    </tr>\n    <tr>\n      <th>31</th>\n      <td>Oklahoma</td>\n      <td>6500</td>\n      <td>37000</td>\n      <td>2500</td>\n      <td>7</td>\n      <td>460</td>\n      <td>None</td>\n      <td>None</td>\n    </tr>\n    <tr>\n      <th>32</th>\n      <td>Oregon</td>\n      <td>115000</td>\n      <td>130000</td>\n      <td>15000</td>\n      <td>12</td>\n      <td>650</td>\n      <td>2000</td>\n      <td>2</td>\n    </tr>\n    <tr>\n      <th>33</th>\n      <td>Pennsylvania</td>\n      <td>21000</td>\n      <td>21000</td>\n      <td>3800</td>\n      <td>18</td>\n      <td>1600</td>\n      <td>1100</td>\n      <td>5</td>\n    </tr>\n    <tr>\n      <th>34</th>\n      <td>South Carolina</td>\n      <td>12500</td>\n      <td>13500</td>\n      <td>1900</td>\n      <td>14</td>\n      <td>1400</td>\n      <td>430</td>\n      <td>3</td>\n    </tr>\n    <tr>\n      <th>35</th>\n      <td>South Dakota</td>\n      <td>189000</td>\n      <td>189000</td>\n      <td>7500</td>\n      <td>4</td>\n      <td>None</td>\n      <td>40</td>\n      <td>0</td>\n    </tr>\n    <tr>\n      <th>36</th>\n      <td>Tennessee</td>\n      <td>11000</td>\n      <td>11000</td>\n      <td>1300</td>\n      <td>12</td>\n      <td>20</td>\n      <td>70</td>\n      <td>1</td>\n    </tr>\n    <tr>\n      <th>37</th>\n      <td>Texas</td>\n      <td>129000</td>\n      <td>240000</td>\n      <td>17500</td>\n      <td>7</td>\n      <td>8000</td>\n      <td>1700</td>\n      <td>1</td>\n    </tr>\n    <tr>\n      <th>38</th>\n      <td>Utah</td>\n      <td>30000</td>\n      <td>32000</td>\n      <td>4400</td>\n      <td>14</td>\n      <td>970</td>\n      <td>90</td>\n      <td>0</td>\n    </tr>\n    <tr>\n      <th>39</th>\n      <td>Vermont</td>\n      <td>7000</td>\n      <td>7000</td>\n      <td>190</td>\n      <td>3</td>\n      <td>100</td>\n      <td>270</td>\n      <td>4</td>\n    </tr>\n    <tr>\n      <th>40</th>\n      <td>Virginia</td>\n      <td>8000</td>\n      <td>8000</td>\n      <td>1200</td>\n      <td>15</td>\n      <td>10</td>\n      <td>190</td>\n      <td>2</td>\n    </tr>\n    <tr>\n      <th>41</th>\n      <td>Washington</td>\n      <td>89000</td>\n      <td>93000</td>\n      <td>12500</td>\n      <td>13</td>\n      <td>810</td>\n      <td>100</td>\n      <td>0</td>\n    </tr>\n    <tr>\n      <th>42</th>\n      <td>West Virginia</td>\n      <td>7500</td>\n      <td>8000</td>\n      <td>1500</td>\n      <td>19</td>\n      <td>30</td>\n      <td>1600</td>\n      <td>20</td>\n    </tr>\n    <tr>\n      <th>43</th>\n      <td>Wisconsin</td>\n      <td>46000</td>\n      <td>46000</td>\n      <td>8500</td>\n      <td>18</td>\n      <td>1800</td>\n      <td>3000</td>\n      <td>7</td>\n    </tr>\n    <tr>\n      <th>44</th>\n      <td>Wyoming</td>\n      <td>27000</td>\n      <td>28000</td>\n      <td>3300</td>\n      <td>12</td>\n      <td>100</td>\n      <td>490</td>\n      <td>2</td>\n    </tr>\n    <tr>\n      <th>45</th>\n      <td>Other States</td>\n      <td>11010</td>\n      <td>11510</td>\n      <td>1340</td>\n      <td>12</td>\n      <td>280</td>\n      <td>None</td>\n      <td>None</td>\n    </tr>\n    <tr>\n      <th>46</th>\n      <td>United States</td>\n      <td>3018110</td>\n      <td>None</td>\n      <td>399510</td>\n      <td>13</td>\n      <td>233260</td>\n      <td>91000</td>\n      <td>3</td>\n    </tr>\n  </tbody>\n</table>\n</div>"
     },
     "metadata": {},
     "execution_count": 11
    }
   ],
   "source": [
    "## Reset the index\n",
    "hbcny_h_19q4 = hbcny_h_19q4.reset_index(drop = True)\n",
    "hbcny_h_19q4"
   ]
  },
  {
   "cell_type": "code",
   "execution_count": 12,
   "metadata": {},
   "outputs": [],
   "source": [
    "hbcny_h_19q4.to_csv(\"hbcny_+-_2019_q4.csv\", index=False)"
   ]
  }
 ]
}