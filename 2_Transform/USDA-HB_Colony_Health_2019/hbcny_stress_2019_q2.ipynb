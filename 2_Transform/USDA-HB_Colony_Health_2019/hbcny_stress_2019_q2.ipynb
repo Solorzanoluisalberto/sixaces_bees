{
 "metadata": {
  "language_info": {
   "codemirror_mode": {
    "name": "ipython",
    "version": 3
   },
   "file_extension": ".py",
   "mimetype": "text/x-python",
   "name": "python",
   "nbconvert_exporter": "python",
   "pygments_lexer": "ipython3",
   "version": "3.8.5"
  },
  "orig_nbformat": 2,
  "kernelspec": {
   "name": "python385jvsc74a57bd06e67b620515b60b5e0a41f61aaaaaa0b5713da87d04dedede882ceace4acc361",
   "display_name": "Python 3.8.5 64-bit ('Daniel Ramirez': virtualenv)"
  }
 },
 "nbformat": 4,
 "nbformat_minor": 2,
 "cells": [
  {
   "cell_type": "code",
   "execution_count": 13,
   "metadata": {},
   "outputs": [],
   "source": [
    "## Dependencies and setup\n",
    "import pandas as pd"
   ]
  },
  {
   "cell_type": "code",
   "execution_count": 14,
   "metadata": {},
   "outputs": [],
   "source": [
    "## Load data files\n",
    "hbcny_s_19q2 = \"../../1_Extract/USDA-HB_Colony_Health_2019_and_2020/hbcny_stress_2019_q2_t013.csv\""
   ]
  },
  {
   "cell_type": "code",
   "execution_count": 15,
   "metadata": {},
   "outputs": [
    {
     "output_type": "execute_result",
     "data": {
      "text/plain": [
       "   13  h Unnamed: 2     Varroa       Other pests   Unnamed: 5  Unnamed: 6  \\\n",
       "0  13  h      State      mites  and parasites 1/  Diseases 2/  Pesticides   \n",
       "1  13  h        NaN        NaN               NaN          NaN         NaN   \n",
       "2  13  u        NaN  (percent)         (percent)    (percent)   (percent)   \n",
       "3  13  d    Alabama       (NA)              (NA)         (NA)        (NA)   \n",
       "4  13  d    Arizona       (NA)              (NA)         (NA)        (NA)   \n",
       "\n",
       "  Unnamed: 7 Unnamed: 8  \n",
       "0   Other 3/    Unknown  \n",
       "1        NaN        NaN  \n",
       "2  (percent)  (percent)  \n",
       "3       (NA)       (NA)  \n",
       "4       (NA)       (NA)  "
      ],
      "text/html": "<div>\n<style scoped>\n    .dataframe tbody tr th:only-of-type {\n        vertical-align: middle;\n    }\n\n    .dataframe tbody tr th {\n        vertical-align: top;\n    }\n\n    .dataframe thead th {\n        text-align: right;\n    }\n</style>\n<table border=\"1\" class=\"dataframe\">\n  <thead>\n    <tr style=\"text-align: right;\">\n      <th></th>\n      <th>13</th>\n      <th>h</th>\n      <th>Unnamed: 2</th>\n      <th>Varroa</th>\n      <th>Other pests</th>\n      <th>Unnamed: 5</th>\n      <th>Unnamed: 6</th>\n      <th>Unnamed: 7</th>\n      <th>Unnamed: 8</th>\n    </tr>\n  </thead>\n  <tbody>\n    <tr>\n      <th>0</th>\n      <td>13</td>\n      <td>h</td>\n      <td>State</td>\n      <td>mites</td>\n      <td>and parasites 1/</td>\n      <td>Diseases 2/</td>\n      <td>Pesticides</td>\n      <td>Other 3/</td>\n      <td>Unknown</td>\n    </tr>\n    <tr>\n      <th>1</th>\n      <td>13</td>\n      <td>h</td>\n      <td>NaN</td>\n      <td>NaN</td>\n      <td>NaN</td>\n      <td>NaN</td>\n      <td>NaN</td>\n      <td>NaN</td>\n      <td>NaN</td>\n    </tr>\n    <tr>\n      <th>2</th>\n      <td>13</td>\n      <td>u</td>\n      <td>NaN</td>\n      <td>(percent)</td>\n      <td>(percent)</td>\n      <td>(percent)</td>\n      <td>(percent)</td>\n      <td>(percent)</td>\n      <td>(percent)</td>\n    </tr>\n    <tr>\n      <th>3</th>\n      <td>13</td>\n      <td>d</td>\n      <td>Alabama</td>\n      <td>(NA)</td>\n      <td>(NA)</td>\n      <td>(NA)</td>\n      <td>(NA)</td>\n      <td>(NA)</td>\n      <td>(NA)</td>\n    </tr>\n    <tr>\n      <th>4</th>\n      <td>13</td>\n      <td>d</td>\n      <td>Arizona</td>\n      <td>(NA)</td>\n      <td>(NA)</td>\n      <td>(NA)</td>\n      <td>(NA)</td>\n      <td>(NA)</td>\n      <td>(NA)</td>\n    </tr>\n  </tbody>\n</table>\n</div>"
     },
     "metadata": {},
     "execution_count": 15
    }
   ],
   "source": [
    "## Read data and store into df\n",
    "## Drop the first 4 rows which hold info text\n",
    "hbcny_s_19q2 = pd.read_csv(hbcny_s_19q2, skiprows=4)\n",
    "hbcny_s_19q2.head()"
   ]
  },
  {
   "cell_type": "code",
   "execution_count": 16,
   "metadata": {},
   "outputs": [
    {
     "output_type": "execute_result",
     "data": {
      "text/plain": [
       "    13  h                                         Unnamed: 2     Varroa  \\\n",
       "0   13  h                                              State      mites   \n",
       "1   13  h                                                NaN        NaN   \n",
       "2   13  u                                                NaN  (percent)   \n",
       "3   13  d                                            Alabama       (NA)   \n",
       "4   13  d                                            Arizona       (NA)   \n",
       "..  .. ..                                                ...        ...   \n",
       "58  13  f  1/ Tracheal mites, nosema, hive beetle, wax mo...        NaN   \n",
       "59  13  f  2/ Includes American and European foulbrood, c...        NaN   \n",
       "60  13  f  3/ Includes weather, starvation, insufficient ...        NaN   \n",
       "61  13  f  4/ Includes data for States not published in t...        NaN   \n",
       "62  13  f  5/ Data collection for July 2019 quarterly hon...        NaN   \n",
       "\n",
       "         Other pests   Unnamed: 5  Unnamed: 6 Unnamed: 7 Unnamed: 8  \n",
       "0   and parasites 1/  Diseases 2/  Pesticides   Other 3/    Unknown  \n",
       "1                NaN          NaN         NaN        NaN        NaN  \n",
       "2          (percent)    (percent)   (percent)  (percent)  (percent)  \n",
       "3               (NA)         (NA)        (NA)       (NA)       (NA)  \n",
       "4               (NA)         (NA)        (NA)       (NA)       (NA)  \n",
       "..               ...          ...         ...        ...        ...  \n",
       "58               NaN          NaN         NaN        NaN        NaN  \n",
       "59               NaN          NaN         NaN        NaN        NaN  \n",
       "60               NaN          NaN         NaN        NaN        NaN  \n",
       "61               NaN          NaN         NaN        NaN        NaN  \n",
       "62               NaN          NaN         NaN        NaN        NaN  \n",
       "\n",
       "[63 rows x 9 columns]"
      ],
      "text/html": "<div>\n<style scoped>\n    .dataframe tbody tr th:only-of-type {\n        vertical-align: middle;\n    }\n\n    .dataframe tbody tr th {\n        vertical-align: top;\n    }\n\n    .dataframe thead th {\n        text-align: right;\n    }\n</style>\n<table border=\"1\" class=\"dataframe\">\n  <thead>\n    <tr style=\"text-align: right;\">\n      <th></th>\n      <th>13</th>\n      <th>h</th>\n      <th>Unnamed: 2</th>\n      <th>Varroa</th>\n      <th>Other pests</th>\n      <th>Unnamed: 5</th>\n      <th>Unnamed: 6</th>\n      <th>Unnamed: 7</th>\n      <th>Unnamed: 8</th>\n    </tr>\n  </thead>\n  <tbody>\n    <tr>\n      <th>0</th>\n      <td>13</td>\n      <td>h</td>\n      <td>State</td>\n      <td>mites</td>\n      <td>and parasites 1/</td>\n      <td>Diseases 2/</td>\n      <td>Pesticides</td>\n      <td>Other 3/</td>\n      <td>Unknown</td>\n    </tr>\n    <tr>\n      <th>1</th>\n      <td>13</td>\n      <td>h</td>\n      <td>NaN</td>\n      <td>NaN</td>\n      <td>NaN</td>\n      <td>NaN</td>\n      <td>NaN</td>\n      <td>NaN</td>\n      <td>NaN</td>\n    </tr>\n    <tr>\n      <th>2</th>\n      <td>13</td>\n      <td>u</td>\n      <td>NaN</td>\n      <td>(percent)</td>\n      <td>(percent)</td>\n      <td>(percent)</td>\n      <td>(percent)</td>\n      <td>(percent)</td>\n      <td>(percent)</td>\n    </tr>\n    <tr>\n      <th>3</th>\n      <td>13</td>\n      <td>d</td>\n      <td>Alabama</td>\n      <td>(NA)</td>\n      <td>(NA)</td>\n      <td>(NA)</td>\n      <td>(NA)</td>\n      <td>(NA)</td>\n      <td>(NA)</td>\n    </tr>\n    <tr>\n      <th>4</th>\n      <td>13</td>\n      <td>d</td>\n      <td>Arizona</td>\n      <td>(NA)</td>\n      <td>(NA)</td>\n      <td>(NA)</td>\n      <td>(NA)</td>\n      <td>(NA)</td>\n      <td>(NA)</td>\n    </tr>\n    <tr>\n      <th>...</th>\n      <td>...</td>\n      <td>...</td>\n      <td>...</td>\n      <td>...</td>\n      <td>...</td>\n      <td>...</td>\n      <td>...</td>\n      <td>...</td>\n      <td>...</td>\n    </tr>\n    <tr>\n      <th>58</th>\n      <td>13</td>\n      <td>f</td>\n      <td>1/ Tracheal mites, nosema, hive beetle, wax mo...</td>\n      <td>NaN</td>\n      <td>NaN</td>\n      <td>NaN</td>\n      <td>NaN</td>\n      <td>NaN</td>\n      <td>NaN</td>\n    </tr>\n    <tr>\n      <th>59</th>\n      <td>13</td>\n      <td>f</td>\n      <td>2/ Includes American and European foulbrood, c...</td>\n      <td>NaN</td>\n      <td>NaN</td>\n      <td>NaN</td>\n      <td>NaN</td>\n      <td>NaN</td>\n      <td>NaN</td>\n    </tr>\n    <tr>\n      <th>60</th>\n      <td>13</td>\n      <td>f</td>\n      <td>3/ Includes weather, starvation, insufficient ...</td>\n      <td>NaN</td>\n      <td>NaN</td>\n      <td>NaN</td>\n      <td>NaN</td>\n      <td>NaN</td>\n      <td>NaN</td>\n    </tr>\n    <tr>\n      <th>61</th>\n      <td>13</td>\n      <td>f</td>\n      <td>4/ Includes data for States not published in t...</td>\n      <td>NaN</td>\n      <td>NaN</td>\n      <td>NaN</td>\n      <td>NaN</td>\n      <td>NaN</td>\n      <td>NaN</td>\n    </tr>\n    <tr>\n      <th>62</th>\n      <td>13</td>\n      <td>f</td>\n      <td>5/ Data collection for July 2019 quarterly hon...</td>\n      <td>NaN</td>\n      <td>NaN</td>\n      <td>NaN</td>\n      <td>NaN</td>\n      <td>NaN</td>\n      <td>NaN</td>\n    </tr>\n  </tbody>\n</table>\n<p>63 rows × 9 columns</p>\n</div>"
     },
     "metadata": {},
     "execution_count": 16
    }
   ],
   "source": [
    "hbcny_s_19q2 = pd.DataFrame(hbcny_s_19q2)\n",
    "hbcny_s_19q2"
   ]
  },
  {
   "cell_type": "code",
   "execution_count": 17,
   "metadata": {},
   "outputs": [
    {
     "output_type": "execute_result",
     "data": {
      "text/plain": [
       "  Unnamed: 2     Varroa       Other pests   Unnamed: 5  Unnamed: 6 Unnamed: 7  \\\n",
       "0      State      mites  and parasites 1/  Diseases 2/  Pesticides   Other 3/   \n",
       "1        NaN        NaN               NaN          NaN         NaN        NaN   \n",
       "2        NaN  (percent)         (percent)    (percent)   (percent)  (percent)   \n",
       "3    Alabama       (NA)              (NA)         (NA)        (NA)       (NA)   \n",
       "4    Arizona       (NA)              (NA)         (NA)        (NA)       (NA)   \n",
       "\n",
       "  Unnamed: 8  \n",
       "0    Unknown  \n",
       "1        NaN  \n",
       "2  (percent)  \n",
       "3       (NA)  \n",
       "4       (NA)  "
      ],
      "text/html": "<div>\n<style scoped>\n    .dataframe tbody tr th:only-of-type {\n        vertical-align: middle;\n    }\n\n    .dataframe tbody tr th {\n        vertical-align: top;\n    }\n\n    .dataframe thead th {\n        text-align: right;\n    }\n</style>\n<table border=\"1\" class=\"dataframe\">\n  <thead>\n    <tr style=\"text-align: right;\">\n      <th></th>\n      <th>Unnamed: 2</th>\n      <th>Varroa</th>\n      <th>Other pests</th>\n      <th>Unnamed: 5</th>\n      <th>Unnamed: 6</th>\n      <th>Unnamed: 7</th>\n      <th>Unnamed: 8</th>\n    </tr>\n  </thead>\n  <tbody>\n    <tr>\n      <th>0</th>\n      <td>State</td>\n      <td>mites</td>\n      <td>and parasites 1/</td>\n      <td>Diseases 2/</td>\n      <td>Pesticides</td>\n      <td>Other 3/</td>\n      <td>Unknown</td>\n    </tr>\n    <tr>\n      <th>1</th>\n      <td>NaN</td>\n      <td>NaN</td>\n      <td>NaN</td>\n      <td>NaN</td>\n      <td>NaN</td>\n      <td>NaN</td>\n      <td>NaN</td>\n    </tr>\n    <tr>\n      <th>2</th>\n      <td>NaN</td>\n      <td>(percent)</td>\n      <td>(percent)</td>\n      <td>(percent)</td>\n      <td>(percent)</td>\n      <td>(percent)</td>\n      <td>(percent)</td>\n    </tr>\n    <tr>\n      <th>3</th>\n      <td>Alabama</td>\n      <td>(NA)</td>\n      <td>(NA)</td>\n      <td>(NA)</td>\n      <td>(NA)</td>\n      <td>(NA)</td>\n      <td>(NA)</td>\n    </tr>\n    <tr>\n      <th>4</th>\n      <td>Arizona</td>\n      <td>(NA)</td>\n      <td>(NA)</td>\n      <td>(NA)</td>\n      <td>(NA)</td>\n      <td>(NA)</td>\n      <td>(NA)</td>\n    </tr>\n  </tbody>\n</table>\n</div>"
     },
     "metadata": {},
     "execution_count": 17
    }
   ],
   "source": [
    "## Drop erroneous first 2 columns\n",
    "hbcny_s_19q2.drop(hbcny_s_19q2.iloc[:, [0, 1]], axis = 1, inplace = True)\n",
    "\n",
    "## Drop erroneous last few rows\n",
    "#hbcny_s_19q2.drop(hbcny_s_19q2.index[57:63])\n",
    "hbcny_s_19q2.head()"
   ]
  },
  {
   "cell_type": "code",
   "execution_count": 18,
   "metadata": {},
   "outputs": [
    {
     "output_type": "execute_result",
     "data": {
      "text/plain": [
       "                                                state v_mites other_pest_para  \\\n",
       "3                                             Alabama    (NA)            (NA)   \n",
       "4                                             Arizona    (NA)            (NA)   \n",
       "5                                            Arkansas    (NA)            (NA)   \n",
       "6                                          California    (NA)            (NA)   \n",
       "7                                            Colorado    (NA)            (NA)   \n",
       "8                                         Connecticut    (NA)            (NA)   \n",
       "9                                             Florida    (NA)            (NA)   \n",
       "10                                            Georgia    (NA)            (NA)   \n",
       "11                                             Hawaii    (NA)            (NA)   \n",
       "12                                              Idaho    (NA)            (NA)   \n",
       "13                                                NaN     NaN             NaN   \n",
       "14                                           Illinois    (NA)            (NA)   \n",
       "15                                            Indiana    (NA)            (NA)   \n",
       "16                                               Iowa    (NA)            (NA)   \n",
       "17                                             Kansas    (NA)            (NA)   \n",
       "18                                           Kentucky    (NA)            (NA)   \n",
       "19                                          Louisiana    (NA)            (NA)   \n",
       "20                                              Maine    (NA)            (NA)   \n",
       "21                                           Maryland    (NA)            (NA)   \n",
       "22                                      Massachusetts    (NA)            (NA)   \n",
       "23                                           Michigan    (NA)            (NA)   \n",
       "24                                                NaN     NaN             NaN   \n",
       "25                                          Minnesota    (NA)            (NA)   \n",
       "26                                        Mississippi    (NA)            (NA)   \n",
       "27                                           Missouri    (NA)            (NA)   \n",
       "28                                            Montana    (NA)            (NA)   \n",
       "29                                           Nebraska    (NA)            (NA)   \n",
       "30                                         New Jersey    (NA)            (NA)   \n",
       "31                                         New Mexico    (NA)            (NA)   \n",
       "32                                           New York    (NA)            (NA)   \n",
       "33                                     North Carolina    (NA)            (NA)   \n",
       "34                                       North Dakota    (NA)            (NA)   \n",
       "35                                                NaN     NaN             NaN   \n",
       "36                                               Ohio    (NA)            (NA)   \n",
       "37                                           Oklahoma    (NA)            (NA)   \n",
       "38                                             Oregon    (NA)            (NA)   \n",
       "39                                       Pennsylvania    (NA)            (NA)   \n",
       "40                                     South Carolina    (NA)            (NA)   \n",
       "41                                       South Dakota    (NA)            (NA)   \n",
       "42                                          Tennessee    (NA)            (NA)   \n",
       "43                                              Texas    (NA)            (NA)   \n",
       "44                                               Utah    (NA)            (NA)   \n",
       "45                                            Vermont    (NA)            (NA)   \n",
       "46                                                NaN     NaN             NaN   \n",
       "47                                           Virginia    (NA)            (NA)   \n",
       "48                                         Washington    (NA)            (NA)   \n",
       "49                                      West Virginia    (NA)            (NA)   \n",
       "50                                          Wisconsin    (NA)            (NA)   \n",
       "51                                            Wyoming    (NA)            (NA)   \n",
       "52                                                NaN     NaN             NaN   \n",
       "53                                    Other States 4/    (NA)            (NA)   \n",
       "54                                                NaN     NaN             NaN   \n",
       "55                                      United States    (NA)            (NA)   \n",
       "56                                                NaN     NaN             NaN   \n",
       "57                               (NA)  Not available.     NaN             NaN   \n",
       "58  1/ Tracheal mites, nosema, hive beetle, wax mo...     NaN             NaN   \n",
       "59  2/ Includes American and European foulbrood, c...     NaN             NaN   \n",
       "60  3/ Includes weather, starvation, insufficient ...     NaN             NaN   \n",
       "61  4/ Includes data for States not published in t...     NaN             NaN   \n",
       "62  5/ Data collection for July 2019 quarterly hon...     NaN             NaN   \n",
       "\n",
       "   diseases pesticides other unknown  \n",
       "3      (NA)       (NA)  (NA)    (NA)  \n",
       "4      (NA)       (NA)  (NA)    (NA)  \n",
       "5      (NA)       (NA)  (NA)    (NA)  \n",
       "6      (NA)       (NA)  (NA)    (NA)  \n",
       "7      (NA)       (NA)  (NA)    (NA)  \n",
       "8      (NA)       (NA)  (NA)    (NA)  \n",
       "9      (NA)       (NA)  (NA)    (NA)  \n",
       "10     (NA)       (NA)  (NA)    (NA)  \n",
       "11     (NA)       (NA)  (NA)    (NA)  \n",
       "12     (NA)       (NA)  (NA)    (NA)  \n",
       "13      NaN        NaN   NaN     NaN  \n",
       "14     (NA)       (NA)  (NA)    (NA)  \n",
       "15     (NA)       (NA)  (NA)    (NA)  \n",
       "16     (NA)       (NA)  (NA)    (NA)  \n",
       "17     (NA)       (NA)  (NA)    (NA)  \n",
       "18     (NA)       (NA)  (NA)    (NA)  \n",
       "19     (NA)       (NA)  (NA)    (NA)  \n",
       "20     (NA)       (NA)  (NA)    (NA)  \n",
       "21     (NA)       (NA)  (NA)    (NA)  \n",
       "22     (NA)       (NA)  (NA)    (NA)  \n",
       "23     (NA)       (NA)  (NA)    (NA)  \n",
       "24      NaN        NaN   NaN     NaN  \n",
       "25     (NA)       (NA)  (NA)    (NA)  \n",
       "26     (NA)       (NA)  (NA)    (NA)  \n",
       "27     (NA)       (NA)  (NA)    (NA)  \n",
       "28     (NA)       (NA)  (NA)    (NA)  \n",
       "29     (NA)       (NA)  (NA)    (NA)  \n",
       "30     (NA)       (NA)  (NA)    (NA)  \n",
       "31     (NA)       (NA)  (NA)    (NA)  \n",
       "32     (NA)       (NA)  (NA)    (NA)  \n",
       "33     (NA)       (NA)  (NA)    (NA)  \n",
       "34     (NA)       (NA)  (NA)    (NA)  \n",
       "35      NaN        NaN   NaN     NaN  \n",
       "36     (NA)       (NA)  (NA)    (NA)  \n",
       "37     (NA)       (NA)  (NA)    (NA)  \n",
       "38     (NA)       (NA)  (NA)    (NA)  \n",
       "39     (NA)       (NA)  (NA)    (NA)  \n",
       "40     (NA)       (NA)  (NA)    (NA)  \n",
       "41     (NA)       (NA)  (NA)    (NA)  \n",
       "42     (NA)       (NA)  (NA)    (NA)  \n",
       "43     (NA)       (NA)  (NA)    (NA)  \n",
       "44     (NA)       (NA)  (NA)    (NA)  \n",
       "45     (NA)       (NA)  (NA)    (NA)  \n",
       "46      NaN        NaN   NaN     NaN  \n",
       "47     (NA)       (NA)  (NA)    (NA)  \n",
       "48     (NA)       (NA)  (NA)    (NA)  \n",
       "49     (NA)       (NA)  (NA)    (NA)  \n",
       "50     (NA)       (NA)  (NA)    (NA)  \n",
       "51     (NA)       (NA)  (NA)    (NA)  \n",
       "52      NaN        NaN   NaN     NaN  \n",
       "53     (NA)       (NA)  (NA)    (NA)  \n",
       "54      NaN        NaN   NaN     NaN  \n",
       "55     (NA)       (NA)  (NA)    (NA)  \n",
       "56      NaN        NaN   NaN     NaN  \n",
       "57      NaN        NaN   NaN     NaN  \n",
       "58      NaN        NaN   NaN     NaN  \n",
       "59      NaN        NaN   NaN     NaN  \n",
       "60      NaN        NaN   NaN     NaN  \n",
       "61      NaN        NaN   NaN     NaN  \n",
       "62      NaN        NaN   NaN     NaN  "
      ],
      "text/html": "<div>\n<style scoped>\n    .dataframe tbody tr th:only-of-type {\n        vertical-align: middle;\n    }\n\n    .dataframe tbody tr th {\n        vertical-align: top;\n    }\n\n    .dataframe thead th {\n        text-align: right;\n    }\n</style>\n<table border=\"1\" class=\"dataframe\">\n  <thead>\n    <tr style=\"text-align: right;\">\n      <th></th>\n      <th>state</th>\n      <th>v_mites</th>\n      <th>other_pest_para</th>\n      <th>diseases</th>\n      <th>pesticides</th>\n      <th>other</th>\n      <th>unknown</th>\n    </tr>\n  </thead>\n  <tbody>\n    <tr>\n      <th>3</th>\n      <td>Alabama</td>\n      <td>(NA)</td>\n      <td>(NA)</td>\n      <td>(NA)</td>\n      <td>(NA)</td>\n      <td>(NA)</td>\n      <td>(NA)</td>\n    </tr>\n    <tr>\n      <th>4</th>\n      <td>Arizona</td>\n      <td>(NA)</td>\n      <td>(NA)</td>\n      <td>(NA)</td>\n      <td>(NA)</td>\n      <td>(NA)</td>\n      <td>(NA)</td>\n    </tr>\n    <tr>\n      <th>5</th>\n      <td>Arkansas</td>\n      <td>(NA)</td>\n      <td>(NA)</td>\n      <td>(NA)</td>\n      <td>(NA)</td>\n      <td>(NA)</td>\n      <td>(NA)</td>\n    </tr>\n    <tr>\n      <th>6</th>\n      <td>California</td>\n      <td>(NA)</td>\n      <td>(NA)</td>\n      <td>(NA)</td>\n      <td>(NA)</td>\n      <td>(NA)</td>\n      <td>(NA)</td>\n    </tr>\n    <tr>\n      <th>7</th>\n      <td>Colorado</td>\n      <td>(NA)</td>\n      <td>(NA)</td>\n      <td>(NA)</td>\n      <td>(NA)</td>\n      <td>(NA)</td>\n      <td>(NA)</td>\n    </tr>\n    <tr>\n      <th>8</th>\n      <td>Connecticut</td>\n      <td>(NA)</td>\n      <td>(NA)</td>\n      <td>(NA)</td>\n      <td>(NA)</td>\n      <td>(NA)</td>\n      <td>(NA)</td>\n    </tr>\n    <tr>\n      <th>9</th>\n      <td>Florida</td>\n      <td>(NA)</td>\n      <td>(NA)</td>\n      <td>(NA)</td>\n      <td>(NA)</td>\n      <td>(NA)</td>\n      <td>(NA)</td>\n    </tr>\n    <tr>\n      <th>10</th>\n      <td>Georgia</td>\n      <td>(NA)</td>\n      <td>(NA)</td>\n      <td>(NA)</td>\n      <td>(NA)</td>\n      <td>(NA)</td>\n      <td>(NA)</td>\n    </tr>\n    <tr>\n      <th>11</th>\n      <td>Hawaii</td>\n      <td>(NA)</td>\n      <td>(NA)</td>\n      <td>(NA)</td>\n      <td>(NA)</td>\n      <td>(NA)</td>\n      <td>(NA)</td>\n    </tr>\n    <tr>\n      <th>12</th>\n      <td>Idaho</td>\n      <td>(NA)</td>\n      <td>(NA)</td>\n      <td>(NA)</td>\n      <td>(NA)</td>\n      <td>(NA)</td>\n      <td>(NA)</td>\n    </tr>\n    <tr>\n      <th>13</th>\n      <td>NaN</td>\n      <td>NaN</td>\n      <td>NaN</td>\n      <td>NaN</td>\n      <td>NaN</td>\n      <td>NaN</td>\n      <td>NaN</td>\n    </tr>\n    <tr>\n      <th>14</th>\n      <td>Illinois</td>\n      <td>(NA)</td>\n      <td>(NA)</td>\n      <td>(NA)</td>\n      <td>(NA)</td>\n      <td>(NA)</td>\n      <td>(NA)</td>\n    </tr>\n    <tr>\n      <th>15</th>\n      <td>Indiana</td>\n      <td>(NA)</td>\n      <td>(NA)</td>\n      <td>(NA)</td>\n      <td>(NA)</td>\n      <td>(NA)</td>\n      <td>(NA)</td>\n    </tr>\n    <tr>\n      <th>16</th>\n      <td>Iowa</td>\n      <td>(NA)</td>\n      <td>(NA)</td>\n      <td>(NA)</td>\n      <td>(NA)</td>\n      <td>(NA)</td>\n      <td>(NA)</td>\n    </tr>\n    <tr>\n      <th>17</th>\n      <td>Kansas</td>\n      <td>(NA)</td>\n      <td>(NA)</td>\n      <td>(NA)</td>\n      <td>(NA)</td>\n      <td>(NA)</td>\n      <td>(NA)</td>\n    </tr>\n    <tr>\n      <th>18</th>\n      <td>Kentucky</td>\n      <td>(NA)</td>\n      <td>(NA)</td>\n      <td>(NA)</td>\n      <td>(NA)</td>\n      <td>(NA)</td>\n      <td>(NA)</td>\n    </tr>\n    <tr>\n      <th>19</th>\n      <td>Louisiana</td>\n      <td>(NA)</td>\n      <td>(NA)</td>\n      <td>(NA)</td>\n      <td>(NA)</td>\n      <td>(NA)</td>\n      <td>(NA)</td>\n    </tr>\n    <tr>\n      <th>20</th>\n      <td>Maine</td>\n      <td>(NA)</td>\n      <td>(NA)</td>\n      <td>(NA)</td>\n      <td>(NA)</td>\n      <td>(NA)</td>\n      <td>(NA)</td>\n    </tr>\n    <tr>\n      <th>21</th>\n      <td>Maryland</td>\n      <td>(NA)</td>\n      <td>(NA)</td>\n      <td>(NA)</td>\n      <td>(NA)</td>\n      <td>(NA)</td>\n      <td>(NA)</td>\n    </tr>\n    <tr>\n      <th>22</th>\n      <td>Massachusetts</td>\n      <td>(NA)</td>\n      <td>(NA)</td>\n      <td>(NA)</td>\n      <td>(NA)</td>\n      <td>(NA)</td>\n      <td>(NA)</td>\n    </tr>\n    <tr>\n      <th>23</th>\n      <td>Michigan</td>\n      <td>(NA)</td>\n      <td>(NA)</td>\n      <td>(NA)</td>\n      <td>(NA)</td>\n      <td>(NA)</td>\n      <td>(NA)</td>\n    </tr>\n    <tr>\n      <th>24</th>\n      <td>NaN</td>\n      <td>NaN</td>\n      <td>NaN</td>\n      <td>NaN</td>\n      <td>NaN</td>\n      <td>NaN</td>\n      <td>NaN</td>\n    </tr>\n    <tr>\n      <th>25</th>\n      <td>Minnesota</td>\n      <td>(NA)</td>\n      <td>(NA)</td>\n      <td>(NA)</td>\n      <td>(NA)</td>\n      <td>(NA)</td>\n      <td>(NA)</td>\n    </tr>\n    <tr>\n      <th>26</th>\n      <td>Mississippi</td>\n      <td>(NA)</td>\n      <td>(NA)</td>\n      <td>(NA)</td>\n      <td>(NA)</td>\n      <td>(NA)</td>\n      <td>(NA)</td>\n    </tr>\n    <tr>\n      <th>27</th>\n      <td>Missouri</td>\n      <td>(NA)</td>\n      <td>(NA)</td>\n      <td>(NA)</td>\n      <td>(NA)</td>\n      <td>(NA)</td>\n      <td>(NA)</td>\n    </tr>\n    <tr>\n      <th>28</th>\n      <td>Montana</td>\n      <td>(NA)</td>\n      <td>(NA)</td>\n      <td>(NA)</td>\n      <td>(NA)</td>\n      <td>(NA)</td>\n      <td>(NA)</td>\n    </tr>\n    <tr>\n      <th>29</th>\n      <td>Nebraska</td>\n      <td>(NA)</td>\n      <td>(NA)</td>\n      <td>(NA)</td>\n      <td>(NA)</td>\n      <td>(NA)</td>\n      <td>(NA)</td>\n    </tr>\n    <tr>\n      <th>30</th>\n      <td>New Jersey</td>\n      <td>(NA)</td>\n      <td>(NA)</td>\n      <td>(NA)</td>\n      <td>(NA)</td>\n      <td>(NA)</td>\n      <td>(NA)</td>\n    </tr>\n    <tr>\n      <th>31</th>\n      <td>New Mexico</td>\n      <td>(NA)</td>\n      <td>(NA)</td>\n      <td>(NA)</td>\n      <td>(NA)</td>\n      <td>(NA)</td>\n      <td>(NA)</td>\n    </tr>\n    <tr>\n      <th>32</th>\n      <td>New York</td>\n      <td>(NA)</td>\n      <td>(NA)</td>\n      <td>(NA)</td>\n      <td>(NA)</td>\n      <td>(NA)</td>\n      <td>(NA)</td>\n    </tr>\n    <tr>\n      <th>33</th>\n      <td>North Carolina</td>\n      <td>(NA)</td>\n      <td>(NA)</td>\n      <td>(NA)</td>\n      <td>(NA)</td>\n      <td>(NA)</td>\n      <td>(NA)</td>\n    </tr>\n    <tr>\n      <th>34</th>\n      <td>North Dakota</td>\n      <td>(NA)</td>\n      <td>(NA)</td>\n      <td>(NA)</td>\n      <td>(NA)</td>\n      <td>(NA)</td>\n      <td>(NA)</td>\n    </tr>\n    <tr>\n      <th>35</th>\n      <td>NaN</td>\n      <td>NaN</td>\n      <td>NaN</td>\n      <td>NaN</td>\n      <td>NaN</td>\n      <td>NaN</td>\n      <td>NaN</td>\n    </tr>\n    <tr>\n      <th>36</th>\n      <td>Ohio</td>\n      <td>(NA)</td>\n      <td>(NA)</td>\n      <td>(NA)</td>\n      <td>(NA)</td>\n      <td>(NA)</td>\n      <td>(NA)</td>\n    </tr>\n    <tr>\n      <th>37</th>\n      <td>Oklahoma</td>\n      <td>(NA)</td>\n      <td>(NA)</td>\n      <td>(NA)</td>\n      <td>(NA)</td>\n      <td>(NA)</td>\n      <td>(NA)</td>\n    </tr>\n    <tr>\n      <th>38</th>\n      <td>Oregon</td>\n      <td>(NA)</td>\n      <td>(NA)</td>\n      <td>(NA)</td>\n      <td>(NA)</td>\n      <td>(NA)</td>\n      <td>(NA)</td>\n    </tr>\n    <tr>\n      <th>39</th>\n      <td>Pennsylvania</td>\n      <td>(NA)</td>\n      <td>(NA)</td>\n      <td>(NA)</td>\n      <td>(NA)</td>\n      <td>(NA)</td>\n      <td>(NA)</td>\n    </tr>\n    <tr>\n      <th>40</th>\n      <td>South Carolina</td>\n      <td>(NA)</td>\n      <td>(NA)</td>\n      <td>(NA)</td>\n      <td>(NA)</td>\n      <td>(NA)</td>\n      <td>(NA)</td>\n    </tr>\n    <tr>\n      <th>41</th>\n      <td>South Dakota</td>\n      <td>(NA)</td>\n      <td>(NA)</td>\n      <td>(NA)</td>\n      <td>(NA)</td>\n      <td>(NA)</td>\n      <td>(NA)</td>\n    </tr>\n    <tr>\n      <th>42</th>\n      <td>Tennessee</td>\n      <td>(NA)</td>\n      <td>(NA)</td>\n      <td>(NA)</td>\n      <td>(NA)</td>\n      <td>(NA)</td>\n      <td>(NA)</td>\n    </tr>\n    <tr>\n      <th>43</th>\n      <td>Texas</td>\n      <td>(NA)</td>\n      <td>(NA)</td>\n      <td>(NA)</td>\n      <td>(NA)</td>\n      <td>(NA)</td>\n      <td>(NA)</td>\n    </tr>\n    <tr>\n      <th>44</th>\n      <td>Utah</td>\n      <td>(NA)</td>\n      <td>(NA)</td>\n      <td>(NA)</td>\n      <td>(NA)</td>\n      <td>(NA)</td>\n      <td>(NA)</td>\n    </tr>\n    <tr>\n      <th>45</th>\n      <td>Vermont</td>\n      <td>(NA)</td>\n      <td>(NA)</td>\n      <td>(NA)</td>\n      <td>(NA)</td>\n      <td>(NA)</td>\n      <td>(NA)</td>\n    </tr>\n    <tr>\n      <th>46</th>\n      <td>NaN</td>\n      <td>NaN</td>\n      <td>NaN</td>\n      <td>NaN</td>\n      <td>NaN</td>\n      <td>NaN</td>\n      <td>NaN</td>\n    </tr>\n    <tr>\n      <th>47</th>\n      <td>Virginia</td>\n      <td>(NA)</td>\n      <td>(NA)</td>\n      <td>(NA)</td>\n      <td>(NA)</td>\n      <td>(NA)</td>\n      <td>(NA)</td>\n    </tr>\n    <tr>\n      <th>48</th>\n      <td>Washington</td>\n      <td>(NA)</td>\n      <td>(NA)</td>\n      <td>(NA)</td>\n      <td>(NA)</td>\n      <td>(NA)</td>\n      <td>(NA)</td>\n    </tr>\n    <tr>\n      <th>49</th>\n      <td>West Virginia</td>\n      <td>(NA)</td>\n      <td>(NA)</td>\n      <td>(NA)</td>\n      <td>(NA)</td>\n      <td>(NA)</td>\n      <td>(NA)</td>\n    </tr>\n    <tr>\n      <th>50</th>\n      <td>Wisconsin</td>\n      <td>(NA)</td>\n      <td>(NA)</td>\n      <td>(NA)</td>\n      <td>(NA)</td>\n      <td>(NA)</td>\n      <td>(NA)</td>\n    </tr>\n    <tr>\n      <th>51</th>\n      <td>Wyoming</td>\n      <td>(NA)</td>\n      <td>(NA)</td>\n      <td>(NA)</td>\n      <td>(NA)</td>\n      <td>(NA)</td>\n      <td>(NA)</td>\n    </tr>\n    <tr>\n      <th>52</th>\n      <td>NaN</td>\n      <td>NaN</td>\n      <td>NaN</td>\n      <td>NaN</td>\n      <td>NaN</td>\n      <td>NaN</td>\n      <td>NaN</td>\n    </tr>\n    <tr>\n      <th>53</th>\n      <td>Other States 4/</td>\n      <td>(NA)</td>\n      <td>(NA)</td>\n      <td>(NA)</td>\n      <td>(NA)</td>\n      <td>(NA)</td>\n      <td>(NA)</td>\n    </tr>\n    <tr>\n      <th>54</th>\n      <td>NaN</td>\n      <td>NaN</td>\n      <td>NaN</td>\n      <td>NaN</td>\n      <td>NaN</td>\n      <td>NaN</td>\n      <td>NaN</td>\n    </tr>\n    <tr>\n      <th>55</th>\n      <td>United States</td>\n      <td>(NA)</td>\n      <td>(NA)</td>\n      <td>(NA)</td>\n      <td>(NA)</td>\n      <td>(NA)</td>\n      <td>(NA)</td>\n    </tr>\n    <tr>\n      <th>56</th>\n      <td>NaN</td>\n      <td>NaN</td>\n      <td>NaN</td>\n      <td>NaN</td>\n      <td>NaN</td>\n      <td>NaN</td>\n      <td>NaN</td>\n    </tr>\n    <tr>\n      <th>57</th>\n      <td>(NA)  Not available.</td>\n      <td>NaN</td>\n      <td>NaN</td>\n      <td>NaN</td>\n      <td>NaN</td>\n      <td>NaN</td>\n      <td>NaN</td>\n    </tr>\n    <tr>\n      <th>58</th>\n      <td>1/ Tracheal mites, nosema, hive beetle, wax mo...</td>\n      <td>NaN</td>\n      <td>NaN</td>\n      <td>NaN</td>\n      <td>NaN</td>\n      <td>NaN</td>\n      <td>NaN</td>\n    </tr>\n    <tr>\n      <th>59</th>\n      <td>2/ Includes American and European foulbrood, c...</td>\n      <td>NaN</td>\n      <td>NaN</td>\n      <td>NaN</td>\n      <td>NaN</td>\n      <td>NaN</td>\n      <td>NaN</td>\n    </tr>\n    <tr>\n      <th>60</th>\n      <td>3/ Includes weather, starvation, insufficient ...</td>\n      <td>NaN</td>\n      <td>NaN</td>\n      <td>NaN</td>\n      <td>NaN</td>\n      <td>NaN</td>\n      <td>NaN</td>\n    </tr>\n    <tr>\n      <th>61</th>\n      <td>4/ Includes data for States not published in t...</td>\n      <td>NaN</td>\n      <td>NaN</td>\n      <td>NaN</td>\n      <td>NaN</td>\n      <td>NaN</td>\n      <td>NaN</td>\n    </tr>\n    <tr>\n      <th>62</th>\n      <td>5/ Data collection for July 2019 quarterly hon...</td>\n      <td>NaN</td>\n      <td>NaN</td>\n      <td>NaN</td>\n      <td>NaN</td>\n      <td>NaN</td>\n      <td>NaN</td>\n    </tr>\n  </tbody>\n</table>\n</div>"
     },
     "metadata": {},
     "execution_count": 18
    }
   ],
   "source": [
    "## Rename column with Row [0] text and then drop Rows [0-3]\n",
    "\n",
    "hbcny_s_19q2 = hbcny_s_19q2.rename(columns={\n",
    "    \"Unnamed: 2\": \"state\",\n",
    "    \"Varroa\": \"v_mites\",\n",
    "    \"Other pests\": \"other_pest_para\",\n",
    "    \"Unnamed: 5\": \"diseases\",\n",
    "    \"Unnamed: 6\": \"pesticides\",\n",
    "    \"Unnamed: 7\": \"other\",\n",
    "    \"Unnamed: 8\": \"unknown\"})\n",
    "\n",
    "hbcny_s_19q2 = hbcny_s_19q2.drop(range(3))\n",
    "\n",
    "hbcny_s_19q2"
   ]
  },
  {
   "cell_type": "code",
   "execution_count": 19,
   "metadata": {},
   "outputs": [
    {
     "output_type": "execute_result",
     "data": {
      "text/plain": [
       "              state v_mites other_pest_para diseases pesticides other unknown\n",
       "49    West Virginia    (NA)            (NA)     (NA)       (NA)  (NA)    (NA)\n",
       "50        Wisconsin    (NA)            (NA)     (NA)       (NA)  (NA)    (NA)\n",
       "51          Wyoming    (NA)            (NA)     (NA)       (NA)  (NA)    (NA)\n",
       "53  Other States 4/    (NA)            (NA)     (NA)       (NA)  (NA)    (NA)\n",
       "55    United States    (NA)            (NA)     (NA)       (NA)  (NA)    (NA)"
      ],
      "text/html": "<div>\n<style scoped>\n    .dataframe tbody tr th:only-of-type {\n        vertical-align: middle;\n    }\n\n    .dataframe tbody tr th {\n        vertical-align: top;\n    }\n\n    .dataframe thead th {\n        text-align: right;\n    }\n</style>\n<table border=\"1\" class=\"dataframe\">\n  <thead>\n    <tr style=\"text-align: right;\">\n      <th></th>\n      <th>state</th>\n      <th>v_mites</th>\n      <th>other_pest_para</th>\n      <th>diseases</th>\n      <th>pesticides</th>\n      <th>other</th>\n      <th>unknown</th>\n    </tr>\n  </thead>\n  <tbody>\n    <tr>\n      <th>49</th>\n      <td>West Virginia</td>\n      <td>(NA)</td>\n      <td>(NA)</td>\n      <td>(NA)</td>\n      <td>(NA)</td>\n      <td>(NA)</td>\n      <td>(NA)</td>\n    </tr>\n    <tr>\n      <th>50</th>\n      <td>Wisconsin</td>\n      <td>(NA)</td>\n      <td>(NA)</td>\n      <td>(NA)</td>\n      <td>(NA)</td>\n      <td>(NA)</td>\n      <td>(NA)</td>\n    </tr>\n    <tr>\n      <th>51</th>\n      <td>Wyoming</td>\n      <td>(NA)</td>\n      <td>(NA)</td>\n      <td>(NA)</td>\n      <td>(NA)</td>\n      <td>(NA)</td>\n      <td>(NA)</td>\n    </tr>\n    <tr>\n      <th>53</th>\n      <td>Other States 4/</td>\n      <td>(NA)</td>\n      <td>(NA)</td>\n      <td>(NA)</td>\n      <td>(NA)</td>\n      <td>(NA)</td>\n      <td>(NA)</td>\n    </tr>\n    <tr>\n      <th>55</th>\n      <td>United States</td>\n      <td>(NA)</td>\n      <td>(NA)</td>\n      <td>(NA)</td>\n      <td>(NA)</td>\n      <td>(NA)</td>\n      <td>(NA)</td>\n    </tr>\n  </tbody>\n</table>\n</div>"
     },
     "metadata": {},
     "execution_count": 19
    }
   ],
   "source": [
    "## Drop blank rows\n",
    "hbcny_s_19q2 = hbcny_s_19q2.dropna()\n",
    "hbcny_s_19q2.tail()"
   ]
  },
  {
   "cell_type": "code",
   "execution_count": 20,
   "metadata": {},
   "outputs": [
    {
     "output_type": "stream",
     "name": "stderr",
     "text": [
      "C:\\Users\\Daniel Ramirez\\anaconda3\\lib\\site-packages\\pandas\\core\\indexing.py:670: SettingWithCopyWarning: \nA value is trying to be set on a copy of a slice from a DataFrame\n\nSee the caveats in the documentation: https://pandas.pydata.org/pandas-docs/stable/user_guide/indexing.html#returning-a-view-versus-a-copy\n  iloc._setitem_with_indexer(indexer, value)\n<ipython-input-20-1e78e848f52e>:2: SettingWithCopyWarning: \nA value is trying to be set on a copy of a slice from a DataFrame\n\nSee the caveats in the documentation: https://pandas.pydata.org/pandas-docs/stable/user_guide/indexing.html#returning-a-view-versus-a-copy\n  hbcny_s_19q2.loc[53, \"state\"] = \"Other States\"\n"
     ]
    },
    {
     "output_type": "execute_result",
     "data": {
      "text/plain": [
       "            state v_mites other_pest_para diseases pesticides other unknown\n",
       "49  West Virginia    (NA)            (NA)     (NA)       (NA)  (NA)    (NA)\n",
       "50      Wisconsin    (NA)            (NA)     (NA)       (NA)  (NA)    (NA)\n",
       "51        Wyoming    (NA)            (NA)     (NA)       (NA)  (NA)    (NA)\n",
       "53   Other States    (NA)            (NA)     (NA)       (NA)  (NA)    (NA)\n",
       "55  United States    (NA)            (NA)     (NA)       (NA)  (NA)    (NA)"
      ],
      "text/html": "<div>\n<style scoped>\n    .dataframe tbody tr th:only-of-type {\n        vertical-align: middle;\n    }\n\n    .dataframe tbody tr th {\n        vertical-align: top;\n    }\n\n    .dataframe thead th {\n        text-align: right;\n    }\n</style>\n<table border=\"1\" class=\"dataframe\">\n  <thead>\n    <tr style=\"text-align: right;\">\n      <th></th>\n      <th>state</th>\n      <th>v_mites</th>\n      <th>other_pest_para</th>\n      <th>diseases</th>\n      <th>pesticides</th>\n      <th>other</th>\n      <th>unknown</th>\n    </tr>\n  </thead>\n  <tbody>\n    <tr>\n      <th>49</th>\n      <td>West Virginia</td>\n      <td>(NA)</td>\n      <td>(NA)</td>\n      <td>(NA)</td>\n      <td>(NA)</td>\n      <td>(NA)</td>\n      <td>(NA)</td>\n    </tr>\n    <tr>\n      <th>50</th>\n      <td>Wisconsin</td>\n      <td>(NA)</td>\n      <td>(NA)</td>\n      <td>(NA)</td>\n      <td>(NA)</td>\n      <td>(NA)</td>\n      <td>(NA)</td>\n    </tr>\n    <tr>\n      <th>51</th>\n      <td>Wyoming</td>\n      <td>(NA)</td>\n      <td>(NA)</td>\n      <td>(NA)</td>\n      <td>(NA)</td>\n      <td>(NA)</td>\n      <td>(NA)</td>\n    </tr>\n    <tr>\n      <th>53</th>\n      <td>Other States</td>\n      <td>(NA)</td>\n      <td>(NA)</td>\n      <td>(NA)</td>\n      <td>(NA)</td>\n      <td>(NA)</td>\n      <td>(NA)</td>\n    </tr>\n    <tr>\n      <th>55</th>\n      <td>United States</td>\n      <td>(NA)</td>\n      <td>(NA)</td>\n      <td>(NA)</td>\n      <td>(NA)</td>\n      <td>(NA)</td>\n      <td>(NA)</td>\n    </tr>\n  </tbody>\n</table>\n</div>"
     },
     "metadata": {},
     "execution_count": 20
    }
   ],
   "source": [
    "## Rename cell \n",
    "hbcny_s_19q2.loc[53, \"state\"] = \"Other States\"\n",
    "hbcny_s_19q2.tail()"
   ]
  },
  {
   "cell_type": "code",
   "execution_count": 21,
   "metadata": {},
   "outputs": [
    {
     "output_type": "execute_result",
     "data": {
      "text/plain": [
       "            state v_mites other_pest_para diseases pesticides other unknown\n",
       "49  West Virginia    (NA)            (NA)     (NA)       (NA)  (NA)    (NA)\n",
       "50      Wisconsin    (NA)            (NA)     (NA)       (NA)  (NA)    (NA)\n",
       "51        Wyoming    (NA)            (NA)     (NA)       (NA)  (NA)    (NA)\n",
       "53   Other States    (NA)            (NA)     (NA)       (NA)  (NA)    (NA)\n",
       "55  United States    (NA)            (NA)     (NA)       (NA)  (NA)    (NA)"
      ],
      "text/html": "<div>\n<style scoped>\n    .dataframe tbody tr th:only-of-type {\n        vertical-align: middle;\n    }\n\n    .dataframe tbody tr th {\n        vertical-align: top;\n    }\n\n    .dataframe thead th {\n        text-align: right;\n    }\n</style>\n<table border=\"1\" class=\"dataframe\">\n  <thead>\n    <tr style=\"text-align: right;\">\n      <th></th>\n      <th>state</th>\n      <th>v_mites</th>\n      <th>other_pest_para</th>\n      <th>diseases</th>\n      <th>pesticides</th>\n      <th>other</th>\n      <th>unknown</th>\n    </tr>\n  </thead>\n  <tbody>\n    <tr>\n      <th>49</th>\n      <td>West Virginia</td>\n      <td>(NA)</td>\n      <td>(NA)</td>\n      <td>(NA)</td>\n      <td>(NA)</td>\n      <td>(NA)</td>\n      <td>(NA)</td>\n    </tr>\n    <tr>\n      <th>50</th>\n      <td>Wisconsin</td>\n      <td>(NA)</td>\n      <td>(NA)</td>\n      <td>(NA)</td>\n      <td>(NA)</td>\n      <td>(NA)</td>\n      <td>(NA)</td>\n    </tr>\n    <tr>\n      <th>51</th>\n      <td>Wyoming</td>\n      <td>(NA)</td>\n      <td>(NA)</td>\n      <td>(NA)</td>\n      <td>(NA)</td>\n      <td>(NA)</td>\n      <td>(NA)</td>\n    </tr>\n    <tr>\n      <th>53</th>\n      <td>Other States</td>\n      <td>(NA)</td>\n      <td>(NA)</td>\n      <td>(NA)</td>\n      <td>(NA)</td>\n      <td>(NA)</td>\n      <td>(NA)</td>\n    </tr>\n    <tr>\n      <th>55</th>\n      <td>United States</td>\n      <td>(NA)</td>\n      <td>(NA)</td>\n      <td>(NA)</td>\n      <td>(NA)</td>\n      <td>(NA)</td>\n      <td>(NA)</td>\n    </tr>\n  </tbody>\n</table>\n</div>"
     },
     "metadata": {},
     "execution_count": 21
    }
   ],
   "source": [
    "## (Z) defined as:\n",
    "## Less than half of the unit shown (or negligible)\n",
    "## Replace (Z) values with zero\n",
    "hbcny_s_19q2 = hbcny_s_19q2.replace(\"(Z)\", 0)\n",
    "hbcny_s_19q2.tail()"
   ]
  },
  {
   "cell_type": "code",
   "execution_count": 22,
   "metadata": {},
   "outputs": [
    {
     "output_type": "execute_result",
     "data": {
      "text/plain": [
       "             state v_mites other_pest_para diseases pesticides other unknown\n",
       "3          Alabama    None            None     None       None  None    None\n",
       "4          Arizona    None            None     None       None  None    None\n",
       "5         Arkansas    None            None     None       None  None    None\n",
       "6       California    None            None     None       None  None    None\n",
       "7         Colorado    None            None     None       None  None    None\n",
       "8      Connecticut    None            None     None       None  None    None\n",
       "9          Florida    None            None     None       None  None    None\n",
       "10         Georgia    None            None     None       None  None    None\n",
       "11          Hawaii    None            None     None       None  None    None\n",
       "12           Idaho    None            None     None       None  None    None\n",
       "14        Illinois    None            None     None       None  None    None\n",
       "15         Indiana    None            None     None       None  None    None\n",
       "16            Iowa    None            None     None       None  None    None\n",
       "17          Kansas    None            None     None       None  None    None\n",
       "18        Kentucky    None            None     None       None  None    None\n",
       "19       Louisiana    None            None     None       None  None    None\n",
       "20           Maine    None            None     None       None  None    None\n",
       "21        Maryland    None            None     None       None  None    None\n",
       "22   Massachusetts    None            None     None       None  None    None\n",
       "23        Michigan    None            None     None       None  None    None\n",
       "25       Minnesota    None            None     None       None  None    None\n",
       "26     Mississippi    None            None     None       None  None    None\n",
       "27        Missouri    None            None     None       None  None    None\n",
       "28         Montana    None            None     None       None  None    None\n",
       "29        Nebraska    None            None     None       None  None    None\n",
       "30      New Jersey    None            None     None       None  None    None\n",
       "31      New Mexico    None            None     None       None  None    None\n",
       "32        New York    None            None     None       None  None    None\n",
       "33  North Carolina    None            None     None       None  None    None\n",
       "34    North Dakota    None            None     None       None  None    None\n",
       "36            Ohio    None            None     None       None  None    None\n",
       "37        Oklahoma    None            None     None       None  None    None\n",
       "38          Oregon    None            None     None       None  None    None\n",
       "39    Pennsylvania    None            None     None       None  None    None\n",
       "40  South Carolina    None            None     None       None  None    None\n",
       "41    South Dakota    None            None     None       None  None    None\n",
       "42       Tennessee    None            None     None       None  None    None\n",
       "43           Texas    None            None     None       None  None    None\n",
       "44            Utah    None            None     None       None  None    None\n",
       "45         Vermont    None            None     None       None  None    None\n",
       "47        Virginia    None            None     None       None  None    None\n",
       "48      Washington    None            None     None       None  None    None\n",
       "49   West Virginia    None            None     None       None  None    None\n",
       "50       Wisconsin    None            None     None       None  None    None\n",
       "51         Wyoming    None            None     None       None  None    None\n",
       "53    Other States    None            None     None       None  None    None\n",
       "55   United States    None            None     None       None  None    None"
      ],
      "text/html": "<div>\n<style scoped>\n    .dataframe tbody tr th:only-of-type {\n        vertical-align: middle;\n    }\n\n    .dataframe tbody tr th {\n        vertical-align: top;\n    }\n\n    .dataframe thead th {\n        text-align: right;\n    }\n</style>\n<table border=\"1\" class=\"dataframe\">\n  <thead>\n    <tr style=\"text-align: right;\">\n      <th></th>\n      <th>state</th>\n      <th>v_mites</th>\n      <th>other_pest_para</th>\n      <th>diseases</th>\n      <th>pesticides</th>\n      <th>other</th>\n      <th>unknown</th>\n    </tr>\n  </thead>\n  <tbody>\n    <tr>\n      <th>3</th>\n      <td>Alabama</td>\n      <td>None</td>\n      <td>None</td>\n      <td>None</td>\n      <td>None</td>\n      <td>None</td>\n      <td>None</td>\n    </tr>\n    <tr>\n      <th>4</th>\n      <td>Arizona</td>\n      <td>None</td>\n      <td>None</td>\n      <td>None</td>\n      <td>None</td>\n      <td>None</td>\n      <td>None</td>\n    </tr>\n    <tr>\n      <th>5</th>\n      <td>Arkansas</td>\n      <td>None</td>\n      <td>None</td>\n      <td>None</td>\n      <td>None</td>\n      <td>None</td>\n      <td>None</td>\n    </tr>\n    <tr>\n      <th>6</th>\n      <td>California</td>\n      <td>None</td>\n      <td>None</td>\n      <td>None</td>\n      <td>None</td>\n      <td>None</td>\n      <td>None</td>\n    </tr>\n    <tr>\n      <th>7</th>\n      <td>Colorado</td>\n      <td>None</td>\n      <td>None</td>\n      <td>None</td>\n      <td>None</td>\n      <td>None</td>\n      <td>None</td>\n    </tr>\n    <tr>\n      <th>8</th>\n      <td>Connecticut</td>\n      <td>None</td>\n      <td>None</td>\n      <td>None</td>\n      <td>None</td>\n      <td>None</td>\n      <td>None</td>\n    </tr>\n    <tr>\n      <th>9</th>\n      <td>Florida</td>\n      <td>None</td>\n      <td>None</td>\n      <td>None</td>\n      <td>None</td>\n      <td>None</td>\n      <td>None</td>\n    </tr>\n    <tr>\n      <th>10</th>\n      <td>Georgia</td>\n      <td>None</td>\n      <td>None</td>\n      <td>None</td>\n      <td>None</td>\n      <td>None</td>\n      <td>None</td>\n    </tr>\n    <tr>\n      <th>11</th>\n      <td>Hawaii</td>\n      <td>None</td>\n      <td>None</td>\n      <td>None</td>\n      <td>None</td>\n      <td>None</td>\n      <td>None</td>\n    </tr>\n    <tr>\n      <th>12</th>\n      <td>Idaho</td>\n      <td>None</td>\n      <td>None</td>\n      <td>None</td>\n      <td>None</td>\n      <td>None</td>\n      <td>None</td>\n    </tr>\n    <tr>\n      <th>14</th>\n      <td>Illinois</td>\n      <td>None</td>\n      <td>None</td>\n      <td>None</td>\n      <td>None</td>\n      <td>None</td>\n      <td>None</td>\n    </tr>\n    <tr>\n      <th>15</th>\n      <td>Indiana</td>\n      <td>None</td>\n      <td>None</td>\n      <td>None</td>\n      <td>None</td>\n      <td>None</td>\n      <td>None</td>\n    </tr>\n    <tr>\n      <th>16</th>\n      <td>Iowa</td>\n      <td>None</td>\n      <td>None</td>\n      <td>None</td>\n      <td>None</td>\n      <td>None</td>\n      <td>None</td>\n    </tr>\n    <tr>\n      <th>17</th>\n      <td>Kansas</td>\n      <td>None</td>\n      <td>None</td>\n      <td>None</td>\n      <td>None</td>\n      <td>None</td>\n      <td>None</td>\n    </tr>\n    <tr>\n      <th>18</th>\n      <td>Kentucky</td>\n      <td>None</td>\n      <td>None</td>\n      <td>None</td>\n      <td>None</td>\n      <td>None</td>\n      <td>None</td>\n    </tr>\n    <tr>\n      <th>19</th>\n      <td>Louisiana</td>\n      <td>None</td>\n      <td>None</td>\n      <td>None</td>\n      <td>None</td>\n      <td>None</td>\n      <td>None</td>\n    </tr>\n    <tr>\n      <th>20</th>\n      <td>Maine</td>\n      <td>None</td>\n      <td>None</td>\n      <td>None</td>\n      <td>None</td>\n      <td>None</td>\n      <td>None</td>\n    </tr>\n    <tr>\n      <th>21</th>\n      <td>Maryland</td>\n      <td>None</td>\n      <td>None</td>\n      <td>None</td>\n      <td>None</td>\n      <td>None</td>\n      <td>None</td>\n    </tr>\n    <tr>\n      <th>22</th>\n      <td>Massachusetts</td>\n      <td>None</td>\n      <td>None</td>\n      <td>None</td>\n      <td>None</td>\n      <td>None</td>\n      <td>None</td>\n    </tr>\n    <tr>\n      <th>23</th>\n      <td>Michigan</td>\n      <td>None</td>\n      <td>None</td>\n      <td>None</td>\n      <td>None</td>\n      <td>None</td>\n      <td>None</td>\n    </tr>\n    <tr>\n      <th>25</th>\n      <td>Minnesota</td>\n      <td>None</td>\n      <td>None</td>\n      <td>None</td>\n      <td>None</td>\n      <td>None</td>\n      <td>None</td>\n    </tr>\n    <tr>\n      <th>26</th>\n      <td>Mississippi</td>\n      <td>None</td>\n      <td>None</td>\n      <td>None</td>\n      <td>None</td>\n      <td>None</td>\n      <td>None</td>\n    </tr>\n    <tr>\n      <th>27</th>\n      <td>Missouri</td>\n      <td>None</td>\n      <td>None</td>\n      <td>None</td>\n      <td>None</td>\n      <td>None</td>\n      <td>None</td>\n    </tr>\n    <tr>\n      <th>28</th>\n      <td>Montana</td>\n      <td>None</td>\n      <td>None</td>\n      <td>None</td>\n      <td>None</td>\n      <td>None</td>\n      <td>None</td>\n    </tr>\n    <tr>\n      <th>29</th>\n      <td>Nebraska</td>\n      <td>None</td>\n      <td>None</td>\n      <td>None</td>\n      <td>None</td>\n      <td>None</td>\n      <td>None</td>\n    </tr>\n    <tr>\n      <th>30</th>\n      <td>New Jersey</td>\n      <td>None</td>\n      <td>None</td>\n      <td>None</td>\n      <td>None</td>\n      <td>None</td>\n      <td>None</td>\n    </tr>\n    <tr>\n      <th>31</th>\n      <td>New Mexico</td>\n      <td>None</td>\n      <td>None</td>\n      <td>None</td>\n      <td>None</td>\n      <td>None</td>\n      <td>None</td>\n    </tr>\n    <tr>\n      <th>32</th>\n      <td>New York</td>\n      <td>None</td>\n      <td>None</td>\n      <td>None</td>\n      <td>None</td>\n      <td>None</td>\n      <td>None</td>\n    </tr>\n    <tr>\n      <th>33</th>\n      <td>North Carolina</td>\n      <td>None</td>\n      <td>None</td>\n      <td>None</td>\n      <td>None</td>\n      <td>None</td>\n      <td>None</td>\n    </tr>\n    <tr>\n      <th>34</th>\n      <td>North Dakota</td>\n      <td>None</td>\n      <td>None</td>\n      <td>None</td>\n      <td>None</td>\n      <td>None</td>\n      <td>None</td>\n    </tr>\n    <tr>\n      <th>36</th>\n      <td>Ohio</td>\n      <td>None</td>\n      <td>None</td>\n      <td>None</td>\n      <td>None</td>\n      <td>None</td>\n      <td>None</td>\n    </tr>\n    <tr>\n      <th>37</th>\n      <td>Oklahoma</td>\n      <td>None</td>\n      <td>None</td>\n      <td>None</td>\n      <td>None</td>\n      <td>None</td>\n      <td>None</td>\n    </tr>\n    <tr>\n      <th>38</th>\n      <td>Oregon</td>\n      <td>None</td>\n      <td>None</td>\n      <td>None</td>\n      <td>None</td>\n      <td>None</td>\n      <td>None</td>\n    </tr>\n    <tr>\n      <th>39</th>\n      <td>Pennsylvania</td>\n      <td>None</td>\n      <td>None</td>\n      <td>None</td>\n      <td>None</td>\n      <td>None</td>\n      <td>None</td>\n    </tr>\n    <tr>\n      <th>40</th>\n      <td>South Carolina</td>\n      <td>None</td>\n      <td>None</td>\n      <td>None</td>\n      <td>None</td>\n      <td>None</td>\n      <td>None</td>\n    </tr>\n    <tr>\n      <th>41</th>\n      <td>South Dakota</td>\n      <td>None</td>\n      <td>None</td>\n      <td>None</td>\n      <td>None</td>\n      <td>None</td>\n      <td>None</td>\n    </tr>\n    <tr>\n      <th>42</th>\n      <td>Tennessee</td>\n      <td>None</td>\n      <td>None</td>\n      <td>None</td>\n      <td>None</td>\n      <td>None</td>\n      <td>None</td>\n    </tr>\n    <tr>\n      <th>43</th>\n      <td>Texas</td>\n      <td>None</td>\n      <td>None</td>\n      <td>None</td>\n      <td>None</td>\n      <td>None</td>\n      <td>None</td>\n    </tr>\n    <tr>\n      <th>44</th>\n      <td>Utah</td>\n      <td>None</td>\n      <td>None</td>\n      <td>None</td>\n      <td>None</td>\n      <td>None</td>\n      <td>None</td>\n    </tr>\n    <tr>\n      <th>45</th>\n      <td>Vermont</td>\n      <td>None</td>\n      <td>None</td>\n      <td>None</td>\n      <td>None</td>\n      <td>None</td>\n      <td>None</td>\n    </tr>\n    <tr>\n      <th>47</th>\n      <td>Virginia</td>\n      <td>None</td>\n      <td>None</td>\n      <td>None</td>\n      <td>None</td>\n      <td>None</td>\n      <td>None</td>\n    </tr>\n    <tr>\n      <th>48</th>\n      <td>Washington</td>\n      <td>None</td>\n      <td>None</td>\n      <td>None</td>\n      <td>None</td>\n      <td>None</td>\n      <td>None</td>\n    </tr>\n    <tr>\n      <th>49</th>\n      <td>West Virginia</td>\n      <td>None</td>\n      <td>None</td>\n      <td>None</td>\n      <td>None</td>\n      <td>None</td>\n      <td>None</td>\n    </tr>\n    <tr>\n      <th>50</th>\n      <td>Wisconsin</td>\n      <td>None</td>\n      <td>None</td>\n      <td>None</td>\n      <td>None</td>\n      <td>None</td>\n      <td>None</td>\n    </tr>\n    <tr>\n      <th>51</th>\n      <td>Wyoming</td>\n      <td>None</td>\n      <td>None</td>\n      <td>None</td>\n      <td>None</td>\n      <td>None</td>\n      <td>None</td>\n    </tr>\n    <tr>\n      <th>53</th>\n      <td>Other States</td>\n      <td>None</td>\n      <td>None</td>\n      <td>None</td>\n      <td>None</td>\n      <td>None</td>\n      <td>None</td>\n    </tr>\n    <tr>\n      <th>55</th>\n      <td>United States</td>\n      <td>None</td>\n      <td>None</td>\n      <td>None</td>\n      <td>None</td>\n      <td>None</td>\n      <td>None</td>\n    </tr>\n  </tbody>\n</table>\n</div>"
     },
     "metadata": {},
     "execution_count": 22
    }
   ],
   "source": [
    "## (X) defined as: N/A\n",
    "## Assume \"-\" equals None\n",
    "## Replace \"-\" and (X) values with None\n",
    "hbcny_s_19q2 = hbcny_s_19q2.replace({'-': None})\n",
    "hbcny_s_19q2 = hbcny_s_19q2.replace({'(NA)': None})\n",
    "hbcny_s_19q2 = hbcny_s_19q2.replace({'(X)': None})\n",
    "hbcny_s_19q2"
   ]
  },
  {
   "cell_type": "code",
   "execution_count": 23,
   "metadata": {},
   "outputs": [
    {
     "output_type": "execute_result",
     "data": {
      "text/plain": [
       "             state v_mites other_pest_para diseases pesticides other unknown\n",
       "0          Alabama    None            None     None       None  None    None\n",
       "1          Arizona    None            None     None       None  None    None\n",
       "2         Arkansas    None            None     None       None  None    None\n",
       "3       California    None            None     None       None  None    None\n",
       "4         Colorado    None            None     None       None  None    None\n",
       "5      Connecticut    None            None     None       None  None    None\n",
       "6          Florida    None            None     None       None  None    None\n",
       "7          Georgia    None            None     None       None  None    None\n",
       "8           Hawaii    None            None     None       None  None    None\n",
       "9            Idaho    None            None     None       None  None    None\n",
       "10        Illinois    None            None     None       None  None    None\n",
       "11         Indiana    None            None     None       None  None    None\n",
       "12            Iowa    None            None     None       None  None    None\n",
       "13          Kansas    None            None     None       None  None    None\n",
       "14        Kentucky    None            None     None       None  None    None\n",
       "15       Louisiana    None            None     None       None  None    None\n",
       "16           Maine    None            None     None       None  None    None\n",
       "17        Maryland    None            None     None       None  None    None\n",
       "18   Massachusetts    None            None     None       None  None    None\n",
       "19        Michigan    None            None     None       None  None    None\n",
       "20       Minnesota    None            None     None       None  None    None\n",
       "21     Mississippi    None            None     None       None  None    None\n",
       "22        Missouri    None            None     None       None  None    None\n",
       "23         Montana    None            None     None       None  None    None\n",
       "24        Nebraska    None            None     None       None  None    None\n",
       "25      New Jersey    None            None     None       None  None    None\n",
       "26      New Mexico    None            None     None       None  None    None\n",
       "27        New York    None            None     None       None  None    None\n",
       "28  North Carolina    None            None     None       None  None    None\n",
       "29    North Dakota    None            None     None       None  None    None\n",
       "30            Ohio    None            None     None       None  None    None\n",
       "31        Oklahoma    None            None     None       None  None    None\n",
       "32          Oregon    None            None     None       None  None    None\n",
       "33    Pennsylvania    None            None     None       None  None    None\n",
       "34  South Carolina    None            None     None       None  None    None\n",
       "35    South Dakota    None            None     None       None  None    None\n",
       "36       Tennessee    None            None     None       None  None    None\n",
       "37           Texas    None            None     None       None  None    None\n",
       "38            Utah    None            None     None       None  None    None\n",
       "39         Vermont    None            None     None       None  None    None\n",
       "40        Virginia    None            None     None       None  None    None\n",
       "41      Washington    None            None     None       None  None    None\n",
       "42   West Virginia    None            None     None       None  None    None\n",
       "43       Wisconsin    None            None     None       None  None    None\n",
       "44         Wyoming    None            None     None       None  None    None\n",
       "45    Other States    None            None     None       None  None    None\n",
       "46   United States    None            None     None       None  None    None"
      ],
      "text/html": "<div>\n<style scoped>\n    .dataframe tbody tr th:only-of-type {\n        vertical-align: middle;\n    }\n\n    .dataframe tbody tr th {\n        vertical-align: top;\n    }\n\n    .dataframe thead th {\n        text-align: right;\n    }\n</style>\n<table border=\"1\" class=\"dataframe\">\n  <thead>\n    <tr style=\"text-align: right;\">\n      <th></th>\n      <th>state</th>\n      <th>v_mites</th>\n      <th>other_pest_para</th>\n      <th>diseases</th>\n      <th>pesticides</th>\n      <th>other</th>\n      <th>unknown</th>\n    </tr>\n  </thead>\n  <tbody>\n    <tr>\n      <th>0</th>\n      <td>Alabama</td>\n      <td>None</td>\n      <td>None</td>\n      <td>None</td>\n      <td>None</td>\n      <td>None</td>\n      <td>None</td>\n    </tr>\n    <tr>\n      <th>1</th>\n      <td>Arizona</td>\n      <td>None</td>\n      <td>None</td>\n      <td>None</td>\n      <td>None</td>\n      <td>None</td>\n      <td>None</td>\n    </tr>\n    <tr>\n      <th>2</th>\n      <td>Arkansas</td>\n      <td>None</td>\n      <td>None</td>\n      <td>None</td>\n      <td>None</td>\n      <td>None</td>\n      <td>None</td>\n    </tr>\n    <tr>\n      <th>3</th>\n      <td>California</td>\n      <td>None</td>\n      <td>None</td>\n      <td>None</td>\n      <td>None</td>\n      <td>None</td>\n      <td>None</td>\n    </tr>\n    <tr>\n      <th>4</th>\n      <td>Colorado</td>\n      <td>None</td>\n      <td>None</td>\n      <td>None</td>\n      <td>None</td>\n      <td>None</td>\n      <td>None</td>\n    </tr>\n    <tr>\n      <th>5</th>\n      <td>Connecticut</td>\n      <td>None</td>\n      <td>None</td>\n      <td>None</td>\n      <td>None</td>\n      <td>None</td>\n      <td>None</td>\n    </tr>\n    <tr>\n      <th>6</th>\n      <td>Florida</td>\n      <td>None</td>\n      <td>None</td>\n      <td>None</td>\n      <td>None</td>\n      <td>None</td>\n      <td>None</td>\n    </tr>\n    <tr>\n      <th>7</th>\n      <td>Georgia</td>\n      <td>None</td>\n      <td>None</td>\n      <td>None</td>\n      <td>None</td>\n      <td>None</td>\n      <td>None</td>\n    </tr>\n    <tr>\n      <th>8</th>\n      <td>Hawaii</td>\n      <td>None</td>\n      <td>None</td>\n      <td>None</td>\n      <td>None</td>\n      <td>None</td>\n      <td>None</td>\n    </tr>\n    <tr>\n      <th>9</th>\n      <td>Idaho</td>\n      <td>None</td>\n      <td>None</td>\n      <td>None</td>\n      <td>None</td>\n      <td>None</td>\n      <td>None</td>\n    </tr>\n    <tr>\n      <th>10</th>\n      <td>Illinois</td>\n      <td>None</td>\n      <td>None</td>\n      <td>None</td>\n      <td>None</td>\n      <td>None</td>\n      <td>None</td>\n    </tr>\n    <tr>\n      <th>11</th>\n      <td>Indiana</td>\n      <td>None</td>\n      <td>None</td>\n      <td>None</td>\n      <td>None</td>\n      <td>None</td>\n      <td>None</td>\n    </tr>\n    <tr>\n      <th>12</th>\n      <td>Iowa</td>\n      <td>None</td>\n      <td>None</td>\n      <td>None</td>\n      <td>None</td>\n      <td>None</td>\n      <td>None</td>\n    </tr>\n    <tr>\n      <th>13</th>\n      <td>Kansas</td>\n      <td>None</td>\n      <td>None</td>\n      <td>None</td>\n      <td>None</td>\n      <td>None</td>\n      <td>None</td>\n    </tr>\n    <tr>\n      <th>14</th>\n      <td>Kentucky</td>\n      <td>None</td>\n      <td>None</td>\n      <td>None</td>\n      <td>None</td>\n      <td>None</td>\n      <td>None</td>\n    </tr>\n    <tr>\n      <th>15</th>\n      <td>Louisiana</td>\n      <td>None</td>\n      <td>None</td>\n      <td>None</td>\n      <td>None</td>\n      <td>None</td>\n      <td>None</td>\n    </tr>\n    <tr>\n      <th>16</th>\n      <td>Maine</td>\n      <td>None</td>\n      <td>None</td>\n      <td>None</td>\n      <td>None</td>\n      <td>None</td>\n      <td>None</td>\n    </tr>\n    <tr>\n      <th>17</th>\n      <td>Maryland</td>\n      <td>None</td>\n      <td>None</td>\n      <td>None</td>\n      <td>None</td>\n      <td>None</td>\n      <td>None</td>\n    </tr>\n    <tr>\n      <th>18</th>\n      <td>Massachusetts</td>\n      <td>None</td>\n      <td>None</td>\n      <td>None</td>\n      <td>None</td>\n      <td>None</td>\n      <td>None</td>\n    </tr>\n    <tr>\n      <th>19</th>\n      <td>Michigan</td>\n      <td>None</td>\n      <td>None</td>\n      <td>None</td>\n      <td>None</td>\n      <td>None</td>\n      <td>None</td>\n    </tr>\n    <tr>\n      <th>20</th>\n      <td>Minnesota</td>\n      <td>None</td>\n      <td>None</td>\n      <td>None</td>\n      <td>None</td>\n      <td>None</td>\n      <td>None</td>\n    </tr>\n    <tr>\n      <th>21</th>\n      <td>Mississippi</td>\n      <td>None</td>\n      <td>None</td>\n      <td>None</td>\n      <td>None</td>\n      <td>None</td>\n      <td>None</td>\n    </tr>\n    <tr>\n      <th>22</th>\n      <td>Missouri</td>\n      <td>None</td>\n      <td>None</td>\n      <td>None</td>\n      <td>None</td>\n      <td>None</td>\n      <td>None</td>\n    </tr>\n    <tr>\n      <th>23</th>\n      <td>Montana</td>\n      <td>None</td>\n      <td>None</td>\n      <td>None</td>\n      <td>None</td>\n      <td>None</td>\n      <td>None</td>\n    </tr>\n    <tr>\n      <th>24</th>\n      <td>Nebraska</td>\n      <td>None</td>\n      <td>None</td>\n      <td>None</td>\n      <td>None</td>\n      <td>None</td>\n      <td>None</td>\n    </tr>\n    <tr>\n      <th>25</th>\n      <td>New Jersey</td>\n      <td>None</td>\n      <td>None</td>\n      <td>None</td>\n      <td>None</td>\n      <td>None</td>\n      <td>None</td>\n    </tr>\n    <tr>\n      <th>26</th>\n      <td>New Mexico</td>\n      <td>None</td>\n      <td>None</td>\n      <td>None</td>\n      <td>None</td>\n      <td>None</td>\n      <td>None</td>\n    </tr>\n    <tr>\n      <th>27</th>\n      <td>New York</td>\n      <td>None</td>\n      <td>None</td>\n      <td>None</td>\n      <td>None</td>\n      <td>None</td>\n      <td>None</td>\n    </tr>\n    <tr>\n      <th>28</th>\n      <td>North Carolina</td>\n      <td>None</td>\n      <td>None</td>\n      <td>None</td>\n      <td>None</td>\n      <td>None</td>\n      <td>None</td>\n    </tr>\n    <tr>\n      <th>29</th>\n      <td>North Dakota</td>\n      <td>None</td>\n      <td>None</td>\n      <td>None</td>\n      <td>None</td>\n      <td>None</td>\n      <td>None</td>\n    </tr>\n    <tr>\n      <th>30</th>\n      <td>Ohio</td>\n      <td>None</td>\n      <td>None</td>\n      <td>None</td>\n      <td>None</td>\n      <td>None</td>\n      <td>None</td>\n    </tr>\n    <tr>\n      <th>31</th>\n      <td>Oklahoma</td>\n      <td>None</td>\n      <td>None</td>\n      <td>None</td>\n      <td>None</td>\n      <td>None</td>\n      <td>None</td>\n    </tr>\n    <tr>\n      <th>32</th>\n      <td>Oregon</td>\n      <td>None</td>\n      <td>None</td>\n      <td>None</td>\n      <td>None</td>\n      <td>None</td>\n      <td>None</td>\n    </tr>\n    <tr>\n      <th>33</th>\n      <td>Pennsylvania</td>\n      <td>None</td>\n      <td>None</td>\n      <td>None</td>\n      <td>None</td>\n      <td>None</td>\n      <td>None</td>\n    </tr>\n    <tr>\n      <th>34</th>\n      <td>South Carolina</td>\n      <td>None</td>\n      <td>None</td>\n      <td>None</td>\n      <td>None</td>\n      <td>None</td>\n      <td>None</td>\n    </tr>\n    <tr>\n      <th>35</th>\n      <td>South Dakota</td>\n      <td>None</td>\n      <td>None</td>\n      <td>None</td>\n      <td>None</td>\n      <td>None</td>\n      <td>None</td>\n    </tr>\n    <tr>\n      <th>36</th>\n      <td>Tennessee</td>\n      <td>None</td>\n      <td>None</td>\n      <td>None</td>\n      <td>None</td>\n      <td>None</td>\n      <td>None</td>\n    </tr>\n    <tr>\n      <th>37</th>\n      <td>Texas</td>\n      <td>None</td>\n      <td>None</td>\n      <td>None</td>\n      <td>None</td>\n      <td>None</td>\n      <td>None</td>\n    </tr>\n    <tr>\n      <th>38</th>\n      <td>Utah</td>\n      <td>None</td>\n      <td>None</td>\n      <td>None</td>\n      <td>None</td>\n      <td>None</td>\n      <td>None</td>\n    </tr>\n    <tr>\n      <th>39</th>\n      <td>Vermont</td>\n      <td>None</td>\n      <td>None</td>\n      <td>None</td>\n      <td>None</td>\n      <td>None</td>\n      <td>None</td>\n    </tr>\n    <tr>\n      <th>40</th>\n      <td>Virginia</td>\n      <td>None</td>\n      <td>None</td>\n      <td>None</td>\n      <td>None</td>\n      <td>None</td>\n      <td>None</td>\n    </tr>\n    <tr>\n      <th>41</th>\n      <td>Washington</td>\n      <td>None</td>\n      <td>None</td>\n      <td>None</td>\n      <td>None</td>\n      <td>None</td>\n      <td>None</td>\n    </tr>\n    <tr>\n      <th>42</th>\n      <td>West Virginia</td>\n      <td>None</td>\n      <td>None</td>\n      <td>None</td>\n      <td>None</td>\n      <td>None</td>\n      <td>None</td>\n    </tr>\n    <tr>\n      <th>43</th>\n      <td>Wisconsin</td>\n      <td>None</td>\n      <td>None</td>\n      <td>None</td>\n      <td>None</td>\n      <td>None</td>\n      <td>None</td>\n    </tr>\n    <tr>\n      <th>44</th>\n      <td>Wyoming</td>\n      <td>None</td>\n      <td>None</td>\n      <td>None</td>\n      <td>None</td>\n      <td>None</td>\n      <td>None</td>\n    </tr>\n    <tr>\n      <th>45</th>\n      <td>Other States</td>\n      <td>None</td>\n      <td>None</td>\n      <td>None</td>\n      <td>None</td>\n      <td>None</td>\n      <td>None</td>\n    </tr>\n    <tr>\n      <th>46</th>\n      <td>United States</td>\n      <td>None</td>\n      <td>None</td>\n      <td>None</td>\n      <td>None</td>\n      <td>None</td>\n      <td>None</td>\n    </tr>\n  </tbody>\n</table>\n</div>"
     },
     "metadata": {},
     "execution_count": 23
    }
   ],
   "source": [
    "## Reset the index\n",
    "hbcny_s_19q2 = hbcny_s_19q2.reset_index(drop = True)\n",
    "hbcny_s_19q2"
   ]
  },
  {
   "cell_type": "code",
   "execution_count": 24,
   "metadata": {},
   "outputs": [],
   "source": [
    "hbcny_s_19q2.to_csv(\"hbcny_stress_19q2.csv\", index=False)"
   ]
  }
 ]
}