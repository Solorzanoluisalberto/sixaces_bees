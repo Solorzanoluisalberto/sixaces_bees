{
 "metadata": {
  "language_info": {
   "codemirror_mode": {
    "name": "ipython",
    "version": 3
   },
   "file_extension": ".py",
   "mimetype": "text/x-python",
   "name": "python",
   "nbconvert_exporter": "python",
   "pygments_lexer": "ipython3",
   "version": "3.8.5"
  },
  "orig_nbformat": 2,
  "kernelspec": {
   "name": "python385jvsc74a57bd06e67b620515b60b5e0a41f61aaaaaa0b5713da87d04dedede882ceace4acc361",
   "display_name": "Python 3.8.5 64-bit ('Daniel Ramirez': virtualenv)"
  }
 },
 "nbformat": 4,
 "nbformat_minor": 2,
 "cells": [
  {
   "cell_type": "code",
   "execution_count": 52,
   "metadata": {},
   "outputs": [],
   "source": [
    "## Dependencies and setup\n",
    "import pandas as pd"
   ]
  },
  {
   "cell_type": "code",
   "execution_count": 53,
   "metadata": {},
   "outputs": [],
   "source": [
    "## Load data files\n",
    "hbcny_s_19q1 = \"../../1_Extract/USDA-HB_Colony_Health_2019_and_2020/hbcny_stress_2019_q1_t002.csv\""
   ]
  },
  {
   "cell_type": "code",
   "execution_count": 54,
   "metadata": {},
   "outputs": [
    {
     "output_type": "execute_result",
     "data": {
      "text/plain": [
       "   2  h Unnamed: 2     Varroa       Other pests   Unnamed: 5  Unnamed: 6  \\\n",
       "0  2  h      State      mites  and parasites 1/  Diseases 2/  Pesticides   \n",
       "1  2  h        NaN        NaN               NaN          NaN         NaN   \n",
       "2  2  u        NaN  (percent)         (percent)    (percent)   (percent)   \n",
       "3  2  d    Alabama       27.2              22.7          1.8         0.3   \n",
       "4  2  d    Arizona       25.8               7.9          6.5        16.2   \n",
       "\n",
       "  Unnamed: 7 Unnamed: 8  \n",
       "0   Other 3/    Unknown  \n",
       "1        NaN        NaN  \n",
       "2  (percent)  (percent)  \n",
       "3        3.1          9  \n",
       "4        8.4        0.2  "
      ],
      "text/html": "<div>\n<style scoped>\n    .dataframe tbody tr th:only-of-type {\n        vertical-align: middle;\n    }\n\n    .dataframe tbody tr th {\n        vertical-align: top;\n    }\n\n    .dataframe thead th {\n        text-align: right;\n    }\n</style>\n<table border=\"1\" class=\"dataframe\">\n  <thead>\n    <tr style=\"text-align: right;\">\n      <th></th>\n      <th>2</th>\n      <th>h</th>\n      <th>Unnamed: 2</th>\n      <th>Varroa</th>\n      <th>Other pests</th>\n      <th>Unnamed: 5</th>\n      <th>Unnamed: 6</th>\n      <th>Unnamed: 7</th>\n      <th>Unnamed: 8</th>\n    </tr>\n  </thead>\n  <tbody>\n    <tr>\n      <th>0</th>\n      <td>2</td>\n      <td>h</td>\n      <td>State</td>\n      <td>mites</td>\n      <td>and parasites 1/</td>\n      <td>Diseases 2/</td>\n      <td>Pesticides</td>\n      <td>Other 3/</td>\n      <td>Unknown</td>\n    </tr>\n    <tr>\n      <th>1</th>\n      <td>2</td>\n      <td>h</td>\n      <td>NaN</td>\n      <td>NaN</td>\n      <td>NaN</td>\n      <td>NaN</td>\n      <td>NaN</td>\n      <td>NaN</td>\n      <td>NaN</td>\n    </tr>\n    <tr>\n      <th>2</th>\n      <td>2</td>\n      <td>u</td>\n      <td>NaN</td>\n      <td>(percent)</td>\n      <td>(percent)</td>\n      <td>(percent)</td>\n      <td>(percent)</td>\n      <td>(percent)</td>\n      <td>(percent)</td>\n    </tr>\n    <tr>\n      <th>3</th>\n      <td>2</td>\n      <td>d</td>\n      <td>Alabama</td>\n      <td>27.2</td>\n      <td>22.7</td>\n      <td>1.8</td>\n      <td>0.3</td>\n      <td>3.1</td>\n      <td>9</td>\n    </tr>\n    <tr>\n      <th>4</th>\n      <td>2</td>\n      <td>d</td>\n      <td>Arizona</td>\n      <td>25.8</td>\n      <td>7.9</td>\n      <td>6.5</td>\n      <td>16.2</td>\n      <td>8.4</td>\n      <td>0.2</td>\n    </tr>\n  </tbody>\n</table>\n</div>"
     },
     "metadata": {},
     "execution_count": 54
    }
   ],
   "source": [
    "## Read data and store into df\n",
    "## Drop the first 4 rows which hold info text\n",
    "hbcny_s_19q1 = pd.read_csv(hbcny_s_19q1, skiprows=4)\n",
    "hbcny_s_19q1.head()"
   ]
  },
  {
   "cell_type": "code",
   "execution_count": 55,
   "metadata": {},
   "outputs": [
    {
     "output_type": "execute_result",
     "data": {
      "text/plain": [
       "    2  h                                         Unnamed: 2     Varroa  \\\n",
       "0   2  h                                              State      mites   \n",
       "1   2  h                                                NaN        NaN   \n",
       "2   2  u                                                NaN  (percent)   \n",
       "3   2  d                                            Alabama       27.2   \n",
       "4   2  d                                            Arizona       25.8   \n",
       ".. .. ..                                                ...        ...   \n",
       "58  2  f             (Z)  Less than half of the unit shown.        NaN   \n",
       "59  2  f  1/ Tracheal mites, nosema, hive beetle, wax mo...        NaN   \n",
       "60  2  f  2/ Includes American and European foulbrood, c...        NaN   \n",
       "61  2  f  3/ Includes weather, starvation, insufficient ...        NaN   \n",
       "62  2  f  4/ Includes data for States not published in t...        NaN   \n",
       "\n",
       "         Other pests   Unnamed: 5  Unnamed: 6 Unnamed: 7 Unnamed: 8  \n",
       "0   and parasites 1/  Diseases 2/  Pesticides   Other 3/    Unknown  \n",
       "1                NaN          NaN         NaN        NaN        NaN  \n",
       "2          (percent)    (percent)   (percent)  (percent)  (percent)  \n",
       "3               22.7          1.8         0.3        3.1          9  \n",
       "4                7.9          6.5        16.2        8.4        0.2  \n",
       "..               ...          ...         ...        ...        ...  \n",
       "58               NaN          NaN         NaN        NaN        NaN  \n",
       "59               NaN          NaN         NaN        NaN        NaN  \n",
       "60               NaN          NaN         NaN        NaN        NaN  \n",
       "61               NaN          NaN         NaN        NaN        NaN  \n",
       "62               NaN          NaN         NaN        NaN        NaN  \n",
       "\n",
       "[63 rows x 9 columns]"
      ],
      "text/html": "<div>\n<style scoped>\n    .dataframe tbody tr th:only-of-type {\n        vertical-align: middle;\n    }\n\n    .dataframe tbody tr th {\n        vertical-align: top;\n    }\n\n    .dataframe thead th {\n        text-align: right;\n    }\n</style>\n<table border=\"1\" class=\"dataframe\">\n  <thead>\n    <tr style=\"text-align: right;\">\n      <th></th>\n      <th>2</th>\n      <th>h</th>\n      <th>Unnamed: 2</th>\n      <th>Varroa</th>\n      <th>Other pests</th>\n      <th>Unnamed: 5</th>\n      <th>Unnamed: 6</th>\n      <th>Unnamed: 7</th>\n      <th>Unnamed: 8</th>\n    </tr>\n  </thead>\n  <tbody>\n    <tr>\n      <th>0</th>\n      <td>2</td>\n      <td>h</td>\n      <td>State</td>\n      <td>mites</td>\n      <td>and parasites 1/</td>\n      <td>Diseases 2/</td>\n      <td>Pesticides</td>\n      <td>Other 3/</td>\n      <td>Unknown</td>\n    </tr>\n    <tr>\n      <th>1</th>\n      <td>2</td>\n      <td>h</td>\n      <td>NaN</td>\n      <td>NaN</td>\n      <td>NaN</td>\n      <td>NaN</td>\n      <td>NaN</td>\n      <td>NaN</td>\n      <td>NaN</td>\n    </tr>\n    <tr>\n      <th>2</th>\n      <td>2</td>\n      <td>u</td>\n      <td>NaN</td>\n      <td>(percent)</td>\n      <td>(percent)</td>\n      <td>(percent)</td>\n      <td>(percent)</td>\n      <td>(percent)</td>\n      <td>(percent)</td>\n    </tr>\n    <tr>\n      <th>3</th>\n      <td>2</td>\n      <td>d</td>\n      <td>Alabama</td>\n      <td>27.2</td>\n      <td>22.7</td>\n      <td>1.8</td>\n      <td>0.3</td>\n      <td>3.1</td>\n      <td>9</td>\n    </tr>\n    <tr>\n      <th>4</th>\n      <td>2</td>\n      <td>d</td>\n      <td>Arizona</td>\n      <td>25.8</td>\n      <td>7.9</td>\n      <td>6.5</td>\n      <td>16.2</td>\n      <td>8.4</td>\n      <td>0.2</td>\n    </tr>\n    <tr>\n      <th>...</th>\n      <td>...</td>\n      <td>...</td>\n      <td>...</td>\n      <td>...</td>\n      <td>...</td>\n      <td>...</td>\n      <td>...</td>\n      <td>...</td>\n      <td>...</td>\n    </tr>\n    <tr>\n      <th>58</th>\n      <td>2</td>\n      <td>f</td>\n      <td>(Z)  Less than half of the unit shown.</td>\n      <td>NaN</td>\n      <td>NaN</td>\n      <td>NaN</td>\n      <td>NaN</td>\n      <td>NaN</td>\n      <td>NaN</td>\n    </tr>\n    <tr>\n      <th>59</th>\n      <td>2</td>\n      <td>f</td>\n      <td>1/ Tracheal mites, nosema, hive beetle, wax mo...</td>\n      <td>NaN</td>\n      <td>NaN</td>\n      <td>NaN</td>\n      <td>NaN</td>\n      <td>NaN</td>\n      <td>NaN</td>\n    </tr>\n    <tr>\n      <th>60</th>\n      <td>2</td>\n      <td>f</td>\n      <td>2/ Includes American and European foulbrood, c...</td>\n      <td>NaN</td>\n      <td>NaN</td>\n      <td>NaN</td>\n      <td>NaN</td>\n      <td>NaN</td>\n      <td>NaN</td>\n    </tr>\n    <tr>\n      <th>61</th>\n      <td>2</td>\n      <td>f</td>\n      <td>3/ Includes weather, starvation, insufficient ...</td>\n      <td>NaN</td>\n      <td>NaN</td>\n      <td>NaN</td>\n      <td>NaN</td>\n      <td>NaN</td>\n      <td>NaN</td>\n    </tr>\n    <tr>\n      <th>62</th>\n      <td>2</td>\n      <td>f</td>\n      <td>4/ Includes data for States not published in t...</td>\n      <td>NaN</td>\n      <td>NaN</td>\n      <td>NaN</td>\n      <td>NaN</td>\n      <td>NaN</td>\n      <td>NaN</td>\n    </tr>\n  </tbody>\n</table>\n<p>63 rows × 9 columns</p>\n</div>"
     },
     "metadata": {},
     "execution_count": 55
    }
   ],
   "source": [
    "hbcny_s_19q1 = pd.DataFrame(hbcny_s_19q1)\n",
    "hbcny_s_19q1"
   ]
  },
  {
   "cell_type": "code",
   "execution_count": 56,
   "metadata": {},
   "outputs": [
    {
     "output_type": "execute_result",
     "data": {
      "text/plain": [
       "  Unnamed: 2     Varroa       Other pests   Unnamed: 5  Unnamed: 6 Unnamed: 7  \\\n",
       "0      State      mites  and parasites 1/  Diseases 2/  Pesticides   Other 3/   \n",
       "1        NaN        NaN               NaN          NaN         NaN        NaN   \n",
       "2        NaN  (percent)         (percent)    (percent)   (percent)  (percent)   \n",
       "3    Alabama       27.2              22.7          1.8         0.3        3.1   \n",
       "4    Arizona       25.8               7.9          6.5        16.2        8.4   \n",
       "\n",
       "  Unnamed: 8  \n",
       "0    Unknown  \n",
       "1        NaN  \n",
       "2  (percent)  \n",
       "3          9  \n",
       "4        0.2  "
      ],
      "text/html": "<div>\n<style scoped>\n    .dataframe tbody tr th:only-of-type {\n        vertical-align: middle;\n    }\n\n    .dataframe tbody tr th {\n        vertical-align: top;\n    }\n\n    .dataframe thead th {\n        text-align: right;\n    }\n</style>\n<table border=\"1\" class=\"dataframe\">\n  <thead>\n    <tr style=\"text-align: right;\">\n      <th></th>\n      <th>Unnamed: 2</th>\n      <th>Varroa</th>\n      <th>Other pests</th>\n      <th>Unnamed: 5</th>\n      <th>Unnamed: 6</th>\n      <th>Unnamed: 7</th>\n      <th>Unnamed: 8</th>\n    </tr>\n  </thead>\n  <tbody>\n    <tr>\n      <th>0</th>\n      <td>State</td>\n      <td>mites</td>\n      <td>and parasites 1/</td>\n      <td>Diseases 2/</td>\n      <td>Pesticides</td>\n      <td>Other 3/</td>\n      <td>Unknown</td>\n    </tr>\n    <tr>\n      <th>1</th>\n      <td>NaN</td>\n      <td>NaN</td>\n      <td>NaN</td>\n      <td>NaN</td>\n      <td>NaN</td>\n      <td>NaN</td>\n      <td>NaN</td>\n    </tr>\n    <tr>\n      <th>2</th>\n      <td>NaN</td>\n      <td>(percent)</td>\n      <td>(percent)</td>\n      <td>(percent)</td>\n      <td>(percent)</td>\n      <td>(percent)</td>\n      <td>(percent)</td>\n    </tr>\n    <tr>\n      <th>3</th>\n      <td>Alabama</td>\n      <td>27.2</td>\n      <td>22.7</td>\n      <td>1.8</td>\n      <td>0.3</td>\n      <td>3.1</td>\n      <td>9</td>\n    </tr>\n    <tr>\n      <th>4</th>\n      <td>Arizona</td>\n      <td>25.8</td>\n      <td>7.9</td>\n      <td>6.5</td>\n      <td>16.2</td>\n      <td>8.4</td>\n      <td>0.2</td>\n    </tr>\n  </tbody>\n</table>\n</div>"
     },
     "metadata": {},
     "execution_count": 56
    }
   ],
   "source": [
    "## Drop erroneous first 2 columns\n",
    "hbcny_s_19q1.drop(hbcny_s_19q1.iloc[:, [0, 1]], axis = 1, inplace = True)\n",
    "\n",
    "## Drop erroneous last few rows\n",
    "#hbcny_s_19q1.drop(hbcny_s_19q1.index[57:63])\n",
    "hbcny_s_19q1.head()"
   ]
  },
  {
   "cell_type": "code",
   "execution_count": 57,
   "metadata": {},
   "outputs": [
    {
     "output_type": "execute_result",
     "data": {
      "text/plain": [
       "                                                state v_mites other_pest_para  \\\n",
       "3                                             Alabama    27.2            22.7   \n",
       "4                                             Arizona    25.8             7.9   \n",
       "5                                            Arkansas    19.5             1.5   \n",
       "6                                          California    43.5            13.4   \n",
       "7                                            Colorado    11.2             0.3   \n",
       "8                                         Connecticut    10.1             1.3   \n",
       "9                                             Florida    46.9            24.8   \n",
       "10                                            Georgia    69.6            17.8   \n",
       "11                                             Hawaii    72.1            64.9   \n",
       "12                                              Idaho    24.5               8   \n",
       "13                                                NaN     NaN             NaN   \n",
       "14                                           Illinois    33.3            14.7   \n",
       "15                                            Indiana    15.6             8.8   \n",
       "16                                               Iowa    34.8             1.7   \n",
       "17                                             Kansas    86.9             7.8   \n",
       "18                                           Kentucky    21.6            12.9   \n",
       "19                                          Louisiana    57.8             1.3   \n",
       "20                                              Maine     2.3             0.1   \n",
       "21                                           Maryland    12.6             5.1   \n",
       "22                                      Massachusetts    10.3               -   \n",
       "23                                           Michigan    18.2             5.8   \n",
       "24                                                NaN     NaN             NaN   \n",
       "25                                          Minnesota     1.3             0.2   \n",
       "26                                        Mississippi    14.6              71   \n",
       "27                                           Missouri     5.4             2.3   \n",
       "28                                            Montana    15.1             (Z)   \n",
       "29                                           Nebraska    32.3             1.3   \n",
       "30                                         New Jersey    15.3             4.4   \n",
       "31                                         New Mexico     3.5             1.1   \n",
       "32                                           New York    10.6             2.5   \n",
       "33                                     North Carolina    16.4               2   \n",
       "34                                       North Dakota     6.9               -   \n",
       "35                                                NaN     NaN             NaN   \n",
       "36                                               Ohio    49.3             9.9   \n",
       "37                                           Oklahoma     7.7             0.3   \n",
       "38                                             Oregon      18             0.1   \n",
       "39                                       Pennsylvania    15.3             4.6   \n",
       "40                                     South Carolina    18.5            14.5   \n",
       "41                                       South Dakota     0.8             (Z)   \n",
       "42                                          Tennessee    62.8            23.6   \n",
       "43                                              Texas    26.1             6.5   \n",
       "44                                               Utah    22.9               -   \n",
       "45                                            Vermont     6.2             0.1   \n",
       "46                                                NaN     NaN             NaN   \n",
       "47                                           Virginia    16.6            12.8   \n",
       "48                                         Washington    22.3             0.8   \n",
       "49                                      West Virginia    10.3             3.2   \n",
       "50                                          Wisconsin    15.9             3.2   \n",
       "51                                            Wyoming     0.7               -   \n",
       "52                                                NaN     NaN             NaN   \n",
       "53                                    Other States 4/     6.9             1.8   \n",
       "54                                                NaN     NaN             NaN   \n",
       "55                                      United States    45.6            14.8   \n",
       "56                                                NaN     NaN             NaN   \n",
       "57                                             #NAME?     NaN             NaN   \n",
       "58             (Z)  Less than half of the unit shown.     NaN             NaN   \n",
       "59  1/ Tracheal mites, nosema, hive beetle, wax mo...     NaN             NaN   \n",
       "60  2/ Includes American and European foulbrood, c...     NaN             NaN   \n",
       "61  3/ Includes weather, starvation, insufficient ...     NaN             NaN   \n",
       "62  4/ Includes data for States not published in t...     NaN             NaN   \n",
       "\n",
       "   diseases pesticides other unknown  \n",
       "3       1.8        0.3   3.1       9  \n",
       "4       6.5       16.2   8.4     0.2  \n",
       "5       3.3       55.3   0.7     2.9  \n",
       "6       6.4       12.3   8.7     5.6  \n",
       "7         -          -   2.5     0.6  \n",
       "8         -          -   3.6     1.7  \n",
       "9       5.5       22.9   7.4     5.5  \n",
       "10      7.4        9.6  10.6     4.9  \n",
       "11      0.1        0.7   2.9       -  \n",
       "12        8        9.2   8.6     (Z)  \n",
       "13      NaN        NaN   NaN     NaN  \n",
       "14      3.1        0.7  15.5    10.1  \n",
       "15      2.6        5.5   7.1     1.7  \n",
       "16      0.6        0.3   7.7     3.5  \n",
       "17      2.5       12.2  21.6       4  \n",
       "18      0.1        5.3  10.7     4.6  \n",
       "19      0.1        0.3     1     0.7  \n",
       "20        -          -   1.4     0.8  \n",
       "21      0.2        (Z)  10.1     2.4  \n",
       "22        -        4.3   6.3     0.9  \n",
       "23      1.5        0.2  12.2     0.7  \n",
       "24      NaN        NaN   NaN     NaN  \n",
       "25      1.9          -     2     0.8  \n",
       "26     64.8       48.4   1.9     5.5  \n",
       "27      1.9        0.5   5.4     3.2  \n",
       "28        -        0.8   0.8     1.1  \n",
       "29       32        0.8   2.2     0.1  \n",
       "30        -          -   3.5     0.6  \n",
       "31      0.6          -   1.4     0.3  \n",
       "32      1.7        1.7   7.7       9  \n",
       "33      0.2        0.7   2.2     3.4  \n",
       "34        -        6.5   0.4     1.3  \n",
       "35      NaN        NaN   NaN     NaN  \n",
       "36     11.1        1.1   6.7     3.1  \n",
       "37        -          -   (Z)     (Z)  \n",
       "38      0.2        0.2   2.7     0.5  \n",
       "39      3.7          4   7.5     9.5  \n",
       "40      (Z)        1.7  12.4       1  \n",
       "41        -        2.5   0.8     2.2  \n",
       "42      5.1        0.9   7.7     7.1  \n",
       "43      5.3        8.3   6.9       3  \n",
       "44      0.1          -   0.3     8.8  \n",
       "45      2.4          -   0.2     1.2  \n",
       "46      NaN        NaN   NaN     NaN  \n",
       "47      0.8        0.3   3.9     9.3  \n",
       "48      0.6        0.3   0.8     0.2  \n",
       "49      1.1        0.2     5     1.3  \n",
       "50      0.7        1.1  13.8       5  \n",
       "51      0.1          -   0.5     2.3  \n",
       "52      NaN        NaN   NaN     NaN  \n",
       "53      0.3          -   2.1     1.6  \n",
       "54      NaN        NaN   NaN     NaN  \n",
       "55      7.1       13.6     9     5.2  \n",
       "56      NaN        NaN   NaN     NaN  \n",
       "57      NaN        NaN   NaN     NaN  \n",
       "58      NaN        NaN   NaN     NaN  \n",
       "59      NaN        NaN   NaN     NaN  \n",
       "60      NaN        NaN   NaN     NaN  \n",
       "61      NaN        NaN   NaN     NaN  \n",
       "62      NaN        NaN   NaN     NaN  "
      ],
      "text/html": "<div>\n<style scoped>\n    .dataframe tbody tr th:only-of-type {\n        vertical-align: middle;\n    }\n\n    .dataframe tbody tr th {\n        vertical-align: top;\n    }\n\n    .dataframe thead th {\n        text-align: right;\n    }\n</style>\n<table border=\"1\" class=\"dataframe\">\n  <thead>\n    <tr style=\"text-align: right;\">\n      <th></th>\n      <th>state</th>\n      <th>v_mites</th>\n      <th>other_pest_para</th>\n      <th>diseases</th>\n      <th>pesticides</th>\n      <th>other</th>\n      <th>unknown</th>\n    </tr>\n  </thead>\n  <tbody>\n    <tr>\n      <th>3</th>\n      <td>Alabama</td>\n      <td>27.2</td>\n      <td>22.7</td>\n      <td>1.8</td>\n      <td>0.3</td>\n      <td>3.1</td>\n      <td>9</td>\n    </tr>\n    <tr>\n      <th>4</th>\n      <td>Arizona</td>\n      <td>25.8</td>\n      <td>7.9</td>\n      <td>6.5</td>\n      <td>16.2</td>\n      <td>8.4</td>\n      <td>0.2</td>\n    </tr>\n    <tr>\n      <th>5</th>\n      <td>Arkansas</td>\n      <td>19.5</td>\n      <td>1.5</td>\n      <td>3.3</td>\n      <td>55.3</td>\n      <td>0.7</td>\n      <td>2.9</td>\n    </tr>\n    <tr>\n      <th>6</th>\n      <td>California</td>\n      <td>43.5</td>\n      <td>13.4</td>\n      <td>6.4</td>\n      <td>12.3</td>\n      <td>8.7</td>\n      <td>5.6</td>\n    </tr>\n    <tr>\n      <th>7</th>\n      <td>Colorado</td>\n      <td>11.2</td>\n      <td>0.3</td>\n      <td>-</td>\n      <td>-</td>\n      <td>2.5</td>\n      <td>0.6</td>\n    </tr>\n    <tr>\n      <th>8</th>\n      <td>Connecticut</td>\n      <td>10.1</td>\n      <td>1.3</td>\n      <td>-</td>\n      <td>-</td>\n      <td>3.6</td>\n      <td>1.7</td>\n    </tr>\n    <tr>\n      <th>9</th>\n      <td>Florida</td>\n      <td>46.9</td>\n      <td>24.8</td>\n      <td>5.5</td>\n      <td>22.9</td>\n      <td>7.4</td>\n      <td>5.5</td>\n    </tr>\n    <tr>\n      <th>10</th>\n      <td>Georgia</td>\n      <td>69.6</td>\n      <td>17.8</td>\n      <td>7.4</td>\n      <td>9.6</td>\n      <td>10.6</td>\n      <td>4.9</td>\n    </tr>\n    <tr>\n      <th>11</th>\n      <td>Hawaii</td>\n      <td>72.1</td>\n      <td>64.9</td>\n      <td>0.1</td>\n      <td>0.7</td>\n      <td>2.9</td>\n      <td>-</td>\n    </tr>\n    <tr>\n      <th>12</th>\n      <td>Idaho</td>\n      <td>24.5</td>\n      <td>8</td>\n      <td>8</td>\n      <td>9.2</td>\n      <td>8.6</td>\n      <td>(Z)</td>\n    </tr>\n    <tr>\n      <th>13</th>\n      <td>NaN</td>\n      <td>NaN</td>\n      <td>NaN</td>\n      <td>NaN</td>\n      <td>NaN</td>\n      <td>NaN</td>\n      <td>NaN</td>\n    </tr>\n    <tr>\n      <th>14</th>\n      <td>Illinois</td>\n      <td>33.3</td>\n      <td>14.7</td>\n      <td>3.1</td>\n      <td>0.7</td>\n      <td>15.5</td>\n      <td>10.1</td>\n    </tr>\n    <tr>\n      <th>15</th>\n      <td>Indiana</td>\n      <td>15.6</td>\n      <td>8.8</td>\n      <td>2.6</td>\n      <td>5.5</td>\n      <td>7.1</td>\n      <td>1.7</td>\n    </tr>\n    <tr>\n      <th>16</th>\n      <td>Iowa</td>\n      <td>34.8</td>\n      <td>1.7</td>\n      <td>0.6</td>\n      <td>0.3</td>\n      <td>7.7</td>\n      <td>3.5</td>\n    </tr>\n    <tr>\n      <th>17</th>\n      <td>Kansas</td>\n      <td>86.9</td>\n      <td>7.8</td>\n      <td>2.5</td>\n      <td>12.2</td>\n      <td>21.6</td>\n      <td>4</td>\n    </tr>\n    <tr>\n      <th>18</th>\n      <td>Kentucky</td>\n      <td>21.6</td>\n      <td>12.9</td>\n      <td>0.1</td>\n      <td>5.3</td>\n      <td>10.7</td>\n      <td>4.6</td>\n    </tr>\n    <tr>\n      <th>19</th>\n      <td>Louisiana</td>\n      <td>57.8</td>\n      <td>1.3</td>\n      <td>0.1</td>\n      <td>0.3</td>\n      <td>1</td>\n      <td>0.7</td>\n    </tr>\n    <tr>\n      <th>20</th>\n      <td>Maine</td>\n      <td>2.3</td>\n      <td>0.1</td>\n      <td>-</td>\n      <td>-</td>\n      <td>1.4</td>\n      <td>0.8</td>\n    </tr>\n    <tr>\n      <th>21</th>\n      <td>Maryland</td>\n      <td>12.6</td>\n      <td>5.1</td>\n      <td>0.2</td>\n      <td>(Z)</td>\n      <td>10.1</td>\n      <td>2.4</td>\n    </tr>\n    <tr>\n      <th>22</th>\n      <td>Massachusetts</td>\n      <td>10.3</td>\n      <td>-</td>\n      <td>-</td>\n      <td>4.3</td>\n      <td>6.3</td>\n      <td>0.9</td>\n    </tr>\n    <tr>\n      <th>23</th>\n      <td>Michigan</td>\n      <td>18.2</td>\n      <td>5.8</td>\n      <td>1.5</td>\n      <td>0.2</td>\n      <td>12.2</td>\n      <td>0.7</td>\n    </tr>\n    <tr>\n      <th>24</th>\n      <td>NaN</td>\n      <td>NaN</td>\n      <td>NaN</td>\n      <td>NaN</td>\n      <td>NaN</td>\n      <td>NaN</td>\n      <td>NaN</td>\n    </tr>\n    <tr>\n      <th>25</th>\n      <td>Minnesota</td>\n      <td>1.3</td>\n      <td>0.2</td>\n      <td>1.9</td>\n      <td>-</td>\n      <td>2</td>\n      <td>0.8</td>\n    </tr>\n    <tr>\n      <th>26</th>\n      <td>Mississippi</td>\n      <td>14.6</td>\n      <td>71</td>\n      <td>64.8</td>\n      <td>48.4</td>\n      <td>1.9</td>\n      <td>5.5</td>\n    </tr>\n    <tr>\n      <th>27</th>\n      <td>Missouri</td>\n      <td>5.4</td>\n      <td>2.3</td>\n      <td>1.9</td>\n      <td>0.5</td>\n      <td>5.4</td>\n      <td>3.2</td>\n    </tr>\n    <tr>\n      <th>28</th>\n      <td>Montana</td>\n      <td>15.1</td>\n      <td>(Z)</td>\n      <td>-</td>\n      <td>0.8</td>\n      <td>0.8</td>\n      <td>1.1</td>\n    </tr>\n    <tr>\n      <th>29</th>\n      <td>Nebraska</td>\n      <td>32.3</td>\n      <td>1.3</td>\n      <td>32</td>\n      <td>0.8</td>\n      <td>2.2</td>\n      <td>0.1</td>\n    </tr>\n    <tr>\n      <th>30</th>\n      <td>New Jersey</td>\n      <td>15.3</td>\n      <td>4.4</td>\n      <td>-</td>\n      <td>-</td>\n      <td>3.5</td>\n      <td>0.6</td>\n    </tr>\n    <tr>\n      <th>31</th>\n      <td>New Mexico</td>\n      <td>3.5</td>\n      <td>1.1</td>\n      <td>0.6</td>\n      <td>-</td>\n      <td>1.4</td>\n      <td>0.3</td>\n    </tr>\n    <tr>\n      <th>32</th>\n      <td>New York</td>\n      <td>10.6</td>\n      <td>2.5</td>\n      <td>1.7</td>\n      <td>1.7</td>\n      <td>7.7</td>\n      <td>9</td>\n    </tr>\n    <tr>\n      <th>33</th>\n      <td>North Carolina</td>\n      <td>16.4</td>\n      <td>2</td>\n      <td>0.2</td>\n      <td>0.7</td>\n      <td>2.2</td>\n      <td>3.4</td>\n    </tr>\n    <tr>\n      <th>34</th>\n      <td>North Dakota</td>\n      <td>6.9</td>\n      <td>-</td>\n      <td>-</td>\n      <td>6.5</td>\n      <td>0.4</td>\n      <td>1.3</td>\n    </tr>\n    <tr>\n      <th>35</th>\n      <td>NaN</td>\n      <td>NaN</td>\n      <td>NaN</td>\n      <td>NaN</td>\n      <td>NaN</td>\n      <td>NaN</td>\n      <td>NaN</td>\n    </tr>\n    <tr>\n      <th>36</th>\n      <td>Ohio</td>\n      <td>49.3</td>\n      <td>9.9</td>\n      <td>11.1</td>\n      <td>1.1</td>\n      <td>6.7</td>\n      <td>3.1</td>\n    </tr>\n    <tr>\n      <th>37</th>\n      <td>Oklahoma</td>\n      <td>7.7</td>\n      <td>0.3</td>\n      <td>-</td>\n      <td>-</td>\n      <td>(Z)</td>\n      <td>(Z)</td>\n    </tr>\n    <tr>\n      <th>38</th>\n      <td>Oregon</td>\n      <td>18</td>\n      <td>0.1</td>\n      <td>0.2</td>\n      <td>0.2</td>\n      <td>2.7</td>\n      <td>0.5</td>\n    </tr>\n    <tr>\n      <th>39</th>\n      <td>Pennsylvania</td>\n      <td>15.3</td>\n      <td>4.6</td>\n      <td>3.7</td>\n      <td>4</td>\n      <td>7.5</td>\n      <td>9.5</td>\n    </tr>\n    <tr>\n      <th>40</th>\n      <td>South Carolina</td>\n      <td>18.5</td>\n      <td>14.5</td>\n      <td>(Z)</td>\n      <td>1.7</td>\n      <td>12.4</td>\n      <td>1</td>\n    </tr>\n    <tr>\n      <th>41</th>\n      <td>South Dakota</td>\n      <td>0.8</td>\n      <td>(Z)</td>\n      <td>-</td>\n      <td>2.5</td>\n      <td>0.8</td>\n      <td>2.2</td>\n    </tr>\n    <tr>\n      <th>42</th>\n      <td>Tennessee</td>\n      <td>62.8</td>\n      <td>23.6</td>\n      <td>5.1</td>\n      <td>0.9</td>\n      <td>7.7</td>\n      <td>7.1</td>\n    </tr>\n    <tr>\n      <th>43</th>\n      <td>Texas</td>\n      <td>26.1</td>\n      <td>6.5</td>\n      <td>5.3</td>\n      <td>8.3</td>\n      <td>6.9</td>\n      <td>3</td>\n    </tr>\n    <tr>\n      <th>44</th>\n      <td>Utah</td>\n      <td>22.9</td>\n      <td>-</td>\n      <td>0.1</td>\n      <td>-</td>\n      <td>0.3</td>\n      <td>8.8</td>\n    </tr>\n    <tr>\n      <th>45</th>\n      <td>Vermont</td>\n      <td>6.2</td>\n      <td>0.1</td>\n      <td>2.4</td>\n      <td>-</td>\n      <td>0.2</td>\n      <td>1.2</td>\n    </tr>\n    <tr>\n      <th>46</th>\n      <td>NaN</td>\n      <td>NaN</td>\n      <td>NaN</td>\n      <td>NaN</td>\n      <td>NaN</td>\n      <td>NaN</td>\n      <td>NaN</td>\n    </tr>\n    <tr>\n      <th>47</th>\n      <td>Virginia</td>\n      <td>16.6</td>\n      <td>12.8</td>\n      <td>0.8</td>\n      <td>0.3</td>\n      <td>3.9</td>\n      <td>9.3</td>\n    </tr>\n    <tr>\n      <th>48</th>\n      <td>Washington</td>\n      <td>22.3</td>\n      <td>0.8</td>\n      <td>0.6</td>\n      <td>0.3</td>\n      <td>0.8</td>\n      <td>0.2</td>\n    </tr>\n    <tr>\n      <th>49</th>\n      <td>West Virginia</td>\n      <td>10.3</td>\n      <td>3.2</td>\n      <td>1.1</td>\n      <td>0.2</td>\n      <td>5</td>\n      <td>1.3</td>\n    </tr>\n    <tr>\n      <th>50</th>\n      <td>Wisconsin</td>\n      <td>15.9</td>\n      <td>3.2</td>\n      <td>0.7</td>\n      <td>1.1</td>\n      <td>13.8</td>\n      <td>5</td>\n    </tr>\n    <tr>\n      <th>51</th>\n      <td>Wyoming</td>\n      <td>0.7</td>\n      <td>-</td>\n      <td>0.1</td>\n      <td>-</td>\n      <td>0.5</td>\n      <td>2.3</td>\n    </tr>\n    <tr>\n      <th>52</th>\n      <td>NaN</td>\n      <td>NaN</td>\n      <td>NaN</td>\n      <td>NaN</td>\n      <td>NaN</td>\n      <td>NaN</td>\n      <td>NaN</td>\n    </tr>\n    <tr>\n      <th>53</th>\n      <td>Other States 4/</td>\n      <td>6.9</td>\n      <td>1.8</td>\n      <td>0.3</td>\n      <td>-</td>\n      <td>2.1</td>\n      <td>1.6</td>\n    </tr>\n    <tr>\n      <th>54</th>\n      <td>NaN</td>\n      <td>NaN</td>\n      <td>NaN</td>\n      <td>NaN</td>\n      <td>NaN</td>\n      <td>NaN</td>\n      <td>NaN</td>\n    </tr>\n    <tr>\n      <th>55</th>\n      <td>United States</td>\n      <td>45.6</td>\n      <td>14.8</td>\n      <td>7.1</td>\n      <td>13.6</td>\n      <td>9</td>\n      <td>5.2</td>\n    </tr>\n    <tr>\n      <th>56</th>\n      <td>NaN</td>\n      <td>NaN</td>\n      <td>NaN</td>\n      <td>NaN</td>\n      <td>NaN</td>\n      <td>NaN</td>\n      <td>NaN</td>\n    </tr>\n    <tr>\n      <th>57</th>\n      <td>#NAME?</td>\n      <td>NaN</td>\n      <td>NaN</td>\n      <td>NaN</td>\n      <td>NaN</td>\n      <td>NaN</td>\n      <td>NaN</td>\n    </tr>\n    <tr>\n      <th>58</th>\n      <td>(Z)  Less than half of the unit shown.</td>\n      <td>NaN</td>\n      <td>NaN</td>\n      <td>NaN</td>\n      <td>NaN</td>\n      <td>NaN</td>\n      <td>NaN</td>\n    </tr>\n    <tr>\n      <th>59</th>\n      <td>1/ Tracheal mites, nosema, hive beetle, wax mo...</td>\n      <td>NaN</td>\n      <td>NaN</td>\n      <td>NaN</td>\n      <td>NaN</td>\n      <td>NaN</td>\n      <td>NaN</td>\n    </tr>\n    <tr>\n      <th>60</th>\n      <td>2/ Includes American and European foulbrood, c...</td>\n      <td>NaN</td>\n      <td>NaN</td>\n      <td>NaN</td>\n      <td>NaN</td>\n      <td>NaN</td>\n      <td>NaN</td>\n    </tr>\n    <tr>\n      <th>61</th>\n      <td>3/ Includes weather, starvation, insufficient ...</td>\n      <td>NaN</td>\n      <td>NaN</td>\n      <td>NaN</td>\n      <td>NaN</td>\n      <td>NaN</td>\n      <td>NaN</td>\n    </tr>\n    <tr>\n      <th>62</th>\n      <td>4/ Includes data for States not published in t...</td>\n      <td>NaN</td>\n      <td>NaN</td>\n      <td>NaN</td>\n      <td>NaN</td>\n      <td>NaN</td>\n      <td>NaN</td>\n    </tr>\n  </tbody>\n</table>\n</div>"
     },
     "metadata": {},
     "execution_count": 57
    }
   ],
   "source": [
    "## Rename column with Row [0] text and then drop Rows [0-3]\n",
    "\n",
    "hbcny_s_19q1 = hbcny_s_19q1.rename(columns={\n",
    "    \"Unnamed: 2\": \"state\",\n",
    "    \"Varroa\": \"v_mites\",\n",
    "    \"Other pests\": \"other_pest_para\",\n",
    "    \"Unnamed: 5\": \"diseases\",\n",
    "    \"Unnamed: 6\": \"pesticides\",\n",
    "    \"Unnamed: 7\": \"other\",\n",
    "    \"Unnamed: 8\": \"unknown\"})\n",
    "\n",
    "hbcny_s_19q1 = hbcny_s_19q1.drop(range(3))\n",
    "\n",
    "hbcny_s_19q1"
   ]
  },
  {
   "cell_type": "code",
   "execution_count": 58,
   "metadata": {},
   "outputs": [
    {
     "output_type": "execute_result",
     "data": {
      "text/plain": [
       "              state v_mites other_pest_para diseases pesticides other unknown\n",
       "49    West Virginia    10.3             3.2      1.1        0.2     5     1.3\n",
       "50        Wisconsin    15.9             3.2      0.7        1.1  13.8       5\n",
       "51          Wyoming     0.7               -      0.1          -   0.5     2.3\n",
       "53  Other States 4/     6.9             1.8      0.3          -   2.1     1.6\n",
       "55    United States    45.6            14.8      7.1       13.6     9     5.2"
      ],
      "text/html": "<div>\n<style scoped>\n    .dataframe tbody tr th:only-of-type {\n        vertical-align: middle;\n    }\n\n    .dataframe tbody tr th {\n        vertical-align: top;\n    }\n\n    .dataframe thead th {\n        text-align: right;\n    }\n</style>\n<table border=\"1\" class=\"dataframe\">\n  <thead>\n    <tr style=\"text-align: right;\">\n      <th></th>\n      <th>state</th>\n      <th>v_mites</th>\n      <th>other_pest_para</th>\n      <th>diseases</th>\n      <th>pesticides</th>\n      <th>other</th>\n      <th>unknown</th>\n    </tr>\n  </thead>\n  <tbody>\n    <tr>\n      <th>49</th>\n      <td>West Virginia</td>\n      <td>10.3</td>\n      <td>3.2</td>\n      <td>1.1</td>\n      <td>0.2</td>\n      <td>5</td>\n      <td>1.3</td>\n    </tr>\n    <tr>\n      <th>50</th>\n      <td>Wisconsin</td>\n      <td>15.9</td>\n      <td>3.2</td>\n      <td>0.7</td>\n      <td>1.1</td>\n      <td>13.8</td>\n      <td>5</td>\n    </tr>\n    <tr>\n      <th>51</th>\n      <td>Wyoming</td>\n      <td>0.7</td>\n      <td>-</td>\n      <td>0.1</td>\n      <td>-</td>\n      <td>0.5</td>\n      <td>2.3</td>\n    </tr>\n    <tr>\n      <th>53</th>\n      <td>Other States 4/</td>\n      <td>6.9</td>\n      <td>1.8</td>\n      <td>0.3</td>\n      <td>-</td>\n      <td>2.1</td>\n      <td>1.6</td>\n    </tr>\n    <tr>\n      <th>55</th>\n      <td>United States</td>\n      <td>45.6</td>\n      <td>14.8</td>\n      <td>7.1</td>\n      <td>13.6</td>\n      <td>9</td>\n      <td>5.2</td>\n    </tr>\n  </tbody>\n</table>\n</div>"
     },
     "metadata": {},
     "execution_count": 58
    }
   ],
   "source": [
    "## Drop blank rows\n",
    "hbcny_s_19q1 = hbcny_s_19q1.dropna()\n",
    "hbcny_s_19q1.tail()"
   ]
  },
  {
   "cell_type": "code",
   "execution_count": 59,
   "metadata": {},
   "outputs": [
    {
     "output_type": "stream",
     "name": "stderr",
     "text": [
      "C:\\Users\\Daniel Ramirez\\anaconda3\\lib\\site-packages\\pandas\\core\\indexing.py:670: SettingWithCopyWarning: \nA value is trying to be set on a copy of a slice from a DataFrame\n\nSee the caveats in the documentation: https://pandas.pydata.org/pandas-docs/stable/user_guide/indexing.html#returning-a-view-versus-a-copy\n  iloc._setitem_with_indexer(indexer, value)\n<ipython-input-59-ccfeda6ab357>:2: SettingWithCopyWarning: \nA value is trying to be set on a copy of a slice from a DataFrame\n\nSee the caveats in the documentation: https://pandas.pydata.org/pandas-docs/stable/user_guide/indexing.html#returning-a-view-versus-a-copy\n  hbcny_s_19q1.loc[53, \"state\"] = \"Other States\"\n"
     ]
    },
    {
     "output_type": "execute_result",
     "data": {
      "text/plain": [
       "            state v_mites other_pest_para diseases pesticides other unknown\n",
       "49  West Virginia    10.3             3.2      1.1        0.2     5     1.3\n",
       "50      Wisconsin    15.9             3.2      0.7        1.1  13.8       5\n",
       "51        Wyoming     0.7               -      0.1          -   0.5     2.3\n",
       "53   Other States     6.9             1.8      0.3          -   2.1     1.6\n",
       "55  United States    45.6            14.8      7.1       13.6     9     5.2"
      ],
      "text/html": "<div>\n<style scoped>\n    .dataframe tbody tr th:only-of-type {\n        vertical-align: middle;\n    }\n\n    .dataframe tbody tr th {\n        vertical-align: top;\n    }\n\n    .dataframe thead th {\n        text-align: right;\n    }\n</style>\n<table border=\"1\" class=\"dataframe\">\n  <thead>\n    <tr style=\"text-align: right;\">\n      <th></th>\n      <th>state</th>\n      <th>v_mites</th>\n      <th>other_pest_para</th>\n      <th>diseases</th>\n      <th>pesticides</th>\n      <th>other</th>\n      <th>unknown</th>\n    </tr>\n  </thead>\n  <tbody>\n    <tr>\n      <th>49</th>\n      <td>West Virginia</td>\n      <td>10.3</td>\n      <td>3.2</td>\n      <td>1.1</td>\n      <td>0.2</td>\n      <td>5</td>\n      <td>1.3</td>\n    </tr>\n    <tr>\n      <th>50</th>\n      <td>Wisconsin</td>\n      <td>15.9</td>\n      <td>3.2</td>\n      <td>0.7</td>\n      <td>1.1</td>\n      <td>13.8</td>\n      <td>5</td>\n    </tr>\n    <tr>\n      <th>51</th>\n      <td>Wyoming</td>\n      <td>0.7</td>\n      <td>-</td>\n      <td>0.1</td>\n      <td>-</td>\n      <td>0.5</td>\n      <td>2.3</td>\n    </tr>\n    <tr>\n      <th>53</th>\n      <td>Other States</td>\n      <td>6.9</td>\n      <td>1.8</td>\n      <td>0.3</td>\n      <td>-</td>\n      <td>2.1</td>\n      <td>1.6</td>\n    </tr>\n    <tr>\n      <th>55</th>\n      <td>United States</td>\n      <td>45.6</td>\n      <td>14.8</td>\n      <td>7.1</td>\n      <td>13.6</td>\n      <td>9</td>\n      <td>5.2</td>\n    </tr>\n  </tbody>\n</table>\n</div>"
     },
     "metadata": {},
     "execution_count": 59
    }
   ],
   "source": [
    "## Rename cell \n",
    "hbcny_s_19q1.loc[53, \"state\"] = \"Other States\"\n",
    "hbcny_s_19q1.tail()"
   ]
  },
  {
   "cell_type": "code",
   "execution_count": 60,
   "metadata": {},
   "outputs": [
    {
     "output_type": "execute_result",
     "data": {
      "text/plain": [
       "            state v_mites other_pest_para diseases pesticides other unknown\n",
       "49  West Virginia    10.3             3.2      1.1        0.2     5     1.3\n",
       "50      Wisconsin    15.9             3.2      0.7        1.1  13.8       5\n",
       "51        Wyoming     0.7               -      0.1          -   0.5     2.3\n",
       "53   Other States     6.9             1.8      0.3          -   2.1     1.6\n",
       "55  United States    45.6            14.8      7.1       13.6     9     5.2"
      ],
      "text/html": "<div>\n<style scoped>\n    .dataframe tbody tr th:only-of-type {\n        vertical-align: middle;\n    }\n\n    .dataframe tbody tr th {\n        vertical-align: top;\n    }\n\n    .dataframe thead th {\n        text-align: right;\n    }\n</style>\n<table border=\"1\" class=\"dataframe\">\n  <thead>\n    <tr style=\"text-align: right;\">\n      <th></th>\n      <th>state</th>\n      <th>v_mites</th>\n      <th>other_pest_para</th>\n      <th>diseases</th>\n      <th>pesticides</th>\n      <th>other</th>\n      <th>unknown</th>\n    </tr>\n  </thead>\n  <tbody>\n    <tr>\n      <th>49</th>\n      <td>West Virginia</td>\n      <td>10.3</td>\n      <td>3.2</td>\n      <td>1.1</td>\n      <td>0.2</td>\n      <td>5</td>\n      <td>1.3</td>\n    </tr>\n    <tr>\n      <th>50</th>\n      <td>Wisconsin</td>\n      <td>15.9</td>\n      <td>3.2</td>\n      <td>0.7</td>\n      <td>1.1</td>\n      <td>13.8</td>\n      <td>5</td>\n    </tr>\n    <tr>\n      <th>51</th>\n      <td>Wyoming</td>\n      <td>0.7</td>\n      <td>-</td>\n      <td>0.1</td>\n      <td>-</td>\n      <td>0.5</td>\n      <td>2.3</td>\n    </tr>\n    <tr>\n      <th>53</th>\n      <td>Other States</td>\n      <td>6.9</td>\n      <td>1.8</td>\n      <td>0.3</td>\n      <td>-</td>\n      <td>2.1</td>\n      <td>1.6</td>\n    </tr>\n    <tr>\n      <th>55</th>\n      <td>United States</td>\n      <td>45.6</td>\n      <td>14.8</td>\n      <td>7.1</td>\n      <td>13.6</td>\n      <td>9</td>\n      <td>5.2</td>\n    </tr>\n  </tbody>\n</table>\n</div>"
     },
     "metadata": {},
     "execution_count": 60
    }
   ],
   "source": [
    "## (Z) defined as:\n",
    "## Less than half of the unit shown (or negligible)\n",
    "## Replace (Z) values with zero\n",
    "hbcny_s_19q1 = hbcny_s_19q1.replace(\"(Z)\", 0)\n",
    "hbcny_s_19q1.tail()"
   ]
  },
  {
   "cell_type": "code",
   "execution_count": 61,
   "metadata": {},
   "outputs": [
    {
     "output_type": "execute_result",
     "data": {
      "text/plain": [
       "             state v_mites other_pest_para diseases pesticides other unknown\n",
       "3          Alabama    27.2            22.7      1.8        0.3   3.1       9\n",
       "4          Arizona    25.8             7.9      6.5       16.2   8.4     0.2\n",
       "5         Arkansas    19.5             1.5      3.3       55.3   0.7     2.9\n",
       "6       California    43.5            13.4      6.4       12.3   8.7     5.6\n",
       "7         Colorado    11.2             0.3     None       None   2.5     0.6\n",
       "8      Connecticut    10.1             1.3     None       None   3.6     1.7\n",
       "9          Florida    46.9            24.8      5.5       22.9   7.4     5.5\n",
       "10         Georgia    69.6            17.8      7.4        9.6  10.6     4.9\n",
       "11          Hawaii    72.1            64.9      0.1        0.7   2.9    None\n",
       "12           Idaho    24.5               8        8        9.2   8.6       0\n",
       "14        Illinois    33.3            14.7      3.1        0.7  15.5    10.1\n",
       "15         Indiana    15.6             8.8      2.6        5.5   7.1     1.7\n",
       "16            Iowa    34.8             1.7      0.6        0.3   7.7     3.5\n",
       "17          Kansas    86.9             7.8      2.5       12.2  21.6       4\n",
       "18        Kentucky    21.6            12.9      0.1        5.3  10.7     4.6\n",
       "19       Louisiana    57.8             1.3      0.1        0.3     1     0.7\n",
       "20           Maine     2.3             0.1     None       None   1.4     0.8\n",
       "21        Maryland    12.6             5.1      0.2          0  10.1     2.4\n",
       "22   Massachusetts    10.3            None     None        4.3   6.3     0.9\n",
       "23        Michigan    18.2             5.8      1.5        0.2  12.2     0.7\n",
       "25       Minnesota     1.3             0.2      1.9       None     2     0.8\n",
       "26     Mississippi    14.6              71     64.8       48.4   1.9     5.5\n",
       "27        Missouri     5.4             2.3      1.9        0.5   5.4     3.2\n",
       "28         Montana    15.1               0     None        0.8   0.8     1.1\n",
       "29        Nebraska    32.3             1.3       32        0.8   2.2     0.1\n",
       "30      New Jersey    15.3             4.4     None       None   3.5     0.6\n",
       "31      New Mexico     3.5             1.1      0.6       None   1.4     0.3\n",
       "32        New York    10.6             2.5      1.7        1.7   7.7       9\n",
       "33  North Carolina    16.4               2      0.2        0.7   2.2     3.4\n",
       "34    North Dakota     6.9            None     None        6.5   0.4     1.3\n",
       "36            Ohio    49.3             9.9     11.1        1.1   6.7     3.1\n",
       "37        Oklahoma     7.7             0.3     None       None     0       0\n",
       "38          Oregon      18             0.1      0.2        0.2   2.7     0.5\n",
       "39    Pennsylvania    15.3             4.6      3.7          4   7.5     9.5\n",
       "40  South Carolina    18.5            14.5        0        1.7  12.4       1\n",
       "41    South Dakota     0.8               0     None        2.5   0.8     2.2\n",
       "42       Tennessee    62.8            23.6      5.1        0.9   7.7     7.1\n",
       "43           Texas    26.1             6.5      5.3        8.3   6.9       3\n",
       "44            Utah    22.9            None      0.1       None   0.3     8.8\n",
       "45         Vermont     6.2             0.1      2.4       None   0.2     1.2\n",
       "47        Virginia    16.6            12.8      0.8        0.3   3.9     9.3\n",
       "48      Washington    22.3             0.8      0.6        0.3   0.8     0.2\n",
       "49   West Virginia    10.3             3.2      1.1        0.2     5     1.3\n",
       "50       Wisconsin    15.9             3.2      0.7        1.1  13.8       5\n",
       "51         Wyoming     0.7            None      0.1       None   0.5     2.3\n",
       "53    Other States     6.9             1.8      0.3       None   2.1     1.6\n",
       "55   United States    45.6            14.8      7.1       13.6     9     5.2"
      ],
      "text/html": "<div>\n<style scoped>\n    .dataframe tbody tr th:only-of-type {\n        vertical-align: middle;\n    }\n\n    .dataframe tbody tr th {\n        vertical-align: top;\n    }\n\n    .dataframe thead th {\n        text-align: right;\n    }\n</style>\n<table border=\"1\" class=\"dataframe\">\n  <thead>\n    <tr style=\"text-align: right;\">\n      <th></th>\n      <th>state</th>\n      <th>v_mites</th>\n      <th>other_pest_para</th>\n      <th>diseases</th>\n      <th>pesticides</th>\n      <th>other</th>\n      <th>unknown</th>\n    </tr>\n  </thead>\n  <tbody>\n    <tr>\n      <th>3</th>\n      <td>Alabama</td>\n      <td>27.2</td>\n      <td>22.7</td>\n      <td>1.8</td>\n      <td>0.3</td>\n      <td>3.1</td>\n      <td>9</td>\n    </tr>\n    <tr>\n      <th>4</th>\n      <td>Arizona</td>\n      <td>25.8</td>\n      <td>7.9</td>\n      <td>6.5</td>\n      <td>16.2</td>\n      <td>8.4</td>\n      <td>0.2</td>\n    </tr>\n    <tr>\n      <th>5</th>\n      <td>Arkansas</td>\n      <td>19.5</td>\n      <td>1.5</td>\n      <td>3.3</td>\n      <td>55.3</td>\n      <td>0.7</td>\n      <td>2.9</td>\n    </tr>\n    <tr>\n      <th>6</th>\n      <td>California</td>\n      <td>43.5</td>\n      <td>13.4</td>\n      <td>6.4</td>\n      <td>12.3</td>\n      <td>8.7</td>\n      <td>5.6</td>\n    </tr>\n    <tr>\n      <th>7</th>\n      <td>Colorado</td>\n      <td>11.2</td>\n      <td>0.3</td>\n      <td>None</td>\n      <td>None</td>\n      <td>2.5</td>\n      <td>0.6</td>\n    </tr>\n    <tr>\n      <th>8</th>\n      <td>Connecticut</td>\n      <td>10.1</td>\n      <td>1.3</td>\n      <td>None</td>\n      <td>None</td>\n      <td>3.6</td>\n      <td>1.7</td>\n    </tr>\n    <tr>\n      <th>9</th>\n      <td>Florida</td>\n      <td>46.9</td>\n      <td>24.8</td>\n      <td>5.5</td>\n      <td>22.9</td>\n      <td>7.4</td>\n      <td>5.5</td>\n    </tr>\n    <tr>\n      <th>10</th>\n      <td>Georgia</td>\n      <td>69.6</td>\n      <td>17.8</td>\n      <td>7.4</td>\n      <td>9.6</td>\n      <td>10.6</td>\n      <td>4.9</td>\n    </tr>\n    <tr>\n      <th>11</th>\n      <td>Hawaii</td>\n      <td>72.1</td>\n      <td>64.9</td>\n      <td>0.1</td>\n      <td>0.7</td>\n      <td>2.9</td>\n      <td>None</td>\n    </tr>\n    <tr>\n      <th>12</th>\n      <td>Idaho</td>\n      <td>24.5</td>\n      <td>8</td>\n      <td>8</td>\n      <td>9.2</td>\n      <td>8.6</td>\n      <td>0</td>\n    </tr>\n    <tr>\n      <th>14</th>\n      <td>Illinois</td>\n      <td>33.3</td>\n      <td>14.7</td>\n      <td>3.1</td>\n      <td>0.7</td>\n      <td>15.5</td>\n      <td>10.1</td>\n    </tr>\n    <tr>\n      <th>15</th>\n      <td>Indiana</td>\n      <td>15.6</td>\n      <td>8.8</td>\n      <td>2.6</td>\n      <td>5.5</td>\n      <td>7.1</td>\n      <td>1.7</td>\n    </tr>\n    <tr>\n      <th>16</th>\n      <td>Iowa</td>\n      <td>34.8</td>\n      <td>1.7</td>\n      <td>0.6</td>\n      <td>0.3</td>\n      <td>7.7</td>\n      <td>3.5</td>\n    </tr>\n    <tr>\n      <th>17</th>\n      <td>Kansas</td>\n      <td>86.9</td>\n      <td>7.8</td>\n      <td>2.5</td>\n      <td>12.2</td>\n      <td>21.6</td>\n      <td>4</td>\n    </tr>\n    <tr>\n      <th>18</th>\n      <td>Kentucky</td>\n      <td>21.6</td>\n      <td>12.9</td>\n      <td>0.1</td>\n      <td>5.3</td>\n      <td>10.7</td>\n      <td>4.6</td>\n    </tr>\n    <tr>\n      <th>19</th>\n      <td>Louisiana</td>\n      <td>57.8</td>\n      <td>1.3</td>\n      <td>0.1</td>\n      <td>0.3</td>\n      <td>1</td>\n      <td>0.7</td>\n    </tr>\n    <tr>\n      <th>20</th>\n      <td>Maine</td>\n      <td>2.3</td>\n      <td>0.1</td>\n      <td>None</td>\n      <td>None</td>\n      <td>1.4</td>\n      <td>0.8</td>\n    </tr>\n    <tr>\n      <th>21</th>\n      <td>Maryland</td>\n      <td>12.6</td>\n      <td>5.1</td>\n      <td>0.2</td>\n      <td>0</td>\n      <td>10.1</td>\n      <td>2.4</td>\n    </tr>\n    <tr>\n      <th>22</th>\n      <td>Massachusetts</td>\n      <td>10.3</td>\n      <td>None</td>\n      <td>None</td>\n      <td>4.3</td>\n      <td>6.3</td>\n      <td>0.9</td>\n    </tr>\n    <tr>\n      <th>23</th>\n      <td>Michigan</td>\n      <td>18.2</td>\n      <td>5.8</td>\n      <td>1.5</td>\n      <td>0.2</td>\n      <td>12.2</td>\n      <td>0.7</td>\n    </tr>\n    <tr>\n      <th>25</th>\n      <td>Minnesota</td>\n      <td>1.3</td>\n      <td>0.2</td>\n      <td>1.9</td>\n      <td>None</td>\n      <td>2</td>\n      <td>0.8</td>\n    </tr>\n    <tr>\n      <th>26</th>\n      <td>Mississippi</td>\n      <td>14.6</td>\n      <td>71</td>\n      <td>64.8</td>\n      <td>48.4</td>\n      <td>1.9</td>\n      <td>5.5</td>\n    </tr>\n    <tr>\n      <th>27</th>\n      <td>Missouri</td>\n      <td>5.4</td>\n      <td>2.3</td>\n      <td>1.9</td>\n      <td>0.5</td>\n      <td>5.4</td>\n      <td>3.2</td>\n    </tr>\n    <tr>\n      <th>28</th>\n      <td>Montana</td>\n      <td>15.1</td>\n      <td>0</td>\n      <td>None</td>\n      <td>0.8</td>\n      <td>0.8</td>\n      <td>1.1</td>\n    </tr>\n    <tr>\n      <th>29</th>\n      <td>Nebraska</td>\n      <td>32.3</td>\n      <td>1.3</td>\n      <td>32</td>\n      <td>0.8</td>\n      <td>2.2</td>\n      <td>0.1</td>\n    </tr>\n    <tr>\n      <th>30</th>\n      <td>New Jersey</td>\n      <td>15.3</td>\n      <td>4.4</td>\n      <td>None</td>\n      <td>None</td>\n      <td>3.5</td>\n      <td>0.6</td>\n    </tr>\n    <tr>\n      <th>31</th>\n      <td>New Mexico</td>\n      <td>3.5</td>\n      <td>1.1</td>\n      <td>0.6</td>\n      <td>None</td>\n      <td>1.4</td>\n      <td>0.3</td>\n    </tr>\n    <tr>\n      <th>32</th>\n      <td>New York</td>\n      <td>10.6</td>\n      <td>2.5</td>\n      <td>1.7</td>\n      <td>1.7</td>\n      <td>7.7</td>\n      <td>9</td>\n    </tr>\n    <tr>\n      <th>33</th>\n      <td>North Carolina</td>\n      <td>16.4</td>\n      <td>2</td>\n      <td>0.2</td>\n      <td>0.7</td>\n      <td>2.2</td>\n      <td>3.4</td>\n    </tr>\n    <tr>\n      <th>34</th>\n      <td>North Dakota</td>\n      <td>6.9</td>\n      <td>None</td>\n      <td>None</td>\n      <td>6.5</td>\n      <td>0.4</td>\n      <td>1.3</td>\n    </tr>\n    <tr>\n      <th>36</th>\n      <td>Ohio</td>\n      <td>49.3</td>\n      <td>9.9</td>\n      <td>11.1</td>\n      <td>1.1</td>\n      <td>6.7</td>\n      <td>3.1</td>\n    </tr>\n    <tr>\n      <th>37</th>\n      <td>Oklahoma</td>\n      <td>7.7</td>\n      <td>0.3</td>\n      <td>None</td>\n      <td>None</td>\n      <td>0</td>\n      <td>0</td>\n    </tr>\n    <tr>\n      <th>38</th>\n      <td>Oregon</td>\n      <td>18</td>\n      <td>0.1</td>\n      <td>0.2</td>\n      <td>0.2</td>\n      <td>2.7</td>\n      <td>0.5</td>\n    </tr>\n    <tr>\n      <th>39</th>\n      <td>Pennsylvania</td>\n      <td>15.3</td>\n      <td>4.6</td>\n      <td>3.7</td>\n      <td>4</td>\n      <td>7.5</td>\n      <td>9.5</td>\n    </tr>\n    <tr>\n      <th>40</th>\n      <td>South Carolina</td>\n      <td>18.5</td>\n      <td>14.5</td>\n      <td>0</td>\n      <td>1.7</td>\n      <td>12.4</td>\n      <td>1</td>\n    </tr>\n    <tr>\n      <th>41</th>\n      <td>South Dakota</td>\n      <td>0.8</td>\n      <td>0</td>\n      <td>None</td>\n      <td>2.5</td>\n      <td>0.8</td>\n      <td>2.2</td>\n    </tr>\n    <tr>\n      <th>42</th>\n      <td>Tennessee</td>\n      <td>62.8</td>\n      <td>23.6</td>\n      <td>5.1</td>\n      <td>0.9</td>\n      <td>7.7</td>\n      <td>7.1</td>\n    </tr>\n    <tr>\n      <th>43</th>\n      <td>Texas</td>\n      <td>26.1</td>\n      <td>6.5</td>\n      <td>5.3</td>\n      <td>8.3</td>\n      <td>6.9</td>\n      <td>3</td>\n    </tr>\n    <tr>\n      <th>44</th>\n      <td>Utah</td>\n      <td>22.9</td>\n      <td>None</td>\n      <td>0.1</td>\n      <td>None</td>\n      <td>0.3</td>\n      <td>8.8</td>\n    </tr>\n    <tr>\n      <th>45</th>\n      <td>Vermont</td>\n      <td>6.2</td>\n      <td>0.1</td>\n      <td>2.4</td>\n      <td>None</td>\n      <td>0.2</td>\n      <td>1.2</td>\n    </tr>\n    <tr>\n      <th>47</th>\n      <td>Virginia</td>\n      <td>16.6</td>\n      <td>12.8</td>\n      <td>0.8</td>\n      <td>0.3</td>\n      <td>3.9</td>\n      <td>9.3</td>\n    </tr>\n    <tr>\n      <th>48</th>\n      <td>Washington</td>\n      <td>22.3</td>\n      <td>0.8</td>\n      <td>0.6</td>\n      <td>0.3</td>\n      <td>0.8</td>\n      <td>0.2</td>\n    </tr>\n    <tr>\n      <th>49</th>\n      <td>West Virginia</td>\n      <td>10.3</td>\n      <td>3.2</td>\n      <td>1.1</td>\n      <td>0.2</td>\n      <td>5</td>\n      <td>1.3</td>\n    </tr>\n    <tr>\n      <th>50</th>\n      <td>Wisconsin</td>\n      <td>15.9</td>\n      <td>3.2</td>\n      <td>0.7</td>\n      <td>1.1</td>\n      <td>13.8</td>\n      <td>5</td>\n    </tr>\n    <tr>\n      <th>51</th>\n      <td>Wyoming</td>\n      <td>0.7</td>\n      <td>None</td>\n      <td>0.1</td>\n      <td>None</td>\n      <td>0.5</td>\n      <td>2.3</td>\n    </tr>\n    <tr>\n      <th>53</th>\n      <td>Other States</td>\n      <td>6.9</td>\n      <td>1.8</td>\n      <td>0.3</td>\n      <td>None</td>\n      <td>2.1</td>\n      <td>1.6</td>\n    </tr>\n    <tr>\n      <th>55</th>\n      <td>United States</td>\n      <td>45.6</td>\n      <td>14.8</td>\n      <td>7.1</td>\n      <td>13.6</td>\n      <td>9</td>\n      <td>5.2</td>\n    </tr>\n  </tbody>\n</table>\n</div>"
     },
     "metadata": {},
     "execution_count": 61
    }
   ],
   "source": [
    "## (X) defined as: N/A\n",
    "## Assume \"-\" equals None\n",
    "## Replace \"-\" and (X) values with None\n",
    "hbcny_s_19q1 = hbcny_s_19q1.replace({'-': None})\n",
    "hbcny_s_19q1 = hbcny_s_19q1.replace({'(X)': None})\n",
    "hbcny_s_19q1"
   ]
  },
  {
   "cell_type": "code",
   "execution_count": 62,
   "metadata": {},
   "outputs": [
    {
     "output_type": "execute_result",
     "data": {
      "text/plain": [
       "             state v_mites other_pest_para diseases pesticides other unknown\n",
       "0          Alabama    27.2            22.7      1.8        0.3   3.1       9\n",
       "1          Arizona    25.8             7.9      6.5       16.2   8.4     0.2\n",
       "2         Arkansas    19.5             1.5      3.3       55.3   0.7     2.9\n",
       "3       California    43.5            13.4      6.4       12.3   8.7     5.6\n",
       "4         Colorado    11.2             0.3     None       None   2.5     0.6\n",
       "5      Connecticut    10.1             1.3     None       None   3.6     1.7\n",
       "6          Florida    46.9            24.8      5.5       22.9   7.4     5.5\n",
       "7          Georgia    69.6            17.8      7.4        9.6  10.6     4.9\n",
       "8           Hawaii    72.1            64.9      0.1        0.7   2.9    None\n",
       "9            Idaho    24.5               8        8        9.2   8.6       0\n",
       "10        Illinois    33.3            14.7      3.1        0.7  15.5    10.1\n",
       "11         Indiana    15.6             8.8      2.6        5.5   7.1     1.7\n",
       "12            Iowa    34.8             1.7      0.6        0.3   7.7     3.5\n",
       "13          Kansas    86.9             7.8      2.5       12.2  21.6       4\n",
       "14        Kentucky    21.6            12.9      0.1        5.3  10.7     4.6\n",
       "15       Louisiana    57.8             1.3      0.1        0.3     1     0.7\n",
       "16           Maine     2.3             0.1     None       None   1.4     0.8\n",
       "17        Maryland    12.6             5.1      0.2          0  10.1     2.4\n",
       "18   Massachusetts    10.3            None     None        4.3   6.3     0.9\n",
       "19        Michigan    18.2             5.8      1.5        0.2  12.2     0.7\n",
       "20       Minnesota     1.3             0.2      1.9       None     2     0.8\n",
       "21     Mississippi    14.6              71     64.8       48.4   1.9     5.5\n",
       "22        Missouri     5.4             2.3      1.9        0.5   5.4     3.2\n",
       "23         Montana    15.1               0     None        0.8   0.8     1.1\n",
       "24        Nebraska    32.3             1.3       32        0.8   2.2     0.1\n",
       "25      New Jersey    15.3             4.4     None       None   3.5     0.6\n",
       "26      New Mexico     3.5             1.1      0.6       None   1.4     0.3\n",
       "27        New York    10.6             2.5      1.7        1.7   7.7       9\n",
       "28  North Carolina    16.4               2      0.2        0.7   2.2     3.4\n",
       "29    North Dakota     6.9            None     None        6.5   0.4     1.3\n",
       "30            Ohio    49.3             9.9     11.1        1.1   6.7     3.1\n",
       "31        Oklahoma     7.7             0.3     None       None     0       0\n",
       "32          Oregon      18             0.1      0.2        0.2   2.7     0.5\n",
       "33    Pennsylvania    15.3             4.6      3.7          4   7.5     9.5\n",
       "34  South Carolina    18.5            14.5        0        1.7  12.4       1\n",
       "35    South Dakota     0.8               0     None        2.5   0.8     2.2\n",
       "36       Tennessee    62.8            23.6      5.1        0.9   7.7     7.1\n",
       "37           Texas    26.1             6.5      5.3        8.3   6.9       3\n",
       "38            Utah    22.9            None      0.1       None   0.3     8.8\n",
       "39         Vermont     6.2             0.1      2.4       None   0.2     1.2\n",
       "40        Virginia    16.6            12.8      0.8        0.3   3.9     9.3\n",
       "41      Washington    22.3             0.8      0.6        0.3   0.8     0.2\n",
       "42   West Virginia    10.3             3.2      1.1        0.2     5     1.3\n",
       "43       Wisconsin    15.9             3.2      0.7        1.1  13.8       5\n",
       "44         Wyoming     0.7            None      0.1       None   0.5     2.3\n",
       "45    Other States     6.9             1.8      0.3       None   2.1     1.6\n",
       "46   United States    45.6            14.8      7.1       13.6     9     5.2"
      ],
      "text/html": "<div>\n<style scoped>\n    .dataframe tbody tr th:only-of-type {\n        vertical-align: middle;\n    }\n\n    .dataframe tbody tr th {\n        vertical-align: top;\n    }\n\n    .dataframe thead th {\n        text-align: right;\n    }\n</style>\n<table border=\"1\" class=\"dataframe\">\n  <thead>\n    <tr style=\"text-align: right;\">\n      <th></th>\n      <th>state</th>\n      <th>v_mites</th>\n      <th>other_pest_para</th>\n      <th>diseases</th>\n      <th>pesticides</th>\n      <th>other</th>\n      <th>unknown</th>\n    </tr>\n  </thead>\n  <tbody>\n    <tr>\n      <th>0</th>\n      <td>Alabama</td>\n      <td>27.2</td>\n      <td>22.7</td>\n      <td>1.8</td>\n      <td>0.3</td>\n      <td>3.1</td>\n      <td>9</td>\n    </tr>\n    <tr>\n      <th>1</th>\n      <td>Arizona</td>\n      <td>25.8</td>\n      <td>7.9</td>\n      <td>6.5</td>\n      <td>16.2</td>\n      <td>8.4</td>\n      <td>0.2</td>\n    </tr>\n    <tr>\n      <th>2</th>\n      <td>Arkansas</td>\n      <td>19.5</td>\n      <td>1.5</td>\n      <td>3.3</td>\n      <td>55.3</td>\n      <td>0.7</td>\n      <td>2.9</td>\n    </tr>\n    <tr>\n      <th>3</th>\n      <td>California</td>\n      <td>43.5</td>\n      <td>13.4</td>\n      <td>6.4</td>\n      <td>12.3</td>\n      <td>8.7</td>\n      <td>5.6</td>\n    </tr>\n    <tr>\n      <th>4</th>\n      <td>Colorado</td>\n      <td>11.2</td>\n      <td>0.3</td>\n      <td>None</td>\n      <td>None</td>\n      <td>2.5</td>\n      <td>0.6</td>\n    </tr>\n    <tr>\n      <th>5</th>\n      <td>Connecticut</td>\n      <td>10.1</td>\n      <td>1.3</td>\n      <td>None</td>\n      <td>None</td>\n      <td>3.6</td>\n      <td>1.7</td>\n    </tr>\n    <tr>\n      <th>6</th>\n      <td>Florida</td>\n      <td>46.9</td>\n      <td>24.8</td>\n      <td>5.5</td>\n      <td>22.9</td>\n      <td>7.4</td>\n      <td>5.5</td>\n    </tr>\n    <tr>\n      <th>7</th>\n      <td>Georgia</td>\n      <td>69.6</td>\n      <td>17.8</td>\n      <td>7.4</td>\n      <td>9.6</td>\n      <td>10.6</td>\n      <td>4.9</td>\n    </tr>\n    <tr>\n      <th>8</th>\n      <td>Hawaii</td>\n      <td>72.1</td>\n      <td>64.9</td>\n      <td>0.1</td>\n      <td>0.7</td>\n      <td>2.9</td>\n      <td>None</td>\n    </tr>\n    <tr>\n      <th>9</th>\n      <td>Idaho</td>\n      <td>24.5</td>\n      <td>8</td>\n      <td>8</td>\n      <td>9.2</td>\n      <td>8.6</td>\n      <td>0</td>\n    </tr>\n    <tr>\n      <th>10</th>\n      <td>Illinois</td>\n      <td>33.3</td>\n      <td>14.7</td>\n      <td>3.1</td>\n      <td>0.7</td>\n      <td>15.5</td>\n      <td>10.1</td>\n    </tr>\n    <tr>\n      <th>11</th>\n      <td>Indiana</td>\n      <td>15.6</td>\n      <td>8.8</td>\n      <td>2.6</td>\n      <td>5.5</td>\n      <td>7.1</td>\n      <td>1.7</td>\n    </tr>\n    <tr>\n      <th>12</th>\n      <td>Iowa</td>\n      <td>34.8</td>\n      <td>1.7</td>\n      <td>0.6</td>\n      <td>0.3</td>\n      <td>7.7</td>\n      <td>3.5</td>\n    </tr>\n    <tr>\n      <th>13</th>\n      <td>Kansas</td>\n      <td>86.9</td>\n      <td>7.8</td>\n      <td>2.5</td>\n      <td>12.2</td>\n      <td>21.6</td>\n      <td>4</td>\n    </tr>\n    <tr>\n      <th>14</th>\n      <td>Kentucky</td>\n      <td>21.6</td>\n      <td>12.9</td>\n      <td>0.1</td>\n      <td>5.3</td>\n      <td>10.7</td>\n      <td>4.6</td>\n    </tr>\n    <tr>\n      <th>15</th>\n      <td>Louisiana</td>\n      <td>57.8</td>\n      <td>1.3</td>\n      <td>0.1</td>\n      <td>0.3</td>\n      <td>1</td>\n      <td>0.7</td>\n    </tr>\n    <tr>\n      <th>16</th>\n      <td>Maine</td>\n      <td>2.3</td>\n      <td>0.1</td>\n      <td>None</td>\n      <td>None</td>\n      <td>1.4</td>\n      <td>0.8</td>\n    </tr>\n    <tr>\n      <th>17</th>\n      <td>Maryland</td>\n      <td>12.6</td>\n      <td>5.1</td>\n      <td>0.2</td>\n      <td>0</td>\n      <td>10.1</td>\n      <td>2.4</td>\n    </tr>\n    <tr>\n      <th>18</th>\n      <td>Massachusetts</td>\n      <td>10.3</td>\n      <td>None</td>\n      <td>None</td>\n      <td>4.3</td>\n      <td>6.3</td>\n      <td>0.9</td>\n    </tr>\n    <tr>\n      <th>19</th>\n      <td>Michigan</td>\n      <td>18.2</td>\n      <td>5.8</td>\n      <td>1.5</td>\n      <td>0.2</td>\n      <td>12.2</td>\n      <td>0.7</td>\n    </tr>\n    <tr>\n      <th>20</th>\n      <td>Minnesota</td>\n      <td>1.3</td>\n      <td>0.2</td>\n      <td>1.9</td>\n      <td>None</td>\n      <td>2</td>\n      <td>0.8</td>\n    </tr>\n    <tr>\n      <th>21</th>\n      <td>Mississippi</td>\n      <td>14.6</td>\n      <td>71</td>\n      <td>64.8</td>\n      <td>48.4</td>\n      <td>1.9</td>\n      <td>5.5</td>\n    </tr>\n    <tr>\n      <th>22</th>\n      <td>Missouri</td>\n      <td>5.4</td>\n      <td>2.3</td>\n      <td>1.9</td>\n      <td>0.5</td>\n      <td>5.4</td>\n      <td>3.2</td>\n    </tr>\n    <tr>\n      <th>23</th>\n      <td>Montana</td>\n      <td>15.1</td>\n      <td>0</td>\n      <td>None</td>\n      <td>0.8</td>\n      <td>0.8</td>\n      <td>1.1</td>\n    </tr>\n    <tr>\n      <th>24</th>\n      <td>Nebraska</td>\n      <td>32.3</td>\n      <td>1.3</td>\n      <td>32</td>\n      <td>0.8</td>\n      <td>2.2</td>\n      <td>0.1</td>\n    </tr>\n    <tr>\n      <th>25</th>\n      <td>New Jersey</td>\n      <td>15.3</td>\n      <td>4.4</td>\n      <td>None</td>\n      <td>None</td>\n      <td>3.5</td>\n      <td>0.6</td>\n    </tr>\n    <tr>\n      <th>26</th>\n      <td>New Mexico</td>\n      <td>3.5</td>\n      <td>1.1</td>\n      <td>0.6</td>\n      <td>None</td>\n      <td>1.4</td>\n      <td>0.3</td>\n    </tr>\n    <tr>\n      <th>27</th>\n      <td>New York</td>\n      <td>10.6</td>\n      <td>2.5</td>\n      <td>1.7</td>\n      <td>1.7</td>\n      <td>7.7</td>\n      <td>9</td>\n    </tr>\n    <tr>\n      <th>28</th>\n      <td>North Carolina</td>\n      <td>16.4</td>\n      <td>2</td>\n      <td>0.2</td>\n      <td>0.7</td>\n      <td>2.2</td>\n      <td>3.4</td>\n    </tr>\n    <tr>\n      <th>29</th>\n      <td>North Dakota</td>\n      <td>6.9</td>\n      <td>None</td>\n      <td>None</td>\n      <td>6.5</td>\n      <td>0.4</td>\n      <td>1.3</td>\n    </tr>\n    <tr>\n      <th>30</th>\n      <td>Ohio</td>\n      <td>49.3</td>\n      <td>9.9</td>\n      <td>11.1</td>\n      <td>1.1</td>\n      <td>6.7</td>\n      <td>3.1</td>\n    </tr>\n    <tr>\n      <th>31</th>\n      <td>Oklahoma</td>\n      <td>7.7</td>\n      <td>0.3</td>\n      <td>None</td>\n      <td>None</td>\n      <td>0</td>\n      <td>0</td>\n    </tr>\n    <tr>\n      <th>32</th>\n      <td>Oregon</td>\n      <td>18</td>\n      <td>0.1</td>\n      <td>0.2</td>\n      <td>0.2</td>\n      <td>2.7</td>\n      <td>0.5</td>\n    </tr>\n    <tr>\n      <th>33</th>\n      <td>Pennsylvania</td>\n      <td>15.3</td>\n      <td>4.6</td>\n      <td>3.7</td>\n      <td>4</td>\n      <td>7.5</td>\n      <td>9.5</td>\n    </tr>\n    <tr>\n      <th>34</th>\n      <td>South Carolina</td>\n      <td>18.5</td>\n      <td>14.5</td>\n      <td>0</td>\n      <td>1.7</td>\n      <td>12.4</td>\n      <td>1</td>\n    </tr>\n    <tr>\n      <th>35</th>\n      <td>South Dakota</td>\n      <td>0.8</td>\n      <td>0</td>\n      <td>None</td>\n      <td>2.5</td>\n      <td>0.8</td>\n      <td>2.2</td>\n    </tr>\n    <tr>\n      <th>36</th>\n      <td>Tennessee</td>\n      <td>62.8</td>\n      <td>23.6</td>\n      <td>5.1</td>\n      <td>0.9</td>\n      <td>7.7</td>\n      <td>7.1</td>\n    </tr>\n    <tr>\n      <th>37</th>\n      <td>Texas</td>\n      <td>26.1</td>\n      <td>6.5</td>\n      <td>5.3</td>\n      <td>8.3</td>\n      <td>6.9</td>\n      <td>3</td>\n    </tr>\n    <tr>\n      <th>38</th>\n      <td>Utah</td>\n      <td>22.9</td>\n      <td>None</td>\n      <td>0.1</td>\n      <td>None</td>\n      <td>0.3</td>\n      <td>8.8</td>\n    </tr>\n    <tr>\n      <th>39</th>\n      <td>Vermont</td>\n      <td>6.2</td>\n      <td>0.1</td>\n      <td>2.4</td>\n      <td>None</td>\n      <td>0.2</td>\n      <td>1.2</td>\n    </tr>\n    <tr>\n      <th>40</th>\n      <td>Virginia</td>\n      <td>16.6</td>\n      <td>12.8</td>\n      <td>0.8</td>\n      <td>0.3</td>\n      <td>3.9</td>\n      <td>9.3</td>\n    </tr>\n    <tr>\n      <th>41</th>\n      <td>Washington</td>\n      <td>22.3</td>\n      <td>0.8</td>\n      <td>0.6</td>\n      <td>0.3</td>\n      <td>0.8</td>\n      <td>0.2</td>\n    </tr>\n    <tr>\n      <th>42</th>\n      <td>West Virginia</td>\n      <td>10.3</td>\n      <td>3.2</td>\n      <td>1.1</td>\n      <td>0.2</td>\n      <td>5</td>\n      <td>1.3</td>\n    </tr>\n    <tr>\n      <th>43</th>\n      <td>Wisconsin</td>\n      <td>15.9</td>\n      <td>3.2</td>\n      <td>0.7</td>\n      <td>1.1</td>\n      <td>13.8</td>\n      <td>5</td>\n    </tr>\n    <tr>\n      <th>44</th>\n      <td>Wyoming</td>\n      <td>0.7</td>\n      <td>None</td>\n      <td>0.1</td>\n      <td>None</td>\n      <td>0.5</td>\n      <td>2.3</td>\n    </tr>\n    <tr>\n      <th>45</th>\n      <td>Other States</td>\n      <td>6.9</td>\n      <td>1.8</td>\n      <td>0.3</td>\n      <td>None</td>\n      <td>2.1</td>\n      <td>1.6</td>\n    </tr>\n    <tr>\n      <th>46</th>\n      <td>United States</td>\n      <td>45.6</td>\n      <td>14.8</td>\n      <td>7.1</td>\n      <td>13.6</td>\n      <td>9</td>\n      <td>5.2</td>\n    </tr>\n  </tbody>\n</table>\n</div>"
     },
     "metadata": {},
     "execution_count": 62
    }
   ],
   "source": [
    "## Reset the index\n",
    "hbcny_s_19q1 = hbcny_s_19q1.reset_index(drop = True)\n",
    "hbcny_s_19q1"
   ]
  },
  {
   "cell_type": "code",
   "execution_count": 63,
   "metadata": {},
   "outputs": [],
   "source": [
    "hbcny_s_19q1.to_csv(\"hbcny_stress_19q1.csv\", index=False)"
   ]
  }
 ]
}