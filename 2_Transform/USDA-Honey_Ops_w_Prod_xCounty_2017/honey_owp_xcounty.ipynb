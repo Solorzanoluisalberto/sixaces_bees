{
 "metadata": {
  "language_info": {
   "codemirror_mode": {
    "name": "ipython",
    "version": 3
   },
   "file_extension": ".py",
   "mimetype": "text/x-python",
   "name": "python",
   "nbconvert_exporter": "python",
   "pygments_lexer": "ipython3",
   "version": "3.8.5"
  },
  "orig_nbformat": 2,
  "kernelspec": {
   "name": "python385jvsc74a57bd06e67b620515b60b5e0a41f61aaaaaa0b5713da87d04dedede882ceace4acc361",
   "display_name": "Python 3.8.5 64-bit ('base': conda)"
  }
 },
 "nbformat": 4,
 "nbformat_minor": 2,
 "cells": [
  {
   "cell_type": "code",
   "execution_count": 1,
   "metadata": {},
   "outputs": [],
   "source": [
    "## Dependencies and setup\n",
    "import pandas as pd"
   ]
  },
  {
   "cell_type": "code",
   "execution_count": 2,
   "metadata": {},
   "outputs": [],
   "source": [
    "## Load data files\n",
    "honey_owp_17 = \"../../1_Extract/USDA-Honey_Ops_w_Prod_xCounty_2017/quick_stats_owp_xcounty_17.csv\""
   ]
  },
  {
   "cell_type": "code",
   "execution_count": 3,
   "metadata": {},
   "outputs": [
    {
     "output_type": "execute_result",
     "data": {
      "text/plain": [
       "  Program  Year Period  Week Ending Geo Level    State  State ANSI  \\\n",
       "0  CENSUS  2017   YEAR          NaN    COUNTY  ALABAMA           1   \n",
       "1  CENSUS  2017   YEAR          NaN    COUNTY  ALABAMA           1   \n",
       "2  CENSUS  2017   YEAR          NaN    COUNTY  ALABAMA           1   \n",
       "3  CENSUS  2017   YEAR          NaN    COUNTY  ALABAMA           1   \n",
       "4  CENSUS  2017   YEAR          NaN    COUNTY  ALABAMA           1   \n",
       "\n",
       "  Ag District  Ag District Code   County  ...  Zip Code  Region  \\\n",
       "0  BLACK BELT                40  AUTAUGA  ...       NaN     NaN   \n",
       "1  BLACK BELT                40  BULLOCK  ...       NaN     NaN   \n",
       "2  BLACK BELT                40   DALLAS  ...       NaN     NaN   \n",
       "3  BLACK BELT                40   ELMORE  ...       NaN     NaN   \n",
       "4  BLACK BELT                40   GREENE  ...       NaN     NaN   \n",
       "\n",
       "   watershed_code  Watershed  Commodity                           Data Item  \\\n",
       "0               0        NaN      HONEY  HONEY - OPERATIONS WITH PRODUCTION   \n",
       "1               0        NaN      HONEY  HONEY - OPERATIONS WITH PRODUCTION   \n",
       "2               0        NaN      HONEY  HONEY - OPERATIONS WITH PRODUCTION   \n",
       "3               0        NaN      HONEY  HONEY - OPERATIONS WITH PRODUCTION   \n",
       "4               0        NaN      HONEY  HONEY - OPERATIONS WITH PRODUCTION   \n",
       "\n",
       "  Domain Domain Category Value  CV (%)  \n",
       "0  TOTAL   NOT SPECIFIED     8     (H)  \n",
       "1  TOTAL   NOT SPECIFIED     2     (H)  \n",
       "2  TOTAL   NOT SPECIFIED     7     (H)  \n",
       "3  TOTAL   NOT SPECIFIED    11     (H)  \n",
       "4  TOTAL   NOT SPECIFIED     9     (H)  \n",
       "\n",
       "[5 rows x 21 columns]"
      ],
      "text/html": "<div>\n<style scoped>\n    .dataframe tbody tr th:only-of-type {\n        vertical-align: middle;\n    }\n\n    .dataframe tbody tr th {\n        vertical-align: top;\n    }\n\n    .dataframe thead th {\n        text-align: right;\n    }\n</style>\n<table border=\"1\" class=\"dataframe\">\n  <thead>\n    <tr style=\"text-align: right;\">\n      <th></th>\n      <th>Program</th>\n      <th>Year</th>\n      <th>Period</th>\n      <th>Week Ending</th>\n      <th>Geo Level</th>\n      <th>State</th>\n      <th>State ANSI</th>\n      <th>Ag District</th>\n      <th>Ag District Code</th>\n      <th>County</th>\n      <th>...</th>\n      <th>Zip Code</th>\n      <th>Region</th>\n      <th>watershed_code</th>\n      <th>Watershed</th>\n      <th>Commodity</th>\n      <th>Data Item</th>\n      <th>Domain</th>\n      <th>Domain Category</th>\n      <th>Value</th>\n      <th>CV (%)</th>\n    </tr>\n  </thead>\n  <tbody>\n    <tr>\n      <th>0</th>\n      <td>CENSUS</td>\n      <td>2017</td>\n      <td>YEAR</td>\n      <td>NaN</td>\n      <td>COUNTY</td>\n      <td>ALABAMA</td>\n      <td>1</td>\n      <td>BLACK BELT</td>\n      <td>40</td>\n      <td>AUTAUGA</td>\n      <td>...</td>\n      <td>NaN</td>\n      <td>NaN</td>\n      <td>0</td>\n      <td>NaN</td>\n      <td>HONEY</td>\n      <td>HONEY - OPERATIONS WITH PRODUCTION</td>\n      <td>TOTAL</td>\n      <td>NOT SPECIFIED</td>\n      <td>8</td>\n      <td>(H)</td>\n    </tr>\n    <tr>\n      <th>1</th>\n      <td>CENSUS</td>\n      <td>2017</td>\n      <td>YEAR</td>\n      <td>NaN</td>\n      <td>COUNTY</td>\n      <td>ALABAMA</td>\n      <td>1</td>\n      <td>BLACK BELT</td>\n      <td>40</td>\n      <td>BULLOCK</td>\n      <td>...</td>\n      <td>NaN</td>\n      <td>NaN</td>\n      <td>0</td>\n      <td>NaN</td>\n      <td>HONEY</td>\n      <td>HONEY - OPERATIONS WITH PRODUCTION</td>\n      <td>TOTAL</td>\n      <td>NOT SPECIFIED</td>\n      <td>2</td>\n      <td>(H)</td>\n    </tr>\n    <tr>\n      <th>2</th>\n      <td>CENSUS</td>\n      <td>2017</td>\n      <td>YEAR</td>\n      <td>NaN</td>\n      <td>COUNTY</td>\n      <td>ALABAMA</td>\n      <td>1</td>\n      <td>BLACK BELT</td>\n      <td>40</td>\n      <td>DALLAS</td>\n      <td>...</td>\n      <td>NaN</td>\n      <td>NaN</td>\n      <td>0</td>\n      <td>NaN</td>\n      <td>HONEY</td>\n      <td>HONEY - OPERATIONS WITH PRODUCTION</td>\n      <td>TOTAL</td>\n      <td>NOT SPECIFIED</td>\n      <td>7</td>\n      <td>(H)</td>\n    </tr>\n    <tr>\n      <th>3</th>\n      <td>CENSUS</td>\n      <td>2017</td>\n      <td>YEAR</td>\n      <td>NaN</td>\n      <td>COUNTY</td>\n      <td>ALABAMA</td>\n      <td>1</td>\n      <td>BLACK BELT</td>\n      <td>40</td>\n      <td>ELMORE</td>\n      <td>...</td>\n      <td>NaN</td>\n      <td>NaN</td>\n      <td>0</td>\n      <td>NaN</td>\n      <td>HONEY</td>\n      <td>HONEY - OPERATIONS WITH PRODUCTION</td>\n      <td>TOTAL</td>\n      <td>NOT SPECIFIED</td>\n      <td>11</td>\n      <td>(H)</td>\n    </tr>\n    <tr>\n      <th>4</th>\n      <td>CENSUS</td>\n      <td>2017</td>\n      <td>YEAR</td>\n      <td>NaN</td>\n      <td>COUNTY</td>\n      <td>ALABAMA</td>\n      <td>1</td>\n      <td>BLACK BELT</td>\n      <td>40</td>\n      <td>GREENE</td>\n      <td>...</td>\n      <td>NaN</td>\n      <td>NaN</td>\n      <td>0</td>\n      <td>NaN</td>\n      <td>HONEY</td>\n      <td>HONEY - OPERATIONS WITH PRODUCTION</td>\n      <td>TOTAL</td>\n      <td>NOT SPECIFIED</td>\n      <td>9</td>\n      <td>(H)</td>\n    </tr>\n  </tbody>\n</table>\n<p>5 rows × 21 columns</p>\n</div>"
     },
     "metadata": {},
     "execution_count": 3
    }
   ],
   "source": [
    "## Read data and store into df\n",
    "honey_owp_17 = pd.read_csv(honey_owp_17)\n",
    "honey_owp_17 = pd.DataFrame(honey_owp_17)\n",
    "honey_owp_17.head()"
   ]
  },
  {
   "cell_type": "code",
   "execution_count": 4,
   "metadata": {},
   "outputs": [
    {
     "output_type": "execute_result",
     "data": {
      "text/plain": [
       "     State Ag District   County  Value CV (%)\n",
       "0  ALABAMA  BLACK BELT  AUTAUGA      8    (H)\n",
       "1  ALABAMA  BLACK BELT  BULLOCK      2    (H)\n",
       "2  ALABAMA  BLACK BELT   DALLAS      7    (H)\n",
       "3  ALABAMA  BLACK BELT   ELMORE     11    (H)\n",
       "4  ALABAMA  BLACK BELT   GREENE      9    (H)"
      ],
      "text/html": "<div>\n<style scoped>\n    .dataframe tbody tr th:only-of-type {\n        vertical-align: middle;\n    }\n\n    .dataframe tbody tr th {\n        vertical-align: top;\n    }\n\n    .dataframe thead th {\n        text-align: right;\n    }\n</style>\n<table border=\"1\" class=\"dataframe\">\n  <thead>\n    <tr style=\"text-align: right;\">\n      <th></th>\n      <th>State</th>\n      <th>Ag District</th>\n      <th>County</th>\n      <th>Value</th>\n      <th>CV (%)</th>\n    </tr>\n  </thead>\n  <tbody>\n    <tr>\n      <th>0</th>\n      <td>ALABAMA</td>\n      <td>BLACK BELT</td>\n      <td>AUTAUGA</td>\n      <td>8</td>\n      <td>(H)</td>\n    </tr>\n    <tr>\n      <th>1</th>\n      <td>ALABAMA</td>\n      <td>BLACK BELT</td>\n      <td>BULLOCK</td>\n      <td>2</td>\n      <td>(H)</td>\n    </tr>\n    <tr>\n      <th>2</th>\n      <td>ALABAMA</td>\n      <td>BLACK BELT</td>\n      <td>DALLAS</td>\n      <td>7</td>\n      <td>(H)</td>\n    </tr>\n    <tr>\n      <th>3</th>\n      <td>ALABAMA</td>\n      <td>BLACK BELT</td>\n      <td>ELMORE</td>\n      <td>11</td>\n      <td>(H)</td>\n    </tr>\n    <tr>\n      <th>4</th>\n      <td>ALABAMA</td>\n      <td>BLACK BELT</td>\n      <td>GREENE</td>\n      <td>9</td>\n      <td>(H)</td>\n    </tr>\n  </tbody>\n</table>\n</div>"
     },
     "metadata": {},
     "execution_count": 4
    }
   ],
   "source": [
    "## Drop erroneous columns\n",
    "honey_owp_17.drop(honey_owp_17.iloc[:, [0, 1, 2, 3, 4, 6, 8, 10, 11, 12, 13, 14, 15, 16, 17, 18]], axis = 1, inplace = True)\n",
    "honey_owp_17.head()"
   ]
  },
  {
   "cell_type": "code",
   "execution_count": 5,
   "metadata": {},
   "outputs": [
    {
     "output_type": "execute_result",
     "data": {
      "text/plain": [
       "        state     ag_dist    county  num_owp    cv\n",
       "0     ALABAMA  BLACK BELT   AUTAUGA        8   (H)\n",
       "1     ALABAMA  BLACK BELT   BULLOCK        2   (H)\n",
       "2     ALABAMA  BLACK BELT    DALLAS        7   (H)\n",
       "3     ALABAMA  BLACK BELT    ELMORE       11   (H)\n",
       "4     ALABAMA  BLACK BELT    GREENE        9   (H)\n",
       "...       ...         ...       ...      ...   ...\n",
       "2714  WYOMING   SOUTHEAST    PLATTE        4  76.0\n",
       "2715  WYOMING        WEST   LINCOLN       15  76.0\n",
       "2716  WYOMING        WEST  SUBLETTE        2  76.0\n",
       "2717  WYOMING        WEST     TETON        1  76.0\n",
       "2718  WYOMING        WEST     UINTA        4  76.0\n",
       "\n",
       "[2719 rows x 5 columns]"
      ],
      "text/html": "<div>\n<style scoped>\n    .dataframe tbody tr th:only-of-type {\n        vertical-align: middle;\n    }\n\n    .dataframe tbody tr th {\n        vertical-align: top;\n    }\n\n    .dataframe thead th {\n        text-align: right;\n    }\n</style>\n<table border=\"1\" class=\"dataframe\">\n  <thead>\n    <tr style=\"text-align: right;\">\n      <th></th>\n      <th>state</th>\n      <th>ag_dist</th>\n      <th>county</th>\n      <th>num_owp</th>\n      <th>cv</th>\n    </tr>\n  </thead>\n  <tbody>\n    <tr>\n      <th>0</th>\n      <td>ALABAMA</td>\n      <td>BLACK BELT</td>\n      <td>AUTAUGA</td>\n      <td>8</td>\n      <td>(H)</td>\n    </tr>\n    <tr>\n      <th>1</th>\n      <td>ALABAMA</td>\n      <td>BLACK BELT</td>\n      <td>BULLOCK</td>\n      <td>2</td>\n      <td>(H)</td>\n    </tr>\n    <tr>\n      <th>2</th>\n      <td>ALABAMA</td>\n      <td>BLACK BELT</td>\n      <td>DALLAS</td>\n      <td>7</td>\n      <td>(H)</td>\n    </tr>\n    <tr>\n      <th>3</th>\n      <td>ALABAMA</td>\n      <td>BLACK BELT</td>\n      <td>ELMORE</td>\n      <td>11</td>\n      <td>(H)</td>\n    </tr>\n    <tr>\n      <th>4</th>\n      <td>ALABAMA</td>\n      <td>BLACK BELT</td>\n      <td>GREENE</td>\n      <td>9</td>\n      <td>(H)</td>\n    </tr>\n    <tr>\n      <th>...</th>\n      <td>...</td>\n      <td>...</td>\n      <td>...</td>\n      <td>...</td>\n      <td>...</td>\n    </tr>\n    <tr>\n      <th>2714</th>\n      <td>WYOMING</td>\n      <td>SOUTHEAST</td>\n      <td>PLATTE</td>\n      <td>4</td>\n      <td>76.0</td>\n    </tr>\n    <tr>\n      <th>2715</th>\n      <td>WYOMING</td>\n      <td>WEST</td>\n      <td>LINCOLN</td>\n      <td>15</td>\n      <td>76.0</td>\n    </tr>\n    <tr>\n      <th>2716</th>\n      <td>WYOMING</td>\n      <td>WEST</td>\n      <td>SUBLETTE</td>\n      <td>2</td>\n      <td>76.0</td>\n    </tr>\n    <tr>\n      <th>2717</th>\n      <td>WYOMING</td>\n      <td>WEST</td>\n      <td>TETON</td>\n      <td>1</td>\n      <td>76.0</td>\n    </tr>\n    <tr>\n      <th>2718</th>\n      <td>WYOMING</td>\n      <td>WEST</td>\n      <td>UINTA</td>\n      <td>4</td>\n      <td>76.0</td>\n    </tr>\n  </tbody>\n</table>\n<p>2719 rows × 5 columns</p>\n</div>"
     },
     "metadata": {},
     "execution_count": 5
    }
   ],
   "source": [
    "## Rename columns\n",
    "honey_owp_17 = honey_owp_17.rename(columns={\n",
    "    \"State\": \"state\",\n",
    "    \"Ag District\": \"ag_dist\",\n",
    "    \"County\": \"county\",\n",
    "    \"Value\": \"num_owp\",\n",
    "    \"CV (%)\": \"cv\"\n",
    "})\n",
    "honey_owp_17"
   ]
  },
  {
   "cell_type": "code",
   "execution_count": 6,
   "metadata": {},
   "outputs": [
    {
     "output_type": "execute_result",
     "data": {
      "text/plain": [
       "     state     ag_dist   county  num_owp     cv\n",
       "0  ALABAMA  BLACK BELT  AUTAUGA        8  99.95\n",
       "1  ALABAMA  BLACK BELT  BULLOCK        2  99.95\n",
       "2  ALABAMA  BLACK BELT   DALLAS        7  99.95\n",
       "3  ALABAMA  BLACK BELT   ELMORE       11  99.95\n",
       "4  ALABAMA  BLACK BELT   GREENE        9  99.95"
      ],
      "text/html": "<div>\n<style scoped>\n    .dataframe tbody tr th:only-of-type {\n        vertical-align: middle;\n    }\n\n    .dataframe tbody tr th {\n        vertical-align: top;\n    }\n\n    .dataframe thead th {\n        text-align: right;\n    }\n</style>\n<table border=\"1\" class=\"dataframe\">\n  <thead>\n    <tr style=\"text-align: right;\">\n      <th></th>\n      <th>state</th>\n      <th>ag_dist</th>\n      <th>county</th>\n      <th>num_owp</th>\n      <th>cv</th>\n    </tr>\n  </thead>\n  <tbody>\n    <tr>\n      <th>0</th>\n      <td>ALABAMA</td>\n      <td>BLACK BELT</td>\n      <td>AUTAUGA</td>\n      <td>8</td>\n      <td>99.95</td>\n    </tr>\n    <tr>\n      <th>1</th>\n      <td>ALABAMA</td>\n      <td>BLACK BELT</td>\n      <td>BULLOCK</td>\n      <td>2</td>\n      <td>99.95</td>\n    </tr>\n    <tr>\n      <th>2</th>\n      <td>ALABAMA</td>\n      <td>BLACK BELT</td>\n      <td>DALLAS</td>\n      <td>7</td>\n      <td>99.95</td>\n    </tr>\n    <tr>\n      <th>3</th>\n      <td>ALABAMA</td>\n      <td>BLACK BELT</td>\n      <td>ELMORE</td>\n      <td>11</td>\n      <td>99.95</td>\n    </tr>\n    <tr>\n      <th>4</th>\n      <td>ALABAMA</td>\n      <td>BLACK BELT</td>\n      <td>GREENE</td>\n      <td>9</td>\n      <td>99.95</td>\n    </tr>\n  </tbody>\n</table>\n</div>"
     },
     "metadata": {},
     "execution_count": 6
    }
   ],
   "source": [
    "## (H) defined as:\n",
    "## Coefficient of variation or generalized coefficient of variation is greater than or equal to 99.95 percent or the standard error is greater than or equal to 99.95 percent of the mean.\n",
    "## Replace (H) with 99.95\n",
    "honey_owp_17 = honey_owp_17.replace(\"(H)\", 99.95)\n",
    "honey_owp_17.head()"
   ]
  },
  {
   "cell_type": "code",
   "execution_count": 7,
   "metadata": {},
   "outputs": [
    {
     "output_type": "execute_result",
     "data": {
      "text/plain": [
       "        state     ag_dist    county  num_owp     cv\n",
       "0     ALABAMA  BLACK BELT   AUTAUGA        8  99.95\n",
       "1     ALABAMA  BLACK BELT   BULLOCK        2  99.95\n",
       "2     ALABAMA  BLACK BELT    DALLAS        7  99.95\n",
       "3     ALABAMA  BLACK BELT    ELMORE       11  99.95\n",
       "4     ALABAMA  BLACK BELT    GREENE        9  99.95\n",
       "...       ...         ...       ...      ...    ...\n",
       "2714  WYOMING   SOUTHEAST    PLATTE        4   76.0\n",
       "2715  WYOMING        WEST   LINCOLN       15   76.0\n",
       "2716  WYOMING        WEST  SUBLETTE        2   76.0\n",
       "2717  WYOMING        WEST     TETON        1   76.0\n",
       "2718  WYOMING        WEST     UINTA        4   76.0\n",
       "\n",
       "[2719 rows x 5 columns]"
      ],
      "text/html": "<div>\n<style scoped>\n    .dataframe tbody tr th:only-of-type {\n        vertical-align: middle;\n    }\n\n    .dataframe tbody tr th {\n        vertical-align: top;\n    }\n\n    .dataframe thead th {\n        text-align: right;\n    }\n</style>\n<table border=\"1\" class=\"dataframe\">\n  <thead>\n    <tr style=\"text-align: right;\">\n      <th></th>\n      <th>state</th>\n      <th>ag_dist</th>\n      <th>county</th>\n      <th>num_owp</th>\n      <th>cv</th>\n    </tr>\n  </thead>\n  <tbody>\n    <tr>\n      <th>0</th>\n      <td>ALABAMA</td>\n      <td>BLACK BELT</td>\n      <td>AUTAUGA</td>\n      <td>8</td>\n      <td>99.95</td>\n    </tr>\n    <tr>\n      <th>1</th>\n      <td>ALABAMA</td>\n      <td>BLACK BELT</td>\n      <td>BULLOCK</td>\n      <td>2</td>\n      <td>99.95</td>\n    </tr>\n    <tr>\n      <th>2</th>\n      <td>ALABAMA</td>\n      <td>BLACK BELT</td>\n      <td>DALLAS</td>\n      <td>7</td>\n      <td>99.95</td>\n    </tr>\n    <tr>\n      <th>3</th>\n      <td>ALABAMA</td>\n      <td>BLACK BELT</td>\n      <td>ELMORE</td>\n      <td>11</td>\n      <td>99.95</td>\n    </tr>\n    <tr>\n      <th>4</th>\n      <td>ALABAMA</td>\n      <td>BLACK BELT</td>\n      <td>GREENE</td>\n      <td>9</td>\n      <td>99.95</td>\n    </tr>\n    <tr>\n      <th>...</th>\n      <td>...</td>\n      <td>...</td>\n      <td>...</td>\n      <td>...</td>\n      <td>...</td>\n    </tr>\n    <tr>\n      <th>2714</th>\n      <td>WYOMING</td>\n      <td>SOUTHEAST</td>\n      <td>PLATTE</td>\n      <td>4</td>\n      <td>76.0</td>\n    </tr>\n    <tr>\n      <th>2715</th>\n      <td>WYOMING</td>\n      <td>WEST</td>\n      <td>LINCOLN</td>\n      <td>15</td>\n      <td>76.0</td>\n    </tr>\n    <tr>\n      <th>2716</th>\n      <td>WYOMING</td>\n      <td>WEST</td>\n      <td>SUBLETTE</td>\n      <td>2</td>\n      <td>76.0</td>\n    </tr>\n    <tr>\n      <th>2717</th>\n      <td>WYOMING</td>\n      <td>WEST</td>\n      <td>TETON</td>\n      <td>1</td>\n      <td>76.0</td>\n    </tr>\n    <tr>\n      <th>2718</th>\n      <td>WYOMING</td>\n      <td>WEST</td>\n      <td>UINTA</td>\n      <td>4</td>\n      <td>76.0</td>\n    </tr>\n  </tbody>\n</table>\n<p>2719 rows × 5 columns</p>\n</div>"
     },
     "metadata": {},
     "execution_count": 7
    }
   ],
   "source": [
    "## (L) defined as:\n",
    "## Coefficient of variation or generalized coefficient of variation is less than 0.05 percent or the standard error is less than 0.05 percent of the mean.\n",
    "## Replace (L) with 0.05\n",
    "honey_owp_17 = honey_owp_17.replace(\"(L)\", 0.05)\n",
    "honey_owp_17"
   ]
  },
  {
   "cell_type": "code",
   "execution_count": 8,
   "metadata": {},
   "outputs": [],
   "source": [
    "honey_owp_17.to_csv(\"../honey_owp_xcounty_17.csv\", index = False)"
   ]
  },
  {
   "source": [
    "## Sum owp by state"
   ],
   "cell_type": "markdown",
   "metadata": {}
  },
  {
   "cell_type": "code",
   "execution_count": 9,
   "metadata": {},
   "outputs": [
    {
     "output_type": "execute_result",
     "data": {
      "text/plain": [
       "        state  num_owp\n",
       "0     ALABAMA      686\n",
       "1      ALASKA       86\n",
       "2     ARIZONA      162\n",
       "3    ARKANSAS      565\n",
       "4  CALIFORNIA     1227"
      ],
      "text/html": "<div>\n<style scoped>\n    .dataframe tbody tr th:only-of-type {\n        vertical-align: middle;\n    }\n\n    .dataframe tbody tr th {\n        vertical-align: top;\n    }\n\n    .dataframe thead th {\n        text-align: right;\n    }\n</style>\n<table border=\"1\" class=\"dataframe\">\n  <thead>\n    <tr style=\"text-align: right;\">\n      <th></th>\n      <th>state</th>\n      <th>num_owp</th>\n    </tr>\n  </thead>\n  <tbody>\n    <tr>\n      <th>0</th>\n      <td>ALABAMA</td>\n      <td>686</td>\n    </tr>\n    <tr>\n      <th>1</th>\n      <td>ALASKA</td>\n      <td>86</td>\n    </tr>\n    <tr>\n      <th>2</th>\n      <td>ARIZONA</td>\n      <td>162</td>\n    </tr>\n    <tr>\n      <th>3</th>\n      <td>ARKANSAS</td>\n      <td>565</td>\n    </tr>\n    <tr>\n      <th>4</th>\n      <td>CALIFORNIA</td>\n      <td>1227</td>\n    </tr>\n  </tbody>\n</table>\n</div>"
     },
     "metadata": {},
     "execution_count": 9
    }
   ],
   "source": [
    "## Group by state to sum num_owp\n",
    "xstate = honey_owp_17.groupby([\"state\"]).sum()\n",
    "xstate = xstate.reset_index()\n",
    "xstate.head()"
   ]
  },
  {
   "cell_type": "code",
   "execution_count": 10,
   "metadata": {},
   "outputs": [],
   "source": [
    "xstate.to_csv(\"../honey_owp_xstate_17.csv\", index = False)"
   ]
  }
 ]
}