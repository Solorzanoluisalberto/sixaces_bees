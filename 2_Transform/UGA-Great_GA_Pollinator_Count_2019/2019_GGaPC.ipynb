{
 "metadata": {
  "language_info": {
   "codemirror_mode": {
    "name": "ipython",
    "version": 3
   },
   "file_extension": ".py",
   "mimetype": "text/x-python",
   "name": "python",
   "nbconvert_exporter": "python",
   "pygments_lexer": "ipython3",
   "version": "3.8.5"
  },
  "orig_nbformat": 2,
  "kernelspec": {
   "name": "python385jvsc74a57bd06e67b620515b60b5e0a41f61aaaaaa0b5713da87d04dedede882ceace4acc361",
   "display_name": "Python 3.8.5 64-bit ('Daniel Ramirez': virtualenv)"
  }
 },
 "nbformat": 4,
 "nbformat_minor": 2,
 "cells": [
  {
   "cell_type": "code",
   "execution_count": 1,
   "metadata": {},
   "outputs": [],
   "source": [
    "## Dependencies and setup\n",
    "import pandas as pd"
   ]
  },
  {
   "cell_type": "code",
   "execution_count": 2,
   "metadata": {},
   "outputs": [],
   "source": [
    "## Load data files\n",
    "ggacpc = \"../../1_Extract/UGA-Great_GA_Pollinator_Count_2019/2019_GGaPC.csv\""
   ]
  },
  {
   "cell_type": "code",
   "execution_count": 3,
   "metadata": {},
   "outputs": [
    {
     "output_type": "execute_result",
     "data": {
      "text/plain": [
       "                                            Unnamed: 0  Carpenter  Bumble  \\\n",
       "0                                              Appling      127.0   230.0   \n",
       "1                                                Bacon        0.0     0.0   \n",
       "2                                                Baker        1.0     1.0   \n",
       "3                                              Baldwin        3.0    56.0   \n",
       "4                                                Banks        0.0     7.0   \n",
       "..                                                 ...        ...     ...   \n",
       "132                                             Wilkes        2.0     3.0   \n",
       "133                                              Worth        4.0    14.0   \n",
       "134                                                NaN        NaN     NaN   \n",
       "135                                                NaN        NaN     NaN   \n",
       "136  Griffin, B., LaTora, A.G., Bhattarai, U., & Br...        NaN     NaN   \n",
       "\n",
       "     Honey  Small  Wasps  Flies  Butterflies  Other  #Insects  #Counts  \n",
       "0    162.0  296.0  251.0  317.0        362.0  453.0    2198.0     93.0  \n",
       "1      1.0    0.0    7.0    0.0         47.0    7.0      62.0      2.0  \n",
       "2      1.0   12.0    4.0   12.0        158.0    7.0     196.0      5.0  \n",
       "3      1.0   22.0   52.0   74.0         91.0   23.0     322.0     16.0  \n",
       "4      0.0    3.0    0.0    0.0         19.0    0.0      29.0      4.0  \n",
       "..     ...    ...    ...    ...          ...    ...       ...      ...  \n",
       "132    1.0   28.0   24.0   48.0         32.0   11.0     149.0     26.0  \n",
       "133    9.0  131.0   32.0   14.0         83.0   28.0     315.0      9.0  \n",
       "134    NaN    NaN    NaN    NaN          NaN    NaN       NaN      NaN  \n",
       "135    NaN    NaN    NaN    NaN          NaN    NaN       NaN      NaN  \n",
       "136    NaN    NaN    NaN    NaN          NaN    NaN       NaN      NaN  \n",
       "\n",
       "[137 rows x 11 columns]"
      ],
      "text/html": "<div>\n<style scoped>\n    .dataframe tbody tr th:only-of-type {\n        vertical-align: middle;\n    }\n\n    .dataframe tbody tr th {\n        vertical-align: top;\n    }\n\n    .dataframe thead th {\n        text-align: right;\n    }\n</style>\n<table border=\"1\" class=\"dataframe\">\n  <thead>\n    <tr style=\"text-align: right;\">\n      <th></th>\n      <th>Unnamed: 0</th>\n      <th>Carpenter</th>\n      <th>Bumble</th>\n      <th>Honey</th>\n      <th>Small</th>\n      <th>Wasps</th>\n      <th>Flies</th>\n      <th>Butterflies</th>\n      <th>Other</th>\n      <th>#Insects</th>\n      <th>#Counts</th>\n    </tr>\n  </thead>\n  <tbody>\n    <tr>\n      <th>0</th>\n      <td>Appling</td>\n      <td>127.0</td>\n      <td>230.0</td>\n      <td>162.0</td>\n      <td>296.0</td>\n      <td>251.0</td>\n      <td>317.0</td>\n      <td>362.0</td>\n      <td>453.0</td>\n      <td>2198.0</td>\n      <td>93.0</td>\n    </tr>\n    <tr>\n      <th>1</th>\n      <td>Bacon</td>\n      <td>0.0</td>\n      <td>0.0</td>\n      <td>1.0</td>\n      <td>0.0</td>\n      <td>7.0</td>\n      <td>0.0</td>\n      <td>47.0</td>\n      <td>7.0</td>\n      <td>62.0</td>\n      <td>2.0</td>\n    </tr>\n    <tr>\n      <th>2</th>\n      <td>Baker</td>\n      <td>1.0</td>\n      <td>1.0</td>\n      <td>1.0</td>\n      <td>12.0</td>\n      <td>4.0</td>\n      <td>12.0</td>\n      <td>158.0</td>\n      <td>7.0</td>\n      <td>196.0</td>\n      <td>5.0</td>\n    </tr>\n    <tr>\n      <th>3</th>\n      <td>Baldwin</td>\n      <td>3.0</td>\n      <td>56.0</td>\n      <td>1.0</td>\n      <td>22.0</td>\n      <td>52.0</td>\n      <td>74.0</td>\n      <td>91.0</td>\n      <td>23.0</td>\n      <td>322.0</td>\n      <td>16.0</td>\n    </tr>\n    <tr>\n      <th>4</th>\n      <td>Banks</td>\n      <td>0.0</td>\n      <td>7.0</td>\n      <td>0.0</td>\n      <td>3.0</td>\n      <td>0.0</td>\n      <td>0.0</td>\n      <td>19.0</td>\n      <td>0.0</td>\n      <td>29.0</td>\n      <td>4.0</td>\n    </tr>\n    <tr>\n      <th>...</th>\n      <td>...</td>\n      <td>...</td>\n      <td>...</td>\n      <td>...</td>\n      <td>...</td>\n      <td>...</td>\n      <td>...</td>\n      <td>...</td>\n      <td>...</td>\n      <td>...</td>\n      <td>...</td>\n    </tr>\n    <tr>\n      <th>132</th>\n      <td>Wilkes</td>\n      <td>2.0</td>\n      <td>3.0</td>\n      <td>1.0</td>\n      <td>28.0</td>\n      <td>24.0</td>\n      <td>48.0</td>\n      <td>32.0</td>\n      <td>11.0</td>\n      <td>149.0</td>\n      <td>26.0</td>\n    </tr>\n    <tr>\n      <th>133</th>\n      <td>Worth</td>\n      <td>4.0</td>\n      <td>14.0</td>\n      <td>9.0</td>\n      <td>131.0</td>\n      <td>32.0</td>\n      <td>14.0</td>\n      <td>83.0</td>\n      <td>28.0</td>\n      <td>315.0</td>\n      <td>9.0</td>\n    </tr>\n    <tr>\n      <th>134</th>\n      <td>NaN</td>\n      <td>NaN</td>\n      <td>NaN</td>\n      <td>NaN</td>\n      <td>NaN</td>\n      <td>NaN</td>\n      <td>NaN</td>\n      <td>NaN</td>\n      <td>NaN</td>\n      <td>NaN</td>\n      <td>NaN</td>\n    </tr>\n    <tr>\n      <th>135</th>\n      <td>NaN</td>\n      <td>NaN</td>\n      <td>NaN</td>\n      <td>NaN</td>\n      <td>NaN</td>\n      <td>NaN</td>\n      <td>NaN</td>\n      <td>NaN</td>\n      <td>NaN</td>\n      <td>NaN</td>\n      <td>NaN</td>\n    </tr>\n    <tr>\n      <th>136</th>\n      <td>Griffin, B., LaTora, A.G., Bhattarai, U., &amp; Br...</td>\n      <td>NaN</td>\n      <td>NaN</td>\n      <td>NaN</td>\n      <td>NaN</td>\n      <td>NaN</td>\n      <td>NaN</td>\n      <td>NaN</td>\n      <td>NaN</td>\n      <td>NaN</td>\n      <td>NaN</td>\n    </tr>\n  </tbody>\n</table>\n<p>137 rows × 11 columns</p>\n</div>"
     },
     "metadata": {},
     "execution_count": 3
    }
   ],
   "source": [
    "## Read data and store into df\n",
    "ggacpc = pd.read_csv(ggacpc)\n",
    "ggacpc"
   ]
  },
  {
   "cell_type": "code",
   "execution_count": 4,
   "metadata": {},
   "outputs": [
    {
     "output_type": "execute_result",
     "data": {
      "text/plain": [
       "        county  carpenter  bumble  honey  small  wasps  flies  butterflies  \\\n",
       "0      Appling      127.0   230.0  162.0  296.0  251.0  317.0        362.0   \n",
       "1        Bacon        0.0     0.0    1.0    0.0    7.0    0.0         47.0   \n",
       "2        Baker        1.0     1.0    1.0   12.0    4.0   12.0        158.0   \n",
       "3      Baldwin        3.0    56.0    1.0   22.0   52.0   74.0         91.0   \n",
       "4        Banks        0.0     7.0    0.0    3.0    0.0    0.0         19.0   \n",
       "..         ...        ...     ...    ...    ...    ...    ...          ...   \n",
       "129      White        5.0    20.0   18.0   58.0   40.0   14.0         27.0   \n",
       "130  Whitfield        0.0     2.0    2.0    6.0    1.0   10.0         12.0   \n",
       "131     Wilcox        9.0     2.0    0.0   11.0   12.0   10.0         25.0   \n",
       "132     Wilkes        2.0     3.0    1.0   28.0   24.0   48.0         32.0   \n",
       "133      Worth        4.0    14.0    9.0  131.0   32.0   14.0         83.0   \n",
       "\n",
       "     other  insects  num_participants  \n",
       "0    453.0   2198.0              93.0  \n",
       "1      7.0     62.0               2.0  \n",
       "2      7.0    196.0               5.0  \n",
       "3     23.0    322.0              16.0  \n",
       "4      0.0     29.0               4.0  \n",
       "..     ...      ...               ...  \n",
       "129   27.0    209.0              10.0  \n",
       "130    4.0     37.0               4.0  \n",
       "131   31.0    100.0               7.0  \n",
       "132   11.0    149.0              26.0  \n",
       "133   28.0    315.0               9.0  \n",
       "\n",
       "[134 rows x 11 columns]"
      ],
      "text/html": "<div>\n<style scoped>\n    .dataframe tbody tr th:only-of-type {\n        vertical-align: middle;\n    }\n\n    .dataframe tbody tr th {\n        vertical-align: top;\n    }\n\n    .dataframe thead th {\n        text-align: right;\n    }\n</style>\n<table border=\"1\" class=\"dataframe\">\n  <thead>\n    <tr style=\"text-align: right;\">\n      <th></th>\n      <th>county</th>\n      <th>carpenter</th>\n      <th>bumble</th>\n      <th>honey</th>\n      <th>small</th>\n      <th>wasps</th>\n      <th>flies</th>\n      <th>butterflies</th>\n      <th>other</th>\n      <th>insects</th>\n      <th>num_participants</th>\n    </tr>\n  </thead>\n  <tbody>\n    <tr>\n      <th>0</th>\n      <td>Appling</td>\n      <td>127.0</td>\n      <td>230.0</td>\n      <td>162.0</td>\n      <td>296.0</td>\n      <td>251.0</td>\n      <td>317.0</td>\n      <td>362.0</td>\n      <td>453.0</td>\n      <td>2198.0</td>\n      <td>93.0</td>\n    </tr>\n    <tr>\n      <th>1</th>\n      <td>Bacon</td>\n      <td>0.0</td>\n      <td>0.0</td>\n      <td>1.0</td>\n      <td>0.0</td>\n      <td>7.0</td>\n      <td>0.0</td>\n      <td>47.0</td>\n      <td>7.0</td>\n      <td>62.0</td>\n      <td>2.0</td>\n    </tr>\n    <tr>\n      <th>2</th>\n      <td>Baker</td>\n      <td>1.0</td>\n      <td>1.0</td>\n      <td>1.0</td>\n      <td>12.0</td>\n      <td>4.0</td>\n      <td>12.0</td>\n      <td>158.0</td>\n      <td>7.0</td>\n      <td>196.0</td>\n      <td>5.0</td>\n    </tr>\n    <tr>\n      <th>3</th>\n      <td>Baldwin</td>\n      <td>3.0</td>\n      <td>56.0</td>\n      <td>1.0</td>\n      <td>22.0</td>\n      <td>52.0</td>\n      <td>74.0</td>\n      <td>91.0</td>\n      <td>23.0</td>\n      <td>322.0</td>\n      <td>16.0</td>\n    </tr>\n    <tr>\n      <th>4</th>\n      <td>Banks</td>\n      <td>0.0</td>\n      <td>7.0</td>\n      <td>0.0</td>\n      <td>3.0</td>\n      <td>0.0</td>\n      <td>0.0</td>\n      <td>19.0</td>\n      <td>0.0</td>\n      <td>29.0</td>\n      <td>4.0</td>\n    </tr>\n    <tr>\n      <th>...</th>\n      <td>...</td>\n      <td>...</td>\n      <td>...</td>\n      <td>...</td>\n      <td>...</td>\n      <td>...</td>\n      <td>...</td>\n      <td>...</td>\n      <td>...</td>\n      <td>...</td>\n      <td>...</td>\n    </tr>\n    <tr>\n      <th>129</th>\n      <td>White</td>\n      <td>5.0</td>\n      <td>20.0</td>\n      <td>18.0</td>\n      <td>58.0</td>\n      <td>40.0</td>\n      <td>14.0</td>\n      <td>27.0</td>\n      <td>27.0</td>\n      <td>209.0</td>\n      <td>10.0</td>\n    </tr>\n    <tr>\n      <th>130</th>\n      <td>Whitfield</td>\n      <td>0.0</td>\n      <td>2.0</td>\n      <td>2.0</td>\n      <td>6.0</td>\n      <td>1.0</td>\n      <td>10.0</td>\n      <td>12.0</td>\n      <td>4.0</td>\n      <td>37.0</td>\n      <td>4.0</td>\n    </tr>\n    <tr>\n      <th>131</th>\n      <td>Wilcox</td>\n      <td>9.0</td>\n      <td>2.0</td>\n      <td>0.0</td>\n      <td>11.0</td>\n      <td>12.0</td>\n      <td>10.0</td>\n      <td>25.0</td>\n      <td>31.0</td>\n      <td>100.0</td>\n      <td>7.0</td>\n    </tr>\n    <tr>\n      <th>132</th>\n      <td>Wilkes</td>\n      <td>2.0</td>\n      <td>3.0</td>\n      <td>1.0</td>\n      <td>28.0</td>\n      <td>24.0</td>\n      <td>48.0</td>\n      <td>32.0</td>\n      <td>11.0</td>\n      <td>149.0</td>\n      <td>26.0</td>\n    </tr>\n    <tr>\n      <th>133</th>\n      <td>Worth</td>\n      <td>4.0</td>\n      <td>14.0</td>\n      <td>9.0</td>\n      <td>131.0</td>\n      <td>32.0</td>\n      <td>14.0</td>\n      <td>83.0</td>\n      <td>28.0</td>\n      <td>315.0</td>\n      <td>9.0</td>\n    </tr>\n  </tbody>\n</table>\n<p>134 rows × 11 columns</p>\n</div>"
     },
     "metadata": {},
     "execution_count": 4
    }
   ],
   "source": [
    "## Rename columns\n",
    "ggacpc.columns = ggacpc.columns.str.lower()\n",
    "ggacpc = ggacpc.rename(columns ={\n",
    "    \"unnamed: 0\": \"county\",\n",
    "    \"#insects\": \"insects\",\n",
    "    \"#counts\": \"num_participants\"\n",
    "})\n",
    "\n",
    "## Drop blank rows\n",
    "ggacpc = ggacpc.dropna()\n",
    "ggacpc"
   ]
  },
  {
   "cell_type": "code",
   "execution_count": 5,
   "metadata": {},
   "outputs": [],
   "source": [
    "ggacpc.to_csv(\"../ggacpc_19.csv\", index = False)"
   ]
  }
 ]
}