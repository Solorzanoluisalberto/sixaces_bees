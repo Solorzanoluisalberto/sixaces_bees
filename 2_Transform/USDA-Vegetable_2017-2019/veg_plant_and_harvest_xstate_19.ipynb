{
 "metadata": {
  "language_info": {
   "codemirror_mode": {
    "name": "ipython",
    "version": 3
   },
   "file_extension": ".py",
   "mimetype": "text/x-python",
   "name": "python",
   "nbconvert_exporter": "python",
   "pygments_lexer": "ipython3",
   "version": "3.8.5"
  },
  "orig_nbformat": 2,
  "kernelspec": {
   "name": "python385jvsc74a57bd06e67b620515b60b5e0a41f61aaaaaa0b5713da87d04dedede882ceace4acc361",
   "display_name": "Python 3.8.5 64-bit ('base': conda)"
  }
 },
 "nbformat": 4,
 "nbformat_minor": 2,
 "cells": [
  {
   "cell_type": "code",
   "execution_count": 42,
   "metadata": {},
   "outputs": [],
   "source": [
    "## Dependencies and setup\n",
    "import pandas as pd\n",
    "import numpy as np"
   ]
  },
  {
   "cell_type": "code",
   "execution_count": 43,
   "metadata": {},
   "outputs": [],
   "source": [
    "## Load data files\n",
    "veg_p_and_h = \"../../1_Extract/USDA-Vegetable_2017-2019/veg_plant_and_harvest_xstate_2017-2019.csv\""
   ]
  },
  {
   "cell_type": "code",
   "execution_count": 44,
   "metadata": {},
   "outputs": [
    {
     "output_type": "execute_result",
     "data": {
      "text/plain": [
       "    324  h                        Unnamed: 2 Area planted Area planted.1  \\\n",
       "0   324  h                             State          NaN            NaN   \n",
       "1   324  h                               NaN      2017 1/        2018 1/   \n",
       "2   324  h                               NaN          NaN            NaN   \n",
       "3   324  u                               NaN      (acres)        (acres)   \n",
       "4   324  d                        Alabama 3/         5600           6000   \n",
       "5   324  d                           Arizona       129900            (D)   \n",
       "6   324  d                     California 4/      1059100         999400   \n",
       "7   324  d                          Colorado          (D)            (D)   \n",
       "8   324  d                       Delaware 3/          (D)            (D)   \n",
       "9   324  d                        Florida 4/       178700         180000   \n",
       "10  324  d                           Georgia        97100         102900   \n",
       "11  324  d                             Idaho        16700          12600   \n",
       "12  324  d                          Illinois        48800          40900   \n",
       "13  324  d                           Indiana        28500          29200   \n",
       "14  324  d                               NaN          NaN            NaN   \n",
       "15  324  d                       Maryland 3/          (D)            (D)   \n",
       "16  324  d                          Michigan       110800         107700   \n",
       "17  324  d                         Minnesota       176800         171000   \n",
       "18  324  d                    Mississippi 4/            -              -   \n",
       "19  324  d                       Missouri 3/         3100            (D)   \n",
       "20  324  d                        New Jersey        30000          30300   \n",
       "21  324  d                        New Mexico        15400          15600   \n",
       "22  324  d                          New York        94300          97700   \n",
       "23  324  d                 North Carolina 4/        38300          40700   \n",
       "24  324  d                              Ohio        22200          22700   \n",
       "25  324  d                               NaN          NaN            NaN   \n",
       "26  324  d                            Oregon          (D)            (D)   \n",
       "27  324  d                      Pennsylvania        29300          30500   \n",
       "28  324  d                    South Carolina          (D)          10700   \n",
       "29  324  d                      Tennessee 3/        11700          13800   \n",
       "30  324  d                             Texas        73700          67500   \n",
       "31  324  d                          Virginia         6250           8300   \n",
       "32  324  d                        Washington       160400         147700   \n",
       "33  324  d                         Wisconsin          (D)            (D)   \n",
       "34  324  d                               NaN          NaN            NaN   \n",
       "35  324  d                   Other States 5/       323050         445250   \n",
       "36  324  d                               NaN          NaN            NaN   \n",
       "37  324  d                     United States      2659700        2580450   \n",
       "38  324  c                               NaN          NaN            NaN   \n",
       "39  324  c  See footnote(s) at end of table.  --continued            NaN   \n",
       "\n",
       "   Area planted.2 Area harvested Area harvested.1 Area harvested.2  \n",
       "0             NaN            NaN              NaN              NaN  \n",
       "1         2019 2/        2017 1/          2018 1/          2019 2/  \n",
       "2             NaN            NaN              NaN              NaN  \n",
       "3         (acres)        (acres)          (acres)          (acres)  \n",
       "4            (NA)           5400             5900             (NA)  \n",
       "5          124300         127000              (D)           123900  \n",
       "6          985600        1039900           985800           972400  \n",
       "7            3200            (D)              (D)             2700  \n",
       "8            (NA)            (D)              (D)             (NA)  \n",
       "9          175500         172700           172800           170700  \n",
       "10          96600          91900            95400            92900  \n",
       "11          11000          16400            12300            10900  \n",
       "12          43100          46100            38850            38100  \n",
       "13          11700          27800            28000            11100  \n",
       "14            NaN            NaN              NaN              NaN  \n",
       "15           (NA)            (D)              (D)             (NA)  \n",
       "16          90100         107500           101900            87200  \n",
       "17         160500         165100           160600           154300  \n",
       "18          28000              -                -            27500  \n",
       "19           (NA)           3000              (D)             (NA)  \n",
       "20          11200          28800            28500            10600  \n",
       "21          15700          14700            15000            15300  \n",
       "22          90100          90100            89200            86300  \n",
       "23         127700          37300            36500           126300  \n",
       "24           3700          21300            21500             3500  \n",
       "25            NaN            NaN              NaN              NaN  \n",
       "26          80700            (D)              (D)            79000  \n",
       "27          14700          27650            25500            13500  \n",
       "28           5000            (D)            10300             4500  \n",
       "29           (NA)          11300            12700             (NA)  \n",
       "30          54000          67600            62000            50100  \n",
       "31           5700           6000             7500             5600  \n",
       "32         144900         154300           144100           140300  \n",
       "33         164300            (D)              (D)           155900  \n",
       "34            NaN            NaN              NaN              NaN  \n",
       "35              -         310630           430750                -  \n",
       "36            NaN            NaN              NaN              NaN  \n",
       "37        2447300        2572480          2485100          2382600  \n",
       "38            NaN            NaN              NaN              NaN  \n",
       "39            NaN            NaN              NaN              NaN  "
      ],
      "text/html": "<div>\n<style scoped>\n    .dataframe tbody tr th:only-of-type {\n        vertical-align: middle;\n    }\n\n    .dataframe tbody tr th {\n        vertical-align: top;\n    }\n\n    .dataframe thead th {\n        text-align: right;\n    }\n</style>\n<table border=\"1\" class=\"dataframe\">\n  <thead>\n    <tr style=\"text-align: right;\">\n      <th></th>\n      <th>324</th>\n      <th>h</th>\n      <th>Unnamed: 2</th>\n      <th>Area planted</th>\n      <th>Area planted.1</th>\n      <th>Area planted.2</th>\n      <th>Area harvested</th>\n      <th>Area harvested.1</th>\n      <th>Area harvested.2</th>\n    </tr>\n  </thead>\n  <tbody>\n    <tr>\n      <th>0</th>\n      <td>324</td>\n      <td>h</td>\n      <td>State</td>\n      <td>NaN</td>\n      <td>NaN</td>\n      <td>NaN</td>\n      <td>NaN</td>\n      <td>NaN</td>\n      <td>NaN</td>\n    </tr>\n    <tr>\n      <th>1</th>\n      <td>324</td>\n      <td>h</td>\n      <td>NaN</td>\n      <td>2017 1/</td>\n      <td>2018 1/</td>\n      <td>2019 2/</td>\n      <td>2017 1/</td>\n      <td>2018 1/</td>\n      <td>2019 2/</td>\n    </tr>\n    <tr>\n      <th>2</th>\n      <td>324</td>\n      <td>h</td>\n      <td>NaN</td>\n      <td>NaN</td>\n      <td>NaN</td>\n      <td>NaN</td>\n      <td>NaN</td>\n      <td>NaN</td>\n      <td>NaN</td>\n    </tr>\n    <tr>\n      <th>3</th>\n      <td>324</td>\n      <td>u</td>\n      <td>NaN</td>\n      <td>(acres)</td>\n      <td>(acres)</td>\n      <td>(acres)</td>\n      <td>(acres)</td>\n      <td>(acres)</td>\n      <td>(acres)</td>\n    </tr>\n    <tr>\n      <th>4</th>\n      <td>324</td>\n      <td>d</td>\n      <td>Alabama 3/</td>\n      <td>5600</td>\n      <td>6000</td>\n      <td>(NA)</td>\n      <td>5400</td>\n      <td>5900</td>\n      <td>(NA)</td>\n    </tr>\n    <tr>\n      <th>5</th>\n      <td>324</td>\n      <td>d</td>\n      <td>Arizona</td>\n      <td>129900</td>\n      <td>(D)</td>\n      <td>124300</td>\n      <td>127000</td>\n      <td>(D)</td>\n      <td>123900</td>\n    </tr>\n    <tr>\n      <th>6</th>\n      <td>324</td>\n      <td>d</td>\n      <td>California 4/</td>\n      <td>1059100</td>\n      <td>999400</td>\n      <td>985600</td>\n      <td>1039900</td>\n      <td>985800</td>\n      <td>972400</td>\n    </tr>\n    <tr>\n      <th>7</th>\n      <td>324</td>\n      <td>d</td>\n      <td>Colorado</td>\n      <td>(D)</td>\n      <td>(D)</td>\n      <td>3200</td>\n      <td>(D)</td>\n      <td>(D)</td>\n      <td>2700</td>\n    </tr>\n    <tr>\n      <th>8</th>\n      <td>324</td>\n      <td>d</td>\n      <td>Delaware 3/</td>\n      <td>(D)</td>\n      <td>(D)</td>\n      <td>(NA)</td>\n      <td>(D)</td>\n      <td>(D)</td>\n      <td>(NA)</td>\n    </tr>\n    <tr>\n      <th>9</th>\n      <td>324</td>\n      <td>d</td>\n      <td>Florida 4/</td>\n      <td>178700</td>\n      <td>180000</td>\n      <td>175500</td>\n      <td>172700</td>\n      <td>172800</td>\n      <td>170700</td>\n    </tr>\n    <tr>\n      <th>10</th>\n      <td>324</td>\n      <td>d</td>\n      <td>Georgia</td>\n      <td>97100</td>\n      <td>102900</td>\n      <td>96600</td>\n      <td>91900</td>\n      <td>95400</td>\n      <td>92900</td>\n    </tr>\n    <tr>\n      <th>11</th>\n      <td>324</td>\n      <td>d</td>\n      <td>Idaho</td>\n      <td>16700</td>\n      <td>12600</td>\n      <td>11000</td>\n      <td>16400</td>\n      <td>12300</td>\n      <td>10900</td>\n    </tr>\n    <tr>\n      <th>12</th>\n      <td>324</td>\n      <td>d</td>\n      <td>Illinois</td>\n      <td>48800</td>\n      <td>40900</td>\n      <td>43100</td>\n      <td>46100</td>\n      <td>38850</td>\n      <td>38100</td>\n    </tr>\n    <tr>\n      <th>13</th>\n      <td>324</td>\n      <td>d</td>\n      <td>Indiana</td>\n      <td>28500</td>\n      <td>29200</td>\n      <td>11700</td>\n      <td>27800</td>\n      <td>28000</td>\n      <td>11100</td>\n    </tr>\n    <tr>\n      <th>14</th>\n      <td>324</td>\n      <td>d</td>\n      <td>NaN</td>\n      <td>NaN</td>\n      <td>NaN</td>\n      <td>NaN</td>\n      <td>NaN</td>\n      <td>NaN</td>\n      <td>NaN</td>\n    </tr>\n    <tr>\n      <th>15</th>\n      <td>324</td>\n      <td>d</td>\n      <td>Maryland 3/</td>\n      <td>(D)</td>\n      <td>(D)</td>\n      <td>(NA)</td>\n      <td>(D)</td>\n      <td>(D)</td>\n      <td>(NA)</td>\n    </tr>\n    <tr>\n      <th>16</th>\n      <td>324</td>\n      <td>d</td>\n      <td>Michigan</td>\n      <td>110800</td>\n      <td>107700</td>\n      <td>90100</td>\n      <td>107500</td>\n      <td>101900</td>\n      <td>87200</td>\n    </tr>\n    <tr>\n      <th>17</th>\n      <td>324</td>\n      <td>d</td>\n      <td>Minnesota</td>\n      <td>176800</td>\n      <td>171000</td>\n      <td>160500</td>\n      <td>165100</td>\n      <td>160600</td>\n      <td>154300</td>\n    </tr>\n    <tr>\n      <th>18</th>\n      <td>324</td>\n      <td>d</td>\n      <td>Mississippi 4/</td>\n      <td>-</td>\n      <td>-</td>\n      <td>28000</td>\n      <td>-</td>\n      <td>-</td>\n      <td>27500</td>\n    </tr>\n    <tr>\n      <th>19</th>\n      <td>324</td>\n      <td>d</td>\n      <td>Missouri 3/</td>\n      <td>3100</td>\n      <td>(D)</td>\n      <td>(NA)</td>\n      <td>3000</td>\n      <td>(D)</td>\n      <td>(NA)</td>\n    </tr>\n    <tr>\n      <th>20</th>\n      <td>324</td>\n      <td>d</td>\n      <td>New Jersey</td>\n      <td>30000</td>\n      <td>30300</td>\n      <td>11200</td>\n      <td>28800</td>\n      <td>28500</td>\n      <td>10600</td>\n    </tr>\n    <tr>\n      <th>21</th>\n      <td>324</td>\n      <td>d</td>\n      <td>New Mexico</td>\n      <td>15400</td>\n      <td>15600</td>\n      <td>15700</td>\n      <td>14700</td>\n      <td>15000</td>\n      <td>15300</td>\n    </tr>\n    <tr>\n      <th>22</th>\n      <td>324</td>\n      <td>d</td>\n      <td>New York</td>\n      <td>94300</td>\n      <td>97700</td>\n      <td>90100</td>\n      <td>90100</td>\n      <td>89200</td>\n      <td>86300</td>\n    </tr>\n    <tr>\n      <th>23</th>\n      <td>324</td>\n      <td>d</td>\n      <td>North Carolina 4/</td>\n      <td>38300</td>\n      <td>40700</td>\n      <td>127700</td>\n      <td>37300</td>\n      <td>36500</td>\n      <td>126300</td>\n    </tr>\n    <tr>\n      <th>24</th>\n      <td>324</td>\n      <td>d</td>\n      <td>Ohio</td>\n      <td>22200</td>\n      <td>22700</td>\n      <td>3700</td>\n      <td>21300</td>\n      <td>21500</td>\n      <td>3500</td>\n    </tr>\n    <tr>\n      <th>25</th>\n      <td>324</td>\n      <td>d</td>\n      <td>NaN</td>\n      <td>NaN</td>\n      <td>NaN</td>\n      <td>NaN</td>\n      <td>NaN</td>\n      <td>NaN</td>\n      <td>NaN</td>\n    </tr>\n    <tr>\n      <th>26</th>\n      <td>324</td>\n      <td>d</td>\n      <td>Oregon</td>\n      <td>(D)</td>\n      <td>(D)</td>\n      <td>80700</td>\n      <td>(D)</td>\n      <td>(D)</td>\n      <td>79000</td>\n    </tr>\n    <tr>\n      <th>27</th>\n      <td>324</td>\n      <td>d</td>\n      <td>Pennsylvania</td>\n      <td>29300</td>\n      <td>30500</td>\n      <td>14700</td>\n      <td>27650</td>\n      <td>25500</td>\n      <td>13500</td>\n    </tr>\n    <tr>\n      <th>28</th>\n      <td>324</td>\n      <td>d</td>\n      <td>South Carolina</td>\n      <td>(D)</td>\n      <td>10700</td>\n      <td>5000</td>\n      <td>(D)</td>\n      <td>10300</td>\n      <td>4500</td>\n    </tr>\n    <tr>\n      <th>29</th>\n      <td>324</td>\n      <td>d</td>\n      <td>Tennessee 3/</td>\n      <td>11700</td>\n      <td>13800</td>\n      <td>(NA)</td>\n      <td>11300</td>\n      <td>12700</td>\n      <td>(NA)</td>\n    </tr>\n    <tr>\n      <th>30</th>\n      <td>324</td>\n      <td>d</td>\n      <td>Texas</td>\n      <td>73700</td>\n      <td>67500</td>\n      <td>54000</td>\n      <td>67600</td>\n      <td>62000</td>\n      <td>50100</td>\n    </tr>\n    <tr>\n      <th>31</th>\n      <td>324</td>\n      <td>d</td>\n      <td>Virginia</td>\n      <td>6250</td>\n      <td>8300</td>\n      <td>5700</td>\n      <td>6000</td>\n      <td>7500</td>\n      <td>5600</td>\n    </tr>\n    <tr>\n      <th>32</th>\n      <td>324</td>\n      <td>d</td>\n      <td>Washington</td>\n      <td>160400</td>\n      <td>147700</td>\n      <td>144900</td>\n      <td>154300</td>\n      <td>144100</td>\n      <td>140300</td>\n    </tr>\n    <tr>\n      <th>33</th>\n      <td>324</td>\n      <td>d</td>\n      <td>Wisconsin</td>\n      <td>(D)</td>\n      <td>(D)</td>\n      <td>164300</td>\n      <td>(D)</td>\n      <td>(D)</td>\n      <td>155900</td>\n    </tr>\n    <tr>\n      <th>34</th>\n      <td>324</td>\n      <td>d</td>\n      <td>NaN</td>\n      <td>NaN</td>\n      <td>NaN</td>\n      <td>NaN</td>\n      <td>NaN</td>\n      <td>NaN</td>\n      <td>NaN</td>\n    </tr>\n    <tr>\n      <th>35</th>\n      <td>324</td>\n      <td>d</td>\n      <td>Other States 5/</td>\n      <td>323050</td>\n      <td>445250</td>\n      <td>-</td>\n      <td>310630</td>\n      <td>430750</td>\n      <td>-</td>\n    </tr>\n    <tr>\n      <th>36</th>\n      <td>324</td>\n      <td>d</td>\n      <td>NaN</td>\n      <td>NaN</td>\n      <td>NaN</td>\n      <td>NaN</td>\n      <td>NaN</td>\n      <td>NaN</td>\n      <td>NaN</td>\n    </tr>\n    <tr>\n      <th>37</th>\n      <td>324</td>\n      <td>d</td>\n      <td>United States</td>\n      <td>2659700</td>\n      <td>2580450</td>\n      <td>2447300</td>\n      <td>2572480</td>\n      <td>2485100</td>\n      <td>2382600</td>\n    </tr>\n    <tr>\n      <th>38</th>\n      <td>324</td>\n      <td>c</td>\n      <td>NaN</td>\n      <td>NaN</td>\n      <td>NaN</td>\n      <td>NaN</td>\n      <td>NaN</td>\n      <td>NaN</td>\n      <td>NaN</td>\n    </tr>\n    <tr>\n      <th>39</th>\n      <td>324</td>\n      <td>c</td>\n      <td>See footnote(s) at end of table.</td>\n      <td>--continued</td>\n      <td>NaN</td>\n      <td>NaN</td>\n      <td>NaN</td>\n      <td>NaN</td>\n      <td>NaN</td>\n    </tr>\n  </tbody>\n</table>\n</div>"
     },
     "metadata": {},
     "execution_count": 44
    }
   ],
   "source": [
    "## Read data and store into df\n",
    "## Drop the first 3 rows which hold info text\n",
    "veg_p_and_h = pd.read_csv(veg_p_and_h, skiprows=3)\n",
    "veg_p_and_h"
   ]
  },
  {
   "cell_type": "code",
   "execution_count": 45,
   "metadata": {},
   "outputs": [
    {
     "output_type": "execute_result",
     "data": {
      "text/plain": [
       "   Unnamed: 2 Area planted.2 Area harvested.2\n",
       "0       State            NaN              NaN\n",
       "1         NaN        2019 2/          2019 2/\n",
       "2         NaN            NaN              NaN\n",
       "3         NaN        (acres)          (acres)\n",
       "4  Alabama 3/           (NA)             (NA)"
      ],
      "text/html": "<div>\n<style scoped>\n    .dataframe tbody tr th:only-of-type {\n        vertical-align: middle;\n    }\n\n    .dataframe tbody tr th {\n        vertical-align: top;\n    }\n\n    .dataframe thead th {\n        text-align: right;\n    }\n</style>\n<table border=\"1\" class=\"dataframe\">\n  <thead>\n    <tr style=\"text-align: right;\">\n      <th></th>\n      <th>Unnamed: 2</th>\n      <th>Area planted.2</th>\n      <th>Area harvested.2</th>\n    </tr>\n  </thead>\n  <tbody>\n    <tr>\n      <th>0</th>\n      <td>State</td>\n      <td>NaN</td>\n      <td>NaN</td>\n    </tr>\n    <tr>\n      <th>1</th>\n      <td>NaN</td>\n      <td>2019 2/</td>\n      <td>2019 2/</td>\n    </tr>\n    <tr>\n      <th>2</th>\n      <td>NaN</td>\n      <td>NaN</td>\n      <td>NaN</td>\n    </tr>\n    <tr>\n      <th>3</th>\n      <td>NaN</td>\n      <td>(acres)</td>\n      <td>(acres)</td>\n    </tr>\n    <tr>\n      <th>4</th>\n      <td>Alabama 3/</td>\n      <td>(NA)</td>\n      <td>(NA)</td>\n    </tr>\n  </tbody>\n</table>\n</div>"
     },
     "metadata": {},
     "execution_count": 45
    }
   ],
   "source": [
    "## Drop erroneous first 2 columns and non-2019 data\n",
    "veg_p_and_h.drop(veg_p_and_h.iloc[:, [0, 1, 3, 4, 6, 7]], axis = 1, inplace = True)\n",
    "\n",
    "## Drop erroneous last few rows\n",
    "#veg_p_and_h.drop(veg_p_and_h.index[56:66])\n",
    "\n",
    "veg_p_and_h.head()"
   ]
  },
  {
   "cell_type": "code",
   "execution_count": 46,
   "metadata": {},
   "outputs": [
    {
     "output_type": "execute_result",
     "data": {
      "text/plain": [
       "        state area_planted(acres) area_harvested(acres)\n",
       "0       State                 NaN                   NaN\n",
       "1         NaN             2019 2/               2019 2/\n",
       "2         NaN                 NaN                   NaN\n",
       "3         NaN             (acres)               (acres)\n",
       "4  Alabama 3/                (NA)                  (NA)"
      ],
      "text/html": "<div>\n<style scoped>\n    .dataframe tbody tr th:only-of-type {\n        vertical-align: middle;\n    }\n\n    .dataframe tbody tr th {\n        vertical-align: top;\n    }\n\n    .dataframe thead th {\n        text-align: right;\n    }\n</style>\n<table border=\"1\" class=\"dataframe\">\n  <thead>\n    <tr style=\"text-align: right;\">\n      <th></th>\n      <th>state</th>\n      <th>area_planted(acres)</th>\n      <th>area_harvested(acres)</th>\n    </tr>\n  </thead>\n  <tbody>\n    <tr>\n      <th>0</th>\n      <td>State</td>\n      <td>NaN</td>\n      <td>NaN</td>\n    </tr>\n    <tr>\n      <th>1</th>\n      <td>NaN</td>\n      <td>2019 2/</td>\n      <td>2019 2/</td>\n    </tr>\n    <tr>\n      <th>2</th>\n      <td>NaN</td>\n      <td>NaN</td>\n      <td>NaN</td>\n    </tr>\n    <tr>\n      <th>3</th>\n      <td>NaN</td>\n      <td>(acres)</td>\n      <td>(acres)</td>\n    </tr>\n    <tr>\n      <th>4</th>\n      <td>Alabama 3/</td>\n      <td>(NA)</td>\n      <td>(NA)</td>\n    </tr>\n  </tbody>\n</table>\n</div>"
     },
     "metadata": {},
     "execution_count": 46
    }
   ],
   "source": [
    "## Rename columns\n",
    "veg_p_and_h = veg_p_and_h.rename(columns={\n",
    "    \"Unnamed: 2\": \"state\",\n",
    "    \"Area planted.2\": \"area_planted(acres)\",\n",
    "    \"Area harvested.2\": \"area_harvested(acres)\"\n",
    "})\n",
    "\n",
    "veg_p_and_h.head()"
   ]
  },
  {
   "cell_type": "code",
   "execution_count": 47,
   "metadata": {},
   "outputs": [
    {
     "output_type": "execute_result",
     "data": {
      "text/plain": [
       "           state area_planted(acres) area_harvested(acres)\n",
       "4     Alabama 3/                (NA)                  (NA)\n",
       "5        Arizona              124300                123900\n",
       "6  California 4/              985600                972400\n",
       "7       Colorado                3200                  2700\n",
       "8    Delaware 3/                (NA)                  (NA)"
      ],
      "text/html": "<div>\n<style scoped>\n    .dataframe tbody tr th:only-of-type {\n        vertical-align: middle;\n    }\n\n    .dataframe tbody tr th {\n        vertical-align: top;\n    }\n\n    .dataframe thead th {\n        text-align: right;\n    }\n</style>\n<table border=\"1\" class=\"dataframe\">\n  <thead>\n    <tr style=\"text-align: right;\">\n      <th></th>\n      <th>state</th>\n      <th>area_planted(acres)</th>\n      <th>area_harvested(acres)</th>\n    </tr>\n  </thead>\n  <tbody>\n    <tr>\n      <th>4</th>\n      <td>Alabama 3/</td>\n      <td>(NA)</td>\n      <td>(NA)</td>\n    </tr>\n    <tr>\n      <th>5</th>\n      <td>Arizona</td>\n      <td>124300</td>\n      <td>123900</td>\n    </tr>\n    <tr>\n      <th>6</th>\n      <td>California 4/</td>\n      <td>985600</td>\n      <td>972400</td>\n    </tr>\n    <tr>\n      <th>7</th>\n      <td>Colorado</td>\n      <td>3200</td>\n      <td>2700</td>\n    </tr>\n    <tr>\n      <th>8</th>\n      <td>Delaware 3/</td>\n      <td>(NA)</td>\n      <td>(NA)</td>\n    </tr>\n  </tbody>\n</table>\n</div>"
     },
     "metadata": {},
     "execution_count": 47
    }
   ],
   "source": [
    "## Drop blank rows\n",
    "veg_p_and_h = veg_p_and_h.dropna()\n",
    "veg_p_and_h.head()"
   ]
  },
  {
   "cell_type": "code",
   "execution_count": 48,
   "metadata": {},
   "outputs": [
    {
     "output_type": "execute_result",
     "data": {
      "text/plain": [
       "                state area_planted(acres) area_harvested(acres)\n",
       "0          Alabama 3/                (NA)                  (NA)\n",
       "1             Arizona              124300                123900\n",
       "2       California 4/              985600                972400\n",
       "3            Colorado                3200                  2700\n",
       "4         Delaware 3/                (NA)                  (NA)\n",
       "5          Florida 4/              175500                170700\n",
       "6             Georgia               96600                 92900\n",
       "7               Idaho               11000                 10900\n",
       "8            Illinois               43100                 38100\n",
       "9             Indiana               11700                 11100\n",
       "10        Maryland 3/                (NA)                  (NA)\n",
       "11           Michigan               90100                 87200\n",
       "12          Minnesota              160500                154300\n",
       "13     Mississippi 4/               28000                 27500\n",
       "14        Missouri 3/                (NA)                  (NA)\n",
       "15         New Jersey               11200                 10600\n",
       "16         New Mexico               15700                 15300\n",
       "17           New York               90100                 86300\n",
       "18  North Carolina 4/              127700                126300\n",
       "19               Ohio                3700                  3500\n",
       "20             Oregon               80700                 79000\n",
       "21       Pennsylvania               14700                 13500\n",
       "22     South Carolina                5000                  4500\n",
       "23       Tennessee 3/                (NA)                  (NA)\n",
       "24              Texas               54000                 50100\n",
       "25           Virginia                5700                  5600\n",
       "26         Washington              144900                140300\n",
       "27          Wisconsin              164300                155900\n",
       "28    Other States 5/                   -                     -\n",
       "29      United States             2447300               2382600"
      ],
      "text/html": "<div>\n<style scoped>\n    .dataframe tbody tr th:only-of-type {\n        vertical-align: middle;\n    }\n\n    .dataframe tbody tr th {\n        vertical-align: top;\n    }\n\n    .dataframe thead th {\n        text-align: right;\n    }\n</style>\n<table border=\"1\" class=\"dataframe\">\n  <thead>\n    <tr style=\"text-align: right;\">\n      <th></th>\n      <th>state</th>\n      <th>area_planted(acres)</th>\n      <th>area_harvested(acres)</th>\n    </tr>\n  </thead>\n  <tbody>\n    <tr>\n      <th>0</th>\n      <td>Alabama 3/</td>\n      <td>(NA)</td>\n      <td>(NA)</td>\n    </tr>\n    <tr>\n      <th>1</th>\n      <td>Arizona</td>\n      <td>124300</td>\n      <td>123900</td>\n    </tr>\n    <tr>\n      <th>2</th>\n      <td>California 4/</td>\n      <td>985600</td>\n      <td>972400</td>\n    </tr>\n    <tr>\n      <th>3</th>\n      <td>Colorado</td>\n      <td>3200</td>\n      <td>2700</td>\n    </tr>\n    <tr>\n      <th>4</th>\n      <td>Delaware 3/</td>\n      <td>(NA)</td>\n      <td>(NA)</td>\n    </tr>\n    <tr>\n      <th>5</th>\n      <td>Florida 4/</td>\n      <td>175500</td>\n      <td>170700</td>\n    </tr>\n    <tr>\n      <th>6</th>\n      <td>Georgia</td>\n      <td>96600</td>\n      <td>92900</td>\n    </tr>\n    <tr>\n      <th>7</th>\n      <td>Idaho</td>\n      <td>11000</td>\n      <td>10900</td>\n    </tr>\n    <tr>\n      <th>8</th>\n      <td>Illinois</td>\n      <td>43100</td>\n      <td>38100</td>\n    </tr>\n    <tr>\n      <th>9</th>\n      <td>Indiana</td>\n      <td>11700</td>\n      <td>11100</td>\n    </tr>\n    <tr>\n      <th>10</th>\n      <td>Maryland 3/</td>\n      <td>(NA)</td>\n      <td>(NA)</td>\n    </tr>\n    <tr>\n      <th>11</th>\n      <td>Michigan</td>\n      <td>90100</td>\n      <td>87200</td>\n    </tr>\n    <tr>\n      <th>12</th>\n      <td>Minnesota</td>\n      <td>160500</td>\n      <td>154300</td>\n    </tr>\n    <tr>\n      <th>13</th>\n      <td>Mississippi 4/</td>\n      <td>28000</td>\n      <td>27500</td>\n    </tr>\n    <tr>\n      <th>14</th>\n      <td>Missouri 3/</td>\n      <td>(NA)</td>\n      <td>(NA)</td>\n    </tr>\n    <tr>\n      <th>15</th>\n      <td>New Jersey</td>\n      <td>11200</td>\n      <td>10600</td>\n    </tr>\n    <tr>\n      <th>16</th>\n      <td>New Mexico</td>\n      <td>15700</td>\n      <td>15300</td>\n    </tr>\n    <tr>\n      <th>17</th>\n      <td>New York</td>\n      <td>90100</td>\n      <td>86300</td>\n    </tr>\n    <tr>\n      <th>18</th>\n      <td>North Carolina 4/</td>\n      <td>127700</td>\n      <td>126300</td>\n    </tr>\n    <tr>\n      <th>19</th>\n      <td>Ohio</td>\n      <td>3700</td>\n      <td>3500</td>\n    </tr>\n    <tr>\n      <th>20</th>\n      <td>Oregon</td>\n      <td>80700</td>\n      <td>79000</td>\n    </tr>\n    <tr>\n      <th>21</th>\n      <td>Pennsylvania</td>\n      <td>14700</td>\n      <td>13500</td>\n    </tr>\n    <tr>\n      <th>22</th>\n      <td>South Carolina</td>\n      <td>5000</td>\n      <td>4500</td>\n    </tr>\n    <tr>\n      <th>23</th>\n      <td>Tennessee 3/</td>\n      <td>(NA)</td>\n      <td>(NA)</td>\n    </tr>\n    <tr>\n      <th>24</th>\n      <td>Texas</td>\n      <td>54000</td>\n      <td>50100</td>\n    </tr>\n    <tr>\n      <th>25</th>\n      <td>Virginia</td>\n      <td>5700</td>\n      <td>5600</td>\n    </tr>\n    <tr>\n      <th>26</th>\n      <td>Washington</td>\n      <td>144900</td>\n      <td>140300</td>\n    </tr>\n    <tr>\n      <th>27</th>\n      <td>Wisconsin</td>\n      <td>164300</td>\n      <td>155900</td>\n    </tr>\n    <tr>\n      <th>28</th>\n      <td>Other States 5/</td>\n      <td>-</td>\n      <td>-</td>\n    </tr>\n    <tr>\n      <th>29</th>\n      <td>United States</td>\n      <td>2447300</td>\n      <td>2382600</td>\n    </tr>\n  </tbody>\n</table>\n</div>"
     },
     "metadata": {},
     "execution_count": 48
    }
   ],
   "source": [
    "## Reset the index\n",
    "veg_p_and_h = veg_p_and_h.reset_index(drop = True)\n",
    "veg_p_and_h"
   ]
  },
  {
   "cell_type": "code",
   "execution_count": 49,
   "metadata": {},
   "outputs": [
    {
     "output_type": "execute_result",
     "data": {
      "text/plain": [
       "                state area_planted(acres) area_harvested(acres)\n",
       "0          Alabama 3/                None                  None\n",
       "1             Arizona              124300                123900\n",
       "2       California 4/              985600                972400\n",
       "3            Colorado                3200                  2700\n",
       "4         Delaware 3/                None                  None\n",
       "5          Florida 4/              175500                170700\n",
       "6             Georgia               96600                 92900\n",
       "7               Idaho               11000                 10900\n",
       "8            Illinois               43100                 38100\n",
       "9             Indiana               11700                 11100\n",
       "10        Maryland 3/                None                  None\n",
       "11           Michigan               90100                 87200\n",
       "12          Minnesota              160500                154300\n",
       "13     Mississippi 4/               28000                 27500\n",
       "14        Missouri 3/                None                  None\n",
       "15         New Jersey               11200                 10600\n",
       "16         New Mexico               15700                 15300\n",
       "17           New York               90100                 86300\n",
       "18  North Carolina 4/              127700                126300\n",
       "19               Ohio                3700                  3500\n",
       "20             Oregon               80700                 79000\n",
       "21       Pennsylvania               14700                 13500\n",
       "22     South Carolina                5000                  4500\n",
       "23       Tennessee 3/                None                  None\n",
       "24              Texas               54000                 50100\n",
       "25           Virginia                5700                  5600\n",
       "26         Washington              144900                140300\n",
       "27          Wisconsin              164300                155900\n",
       "28    Other States 5/                None                  None\n",
       "29      United States             2447300               2382600"
      ],
      "text/html": "<div>\n<style scoped>\n    .dataframe tbody tr th:only-of-type {\n        vertical-align: middle;\n    }\n\n    .dataframe tbody tr th {\n        vertical-align: top;\n    }\n\n    .dataframe thead th {\n        text-align: right;\n    }\n</style>\n<table border=\"1\" class=\"dataframe\">\n  <thead>\n    <tr style=\"text-align: right;\">\n      <th></th>\n      <th>state</th>\n      <th>area_planted(acres)</th>\n      <th>area_harvested(acres)</th>\n    </tr>\n  </thead>\n  <tbody>\n    <tr>\n      <th>0</th>\n      <td>Alabama 3/</td>\n      <td>None</td>\n      <td>None</td>\n    </tr>\n    <tr>\n      <th>1</th>\n      <td>Arizona</td>\n      <td>124300</td>\n      <td>123900</td>\n    </tr>\n    <tr>\n      <th>2</th>\n      <td>California 4/</td>\n      <td>985600</td>\n      <td>972400</td>\n    </tr>\n    <tr>\n      <th>3</th>\n      <td>Colorado</td>\n      <td>3200</td>\n      <td>2700</td>\n    </tr>\n    <tr>\n      <th>4</th>\n      <td>Delaware 3/</td>\n      <td>None</td>\n      <td>None</td>\n    </tr>\n    <tr>\n      <th>5</th>\n      <td>Florida 4/</td>\n      <td>175500</td>\n      <td>170700</td>\n    </tr>\n    <tr>\n      <th>6</th>\n      <td>Georgia</td>\n      <td>96600</td>\n      <td>92900</td>\n    </tr>\n    <tr>\n      <th>7</th>\n      <td>Idaho</td>\n      <td>11000</td>\n      <td>10900</td>\n    </tr>\n    <tr>\n      <th>8</th>\n      <td>Illinois</td>\n      <td>43100</td>\n      <td>38100</td>\n    </tr>\n    <tr>\n      <th>9</th>\n      <td>Indiana</td>\n      <td>11700</td>\n      <td>11100</td>\n    </tr>\n    <tr>\n      <th>10</th>\n      <td>Maryland 3/</td>\n      <td>None</td>\n      <td>None</td>\n    </tr>\n    <tr>\n      <th>11</th>\n      <td>Michigan</td>\n      <td>90100</td>\n      <td>87200</td>\n    </tr>\n    <tr>\n      <th>12</th>\n      <td>Minnesota</td>\n      <td>160500</td>\n      <td>154300</td>\n    </tr>\n    <tr>\n      <th>13</th>\n      <td>Mississippi 4/</td>\n      <td>28000</td>\n      <td>27500</td>\n    </tr>\n    <tr>\n      <th>14</th>\n      <td>Missouri 3/</td>\n      <td>None</td>\n      <td>None</td>\n    </tr>\n    <tr>\n      <th>15</th>\n      <td>New Jersey</td>\n      <td>11200</td>\n      <td>10600</td>\n    </tr>\n    <tr>\n      <th>16</th>\n      <td>New Mexico</td>\n      <td>15700</td>\n      <td>15300</td>\n    </tr>\n    <tr>\n      <th>17</th>\n      <td>New York</td>\n      <td>90100</td>\n      <td>86300</td>\n    </tr>\n    <tr>\n      <th>18</th>\n      <td>North Carolina 4/</td>\n      <td>127700</td>\n      <td>126300</td>\n    </tr>\n    <tr>\n      <th>19</th>\n      <td>Ohio</td>\n      <td>3700</td>\n      <td>3500</td>\n    </tr>\n    <tr>\n      <th>20</th>\n      <td>Oregon</td>\n      <td>80700</td>\n      <td>79000</td>\n    </tr>\n    <tr>\n      <th>21</th>\n      <td>Pennsylvania</td>\n      <td>14700</td>\n      <td>13500</td>\n    </tr>\n    <tr>\n      <th>22</th>\n      <td>South Carolina</td>\n      <td>5000</td>\n      <td>4500</td>\n    </tr>\n    <tr>\n      <th>23</th>\n      <td>Tennessee 3/</td>\n      <td>None</td>\n      <td>None</td>\n    </tr>\n    <tr>\n      <th>24</th>\n      <td>Texas</td>\n      <td>54000</td>\n      <td>50100</td>\n    </tr>\n    <tr>\n      <th>25</th>\n      <td>Virginia</td>\n      <td>5700</td>\n      <td>5600</td>\n    </tr>\n    <tr>\n      <th>26</th>\n      <td>Washington</td>\n      <td>144900</td>\n      <td>140300</td>\n    </tr>\n    <tr>\n      <th>27</th>\n      <td>Wisconsin</td>\n      <td>164300</td>\n      <td>155900</td>\n    </tr>\n    <tr>\n      <th>28</th>\n      <td>Other States 5/</td>\n      <td>None</td>\n      <td>None</td>\n    </tr>\n    <tr>\n      <th>29</th>\n      <td>United States</td>\n      <td>2447300</td>\n      <td>2382600</td>\n    </tr>\n  </tbody>\n</table>\n</div>"
     },
     "metadata": {},
     "execution_count": 49
    }
   ],
   "source": [
    "## Replace (NA) and \"-\" with None\n",
    "veg_p_and_h = veg_p_and_h.replace({'(NA)': None})\n",
    "veg_p_and_h = veg_p_and_h.replace({'-': None})\n",
    "veg_p_and_h\n"
   ]
  },
  {
   "cell_type": "code",
   "execution_count": 50,
   "metadata": {},
   "outputs": [
    {
     "output_type": "execute_result",
     "data": {
      "text/plain": [
       "             state area_planted(acres) area_harvested(acres)\n",
       "0          Alabama                None                  None\n",
       "1          Arizona              124300                123900\n",
       "2       California              985600                972400\n",
       "3         Colorado                3200                  2700\n",
       "4         Delaware                None                  None\n",
       "5          Florida              175500                170700\n",
       "6          Georgia               96600                 92900\n",
       "7            Idaho               11000                 10900\n",
       "8         Illinois               43100                 38100\n",
       "9          Indiana               11700                 11100\n",
       "10        Maryland                None                  None\n",
       "11        Michigan               90100                 87200\n",
       "12       Minnesota              160500                154300\n",
       "13     Mississippi               28000                 27500\n",
       "14        Missouri                None                  None\n",
       "15      New Jersey               11200                 10600\n",
       "16      New Mexico               15700                 15300\n",
       "17        New York               90100                 86300\n",
       "18  North Carolina              127700                126300\n",
       "19            Ohio                3700                  3500\n",
       "20          Oregon               80700                 79000\n",
       "21    Pennsylvania               14700                 13500\n",
       "22  South Carolina                5000                  4500\n",
       "23       Tennessee                None                  None\n",
       "24           Texas               54000                 50100\n",
       "25        Virginia                5700                  5600\n",
       "26      Washington              144900                140300\n",
       "27       Wisconsin              164300                155900\n",
       "28    Other States                None                  None\n",
       "29   United States             2447300               2382600"
      ],
      "text/html": "<div>\n<style scoped>\n    .dataframe tbody tr th:only-of-type {\n        vertical-align: middle;\n    }\n\n    .dataframe tbody tr th {\n        vertical-align: top;\n    }\n\n    .dataframe thead th {\n        text-align: right;\n    }\n</style>\n<table border=\"1\" class=\"dataframe\">\n  <thead>\n    <tr style=\"text-align: right;\">\n      <th></th>\n      <th>state</th>\n      <th>area_planted(acres)</th>\n      <th>area_harvested(acres)</th>\n    </tr>\n  </thead>\n  <tbody>\n    <tr>\n      <th>0</th>\n      <td>Alabama</td>\n      <td>None</td>\n      <td>None</td>\n    </tr>\n    <tr>\n      <th>1</th>\n      <td>Arizona</td>\n      <td>124300</td>\n      <td>123900</td>\n    </tr>\n    <tr>\n      <th>2</th>\n      <td>California</td>\n      <td>985600</td>\n      <td>972400</td>\n    </tr>\n    <tr>\n      <th>3</th>\n      <td>Colorado</td>\n      <td>3200</td>\n      <td>2700</td>\n    </tr>\n    <tr>\n      <th>4</th>\n      <td>Delaware</td>\n      <td>None</td>\n      <td>None</td>\n    </tr>\n    <tr>\n      <th>5</th>\n      <td>Florida</td>\n      <td>175500</td>\n      <td>170700</td>\n    </tr>\n    <tr>\n      <th>6</th>\n      <td>Georgia</td>\n      <td>96600</td>\n      <td>92900</td>\n    </tr>\n    <tr>\n      <th>7</th>\n      <td>Idaho</td>\n      <td>11000</td>\n      <td>10900</td>\n    </tr>\n    <tr>\n      <th>8</th>\n      <td>Illinois</td>\n      <td>43100</td>\n      <td>38100</td>\n    </tr>\n    <tr>\n      <th>9</th>\n      <td>Indiana</td>\n      <td>11700</td>\n      <td>11100</td>\n    </tr>\n    <tr>\n      <th>10</th>\n      <td>Maryland</td>\n      <td>None</td>\n      <td>None</td>\n    </tr>\n    <tr>\n      <th>11</th>\n      <td>Michigan</td>\n      <td>90100</td>\n      <td>87200</td>\n    </tr>\n    <tr>\n      <th>12</th>\n      <td>Minnesota</td>\n      <td>160500</td>\n      <td>154300</td>\n    </tr>\n    <tr>\n      <th>13</th>\n      <td>Mississippi</td>\n      <td>28000</td>\n      <td>27500</td>\n    </tr>\n    <tr>\n      <th>14</th>\n      <td>Missouri</td>\n      <td>None</td>\n      <td>None</td>\n    </tr>\n    <tr>\n      <th>15</th>\n      <td>New Jersey</td>\n      <td>11200</td>\n      <td>10600</td>\n    </tr>\n    <tr>\n      <th>16</th>\n      <td>New Mexico</td>\n      <td>15700</td>\n      <td>15300</td>\n    </tr>\n    <tr>\n      <th>17</th>\n      <td>New York</td>\n      <td>90100</td>\n      <td>86300</td>\n    </tr>\n    <tr>\n      <th>18</th>\n      <td>North Carolina</td>\n      <td>127700</td>\n      <td>126300</td>\n    </tr>\n    <tr>\n      <th>19</th>\n      <td>Ohio</td>\n      <td>3700</td>\n      <td>3500</td>\n    </tr>\n    <tr>\n      <th>20</th>\n      <td>Oregon</td>\n      <td>80700</td>\n      <td>79000</td>\n    </tr>\n    <tr>\n      <th>21</th>\n      <td>Pennsylvania</td>\n      <td>14700</td>\n      <td>13500</td>\n    </tr>\n    <tr>\n      <th>22</th>\n      <td>South Carolina</td>\n      <td>5000</td>\n      <td>4500</td>\n    </tr>\n    <tr>\n      <th>23</th>\n      <td>Tennessee</td>\n      <td>None</td>\n      <td>None</td>\n    </tr>\n    <tr>\n      <th>24</th>\n      <td>Texas</td>\n      <td>54000</td>\n      <td>50100</td>\n    </tr>\n    <tr>\n      <th>25</th>\n      <td>Virginia</td>\n      <td>5700</td>\n      <td>5600</td>\n    </tr>\n    <tr>\n      <th>26</th>\n      <td>Washington</td>\n      <td>144900</td>\n      <td>140300</td>\n    </tr>\n    <tr>\n      <th>27</th>\n      <td>Wisconsin</td>\n      <td>164300</td>\n      <td>155900</td>\n    </tr>\n    <tr>\n      <th>28</th>\n      <td>Other States</td>\n      <td>None</td>\n      <td>None</td>\n    </tr>\n    <tr>\n      <th>29</th>\n      <td>United States</td>\n      <td>2447300</td>\n      <td>2382600</td>\n    </tr>\n  </tbody>\n</table>\n</div>"
     },
     "metadata": {},
     "execution_count": 50
    }
   ],
   "source": [
    "## Remove erroenous text from col \"state\"\n",
    "veg_p_and_h = veg_p_and_h.replace(' 3/', '', regex=True)\n",
    "veg_p_and_h = veg_p_and_h.replace(' 4/', '', regex=True)\n",
    "veg_p_and_h = veg_p_and_h.replace(' 5/', '', regex=True)\n",
    "veg_p_and_h"
   ]
  },
  {
   "cell_type": "code",
   "execution_count": 51,
   "metadata": {},
   "outputs": [
    {
     "output_type": "execute_result",
     "data": {
      "text/plain": [
       "             state  area_planted(acres)  area_harvested(acres)  \\\n",
       "0          Alabama                  NaN                    NaN   \n",
       "1          Arizona             124300.0               123900.0   \n",
       "2       California             985600.0               972400.0   \n",
       "3         Colorado               3200.0                 2700.0   \n",
       "4         Delaware                  NaN                    NaN   \n",
       "5          Florida             175500.0               170700.0   \n",
       "6          Georgia              96600.0                92900.0   \n",
       "7            Idaho              11000.0                10900.0   \n",
       "8         Illinois              43100.0                38100.0   \n",
       "9          Indiana              11700.0                11100.0   \n",
       "10        Maryland                  NaN                    NaN   \n",
       "11        Michigan              90100.0                87200.0   \n",
       "12       Minnesota             160500.0               154300.0   \n",
       "13     Mississippi              28000.0                27500.0   \n",
       "14        Missouri                  NaN                    NaN   \n",
       "15      New Jersey              11200.0                10600.0   \n",
       "16      New Mexico              15700.0                15300.0   \n",
       "17        New York              90100.0                86300.0   \n",
       "18  North Carolina             127700.0               126300.0   \n",
       "19            Ohio               3700.0                 3500.0   \n",
       "20          Oregon              80700.0                79000.0   \n",
       "21    Pennsylvania              14700.0                13500.0   \n",
       "22  South Carolina               5000.0                 4500.0   \n",
       "23       Tennessee                  NaN                    NaN   \n",
       "24           Texas              54000.0                50100.0   \n",
       "25        Virginia               5700.0                 5600.0   \n",
       "26      Washington             144900.0               140300.0   \n",
       "27       Wisconsin             164300.0               155900.0   \n",
       "28    Other States                  NaN                    NaN   \n",
       "29   United States            2447300.0              2382600.0   \n",
       "\n",
       "    pct_harvest_success(acres)  \n",
       "0                          NaN  \n",
       "1                         1.00  \n",
       "2                         0.99  \n",
       "3                         0.84  \n",
       "4                          NaN  \n",
       "5                         0.97  \n",
       "6                         0.96  \n",
       "7                         0.99  \n",
       "8                         0.88  \n",
       "9                         0.95  \n",
       "10                         NaN  \n",
       "11                        0.97  \n",
       "12                        0.96  \n",
       "13                        0.98  \n",
       "14                         NaN  \n",
       "15                        0.95  \n",
       "16                        0.97  \n",
       "17                        0.96  \n",
       "18                        0.99  \n",
       "19                        0.95  \n",
       "20                        0.98  \n",
       "21                        0.92  \n",
       "22                        0.90  \n",
       "23                         NaN  \n",
       "24                        0.93  \n",
       "25                        0.98  \n",
       "26                        0.97  \n",
       "27                        0.95  \n",
       "28                         NaN  \n",
       "29                        0.97  "
      ],
      "text/html": "<div>\n<style scoped>\n    .dataframe tbody tr th:only-of-type {\n        vertical-align: middle;\n    }\n\n    .dataframe tbody tr th {\n        vertical-align: top;\n    }\n\n    .dataframe thead th {\n        text-align: right;\n    }\n</style>\n<table border=\"1\" class=\"dataframe\">\n  <thead>\n    <tr style=\"text-align: right;\">\n      <th></th>\n      <th>state</th>\n      <th>area_planted(acres)</th>\n      <th>area_harvested(acres)</th>\n      <th>pct_harvest_success(acres)</th>\n    </tr>\n  </thead>\n  <tbody>\n    <tr>\n      <th>0</th>\n      <td>Alabama</td>\n      <td>NaN</td>\n      <td>NaN</td>\n      <td>NaN</td>\n    </tr>\n    <tr>\n      <th>1</th>\n      <td>Arizona</td>\n      <td>124300.0</td>\n      <td>123900.0</td>\n      <td>1.00</td>\n    </tr>\n    <tr>\n      <th>2</th>\n      <td>California</td>\n      <td>985600.0</td>\n      <td>972400.0</td>\n      <td>0.99</td>\n    </tr>\n    <tr>\n      <th>3</th>\n      <td>Colorado</td>\n      <td>3200.0</td>\n      <td>2700.0</td>\n      <td>0.84</td>\n    </tr>\n    <tr>\n      <th>4</th>\n      <td>Delaware</td>\n      <td>NaN</td>\n      <td>NaN</td>\n      <td>NaN</td>\n    </tr>\n    <tr>\n      <th>5</th>\n      <td>Florida</td>\n      <td>175500.0</td>\n      <td>170700.0</td>\n      <td>0.97</td>\n    </tr>\n    <tr>\n      <th>6</th>\n      <td>Georgia</td>\n      <td>96600.0</td>\n      <td>92900.0</td>\n      <td>0.96</td>\n    </tr>\n    <tr>\n      <th>7</th>\n      <td>Idaho</td>\n      <td>11000.0</td>\n      <td>10900.0</td>\n      <td>0.99</td>\n    </tr>\n    <tr>\n      <th>8</th>\n      <td>Illinois</td>\n      <td>43100.0</td>\n      <td>38100.0</td>\n      <td>0.88</td>\n    </tr>\n    <tr>\n      <th>9</th>\n      <td>Indiana</td>\n      <td>11700.0</td>\n      <td>11100.0</td>\n      <td>0.95</td>\n    </tr>\n    <tr>\n      <th>10</th>\n      <td>Maryland</td>\n      <td>NaN</td>\n      <td>NaN</td>\n      <td>NaN</td>\n    </tr>\n    <tr>\n      <th>11</th>\n      <td>Michigan</td>\n      <td>90100.0</td>\n      <td>87200.0</td>\n      <td>0.97</td>\n    </tr>\n    <tr>\n      <th>12</th>\n      <td>Minnesota</td>\n      <td>160500.0</td>\n      <td>154300.0</td>\n      <td>0.96</td>\n    </tr>\n    <tr>\n      <th>13</th>\n      <td>Mississippi</td>\n      <td>28000.0</td>\n      <td>27500.0</td>\n      <td>0.98</td>\n    </tr>\n    <tr>\n      <th>14</th>\n      <td>Missouri</td>\n      <td>NaN</td>\n      <td>NaN</td>\n      <td>NaN</td>\n    </tr>\n    <tr>\n      <th>15</th>\n      <td>New Jersey</td>\n      <td>11200.0</td>\n      <td>10600.0</td>\n      <td>0.95</td>\n    </tr>\n    <tr>\n      <th>16</th>\n      <td>New Mexico</td>\n      <td>15700.0</td>\n      <td>15300.0</td>\n      <td>0.97</td>\n    </tr>\n    <tr>\n      <th>17</th>\n      <td>New York</td>\n      <td>90100.0</td>\n      <td>86300.0</td>\n      <td>0.96</td>\n    </tr>\n    <tr>\n      <th>18</th>\n      <td>North Carolina</td>\n      <td>127700.0</td>\n      <td>126300.0</td>\n      <td>0.99</td>\n    </tr>\n    <tr>\n      <th>19</th>\n      <td>Ohio</td>\n      <td>3700.0</td>\n      <td>3500.0</td>\n      <td>0.95</td>\n    </tr>\n    <tr>\n      <th>20</th>\n      <td>Oregon</td>\n      <td>80700.0</td>\n      <td>79000.0</td>\n      <td>0.98</td>\n    </tr>\n    <tr>\n      <th>21</th>\n      <td>Pennsylvania</td>\n      <td>14700.0</td>\n      <td>13500.0</td>\n      <td>0.92</td>\n    </tr>\n    <tr>\n      <th>22</th>\n      <td>South Carolina</td>\n      <td>5000.0</td>\n      <td>4500.0</td>\n      <td>0.90</td>\n    </tr>\n    <tr>\n      <th>23</th>\n      <td>Tennessee</td>\n      <td>NaN</td>\n      <td>NaN</td>\n      <td>NaN</td>\n    </tr>\n    <tr>\n      <th>24</th>\n      <td>Texas</td>\n      <td>54000.0</td>\n      <td>50100.0</td>\n      <td>0.93</td>\n    </tr>\n    <tr>\n      <th>25</th>\n      <td>Virginia</td>\n      <td>5700.0</td>\n      <td>5600.0</td>\n      <td>0.98</td>\n    </tr>\n    <tr>\n      <th>26</th>\n      <td>Washington</td>\n      <td>144900.0</td>\n      <td>140300.0</td>\n      <td>0.97</td>\n    </tr>\n    <tr>\n      <th>27</th>\n      <td>Wisconsin</td>\n      <td>164300.0</td>\n      <td>155900.0</td>\n      <td>0.95</td>\n    </tr>\n    <tr>\n      <th>28</th>\n      <td>Other States</td>\n      <td>NaN</td>\n      <td>NaN</td>\n      <td>NaN</td>\n    </tr>\n    <tr>\n      <th>29</th>\n      <td>United States</td>\n      <td>2447300.0</td>\n      <td>2382600.0</td>\n      <td>0.97</td>\n    </tr>\n  </tbody>\n</table>\n</div>"
     },
     "metadata": {},
     "execution_count": 51
    }
   ],
   "source": [
    "veg_p_and_h[\"area_planted(acres)\"] = pd.to_numeric(veg_p_and_h[\"area_planted(acres)\"])\n",
    "veg_p_and_h[\"area_harvested(acres)\"] = pd.to_numeric(veg_p_and_h[\"area_harvested(acres)\"])\n",
    "\n",
    "veg_p_and_h[\"pct_harvest_success(acres)\"] = round(veg_p_and_h[\"area_harvested(acres)\"] / veg_p_and_h[\"area_planted(acres)\"], 2)\n",
    "veg_p_and_h"
   ]
  },
  {
   "cell_type": "code",
   "execution_count": 52,
   "metadata": {},
   "outputs": [],
   "source": [
    "veg_p_and_h.to_csv(\"../veg_plant_and_harvest_19.csv\", index=False)"
   ]
  }
 ]
}