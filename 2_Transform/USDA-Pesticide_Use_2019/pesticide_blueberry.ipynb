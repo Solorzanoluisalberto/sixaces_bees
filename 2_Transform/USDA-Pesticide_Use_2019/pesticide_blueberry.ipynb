{
 "metadata": {
  "language_info": {
   "codemirror_mode": {
    "name": "ipython",
    "version": 3
   },
   "file_extension": ".py",
   "mimetype": "text/x-python",
   "name": "python",
   "nbconvert_exporter": "python",
   "pygments_lexer": "ipython3",
   "version": "3.8.5"
  },
  "orig_nbformat": 2,
  "kernelspec": {
   "name": "python385jvsc74a57bd06e67b620515b60b5e0a41f61aaaaaa0b5713da87d04dedede882ceace4acc361",
   "display_name": "Python 3.8.5 64-bit ('base': conda)"
  }
 },
 "nbformat": 4,
 "nbformat_minor": 2,
 "cells": [
  {
   "cell_type": "code",
   "execution_count": 1,
   "metadata": {},
   "outputs": [],
   "source": [
    "## Dependencies and setup\n",
    "import pandas as pd"
   ]
  },
  {
   "cell_type": "code",
   "execution_count": 2,
   "metadata": {},
   "outputs": [],
   "source": [
    "## Load data files\n",
    "pesticide_blueberry = \"../../1_Extract/USDA-Pesticide_Use/pesticide_blueberry.csv\""
   ]
  },
  {
   "cell_type": "code",
   "execution_count": 3,
   "metadata": {},
   "outputs": [
    {
     "output_type": "execute_result",
     "data": {
      "text/plain": [
       "     Program  Year Period  Week Ending             Geo Level   State  \\\n",
       "0     SURVEY  2019   YEAR          NaN  REGION : MULTI-STATE     NaN   \n",
       "1     SURVEY  2019   YEAR          NaN  REGION : MULTI-STATE     NaN   \n",
       "2     SURVEY  2019   YEAR          NaN  REGION : MULTI-STATE     NaN   \n",
       "3     SURVEY  2019   YEAR          NaN  REGION : MULTI-STATE     NaN   \n",
       "4     SURVEY  2019   YEAR          NaN  REGION : MULTI-STATE     NaN   \n",
       "...      ...   ...    ...          ...                   ...     ...   \n",
       "3708  SURVEY  1991   YEAR          NaN                 STATE  OREGON   \n",
       "3709  SURVEY  1991   YEAR          NaN                 STATE  OREGON   \n",
       "3710  SURVEY  1991   YEAR          NaN                 STATE  OREGON   \n",
       "3711  SURVEY  1991   YEAR          NaN                 STATE  OREGON   \n",
       "3712  SURVEY  1991   YEAR          NaN                 STATE  OREGON   \n",
       "\n",
       "      State ANSI  Ag District  Ag District Code  County  ...  \\\n",
       "0            NaN          NaN               NaN     NaN  ...   \n",
       "1            NaN          NaN               NaN     NaN  ...   \n",
       "2            NaN          NaN               NaN     NaN  ...   \n",
       "3            NaN          NaN               NaN     NaN  ...   \n",
       "4            NaN          NaN               NaN     NaN  ...   \n",
       "...          ...          ...               ...     ...  ...   \n",
       "3708        41.0          NaN               NaN     NaN  ...   \n",
       "3709        41.0          NaN               NaN     NaN  ...   \n",
       "3710        41.0          NaN               NaN     NaN  ...   \n",
       "3711        41.0          NaN               NaN     NaN  ...   \n",
       "3712        41.0          NaN               NaN     NaN  ...   \n",
       "\n",
       "      BLUEBERRIES, BEARING - APPLICATIONS, MEASURED IN LB  -  <b>VALUE</b>  \\\n",
       "0                                                13,800                      \n",
       "1                                                  (NA)                      \n",
       "2                                                  (NA)                      \n",
       "3                                                  (NA)                      \n",
       "4                                                 5,900                      \n",
       "...                                                 ...                      \n",
       "3708                                                NaN                      \n",
       "3709                                                600                      \n",
       "3710                                                100                      \n",
       "3711                                              9,000                      \n",
       "3712                                                NaN                      \n",
       "\n",
       "      BLUEBERRIES, BEARING - APPLICATIONS, MEASURED IN LB  -  <b>CV (%)</b>  \\\n",
       "0                                                   NaN                       \n",
       "1                                                   NaN                       \n",
       "2                                                   NaN                       \n",
       "3                                                   NaN                       \n",
       "4                                                   NaN                       \n",
       "...                                                 ...                       \n",
       "3708                                                NaN                       \n",
       "3709                                                NaN                       \n",
       "3710                                                NaN                       \n",
       "3711                                                NaN                       \n",
       "3712                                                NaN                       \n",
       "\n",
       "     BLUEBERRIES, BEARING - APPLICATIONS, MEASURED IN LB / ACRE / APPLICATION, AVG  -  <b>VALUE</b>  \\\n",
       "0                                                 0.194                                               \n",
       "1                                                  (NA)                                               \n",
       "2                                                  (NA)                                               \n",
       "3                                                  (NA)                                               \n",
       "4                                                 1.951                                               \n",
       "...                                                 ...                                               \n",
       "3708                                                NaN                                               \n",
       "3709                                               0.74                                               \n",
       "3710                                               0.91                                               \n",
       "3711                                               9.87                                               \n",
       "3712                                                NaN                                               \n",
       "\n",
       "      BLUEBERRIES, BEARING - APPLICATIONS, MEASURED IN LB / ACRE / APPLICATION, AVG  -  <b>CV (%)</b>  \\\n",
       "0                                                   NaN                                                 \n",
       "1                                                   NaN                                                 \n",
       "2                                                   NaN                                                 \n",
       "3                                                   NaN                                                 \n",
       "4                                                   NaN                                                 \n",
       "...                                                 ...                                                 \n",
       "3708                                                NaN                                                 \n",
       "3709                                                NaN                                                 \n",
       "3710                                                NaN                                                 \n",
       "3711                                                NaN                                                 \n",
       "3712                                                NaN                                                 \n",
       "\n",
       "      BLUEBERRIES, BEARING - APPLICATIONS, MEASURED IN LB / ACRE / YEAR, AVG  -  <b>VALUE</b>  \\\n",
       "0                                                 0.363                                         \n",
       "1                                                  (NA)                                         \n",
       "2                                                  (NA)                                         \n",
       "3                                                  (NA)                                         \n",
       "4                                                 2.754                                         \n",
       "...                                                 ...                                         \n",
       "3708                                                NaN                                         \n",
       "3709                                                0.9                                         \n",
       "3710                                               1.51                                         \n",
       "3711                                              20.42                                         \n",
       "3712                                                NaN                                         \n",
       "\n",
       "     BLUEBERRIES, BEARING - APPLICATIONS, MEASURED IN LB / ACRE / YEAR, AVG  -  <b>CV (%)</b>  \\\n",
       "0                                                   NaN                                         \n",
       "1                                                   NaN                                         \n",
       "2                                                   NaN                                         \n",
       "3                                                   NaN                                         \n",
       "4                                                   NaN                                         \n",
       "...                                                 ...                                         \n",
       "3708                                                NaN                                         \n",
       "3709                                                NaN                                         \n",
       "3710                                                NaN                                         \n",
       "3711                                                NaN                                         \n",
       "3712                                                NaN                                         \n",
       "\n",
       "     BLUEBERRIES, BEARING - APPLICATIONS, MEASURED IN NUMBER, AVG  -  <b>VALUE</b>  \\\n",
       "0                                                   1.9                              \n",
       "1                                                   (D)                              \n",
       "2                                                   1.2                              \n",
       "3                                                     2                              \n",
       "4                                                   1.4                              \n",
       "...                                                 ...                              \n",
       "3708                                                1.8                              \n",
       "3709                                                1.2                              \n",
       "3710                                                1.7                              \n",
       "3711                                                2.1                              \n",
       "3712                                                NaN                              \n",
       "\n",
       "     BLUEBERRIES, BEARING - APPLICATIONS, MEASURED IN NUMBER, AVG  -  <b>CV (%)</b>  \\\n",
       "0                                                   NaN                               \n",
       "1                                                   NaN                               \n",
       "2                                                   NaN                               \n",
       "3                                                   NaN                               \n",
       "4                                                   NaN                               \n",
       "...                                                 ...                               \n",
       "3708                                                NaN                               \n",
       "3709                                                NaN                               \n",
       "3710                                                NaN                               \n",
       "3711                                                NaN                               \n",
       "3712                                                NaN                               \n",
       "\n",
       "     BLUEBERRIES, BEARING - TREATED, MEASURED IN PCT OF AREA BEARING, AVG  -  <b>VALUE</b>  \\\n",
       "0                                                    49                                      \n",
       "1                                                   (D)                                      \n",
       "2                                                     2                                      \n",
       "3                                                    10                                      \n",
       "4                                                     3                                      \n",
       "...                                                 ...                                      \n",
       "3708                                                 33                                      \n",
       "3709                                                 43                                      \n",
       "3710                                                  6                                      \n",
       "3711                                                 28                                      \n",
       "3712                                                 73                                      \n",
       "\n",
       "      BLUEBERRIES, BEARING - TREATED, MEASURED IN PCT OF AREA BEARING, AVG  -  <b>CV (%)</b>  \n",
       "0                                                   NaN                                       \n",
       "1                                                   NaN                                       \n",
       "2                                                   NaN                                       \n",
       "3                                                   NaN                                       \n",
       "4                                                   NaN                                       \n",
       "...                                                 ...                                       \n",
       "3708                                                NaN                                       \n",
       "3709                                                NaN                                       \n",
       "3710                                                NaN                                       \n",
       "3711                                                NaN                                       \n",
       "3712                                                NaN                                       \n",
       "\n",
       "[3713 rows x 28 columns]"
      ],
      "text/html": "<div>\n<style scoped>\n    .dataframe tbody tr th:only-of-type {\n        vertical-align: middle;\n    }\n\n    .dataframe tbody tr th {\n        vertical-align: top;\n    }\n\n    .dataframe thead th {\n        text-align: right;\n    }\n</style>\n<table border=\"1\" class=\"dataframe\">\n  <thead>\n    <tr style=\"text-align: right;\">\n      <th></th>\n      <th>Program</th>\n      <th>Year</th>\n      <th>Period</th>\n      <th>Week Ending</th>\n      <th>Geo Level</th>\n      <th>State</th>\n      <th>State ANSI</th>\n      <th>Ag District</th>\n      <th>Ag District Code</th>\n      <th>County</th>\n      <th>...</th>\n      <th>BLUEBERRIES, BEARING - APPLICATIONS, MEASURED IN LB  -  &lt;b&gt;VALUE&lt;/b&gt;</th>\n      <th>BLUEBERRIES, BEARING - APPLICATIONS, MEASURED IN LB  -  &lt;b&gt;CV (%)&lt;/b&gt;</th>\n      <th>BLUEBERRIES, BEARING - APPLICATIONS, MEASURED IN LB / ACRE / APPLICATION, AVG  -  &lt;b&gt;VALUE&lt;/b&gt;</th>\n      <th>BLUEBERRIES, BEARING - APPLICATIONS, MEASURED IN LB / ACRE / APPLICATION, AVG  -  &lt;b&gt;CV (%)&lt;/b&gt;</th>\n      <th>BLUEBERRIES, BEARING - APPLICATIONS, MEASURED IN LB / ACRE / YEAR, AVG  -  &lt;b&gt;VALUE&lt;/b&gt;</th>\n      <th>BLUEBERRIES, BEARING - APPLICATIONS, MEASURED IN LB / ACRE / YEAR, AVG  -  &lt;b&gt;CV (%)&lt;/b&gt;</th>\n      <th>BLUEBERRIES, BEARING - APPLICATIONS, MEASURED IN NUMBER, AVG  -  &lt;b&gt;VALUE&lt;/b&gt;</th>\n      <th>BLUEBERRIES, BEARING - APPLICATIONS, MEASURED IN NUMBER, AVG  -  &lt;b&gt;CV (%)&lt;/b&gt;</th>\n      <th>BLUEBERRIES, BEARING - TREATED, MEASURED IN PCT OF AREA BEARING, AVG  -  &lt;b&gt;VALUE&lt;/b&gt;</th>\n      <th>BLUEBERRIES, BEARING - TREATED, MEASURED IN PCT OF AREA BEARING, AVG  -  &lt;b&gt;CV (%)&lt;/b&gt;</th>\n    </tr>\n  </thead>\n  <tbody>\n    <tr>\n      <th>0</th>\n      <td>SURVEY</td>\n      <td>2019</td>\n      <td>YEAR</td>\n      <td>NaN</td>\n      <td>REGION : MULTI-STATE</td>\n      <td>NaN</td>\n      <td>NaN</td>\n      <td>NaN</td>\n      <td>NaN</td>\n      <td>NaN</td>\n      <td>...</td>\n      <td>13,800</td>\n      <td>NaN</td>\n      <td>0.194</td>\n      <td>NaN</td>\n      <td>0.363</td>\n      <td>NaN</td>\n      <td>1.9</td>\n      <td>NaN</td>\n      <td>49</td>\n      <td>NaN</td>\n    </tr>\n    <tr>\n      <th>1</th>\n      <td>SURVEY</td>\n      <td>2019</td>\n      <td>YEAR</td>\n      <td>NaN</td>\n      <td>REGION : MULTI-STATE</td>\n      <td>NaN</td>\n      <td>NaN</td>\n      <td>NaN</td>\n      <td>NaN</td>\n      <td>NaN</td>\n      <td>...</td>\n      <td>(NA)</td>\n      <td>NaN</td>\n      <td>(NA)</td>\n      <td>NaN</td>\n      <td>(NA)</td>\n      <td>NaN</td>\n      <td>(D)</td>\n      <td>NaN</td>\n      <td>(D)</td>\n      <td>NaN</td>\n    </tr>\n    <tr>\n      <th>2</th>\n      <td>SURVEY</td>\n      <td>2019</td>\n      <td>YEAR</td>\n      <td>NaN</td>\n      <td>REGION : MULTI-STATE</td>\n      <td>NaN</td>\n      <td>NaN</td>\n      <td>NaN</td>\n      <td>NaN</td>\n      <td>NaN</td>\n      <td>...</td>\n      <td>(NA)</td>\n      <td>NaN</td>\n      <td>(NA)</td>\n      <td>NaN</td>\n      <td>(NA)</td>\n      <td>NaN</td>\n      <td>1.2</td>\n      <td>NaN</td>\n      <td>2</td>\n      <td>NaN</td>\n    </tr>\n    <tr>\n      <th>3</th>\n      <td>SURVEY</td>\n      <td>2019</td>\n      <td>YEAR</td>\n      <td>NaN</td>\n      <td>REGION : MULTI-STATE</td>\n      <td>NaN</td>\n      <td>NaN</td>\n      <td>NaN</td>\n      <td>NaN</td>\n      <td>NaN</td>\n      <td>...</td>\n      <td>(NA)</td>\n      <td>NaN</td>\n      <td>(NA)</td>\n      <td>NaN</td>\n      <td>(NA)</td>\n      <td>NaN</td>\n      <td>2</td>\n      <td>NaN</td>\n      <td>10</td>\n      <td>NaN</td>\n    </tr>\n    <tr>\n      <th>4</th>\n      <td>SURVEY</td>\n      <td>2019</td>\n      <td>YEAR</td>\n      <td>NaN</td>\n      <td>REGION : MULTI-STATE</td>\n      <td>NaN</td>\n      <td>NaN</td>\n      <td>NaN</td>\n      <td>NaN</td>\n      <td>NaN</td>\n      <td>...</td>\n      <td>5,900</td>\n      <td>NaN</td>\n      <td>1.951</td>\n      <td>NaN</td>\n      <td>2.754</td>\n      <td>NaN</td>\n      <td>1.4</td>\n      <td>NaN</td>\n      <td>3</td>\n      <td>NaN</td>\n    </tr>\n    <tr>\n      <th>...</th>\n      <td>...</td>\n      <td>...</td>\n      <td>...</td>\n      <td>...</td>\n      <td>...</td>\n      <td>...</td>\n      <td>...</td>\n      <td>...</td>\n      <td>...</td>\n      <td>...</td>\n      <td>...</td>\n      <td>...</td>\n      <td>...</td>\n      <td>...</td>\n      <td>...</td>\n      <td>...</td>\n      <td>...</td>\n      <td>...</td>\n      <td>...</td>\n      <td>...</td>\n      <td>...</td>\n    </tr>\n    <tr>\n      <th>3708</th>\n      <td>SURVEY</td>\n      <td>1991</td>\n      <td>YEAR</td>\n      <td>NaN</td>\n      <td>STATE</td>\n      <td>OREGON</td>\n      <td>41.0</td>\n      <td>NaN</td>\n      <td>NaN</td>\n      <td>NaN</td>\n      <td>...</td>\n      <td>NaN</td>\n      <td>NaN</td>\n      <td>NaN</td>\n      <td>NaN</td>\n      <td>NaN</td>\n      <td>NaN</td>\n      <td>1.8</td>\n      <td>NaN</td>\n      <td>33</td>\n      <td>NaN</td>\n    </tr>\n    <tr>\n      <th>3709</th>\n      <td>SURVEY</td>\n      <td>1991</td>\n      <td>YEAR</td>\n      <td>NaN</td>\n      <td>STATE</td>\n      <td>OREGON</td>\n      <td>41.0</td>\n      <td>NaN</td>\n      <td>NaN</td>\n      <td>NaN</td>\n      <td>...</td>\n      <td>600</td>\n      <td>NaN</td>\n      <td>0.74</td>\n      <td>NaN</td>\n      <td>0.9</td>\n      <td>NaN</td>\n      <td>1.2</td>\n      <td>NaN</td>\n      <td>43</td>\n      <td>NaN</td>\n    </tr>\n    <tr>\n      <th>3710</th>\n      <td>SURVEY</td>\n      <td>1991</td>\n      <td>YEAR</td>\n      <td>NaN</td>\n      <td>STATE</td>\n      <td>OREGON</td>\n      <td>41.0</td>\n      <td>NaN</td>\n      <td>NaN</td>\n      <td>NaN</td>\n      <td>...</td>\n      <td>100</td>\n      <td>NaN</td>\n      <td>0.91</td>\n      <td>NaN</td>\n      <td>1.51</td>\n      <td>NaN</td>\n      <td>1.7</td>\n      <td>NaN</td>\n      <td>6</td>\n      <td>NaN</td>\n    </tr>\n    <tr>\n      <th>3711</th>\n      <td>SURVEY</td>\n      <td>1991</td>\n      <td>YEAR</td>\n      <td>NaN</td>\n      <td>STATE</td>\n      <td>OREGON</td>\n      <td>41.0</td>\n      <td>NaN</td>\n      <td>NaN</td>\n      <td>NaN</td>\n      <td>...</td>\n      <td>9,000</td>\n      <td>NaN</td>\n      <td>9.87</td>\n      <td>NaN</td>\n      <td>20.42</td>\n      <td>NaN</td>\n      <td>2.1</td>\n      <td>NaN</td>\n      <td>28</td>\n      <td>NaN</td>\n    </tr>\n    <tr>\n      <th>3712</th>\n      <td>SURVEY</td>\n      <td>1991</td>\n      <td>YEAR</td>\n      <td>NaN</td>\n      <td>STATE</td>\n      <td>OREGON</td>\n      <td>41.0</td>\n      <td>NaN</td>\n      <td>NaN</td>\n      <td>NaN</td>\n      <td>...</td>\n      <td>NaN</td>\n      <td>NaN</td>\n      <td>NaN</td>\n      <td>NaN</td>\n      <td>NaN</td>\n      <td>NaN</td>\n      <td>NaN</td>\n      <td>NaN</td>\n      <td>73</td>\n      <td>NaN</td>\n    </tr>\n  </tbody>\n</table>\n<p>3713 rows × 28 columns</p>\n</div>"
     },
     "metadata": {},
     "execution_count": 3
    }
   ],
   "source": [
    "## Read data and store into df\n",
    "pesticide_blueberry = pd.read_csv(pesticide_blueberry)\n",
    "pesticide_blueberry"
   ]
  },
  {
   "cell_type": "code",
   "execution_count": 4,
   "metadata": {},
   "outputs": [
    {
     "output_type": "execute_result",
     "data": {
      "text/plain": [
       "   Year State               Domain  \\\n",
       "0  2019   NaN  CHEMICAL, FUNGICIDE   \n",
       "1  2019   NaN  CHEMICAL, FUNGICIDE   \n",
       "2  2019   NaN  CHEMICAL, FUNGICIDE   \n",
       "3  2019   NaN  CHEMICAL, FUNGICIDE   \n",
       "4  2019   NaN  CHEMICAL, FUNGICIDE   \n",
       "\n",
       "                                     Domain Category  \\\n",
       "0       CHEMICAL, FUNGICIDE: (AZOXYSTROBIN = 128810)   \n",
       "1  CHEMICAL, FUNGICIDE: (BACILLUS AMYLOLIQUEFAC F...   \n",
       "2  CHEMICAL, FUNGICIDE: (BACILLUS AMYLOLIQUEFACIE...   \n",
       "3    CHEMICAL, FUNGICIDE: (BACILLUS SUBTILIS = 6479)   \n",
       "4  CHEMICAL, FUNGICIDE: (BASIC COPPER SULFATE = 8...   \n",
       "\n",
       "  BLUEBERRIES, BEARING - APPLICATIONS, MEASURED IN LB  -  <b>VALUE</b>  \\\n",
       "0                                             13,800                     \n",
       "1                                               (NA)                     \n",
       "2                                               (NA)                     \n",
       "3                                               (NA)                     \n",
       "4                                              5,900                     \n",
       "\n",
       "  BLUEBERRIES, BEARING - APPLICATIONS, MEASURED IN LB / ACRE / APPLICATION, AVG  -  <b>VALUE</b>  \\\n",
       "0                                              0.194                                               \n",
       "1                                               (NA)                                               \n",
       "2                                               (NA)                                               \n",
       "3                                               (NA)                                               \n",
       "4                                              1.951                                               \n",
       "\n",
       "  BLUEBERRIES, BEARING - APPLICATIONS, MEASURED IN LB / ACRE / YEAR, AVG  -  <b>VALUE</b>  \\\n",
       "0                                              0.363                                        \n",
       "1                                               (NA)                                        \n",
       "2                                               (NA)                                        \n",
       "3                                               (NA)                                        \n",
       "4                                              2.754                                        \n",
       "\n",
       "  BLUEBERRIES, BEARING - APPLICATIONS, MEASURED IN NUMBER, AVG  -  <b>VALUE</b>  \\\n",
       "0                                                1.9                              \n",
       "1                                                (D)                              \n",
       "2                                                1.2                              \n",
       "3                                                  2                              \n",
       "4                                                1.4                              \n",
       "\n",
       "  BLUEBERRIES, BEARING - TREATED, MEASURED IN PCT OF AREA BEARING, AVG  -  <b>VALUE</b>  \n",
       "0                                                 49                                     \n",
       "1                                                (D)                                     \n",
       "2                                                  2                                     \n",
       "3                                                 10                                     \n",
       "4                                                  3                                     "
      ],
      "text/html": "<div>\n<style scoped>\n    .dataframe tbody tr th:only-of-type {\n        vertical-align: middle;\n    }\n\n    .dataframe tbody tr th {\n        vertical-align: top;\n    }\n\n    .dataframe thead th {\n        text-align: right;\n    }\n</style>\n<table border=\"1\" class=\"dataframe\">\n  <thead>\n    <tr style=\"text-align: right;\">\n      <th></th>\n      <th>Year</th>\n      <th>State</th>\n      <th>Domain</th>\n      <th>Domain Category</th>\n      <th>BLUEBERRIES, BEARING - APPLICATIONS, MEASURED IN LB  -  &lt;b&gt;VALUE&lt;/b&gt;</th>\n      <th>BLUEBERRIES, BEARING - APPLICATIONS, MEASURED IN LB / ACRE / APPLICATION, AVG  -  &lt;b&gt;VALUE&lt;/b&gt;</th>\n      <th>BLUEBERRIES, BEARING - APPLICATIONS, MEASURED IN LB / ACRE / YEAR, AVG  -  &lt;b&gt;VALUE&lt;/b&gt;</th>\n      <th>BLUEBERRIES, BEARING - APPLICATIONS, MEASURED IN NUMBER, AVG  -  &lt;b&gt;VALUE&lt;/b&gt;</th>\n      <th>BLUEBERRIES, BEARING - TREATED, MEASURED IN PCT OF AREA BEARING, AVG  -  &lt;b&gt;VALUE&lt;/b&gt;</th>\n    </tr>\n  </thead>\n  <tbody>\n    <tr>\n      <th>0</th>\n      <td>2019</td>\n      <td>NaN</td>\n      <td>CHEMICAL, FUNGICIDE</td>\n      <td>CHEMICAL, FUNGICIDE: (AZOXYSTROBIN = 128810)</td>\n      <td>13,800</td>\n      <td>0.194</td>\n      <td>0.363</td>\n      <td>1.9</td>\n      <td>49</td>\n    </tr>\n    <tr>\n      <th>1</th>\n      <td>2019</td>\n      <td>NaN</td>\n      <td>CHEMICAL, FUNGICIDE</td>\n      <td>CHEMICAL, FUNGICIDE: (BACILLUS AMYLOLIQUEFAC F...</td>\n      <td>(NA)</td>\n      <td>(NA)</td>\n      <td>(NA)</td>\n      <td>(D)</td>\n      <td>(D)</td>\n    </tr>\n    <tr>\n      <th>2</th>\n      <td>2019</td>\n      <td>NaN</td>\n      <td>CHEMICAL, FUNGICIDE</td>\n      <td>CHEMICAL, FUNGICIDE: (BACILLUS AMYLOLIQUEFACIE...</td>\n      <td>(NA)</td>\n      <td>(NA)</td>\n      <td>(NA)</td>\n      <td>1.2</td>\n      <td>2</td>\n    </tr>\n    <tr>\n      <th>3</th>\n      <td>2019</td>\n      <td>NaN</td>\n      <td>CHEMICAL, FUNGICIDE</td>\n      <td>CHEMICAL, FUNGICIDE: (BACILLUS SUBTILIS = 6479)</td>\n      <td>(NA)</td>\n      <td>(NA)</td>\n      <td>(NA)</td>\n      <td>2</td>\n      <td>10</td>\n    </tr>\n    <tr>\n      <th>4</th>\n      <td>2019</td>\n      <td>NaN</td>\n      <td>CHEMICAL, FUNGICIDE</td>\n      <td>CHEMICAL, FUNGICIDE: (BASIC COPPER SULFATE = 8...</td>\n      <td>5,900</td>\n      <td>1.951</td>\n      <td>2.754</td>\n      <td>1.4</td>\n      <td>3</td>\n    </tr>\n  </tbody>\n</table>\n</div>"
     },
     "metadata": {},
     "execution_count": 4
    }
   ],
   "source": [
    "## Drop erroneous columns\n",
    "remove = [0, 2, 3, 4, 6, 7, 8, 9, 10, 11, 12, 13, 14, 15, 19, 21, 23, 25, 27]\n",
    "pesticide_blueberry.drop(pesticide_blueberry.iloc[:, remove], axis = 1, inplace = True)\n",
    "\n",
    "pesticide_blueberry.head()"
   ]
  },
  {
   "cell_type": "code",
   "execution_count": 5,
   "metadata": {},
   "outputs": [
    {
     "output_type": "execute_result",
     "data": {
      "text/plain": [
       "   year state        chemical_type  \\\n",
       "0  2019   NaN  CHEMICAL, FUNGICIDE   \n",
       "1  2019   NaN  CHEMICAL, FUNGICIDE   \n",
       "2  2019   NaN  CHEMICAL, FUNGICIDE   \n",
       "3  2019   NaN  CHEMICAL, FUNGICIDE   \n",
       "4  2019   NaN  CHEMICAL, FUNGICIDE   \n",
       "\n",
       "                                       chemical_name chem_app(lbs)  \\\n",
       "0       CHEMICAL, FUNGICIDE: (AZOXYSTROBIN = 128810)        13,800   \n",
       "1  CHEMICAL, FUNGICIDE: (BACILLUS AMYLOLIQUEFAC F...          (NA)   \n",
       "2  CHEMICAL, FUNGICIDE: (BACILLUS AMYLOLIQUEFACIE...          (NA)   \n",
       "3    CHEMICAL, FUNGICIDE: (BACILLUS SUBTILIS = 6479)          (NA)   \n",
       "4  CHEMICAL, FUNGICIDE: (BASIC COPPER SULFATE = 8...         5,900   \n",
       "\n",
       "  lb/acre/app(avg) lb/acre/yr(avg) num_app(avg) pct_area_treated(avg)  \n",
       "0            0.194           0.363          1.9                    49  \n",
       "1             (NA)            (NA)          (D)                   (D)  \n",
       "2             (NA)            (NA)          1.2                     2  \n",
       "3             (NA)            (NA)            2                    10  \n",
       "4            1.951           2.754          1.4                     3  "
      ],
      "text/html": "<div>\n<style scoped>\n    .dataframe tbody tr th:only-of-type {\n        vertical-align: middle;\n    }\n\n    .dataframe tbody tr th {\n        vertical-align: top;\n    }\n\n    .dataframe thead th {\n        text-align: right;\n    }\n</style>\n<table border=\"1\" class=\"dataframe\">\n  <thead>\n    <tr style=\"text-align: right;\">\n      <th></th>\n      <th>year</th>\n      <th>state</th>\n      <th>chemical_type</th>\n      <th>chemical_name</th>\n      <th>chem_app(lbs)</th>\n      <th>lb/acre/app(avg)</th>\n      <th>lb/acre/yr(avg)</th>\n      <th>num_app(avg)</th>\n      <th>pct_area_treated(avg)</th>\n    </tr>\n  </thead>\n  <tbody>\n    <tr>\n      <th>0</th>\n      <td>2019</td>\n      <td>NaN</td>\n      <td>CHEMICAL, FUNGICIDE</td>\n      <td>CHEMICAL, FUNGICIDE: (AZOXYSTROBIN = 128810)</td>\n      <td>13,800</td>\n      <td>0.194</td>\n      <td>0.363</td>\n      <td>1.9</td>\n      <td>49</td>\n    </tr>\n    <tr>\n      <th>1</th>\n      <td>2019</td>\n      <td>NaN</td>\n      <td>CHEMICAL, FUNGICIDE</td>\n      <td>CHEMICAL, FUNGICIDE: (BACILLUS AMYLOLIQUEFAC F...</td>\n      <td>(NA)</td>\n      <td>(NA)</td>\n      <td>(NA)</td>\n      <td>(D)</td>\n      <td>(D)</td>\n    </tr>\n    <tr>\n      <th>2</th>\n      <td>2019</td>\n      <td>NaN</td>\n      <td>CHEMICAL, FUNGICIDE</td>\n      <td>CHEMICAL, FUNGICIDE: (BACILLUS AMYLOLIQUEFACIE...</td>\n      <td>(NA)</td>\n      <td>(NA)</td>\n      <td>(NA)</td>\n      <td>1.2</td>\n      <td>2</td>\n    </tr>\n    <tr>\n      <th>3</th>\n      <td>2019</td>\n      <td>NaN</td>\n      <td>CHEMICAL, FUNGICIDE</td>\n      <td>CHEMICAL, FUNGICIDE: (BACILLUS SUBTILIS = 6479)</td>\n      <td>(NA)</td>\n      <td>(NA)</td>\n      <td>(NA)</td>\n      <td>2</td>\n      <td>10</td>\n    </tr>\n    <tr>\n      <th>4</th>\n      <td>2019</td>\n      <td>NaN</td>\n      <td>CHEMICAL, FUNGICIDE</td>\n      <td>CHEMICAL, FUNGICIDE: (BASIC COPPER SULFATE = 8...</td>\n      <td>5,900</td>\n      <td>1.951</td>\n      <td>2.754</td>\n      <td>1.4</td>\n      <td>3</td>\n    </tr>\n  </tbody>\n</table>\n</div>"
     },
     "metadata": {},
     "execution_count": 5
    }
   ],
   "source": [
    "## Rename columns\n",
    "pesticide_blueberry.columns = [\"year\", \"state\", \"chemical_type\", \"chemical_name\", \"chem_app(lbs)\", \"lb/acre/app(avg)\", \"lb/acre/yr(avg)\", \"num_app(avg)\", \"pct_area_treated(avg)\"]\n",
    "\n",
    "pesticide_blueberry.head()"
   ]
  },
  {
   "cell_type": "code",
   "execution_count": 6,
   "metadata": {},
   "outputs": [],
   "source": [
    "## Drop blank rows\n",
    "# pesticide_blueberry = pesticide_blueberry.dropna()"
   ]
  },
  {
   "cell_type": "code",
   "execution_count": 7,
   "metadata": {},
   "outputs": [
    {
     "output_type": "execute_result",
     "data": {
      "text/plain": [
       "   year         state        chemical_type  \\\n",
       "0  2019  Other States  CHEMICAL, FUNGICIDE   \n",
       "1  2019  Other States  CHEMICAL, FUNGICIDE   \n",
       "2  2019  Other States  CHEMICAL, FUNGICIDE   \n",
       "3  2019  Other States  CHEMICAL, FUNGICIDE   \n",
       "4  2019  Other States  CHEMICAL, FUNGICIDE   \n",
       "\n",
       "                                       chemical_name chem_app(lbs)  \\\n",
       "0       CHEMICAL, FUNGICIDE: (AZOXYSTROBIN = 128810)        13,800   \n",
       "1  CHEMICAL, FUNGICIDE: (BACILLUS AMYLOLIQUEFAC F...          (NA)   \n",
       "2  CHEMICAL, FUNGICIDE: (BACILLUS AMYLOLIQUEFACIE...          (NA)   \n",
       "3    CHEMICAL, FUNGICIDE: (BACILLUS SUBTILIS = 6479)          (NA)   \n",
       "4  CHEMICAL, FUNGICIDE: (BASIC COPPER SULFATE = 8...         5,900   \n",
       "\n",
       "  lb/acre/app(avg) lb/acre/yr(avg) num_app(avg) pct_area_treated(avg)  \n",
       "0            0.194           0.363          1.9                    49  \n",
       "1             (NA)            (NA)          (D)                   (D)  \n",
       "2             (NA)            (NA)          1.2                     2  \n",
       "3             (NA)            (NA)            2                    10  \n",
       "4            1.951           2.754          1.4                     3  "
      ],
      "text/html": "<div>\n<style scoped>\n    .dataframe tbody tr th:only-of-type {\n        vertical-align: middle;\n    }\n\n    .dataframe tbody tr th {\n        vertical-align: top;\n    }\n\n    .dataframe thead th {\n        text-align: right;\n    }\n</style>\n<table border=\"1\" class=\"dataframe\">\n  <thead>\n    <tr style=\"text-align: right;\">\n      <th></th>\n      <th>year</th>\n      <th>state</th>\n      <th>chemical_type</th>\n      <th>chemical_name</th>\n      <th>chem_app(lbs)</th>\n      <th>lb/acre/app(avg)</th>\n      <th>lb/acre/yr(avg)</th>\n      <th>num_app(avg)</th>\n      <th>pct_area_treated(avg)</th>\n    </tr>\n  </thead>\n  <tbody>\n    <tr>\n      <th>0</th>\n      <td>2019</td>\n      <td>Other States</td>\n      <td>CHEMICAL, FUNGICIDE</td>\n      <td>CHEMICAL, FUNGICIDE: (AZOXYSTROBIN = 128810)</td>\n      <td>13,800</td>\n      <td>0.194</td>\n      <td>0.363</td>\n      <td>1.9</td>\n      <td>49</td>\n    </tr>\n    <tr>\n      <th>1</th>\n      <td>2019</td>\n      <td>Other States</td>\n      <td>CHEMICAL, FUNGICIDE</td>\n      <td>CHEMICAL, FUNGICIDE: (BACILLUS AMYLOLIQUEFAC F...</td>\n      <td>(NA)</td>\n      <td>(NA)</td>\n      <td>(NA)</td>\n      <td>(D)</td>\n      <td>(D)</td>\n    </tr>\n    <tr>\n      <th>2</th>\n      <td>2019</td>\n      <td>Other States</td>\n      <td>CHEMICAL, FUNGICIDE</td>\n      <td>CHEMICAL, FUNGICIDE: (BACILLUS AMYLOLIQUEFACIE...</td>\n      <td>(NA)</td>\n      <td>(NA)</td>\n      <td>(NA)</td>\n      <td>1.2</td>\n      <td>2</td>\n    </tr>\n    <tr>\n      <th>3</th>\n      <td>2019</td>\n      <td>Other States</td>\n      <td>CHEMICAL, FUNGICIDE</td>\n      <td>CHEMICAL, FUNGICIDE: (BACILLUS SUBTILIS = 6479)</td>\n      <td>(NA)</td>\n      <td>(NA)</td>\n      <td>(NA)</td>\n      <td>2</td>\n      <td>10</td>\n    </tr>\n    <tr>\n      <th>4</th>\n      <td>2019</td>\n      <td>Other States</td>\n      <td>CHEMICAL, FUNGICIDE</td>\n      <td>CHEMICAL, FUNGICIDE: (BASIC COPPER SULFATE = 8...</td>\n      <td>5,900</td>\n      <td>1.951</td>\n      <td>2.754</td>\n      <td>1.4</td>\n      <td>3</td>\n    </tr>\n  </tbody>\n</table>\n</div>"
     },
     "metadata": {},
     "execution_count": 7
    }
   ],
   "source": [
    "## Rename empty \"state\" cells\n",
    "pesticide_blueberry[\"state\"] = pesticide_blueberry[\"state\"].fillna(\"Other States\")\n",
    "pesticide_blueberry.head()"
   ]
  },
  {
   "cell_type": "code",
   "execution_count": 8,
   "metadata": {},
   "outputs": [
    {
     "output_type": "execute_result",
     "data": {
      "text/plain": [
       "      year         state          chemical_type  \\\n",
       "0     2019  Other States    CHEMICAL, FUNGICIDE   \n",
       "1     2019  Other States    CHEMICAL, FUNGICIDE   \n",
       "2     2019  Other States    CHEMICAL, FUNGICIDE   \n",
       "3     2019  Other States    CHEMICAL, FUNGICIDE   \n",
       "4     2019  Other States    CHEMICAL, FUNGICIDE   \n",
       "...    ...           ...                    ...   \n",
       "3708  1991        OREGON  CHEMICAL, INSECTICIDE   \n",
       "3709  1991        OREGON  CHEMICAL, INSECTICIDE   \n",
       "3710  1991        OREGON  CHEMICAL, INSECTICIDE   \n",
       "3711  1991        OREGON  CHEMICAL, INSECTICIDE   \n",
       "3712  1991        OREGON  CHEMICAL, INSECTICIDE   \n",
       "\n",
       "                                          chemical_name chem_app(lbs)  \\\n",
       "0          CHEMICAL, FUNGICIDE: (AZOXYSTROBIN = 128810)        13,800   \n",
       "1     CHEMICAL, FUNGICIDE: (BACILLUS AMYLOLIQUEFAC F...          None   \n",
       "2     CHEMICAL, FUNGICIDE: (BACILLUS AMYLOLIQUEFACIE...          None   \n",
       "3       CHEMICAL, FUNGICIDE: (BACILLUS SUBTILIS = 6479)          None   \n",
       "4     CHEMICAL, FUNGICIDE: (BASIC COPPER SULFATE = 8...         5,900   \n",
       "...                                                 ...           ...   \n",
       "3708  CHEMICAL, INSECTICIDE: (BT SUBSP ISRAELENSIS =...           NaN   \n",
       "3709          CHEMICAL, INSECTICIDE: (DIAZINON = 57801)           600   \n",
       "3710         CHEMICAL, INSECTICIDE: (MALATHION = 57701)           100   \n",
       "3711  CHEMICAL, INSECTICIDE: (PETROLEUM DISTILLATE =...         9,000   \n",
       "3712                     CHEMICAL, INSECTICIDE: (TOTAL)           NaN   \n",
       "\n",
       "     lb/acre/app(avg) lb/acre/yr(avg) num_app(avg) pct_area_treated(avg)  \n",
       "0               0.194           0.363          1.9                    49  \n",
       "1                None            None         None                  None  \n",
       "2                None            None          1.2                     2  \n",
       "3                None            None            2                    10  \n",
       "4               1.951           2.754          1.4                     3  \n",
       "...               ...             ...          ...                   ...  \n",
       "3708              NaN             NaN          1.8                    33  \n",
       "3709             0.74             0.9          1.2                    43  \n",
       "3710             0.91            1.51          1.7                     6  \n",
       "3711             9.87           20.42          2.1                    28  \n",
       "3712              NaN             NaN          NaN                    73  \n",
       "\n",
       "[3713 rows x 9 columns]"
      ],
      "text/html": "<div>\n<style scoped>\n    .dataframe tbody tr th:only-of-type {\n        vertical-align: middle;\n    }\n\n    .dataframe tbody tr th {\n        vertical-align: top;\n    }\n\n    .dataframe thead th {\n        text-align: right;\n    }\n</style>\n<table border=\"1\" class=\"dataframe\">\n  <thead>\n    <tr style=\"text-align: right;\">\n      <th></th>\n      <th>year</th>\n      <th>state</th>\n      <th>chemical_type</th>\n      <th>chemical_name</th>\n      <th>chem_app(lbs)</th>\n      <th>lb/acre/app(avg)</th>\n      <th>lb/acre/yr(avg)</th>\n      <th>num_app(avg)</th>\n      <th>pct_area_treated(avg)</th>\n    </tr>\n  </thead>\n  <tbody>\n    <tr>\n      <th>0</th>\n      <td>2019</td>\n      <td>Other States</td>\n      <td>CHEMICAL, FUNGICIDE</td>\n      <td>CHEMICAL, FUNGICIDE: (AZOXYSTROBIN = 128810)</td>\n      <td>13,800</td>\n      <td>0.194</td>\n      <td>0.363</td>\n      <td>1.9</td>\n      <td>49</td>\n    </tr>\n    <tr>\n      <th>1</th>\n      <td>2019</td>\n      <td>Other States</td>\n      <td>CHEMICAL, FUNGICIDE</td>\n      <td>CHEMICAL, FUNGICIDE: (BACILLUS AMYLOLIQUEFAC F...</td>\n      <td>None</td>\n      <td>None</td>\n      <td>None</td>\n      <td>None</td>\n      <td>None</td>\n    </tr>\n    <tr>\n      <th>2</th>\n      <td>2019</td>\n      <td>Other States</td>\n      <td>CHEMICAL, FUNGICIDE</td>\n      <td>CHEMICAL, FUNGICIDE: (BACILLUS AMYLOLIQUEFACIE...</td>\n      <td>None</td>\n      <td>None</td>\n      <td>None</td>\n      <td>1.2</td>\n      <td>2</td>\n    </tr>\n    <tr>\n      <th>3</th>\n      <td>2019</td>\n      <td>Other States</td>\n      <td>CHEMICAL, FUNGICIDE</td>\n      <td>CHEMICAL, FUNGICIDE: (BACILLUS SUBTILIS = 6479)</td>\n      <td>None</td>\n      <td>None</td>\n      <td>None</td>\n      <td>2</td>\n      <td>10</td>\n    </tr>\n    <tr>\n      <th>4</th>\n      <td>2019</td>\n      <td>Other States</td>\n      <td>CHEMICAL, FUNGICIDE</td>\n      <td>CHEMICAL, FUNGICIDE: (BASIC COPPER SULFATE = 8...</td>\n      <td>5,900</td>\n      <td>1.951</td>\n      <td>2.754</td>\n      <td>1.4</td>\n      <td>3</td>\n    </tr>\n    <tr>\n      <th>...</th>\n      <td>...</td>\n      <td>...</td>\n      <td>...</td>\n      <td>...</td>\n      <td>...</td>\n      <td>...</td>\n      <td>...</td>\n      <td>...</td>\n      <td>...</td>\n    </tr>\n    <tr>\n      <th>3708</th>\n      <td>1991</td>\n      <td>OREGON</td>\n      <td>CHEMICAL, INSECTICIDE</td>\n      <td>CHEMICAL, INSECTICIDE: (BT SUBSP ISRAELENSIS =...</td>\n      <td>NaN</td>\n      <td>NaN</td>\n      <td>NaN</td>\n      <td>1.8</td>\n      <td>33</td>\n    </tr>\n    <tr>\n      <th>3709</th>\n      <td>1991</td>\n      <td>OREGON</td>\n      <td>CHEMICAL, INSECTICIDE</td>\n      <td>CHEMICAL, INSECTICIDE: (DIAZINON = 57801)</td>\n      <td>600</td>\n      <td>0.74</td>\n      <td>0.9</td>\n      <td>1.2</td>\n      <td>43</td>\n    </tr>\n    <tr>\n      <th>3710</th>\n      <td>1991</td>\n      <td>OREGON</td>\n      <td>CHEMICAL, INSECTICIDE</td>\n      <td>CHEMICAL, INSECTICIDE: (MALATHION = 57701)</td>\n      <td>100</td>\n      <td>0.91</td>\n      <td>1.51</td>\n      <td>1.7</td>\n      <td>6</td>\n    </tr>\n    <tr>\n      <th>3711</th>\n      <td>1991</td>\n      <td>OREGON</td>\n      <td>CHEMICAL, INSECTICIDE</td>\n      <td>CHEMICAL, INSECTICIDE: (PETROLEUM DISTILLATE =...</td>\n      <td>9,000</td>\n      <td>9.87</td>\n      <td>20.42</td>\n      <td>2.1</td>\n      <td>28</td>\n    </tr>\n    <tr>\n      <th>3712</th>\n      <td>1991</td>\n      <td>OREGON</td>\n      <td>CHEMICAL, INSECTICIDE</td>\n      <td>CHEMICAL, INSECTICIDE: (TOTAL)</td>\n      <td>NaN</td>\n      <td>NaN</td>\n      <td>NaN</td>\n      <td>NaN</td>\n      <td>73</td>\n    </tr>\n  </tbody>\n</table>\n<p>3713 rows × 9 columns</p>\n</div>"
     },
     "metadata": {},
     "execution_count": 8
    }
   ],
   "source": [
    "## (D) defined as:\n",
    "## Withheld to avoid disclosing data for individual farms.\n",
    "\n",
    "## (NA) defined as:\n",
    "## Not available. Rate and total applied data items are not available in the standard units for biological active ingredients. Biological active ingredients often consist of microscopic organisms – the concentrations of which are often reported in parts per million, cfu/g (colony forming units/gram) or viable spores/gram.\n",
    "\n",
    "## Replace (D) and (NA) values with None\n",
    "pesticide_blueberry = pesticide_blueberry.replace({\" (NA)\": None})\n",
    "pesticide_blueberry = pesticide_blueberry.replace({\" (D)\": None})\n",
    "pesticide_blueberry"
   ]
  },
  {
   "cell_type": "code",
   "execution_count": 9,
   "metadata": {},
   "outputs": [
    {
     "output_type": "execute_result",
     "data": {
      "text/plain": [
       "      year         state          chemical_type  \\\n",
       "0     2019  Other States    CHEMICAL, FUNGICIDE   \n",
       "1     2019  Other States    CHEMICAL, FUNGICIDE   \n",
       "2     2019  Other States    CHEMICAL, FUNGICIDE   \n",
       "3     2019  Other States    CHEMICAL, FUNGICIDE   \n",
       "4     2019  Other States    CHEMICAL, FUNGICIDE   \n",
       "...    ...           ...                    ...   \n",
       "3708  1991        OREGON  CHEMICAL, INSECTICIDE   \n",
       "3709  1991        OREGON  CHEMICAL, INSECTICIDE   \n",
       "3710  1991        OREGON  CHEMICAL, INSECTICIDE   \n",
       "3711  1991        OREGON  CHEMICAL, INSECTICIDE   \n",
       "3712  1991        OREGON  CHEMICAL, INSECTICIDE   \n",
       "\n",
       "                                          chemical_name chem_app(lbs)  \\\n",
       "0          CHEMICAL, FUNGICIDE: (AZOXYSTROBIN = 128810)        13,800   \n",
       "1     CHEMICAL, FUNGICIDE: (BACILLUS AMYLOLIQUEFAC F...          None   \n",
       "2     CHEMICAL, FUNGICIDE: (BACILLUS AMYLOLIQUEFACIE...          None   \n",
       "3       CHEMICAL, FUNGICIDE: (BACILLUS SUBTILIS = 6479)          None   \n",
       "4     CHEMICAL, FUNGICIDE: (BASIC COPPER SULFATE = 8...         5,900   \n",
       "...                                                 ...           ...   \n",
       "3708  CHEMICAL, INSECTICIDE: (BT SUBSP ISRAELENSIS =...           NaN   \n",
       "3709          CHEMICAL, INSECTICIDE: (DIAZINON = 57801)           600   \n",
       "3710         CHEMICAL, INSECTICIDE: (MALATHION = 57701)           100   \n",
       "3711  CHEMICAL, INSECTICIDE: (PETROLEUM DISTILLATE =...         9,000   \n",
       "3712                     CHEMICAL, INSECTICIDE: (TOTAL)           NaN   \n",
       "\n",
       "     lb/acre/app(avg) lb/acre/yr(avg) num_app(avg) pct_area_treated(avg)  \n",
       "0               0.194           0.363          1.9                    49  \n",
       "1                None            None         None                  None  \n",
       "2                None            None          1.2                     2  \n",
       "3                None            None            2                    10  \n",
       "4               1.951           2.754          1.4                     3  \n",
       "...               ...             ...          ...                   ...  \n",
       "3708              NaN             NaN          1.8                    33  \n",
       "3709             0.74             0.9          1.2                    43  \n",
       "3710             0.91            1.51          1.7                     6  \n",
       "3711             9.87           20.42          2.1                    28  \n",
       "3712              NaN             NaN          NaN                    73  \n",
       "\n",
       "[3713 rows x 9 columns]"
      ],
      "text/html": "<div>\n<style scoped>\n    .dataframe tbody tr th:only-of-type {\n        vertical-align: middle;\n    }\n\n    .dataframe tbody tr th {\n        vertical-align: top;\n    }\n\n    .dataframe thead th {\n        text-align: right;\n    }\n</style>\n<table border=\"1\" class=\"dataframe\">\n  <thead>\n    <tr style=\"text-align: right;\">\n      <th></th>\n      <th>year</th>\n      <th>state</th>\n      <th>chemical_type</th>\n      <th>chemical_name</th>\n      <th>chem_app(lbs)</th>\n      <th>lb/acre/app(avg)</th>\n      <th>lb/acre/yr(avg)</th>\n      <th>num_app(avg)</th>\n      <th>pct_area_treated(avg)</th>\n    </tr>\n  </thead>\n  <tbody>\n    <tr>\n      <th>0</th>\n      <td>2019</td>\n      <td>Other States</td>\n      <td>CHEMICAL, FUNGICIDE</td>\n      <td>CHEMICAL, FUNGICIDE: (AZOXYSTROBIN = 128810)</td>\n      <td>13,800</td>\n      <td>0.194</td>\n      <td>0.363</td>\n      <td>1.9</td>\n      <td>49</td>\n    </tr>\n    <tr>\n      <th>1</th>\n      <td>2019</td>\n      <td>Other States</td>\n      <td>CHEMICAL, FUNGICIDE</td>\n      <td>CHEMICAL, FUNGICIDE: (BACILLUS AMYLOLIQUEFAC F...</td>\n      <td>None</td>\n      <td>None</td>\n      <td>None</td>\n      <td>None</td>\n      <td>None</td>\n    </tr>\n    <tr>\n      <th>2</th>\n      <td>2019</td>\n      <td>Other States</td>\n      <td>CHEMICAL, FUNGICIDE</td>\n      <td>CHEMICAL, FUNGICIDE: (BACILLUS AMYLOLIQUEFACIE...</td>\n      <td>None</td>\n      <td>None</td>\n      <td>None</td>\n      <td>1.2</td>\n      <td>2</td>\n    </tr>\n    <tr>\n      <th>3</th>\n      <td>2019</td>\n      <td>Other States</td>\n      <td>CHEMICAL, FUNGICIDE</td>\n      <td>CHEMICAL, FUNGICIDE: (BACILLUS SUBTILIS = 6479)</td>\n      <td>None</td>\n      <td>None</td>\n      <td>None</td>\n      <td>2</td>\n      <td>10</td>\n    </tr>\n    <tr>\n      <th>4</th>\n      <td>2019</td>\n      <td>Other States</td>\n      <td>CHEMICAL, FUNGICIDE</td>\n      <td>CHEMICAL, FUNGICIDE: (BASIC COPPER SULFATE = 8...</td>\n      <td>5,900</td>\n      <td>1.951</td>\n      <td>2.754</td>\n      <td>1.4</td>\n      <td>3</td>\n    </tr>\n    <tr>\n      <th>...</th>\n      <td>...</td>\n      <td>...</td>\n      <td>...</td>\n      <td>...</td>\n      <td>...</td>\n      <td>...</td>\n      <td>...</td>\n      <td>...</td>\n      <td>...</td>\n    </tr>\n    <tr>\n      <th>3708</th>\n      <td>1991</td>\n      <td>OREGON</td>\n      <td>CHEMICAL, INSECTICIDE</td>\n      <td>CHEMICAL, INSECTICIDE: (BT SUBSP ISRAELENSIS =...</td>\n      <td>NaN</td>\n      <td>NaN</td>\n      <td>NaN</td>\n      <td>1.8</td>\n      <td>33</td>\n    </tr>\n    <tr>\n      <th>3709</th>\n      <td>1991</td>\n      <td>OREGON</td>\n      <td>CHEMICAL, INSECTICIDE</td>\n      <td>CHEMICAL, INSECTICIDE: (DIAZINON = 57801)</td>\n      <td>600</td>\n      <td>0.74</td>\n      <td>0.9</td>\n      <td>1.2</td>\n      <td>43</td>\n    </tr>\n    <tr>\n      <th>3710</th>\n      <td>1991</td>\n      <td>OREGON</td>\n      <td>CHEMICAL, INSECTICIDE</td>\n      <td>CHEMICAL, INSECTICIDE: (MALATHION = 57701)</td>\n      <td>100</td>\n      <td>0.91</td>\n      <td>1.51</td>\n      <td>1.7</td>\n      <td>6</td>\n    </tr>\n    <tr>\n      <th>3711</th>\n      <td>1991</td>\n      <td>OREGON</td>\n      <td>CHEMICAL, INSECTICIDE</td>\n      <td>CHEMICAL, INSECTICIDE: (PETROLEUM DISTILLATE =...</td>\n      <td>9,000</td>\n      <td>9.87</td>\n      <td>20.42</td>\n      <td>2.1</td>\n      <td>28</td>\n    </tr>\n    <tr>\n      <th>3712</th>\n      <td>1991</td>\n      <td>OREGON</td>\n      <td>CHEMICAL, INSECTICIDE</td>\n      <td>CHEMICAL, INSECTICIDE: (TOTAL)</td>\n      <td>NaN</td>\n      <td>NaN</td>\n      <td>NaN</td>\n      <td>NaN</td>\n      <td>73</td>\n    </tr>\n  </tbody>\n</table>\n<p>3713 rows × 9 columns</p>\n</div>"
     },
     "metadata": {},
     "execution_count": 9
    }
   ],
   "source": [
    "## (Z) defined as:\n",
    "## Less than half of rounding unit for data item shown\n",
    "## Replace (Z) with 0\n",
    "pesticide_blueberry = pesticide_blueberry.replace({\" (Z)\": 0})\n",
    "pesticide_blueberry"
   ]
  },
  {
   "cell_type": "code",
   "execution_count": 10,
   "metadata": {},
   "outputs": [
    {
     "output_type": "execute_result",
     "data": {
      "text/plain": [
       "     year         state        chemical_type  \\\n",
       "0    2019  Other States  CHEMICAL, FUNGICIDE   \n",
       "1    2019  Other States  CHEMICAL, FUNGICIDE   \n",
       "2    2019  Other States  CHEMICAL, FUNGICIDE   \n",
       "3    2019  Other States  CHEMICAL, FUNGICIDE   \n",
       "4    2019  Other States  CHEMICAL, FUNGICIDE   \n",
       "..    ...           ...                  ...   \n",
       "655  2019    WASHINGTON      CHEMICAL, OTHER   \n",
       "656  2019    WASHINGTON      CHEMICAL, OTHER   \n",
       "657  2019    WASHINGTON      CHEMICAL, OTHER   \n",
       "658  2019    WASHINGTON      CHEMICAL, OTHER   \n",
       "659  2019    WASHINGTON      CHEMICAL, OTHER   \n",
       "\n",
       "                                         chemical_name chem_app(lbs)  \\\n",
       "0         CHEMICAL, FUNGICIDE: (AZOXYSTROBIN = 128810)        13,800   \n",
       "1    CHEMICAL, FUNGICIDE: (BACILLUS AMYLOLIQUEFAC F...          None   \n",
       "2    CHEMICAL, FUNGICIDE: (BACILLUS AMYLOLIQUEFACIE...          None   \n",
       "3      CHEMICAL, FUNGICIDE: (BACILLUS SUBTILIS = 6479)          None   \n",
       "4    CHEMICAL, FUNGICIDE: (BASIC COPPER SULFATE = 8...         5,900   \n",
       "..                                                 ...           ...   \n",
       "655    CHEMICAL, OTHER: (REYNOUTRIA SACHALINE = 55809)          None   \n",
       "656    CHEMICAL, OTHER: (TETRADECEN-1-OL (Z) = 128980)          None   \n",
       "657                           CHEMICAL, OTHER: (TOTAL)        21,000   \n",
       "658  CHEMICAL, OTHER: (TRICHODERMA ASPERELLUM STRAI...          None   \n",
       "659  CHEMICAL, OTHER: (TRICHODERMA GAMISII STRAIN I...          None   \n",
       "\n",
       "    lb/acre/app(avg) lb/acre/yr(avg) num_app(avg) pct_area_treated(avg)  \n",
       "0              0.194           0.363          1.9                    49  \n",
       "1               None            None         None                  None  \n",
       "2               None            None          1.2                     2  \n",
       "3               None            None            2                    10  \n",
       "4              1.951           2.754          1.4                     3  \n",
       "..               ...             ...          ...                   ...  \n",
       "655             None            None         None                  None  \n",
       "656             None            None         None                  None  \n",
       "657              NaN             NaN          NaN                    75  \n",
       "658             None            None         None                  None  \n",
       "659             None            None         None                  None  \n",
       "\n",
       "[660 rows x 9 columns]"
      ],
      "text/html": "<div>\n<style scoped>\n    .dataframe tbody tr th:only-of-type {\n        vertical-align: middle;\n    }\n\n    .dataframe tbody tr th {\n        vertical-align: top;\n    }\n\n    .dataframe thead th {\n        text-align: right;\n    }\n</style>\n<table border=\"1\" class=\"dataframe\">\n  <thead>\n    <tr style=\"text-align: right;\">\n      <th></th>\n      <th>year</th>\n      <th>state</th>\n      <th>chemical_type</th>\n      <th>chemical_name</th>\n      <th>chem_app(lbs)</th>\n      <th>lb/acre/app(avg)</th>\n      <th>lb/acre/yr(avg)</th>\n      <th>num_app(avg)</th>\n      <th>pct_area_treated(avg)</th>\n    </tr>\n  </thead>\n  <tbody>\n    <tr>\n      <th>0</th>\n      <td>2019</td>\n      <td>Other States</td>\n      <td>CHEMICAL, FUNGICIDE</td>\n      <td>CHEMICAL, FUNGICIDE: (AZOXYSTROBIN = 128810)</td>\n      <td>13,800</td>\n      <td>0.194</td>\n      <td>0.363</td>\n      <td>1.9</td>\n      <td>49</td>\n    </tr>\n    <tr>\n      <th>1</th>\n      <td>2019</td>\n      <td>Other States</td>\n      <td>CHEMICAL, FUNGICIDE</td>\n      <td>CHEMICAL, FUNGICIDE: (BACILLUS AMYLOLIQUEFAC F...</td>\n      <td>None</td>\n      <td>None</td>\n      <td>None</td>\n      <td>None</td>\n      <td>None</td>\n    </tr>\n    <tr>\n      <th>2</th>\n      <td>2019</td>\n      <td>Other States</td>\n      <td>CHEMICAL, FUNGICIDE</td>\n      <td>CHEMICAL, FUNGICIDE: (BACILLUS AMYLOLIQUEFACIE...</td>\n      <td>None</td>\n      <td>None</td>\n      <td>None</td>\n      <td>1.2</td>\n      <td>2</td>\n    </tr>\n    <tr>\n      <th>3</th>\n      <td>2019</td>\n      <td>Other States</td>\n      <td>CHEMICAL, FUNGICIDE</td>\n      <td>CHEMICAL, FUNGICIDE: (BACILLUS SUBTILIS = 6479)</td>\n      <td>None</td>\n      <td>None</td>\n      <td>None</td>\n      <td>2</td>\n      <td>10</td>\n    </tr>\n    <tr>\n      <th>4</th>\n      <td>2019</td>\n      <td>Other States</td>\n      <td>CHEMICAL, FUNGICIDE</td>\n      <td>CHEMICAL, FUNGICIDE: (BASIC COPPER SULFATE = 8...</td>\n      <td>5,900</td>\n      <td>1.951</td>\n      <td>2.754</td>\n      <td>1.4</td>\n      <td>3</td>\n    </tr>\n    <tr>\n      <th>...</th>\n      <td>...</td>\n      <td>...</td>\n      <td>...</td>\n      <td>...</td>\n      <td>...</td>\n      <td>...</td>\n      <td>...</td>\n      <td>...</td>\n      <td>...</td>\n    </tr>\n    <tr>\n      <th>655</th>\n      <td>2019</td>\n      <td>WASHINGTON</td>\n      <td>CHEMICAL, OTHER</td>\n      <td>CHEMICAL, OTHER: (REYNOUTRIA SACHALINE = 55809)</td>\n      <td>None</td>\n      <td>None</td>\n      <td>None</td>\n      <td>None</td>\n      <td>None</td>\n    </tr>\n    <tr>\n      <th>656</th>\n      <td>2019</td>\n      <td>WASHINGTON</td>\n      <td>CHEMICAL, OTHER</td>\n      <td>CHEMICAL, OTHER: (TETRADECEN-1-OL (Z) = 128980)</td>\n      <td>None</td>\n      <td>None</td>\n      <td>None</td>\n      <td>None</td>\n      <td>None</td>\n    </tr>\n    <tr>\n      <th>657</th>\n      <td>2019</td>\n      <td>WASHINGTON</td>\n      <td>CHEMICAL, OTHER</td>\n      <td>CHEMICAL, OTHER: (TOTAL)</td>\n      <td>21,000</td>\n      <td>NaN</td>\n      <td>NaN</td>\n      <td>NaN</td>\n      <td>75</td>\n    </tr>\n    <tr>\n      <th>658</th>\n      <td>2019</td>\n      <td>WASHINGTON</td>\n      <td>CHEMICAL, OTHER</td>\n      <td>CHEMICAL, OTHER: (TRICHODERMA ASPERELLUM STRAI...</td>\n      <td>None</td>\n      <td>None</td>\n      <td>None</td>\n      <td>None</td>\n      <td>None</td>\n    </tr>\n    <tr>\n      <th>659</th>\n      <td>2019</td>\n      <td>WASHINGTON</td>\n      <td>CHEMICAL, OTHER</td>\n      <td>CHEMICAL, OTHER: (TRICHODERMA GAMISII STRAIN I...</td>\n      <td>None</td>\n      <td>None</td>\n      <td>None</td>\n      <td>None</td>\n      <td>None</td>\n    </tr>\n  </tbody>\n</table>\n<p>660 rows × 9 columns</p>\n</div>"
     },
     "metadata": {},
     "execution_count": 10
    }
   ],
   "source": [
    "## Find all 2019 data in col[\"year\"]\n",
    "pesticide_blueberry = pesticide_blueberry[pesticide_blueberry[\"year\"] == 2019]\n",
    "pesticide_blueberry"
   ]
  },
  {
   "cell_type": "code",
   "execution_count": 11,
   "metadata": {},
   "outputs": [
    {
     "output_type": "stream",
     "name": "stderr",
     "text": [
      "<ipython-input-11-b2e57bcdf46c>:2: SettingWithCopyWarning: \nA value is trying to be set on a copy of a slice from a DataFrame.\nTry using .loc[row_indexer,col_indexer] = value instead\n\nSee the caveats in the documentation: https://pandas.pydata.org/pandas-docs/stable/user_guide/indexing.html#returning-a-view-versus-a-copy\n  pesticide_blueberry[\"state\"] = pesticide_blueberry[\"state\"].str.title()\n"
     ]
    },
    {
     "output_type": "execute_result",
     "data": {
      "text/plain": [
       "     year       state    chemical_type  \\\n",
       "655  2019  Washington  CHEMICAL, OTHER   \n",
       "656  2019  Washington  CHEMICAL, OTHER   \n",
       "657  2019  Washington  CHEMICAL, OTHER   \n",
       "658  2019  Washington  CHEMICAL, OTHER   \n",
       "659  2019  Washington  CHEMICAL, OTHER   \n",
       "\n",
       "                                         chemical_name chem_app(lbs)  \\\n",
       "655    CHEMICAL, OTHER: (REYNOUTRIA SACHALINE = 55809)          None   \n",
       "656    CHEMICAL, OTHER: (TETRADECEN-1-OL (Z) = 128980)          None   \n",
       "657                           CHEMICAL, OTHER: (TOTAL)        21,000   \n",
       "658  CHEMICAL, OTHER: (TRICHODERMA ASPERELLUM STRAI...          None   \n",
       "659  CHEMICAL, OTHER: (TRICHODERMA GAMISII STRAIN I...          None   \n",
       "\n",
       "    lb/acre/app(avg) lb/acre/yr(avg) num_app(avg) pct_area_treated(avg)  \n",
       "655             None            None         None                  None  \n",
       "656             None            None         None                  None  \n",
       "657              NaN             NaN          NaN                    75  \n",
       "658             None            None         None                  None  \n",
       "659             None            None         None                  None  "
      ],
      "text/html": "<div>\n<style scoped>\n    .dataframe tbody tr th:only-of-type {\n        vertical-align: middle;\n    }\n\n    .dataframe tbody tr th {\n        vertical-align: top;\n    }\n\n    .dataframe thead th {\n        text-align: right;\n    }\n</style>\n<table border=\"1\" class=\"dataframe\">\n  <thead>\n    <tr style=\"text-align: right;\">\n      <th></th>\n      <th>year</th>\n      <th>state</th>\n      <th>chemical_type</th>\n      <th>chemical_name</th>\n      <th>chem_app(lbs)</th>\n      <th>lb/acre/app(avg)</th>\n      <th>lb/acre/yr(avg)</th>\n      <th>num_app(avg)</th>\n      <th>pct_area_treated(avg)</th>\n    </tr>\n  </thead>\n  <tbody>\n    <tr>\n      <th>655</th>\n      <td>2019</td>\n      <td>Washington</td>\n      <td>CHEMICAL, OTHER</td>\n      <td>CHEMICAL, OTHER: (REYNOUTRIA SACHALINE = 55809)</td>\n      <td>None</td>\n      <td>None</td>\n      <td>None</td>\n      <td>None</td>\n      <td>None</td>\n    </tr>\n    <tr>\n      <th>656</th>\n      <td>2019</td>\n      <td>Washington</td>\n      <td>CHEMICAL, OTHER</td>\n      <td>CHEMICAL, OTHER: (TETRADECEN-1-OL (Z) = 128980)</td>\n      <td>None</td>\n      <td>None</td>\n      <td>None</td>\n      <td>None</td>\n      <td>None</td>\n    </tr>\n    <tr>\n      <th>657</th>\n      <td>2019</td>\n      <td>Washington</td>\n      <td>CHEMICAL, OTHER</td>\n      <td>CHEMICAL, OTHER: (TOTAL)</td>\n      <td>21,000</td>\n      <td>NaN</td>\n      <td>NaN</td>\n      <td>NaN</td>\n      <td>75</td>\n    </tr>\n    <tr>\n      <th>658</th>\n      <td>2019</td>\n      <td>Washington</td>\n      <td>CHEMICAL, OTHER</td>\n      <td>CHEMICAL, OTHER: (TRICHODERMA ASPERELLUM STRAI...</td>\n      <td>None</td>\n      <td>None</td>\n      <td>None</td>\n      <td>None</td>\n      <td>None</td>\n    </tr>\n    <tr>\n      <th>659</th>\n      <td>2019</td>\n      <td>Washington</td>\n      <td>CHEMICAL, OTHER</td>\n      <td>CHEMICAL, OTHER: (TRICHODERMA GAMISII STRAIN I...</td>\n      <td>None</td>\n      <td>None</td>\n      <td>None</td>\n      <td>None</td>\n      <td>None</td>\n    </tr>\n  </tbody>\n</table>\n</div>"
     },
     "metadata": {},
     "execution_count": 11
    }
   ],
   "source": [
    "## Title case the \"state\" column\n",
    "pesticide_blueberry[\"state\"] = pesticide_blueberry[\"state\"].str.title()\n",
    "pesticide_blueberry.tail()"
   ]
  },
  {
   "cell_type": "code",
   "execution_count": 12,
   "metadata": {},
   "outputs": [
    {
     "output_type": "execute_result",
     "data": {
      "text/plain": [
       "     year       state          chemical_type  \\\n",
       "634  2019  Washington  CHEMICAL, INSECTICIDE   \n",
       "636  2019  Washington  CHEMICAL, INSECTICIDE   \n",
       "639  2019  Washington  CHEMICAL, INSECTICIDE   \n",
       "641  2019  Washington  CHEMICAL, INSECTICIDE   \n",
       "647  2019  Washington        CHEMICAL, OTHER   \n",
       "\n",
       "                                         chemical_name chem_app(lbs)  \\\n",
       "634           CHEMICAL, INSECTICIDE: (PHOSMET = 59201)        10,900   \n",
       "636       CHEMICAL, INSECTICIDE: (SPINETORAM = 110007)           400   \n",
       "639      CHEMICAL, INSECTICIDE: (THIAMETHOXAM = 60109)           100   \n",
       "641  CHEMICAL, INSECTICIDE: (ZETA-CYPERMETHRIN = 12...           500   \n",
       "647    CHEMICAL, OTHER: (CUPRAMMONIUM ACETATE = 36011)         9,100   \n",
       "\n",
       "    lb/acre/app(avg) lb/acre/yr(avg) num_app(avg) pct_area_treated(avg)  \n",
       "634            0.824           1.164          1.4                    65  \n",
       "636            0.091           0.092            1                    32  \n",
       "639            0.091           0.107          1.2                     7  \n",
       "641            0.025           0.054          2.1                    59  \n",
       "647            0.577           0.961          1.7                    66  "
      ],
      "text/html": "<div>\n<style scoped>\n    .dataframe tbody tr th:only-of-type {\n        vertical-align: middle;\n    }\n\n    .dataframe tbody tr th {\n        vertical-align: top;\n    }\n\n    .dataframe thead th {\n        text-align: right;\n    }\n</style>\n<table border=\"1\" class=\"dataframe\">\n  <thead>\n    <tr style=\"text-align: right;\">\n      <th></th>\n      <th>year</th>\n      <th>state</th>\n      <th>chemical_type</th>\n      <th>chemical_name</th>\n      <th>chem_app(lbs)</th>\n      <th>lb/acre/app(avg)</th>\n      <th>lb/acre/yr(avg)</th>\n      <th>num_app(avg)</th>\n      <th>pct_area_treated(avg)</th>\n    </tr>\n  </thead>\n  <tbody>\n    <tr>\n      <th>634</th>\n      <td>2019</td>\n      <td>Washington</td>\n      <td>CHEMICAL, INSECTICIDE</td>\n      <td>CHEMICAL, INSECTICIDE: (PHOSMET = 59201)</td>\n      <td>10,900</td>\n      <td>0.824</td>\n      <td>1.164</td>\n      <td>1.4</td>\n      <td>65</td>\n    </tr>\n    <tr>\n      <th>636</th>\n      <td>2019</td>\n      <td>Washington</td>\n      <td>CHEMICAL, INSECTICIDE</td>\n      <td>CHEMICAL, INSECTICIDE: (SPINETORAM = 110007)</td>\n      <td>400</td>\n      <td>0.091</td>\n      <td>0.092</td>\n      <td>1</td>\n      <td>32</td>\n    </tr>\n    <tr>\n      <th>639</th>\n      <td>2019</td>\n      <td>Washington</td>\n      <td>CHEMICAL, INSECTICIDE</td>\n      <td>CHEMICAL, INSECTICIDE: (THIAMETHOXAM = 60109)</td>\n      <td>100</td>\n      <td>0.091</td>\n      <td>0.107</td>\n      <td>1.2</td>\n      <td>7</td>\n    </tr>\n    <tr>\n      <th>641</th>\n      <td>2019</td>\n      <td>Washington</td>\n      <td>CHEMICAL, INSECTICIDE</td>\n      <td>CHEMICAL, INSECTICIDE: (ZETA-CYPERMETHRIN = 12...</td>\n      <td>500</td>\n      <td>0.025</td>\n      <td>0.054</td>\n      <td>2.1</td>\n      <td>59</td>\n    </tr>\n    <tr>\n      <th>647</th>\n      <td>2019</td>\n      <td>Washington</td>\n      <td>CHEMICAL, OTHER</td>\n      <td>CHEMICAL, OTHER: (CUPRAMMONIUM ACETATE = 36011)</td>\n      <td>9,100</td>\n      <td>0.577</td>\n      <td>0.961</td>\n      <td>1.7</td>\n      <td>66</td>\n    </tr>\n  </tbody>\n</table>\n</div>"
     },
     "metadata": {},
     "execution_count": 12
    }
   ],
   "source": [
    "## Drop blank rows\n",
    "pesticide_blueberry = pesticide_blueberry.dropna()\n",
    "pesticide_blueberry.tail()"
   ]
  },
  {
   "cell_type": "code",
   "execution_count": 13,
   "metadata": {},
   "outputs": [],
   "source": [
    "## Reset the index\n",
    "# pesticide_blueberry = pesticide_blueberry.reset_index(drop = True)\n",
    "# pesticide_blueberry"
   ]
  },
  {
   "cell_type": "code",
   "execution_count": 14,
   "metadata": {},
   "outputs": [],
   "source": [
    "pesticide_blueberry.to_csv(\"../pesticide_blueberry_19.csv\",index=False)"
   ]
  }
 ]
}