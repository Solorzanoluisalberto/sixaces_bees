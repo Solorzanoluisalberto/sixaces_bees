{
 "metadata": {
  "language_info": {
   "codemirror_mode": {
    "name": "ipython",
    "version": 3
   },
   "file_extension": ".py",
   "mimetype": "text/x-python",
   "name": "python",
   "nbconvert_exporter": "python",
   "pygments_lexer": "ipython3",
   "version": "3.8.5"
  },
  "orig_nbformat": 2,
  "kernelspec": {
   "name": "python385jvsc74a57bd06e67b620515b60b5e0a41f61aaaaaa0b5713da87d04dedede882ceace4acc361",
   "display_name": "Python 3.8.5 64-bit ('base': conda)"
  }
 },
 "nbformat": 4,
 "nbformat_minor": 2,
 "cells": [
  {
   "cell_type": "code",
   "execution_count": 1,
   "metadata": {},
   "outputs": [],
   "source": [
    "## Dependencies and setup\n",
    "import pandas as pd"
   ]
  },
  {
   "cell_type": "code",
   "execution_count": 2,
   "metadata": {},
   "outputs": [],
   "source": [
    "## Load data files\n",
    "pesticide_apple = \"../../1_Extract/USDA-Pesticide_Use/pesticide_apple.csv\""
   ]
  },
  {
   "cell_type": "code",
   "execution_count": 3,
   "metadata": {},
   "outputs": [
    {
     "output_type": "execute_result",
     "data": {
      "text/plain": [
       "     Program  Year Period  Week Ending             Geo Level       State  \\\n",
       "0     SURVEY  2019   YEAR          NaN  REGION : MULTI-STATE         NaN   \n",
       "1     SURVEY  2019   YEAR          NaN  REGION : MULTI-STATE         NaN   \n",
       "2     SURVEY  2019   YEAR          NaN  REGION : MULTI-STATE         NaN   \n",
       "3     SURVEY  2019   YEAR          NaN  REGION : MULTI-STATE         NaN   \n",
       "4     SURVEY  2019   YEAR          NaN  REGION : MULTI-STATE         NaN   \n",
       "...      ...   ...    ...          ...                   ...         ...   \n",
       "9857  SURVEY  1991   YEAR          NaN                 STATE  WASHINGTON   \n",
       "9858  SURVEY  1991   YEAR          NaN                 STATE  WASHINGTON   \n",
       "9859  SURVEY  1991   YEAR          NaN                 STATE  WASHINGTON   \n",
       "9860  SURVEY  1991   YEAR          NaN                 STATE  WASHINGTON   \n",
       "9861  SURVEY  1991   YEAR          NaN                 STATE  WASHINGTON   \n",
       "\n",
       "      State ANSI  Ag District  Ag District Code  County  ...  \\\n",
       "0            NaN          NaN               NaN     NaN  ...   \n",
       "1            NaN          NaN               NaN     NaN  ...   \n",
       "2            NaN          NaN               NaN     NaN  ...   \n",
       "3            NaN          NaN               NaN     NaN  ...   \n",
       "4            NaN          NaN               NaN     NaN  ...   \n",
       "...          ...          ...               ...     ...  ...   \n",
       "9857        53.0          NaN               NaN     NaN  ...   \n",
       "9858        53.0          NaN               NaN     NaN  ...   \n",
       "9859        53.0          NaN               NaN     NaN  ...   \n",
       "9860        53.0          NaN               NaN     NaN  ...   \n",
       "9861        53.0          NaN               NaN     NaN  ...   \n",
       "\n",
       "      APPLES, BEARING - APPLICATIONS, MEASURED IN LB  -  <b>VALUE</b>  \\\n",
       "0                                                   (D)                 \n",
       "1                                                   (D)                 \n",
       "2                                                  (NA)                 \n",
       "3                                                  (NA)                 \n",
       "4                                                  (NA)                 \n",
       "...                                                 ...                 \n",
       "9857                                             17,100                 \n",
       "9858                                              1,900                 \n",
       "9859                                              5,400                 \n",
       "9860                                              2,100                 \n",
       "9861                                                NaN                 \n",
       "\n",
       "      APPLES, BEARING - APPLICATIONS, MEASURED IN LB  -  <b>CV (%)</b>  \\\n",
       "0                                                   NaN                  \n",
       "1                                                   NaN                  \n",
       "2                                                   NaN                  \n",
       "3                                                   NaN                  \n",
       "4                                                   NaN                  \n",
       "...                                                 ...                  \n",
       "9857                                                NaN                  \n",
       "9858                                                NaN                  \n",
       "9859                                                NaN                  \n",
       "9860                                                NaN                  \n",
       "9861                                                NaN                  \n",
       "\n",
       "     APPLES, BEARING - APPLICATIONS, MEASURED IN LB / ACRE / APPLICATION, AVG  -  <b>VALUE</b>  \\\n",
       "0                                                   (D)                                          \n",
       "1                                                   (D)                                          \n",
       "2                                                  (NA)                                          \n",
       "3                                                  (NA)                                          \n",
       "4                                                  (NA)                                          \n",
       "...                                                 ...                                          \n",
       "9857                                               0.78                                          \n",
       "9858                                               0.03                                          \n",
       "9859                                               0.04                                          \n",
       "9860                                               0.06                                          \n",
       "9861                                                NaN                                          \n",
       "\n",
       "      APPLES, BEARING - APPLICATIONS, MEASURED IN LB / ACRE / APPLICATION, AVG  -  <b>CV (%)</b>  \\\n",
       "0                                                   NaN                                            \n",
       "1                                                   NaN                                            \n",
       "2                                                   NaN                                            \n",
       "3                                                   NaN                                            \n",
       "4                                                   NaN                                            \n",
       "...                                                 ...                                            \n",
       "9857                                                NaN                                            \n",
       "9858                                                NaN                                            \n",
       "9859                                                NaN                                            \n",
       "9860                                                NaN                                            \n",
       "9861                                                NaN                                            \n",
       "\n",
       "      APPLES, BEARING - APPLICATIONS, MEASURED IN LB / ACRE / YEAR, AVG  -  <b>VALUE</b>  \\\n",
       "0                                                   (D)                                    \n",
       "1                                                   (D)                                    \n",
       "2                                                  (NA)                                    \n",
       "3                                                  (NA)                                    \n",
       "4                                                  (NA)                                    \n",
       "...                                                 ...                                    \n",
       "9857                                               0.79                                    \n",
       "9858                                               0.03                                    \n",
       "9859                                               0.06                                    \n",
       "9860                                               0.07                                    \n",
       "9861                                                NaN                                    \n",
       "\n",
       "     APPLES, BEARING - APPLICATIONS, MEASURED IN LB / ACRE / YEAR, AVG  -  <b>CV (%)</b>  \\\n",
       "0                                                   NaN                                    \n",
       "1                                                   NaN                                    \n",
       "2                                                   NaN                                    \n",
       "3                                                   NaN                                    \n",
       "4                                                   NaN                                    \n",
       "...                                                 ...                                    \n",
       "9857                                                NaN                                    \n",
       "9858                                                NaN                                    \n",
       "9859                                                NaN                                    \n",
       "9860                                                NaN                                    \n",
       "9861                                                NaN                                    \n",
       "\n",
       "     APPLES, BEARING - APPLICATIONS, MEASURED IN NUMBER, AVG  -  <b>VALUE</b>  \\\n",
       "0                                                   (D)                         \n",
       "1                                                   (D)                         \n",
       "2                                                   1.8                         \n",
       "3                                                   2.2                         \n",
       "4                                                   1.7                         \n",
       "...                                                 ...                         \n",
       "9857                                                  1                         \n",
       "9858                                                  1                         \n",
       "9859                                                1.5                         \n",
       "9860                                                  1                         \n",
       "9861                                                NaN                         \n",
       "\n",
       "     APPLES, BEARING - APPLICATIONS, MEASURED IN NUMBER, AVG  -  <b>CV (%)</b>  \\\n",
       "0                                                   NaN                          \n",
       "1                                                   NaN                          \n",
       "2                                                   NaN                          \n",
       "3                                                   NaN                          \n",
       "4                                                   NaN                          \n",
       "...                                                 ...                          \n",
       "9857                                                NaN                          \n",
       "9858                                                NaN                          \n",
       "9859                                                NaN                          \n",
       "9860                                                NaN                          \n",
       "9861                                                NaN                          \n",
       "\n",
       "     APPLES, BEARING - TREATED, MEASURED IN PCT OF AREA BEARING, AVG  -  <b>VALUE</b>  \\\n",
       "0                                                   (D)                                 \n",
       "1                                                   (D)                                 \n",
       "2                                                     5                                 \n",
       "3                                                     8                                 \n",
       "4                                                    16                                 \n",
       "...                                                 ...                                 \n",
       "9857                                                 14                                 \n",
       "9858                                                 44                                 \n",
       "9859                                                 56                                 \n",
       "9860                                                 21                                 \n",
       "9861                                                 82                                 \n",
       "\n",
       "      APPLES, BEARING - TREATED, MEASURED IN PCT OF AREA BEARING, AVG  -  <b>CV (%)</b>  \n",
       "0                                                   NaN                                  \n",
       "1                                                   NaN                                  \n",
       "2                                                   NaN                                  \n",
       "3                                                   NaN                                  \n",
       "4                                                   NaN                                  \n",
       "...                                                 ...                                  \n",
       "9857                                                NaN                                  \n",
       "9858                                                NaN                                  \n",
       "9859                                                NaN                                  \n",
       "9860                                                NaN                                  \n",
       "9861                                                NaN                                  \n",
       "\n",
       "[9862 rows x 28 columns]"
      ],
      "text/html": "<div>\n<style scoped>\n    .dataframe tbody tr th:only-of-type {\n        vertical-align: middle;\n    }\n\n    .dataframe tbody tr th {\n        vertical-align: top;\n    }\n\n    .dataframe thead th {\n        text-align: right;\n    }\n</style>\n<table border=\"1\" class=\"dataframe\">\n  <thead>\n    <tr style=\"text-align: right;\">\n      <th></th>\n      <th>Program</th>\n      <th>Year</th>\n      <th>Period</th>\n      <th>Week Ending</th>\n      <th>Geo Level</th>\n      <th>State</th>\n      <th>State ANSI</th>\n      <th>Ag District</th>\n      <th>Ag District Code</th>\n      <th>County</th>\n      <th>...</th>\n      <th>APPLES, BEARING - APPLICATIONS, MEASURED IN LB  -  &lt;b&gt;VALUE&lt;/b&gt;</th>\n      <th>APPLES, BEARING - APPLICATIONS, MEASURED IN LB  -  &lt;b&gt;CV (%)&lt;/b&gt;</th>\n      <th>APPLES, BEARING - APPLICATIONS, MEASURED IN LB / ACRE / APPLICATION, AVG  -  &lt;b&gt;VALUE&lt;/b&gt;</th>\n      <th>APPLES, BEARING - APPLICATIONS, MEASURED IN LB / ACRE / APPLICATION, AVG  -  &lt;b&gt;CV (%)&lt;/b&gt;</th>\n      <th>APPLES, BEARING - APPLICATIONS, MEASURED IN LB / ACRE / YEAR, AVG  -  &lt;b&gt;VALUE&lt;/b&gt;</th>\n      <th>APPLES, BEARING - APPLICATIONS, MEASURED IN LB / ACRE / YEAR, AVG  -  &lt;b&gt;CV (%)&lt;/b&gt;</th>\n      <th>APPLES, BEARING - APPLICATIONS, MEASURED IN NUMBER, AVG  -  &lt;b&gt;VALUE&lt;/b&gt;</th>\n      <th>APPLES, BEARING - APPLICATIONS, MEASURED IN NUMBER, AVG  -  &lt;b&gt;CV (%)&lt;/b&gt;</th>\n      <th>APPLES, BEARING - TREATED, MEASURED IN PCT OF AREA BEARING, AVG  -  &lt;b&gt;VALUE&lt;/b&gt;</th>\n      <th>APPLES, BEARING - TREATED, MEASURED IN PCT OF AREA BEARING, AVG  -  &lt;b&gt;CV (%)&lt;/b&gt;</th>\n    </tr>\n  </thead>\n  <tbody>\n    <tr>\n      <th>0</th>\n      <td>SURVEY</td>\n      <td>2019</td>\n      <td>YEAR</td>\n      <td>NaN</td>\n      <td>REGION : MULTI-STATE</td>\n      <td>NaN</td>\n      <td>NaN</td>\n      <td>NaN</td>\n      <td>NaN</td>\n      <td>NaN</td>\n      <td>...</td>\n      <td>(D)</td>\n      <td>NaN</td>\n      <td>(D)</td>\n      <td>NaN</td>\n      <td>(D)</td>\n      <td>NaN</td>\n      <td>(D)</td>\n      <td>NaN</td>\n      <td>(D)</td>\n      <td>NaN</td>\n    </tr>\n    <tr>\n      <th>1</th>\n      <td>SURVEY</td>\n      <td>2019</td>\n      <td>YEAR</td>\n      <td>NaN</td>\n      <td>REGION : MULTI-STATE</td>\n      <td>NaN</td>\n      <td>NaN</td>\n      <td>NaN</td>\n      <td>NaN</td>\n      <td>NaN</td>\n      <td>...</td>\n      <td>(D)</td>\n      <td>NaN</td>\n      <td>(D)</td>\n      <td>NaN</td>\n      <td>(D)</td>\n      <td>NaN</td>\n      <td>(D)</td>\n      <td>NaN</td>\n      <td>(D)</td>\n      <td>NaN</td>\n    </tr>\n    <tr>\n      <th>2</th>\n      <td>SURVEY</td>\n      <td>2019</td>\n      <td>YEAR</td>\n      <td>NaN</td>\n      <td>REGION : MULTI-STATE</td>\n      <td>NaN</td>\n      <td>NaN</td>\n      <td>NaN</td>\n      <td>NaN</td>\n      <td>NaN</td>\n      <td>...</td>\n      <td>(NA)</td>\n      <td>NaN</td>\n      <td>(NA)</td>\n      <td>NaN</td>\n      <td>(NA)</td>\n      <td>NaN</td>\n      <td>1.8</td>\n      <td>NaN</td>\n      <td>5</td>\n      <td>NaN</td>\n    </tr>\n    <tr>\n      <th>3</th>\n      <td>SURVEY</td>\n      <td>2019</td>\n      <td>YEAR</td>\n      <td>NaN</td>\n      <td>REGION : MULTI-STATE</td>\n      <td>NaN</td>\n      <td>NaN</td>\n      <td>NaN</td>\n      <td>NaN</td>\n      <td>NaN</td>\n      <td>...</td>\n      <td>(NA)</td>\n      <td>NaN</td>\n      <td>(NA)</td>\n      <td>NaN</td>\n      <td>(NA)</td>\n      <td>NaN</td>\n      <td>2.2</td>\n      <td>NaN</td>\n      <td>8</td>\n      <td>NaN</td>\n    </tr>\n    <tr>\n      <th>4</th>\n      <td>SURVEY</td>\n      <td>2019</td>\n      <td>YEAR</td>\n      <td>NaN</td>\n      <td>REGION : MULTI-STATE</td>\n      <td>NaN</td>\n      <td>NaN</td>\n      <td>NaN</td>\n      <td>NaN</td>\n      <td>NaN</td>\n      <td>...</td>\n      <td>(NA)</td>\n      <td>NaN</td>\n      <td>(NA)</td>\n      <td>NaN</td>\n      <td>(NA)</td>\n      <td>NaN</td>\n      <td>1.7</td>\n      <td>NaN</td>\n      <td>16</td>\n      <td>NaN</td>\n    </tr>\n    <tr>\n      <th>...</th>\n      <td>...</td>\n      <td>...</td>\n      <td>...</td>\n      <td>...</td>\n      <td>...</td>\n      <td>...</td>\n      <td>...</td>\n      <td>...</td>\n      <td>...</td>\n      <td>...</td>\n      <td>...</td>\n      <td>...</td>\n      <td>...</td>\n      <td>...</td>\n      <td>...</td>\n      <td>...</td>\n      <td>...</td>\n      <td>...</td>\n      <td>...</td>\n      <td>...</td>\n      <td>...</td>\n    </tr>\n    <tr>\n      <th>9857</th>\n      <td>SURVEY</td>\n      <td>1991</td>\n      <td>YEAR</td>\n      <td>NaN</td>\n      <td>STATE</td>\n      <td>WASHINGTON</td>\n      <td>53.0</td>\n      <td>NaN</td>\n      <td>NaN</td>\n      <td>NaN</td>\n      <td>...</td>\n      <td>17,100</td>\n      <td>NaN</td>\n      <td>0.78</td>\n      <td>NaN</td>\n      <td>0.79</td>\n      <td>NaN</td>\n      <td>1</td>\n      <td>NaN</td>\n      <td>14</td>\n      <td>NaN</td>\n    </tr>\n    <tr>\n      <th>9858</th>\n      <td>SURVEY</td>\n      <td>1991</td>\n      <td>YEAR</td>\n      <td>NaN</td>\n      <td>STATE</td>\n      <td>WASHINGTON</td>\n      <td>53.0</td>\n      <td>NaN</td>\n      <td>NaN</td>\n      <td>NaN</td>\n      <td>...</td>\n      <td>1,900</td>\n      <td>NaN</td>\n      <td>0.03</td>\n      <td>NaN</td>\n      <td>0.03</td>\n      <td>NaN</td>\n      <td>1</td>\n      <td>NaN</td>\n      <td>44</td>\n      <td>NaN</td>\n    </tr>\n    <tr>\n      <th>9859</th>\n      <td>SURVEY</td>\n      <td>1991</td>\n      <td>YEAR</td>\n      <td>NaN</td>\n      <td>STATE</td>\n      <td>WASHINGTON</td>\n      <td>53.0</td>\n      <td>NaN</td>\n      <td>NaN</td>\n      <td>NaN</td>\n      <td>...</td>\n      <td>5,400</td>\n      <td>NaN</td>\n      <td>0.04</td>\n      <td>NaN</td>\n      <td>0.06</td>\n      <td>NaN</td>\n      <td>1.5</td>\n      <td>NaN</td>\n      <td>56</td>\n      <td>NaN</td>\n    </tr>\n    <tr>\n      <th>9860</th>\n      <td>SURVEY</td>\n      <td>1991</td>\n      <td>YEAR</td>\n      <td>NaN</td>\n      <td>STATE</td>\n      <td>WASHINGTON</td>\n      <td>53.0</td>\n      <td>NaN</td>\n      <td>NaN</td>\n      <td>NaN</td>\n      <td>...</td>\n      <td>2,100</td>\n      <td>NaN</td>\n      <td>0.06</td>\n      <td>NaN</td>\n      <td>0.07</td>\n      <td>NaN</td>\n      <td>1</td>\n      <td>NaN</td>\n      <td>21</td>\n      <td>NaN</td>\n    </tr>\n    <tr>\n      <th>9861</th>\n      <td>SURVEY</td>\n      <td>1991</td>\n      <td>YEAR</td>\n      <td>NaN</td>\n      <td>STATE</td>\n      <td>WASHINGTON</td>\n      <td>53.0</td>\n      <td>NaN</td>\n      <td>NaN</td>\n      <td>NaN</td>\n      <td>...</td>\n      <td>NaN</td>\n      <td>NaN</td>\n      <td>NaN</td>\n      <td>NaN</td>\n      <td>NaN</td>\n      <td>NaN</td>\n      <td>NaN</td>\n      <td>NaN</td>\n      <td>82</td>\n      <td>NaN</td>\n    </tr>\n  </tbody>\n</table>\n<p>9862 rows × 28 columns</p>\n</div>"
     },
     "metadata": {},
     "execution_count": 3
    }
   ],
   "source": [
    "## Read data and store into df\n",
    "pesticide_apple = pd.read_csv(pesticide_apple, encoding = 'unicode_escape')\n",
    "pesticide_apple"
   ]
  },
  {
   "cell_type": "code",
   "execution_count": 4,
   "metadata": {},
   "outputs": [
    {
     "output_type": "execute_result",
     "data": {
      "text/plain": [
       "   Year State               Domain  \\\n",
       "0  2019   NaN  CHEMICAL, FUNGICIDE   \n",
       "1  2019   NaN  CHEMICAL, FUNGICIDE   \n",
       "2  2019   NaN  CHEMICAL, FUNGICIDE   \n",
       "3  2019   NaN  CHEMICAL, FUNGICIDE   \n",
       "4  2019   NaN  CHEMICAL, FUNGICIDE   \n",
       "\n",
       "                                     Domain Category  \\\n",
       "0       CHEMICAL, FUNGICIDE: (AMETOCTRADIN = 119210)   \n",
       "1       CHEMICAL, FUNGICIDE: (AZOXYSTROBIN = 128810)   \n",
       "2  CHEMICAL, FUNGICIDE: (BACILLUS AMYLOLIQUEFACIE...   \n",
       "3     CHEMICAL, FUNGICIDE: (BACILLUS PUMILUS = 6485)   \n",
       "4    CHEMICAL, FUNGICIDE: (BACILLUS SUBTILIS = 6479)   \n",
       "\n",
       "  APPLES, BEARING - APPLICATIONS, MEASURED IN LB  -  <b>VALUE</b>  \\\n",
       "0                                                (D)                \n",
       "1                                                (D)                \n",
       "2                                               (NA)                \n",
       "3                                               (NA)                \n",
       "4                                               (NA)                \n",
       "\n",
       "  APPLES, BEARING - APPLICATIONS, MEASURED IN LB / ACRE / APPLICATION, AVG  -  <b>VALUE</b>  \\\n",
       "0                                                (D)                                          \n",
       "1                                                (D)                                          \n",
       "2                                               (NA)                                          \n",
       "3                                               (NA)                                          \n",
       "4                                               (NA)                                          \n",
       "\n",
       "  APPLES, BEARING - APPLICATIONS, MEASURED IN LB / ACRE / YEAR, AVG  -  <b>VALUE</b>  \\\n",
       "0                                                (D)                                   \n",
       "1                                                (D)                                   \n",
       "2                                               (NA)                                   \n",
       "3                                               (NA)                                   \n",
       "4                                               (NA)                                   \n",
       "\n",
       "  APPLES, BEARING - APPLICATIONS, MEASURED IN NUMBER, AVG  -  <b>VALUE</b>  \\\n",
       "0                                                (D)                         \n",
       "1                                                (D)                         \n",
       "2                                                1.8                         \n",
       "3                                                2.2                         \n",
       "4                                                1.7                         \n",
       "\n",
       "  APPLES, BEARING - TREATED, MEASURED IN PCT OF AREA BEARING, AVG  -  <b>VALUE</b>  \n",
       "0                                                (D)                                \n",
       "1                                                (D)                                \n",
       "2                                                  5                                \n",
       "3                                                  8                                \n",
       "4                                                 16                                "
      ],
      "text/html": "<div>\n<style scoped>\n    .dataframe tbody tr th:only-of-type {\n        vertical-align: middle;\n    }\n\n    .dataframe tbody tr th {\n        vertical-align: top;\n    }\n\n    .dataframe thead th {\n        text-align: right;\n    }\n</style>\n<table border=\"1\" class=\"dataframe\">\n  <thead>\n    <tr style=\"text-align: right;\">\n      <th></th>\n      <th>Year</th>\n      <th>State</th>\n      <th>Domain</th>\n      <th>Domain Category</th>\n      <th>APPLES, BEARING - APPLICATIONS, MEASURED IN LB  -  &lt;b&gt;VALUE&lt;/b&gt;</th>\n      <th>APPLES, BEARING - APPLICATIONS, MEASURED IN LB / ACRE / APPLICATION, AVG  -  &lt;b&gt;VALUE&lt;/b&gt;</th>\n      <th>APPLES, BEARING - APPLICATIONS, MEASURED IN LB / ACRE / YEAR, AVG  -  &lt;b&gt;VALUE&lt;/b&gt;</th>\n      <th>APPLES, BEARING - APPLICATIONS, MEASURED IN NUMBER, AVG  -  &lt;b&gt;VALUE&lt;/b&gt;</th>\n      <th>APPLES, BEARING - TREATED, MEASURED IN PCT OF AREA BEARING, AVG  -  &lt;b&gt;VALUE&lt;/b&gt;</th>\n    </tr>\n  </thead>\n  <tbody>\n    <tr>\n      <th>0</th>\n      <td>2019</td>\n      <td>NaN</td>\n      <td>CHEMICAL, FUNGICIDE</td>\n      <td>CHEMICAL, FUNGICIDE: (AMETOCTRADIN = 119210)</td>\n      <td>(D)</td>\n      <td>(D)</td>\n      <td>(D)</td>\n      <td>(D)</td>\n      <td>(D)</td>\n    </tr>\n    <tr>\n      <th>1</th>\n      <td>2019</td>\n      <td>NaN</td>\n      <td>CHEMICAL, FUNGICIDE</td>\n      <td>CHEMICAL, FUNGICIDE: (AZOXYSTROBIN = 128810)</td>\n      <td>(D)</td>\n      <td>(D)</td>\n      <td>(D)</td>\n      <td>(D)</td>\n      <td>(D)</td>\n    </tr>\n    <tr>\n      <th>2</th>\n      <td>2019</td>\n      <td>NaN</td>\n      <td>CHEMICAL, FUNGICIDE</td>\n      <td>CHEMICAL, FUNGICIDE: (BACILLUS AMYLOLIQUEFACIE...</td>\n      <td>(NA)</td>\n      <td>(NA)</td>\n      <td>(NA)</td>\n      <td>1.8</td>\n      <td>5</td>\n    </tr>\n    <tr>\n      <th>3</th>\n      <td>2019</td>\n      <td>NaN</td>\n      <td>CHEMICAL, FUNGICIDE</td>\n      <td>CHEMICAL, FUNGICIDE: (BACILLUS PUMILUS = 6485)</td>\n      <td>(NA)</td>\n      <td>(NA)</td>\n      <td>(NA)</td>\n      <td>2.2</td>\n      <td>8</td>\n    </tr>\n    <tr>\n      <th>4</th>\n      <td>2019</td>\n      <td>NaN</td>\n      <td>CHEMICAL, FUNGICIDE</td>\n      <td>CHEMICAL, FUNGICIDE: (BACILLUS SUBTILIS = 6479)</td>\n      <td>(NA)</td>\n      <td>(NA)</td>\n      <td>(NA)</td>\n      <td>1.7</td>\n      <td>16</td>\n    </tr>\n  </tbody>\n</table>\n</div>"
     },
     "metadata": {},
     "execution_count": 4
    }
   ],
   "source": [
    "## Drop erroneous columns\n",
    "remove = [0, 2, 3, 4, 6, 7, 8, 9, 10, 11, 12, 13, 14, 15, 19, 21, 23, 25, 27]\n",
    "pesticide_apple.drop(pesticide_apple.iloc[:, remove], axis = 1, inplace = True)\n",
    "\n",
    "pesticide_apple.head()"
   ]
  },
  {
   "cell_type": "code",
   "execution_count": 5,
   "metadata": {},
   "outputs": [
    {
     "output_type": "execute_result",
     "data": {
      "text/plain": [
       "   year state        chemical_type  \\\n",
       "0  2019   NaN  CHEMICAL, FUNGICIDE   \n",
       "1  2019   NaN  CHEMICAL, FUNGICIDE   \n",
       "2  2019   NaN  CHEMICAL, FUNGICIDE   \n",
       "3  2019   NaN  CHEMICAL, FUNGICIDE   \n",
       "4  2019   NaN  CHEMICAL, FUNGICIDE   \n",
       "\n",
       "                                       chemical_name chem_app(lbs)  \\\n",
       "0       CHEMICAL, FUNGICIDE: (AMETOCTRADIN = 119210)           (D)   \n",
       "1       CHEMICAL, FUNGICIDE: (AZOXYSTROBIN = 128810)           (D)   \n",
       "2  CHEMICAL, FUNGICIDE: (BACILLUS AMYLOLIQUEFACIE...          (NA)   \n",
       "3     CHEMICAL, FUNGICIDE: (BACILLUS PUMILUS = 6485)          (NA)   \n",
       "4    CHEMICAL, FUNGICIDE: (BACILLUS SUBTILIS = 6479)          (NA)   \n",
       "\n",
       "  lb/acre/app(avg) lb/acre/yr(avg) num_app(avg) pct_area_treated(avg)  \n",
       "0              (D)             (D)          (D)                   (D)  \n",
       "1              (D)             (D)          (D)                   (D)  \n",
       "2             (NA)            (NA)          1.8                     5  \n",
       "3             (NA)            (NA)          2.2                     8  \n",
       "4             (NA)            (NA)          1.7                    16  "
      ],
      "text/html": "<div>\n<style scoped>\n    .dataframe tbody tr th:only-of-type {\n        vertical-align: middle;\n    }\n\n    .dataframe tbody tr th {\n        vertical-align: top;\n    }\n\n    .dataframe thead th {\n        text-align: right;\n    }\n</style>\n<table border=\"1\" class=\"dataframe\">\n  <thead>\n    <tr style=\"text-align: right;\">\n      <th></th>\n      <th>year</th>\n      <th>state</th>\n      <th>chemical_type</th>\n      <th>chemical_name</th>\n      <th>chem_app(lbs)</th>\n      <th>lb/acre/app(avg)</th>\n      <th>lb/acre/yr(avg)</th>\n      <th>num_app(avg)</th>\n      <th>pct_area_treated(avg)</th>\n    </tr>\n  </thead>\n  <tbody>\n    <tr>\n      <th>0</th>\n      <td>2019</td>\n      <td>NaN</td>\n      <td>CHEMICAL, FUNGICIDE</td>\n      <td>CHEMICAL, FUNGICIDE: (AMETOCTRADIN = 119210)</td>\n      <td>(D)</td>\n      <td>(D)</td>\n      <td>(D)</td>\n      <td>(D)</td>\n      <td>(D)</td>\n    </tr>\n    <tr>\n      <th>1</th>\n      <td>2019</td>\n      <td>NaN</td>\n      <td>CHEMICAL, FUNGICIDE</td>\n      <td>CHEMICAL, FUNGICIDE: (AZOXYSTROBIN = 128810)</td>\n      <td>(D)</td>\n      <td>(D)</td>\n      <td>(D)</td>\n      <td>(D)</td>\n      <td>(D)</td>\n    </tr>\n    <tr>\n      <th>2</th>\n      <td>2019</td>\n      <td>NaN</td>\n      <td>CHEMICAL, FUNGICIDE</td>\n      <td>CHEMICAL, FUNGICIDE: (BACILLUS AMYLOLIQUEFACIE...</td>\n      <td>(NA)</td>\n      <td>(NA)</td>\n      <td>(NA)</td>\n      <td>1.8</td>\n      <td>5</td>\n    </tr>\n    <tr>\n      <th>3</th>\n      <td>2019</td>\n      <td>NaN</td>\n      <td>CHEMICAL, FUNGICIDE</td>\n      <td>CHEMICAL, FUNGICIDE: (BACILLUS PUMILUS = 6485)</td>\n      <td>(NA)</td>\n      <td>(NA)</td>\n      <td>(NA)</td>\n      <td>2.2</td>\n      <td>8</td>\n    </tr>\n    <tr>\n      <th>4</th>\n      <td>2019</td>\n      <td>NaN</td>\n      <td>CHEMICAL, FUNGICIDE</td>\n      <td>CHEMICAL, FUNGICIDE: (BACILLUS SUBTILIS = 6479)</td>\n      <td>(NA)</td>\n      <td>(NA)</td>\n      <td>(NA)</td>\n      <td>1.7</td>\n      <td>16</td>\n    </tr>\n  </tbody>\n</table>\n</div>"
     },
     "metadata": {},
     "execution_count": 5
    }
   ],
   "source": [
    "## Rename columns\n",
    "pesticide_apple.columns = [\"year\", \"state\", \"chemical_type\", \"chemical_name\", \"chem_app(lbs)\", \"lb/acre/app(avg)\", \"lb/acre/yr(avg)\", \"num_app(avg)\", \"pct_area_treated(avg)\"]\n",
    "\n",
    "pesticide_apple.head()"
   ]
  },
  {
   "cell_type": "code",
   "execution_count": 6,
   "metadata": {},
   "outputs": [],
   "source": [
    "## Drop blank rows\n",
    "# pesticide_apple = pesticide_apple.dropna()"
   ]
  },
  {
   "cell_type": "code",
   "execution_count": 7,
   "metadata": {},
   "outputs": [
    {
     "output_type": "execute_result",
     "data": {
      "text/plain": [
       "   year         state        chemical_type  \\\n",
       "0  2019  Other States  CHEMICAL, FUNGICIDE   \n",
       "1  2019  Other States  CHEMICAL, FUNGICIDE   \n",
       "2  2019  Other States  CHEMICAL, FUNGICIDE   \n",
       "3  2019  Other States  CHEMICAL, FUNGICIDE   \n",
       "4  2019  Other States  CHEMICAL, FUNGICIDE   \n",
       "\n",
       "                                       chemical_name chem_app(lbs)  \\\n",
       "0       CHEMICAL, FUNGICIDE: (AMETOCTRADIN = 119210)           (D)   \n",
       "1       CHEMICAL, FUNGICIDE: (AZOXYSTROBIN = 128810)           (D)   \n",
       "2  CHEMICAL, FUNGICIDE: (BACILLUS AMYLOLIQUEFACIE...          (NA)   \n",
       "3     CHEMICAL, FUNGICIDE: (BACILLUS PUMILUS = 6485)          (NA)   \n",
       "4    CHEMICAL, FUNGICIDE: (BACILLUS SUBTILIS = 6479)          (NA)   \n",
       "\n",
       "  lb/acre/app(avg) lb/acre/yr(avg) num_app(avg) pct_area_treated(avg)  \n",
       "0              (D)             (D)          (D)                   (D)  \n",
       "1              (D)             (D)          (D)                   (D)  \n",
       "2             (NA)            (NA)          1.8                     5  \n",
       "3             (NA)            (NA)          2.2                     8  \n",
       "4             (NA)            (NA)          1.7                    16  "
      ],
      "text/html": "<div>\n<style scoped>\n    .dataframe tbody tr th:only-of-type {\n        vertical-align: middle;\n    }\n\n    .dataframe tbody tr th {\n        vertical-align: top;\n    }\n\n    .dataframe thead th {\n        text-align: right;\n    }\n</style>\n<table border=\"1\" class=\"dataframe\">\n  <thead>\n    <tr style=\"text-align: right;\">\n      <th></th>\n      <th>year</th>\n      <th>state</th>\n      <th>chemical_type</th>\n      <th>chemical_name</th>\n      <th>chem_app(lbs)</th>\n      <th>lb/acre/app(avg)</th>\n      <th>lb/acre/yr(avg)</th>\n      <th>num_app(avg)</th>\n      <th>pct_area_treated(avg)</th>\n    </tr>\n  </thead>\n  <tbody>\n    <tr>\n      <th>0</th>\n      <td>2019</td>\n      <td>Other States</td>\n      <td>CHEMICAL, FUNGICIDE</td>\n      <td>CHEMICAL, FUNGICIDE: (AMETOCTRADIN = 119210)</td>\n      <td>(D)</td>\n      <td>(D)</td>\n      <td>(D)</td>\n      <td>(D)</td>\n      <td>(D)</td>\n    </tr>\n    <tr>\n      <th>1</th>\n      <td>2019</td>\n      <td>Other States</td>\n      <td>CHEMICAL, FUNGICIDE</td>\n      <td>CHEMICAL, FUNGICIDE: (AZOXYSTROBIN = 128810)</td>\n      <td>(D)</td>\n      <td>(D)</td>\n      <td>(D)</td>\n      <td>(D)</td>\n      <td>(D)</td>\n    </tr>\n    <tr>\n      <th>2</th>\n      <td>2019</td>\n      <td>Other States</td>\n      <td>CHEMICAL, FUNGICIDE</td>\n      <td>CHEMICAL, FUNGICIDE: (BACILLUS AMYLOLIQUEFACIE...</td>\n      <td>(NA)</td>\n      <td>(NA)</td>\n      <td>(NA)</td>\n      <td>1.8</td>\n      <td>5</td>\n    </tr>\n    <tr>\n      <th>3</th>\n      <td>2019</td>\n      <td>Other States</td>\n      <td>CHEMICAL, FUNGICIDE</td>\n      <td>CHEMICAL, FUNGICIDE: (BACILLUS PUMILUS = 6485)</td>\n      <td>(NA)</td>\n      <td>(NA)</td>\n      <td>(NA)</td>\n      <td>2.2</td>\n      <td>8</td>\n    </tr>\n    <tr>\n      <th>4</th>\n      <td>2019</td>\n      <td>Other States</td>\n      <td>CHEMICAL, FUNGICIDE</td>\n      <td>CHEMICAL, FUNGICIDE: (BACILLUS SUBTILIS = 6479)</td>\n      <td>(NA)</td>\n      <td>(NA)</td>\n      <td>(NA)</td>\n      <td>1.7</td>\n      <td>16</td>\n    </tr>\n  </tbody>\n</table>\n</div>"
     },
     "metadata": {},
     "execution_count": 7
    }
   ],
   "source": [
    "## Rename empty \"state\" cells\n",
    "pesticide_apple[\"state\"] = pesticide_apple[\"state\"].fillna(\"Other States\")\n",
    "pesticide_apple.head()"
   ]
  },
  {
   "cell_type": "code",
   "execution_count": 8,
   "metadata": {},
   "outputs": [
    {
     "output_type": "execute_result",
     "data": {
      "text/plain": [
       "      year         state        chemical_type  \\\n",
       "0     2019  Other States  CHEMICAL, FUNGICIDE   \n",
       "1     2019  Other States  CHEMICAL, FUNGICIDE   \n",
       "2     2019  Other States  CHEMICAL, FUNGICIDE   \n",
       "3     2019  Other States  CHEMICAL, FUNGICIDE   \n",
       "4     2019  Other States  CHEMICAL, FUNGICIDE   \n",
       "...    ...           ...                  ...   \n",
       "9857  1991    WASHINGTON      CHEMICAL, OTHER   \n",
       "9858  1991    WASHINGTON      CHEMICAL, OTHER   \n",
       "9859  1991    WASHINGTON      CHEMICAL, OTHER   \n",
       "9860  1991    WASHINGTON      CHEMICAL, OTHER   \n",
       "9861  1991    WASHINGTON      CHEMICAL, OTHER   \n",
       "\n",
       "                                          chemical_name chem_app(lbs)  \\\n",
       "0          CHEMICAL, FUNGICIDE: (AMETOCTRADIN = 119210)          None   \n",
       "1          CHEMICAL, FUNGICIDE: (AZOXYSTROBIN = 128810)          None   \n",
       "2     CHEMICAL, FUNGICIDE: (BACILLUS AMYLOLIQUEFACIE...          None   \n",
       "3        CHEMICAL, FUNGICIDE: (BACILLUS PUMILUS = 6485)          None   \n",
       "4       CHEMICAL, FUNGICIDE: (BACILLUS SUBTILIS = 6479)          None   \n",
       "...                                                 ...           ...   \n",
       "9857                CHEMICAL, OTHER: (ETHEPHON = 99801)        17,100   \n",
       "9858        CHEMICAL, OTHER: (GIBBERELLIC ACID = 43801)         1,900   \n",
       "9859                     CHEMICAL, OTHER: (NAA = 56002)         5,400   \n",
       "9860                     CHEMICAL, OTHER: (NAD = 56001)         2,100   \n",
       "9861                           CHEMICAL, OTHER: (TOTAL)           NaN   \n",
       "\n",
       "     lb/acre/app(avg) lb/acre/yr(avg) num_app(avg) pct_area_treated(avg)  \n",
       "0                None            None         None                  None  \n",
       "1                None            None         None                  None  \n",
       "2                None            None          1.8                     5  \n",
       "3                None            None          2.2                     8  \n",
       "4                None            None          1.7                    16  \n",
       "...               ...             ...          ...                   ...  \n",
       "9857             0.78            0.79            1                    14  \n",
       "9858             0.03            0.03            1                    44  \n",
       "9859             0.04            0.06          1.5                    56  \n",
       "9860             0.06            0.07            1                    21  \n",
       "9861              NaN             NaN          NaN                    82  \n",
       "\n",
       "[9862 rows x 9 columns]"
      ],
      "text/html": "<div>\n<style scoped>\n    .dataframe tbody tr th:only-of-type {\n        vertical-align: middle;\n    }\n\n    .dataframe tbody tr th {\n        vertical-align: top;\n    }\n\n    .dataframe thead th {\n        text-align: right;\n    }\n</style>\n<table border=\"1\" class=\"dataframe\">\n  <thead>\n    <tr style=\"text-align: right;\">\n      <th></th>\n      <th>year</th>\n      <th>state</th>\n      <th>chemical_type</th>\n      <th>chemical_name</th>\n      <th>chem_app(lbs)</th>\n      <th>lb/acre/app(avg)</th>\n      <th>lb/acre/yr(avg)</th>\n      <th>num_app(avg)</th>\n      <th>pct_area_treated(avg)</th>\n    </tr>\n  </thead>\n  <tbody>\n    <tr>\n      <th>0</th>\n      <td>2019</td>\n      <td>Other States</td>\n      <td>CHEMICAL, FUNGICIDE</td>\n      <td>CHEMICAL, FUNGICIDE: (AMETOCTRADIN = 119210)</td>\n      <td>None</td>\n      <td>None</td>\n      <td>None</td>\n      <td>None</td>\n      <td>None</td>\n    </tr>\n    <tr>\n      <th>1</th>\n      <td>2019</td>\n      <td>Other States</td>\n      <td>CHEMICAL, FUNGICIDE</td>\n      <td>CHEMICAL, FUNGICIDE: (AZOXYSTROBIN = 128810)</td>\n      <td>None</td>\n      <td>None</td>\n      <td>None</td>\n      <td>None</td>\n      <td>None</td>\n    </tr>\n    <tr>\n      <th>2</th>\n      <td>2019</td>\n      <td>Other States</td>\n      <td>CHEMICAL, FUNGICIDE</td>\n      <td>CHEMICAL, FUNGICIDE: (BACILLUS AMYLOLIQUEFACIE...</td>\n      <td>None</td>\n      <td>None</td>\n      <td>None</td>\n      <td>1.8</td>\n      <td>5</td>\n    </tr>\n    <tr>\n      <th>3</th>\n      <td>2019</td>\n      <td>Other States</td>\n      <td>CHEMICAL, FUNGICIDE</td>\n      <td>CHEMICAL, FUNGICIDE: (BACILLUS PUMILUS = 6485)</td>\n      <td>None</td>\n      <td>None</td>\n      <td>None</td>\n      <td>2.2</td>\n      <td>8</td>\n    </tr>\n    <tr>\n      <th>4</th>\n      <td>2019</td>\n      <td>Other States</td>\n      <td>CHEMICAL, FUNGICIDE</td>\n      <td>CHEMICAL, FUNGICIDE: (BACILLUS SUBTILIS = 6479)</td>\n      <td>None</td>\n      <td>None</td>\n      <td>None</td>\n      <td>1.7</td>\n      <td>16</td>\n    </tr>\n    <tr>\n      <th>...</th>\n      <td>...</td>\n      <td>...</td>\n      <td>...</td>\n      <td>...</td>\n      <td>...</td>\n      <td>...</td>\n      <td>...</td>\n      <td>...</td>\n      <td>...</td>\n    </tr>\n    <tr>\n      <th>9857</th>\n      <td>1991</td>\n      <td>WASHINGTON</td>\n      <td>CHEMICAL, OTHER</td>\n      <td>CHEMICAL, OTHER: (ETHEPHON = 99801)</td>\n      <td>17,100</td>\n      <td>0.78</td>\n      <td>0.79</td>\n      <td>1</td>\n      <td>14</td>\n    </tr>\n    <tr>\n      <th>9858</th>\n      <td>1991</td>\n      <td>WASHINGTON</td>\n      <td>CHEMICAL, OTHER</td>\n      <td>CHEMICAL, OTHER: (GIBBERELLIC ACID = 43801)</td>\n      <td>1,900</td>\n      <td>0.03</td>\n      <td>0.03</td>\n      <td>1</td>\n      <td>44</td>\n    </tr>\n    <tr>\n      <th>9859</th>\n      <td>1991</td>\n      <td>WASHINGTON</td>\n      <td>CHEMICAL, OTHER</td>\n      <td>CHEMICAL, OTHER: (NAA = 56002)</td>\n      <td>5,400</td>\n      <td>0.04</td>\n      <td>0.06</td>\n      <td>1.5</td>\n      <td>56</td>\n    </tr>\n    <tr>\n      <th>9860</th>\n      <td>1991</td>\n      <td>WASHINGTON</td>\n      <td>CHEMICAL, OTHER</td>\n      <td>CHEMICAL, OTHER: (NAD = 56001)</td>\n      <td>2,100</td>\n      <td>0.06</td>\n      <td>0.07</td>\n      <td>1</td>\n      <td>21</td>\n    </tr>\n    <tr>\n      <th>9861</th>\n      <td>1991</td>\n      <td>WASHINGTON</td>\n      <td>CHEMICAL, OTHER</td>\n      <td>CHEMICAL, OTHER: (TOTAL)</td>\n      <td>NaN</td>\n      <td>NaN</td>\n      <td>NaN</td>\n      <td>NaN</td>\n      <td>82</td>\n    </tr>\n  </tbody>\n</table>\n<p>9862 rows × 9 columns</p>\n</div>"
     },
     "metadata": {},
     "execution_count": 8
    }
   ],
   "source": [
    "## (D) defined as:\n",
    "## Withheld to avoid disclosing data for individual farms.\n",
    "\n",
    "## (NA) defined as:\n",
    "## Not available. Rate and total applied data items are not available in the standard units for biological active ingredients. Biological active ingredients often consist of microscopic organisms – the concentrations of which are often reported in parts per million, cfu/g (colony forming units/gram) or viable spores/gram.\n",
    "\n",
    "## Replace (D) and (NA) values with None\n",
    "pesticide_apple = pesticide_apple.replace({\" (NA)\": None})\n",
    "pesticide_apple = pesticide_apple.replace({\" (D)\": None})\n",
    "pesticide_apple"
   ]
  },
  {
   "cell_type": "code",
   "execution_count": 9,
   "metadata": {},
   "outputs": [
    {
     "output_type": "execute_result",
     "data": {
      "text/plain": [
       "      year         state        chemical_type  \\\n",
       "0     2019  Other States  CHEMICAL, FUNGICIDE   \n",
       "1     2019  Other States  CHEMICAL, FUNGICIDE   \n",
       "2     2019  Other States  CHEMICAL, FUNGICIDE   \n",
       "3     2019  Other States  CHEMICAL, FUNGICIDE   \n",
       "4     2019  Other States  CHEMICAL, FUNGICIDE   \n",
       "...    ...           ...                  ...   \n",
       "9857  1991    WASHINGTON      CHEMICAL, OTHER   \n",
       "9858  1991    WASHINGTON      CHEMICAL, OTHER   \n",
       "9859  1991    WASHINGTON      CHEMICAL, OTHER   \n",
       "9860  1991    WASHINGTON      CHEMICAL, OTHER   \n",
       "9861  1991    WASHINGTON      CHEMICAL, OTHER   \n",
       "\n",
       "                                          chemical_name chem_app(lbs)  \\\n",
       "0          CHEMICAL, FUNGICIDE: (AMETOCTRADIN = 119210)          None   \n",
       "1          CHEMICAL, FUNGICIDE: (AZOXYSTROBIN = 128810)          None   \n",
       "2     CHEMICAL, FUNGICIDE: (BACILLUS AMYLOLIQUEFACIE...          None   \n",
       "3        CHEMICAL, FUNGICIDE: (BACILLUS PUMILUS = 6485)          None   \n",
       "4       CHEMICAL, FUNGICIDE: (BACILLUS SUBTILIS = 6479)          None   \n",
       "...                                                 ...           ...   \n",
       "9857                CHEMICAL, OTHER: (ETHEPHON = 99801)        17,100   \n",
       "9858        CHEMICAL, OTHER: (GIBBERELLIC ACID = 43801)         1,900   \n",
       "9859                     CHEMICAL, OTHER: (NAA = 56002)         5,400   \n",
       "9860                     CHEMICAL, OTHER: (NAD = 56001)         2,100   \n",
       "9861                           CHEMICAL, OTHER: (TOTAL)           NaN   \n",
       "\n",
       "     lb/acre/app(avg) lb/acre/yr(avg) num_app(avg) pct_area_treated(avg)  \n",
       "0                None            None         None                  None  \n",
       "1                None            None         None                  None  \n",
       "2                None            None          1.8                     5  \n",
       "3                None            None          2.2                     8  \n",
       "4                None            None          1.7                    16  \n",
       "...               ...             ...          ...                   ...  \n",
       "9857             0.78            0.79            1                    14  \n",
       "9858             0.03            0.03            1                    44  \n",
       "9859             0.04            0.06          1.5                    56  \n",
       "9860             0.06            0.07            1                    21  \n",
       "9861              NaN             NaN          NaN                    82  \n",
       "\n",
       "[9862 rows x 9 columns]"
      ],
      "text/html": "<div>\n<style scoped>\n    .dataframe tbody tr th:only-of-type {\n        vertical-align: middle;\n    }\n\n    .dataframe tbody tr th {\n        vertical-align: top;\n    }\n\n    .dataframe thead th {\n        text-align: right;\n    }\n</style>\n<table border=\"1\" class=\"dataframe\">\n  <thead>\n    <tr style=\"text-align: right;\">\n      <th></th>\n      <th>year</th>\n      <th>state</th>\n      <th>chemical_type</th>\n      <th>chemical_name</th>\n      <th>chem_app(lbs)</th>\n      <th>lb/acre/app(avg)</th>\n      <th>lb/acre/yr(avg)</th>\n      <th>num_app(avg)</th>\n      <th>pct_area_treated(avg)</th>\n    </tr>\n  </thead>\n  <tbody>\n    <tr>\n      <th>0</th>\n      <td>2019</td>\n      <td>Other States</td>\n      <td>CHEMICAL, FUNGICIDE</td>\n      <td>CHEMICAL, FUNGICIDE: (AMETOCTRADIN = 119210)</td>\n      <td>None</td>\n      <td>None</td>\n      <td>None</td>\n      <td>None</td>\n      <td>None</td>\n    </tr>\n    <tr>\n      <th>1</th>\n      <td>2019</td>\n      <td>Other States</td>\n      <td>CHEMICAL, FUNGICIDE</td>\n      <td>CHEMICAL, FUNGICIDE: (AZOXYSTROBIN = 128810)</td>\n      <td>None</td>\n      <td>None</td>\n      <td>None</td>\n      <td>None</td>\n      <td>None</td>\n    </tr>\n    <tr>\n      <th>2</th>\n      <td>2019</td>\n      <td>Other States</td>\n      <td>CHEMICAL, FUNGICIDE</td>\n      <td>CHEMICAL, FUNGICIDE: (BACILLUS AMYLOLIQUEFACIE...</td>\n      <td>None</td>\n      <td>None</td>\n      <td>None</td>\n      <td>1.8</td>\n      <td>5</td>\n    </tr>\n    <tr>\n      <th>3</th>\n      <td>2019</td>\n      <td>Other States</td>\n      <td>CHEMICAL, FUNGICIDE</td>\n      <td>CHEMICAL, FUNGICIDE: (BACILLUS PUMILUS = 6485)</td>\n      <td>None</td>\n      <td>None</td>\n      <td>None</td>\n      <td>2.2</td>\n      <td>8</td>\n    </tr>\n    <tr>\n      <th>4</th>\n      <td>2019</td>\n      <td>Other States</td>\n      <td>CHEMICAL, FUNGICIDE</td>\n      <td>CHEMICAL, FUNGICIDE: (BACILLUS SUBTILIS = 6479)</td>\n      <td>None</td>\n      <td>None</td>\n      <td>None</td>\n      <td>1.7</td>\n      <td>16</td>\n    </tr>\n    <tr>\n      <th>...</th>\n      <td>...</td>\n      <td>...</td>\n      <td>...</td>\n      <td>...</td>\n      <td>...</td>\n      <td>...</td>\n      <td>...</td>\n      <td>...</td>\n      <td>...</td>\n    </tr>\n    <tr>\n      <th>9857</th>\n      <td>1991</td>\n      <td>WASHINGTON</td>\n      <td>CHEMICAL, OTHER</td>\n      <td>CHEMICAL, OTHER: (ETHEPHON = 99801)</td>\n      <td>17,100</td>\n      <td>0.78</td>\n      <td>0.79</td>\n      <td>1</td>\n      <td>14</td>\n    </tr>\n    <tr>\n      <th>9858</th>\n      <td>1991</td>\n      <td>WASHINGTON</td>\n      <td>CHEMICAL, OTHER</td>\n      <td>CHEMICAL, OTHER: (GIBBERELLIC ACID = 43801)</td>\n      <td>1,900</td>\n      <td>0.03</td>\n      <td>0.03</td>\n      <td>1</td>\n      <td>44</td>\n    </tr>\n    <tr>\n      <th>9859</th>\n      <td>1991</td>\n      <td>WASHINGTON</td>\n      <td>CHEMICAL, OTHER</td>\n      <td>CHEMICAL, OTHER: (NAA = 56002)</td>\n      <td>5,400</td>\n      <td>0.04</td>\n      <td>0.06</td>\n      <td>1.5</td>\n      <td>56</td>\n    </tr>\n    <tr>\n      <th>9860</th>\n      <td>1991</td>\n      <td>WASHINGTON</td>\n      <td>CHEMICAL, OTHER</td>\n      <td>CHEMICAL, OTHER: (NAD = 56001)</td>\n      <td>2,100</td>\n      <td>0.06</td>\n      <td>0.07</td>\n      <td>1</td>\n      <td>21</td>\n    </tr>\n    <tr>\n      <th>9861</th>\n      <td>1991</td>\n      <td>WASHINGTON</td>\n      <td>CHEMICAL, OTHER</td>\n      <td>CHEMICAL, OTHER: (TOTAL)</td>\n      <td>NaN</td>\n      <td>NaN</td>\n      <td>NaN</td>\n      <td>NaN</td>\n      <td>82</td>\n    </tr>\n  </tbody>\n</table>\n<p>9862 rows × 9 columns</p>\n</div>"
     },
     "metadata": {},
     "execution_count": 9
    }
   ],
   "source": [
    "## (Z) defines as:\n",
    "## Less than half of rounding unit for data item shown\n",
    "## Replace (Z) with 0\n",
    "pesticide_apple = pesticide_apple.replace({\" (Z)\": 0})\n",
    "pesticide_apple"
   ]
  },
  {
   "cell_type": "code",
   "execution_count": 10,
   "metadata": {},
   "outputs": [
    {
     "output_type": "execute_result",
     "data": {
      "text/plain": [
       "      year         state        chemical_type  \\\n",
       "0     2019  Other States  CHEMICAL, FUNGICIDE   \n",
       "1     2019  Other States  CHEMICAL, FUNGICIDE   \n",
       "2     2019  Other States  CHEMICAL, FUNGICIDE   \n",
       "3     2019  Other States  CHEMICAL, FUNGICIDE   \n",
       "4     2019  Other States  CHEMICAL, FUNGICIDE   \n",
       "...    ...           ...                  ...   \n",
       "1106  2019    WASHINGTON      CHEMICAL, OTHER   \n",
       "1107  2019    WASHINGTON      CHEMICAL, OTHER   \n",
       "1108  2019    WASHINGTON      CHEMICAL, OTHER   \n",
       "1109  2019    WASHINGTON      CHEMICAL, OTHER   \n",
       "1110  2019    WASHINGTON      CHEMICAL, OTHER   \n",
       "\n",
       "                                          chemical_name chem_app(lbs)  \\\n",
       "0          CHEMICAL, FUNGICIDE: (AMETOCTRADIN = 119210)          None   \n",
       "1          CHEMICAL, FUNGICIDE: (AZOXYSTROBIN = 128810)          None   \n",
       "2     CHEMICAL, FUNGICIDE: (BACILLUS AMYLOLIQUEFACIE...          None   \n",
       "3        CHEMICAL, FUNGICIDE: (BACILLUS PUMILUS = 6485)          None   \n",
       "4       CHEMICAL, FUNGICIDE: (BACILLUS SUBTILIS = 6479)          None   \n",
       "...                                                 ...           ...   \n",
       "1106      CHEMICAL, OTHER: (Z-11-TETRADECENOL = 129021)             0   \n",
       "1107          CHEMICAL, OTHER: (Z-8-DODECANOL = 128908)             0   \n",
       "1108    CHEMICAL, OTHER: (Z-8-DODECEN ACETATE = 128906)           100   \n",
       "1109  CHEMICAL, OTHER: (Z-9-TETRADECEN-1-YL ACETATE ...             0   \n",
       "1110          CHEMICAL, OTHER: (ZINC PHOSPHIDE = 88601)         1,200   \n",
       "\n",
       "     lb/acre/app(avg) lb/acre/yr(avg) num_app(avg) pct_area_treated(avg)  \n",
       "0                None            None         None                  None  \n",
       "1                None            None         None                  None  \n",
       "2                None            None          1.8                     5  \n",
       "3                None            None          2.2                     8  \n",
       "4                None            None          1.7                    16  \n",
       "...               ...             ...          ...                   ...  \n",
       "1106            0.002           0.002            1                     2  \n",
       "1107            0.001           0.001            1                     2  \n",
       "1108             0.03           0.031            1                     2  \n",
       "1109            0.011           0.011            1                     2  \n",
       "1110            0.199           0.223          1.1                     3  \n",
       "\n",
       "[1111 rows x 9 columns]"
      ],
      "text/html": "<div>\n<style scoped>\n    .dataframe tbody tr th:only-of-type {\n        vertical-align: middle;\n    }\n\n    .dataframe tbody tr th {\n        vertical-align: top;\n    }\n\n    .dataframe thead th {\n        text-align: right;\n    }\n</style>\n<table border=\"1\" class=\"dataframe\">\n  <thead>\n    <tr style=\"text-align: right;\">\n      <th></th>\n      <th>year</th>\n      <th>state</th>\n      <th>chemical_type</th>\n      <th>chemical_name</th>\n      <th>chem_app(lbs)</th>\n      <th>lb/acre/app(avg)</th>\n      <th>lb/acre/yr(avg)</th>\n      <th>num_app(avg)</th>\n      <th>pct_area_treated(avg)</th>\n    </tr>\n  </thead>\n  <tbody>\n    <tr>\n      <th>0</th>\n      <td>2019</td>\n      <td>Other States</td>\n      <td>CHEMICAL, FUNGICIDE</td>\n      <td>CHEMICAL, FUNGICIDE: (AMETOCTRADIN = 119210)</td>\n      <td>None</td>\n      <td>None</td>\n      <td>None</td>\n      <td>None</td>\n      <td>None</td>\n    </tr>\n    <tr>\n      <th>1</th>\n      <td>2019</td>\n      <td>Other States</td>\n      <td>CHEMICAL, FUNGICIDE</td>\n      <td>CHEMICAL, FUNGICIDE: (AZOXYSTROBIN = 128810)</td>\n      <td>None</td>\n      <td>None</td>\n      <td>None</td>\n      <td>None</td>\n      <td>None</td>\n    </tr>\n    <tr>\n      <th>2</th>\n      <td>2019</td>\n      <td>Other States</td>\n      <td>CHEMICAL, FUNGICIDE</td>\n      <td>CHEMICAL, FUNGICIDE: (BACILLUS AMYLOLIQUEFACIE...</td>\n      <td>None</td>\n      <td>None</td>\n      <td>None</td>\n      <td>1.8</td>\n      <td>5</td>\n    </tr>\n    <tr>\n      <th>3</th>\n      <td>2019</td>\n      <td>Other States</td>\n      <td>CHEMICAL, FUNGICIDE</td>\n      <td>CHEMICAL, FUNGICIDE: (BACILLUS PUMILUS = 6485)</td>\n      <td>None</td>\n      <td>None</td>\n      <td>None</td>\n      <td>2.2</td>\n      <td>8</td>\n    </tr>\n    <tr>\n      <th>4</th>\n      <td>2019</td>\n      <td>Other States</td>\n      <td>CHEMICAL, FUNGICIDE</td>\n      <td>CHEMICAL, FUNGICIDE: (BACILLUS SUBTILIS = 6479)</td>\n      <td>None</td>\n      <td>None</td>\n      <td>None</td>\n      <td>1.7</td>\n      <td>16</td>\n    </tr>\n    <tr>\n      <th>...</th>\n      <td>...</td>\n      <td>...</td>\n      <td>...</td>\n      <td>...</td>\n      <td>...</td>\n      <td>...</td>\n      <td>...</td>\n      <td>...</td>\n      <td>...</td>\n    </tr>\n    <tr>\n      <th>1106</th>\n      <td>2019</td>\n      <td>WASHINGTON</td>\n      <td>CHEMICAL, OTHER</td>\n      <td>CHEMICAL, OTHER: (Z-11-TETRADECENOL = 129021)</td>\n      <td>0</td>\n      <td>0.002</td>\n      <td>0.002</td>\n      <td>1</td>\n      <td>2</td>\n    </tr>\n    <tr>\n      <th>1107</th>\n      <td>2019</td>\n      <td>WASHINGTON</td>\n      <td>CHEMICAL, OTHER</td>\n      <td>CHEMICAL, OTHER: (Z-8-DODECANOL = 128908)</td>\n      <td>0</td>\n      <td>0.001</td>\n      <td>0.001</td>\n      <td>1</td>\n      <td>2</td>\n    </tr>\n    <tr>\n      <th>1108</th>\n      <td>2019</td>\n      <td>WASHINGTON</td>\n      <td>CHEMICAL, OTHER</td>\n      <td>CHEMICAL, OTHER: (Z-8-DODECEN ACETATE = 128906)</td>\n      <td>100</td>\n      <td>0.03</td>\n      <td>0.031</td>\n      <td>1</td>\n      <td>2</td>\n    </tr>\n    <tr>\n      <th>1109</th>\n      <td>2019</td>\n      <td>WASHINGTON</td>\n      <td>CHEMICAL, OTHER</td>\n      <td>CHEMICAL, OTHER: (Z-9-TETRADECEN-1-YL ACETATE ...</td>\n      <td>0</td>\n      <td>0.011</td>\n      <td>0.011</td>\n      <td>1</td>\n      <td>2</td>\n    </tr>\n    <tr>\n      <th>1110</th>\n      <td>2019</td>\n      <td>WASHINGTON</td>\n      <td>CHEMICAL, OTHER</td>\n      <td>CHEMICAL, OTHER: (ZINC PHOSPHIDE = 88601)</td>\n      <td>1,200</td>\n      <td>0.199</td>\n      <td>0.223</td>\n      <td>1.1</td>\n      <td>3</td>\n    </tr>\n  </tbody>\n</table>\n<p>1111 rows × 9 columns</p>\n</div>"
     },
     "metadata": {},
     "execution_count": 10
    }
   ],
   "source": [
    "## Find all 2019 data in col[\"year\"]\n",
    "pesticide_apple = pesticide_apple[pesticide_apple[\"year\"] == 2019]\n",
    "pesticide_apple"
   ]
  },
  {
   "cell_type": "code",
   "execution_count": 11,
   "metadata": {},
   "outputs": [
    {
     "output_type": "stream",
     "name": "stderr",
     "text": [
      "<ipython-input-11-a911facc89fc>:2: SettingWithCopyWarning: \nA value is trying to be set on a copy of a slice from a DataFrame.\nTry using .loc[row_indexer,col_indexer] = value instead\n\nSee the caveats in the documentation: https://pandas.pydata.org/pandas-docs/stable/user_guide/indexing.html#returning-a-view-versus-a-copy\n  pesticide_apple[\"state\"] = pesticide_apple[\"state\"].str.title()\n"
     ]
    },
    {
     "output_type": "execute_result",
     "data": {
      "text/plain": [
       "      year       state    chemical_type  \\\n",
       "1106  2019  Washington  CHEMICAL, OTHER   \n",
       "1107  2019  Washington  CHEMICAL, OTHER   \n",
       "1108  2019  Washington  CHEMICAL, OTHER   \n",
       "1109  2019  Washington  CHEMICAL, OTHER   \n",
       "1110  2019  Washington  CHEMICAL, OTHER   \n",
       "\n",
       "                                          chemical_name chem_app(lbs)  \\\n",
       "1106      CHEMICAL, OTHER: (Z-11-TETRADECENOL = 129021)             0   \n",
       "1107          CHEMICAL, OTHER: (Z-8-DODECANOL = 128908)             0   \n",
       "1108    CHEMICAL, OTHER: (Z-8-DODECEN ACETATE = 128906)           100   \n",
       "1109  CHEMICAL, OTHER: (Z-9-TETRADECEN-1-YL ACETATE ...             0   \n",
       "1110          CHEMICAL, OTHER: (ZINC PHOSPHIDE = 88601)         1,200   \n",
       "\n",
       "     lb/acre/app(avg) lb/acre/yr(avg) num_app(avg) pct_area_treated(avg)  \n",
       "1106            0.002           0.002            1                     2  \n",
       "1107            0.001           0.001            1                     2  \n",
       "1108             0.03           0.031            1                     2  \n",
       "1109            0.011           0.011            1                     2  \n",
       "1110            0.199           0.223          1.1                     3  "
      ],
      "text/html": "<div>\n<style scoped>\n    .dataframe tbody tr th:only-of-type {\n        vertical-align: middle;\n    }\n\n    .dataframe tbody tr th {\n        vertical-align: top;\n    }\n\n    .dataframe thead th {\n        text-align: right;\n    }\n</style>\n<table border=\"1\" class=\"dataframe\">\n  <thead>\n    <tr style=\"text-align: right;\">\n      <th></th>\n      <th>year</th>\n      <th>state</th>\n      <th>chemical_type</th>\n      <th>chemical_name</th>\n      <th>chem_app(lbs)</th>\n      <th>lb/acre/app(avg)</th>\n      <th>lb/acre/yr(avg)</th>\n      <th>num_app(avg)</th>\n      <th>pct_area_treated(avg)</th>\n    </tr>\n  </thead>\n  <tbody>\n    <tr>\n      <th>1106</th>\n      <td>2019</td>\n      <td>Washington</td>\n      <td>CHEMICAL, OTHER</td>\n      <td>CHEMICAL, OTHER: (Z-11-TETRADECENOL = 129021)</td>\n      <td>0</td>\n      <td>0.002</td>\n      <td>0.002</td>\n      <td>1</td>\n      <td>2</td>\n    </tr>\n    <tr>\n      <th>1107</th>\n      <td>2019</td>\n      <td>Washington</td>\n      <td>CHEMICAL, OTHER</td>\n      <td>CHEMICAL, OTHER: (Z-8-DODECANOL = 128908)</td>\n      <td>0</td>\n      <td>0.001</td>\n      <td>0.001</td>\n      <td>1</td>\n      <td>2</td>\n    </tr>\n    <tr>\n      <th>1108</th>\n      <td>2019</td>\n      <td>Washington</td>\n      <td>CHEMICAL, OTHER</td>\n      <td>CHEMICAL, OTHER: (Z-8-DODECEN ACETATE = 128906)</td>\n      <td>100</td>\n      <td>0.03</td>\n      <td>0.031</td>\n      <td>1</td>\n      <td>2</td>\n    </tr>\n    <tr>\n      <th>1109</th>\n      <td>2019</td>\n      <td>Washington</td>\n      <td>CHEMICAL, OTHER</td>\n      <td>CHEMICAL, OTHER: (Z-9-TETRADECEN-1-YL ACETATE ...</td>\n      <td>0</td>\n      <td>0.011</td>\n      <td>0.011</td>\n      <td>1</td>\n      <td>2</td>\n    </tr>\n    <tr>\n      <th>1110</th>\n      <td>2019</td>\n      <td>Washington</td>\n      <td>CHEMICAL, OTHER</td>\n      <td>CHEMICAL, OTHER: (ZINC PHOSPHIDE = 88601)</td>\n      <td>1,200</td>\n      <td>0.199</td>\n      <td>0.223</td>\n      <td>1.1</td>\n      <td>3</td>\n    </tr>\n  </tbody>\n</table>\n</div>"
     },
     "metadata": {},
     "execution_count": 11
    }
   ],
   "source": [
    "## Title case the \"state\" column\n",
    "pesticide_apple[\"state\"] = pesticide_apple[\"state\"].str.title()\n",
    "pesticide_apple.tail()"
   ]
  },
  {
   "cell_type": "code",
   "execution_count": 12,
   "metadata": {},
   "outputs": [
    {
     "output_type": "execute_result",
     "data": {
      "text/plain": [
       "      year       state    chemical_type  \\\n",
       "1106  2019  Washington  CHEMICAL, OTHER   \n",
       "1107  2019  Washington  CHEMICAL, OTHER   \n",
       "1108  2019  Washington  CHEMICAL, OTHER   \n",
       "1109  2019  Washington  CHEMICAL, OTHER   \n",
       "1110  2019  Washington  CHEMICAL, OTHER   \n",
       "\n",
       "                                          chemical_name chem_app(lbs)  \\\n",
       "1106      CHEMICAL, OTHER: (Z-11-TETRADECENOL = 129021)             0   \n",
       "1107          CHEMICAL, OTHER: (Z-8-DODECANOL = 128908)             0   \n",
       "1108    CHEMICAL, OTHER: (Z-8-DODECEN ACETATE = 128906)           100   \n",
       "1109  CHEMICAL, OTHER: (Z-9-TETRADECEN-1-YL ACETATE ...             0   \n",
       "1110          CHEMICAL, OTHER: (ZINC PHOSPHIDE = 88601)         1,200   \n",
       "\n",
       "     lb/acre/app(avg) lb/acre/yr(avg) num_app(avg) pct_area_treated(avg)  \n",
       "1106            0.002           0.002            1                     2  \n",
       "1107            0.001           0.001            1                     2  \n",
       "1108             0.03           0.031            1                     2  \n",
       "1109            0.011           0.011            1                     2  \n",
       "1110            0.199           0.223          1.1                     3  "
      ],
      "text/html": "<div>\n<style scoped>\n    .dataframe tbody tr th:only-of-type {\n        vertical-align: middle;\n    }\n\n    .dataframe tbody tr th {\n        vertical-align: top;\n    }\n\n    .dataframe thead th {\n        text-align: right;\n    }\n</style>\n<table border=\"1\" class=\"dataframe\">\n  <thead>\n    <tr style=\"text-align: right;\">\n      <th></th>\n      <th>year</th>\n      <th>state</th>\n      <th>chemical_type</th>\n      <th>chemical_name</th>\n      <th>chem_app(lbs)</th>\n      <th>lb/acre/app(avg)</th>\n      <th>lb/acre/yr(avg)</th>\n      <th>num_app(avg)</th>\n      <th>pct_area_treated(avg)</th>\n    </tr>\n  </thead>\n  <tbody>\n    <tr>\n      <th>1106</th>\n      <td>2019</td>\n      <td>Washington</td>\n      <td>CHEMICAL, OTHER</td>\n      <td>CHEMICAL, OTHER: (Z-11-TETRADECENOL = 129021)</td>\n      <td>0</td>\n      <td>0.002</td>\n      <td>0.002</td>\n      <td>1</td>\n      <td>2</td>\n    </tr>\n    <tr>\n      <th>1107</th>\n      <td>2019</td>\n      <td>Washington</td>\n      <td>CHEMICAL, OTHER</td>\n      <td>CHEMICAL, OTHER: (Z-8-DODECANOL = 128908)</td>\n      <td>0</td>\n      <td>0.001</td>\n      <td>0.001</td>\n      <td>1</td>\n      <td>2</td>\n    </tr>\n    <tr>\n      <th>1108</th>\n      <td>2019</td>\n      <td>Washington</td>\n      <td>CHEMICAL, OTHER</td>\n      <td>CHEMICAL, OTHER: (Z-8-DODECEN ACETATE = 128906)</td>\n      <td>100</td>\n      <td>0.03</td>\n      <td>0.031</td>\n      <td>1</td>\n      <td>2</td>\n    </tr>\n    <tr>\n      <th>1109</th>\n      <td>2019</td>\n      <td>Washington</td>\n      <td>CHEMICAL, OTHER</td>\n      <td>CHEMICAL, OTHER: (Z-9-TETRADECEN-1-YL ACETATE ...</td>\n      <td>0</td>\n      <td>0.011</td>\n      <td>0.011</td>\n      <td>1</td>\n      <td>2</td>\n    </tr>\n    <tr>\n      <th>1110</th>\n      <td>2019</td>\n      <td>Washington</td>\n      <td>CHEMICAL, OTHER</td>\n      <td>CHEMICAL, OTHER: (ZINC PHOSPHIDE = 88601)</td>\n      <td>1,200</td>\n      <td>0.199</td>\n      <td>0.223</td>\n      <td>1.1</td>\n      <td>3</td>\n    </tr>\n  </tbody>\n</table>\n</div>"
     },
     "metadata": {},
     "execution_count": 12
    }
   ],
   "source": [
    "## Drop blank rows\n",
    "pesticide_apple = pesticide_apple.dropna()\n",
    "pesticide_apple.tail()"
   ]
  },
  {
   "cell_type": "code",
   "execution_count": 13,
   "metadata": {},
   "outputs": [],
   "source": [
    "## Reset the index\n",
    "# pesticide_apple = pesticide_apple.reset_index(drop = True)\n",
    "# pesticide_apple"
   ]
  },
  {
   "cell_type": "code",
   "execution_count": 14,
   "metadata": {},
   "outputs": [],
   "source": [
    "pesticide_apple.to_csv(\"../pesticide_apple_19.csv\",index=False)"
   ]
  }
 ]
}