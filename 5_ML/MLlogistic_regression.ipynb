{
 "metadata": {
  "language_info": {
   "codemirror_mode": {
    "name": "ipython",
    "version": 3
   },
   "file_extension": ".py",
   "mimetype": "text/x-python",
   "name": "python",
   "nbconvert_exporter": "python",
   "pygments_lexer": "ipython3",
   "version": "3.8.5"
  },
  "orig_nbformat": 2,
  "kernelspec": {
   "name": "python385jvsc74a57bd0fd67e6b1169f95e39aec8da660fd745774152eeffd80e8c856f0fbbda051db73",
   "display_name": "Python 3.8.5 64-bit ('base': conda)"
  }
 },
 "nbformat": 4,
 "nbformat_minor": 2,
 "cells": [
  {
   "cell_type": "code",
   "execution_count": 1,
   "metadata": {},
   "outputs": [],
   "source": [
    "import matplotlib.pyplot as plt\n",
    "import pandas as pd\n",
    "import os\n",
    "from sklearn import preprocessing\n",
    "from sklearn import utils\n",
    "from sklearn.model_selection import train_test_split\n",
    "from sklearn.linear_model import LogisticRegression\n",
    "from sklearn.preprocessing import StandardScaler"
   ]
  },
  {
   "cell_type": "code",
   "execution_count": 2,
   "metadata": {},
   "outputs": [
    {
     "output_type": "execute_result",
     "data": {
      "text/plain": [
       "        state  max_h_prod_cny  yield/cny  prod(1000_lbs)  prod_held_stocks  \\\n",
       "0     Alabama               7       42.0             294                44   \n",
       "1     Arizona              23       46.0            1058               201   \n",
       "2    Arkansas              20       55.0            1100               176   \n",
       "3  California             335       48.0           16080              3216   \n",
       "4    Colorado              32       46.0            1472               500   \n",
       "\n",
       "   avg_price/lb(1_dollar)  value_prod(1000_dollars)  \n",
       "0                    3.38                       994  \n",
       "1                    2.04                      2158  \n",
       "2                    1.65                      1815  \n",
       "3                    1.60                     25728  \n",
       "4                    2.34                      3444  "
      ],
      "text/html": "<div>\n<style scoped>\n    .dataframe tbody tr th:only-of-type {\n        vertical-align: middle;\n    }\n\n    .dataframe tbody tr th {\n        vertical-align: top;\n    }\n\n    .dataframe thead th {\n        text-align: right;\n    }\n</style>\n<table border=\"1\" class=\"dataframe\">\n  <thead>\n    <tr style=\"text-align: right;\">\n      <th></th>\n      <th>state</th>\n      <th>max_h_prod_cny</th>\n      <th>yield/cny</th>\n      <th>prod(1000_lbs)</th>\n      <th>prod_held_stocks</th>\n      <th>avg_price/lb(1_dollar)</th>\n      <th>value_prod(1000_dollars)</th>\n    </tr>\n  </thead>\n  <tbody>\n    <tr>\n      <th>0</th>\n      <td>Alabama</td>\n      <td>7</td>\n      <td>42.0</td>\n      <td>294</td>\n      <td>44</td>\n      <td>3.38</td>\n      <td>994</td>\n    </tr>\n    <tr>\n      <th>1</th>\n      <td>Arizona</td>\n      <td>23</td>\n      <td>46.0</td>\n      <td>1058</td>\n      <td>201</td>\n      <td>2.04</td>\n      <td>2158</td>\n    </tr>\n    <tr>\n      <th>2</th>\n      <td>Arkansas</td>\n      <td>20</td>\n      <td>55.0</td>\n      <td>1100</td>\n      <td>176</td>\n      <td>1.65</td>\n      <td>1815</td>\n    </tr>\n    <tr>\n      <th>3</th>\n      <td>California</td>\n      <td>335</td>\n      <td>48.0</td>\n      <td>16080</td>\n      <td>3216</td>\n      <td>1.60</td>\n      <td>25728</td>\n    </tr>\n    <tr>\n      <th>4</th>\n      <td>Colorado</td>\n      <td>32</td>\n      <td>46.0</td>\n      <td>1472</td>\n      <td>500</td>\n      <td>2.34</td>\n      <td>3444</td>\n    </tr>\n  </tbody>\n</table>\n</div>"
     },
     "metadata": {},
     "execution_count": 2
    }
   ],
   "source": [
    "honey = \"../2_Transform/hp_prod_19.csv\"\n",
    "df1 = pd.read_csv(honey)\n",
    "df1.head()\n"
   ]
  },
  {
   "cell_type": "code",
   "execution_count": 3,
   "metadata": {},
   "outputs": [
    {
     "output_type": "execute_result",
     "data": {
      "text/plain": [
       "            state  max_h_prod_cny  yield/cny  prod(1000_lbs)  \\\n",
       "36     Washington              81       35.0            2835   \n",
       "37  West Virginia               6       37.0             222   \n",
       "38      Wisconsin              46       47.0            2162   \n",
       "39        Wyoming              39       56.0            2184   \n",
       "40   Other States              30       47.0            1418   \n",
       "\n",
       "    prod_held_stocks  avg_price/lb(1_dollar)  value_prod(1000_dollars)  \n",
       "36              1191                    2.18                      6180  \n",
       "37                47                    4.26                       946  \n",
       "38               692                    3.00                      6486  \n",
       "39               306                    1.43                      3123  \n",
       "40               351                    4.65                      6594  "
      ],
      "text/html": "<div>\n<style scoped>\n    .dataframe tbody tr th:only-of-type {\n        vertical-align: middle;\n    }\n\n    .dataframe tbody tr th {\n        vertical-align: top;\n    }\n\n    .dataframe thead th {\n        text-align: right;\n    }\n</style>\n<table border=\"1\" class=\"dataframe\">\n  <thead>\n    <tr style=\"text-align: right;\">\n      <th></th>\n      <th>state</th>\n      <th>max_h_prod_cny</th>\n      <th>yield/cny</th>\n      <th>prod(1000_lbs)</th>\n      <th>prod_held_stocks</th>\n      <th>avg_price/lb(1_dollar)</th>\n      <th>value_prod(1000_dollars)</th>\n    </tr>\n  </thead>\n  <tbody>\n    <tr>\n      <th>36</th>\n      <td>Washington</td>\n      <td>81</td>\n      <td>35.0</td>\n      <td>2835</td>\n      <td>1191</td>\n      <td>2.18</td>\n      <td>6180</td>\n    </tr>\n    <tr>\n      <th>37</th>\n      <td>West Virginia</td>\n      <td>6</td>\n      <td>37.0</td>\n      <td>222</td>\n      <td>47</td>\n      <td>4.26</td>\n      <td>946</td>\n    </tr>\n    <tr>\n      <th>38</th>\n      <td>Wisconsin</td>\n      <td>46</td>\n      <td>47.0</td>\n      <td>2162</td>\n      <td>692</td>\n      <td>3.00</td>\n      <td>6486</td>\n    </tr>\n    <tr>\n      <th>39</th>\n      <td>Wyoming</td>\n      <td>39</td>\n      <td>56.0</td>\n      <td>2184</td>\n      <td>306</td>\n      <td>1.43</td>\n      <td>3123</td>\n    </tr>\n    <tr>\n      <th>40</th>\n      <td>Other States</td>\n      <td>30</td>\n      <td>47.0</td>\n      <td>1418</td>\n      <td>351</td>\n      <td>4.65</td>\n      <td>6594</td>\n    </tr>\n  </tbody>\n</table>\n</div>"
     },
     "metadata": {},
     "execution_count": 3
    }
   ],
   "source": [
    "df1 = df1[df1['state']!='United States']\n",
    "df1.tail()"
   ]
  },
  {
   "cell_type": "code",
   "execution_count": null,
   "metadata": {},
   "outputs": [],
   "source": []
  },
  {
   "cell_type": "code",
   "execution_count": 4,
   "metadata": {},
   "outputs": [
    {
     "output_type": "stream",
     "name": "stdout",
     "text": [
      "(41, 4) (41,)\n"
     ]
    }
   ],
   "source": [
    "X = df1[['max_h_prod_cny', 'prod(1000_lbs)', 'prod_held_stocks', 'value_prod(1000_dollars)']]\n",
    "y = df1['yield/cny'].astype(int)\n",
    "print(X.shape, y.shape)"
   ]
  },
  {
   "cell_type": "code",
   "execution_count": 5,
   "metadata": {},
   "outputs": [],
   "source": [
    "X_train, X_test, y_train, y_test = train_test_split(X, y, random_state=5)"
   ]
  },
  {
   "cell_type": "code",
   "execution_count": 6,
   "metadata": {},
   "outputs": [],
   "source": [
    "# X_scaler = StandardScaler().fit(X_train)\n",
    "# X_train_scaled = X_scaler.transform(X_train)\n",
    "# X_test_scaled = X_scaler.transform(X_test)"
   ]
  },
  {
   "cell_type": "code",
   "execution_count": 7,
   "metadata": {},
   "outputs": [
    {
     "output_type": "execute_result",
     "data": {
      "text/plain": [
       "LogisticRegression(max_iter=10000)"
      ]
     },
     "metadata": {},
     "execution_count": 7
    }
   ],
   "source": [
    "classifier = LogisticRegression(max_iter = 10000)\n",
    "classifier"
   ]
  },
  {
   "cell_type": "code",
   "execution_count": 8,
   "metadata": {},
   "outputs": [],
   "source": [
    "lab_enc = preprocessing.LabelEncoder()\n",
    "encoded = lab_enc.fit_transform(y_train)\n",
    "#print(y_test)"
   ]
  },
  {
   "cell_type": "code",
   "execution_count": 9,
   "metadata": {},
   "outputs": [
    {
     "output_type": "stream",
     "name": "stderr",
     "text": [
      "C:\\Users\\Johne\\anaconda3\\lib\\site-packages\\sklearn\\linear_model\\_logistic.py:762: ConvergenceWarning: lbfgs failed to converge (status=1):\nSTOP: TOTAL NO. of ITERATIONS REACHED LIMIT.\n\nIncrease the number of iterations (max_iter) or scale the data as shown in:\n    https://scikit-learn.org/stable/modules/preprocessing.html\nPlease also refer to the documentation for alternative solver options:\n    https://scikit-learn.org/stable/modules/linear_model.html#logistic-regression\n  n_iter_i = _check_optimize_result(\n"
     ]
    },
    {
     "output_type": "execute_result",
     "data": {
      "text/plain": [
       "LogisticRegression(max_iter=10000)"
      ]
     },
     "metadata": {},
     "execution_count": 9
    }
   ],
   "source": [
    "classifier.fit(X_train, y_train)"
   ]
  },
  {
   "cell_type": "code",
   "execution_count": 10,
   "metadata": {},
   "outputs": [
    {
     "output_type": "stream",
     "name": "stdout",
     "text": [
      "Training Data Score: 0.9333333333333333\nTesting Data Score: 0.0\n"
     ]
    }
   ],
   "source": [
    "print(f\"Training Data Score: {classifier.score(X_train, y_train)}\")\n",
    "print(f\"Testing Data Score: {classifier.score(X_test, y_test)}\")"
   ]
  },
  {
   "cell_type": "code",
   "execution_count": 11,
   "metadata": {},
   "outputs": [
    {
     "output_type": "stream",
     "name": "stdout",
     "text": [
      "First 10 Predictions:   [65 39 47 46 47 29 55 39 67 29]\nFirst 10 Actual labels: [86, 28, 42, 48, 58, 33, 46, 47, 50, 45]\n"
     ]
    }
   ],
   "source": [
    "predictions = classifier.predict(X_test)\n",
    "print(f\"First 10 Predictions:   {predictions[:10]}\")\n",
    "print(f\"First 10 Actual labels: {y_test[:10].tolist()}\")"
   ]
  },
  {
   "cell_type": "code",
   "execution_count": 12,
   "metadata": {},
   "outputs": [
    {
     "output_type": "execute_result",
     "data": {
      "text/plain": [
       "    Prediction  Actual\n",
       "0           65      86\n",
       "1           39      28\n",
       "2           47      42\n",
       "3           46      48\n",
       "4           47      58\n",
       "5           29      33\n",
       "6           55      46\n",
       "7           39      47\n",
       "8           67      50\n",
       "9           29      45\n",
       "10          43      42"
      ],
      "text/html": "<div>\n<style scoped>\n    .dataframe tbody tr th:only-of-type {\n        vertical-align: middle;\n    }\n\n    .dataframe tbody tr th {\n        vertical-align: top;\n    }\n\n    .dataframe thead th {\n        text-align: right;\n    }\n</style>\n<table border=\"1\" class=\"dataframe\">\n  <thead>\n    <tr style=\"text-align: right;\">\n      <th></th>\n      <th>Prediction</th>\n      <th>Actual</th>\n    </tr>\n  </thead>\n  <tbody>\n    <tr>\n      <th>0</th>\n      <td>65</td>\n      <td>86</td>\n    </tr>\n    <tr>\n      <th>1</th>\n      <td>39</td>\n      <td>28</td>\n    </tr>\n    <tr>\n      <th>2</th>\n      <td>47</td>\n      <td>42</td>\n    </tr>\n    <tr>\n      <th>3</th>\n      <td>46</td>\n      <td>48</td>\n    </tr>\n    <tr>\n      <th>4</th>\n      <td>47</td>\n      <td>58</td>\n    </tr>\n    <tr>\n      <th>5</th>\n      <td>29</td>\n      <td>33</td>\n    </tr>\n    <tr>\n      <th>6</th>\n      <td>55</td>\n      <td>46</td>\n    </tr>\n    <tr>\n      <th>7</th>\n      <td>39</td>\n      <td>47</td>\n    </tr>\n    <tr>\n      <th>8</th>\n      <td>67</td>\n      <td>50</td>\n    </tr>\n    <tr>\n      <th>9</th>\n      <td>29</td>\n      <td>45</td>\n    </tr>\n    <tr>\n      <th>10</th>\n      <td>43</td>\n      <td>42</td>\n    </tr>\n  </tbody>\n</table>\n</div>"
     },
     "metadata": {},
     "execution_count": 12
    }
   ],
   "source": [
    "pd.DataFrame({\"Prediction\": predictions, \"Actual\": y_test}).reset_index(drop=True)"
   ]
  },
  {
   "cell_type": "code",
   "execution_count": null,
   "metadata": {},
   "outputs": [],
   "source": []
  }
 ]
}